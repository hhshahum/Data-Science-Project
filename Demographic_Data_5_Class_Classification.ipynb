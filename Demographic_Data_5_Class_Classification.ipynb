{
 "cells": [
  {
   "cell_type": "code",
   "execution_count": 1,
   "metadata": {},
   "outputs": [],
   "source": [
    "import pandas as pd\n",
    "import numpy as np\n",
    "import seaborn as sn\n",
    "import matplotlib.pyplot as plt\n",
    "from sklearn.svm import LinearSVC\n",
    "from sklearn.linear_model import LogisticRegression\n",
    "from sklearn.model_selection import train_test_split\n",
    "from sklearn import preprocessing\n",
    "from sklearn.tree import DecisionTreeClassifier\n",
    "from sklearn.metrics import accuracy_score\n",
    "from sklearn.naive_bayes import GaussianNB\n",
    "from sklearn.ensemble import RandomForestClassifier\n",
    "from sklearn.ensemble import GradientBoostingClassifier\n",
    "from sklearn.metrics import classification_report\n",
    "from sklearn.metrics import cohen_kappa_score\n",
    "import matplotlib.pyplot as plt"
   ]
  },
  {
   "cell_type": "code",
   "execution_count": 2,
   "metadata": {},
   "outputs": [],
   "source": [
    "df = pd.read_csv('final_combined_dataset.csv')"
   ]
  },
  {
   "cell_type": "code",
   "execution_count": 3,
   "metadata": {},
   "outputs": [],
   "source": [
    "xfeatures = ['G1.x','G3.x','school','sex','age','address','famsize','Pstatus','Medu','Fedu','Mjob','Fjob','reason','guardian.x','nursery','internet','famsup.x']"
   ]
  },
  {
   "cell_type": "code",
   "execution_count": 4,
   "metadata": {},
   "outputs": [],
   "source": [
    "yfeatures = ['G1.y','G3.y','school','sex','age','address','famsize','Pstatus','Medu','Fedu','Mjob','Fjob','reason','guardian.y','nursery','internet','famsup.y']"
   ]
  },
  {
   "cell_type": "code",
   "execution_count": 5,
   "metadata": {},
   "outputs": [],
   "source": [
    "keepcol = ['school', 'sex', 'age', 'address', 'famsize', 'Pstatus', 'Medu',\n",
    "       'Fedu', 'Mjob', 'Fjob', 'reason', 'nursery', 'internet', 'guardian.x',\n",
    "       'traveltime.x', 'studytime.x', 'failures.x', 'schoolsup.x', 'famsup.x',\n",
    "       'paid.x', 'activities.x', 'higher.x', 'romantic.x', 'famrel.x',\n",
    "       'freetime.x', 'goout.x', 'Dalc.x', 'Walc.x', 'health.x', 'absences.x',\n",
    "       'G1.x', 'G2.x', 'G3.x', 'guardian.y', 'traveltime.y', 'studytime.y',\n",
    "       'failures.y', 'schoolsup.y', 'famsup.y', 'paid.y', 'activities.y',\n",
    "       'higher.y', 'romantic.y', 'famrel.y', 'freetime.y', 'goout.y', 'Dalc.y',\n",
    "       'Walc.y', 'health.y', 'absences.y', 'G1.y', 'G2.y', 'G3.y']"
   ]
  },
  {
   "cell_type": "code",
   "execution_count": 6,
   "metadata": {},
   "outputs": [],
   "source": [
    "fildf = df.loc[:,keepcol]"
   ]
  },
  {
   "cell_type": "code",
   "execution_count": 7,
   "metadata": {},
   "outputs": [],
   "source": [
    "fildf_x = fildf.loc[:,xfeatures]"
   ]
  },
  {
   "cell_type": "code",
   "execution_count": 8,
   "metadata": {},
   "outputs": [],
   "source": [
    "fildf_y = fildf.loc[:,yfeatures]"
   ]
  },
  {
   "cell_type": "code",
   "execution_count": 9,
   "metadata": {},
   "outputs": [],
   "source": [
    "def convertmarks(mark):\n",
    "    if mark<10:\n",
    "        return 'F'\n",
    "    elif mark==10 or mark==11:\n",
    "        return 'D'\n",
    "    elif mark==12 or mark==13:\n",
    "        return 'C'\n",
    "    elif mark==14 or mark==15:\n",
    "        return'B'\n",
    "    else:\n",
    "        return 'A'"
   ]
  },
  {
   "cell_type": "code",
   "execution_count": 10,
   "metadata": {},
   "outputs": [],
   "source": [
    "newlist=[]\n",
    "for i in fildf_x['G1.x']:\n",
    "    x = convertmarks(i)\n",
    "    newlist.append(x)\n",
    "fildf_x['New G1'] = newlist"
   ]
  },
  {
   "cell_type": "code",
   "execution_count": 11,
   "metadata": {},
   "outputs": [
    {
     "data": {
      "text/plain": [
       "0      F\n",
       "1      F\n",
       "2      B\n",
       "3      D\n",
       "4      D\n",
       "      ..\n",
       "877    F\n",
       "878    C\n",
       "879    D\n",
       "880    C\n",
       "881    F\n",
       "Name: New G1, Length: 882, dtype: object"
      ]
     },
     "execution_count": 11,
     "metadata": {},
     "output_type": "execute_result"
    }
   ],
   "source": [
    "fildf_x['New G1']"
   ]
  },
  {
   "cell_type": "code",
   "execution_count": 12,
   "metadata": {},
   "outputs": [],
   "source": [
    "newlist=[]\n",
    "for i in fildf_y['G1.y']:\n",
    "    x = convertmarks(i)\n",
    "    newlist.append(x)\n",
    "fildf_y['New G1'] = newlist"
   ]
  },
  {
   "cell_type": "code",
   "execution_count": 13,
   "metadata": {},
   "outputs": [],
   "source": [
    "newlist=[]\n",
    "for i in fildf_x['G3.x']:\n",
    "    x = convertmarks(i)\n",
    "    newlist.append(x)\n",
    "fildf_x['New G3'] = newlist"
   ]
  },
  {
   "cell_type": "code",
   "execution_count": 14,
   "metadata": {},
   "outputs": [],
   "source": [
    "newlist=[]\n",
    "for i in fildf_y['G3.y']:\n",
    "    x = convertmarks(i)\n",
    "    newlist.append(x)\n",
    "fildf_y['New G3'] = newlist"
   ]
  },
  {
   "cell_type": "code",
   "execution_count": 15,
   "metadata": {},
   "outputs": [],
   "source": [
    "label_encoder = preprocessing.LabelEncoder()"
   ]
  },
  {
   "cell_type": "code",
   "execution_count": 16,
   "metadata": {},
   "outputs": [],
   "source": [
    "fildf_x['New G1']= label_encoder.fit_transform(fildf_x['New G1'])\n",
    "fildf_y['New G1']= label_encoder.fit_transform(fildf_y['New G1'])\n",
    "fildf_x['New G3']= label_encoder.fit_transform(fildf_x['New G3'])\n",
    "fildf_y['New G3']= label_encoder.fit_transform(fildf_y['New G3'])"
   ]
  },
  {
   "cell_type": "code",
   "execution_count": 17,
   "metadata": {},
   "outputs": [
    {
     "data": {
      "text/plain": [
       "0      4\n",
       "1      4\n",
       "2      1\n",
       "3      3\n",
       "4      3\n",
       "      ..\n",
       "877    4\n",
       "878    2\n",
       "879    3\n",
       "880    2\n",
       "881    4\n",
       "Name: New G1, Length: 882, dtype: int64"
      ]
     },
     "execution_count": 17,
     "metadata": {},
     "output_type": "execute_result"
    }
   ],
   "source": [
    "fildf_x['New G1']"
   ]
  },
  {
   "cell_type": "code",
   "execution_count": 18,
   "metadata": {},
   "outputs": [],
   "source": [
    "fildf_x = fildf_x.sample(frac=1,random_state=123)\n",
    "fildf_y = fildf_y.sample(frac=1,random_state=123)"
   ]
  },
  {
   "cell_type": "code",
   "execution_count": 19,
   "metadata": {},
   "outputs": [],
   "source": [
    "fildf_x = fildf_x.drop(['G1.x','G3.x'],axis=1)\n",
    "fildf_y = fildf_y.drop(['G1.y','G3.y'],axis=1)"
   ]
  },
  {
   "cell_type": "code",
   "execution_count": 20,
   "metadata": {},
   "outputs": [],
   "source": [
    "features_x_G3 = fildf_x.drop(['New G1','New G3'],axis=1)\n",
    "features_x_G1 = fildf_x.drop(['New G1','New G3'],axis=1)\n",
    "features_y_G3 = fildf_y.drop(['New G1','New G3'],axis=1)\n",
    "features_y_G1 = fildf_y.drop(['New G1','New G3'],axis=1)"
   ]
  },
  {
   "cell_type": "code",
   "execution_count": 21,
   "metadata": {},
   "outputs": [],
   "source": [
    "target_x_G3 = fildf_x['New G3']\n",
    "target_x_G1 = fildf_x['New G1']\n",
    "target_y_G3 = fildf_y['New G3']\n",
    "target_y_G1 = fildf_y['New G1']"
   ]
  },
  {
   "cell_type": "code",
   "execution_count": 22,
   "metadata": {},
   "outputs": [],
   "source": [
    "X_train_x_G1, X_test_x_G1, y_train_x_G1, y_test_x_G1 = train_test_split(features_x_G1, target_x_G1, test_size=0.25, random_state=0)\n",
    "X_train_y_G1, X_test_y_G1, y_train_y_G1, y_test_y_G1 = train_test_split(features_y_G1, target_y_G1, test_size=0.25, random_state=0)"
   ]
  },
  {
   "cell_type": "code",
   "execution_count": 23,
   "metadata": {},
   "outputs": [],
   "source": [
    "X_train_x_G3, X_test_x_G3, y_train_x_G3, y_test_x_G3 = train_test_split(features_x_G3, target_x_G3, test_size=0.25, random_state=0)\n",
    "X_train_y_G3, X_test_y_G3, y_train_y_G3, y_test_y_G3 = train_test_split(features_y_G3, target_y_G3, test_size=0.25, random_state=0)"
   ]
  },
  {
   "cell_type": "markdown",
   "metadata": {},
   "source": [
    "### Naive Bayes"
   ]
  },
  {
   "cell_type": "code",
   "execution_count": 24,
   "metadata": {},
   "outputs": [],
   "source": [
    "clf = GaussianNB()"
   ]
  },
  {
   "cell_type": "code",
   "execution_count": 25,
   "metadata": {},
   "outputs": [
    {
     "name": "stdout",
     "output_type": "stream",
     "text": [
      "              precision    recall  f1-score   support\n",
      "\n",
      "           0       0.00      0.00      0.00         5\n",
      "           1       0.00      0.00      0.00         1\n",
      "           2       0.76      0.46      0.57       171\n",
      "           3       0.06      0.08      0.07        25\n",
      "           4       0.14      0.42      0.21        19\n",
      "\n",
      "    accuracy                           0.40       221\n",
      "   macro avg       0.19      0.19      0.17       221\n",
      "weighted avg       0.60      0.40      0.47       221\n",
      "\n",
      "Kappa Score: -0.007921267402784427\n"
     ]
    }
   ],
   "source": [
    "clf.fit(X_train_x_G1,y_train_x_G1)\n",
    "y_pred_x_G1= clf.predict(X_test_x_G1)\n",
    "y_pred_x_G1_Prob = clf.predict_proba(X_test_x_G1)\n",
    "print(classification_report(y_pred_x_G1,y_test_x_G1))\n",
    "print(\"Kappa Score: \" +str(cohen_kappa_score(y_pred_x_G1,y_test_x_G1)))"
   ]
  },
  {
   "cell_type": "code",
   "execution_count": 26,
   "metadata": {},
   "outputs": [
    {
     "name": "stdout",
     "output_type": "stream",
     "text": [
      "              precision    recall  f1-score   support\n",
      "\n",
      "           0       0.17      0.15      0.16        13\n",
      "           1       0.13      0.08      0.10        24\n",
      "           2       0.64      0.46      0.54       140\n",
      "           3       0.00      0.00      0.00        11\n",
      "           4       0.17      0.36      0.23        33\n",
      "\n",
      "    accuracy                           0.37       221\n",
      "   macro avg       0.22      0.21      0.21       221\n",
      "weighted avg       0.45      0.37      0.40       221\n",
      "\n",
      "Kappa Score: 0.01687267643227086\n"
     ]
    }
   ],
   "source": [
    "clf.fit(X_train_x_G3,y_train_x_G3)\n",
    "y_pred_x_G3= clf.predict(X_test_x_G3)\n",
    "y_pred_x_G3_Prob = clf.predict_proba(X_test_x_G3)\n",
    "print(classification_report(y_pred_x_G3,y_test_x_G3))\n",
    "print(\"Kappa Score: \" +str(cohen_kappa_score(y_pred_x_G3,y_test_x_G3)))"
   ]
  },
  {
   "cell_type": "code",
   "execution_count": 27,
   "metadata": {},
   "outputs": [
    {
     "name": "stdout",
     "output_type": "stream",
     "text": [
      "              precision    recall  f1-score   support\n",
      "\n",
      "           0       0.70      0.04      0.07       193\n",
      "           1       0.00      0.00      0.00         0\n",
      "           2       0.00      0.00      0.00         0\n",
      "           3       0.09      0.33      0.14        15\n",
      "           4       0.31      0.31      0.31        13\n",
      "\n",
      "    accuracy                           0.07       221\n",
      "   macro avg       0.22      0.14      0.10       221\n",
      "weighted avg       0.64      0.07      0.09       221\n",
      "\n",
      "Kappa Score: 0.013328396890040728\n"
     ]
    },
    {
     "name": "stderr",
     "output_type": "stream",
     "text": [
      "/opt/anaconda3/lib/python3.7/site-packages/sklearn/metrics/_classification.py:1272: UndefinedMetricWarning: Recall and F-score are ill-defined and being set to 0.0 in labels with no true samples. Use `zero_division` parameter to control this behavior.\n",
      "  _warn_prf(average, modifier, msg_start, len(result))\n"
     ]
    }
   ],
   "source": [
    "clf.fit(X_train_y_G1,y_train_y_G1)\n",
    "y_pred_y_G1 = clf.predict(X_test_y_G1)\n",
    "print(classification_report(y_pred_y_G1,y_test_y_G1))\n",
    "print(\"Kappa Score: \" +str(cohen_kappa_score(y_pred_y_G1,y_test_y_G1)))"
   ]
  },
  {
   "cell_type": "code",
   "execution_count": 28,
   "metadata": {},
   "outputs": [
    {
     "name": "stdout",
     "output_type": "stream",
     "text": [
      "              precision    recall  f1-score   support\n",
      "\n",
      "           0       0.00      0.00      0.00         6\n",
      "           1       0.40      0.29      0.33        66\n",
      "           2       0.54      0.46      0.50       110\n",
      "           3       0.27      0.48      0.35        29\n",
      "           4       0.30      0.30      0.30        10\n",
      "\n",
      "    accuracy                           0.39       221\n",
      "   macro avg       0.30      0.31      0.30       221\n",
      "weighted avg       0.44      0.39      0.41       221\n",
      "\n",
      "Kappa Score: 0.11710691073877522\n"
     ]
    }
   ],
   "source": [
    "clf.fit(X_train_y_G3,y_train_y_G3)\n",
    "y_pred_y_G3 = clf.predict(X_test_y_G3)\n",
    "print(classification_report(y_pred_y_G3,y_test_y_G3))\n",
    "print(\"Kappa Score: \" +str(cohen_kappa_score(y_pred_y_G3,y_test_y_G3)))"
   ]
  },
  {
   "cell_type": "markdown",
   "metadata": {},
   "source": [
    "### Decision Tree Classfier"
   ]
  },
  {
   "cell_type": "code",
   "execution_count": 29,
   "metadata": {},
   "outputs": [],
   "source": [
    "dtc = DecisionTreeClassifier()"
   ]
  },
  {
   "cell_type": "code",
   "execution_count": 30,
   "metadata": {},
   "outputs": [
    {
     "name": "stdout",
     "output_type": "stream",
     "text": [
      "              precision    recall  f1-score   support\n",
      "\n",
      "           0       0.10      0.06      0.08        16\n",
      "           1       0.21      0.23      0.22        13\n",
      "           2       0.51      0.54      0.53        98\n",
      "           3       0.22      0.18      0.20        44\n",
      "           4       0.29      0.34      0.31        50\n",
      "\n",
      "    accuracy                           0.37       221\n",
      "   macro avg       0.27      0.27      0.27       221\n",
      "weighted avg       0.36      0.37      0.36       221\n",
      "\n",
      "Kappa Score: 0.09439580201055398\n",
      "\t\n",
      "Feature reason and its importance is 0.12477309705880404\n",
      "Feature age and its importance is 0.12151714115142989\n",
      "Feature Mjob and its importance is 0.1094148778619019\n",
      "Feature Medu and its importance is 0.10491673816443386\n",
      "Feature Fedu and its importance is 0.08260407383482453\n",
      "Feature Fjob and its importance is 0.08223638611994476\n",
      "Feature sex and its importance is 0.07157798466514721\n",
      "Feature nursery and its importance is 0.056751766057327103\n",
      "Feature famsize and its importance is 0.04694301247370191\n",
      "Feature famsup.x and its importance is 0.04668760916970047\n",
      "Feature guardian.x and its importance is 0.04244369277993061\n",
      "Feature address and its importance is 0.034979080318186584\n",
      "Feature Pstatus and its importance is 0.03453308683973001\n",
      "Feature school and its importance is 0.02310789091431354\n",
      "Feature internet and its importance is 0.017513562590623623\n"
     ]
    },
    {
     "data": {
      "text/plain": [
       "([<matplotlib.axis.XTick at 0x7f82d7a7d510>,\n",
       "  <matplotlib.axis.XTick at 0x7f82d7300450>,\n",
       "  <matplotlib.axis.XTick at 0x7f82d728a310>,\n",
       "  <matplotlib.axis.XTick at 0x7f82d7add510>,\n",
       "  <matplotlib.axis.XTick at 0x7f82d7adda50>,\n",
       "  <matplotlib.axis.XTick at 0x7f82d7addb50>,\n",
       "  <matplotlib.axis.XTick at 0x7f82d7aeb5d0>,\n",
       "  <matplotlib.axis.XTick at 0x7f82d7aebb50>,\n",
       "  <matplotlib.axis.XTick at 0x7f82d7aeb310>,\n",
       "  <matplotlib.axis.XTick at 0x7f82d7aeb890>,\n",
       "  <matplotlib.axis.XTick at 0x7f82d7add750>,\n",
       "  <matplotlib.axis.XTick at 0x7f82d7af3850>,\n",
       "  <matplotlib.axis.XTick at 0x7f82d7af3dd0>,\n",
       "  <matplotlib.axis.XTick at 0x7f82d7afa390>,\n",
       "  <matplotlib.axis.XTick at 0x7f82d7afa910>],\n",
       " <a list of 15 Text xticklabel objects>)"
      ]
     },
     "execution_count": 30,
     "metadata": {},
     "output_type": "execute_result"
    },
    {
     "data": {
      "image/png": "[encoded data removed]",
      "text/plain": [
       "<Figure size 432x288 with 1 Axes>"
      ]
     },
     "metadata": {
      "needs_background": "light"
     },
     "output_type": "display_data"
    }
   ],
   "source": [
    "imp_dict={}\n",
    "dtc.fit(X_train_x_G1,y_train_x_G1)\n",
    "y_pred_x_G1= dtc.predict(X_test_x_G1)\n",
    "print(classification_report(y_pred_x_G1,y_test_x_G1))\n",
    "print(\"Kappa Score: \" +str(cohen_kappa_score(y_pred_x_G1,y_test_x_G1)))\n",
    "print(\"\\t\")\n",
    "for importance, name in sorted(zip(dtc.feature_importances_, X_train_x_G1.columns),reverse=True):\n",
    "    imp_dict[name] = importance\n",
    "    print('Feature '+name+ ' and its importance is '+str(importance))\n",
    "plt.bar(range(len(imp_dict)), list(imp_dict.values()), align='center')\n",
    "plt.xticks(range(len(imp_dict)), list(imp_dict.keys()),rotation=90)"
   ]
  },
  {
   "cell_type": "code",
   "execution_count": 31,
   "metadata": {},
   "outputs": [
    {
     "name": "stdout",
     "output_type": "stream",
     "text": [
      "              precision    recall  f1-score   support\n",
      "\n",
      "           0       0.25      0.33      0.29         9\n",
      "           1       0.00      0.00      0.00        11\n",
      "           2       0.47      0.54      0.50        89\n",
      "           3       0.24      0.15      0.19        33\n",
      "           4       0.42      0.38      0.40        79\n",
      "\n",
      "    accuracy                           0.39       221\n",
      "   macro avg       0.28      0.28      0.27       221\n",
      "weighted avg       0.39      0.39      0.38       221\n",
      "\n",
      "Kappa Score: 0.1010304929492587\n",
      "\t\n",
      "Feature reason and its importance is 0.12616376618368028\n",
      "Feature Medu and its importance is 0.11403255668025428\n",
      "Feature Fjob and its importance is 0.10881226876258418\n",
      "Feature age and its importance is 0.1043357846827644\n",
      "Feature Fedu and its importance is 0.06697782353856226\n",
      "Feature Mjob and its importance is 0.06664027601714745\n",
      "Feature guardian.x and its importance is 0.06632474002494713\n",
      "Feature address and its importance is 0.06370106751086733\n",
      "Feature sex and its importance is 0.06157023120387814\n",
      "Feature famsup.x and its importance is 0.053760961345991606\n",
      "Feature famsize and its importance is 0.042564834275104164\n",
      "Feature Pstatus and its importance is 0.03678651742024062\n",
      "Feature nursery and its importance is 0.034814753856379235\n",
      "Feature school and its importance is 0.029199431325668303\n",
      "Feature internet and its importance is 0.024314987171930817\n"
     ]
    },
    {
     "data": {
      "text/plain": [
       "([<matplotlib.axis.XTick at 0x7f82d7bd3ad0>,\n",
       "  <matplotlib.axis.XTick at 0x7f82d7be9490>,\n",
       "  <matplotlib.axis.XTick at 0x7f82d7be9350>,\n",
       "  <matplotlib.axis.XTick at 0x7f82d7b4e950>,\n",
       "  <matplotlib.axis.XTick at 0x7f82d7ca3690>,\n",
       "  <matplotlib.axis.XTick at 0x7f82d7ca3cd0>,\n",
       "  <matplotlib.axis.XTick at 0x7f82d7cad390>,\n",
       "  <matplotlib.axis.XTick at 0x7f82d7cad9d0>,\n",
       "  <matplotlib.axis.XTick at 0x7f82d7cad610>,\n",
       "  <matplotlib.axis.XTick at 0x7f82d7cb2690>,\n",
       "  <matplotlib.axis.XTick at 0x7f82d7cb2c90>,\n",
       "  <matplotlib.axis.XTick at 0x7f82d7cba310>,\n",
       "  <matplotlib.axis.XTick at 0x7f82d7cadf10>,\n",
       "  <matplotlib.axis.XTick at 0x7f82d7ca3c50>,\n",
       "  <matplotlib.axis.XTick at 0x7f82d7cba150>],\n",
       " <a list of 15 Text xticklabel objects>)"
      ]
     },
     "execution_count": 31,
     "metadata": {},
     "output_type": "execute_result"
    },
    {
     "data": {
      "image/png": "[encoded data removed]",
      "text/plain": [
       "<Figure size 432x288 with 1 Axes>"
      ]
     },
     "metadata": {
      "needs_background": "light"
     },
     "output_type": "display_data"
    }
   ],
   "source": [
    "imp_dict={}\n",
    "dtc.fit(X_train_x_G3,y_train_x_G3)\n",
    "y_pred_x_G3= dtc.predict(X_test_x_G3)\n",
    "print(classification_report(y_pred_x_G3,y_test_x_G3))\n",
    "print(\"Kappa Score: \" +str(cohen_kappa_score(y_pred_x_G3,y_test_x_G3)))\n",
    "print(\"\\t\")\n",
    "for importance, name in sorted(zip(dtc.feature_importances_, X_train_x_G3.columns),reverse=True):\n",
    "    imp_dict[name] = importance\n",
    "    print('Feature '+name+ ' and its importance is '+str(importance))\n",
    "plt.bar(range(len(imp_dict)), list(imp_dict.values()), align='center')\n",
    "plt.xticks(range(len(imp_dict)), list(imp_dict.keys()),rotation=90)"
   ]
  },
  {
   "cell_type": "code",
   "execution_count": 32,
   "metadata": {},
   "outputs": [
    {
     "name": "stdout",
     "output_type": "stream",
     "text": [
      "              precision    recall  f1-score   support\n",
      "\n",
      "           0       0.20      0.20      0.20        10\n",
      "           1       0.10      0.12      0.11        26\n",
      "           2       0.52      0.48      0.50       123\n",
      "           3       0.20      0.22      0.21        50\n",
      "           4       0.00      0.00      0.00        12\n",
      "\n",
      "    accuracy                           0.34       221\n",
      "   macro avg       0.20      0.20      0.20       221\n",
      "weighted avg       0.36      0.34      0.35       221\n",
      "\n",
      "Kappa Score: -0.03562716651688258\n",
      "\t\n",
      "Feature Mjob and its importance is 0.14151984487420505\n",
      "Feature Fedu and its importance is 0.11781412526891358\n",
      "Feature age and its importance is 0.11122186148906595\n",
      "Feature reason and its importance is 0.10912622499577508\n",
      "Feature guardian.y and its importance is 0.08033139012048236\n",
      "Feature Medu and its importance is 0.07974412494009735\n",
      "Feature Fjob and its importance is 0.07392775944456202\n",
      "Feature famsup.y and its importance is 0.055271134771888164\n",
      "Feature nursery and its importance is 0.05198050317403148\n",
      "Feature famsize and its importance is 0.043080122080815464\n",
      "Feature address and its importance is 0.04114876044152898\n",
      "Feature internet and its importance is 0.0335561901628592\n",
      "Feature Pstatus and its importance is 0.026148865289236142\n",
      "Feature sex and its importance is 0.021725697730443687\n",
      "Feature school and its importance is 0.013403395216095466\n"
     ]
    },
    {
     "data": {
      "text/plain": [
       "([<matplotlib.axis.XTick at 0x7f82d7d76150>,\n",
       "  <matplotlib.axis.XTick at 0x7f82d7d74b10>,\n",
       "  <matplotlib.axis.XTick at 0x7f82d7d74850>,\n",
       "  <matplotlib.axis.XTick at 0x7f82d7d0f510>,\n",
       "  <matplotlib.axis.XTick at 0x7f82d7d0fa50>,\n",
       "  <matplotlib.axis.XTick at 0x7f82d7d0fe10>,\n",
       "  <matplotlib.axis.XTick at 0x7f82d7d17710>,\n",
       "  <matplotlib.axis.XTick at 0x7f82d7d17d50>,\n",
       "  <matplotlib.axis.XTick at 0x7f82d7e123d0>,\n",
       "  <matplotlib.axis.XTick at 0x7f82d7e12a10>,\n",
       "  <matplotlib.axis.XTick at 0x7f82d7e12050>,\n",
       "  <matplotlib.axis.XTick at 0x7f82d7e1a690>,\n",
       "  <matplotlib.axis.XTick at 0x7f82d7e1acd0>,\n",
       "  <matplotlib.axis.XTick at 0x7f82d7e12ad0>,\n",
       "  <matplotlib.axis.XTick at 0x7f82d7d17690>],\n",
       " <a list of 15 Text xticklabel objects>)"
      ]
     },
     "execution_count": 32,
     "metadata": {},
     "output_type": "execute_result"
    },
    {
     "data": {
      "image/png": "[encoded data removed]",
      "text/plain": [
       "<Figure size 432x288 with 1 Axes>"
      ]
     },
     "metadata": {
      "needs_background": "light"
     },
     "output_type": "display_data"
    }
   ],
   "source": [
    "imp_dict={}\n",
    "dtc.fit(X_train_y_G1,y_train_y_G1)\n",
    "y_pred_y_G1 = dtc.predict(X_test_y_G1)\n",
    "print(classification_report(y_pred_y_G1,y_test_y_G1))\n",
    "print(\"Kappa Score: \" +str(cohen_kappa_score(y_pred_y_G1,y_test_y_G1)))\n",
    "print(\"\\t\")\n",
    "for importance, name in sorted(zip(dtc.feature_importances_, X_train_y_G1.columns),reverse=True):\n",
    "    imp_dict[name] = importance\n",
    "    print ('Feature '+name+ ' and its importance is '+str(importance))\n",
    "plt.bar(range(len(imp_dict)), list(imp_dict.values()), align='center')\n",
    "plt.xticks(range(len(imp_dict)), list(imp_dict.keys()),rotation=90)"
   ]
  },
  {
   "cell_type": "code",
   "execution_count": 33,
   "metadata": {},
   "outputs": [
    {
     "name": "stdout",
     "output_type": "stream",
     "text": [
      "              precision    recall  f1-score   support\n",
      "\n",
      "           0       0.06      0.07      0.06        14\n",
      "           1       0.19      0.18      0.19        49\n",
      "           2       0.46      0.44      0.45        99\n",
      "           3       0.25      0.26      0.26        50\n",
      "           4       0.10      0.11      0.11         9\n",
      "\n",
      "    accuracy                           0.31       221\n",
      "   macro avg       0.21      0.21      0.21       221\n",
      "weighted avg       0.31      0.31      0.31       221\n",
      "\n",
      "Kappa Score: 0.011489212418873906\n",
      "\t\n",
      "Feature reason and its importance is 0.1315435026003183\n",
      "Feature age and its importance is 0.1256173435143909\n",
      "Feature Fjob and its importance is 0.11319629309961655\n",
      "Feature Mjob and its importance is 0.11188809237886051\n",
      "Feature Medu and its importance is 0.09772654668620179\n",
      "Feature Fedu and its importance is 0.08042986983251589\n",
      "Feature guardian.y and its importance is 0.06471980017794152\n",
      "Feature famsup.y and its importance is 0.05361122417644142\n",
      "Feature nursery and its importance is 0.051143653161160686\n",
      "Feature famsize and its importance is 0.05091157388893813\n",
      "Feature internet and its importance is 0.0319098699551897\n",
      "Feature address and its importance is 0.03147408881666531\n",
      "Feature Pstatus and its importance is 0.026452583171869236\n",
      "Feature school and its importance is 0.014870439860029923\n",
      "Feature sex and its importance is 0.014505118679860244\n"
     ]
    },
    {
     "data": {
      "text/plain": [
       "([<matplotlib.axis.XTick at 0x7f82d8019910>,\n",
       "  <matplotlib.axis.XTick at 0x7f82d8019310>,\n",
       "  <matplotlib.axis.XTick at 0x7f82d80191d0>,\n",
       "  <matplotlib.axis.XTick at 0x7f82d7e69d50>,\n",
       "  <matplotlib.axis.XTick at 0x7f82d7e77290>,\n",
       "  <matplotlib.axis.XTick at 0x7f82d7e77890>,\n",
       "  <matplotlib.axis.XTick at 0x7f82d7e77f10>,\n",
       "  <matplotlib.axis.XTick at 0x7f82d7e7b590>,\n",
       "  <matplotlib.axis.XTick at 0x7f82d7e7bbd0>,\n",
       "  <matplotlib.axis.XTick at 0x7f82d7e83250>,\n",
       "  <matplotlib.axis.XTick at 0x7f82d7e83850>,\n",
       "  <matplotlib.axis.XTick at 0x7f82d7e83e90>,\n",
       "  <matplotlib.axis.XTick at 0x7f82d7e83590>,\n",
       "  <matplotlib.axis.XTick at 0x7f82d7e7b610>,\n",
       "  <matplotlib.axis.XTick at 0x7f82d7e893d0>],\n",
       " <a list of 15 Text xticklabel objects>)"
      ]
     },
     "execution_count": 33,
     "metadata": {},
     "output_type": "execute_result"
    },
    {
     "data": {
      "image/png": "[encoded data removed]",
      "text/plain": [
       "<Figure size 432x288 with 1 Axes>"
      ]
     },
     "metadata": {
      "needs_background": "light"
     },
     "output_type": "display_data"
    }
   ],
   "source": [
    "imp_dict={}\n",
    "dtc.fit(X_train_y_G3,y_train_y_G3)\n",
    "y_pred_y_G3 = dtc.predict(X_test_y_G3)\n",
    "print(classification_report(y_pred_y_G3,y_test_y_G3))\n",
    "print(\"Kappa Score: \" +str(cohen_kappa_score(y_pred_y_G3,y_test_y_G3)))\n",
    "print(\"\\t\")\n",
    "for importance, name in sorted(zip(dtc.feature_importances_, X_train_y_G3.columns),reverse=True):\n",
    "    imp_dict[name] = importance\n",
    "    print ('Feature '+name+ ' and its importance is '+str(importance))\n",
    "plt.bar(range(len(imp_dict)), list(imp_dict.values()), align='center')\n",
    "plt.xticks(range(len(imp_dict)), list(imp_dict.keys()),rotation=90)"
   ]
  },
  {
   "cell_type": "markdown",
   "metadata": {},
   "source": [
    "### Random Forest"
   ]
  },
  {
   "cell_type": "code",
   "execution_count": 34,
   "metadata": {},
   "outputs": [],
   "source": [
    "rf = RandomForestClassifier()"
   ]
  },
  {
   "cell_type": "code",
   "execution_count": 35,
   "metadata": {},
   "outputs": [
    {
     "name": "stdout",
     "output_type": "stream",
     "text": [
      "              precision    recall  f1-score   support\n",
      "\n",
      "           0       0.20      0.40      0.27         5\n",
      "           1       0.07      0.50      0.12         2\n",
      "           2       0.88      0.54      0.67       168\n",
      "           3       0.08      0.23      0.12        13\n",
      "           4       0.28      0.48      0.35        33\n",
      "\n",
      "    accuracy                           0.51       221\n",
      "   macro avg       0.30      0.43      0.31       221\n",
      "weighted avg       0.72      0.51      0.58       221\n",
      "\n",
      "Kappa Score: 0.17914502871685523\n",
      "\t\n",
      "Feature age and its importance is 0.11811880288040935\n",
      "Feature Mjob and its importance is 0.11064451078858159\n",
      "Feature Fedu and its importance is 0.10993535915653038\n",
      "Feature Medu and its importance is 0.10271474032446687\n",
      "Feature reason and its importance is 0.10219252183458478\n",
      "Feature Fjob and its importance is 0.09671951026289986\n",
      "Feature guardian.x and its importance is 0.05536277638275982\n",
      "Feature famsup.x and its importance is 0.05024816917272837\n",
      "Feature famsize and its importance is 0.04726005427038001\n",
      "Feature sex and its importance is 0.04631618537459821\n",
      "Feature address and its importance is 0.040386619613026864\n",
      "Feature nursery and its importance is 0.036423837606746313\n",
      "Feature internet and its importance is 0.032138214062249836\n",
      "Feature Pstatus and its importance is 0.027259303296007193\n",
      "Feature school and its importance is 0.024279394974030668\n"
     ]
    },
    {
     "data": {
      "text/plain": [
       "([<matplotlib.axis.XTick at 0x7f82d80ffb90>,\n",
       "  <matplotlib.axis.XTick at 0x7f82d80ff0d0>,\n",
       "  <matplotlib.axis.XTick at 0x7f82d80ff210>,\n",
       "  <matplotlib.axis.XTick at 0x7f82d8af4dd0>,\n",
       "  <matplotlib.axis.XTick at 0x7f82d8b01310>,\n",
       "  <matplotlib.axis.XTick at 0x7f82d8b01910>,\n",
       "  <matplotlib.axis.XTick at 0x7f82d8b017d0>,\n",
       "  <matplotlib.axis.XTick at 0x7f82d8b07610>,\n",
       "  <matplotlib.axis.XTick at 0x7f82d8b01e90>,\n",
       "  <matplotlib.axis.XTick at 0x7f82d8b07510>,\n",
       "  <matplotlib.axis.XTick at 0x7f82d8b0e190>,\n",
       "  <matplotlib.axis.XTick at 0x7f82d8b0e790>,\n",
       "  <matplotlib.axis.XTick at 0x7f82d8b0edd0>,\n",
       "  <matplotlib.axis.XTick at 0x7f82d8b14450>,\n",
       "  <matplotlib.axis.XTick at 0x7f82d8b14a90>],\n",
       " <a list of 15 Text xticklabel objects>)"
      ]
     },
     "execution_count": 35,
     "metadata": {},
     "output_type": "execute_result"
    },
    {
     "data": {
      "image/png": "[encoded data removed]",
      "text/plain": [
       "<Figure size 432x288 with 1 Axes>"
      ]
     },
     "metadata": {
      "needs_background": "light"
     },
     "output_type": "display_data"
    }
   ],
   "source": [
    "imp_dict={}\n",
    "rf.fit(X_train_x_G1,y_train_x_G1)\n",
    "y_pred_x_G1= rf.predict(X_test_x_G1)\n",
    "print(classification_report(y_pred_x_G1,y_test_x_G1))\n",
    "print(\"Kappa Score: \" +str(cohen_kappa_score(y_pred_x_G1,y_test_x_G1)))\n",
    "print(\"\\t\")\n",
    "for importance, name in sorted(zip(rf.feature_importances_, X_train_x_G1.columns),reverse=True):\n",
    "    imp_dict[name] = importance\n",
    "    print('Feature '+name+ ' and its importance is '+str(importance))\n",
    "plt.bar(range(len(imp_dict)), list(imp_dict.values()), align='center')\n",
    "plt.xticks(range(len(imp_dict)), list(imp_dict.keys()),rotation=90)"
   ]
  },
  {
   "cell_type": "code",
   "execution_count": 36,
   "metadata": {
    "scrolled": true
   },
   "outputs": [
    {
     "name": "stdout",
     "output_type": "stream",
     "text": [
      "              precision    recall  f1-score   support\n",
      "\n",
      "           0       0.25      0.75      0.38         4\n",
      "           1       0.07      0.25      0.11         4\n",
      "           2       0.79      0.54      0.65       149\n",
      "           3       0.05      0.25      0.08         4\n",
      "           4       0.35      0.42      0.38        60\n",
      "\n",
      "    accuracy                           0.50       221\n",
      "   macro avg       0.30      0.44      0.32       221\n",
      "weighted avg       0.64      0.50      0.55       221\n",
      "\n",
      "Kappa Score: 0.1672090712890959\n",
      "\t\n",
      "Feature age and its importance is 0.11885755048633437\n",
      "Feature Mjob and its importance is 0.11149584214162751\n",
      "Feature Medu and its importance is 0.10268868532025674\n",
      "Feature reason and its importance is 0.10191143536273403\n",
      "Feature Fedu and its importance is 0.1012051279945081\n",
      "Feature Fjob and its importance is 0.09653591098619241\n",
      "Feature guardian.x and its importance is 0.05731087845168506\n",
      "Feature sex and its importance is 0.05086872206658369\n",
      "Feature famsup.x and its importance is 0.049913171533786056\n",
      "Feature famsize and its importance is 0.046440677246544514\n",
      "Feature nursery and its importance is 0.04185291823384648\n",
      "Feature address and its importance is 0.039906376071003155\n",
      "Feature internet and its importance is 0.030069142251769095\n",
      "Feature school and its importance is 0.025968599579539942\n",
      "Feature Pstatus and its importance is 0.024974962273588586\n"
     ]
    },
    {
     "data": {
      "text/plain": [
       "([<matplotlib.axis.XTick at 0x7f82d80e8850>,\n",
       "  <matplotlib.axis.XTick at 0x7f82d82ab1d0>,\n",
       "  <matplotlib.axis.XTick at 0x7f82d8b386d0>,\n",
       "  <matplotlib.axis.XTick at 0x7f82d83aba90>,\n",
       "  <matplotlib.axis.XTick at 0x7f82d83b7590>,\n",
       "  <matplotlib.axis.XTick at 0x7f82d83b7bd0>,\n",
       "  <matplotlib.axis.XTick at 0x7f82d83be2d0>,\n",
       "  <matplotlib.axis.XTick at 0x7f82d83be6d0>,\n",
       "  <matplotlib.axis.XTick at 0x7f82d83bee10>,\n",
       "  <matplotlib.axis.XTick at 0x7f82d83c5490>,\n",
       "  <matplotlib.axis.XTick at 0x7f82d83c5a90>,\n",
       "  <matplotlib.axis.XTick at 0x7f82d83cc050>,\n",
       "  <matplotlib.axis.XTick at 0x7f82d83c5250>,\n",
       "  <matplotlib.axis.XTick at 0x7f82d83be950>,\n",
       "  <matplotlib.axis.XTick at 0x7f82d83cc2d0>],\n",
       " <a list of 15 Text xticklabel objects>)"
      ]
     },
     "execution_count": 36,
     "metadata": {},
     "output_type": "execute_result"
    },
    {
     "data": {
      "image/png": "[encoded data removed]",
      "text/plain": [
       "<Figure size 432x288 with 1 Axes>"
      ]
     },
     "metadata": {
      "needs_background": "light"
     },
     "output_type": "display_data"
    }
   ],
   "source": [
    "imp_dict={}\n",
    "rf.fit(X_train_x_G3,y_train_x_G3)\n",
    "y_pred_x_G3= rf.predict(X_test_x_G3)\n",
    "print(classification_report(y_pred_x_G3,y_test_x_G3))\n",
    "print(\"Kappa Score: \" +str(cohen_kappa_score(y_pred_x_G3,y_test_x_G3)))\n",
    "print(\"\\t\")\n",
    "for importance, name in sorted(zip(rf.feature_importances_, X_train_x_G3.columns),reverse=True):\n",
    "    imp_dict[name] = importance\n",
    "    print('Feature '+name+ ' and its importance is '+str(importance))\n",
    "plt.bar(range(len(imp_dict)), list(imp_dict.values()), align='center')\n",
    "plt.xticks(range(len(imp_dict)), list(imp_dict.keys()),rotation=90)"
   ]
  },
  {
   "cell_type": "code",
   "execution_count": 37,
   "metadata": {},
   "outputs": [
    {
     "name": "stdout",
     "output_type": "stream",
     "text": [
      "              precision    recall  f1-score   support\n",
      "\n",
      "           0       0.10      0.50      0.17         2\n",
      "           1       0.03      0.25      0.06         4\n",
      "           2       0.83      0.51      0.64       183\n",
      "           3       0.15      0.27      0.19        30\n",
      "           4       0.00      0.00      0.00         2\n",
      "\n",
      "    accuracy                           0.47       221\n",
      "   macro avg       0.22      0.31      0.21       221\n",
      "weighted avg       0.71      0.47      0.55       221\n",
      "\n",
      "Kappa Score: 0.018560692325210626\n",
      "\t\n",
      "Feature age and its importance is 0.12088490341518239\n",
      "Feature Fedu and its importance is 0.10981206172881722\n",
      "Feature Mjob and its importance is 0.10861856747257173\n",
      "Feature Medu and its importance is 0.10021724557054479\n",
      "Feature reason and its importance is 0.0995799908024824\n",
      "Feature Fjob and its importance is 0.09823668724931876\n",
      "Feature guardian.y and its importance is 0.06256415078767834\n",
      "Feature famsup.y and its importance is 0.050916080919251844\n",
      "Feature famsize and its importance is 0.04264740557812653\n",
      "Feature address and its importance is 0.03884897058683645\n",
      "Feature sex and its importance is 0.03852138972032755\n",
      "Feature nursery and its importance is 0.03684958765476951\n",
      "Feature internet and its importance is 0.035333599358300494\n",
      "Feature school and its importance is 0.030430113197093836\n",
      "Feature Pstatus and its importance is 0.026539245958697985\n"
     ]
    },
    {
     "data": {
      "text/plain": [
       "([<matplotlib.axis.XTick at 0x7f82d8b38310>,\n",
       "  <matplotlib.axis.XTick at 0x7f82d847cc50>,\n",
       "  <matplotlib.axis.XTick at 0x7f82d847cbd0>,\n",
       "  <matplotlib.axis.XTick at 0x7f82d840be90>,\n",
       "  <matplotlib.axis.XTick at 0x7f82d8416450>,\n",
       "  <matplotlib.axis.XTick at 0x7f82d8416a50>,\n",
       "  <matplotlib.axis.XTick at 0x7f82d8416f90>,\n",
       "  <matplotlib.axis.XTick at 0x7f82d841e2d0>,\n",
       "  <matplotlib.axis.XTick at 0x7f82d841e910>,\n",
       "  <matplotlib.axis.XTick at 0x7f82d841e7d0>,\n",
       "  <matplotlib.axis.XTick at 0x7f82d8425590>,\n",
       "  <matplotlib.axis.XTick at 0x7f82d8425bd0>,\n",
       "  <matplotlib.axis.XTick at 0x7f82d8552250>,\n",
       "  <matplotlib.axis.XTick at 0x7f82d8552890>,\n",
       "  <matplotlib.axis.XTick at 0x7f82d8552ed0>],\n",
       " <a list of 15 Text xticklabel objects>)"
      ]
     },
     "execution_count": 37,
     "metadata": {},
     "output_type": "execute_result"
    },
    {
     "data": {
      "image/png": "[encoded data removed]",
      "text/plain": [
       "<Figure size 432x288 with 1 Axes>"
      ]
     },
     "metadata": {
      "needs_background": "light"
     },
     "output_type": "display_data"
    }
   ],
   "source": [
    "imp_dict={}\n",
    "rf.fit(X_train_y_G1,y_train_y_G1)\n",
    "y_pred_y_G1 = rf.predict(X_test_y_G1)\n",
    "print(classification_report(y_pred_y_G1,y_test_y_G1))\n",
    "print(\"Kappa Score: \" +str(cohen_kappa_score(y_pred_y_G1,y_test_y_G1)))\n",
    "print(\"\\t\")\n",
    "for importance, name in sorted(zip(rf.feature_importances_, X_train_y_G1.columns),reverse=True):\n",
    "    imp_dict[name] = importance\n",
    "    print ('Feature '+name+ ' and its importance is '+str(importance))\n",
    "plt.bar(range(len(imp_dict)), list(imp_dict.values()), align='center')\n",
    "plt.xticks(range(len(imp_dict)), list(imp_dict.keys()),rotation=90)"
   ]
  },
  {
   "cell_type": "code",
   "execution_count": 38,
   "metadata": {},
   "outputs": [
    {
     "name": "stdout",
     "output_type": "stream",
     "text": [
      "              precision    recall  f1-score   support\n",
      "\n",
      "           0       0.06      0.33      0.10         3\n",
      "           1       0.23      0.31      0.26        36\n",
      "           2       0.69      0.44      0.54       151\n",
      "           3       0.20      0.36      0.25        28\n",
      "           4       0.00      0.00      0.00         3\n",
      "\n",
      "    accuracy                           0.40       221\n",
      "   macro avg       0.24      0.29      0.23       221\n",
      "weighted avg       0.54      0.40      0.44       221\n",
      "\n",
      "Kappa Score: 0.05969480789532622\n",
      "\t\n",
      "Feature Mjob and its importance is 0.11671318726683406\n",
      "Feature age and its importance is 0.11594502753634282\n",
      "Feature Fedu and its importance is 0.10706737113955138\n",
      "Feature reason and its importance is 0.10582699581689285\n",
      "Feature Medu and its importance is 0.10121099552220185\n",
      "Feature Fjob and its importance is 0.09531102558220284\n",
      "Feature guardian.y and its importance is 0.0569540881738404\n",
      "Feature famsup.y and its importance is 0.04890064908176032\n",
      "Feature famsize and its importance is 0.04569148789689538\n",
      "Feature sex and its importance is 0.040039959798788896\n",
      "Feature nursery and its importance is 0.03791680048616331\n",
      "Feature address and its importance is 0.03611159593871425\n",
      "Feature internet and its importance is 0.034186371369961\n",
      "Feature school and its importance is 0.031497277159702464\n",
      "Feature Pstatus and its importance is 0.02662716723014823\n"
     ]
    },
    {
     "data": {
      "text/plain": [
       "([<matplotlib.axis.XTick at 0x7f82d858b8d0>,\n",
       "  <matplotlib.axis.XTick at 0x7f82d2fb0310>,\n",
       "  <matplotlib.axis.XTick at 0x7f82d2fb01d0>,\n",
       "  <matplotlib.axis.XTick at 0x7f82d2fd3890>,\n",
       "  <matplotlib.axis.XTick at 0x7f82d859a750>,\n",
       "  <matplotlib.axis.XTick at 0x7f82d859ad90>,\n",
       "  <matplotlib.axis.XTick at 0x7f82d85a24d0>,\n",
       "  <matplotlib.axis.XTick at 0x7f82d85a2a50>,\n",
       "  <matplotlib.axis.XTick at 0x7f82d85a2b50>,\n",
       "  <matplotlib.axis.XTick at 0x7f82d85a8650>,\n",
       "  <matplotlib.axis.XTick at 0x7f82d85a8c50>,\n",
       "  <matplotlib.axis.XTick at 0x7f82d85b02d0>,\n",
       "  <matplotlib.axis.XTick at 0x7f82d85a2ad0>,\n",
       "  <matplotlib.axis.XTick at 0x7f82d85a29d0>,\n",
       "  <matplotlib.axis.XTick at 0x7f82d85b0550>],\n",
       " <a list of 15 Text xticklabel objects>)"
      ]
     },
     "execution_count": 38,
     "metadata": {},
     "output_type": "execute_result"
    },
    {
     "data": {
      "image/png": "[encoded data removed]",
      "text/plain": [
       "<Figure size 432x288 with 1 Axes>"
      ]
     },
     "metadata": {
      "needs_background": "light"
     },
     "output_type": "display_data"
    }
   ],
   "source": [
    "imp_dict={}\n",
    "rf.fit(X_train_y_G3,y_train_y_G3)\n",
    "y_pred_y_G3 = rf.predict(X_test_y_G3)\n",
    "print(classification_report(y_pred_y_G3,y_test_y_G3))\n",
    "print(\"Kappa Score: \" +str(cohen_kappa_score(y_pred_y_G3,y_test_y_G3)))\n",
    "print(\"\\t\")\n",
    "for importance, name in sorted(zip(rf.feature_importances_, X_train_y_G3.columns),reverse=True):\n",
    "    imp_dict[name] = importance\n",
    "    print ('Feature '+name+ ' and its importance is '+str(importance))\n",
    "plt.bar(range(len(imp_dict)), list(imp_dict.values()), align='center')\n",
    "plt.xticks(range(len(imp_dict)), list(imp_dict.keys()),rotation=90)"
   ]
  },
  {
   "cell_type": "markdown",
   "metadata": {},
   "source": [
    "### Linear SVM"
   ]
  },
  {
   "cell_type": "code",
   "execution_count": 39,
   "metadata": {},
   "outputs": [],
   "source": [
    "lsvm = LinearSVC(max_iter=1000000)"
   ]
  },
  {
   "cell_type": "code",
   "execution_count": 40,
   "metadata": {},
   "outputs": [
    {
     "name": "stdout",
     "output_type": "stream",
     "text": [
      "              precision    recall  f1-score   support\n",
      "\n",
      "           0       0.00      0.00      0.00         0\n",
      "           1       0.00      0.00      0.00         0\n",
      "           2       0.98      0.47      0.64       214\n",
      "           3       0.00      0.00      0.00         2\n",
      "           4       0.05      0.60      0.10         5\n",
      "\n",
      "    accuracy                           0.47       221\n",
      "   macro avg       0.21      0.21      0.15       221\n",
      "weighted avg       0.95      0.47      0.62       221\n",
      "\n",
      "Kappa Score: 0.02193894919998496\n"
     ]
    },
    {
     "name": "stderr",
     "output_type": "stream",
     "text": [
      "/opt/anaconda3/lib/python3.7/site-packages/sklearn/metrics/_classification.py:1272: UndefinedMetricWarning: Recall and F-score are ill-defined and being set to 0.0 in labels with no true samples. Use `zero_division` parameter to control this behavior.\n",
      "  _warn_prf(average, modifier, msg_start, len(result))\n"
     ]
    }
   ],
   "source": [
    "lsvm.fit(X_train_x_G1,y_train_x_G1)\n",
    "y_pred_x_G1= lsvm.predict(X_test_x_G1)\n",
    "print(classification_report(y_pred_x_G1,y_test_x_G1))\n",
    "print(\"Kappa Score: \" +str(cohen_kappa_score(y_pred_x_G1,y_test_x_G1)))"
   ]
  },
  {
   "cell_type": "code",
   "execution_count": 41,
   "metadata": {},
   "outputs": [
    {
     "name": "stdout",
     "output_type": "stream",
     "text": [
      "              precision    recall  f1-score   support\n",
      "\n",
      "           0       0.00      0.00      0.00         0\n",
      "           1       0.00      0.00      0.00         0\n",
      "           2       0.90      0.48      0.63       192\n",
      "           3       0.00      0.00      0.00         0\n",
      "           4       0.21      0.52      0.30        29\n",
      "\n",
      "    accuracy                           0.48       221\n",
      "   macro avg       0.22      0.20      0.19       221\n",
      "weighted avg       0.81      0.48      0.58       221\n",
      "\n",
      "Kappa Score: 0.07368188837414502\n"
     ]
    },
    {
     "name": "stderr",
     "output_type": "stream",
     "text": [
      "/opt/anaconda3/lib/python3.7/site-packages/sklearn/metrics/_classification.py:1272: UndefinedMetricWarning: Recall and F-score are ill-defined and being set to 0.0 in labels with no true samples. Use `zero_division` parameter to control this behavior.\n",
      "  _warn_prf(average, modifier, msg_start, len(result))\n"
     ]
    }
   ],
   "source": [
    "lsvm.fit(X_train_x_G3,y_train_x_G3)\n",
    "y_pred_x_G3= lsvm.predict(X_test_x_G3)\n",
    "print(classification_report(y_pred_x_G3,y_test_x_G3))\n",
    "print(\"Kappa Score: \" +str(cohen_kappa_score(y_pred_x_G3,y_test_x_G3)))"
   ]
  },
  {
   "cell_type": "code",
   "execution_count": 42,
   "metadata": {},
   "outputs": [
    {
     "name": "stdout",
     "output_type": "stream",
     "text": [
      "              precision    recall  f1-score   support\n",
      "\n",
      "           0       0.00      0.00      0.00         0\n",
      "           1       0.00      0.00      0.00         0\n",
      "           2       0.94      0.54      0.68       198\n",
      "           3       0.16      0.39      0.23        23\n",
      "           4       0.00      0.00      0.00         0\n",
      "\n",
      "    accuracy                           0.52       221\n",
      "   macro avg       0.22      0.19      0.18       221\n",
      "weighted avg       0.86      0.52      0.63       221\n",
      "\n",
      "Kappa Score: 0.07047059757162133\n"
     ]
    },
    {
     "name": "stderr",
     "output_type": "stream",
     "text": [
      "/opt/anaconda3/lib/python3.7/site-packages/sklearn/metrics/_classification.py:1272: UndefinedMetricWarning: Recall and F-score are ill-defined and being set to 0.0 in labels with no true samples. Use `zero_division` parameter to control this behavior.\n",
      "  _warn_prf(average, modifier, msg_start, len(result))\n"
     ]
    }
   ],
   "source": [
    "lsvm.fit(X_train_y_G1,y_train_y_G1)\n",
    "y_pred_y_G1 = lsvm.predict(X_test_y_G1)\n",
    "print(classification_report(y_pred_y_G1,y_test_y_G1))\n",
    "print(\"Kappa Score: \" +str(cohen_kappa_score(y_pred_y_G1,y_test_y_G1)))"
   ]
  },
  {
   "cell_type": "code",
   "execution_count": 43,
   "metadata": {},
   "outputs": [
    {
     "name": "stdout",
     "output_type": "stream",
     "text": [
      "              precision    recall  f1-score   support\n",
      "\n",
      "           0       0.00      0.00      0.00         0\n",
      "           1       0.10      0.38      0.16        13\n",
      "           2       0.86      0.46      0.60       179\n",
      "           3       0.25      0.45      0.33        29\n",
      "           4       0.00      0.00      0.00         0\n",
      "\n",
      "    accuracy                           0.45       221\n",
      "   macro avg       0.24      0.26      0.22       221\n",
      "weighted avg       0.74      0.45      0.54       221\n",
      "\n",
      "Kappa Score: 0.10062893081761015\n"
     ]
    },
    {
     "name": "stderr",
     "output_type": "stream",
     "text": [
      "/opt/anaconda3/lib/python3.7/site-packages/sklearn/metrics/_classification.py:1272: UndefinedMetricWarning: Recall and F-score are ill-defined and being set to 0.0 in labels with no true samples. Use `zero_division` parameter to control this behavior.\n",
      "  _warn_prf(average, modifier, msg_start, len(result))\n"
     ]
    }
   ],
   "source": [
    "lsvm.fit(X_train_y_G3,y_train_y_G3)\n",
    "y_pred_y_G3 = lsvm.predict(X_test_y_G3)\n",
    "print(classification_report(y_pred_y_G3,y_test_y_G3))\n",
    "print(\"Kappa Score: \" +str(cohen_kappa_score(y_pred_y_G3,y_test_y_G3)))"
   ]
  },
  {
   "cell_type": "markdown",
   "metadata": {},
   "source": [
    "### Logistic Regression"
   ]
  },
  {
   "cell_type": "code",
   "execution_count": 44,
   "metadata": {},
   "outputs": [],
   "source": [
    "lg = LogisticRegression(random_state=0,max_iter=1000000)"
   ]
  },
  {
   "cell_type": "code",
   "execution_count": 45,
   "metadata": {},
   "outputs": [
    {
     "name": "stdout",
     "output_type": "stream",
     "text": [
      "              precision    recall  f1-score   support\n",
      "\n",
      "           0       0.00      0.00      0.00         0\n",
      "           1       0.00      0.00      0.00         0\n",
      "           2       0.98      0.48      0.64       211\n",
      "           3       0.00      0.00      0.00         3\n",
      "           4       0.07      0.57      0.12         7\n",
      "\n",
      "    accuracy                           0.48       221\n",
      "   macro avg       0.21      0.21      0.15       221\n",
      "weighted avg       0.94      0.48      0.62       221\n",
      "\n",
      "Kappa Score: 0.03602316311950071\n"
     ]
    },
    {
     "name": "stderr",
     "output_type": "stream",
     "text": [
      "/opt/anaconda3/lib/python3.7/site-packages/sklearn/metrics/_classification.py:1272: UndefinedMetricWarning: Recall and F-score are ill-defined and being set to 0.0 in labels with no true samples. Use `zero_division` parameter to control this behavior.\n",
      "  _warn_prf(average, modifier, msg_start, len(result))\n"
     ]
    }
   ],
   "source": [
    "lg.fit(X_train_x_G1,y_train_x_G1)\n",
    "y_pred_x_G1= lg.predict(X_test_x_G1)\n",
    "print(classification_report(y_pred_x_G1,y_test_x_G1))\n",
    "print(\"Kappa Score: \" +str(cohen_kappa_score(y_pred_x_G1,y_test_x_G1)))"
   ]
  },
  {
   "cell_type": "code",
   "execution_count": 46,
   "metadata": {},
   "outputs": [
    {
     "name": "stdout",
     "output_type": "stream",
     "text": [
      "              precision    recall  f1-score   support\n",
      "\n",
      "           0       0.00      0.00      0.00         0\n",
      "           1       0.00      0.00      0.00         0\n",
      "           2       0.90      0.48      0.63       191\n",
      "           3       0.00      0.00      0.00         0\n",
      "           4       0.23      0.53      0.32        30\n",
      "\n",
      "    accuracy                           0.49       221\n",
      "   macro avg       0.23      0.20      0.19       221\n",
      "weighted avg       0.81      0.49      0.59       221\n",
      "\n",
      "Kappa Score: 0.08285284072128973\n"
     ]
    },
    {
     "name": "stderr",
     "output_type": "stream",
     "text": [
      "/opt/anaconda3/lib/python3.7/site-packages/sklearn/metrics/_classification.py:1272: UndefinedMetricWarning: Recall and F-score are ill-defined and being set to 0.0 in labels with no true samples. Use `zero_division` parameter to control this behavior.\n",
      "  _warn_prf(average, modifier, msg_start, len(result))\n"
     ]
    }
   ],
   "source": [
    "lg.fit(X_train_x_G3,y_train_x_G3)\n",
    "y_pred_x_G3= lg.predict(X_test_x_G3)\n",
    "print(classification_report(y_pred_x_G3,y_test_x_G3))\n",
    "print(\"Kappa Score: \" +str(cohen_kappa_score(y_pred_x_G3,y_test_x_G3)))"
   ]
  },
  {
   "cell_type": "code",
   "execution_count": 47,
   "metadata": {},
   "outputs": [
    {
     "name": "stdout",
     "output_type": "stream",
     "text": [
      "              precision    recall  f1-score   support\n",
      "\n",
      "           0       0.00      0.00      0.00         0\n",
      "           1       0.00      0.00      0.00         0\n",
      "           2       0.94      0.55      0.69       194\n",
      "           3       0.18      0.42      0.25        24\n",
      "           4       0.08      0.33      0.12         3\n",
      "\n",
      "    accuracy                           0.53       221\n",
      "   macro avg       0.24      0.26      0.21       221\n",
      "weighted avg       0.84      0.53      0.64       221\n",
      "\n",
      "Kappa Score: 0.10078247261345852\n"
     ]
    },
    {
     "name": "stderr",
     "output_type": "stream",
     "text": [
      "/opt/anaconda3/lib/python3.7/site-packages/sklearn/metrics/_classification.py:1272: UndefinedMetricWarning: Recall and F-score are ill-defined and being set to 0.0 in labels with no true samples. Use `zero_division` parameter to control this behavior.\n",
      "  _warn_prf(average, modifier, msg_start, len(result))\n"
     ]
    }
   ],
   "source": [
    "lg.fit(X_train_y_G1,y_train_y_G1)\n",
    "y_pred_y_G1 = lg.predict(X_test_y_G1)\n",
    "print(classification_report(y_pred_y_G1,y_test_y_G1))\n",
    "print(\"Kappa Score: \" +str(cohen_kappa_score(y_pred_y_G1,y_test_y_G1)))"
   ]
  },
  {
   "cell_type": "code",
   "execution_count": 48,
   "metadata": {},
   "outputs": [
    {
     "name": "stdout",
     "output_type": "stream",
     "text": [
      "              precision    recall  f1-score   support\n",
      "\n",
      "           0       0.00      0.00      0.00         0\n",
      "           1       0.17      0.31      0.22        26\n",
      "           2       0.74      0.44      0.55       159\n",
      "           3       0.29      0.48      0.37        31\n",
      "           4       0.10      0.20      0.13         5\n",
      "\n",
      "    accuracy                           0.43       221\n",
      "   macro avg       0.26      0.29      0.25       221\n",
      "weighted avg       0.59      0.43      0.48       221\n",
      "\n",
      "Kappa Score: 0.09041708526428371\n"
     ]
    },
    {
     "name": "stderr",
     "output_type": "stream",
     "text": [
      "/opt/anaconda3/lib/python3.7/site-packages/sklearn/metrics/_classification.py:1272: UndefinedMetricWarning: Recall and F-score are ill-defined and being set to 0.0 in labels with no true samples. Use `zero_division` parameter to control this behavior.\n",
      "  _warn_prf(average, modifier, msg_start, len(result))\n"
     ]
    }
   ],
   "source": [
    "lg.fit(X_train_y_G3,y_train_y_G3)\n",
    "y_pred_y_G3 = lg.predict(X_test_y_G3)\n",
    "print(classification_report(y_pred_y_G3,y_test_y_G3))\n",
    "print(\"Kappa Score: \" +str(cohen_kappa_score(y_pred_y_G3,y_test_y_G3)))"
   ]
  },
  {
   "cell_type": "markdown",
   "metadata": {},
   "source": [
    "### Gradient Boosting"
   ]
  },
  {
   "cell_type": "code",
   "execution_count": 49,
   "metadata": {},
   "outputs": [],
   "source": [
    "gb = GradientBoostingClassifier(random_state=0)"
   ]
  },
  {
   "cell_type": "code",
   "execution_count": 50,
   "metadata": {},
   "outputs": [
    {
     "name": "stdout",
     "output_type": "stream",
     "text": [
      "              precision    recall  f1-score   support\n",
      "\n",
      "           0       0.10      0.25      0.14         4\n",
      "           1       0.07      0.25      0.11         4\n",
      "           2       0.80      0.54      0.64       152\n",
      "           3       0.17      0.32      0.22        19\n",
      "           4       0.22      0.31      0.26        42\n",
      "\n",
      "    accuracy                           0.47       221\n",
      "   macro avg       0.27      0.33      0.28       221\n",
      "weighted avg       0.61      0.47      0.52       221\n",
      "\n",
      "Kappa Score: 0.1298341619673662\n"
     ]
    }
   ],
   "source": [
    "gb.fit(X_train_x_G1,y_train_x_G1)\n",
    "y_pred_x_G1= gb.predict(X_test_x_G1)\n",
    "print(classification_report(y_pred_x_G1,y_test_x_G1))\n",
    "print(\"Kappa Score: \" +str(cohen_kappa_score(y_pred_x_G1,y_test_x_G1)))"
   ]
  },
  {
   "cell_type": "code",
   "execution_count": 51,
   "metadata": {},
   "outputs": [
    {
     "name": "stdout",
     "output_type": "stream",
     "text": [
      "              precision    recall  f1-score   support\n",
      "\n",
      "           0       0.17      0.50      0.25         4\n",
      "           1       0.00      0.00      0.00         3\n",
      "           2       0.74      0.51      0.60       147\n",
      "           3       0.10      0.29      0.14         7\n",
      "           4       0.31      0.37      0.34        60\n",
      "\n",
      "    accuracy                           0.46       221\n",
      "   macro avg       0.26      0.33      0.27       221\n",
      "weighted avg       0.58      0.46      0.50       221\n",
      "\n",
      "Kappa Score: 0.09633011892186583\n"
     ]
    }
   ],
   "source": [
    "gb.fit(X_train_x_G3,y_train_x_G3)\n",
    "y_pred_x_G3= gb.predict(X_test_x_G3)\n",
    "print(classification_report(y_pred_x_G3,y_test_x_G3))\n",
    "print(\"Kappa Score: \" +str(cohen_kappa_score(y_pred_x_G3,y_test_x_G3)))"
   ]
  },
  {
   "cell_type": "code",
   "execution_count": 52,
   "metadata": {},
   "outputs": [
    {
     "name": "stdout",
     "output_type": "stream",
     "text": [
      "              precision    recall  f1-score   support\n",
      "\n",
      "           0       0.00      0.00      0.00         2\n",
      "           1       0.03      0.08      0.05        12\n",
      "           2       0.82      0.54      0.65       171\n",
      "           3       0.20      0.37      0.26        30\n",
      "           4       0.08      0.17      0.11         6\n",
      "\n",
      "    accuracy                           0.48       221\n",
      "   macro avg       0.23      0.23      0.21       221\n",
      "weighted avg       0.67      0.48      0.55       221\n",
      "\n",
      "Kappa Score: 0.07278365560014599\n"
     ]
    }
   ],
   "source": [
    "gb.fit(X_train_y_G1,y_train_y_G1)\n",
    "y_pred_y_G1 = gb.predict(X_test_y_G1)\n",
    "print(classification_report(y_pred_y_G1,y_test_y_G1))\n",
    "print(\"Kappa Score: \" +str(cohen_kappa_score(y_pred_y_G1,y_test_y_G1)))"
   ]
  },
  {
   "cell_type": "code",
   "execution_count": 53,
   "metadata": {},
   "outputs": [
    {
     "name": "stdout",
     "output_type": "stream",
     "text": [
      "              precision    recall  f1-score   support\n",
      "\n",
      "           0       0.00      0.00      0.00         6\n",
      "           1       0.27      0.31      0.29        42\n",
      "           2       0.66      0.44      0.53       142\n",
      "           3       0.16      0.29      0.20        28\n",
      "           4       0.00      0.00      0.00         3\n",
      "\n",
      "    accuracy                           0.38       221\n",
      "   macro avg       0.22      0.21      0.20       221\n",
      "weighted avg       0.50      0.38      0.42       221\n",
      "\n",
      "Kappa Score: 0.047143981117230616\n"
     ]
    }
   ],
   "source": [
    "gb.fit(X_train_y_G3,y_train_y_G3)\n",
    "y_pred_y_G3 = gb.predict(X_test_y_G3)\n",
    "print(classification_report(y_pred_y_G3,y_test_y_G3))\n",
    "print(\"Kappa Score: \" +str(cohen_kappa_score(y_pred_y_G3,y_test_y_G3)))"
   ]
  },
  {
   "cell_type": "code",
   "execution_count": null,
   "metadata": {},
   "outputs": [],
   "source": []
  }
 ],
 "metadata": {
  "kernelspec": {
   "display_name": "Python 3",
   "language": "python",
   "name": "python3"
  },
  "language_info": {
   "codemirror_mode": {
    "name": "ipython",
    "version": 3
   },
   "file_extension": ".py",
   "mimetype": "text/x-python",
   "name": "python",
   "nbconvert_exporter": "python",
   "pygments_lexer": "ipython3",
   "version": "3.7.4"
  }
 },
 "nbformat": 4,
 "nbformat_minor": 4
}
