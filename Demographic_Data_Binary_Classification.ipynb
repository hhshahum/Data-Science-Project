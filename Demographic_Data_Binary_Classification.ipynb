{
 "cells": [
  {
   "cell_type": "code",
   "execution_count": 1,
   "metadata": {},
   "outputs": [],
   "source": [
    "import pandas as pd\n",
    "import numpy as np\n",
    "import seaborn as sn\n",
    "import matplotlib.pyplot as plt\n",
    "from sklearn.svm import LinearSVC\n",
    "from sklearn.linear_model import LogisticRegression\n",
    "from sklearn.model_selection import train_test_split\n",
    "from sklearn import preprocessing\n",
    "from sklearn.tree import DecisionTreeClassifier\n",
    "from sklearn.metrics import accuracy_score\n",
    "from sklearn.naive_bayes import GaussianNB\n",
    "from sklearn.ensemble import RandomForestClassifier\n",
    "from sklearn.ensemble import GradientBoostingClassifier\n",
    "from sklearn.metrics import classification_report\n",
    "from sklearn.metrics import cohen_kappa_score\n",
    "import matplotlib.pyplot as plt\n",
    "from scipy.stats import rankdata"
   ]
  },
  {
   "cell_type": "code",
   "execution_count": 2,
   "metadata": {},
   "outputs": [],
   "source": [
    "probadf = pd.DataFrame()"
   ]
  },
  {
   "cell_type": "code",
   "execution_count": 3,
   "metadata": {},
   "outputs": [],
   "source": [
    "df = pd.read_csv('final_combined_dataset.csv')"
   ]
  },
  {
   "cell_type": "code",
   "execution_count": 4,
   "metadata": {},
   "outputs": [
    {
     "data": {
      "text/html": [
       "<div>\n",
       "<style scoped>\n",
       "    .dataframe tbody tr th:only-of-type {\n",
       "        vertical-align: middle;\n",
       "    }\n",
       "\n",
       "    .dataframe tbody tr th {\n",
       "        vertical-align: top;\n",
       "    }\n",
       "\n",
       "    .dataframe thead th {\n",
       "        text-align: right;\n",
       "    }\n",
       "</style>\n",
       "<table border=\"1\" class=\"dataframe\">\n",
       "  <thead>\n",
       "    <tr style=\"text-align: right;\">\n",
       "      <th></th>\n",
       "      <th>school</th>\n",
       "      <th>sex</th>\n",
       "      <th>age</th>\n",
       "      <th>address</th>\n",
       "      <th>famsize</th>\n",
       "      <th>Pstatus</th>\n",
       "      <th>Medu</th>\n",
       "      <th>Fedu</th>\n",
       "      <th>Mjob</th>\n",
       "      <th>Fjob</th>\n",
       "      <th>...</th>\n",
       "      <th>famrel.y</th>\n",
       "      <th>freetime.y</th>\n",
       "      <th>goout.y</th>\n",
       "      <th>Dalc.y</th>\n",
       "      <th>Walc.y</th>\n",
       "      <th>health.y</th>\n",
       "      <th>absences.y</th>\n",
       "      <th>G1.y</th>\n",
       "      <th>G2.y</th>\n",
       "      <th>G3.y</th>\n",
       "    </tr>\n",
       "  </thead>\n",
       "  <tbody>\n",
       "    <tr>\n",
       "      <td>0</td>\n",
       "      <td>0</td>\n",
       "      <td>0</td>\n",
       "      <td>15</td>\n",
       "      <td>0</td>\n",
       "      <td>0</td>\n",
       "      <td>1</td>\n",
       "      <td>1</td>\n",
       "      <td>1</td>\n",
       "      <td>0</td>\n",
       "      <td>2</td>\n",
       "      <td>...</td>\n",
       "      <td>3</td>\n",
       "      <td>1</td>\n",
       "      <td>2</td>\n",
       "      <td>1</td>\n",
       "      <td>1</td>\n",
       "      <td>1</td>\n",
       "      <td>4</td>\n",
       "      <td>13</td>\n",
       "      <td>13</td>\n",
       "      <td>13</td>\n",
       "    </tr>\n",
       "    <tr>\n",
       "      <td>1</td>\n",
       "      <td>0</td>\n",
       "      <td>0</td>\n",
       "      <td>15</td>\n",
       "      <td>0</td>\n",
       "      <td>0</td>\n",
       "      <td>1</td>\n",
       "      <td>1</td>\n",
       "      <td>1</td>\n",
       "      <td>2</td>\n",
       "      <td>2</td>\n",
       "      <td>...</td>\n",
       "      <td>3</td>\n",
       "      <td>3</td>\n",
       "      <td>4</td>\n",
       "      <td>2</td>\n",
       "      <td>4</td>\n",
       "      <td>5</td>\n",
       "      <td>2</td>\n",
       "      <td>13</td>\n",
       "      <td>11</td>\n",
       "      <td>11</td>\n",
       "    </tr>\n",
       "    <tr>\n",
       "      <td>2</td>\n",
       "      <td>0</td>\n",
       "      <td>0</td>\n",
       "      <td>15</td>\n",
       "      <td>0</td>\n",
       "      <td>0</td>\n",
       "      <td>1</td>\n",
       "      <td>2</td>\n",
       "      <td>2</td>\n",
       "      <td>0</td>\n",
       "      <td>2</td>\n",
       "      <td>...</td>\n",
       "      <td>4</td>\n",
       "      <td>3</td>\n",
       "      <td>1</td>\n",
       "      <td>1</td>\n",
       "      <td>1</td>\n",
       "      <td>2</td>\n",
       "      <td>8</td>\n",
       "      <td>14</td>\n",
       "      <td>13</td>\n",
       "      <td>12</td>\n",
       "    </tr>\n",
       "    <tr>\n",
       "      <td>3</td>\n",
       "      <td>0</td>\n",
       "      <td>0</td>\n",
       "      <td>15</td>\n",
       "      <td>0</td>\n",
       "      <td>0</td>\n",
       "      <td>1</td>\n",
       "      <td>2</td>\n",
       "      <td>4</td>\n",
       "      <td>3</td>\n",
       "      <td>1</td>\n",
       "      <td>...</td>\n",
       "      <td>4</td>\n",
       "      <td>3</td>\n",
       "      <td>2</td>\n",
       "      <td>1</td>\n",
       "      <td>1</td>\n",
       "      <td>5</td>\n",
       "      <td>2</td>\n",
       "      <td>10</td>\n",
       "      <td>11</td>\n",
       "      <td>10</td>\n",
       "    </tr>\n",
       "    <tr>\n",
       "      <td>4</td>\n",
       "      <td>0</td>\n",
       "      <td>0</td>\n",
       "      <td>15</td>\n",
       "      <td>0</td>\n",
       "      <td>0</td>\n",
       "      <td>1</td>\n",
       "      <td>3</td>\n",
       "      <td>3</td>\n",
       "      <td>3</td>\n",
       "      <td>3</td>\n",
       "      <td>...</td>\n",
       "      <td>4</td>\n",
       "      <td>2</td>\n",
       "      <td>1</td>\n",
       "      <td>2</td>\n",
       "      <td>3</td>\n",
       "      <td>3</td>\n",
       "      <td>2</td>\n",
       "      <td>13</td>\n",
       "      <td>13</td>\n",
       "      <td>13</td>\n",
       "    </tr>\n",
       "  </tbody>\n",
       "</table>\n",
       "<p>5 rows × 53 columns</p>\n",
       "</div>"
      ],
      "text/plain": [
       "   school  sex  age  address  famsize  Pstatus  Medu  Fedu  Mjob  Fjob  ...  \\\n",
       "0       0    0   15        0        0        1     1     1     0     2  ...   \n",
       "1       0    0   15        0        0        1     1     1     2     2  ...   \n",
       "2       0    0   15        0        0        1     2     2     0     2  ...   \n",
       "3       0    0   15        0        0        1     2     4     3     1  ...   \n",
       "4       0    0   15        0        0        1     3     3     3     3  ...   \n",
       "\n",
       "   famrel.y  freetime.y  goout.y  Dalc.y  Walc.y  health.y  absences.y  G1.y  \\\n",
       "0         3           1        2       1       1         1           4    13   \n",
       "1         3           3        4       2       4         5           2    13   \n",
       "2         4           3        1       1       1         2           8    14   \n",
       "3         4           3        2       1       1         5           2    10   \n",
       "4         4           2        1       2       3         3           2    13   \n",
       "\n",
       "   G2.y  G3.y  \n",
       "0    13    13  \n",
       "1    11    11  \n",
       "2    13    12  \n",
       "3    11    10  \n",
       "4    13    13  \n",
       "\n",
       "[5 rows x 53 columns]"
      ]
     },
     "execution_count": 4,
     "metadata": {},
     "output_type": "execute_result"
    }
   ],
   "source": [
    "df.head()"
   ]
  },
  {
   "cell_type": "code",
   "execution_count": 5,
   "metadata": {},
   "outputs": [],
   "source": [
    "df = df.rename(columns = {'Unnamed: 0':'ID'})"
   ]
  },
  {
   "cell_type": "code",
   "execution_count": 6,
   "metadata": {},
   "outputs": [
    {
     "data": {
      "text/plain": [
       "Index(['school', 'sex', 'age', 'address', 'famsize', 'Pstatus', 'Medu', 'Fedu',\n",
       "       'Mjob', 'Fjob', 'reason', 'nursery', 'internet', 'guardian.x',\n",
       "       'traveltime.x', 'studytime.x', 'failures.x', 'schoolsup.x', 'famsup.x',\n",
       "       'paid.x', 'activities.x', 'higher.x', 'romantic.x', 'famrel.x',\n",
       "       'freetime.x', 'goout.x', 'Dalc.x', 'Walc.x', 'health.x', 'absences.x',\n",
       "       'G1.x', 'G2.x', 'G3.x', 'guardian.y', 'traveltime.y', 'studytime.y',\n",
       "       'failures.y', 'schoolsup.y', 'famsup.y', 'paid.y', 'activities.y',\n",
       "       'higher.y', 'romantic.y', 'famrel.y', 'freetime.y', 'goout.y', 'Dalc.y',\n",
       "       'Walc.y', 'health.y', 'absences.y', 'G1.y', 'G2.y', 'G3.y'],\n",
       "      dtype='object')"
      ]
     },
     "execution_count": 6,
     "metadata": {},
     "output_type": "execute_result"
    }
   ],
   "source": [
    "df.columns"
   ]
  },
  {
   "cell_type": "code",
   "execution_count": 7,
   "metadata": {},
   "outputs": [],
   "source": [
    "xfeatures = ['G1.x','G3.x','school','sex','age','address','famsize','Pstatus','Medu','Fedu','Mjob','Fjob','reason','guardian.x','nursery','internet','famsup.x']"
   ]
  },
  {
   "cell_type": "code",
   "execution_count": 8,
   "metadata": {},
   "outputs": [],
   "source": [
    "yfeatures = ['G1.y','G3.y','school','sex','age','address','famsize','Pstatus','Medu','Fedu','Mjob','Fjob','reason','guardian.y','nursery','internet','famsup.y']"
   ]
  },
  {
   "cell_type": "code",
   "execution_count": 9,
   "metadata": {},
   "outputs": [],
   "source": [
    "keepcol = ['school', 'sex', 'age', 'address', 'famsize', 'Pstatus', 'Medu',\n",
    "       'Fedu', 'Mjob', 'Fjob', 'reason', 'nursery', 'internet', 'guardian.x',\n",
    "       'traveltime.x', 'studytime.x', 'failures.x', 'schoolsup.x', 'famsup.x',\n",
    "       'paid.x', 'activities.x', 'higher.x', 'romantic.x', 'famrel.x',\n",
    "       'freetime.x', 'goout.x', 'Dalc.x', 'Walc.x', 'health.x', 'absences.x',\n",
    "       'G1.x', 'G2.x', 'G3.x', 'guardian.y', 'traveltime.y', 'studytime.y',\n",
    "       'failures.y', 'schoolsup.y', 'famsup.y', 'paid.y', 'activities.y',\n",
    "       'higher.y', 'romantic.y', 'famrel.y', 'freetime.y', 'goout.y', 'Dalc.y',\n",
    "       'Walc.y', 'health.y', 'absences.y', 'G1.y', 'G2.y', 'G3.y']"
   ]
  },
  {
   "cell_type": "code",
   "execution_count": 10,
   "metadata": {},
   "outputs": [],
   "source": [
    "fildf = df.loc[:,keepcol]"
   ]
  },
  {
   "cell_type": "code",
   "execution_count": 11,
   "metadata": {},
   "outputs": [],
   "source": [
    "fildf_x = fildf.loc[:,xfeatures]"
   ]
  },
  {
   "cell_type": "code",
   "execution_count": 12,
   "metadata": {},
   "outputs": [],
   "source": [
    "fildf_y = fildf.loc[:,yfeatures]"
   ]
  },
  {
   "cell_type": "code",
   "execution_count": 13,
   "metadata": {},
   "outputs": [
    {
     "data": {
      "text/plain": [
       "(882, 17)"
      ]
     },
     "execution_count": 13,
     "metadata": {},
     "output_type": "execute_result"
    }
   ],
   "source": [
    "fildf_x.shape"
   ]
  },
  {
   "cell_type": "code",
   "execution_count": 14,
   "metadata": {},
   "outputs": [
    {
     "data": {
      "text/plain": [
       "(882, 17)"
      ]
     },
     "execution_count": 14,
     "metadata": {},
     "output_type": "execute_result"
    }
   ],
   "source": [
    "fildf_y.shape"
   ]
  },
  {
   "cell_type": "code",
   "execution_count": 15,
   "metadata": {},
   "outputs": [],
   "source": [
    "def convertmarks(mark):\n",
    "    if mark<10:\n",
    "        return 'B'\n",
    "    else:\n",
    "        return 'A'"
   ]
  },
  {
   "cell_type": "code",
   "execution_count": 16,
   "metadata": {},
   "outputs": [],
   "source": [
    "newlist=[]\n",
    "for i in fildf_x['G1.x']:\n",
    "    x = convertmarks(i)\n",
    "    newlist.append(x)\n",
    "fildf_x['New G1'] = newlist"
   ]
  },
  {
   "cell_type": "code",
   "execution_count": 17,
   "metadata": {},
   "outputs": [],
   "source": [
    "newlist=[]\n",
    "for i in fildf_y['G1.y']:\n",
    "    x = convertmarks(i)\n",
    "    newlist.append(x)\n",
    "fildf_y['New G1'] = newlist"
   ]
  },
  {
   "cell_type": "code",
   "execution_count": 18,
   "metadata": {},
   "outputs": [],
   "source": [
    "newlist=[]\n",
    "for i in fildf_x['G3.x']:\n",
    "    x = convertmarks(i)\n",
    "    newlist.append(x)\n",
    "fildf_x['New G3'] = newlist"
   ]
  },
  {
   "cell_type": "code",
   "execution_count": 19,
   "metadata": {},
   "outputs": [],
   "source": [
    "newlist=[]\n",
    "for i in fildf_y['G3.y']:\n",
    "    x = convertmarks(i)\n",
    "    newlist.append(x)\n",
    "fildf_y['New G3'] = newlist"
   ]
  },
  {
   "cell_type": "code",
   "execution_count": 20,
   "metadata": {},
   "outputs": [
    {
     "data": {
      "text/plain": [
       "0      A\n",
       "1      A\n",
       "2      A\n",
       "3      A\n",
       "4      A\n",
       "      ..\n",
       "877    A\n",
       "878    A\n",
       "879    A\n",
       "880    A\n",
       "881    A\n",
       "Name: New G3, Length: 882, dtype: object"
      ]
     },
     "execution_count": 20,
     "metadata": {},
     "output_type": "execute_result"
    }
   ],
   "source": [
    "fildf_y['New G3']"
   ]
  },
  {
   "cell_type": "code",
   "execution_count": 21,
   "metadata": {},
   "outputs": [],
   "source": [
    "label_encoder = preprocessing.LabelEncoder()"
   ]
  },
  {
   "cell_type": "code",
   "execution_count": 22,
   "metadata": {},
   "outputs": [],
   "source": [
    "fildf_x['New G1']= label_encoder.fit_transform(fildf_x['New G1'])\n",
    "fildf_y['New G1']= label_encoder.fit_transform(fildf_y['New G1'])\n",
    "fildf_x['New G3']= label_encoder.fit_transform(fildf_x['New G3'])\n",
    "fildf_y['New G3']= label_encoder.fit_transform(fildf_y['New G3'])"
   ]
  },
  {
   "cell_type": "code",
   "execution_count": 23,
   "metadata": {},
   "outputs": [
    {
     "data": {
      "text/plain": [
       "0      0\n",
       "1      0\n",
       "2      0\n",
       "3      0\n",
       "4      0\n",
       "      ..\n",
       "877    0\n",
       "878    0\n",
       "879    0\n",
       "880    0\n",
       "881    0\n",
       "Name: New G3, Length: 882, dtype: int64"
      ]
     },
     "execution_count": 23,
     "metadata": {},
     "output_type": "execute_result"
    }
   ],
   "source": [
    "fildf_y['New G3']"
   ]
  },
  {
   "cell_type": "code",
   "execution_count": 24,
   "metadata": {},
   "outputs": [],
   "source": [
    "fildf_x = fildf_x.sample(frac=1,random_state=123)\n",
    "fildf_y = fildf_y.sample(frac=1,random_state=123)"
   ]
  },
  {
   "cell_type": "code",
   "execution_count": 25,
   "metadata": {},
   "outputs": [],
   "source": [
    "fildf_x = fildf_x.drop(['G1.x','G3.x'],axis=1)\n",
    "fildf_y = fildf_y.drop(['G1.y','G3.y'],axis=1)"
   ]
  },
  {
   "cell_type": "code",
   "execution_count": 26,
   "metadata": {},
   "outputs": [],
   "source": [
    "features_x_G3 = fildf_x.drop(['New G1','New G3'],axis=1)\n",
    "features_x_G1 = fildf_x.drop(['New G1','New G3'],axis=1)\n",
    "features_y_G3 = fildf_y.drop(['New G1','New G3'],axis=1)\n",
    "features_y_G1 = fildf_y.drop(['New G1','New G3'],axis=1)"
   ]
  },
  {
   "cell_type": "code",
   "execution_count": 27,
   "metadata": {},
   "outputs": [],
   "source": [
    "target_x_G3 = fildf_x['New G3']\n",
    "target_x_G1 = fildf_x['New G1']\n",
    "target_y_G3 = fildf_y['New G3']\n",
    "target_y_G1 = fildf_y['New G1']"
   ]
  },
  {
   "cell_type": "code",
   "execution_count": 28,
   "metadata": {},
   "outputs": [],
   "source": [
    "X_train_x_G1, X_test_x_G1, y_train_x_G1, y_test_x_G1 = train_test_split(features_x_G1, target_x_G1, test_size=0.25, random_state=0)\n",
    "X_train_y_G1, X_test_y_G1, y_train_y_G1, y_test_y_G1 = train_test_split(features_y_G1, target_y_G1, test_size=0.25, random_state=0)"
   ]
  },
  {
   "cell_type": "code",
   "execution_count": 29,
   "metadata": {},
   "outputs": [],
   "source": [
    "X_train_x_G3, X_test_x_G3, y_train_x_G3, y_test_x_G3 = train_test_split(features_x_G3, target_x_G3, test_size=0.25, random_state=0)\n",
    "X_train_y_G3, X_test_y_G3, y_train_y_G3, y_test_y_G3 = train_test_split(features_y_G3, target_y_G3, test_size=0.25, random_state=0)"
   ]
  },
  {
   "cell_type": "markdown",
   "metadata": {},
   "source": [
    "### Naive Bayes"
   ]
  },
  {
   "cell_type": "code",
   "execution_count": 30,
   "metadata": {},
   "outputs": [],
   "source": [
    "clf = GaussianNB()"
   ]
  },
  {
   "cell_type": "code",
   "execution_count": 31,
   "metadata": {},
   "outputs": [
    {
     "name": "stdout",
     "output_type": "stream",
     "text": [
      "              precision    recall  f1-score   support\n",
      "\n",
      "           0       0.96      0.75      0.84       209\n",
      "           1       0.09      0.42      0.14        12\n",
      "\n",
      "    accuracy                           0.73       221\n",
      "   macro avg       0.52      0.58      0.49       221\n",
      "weighted avg       0.91      0.73      0.80       221\n",
      "\n",
      "Kappa Score: 0.058104844438130354\n"
     ]
    }
   ],
   "source": [
    "clf.fit(X_train_x_G1,y_train_x_G1)\n",
    "y_pred_x_G1= clf.predict(X_test_x_G1)\n",
    "print(classification_report(y_pred_x_G1,y_test_x_G1))\n",
    "print(\"Kappa Score: \" +str(cohen_kappa_score(y_pred_x_G1,y_test_x_G1)))\n",
    "probagnbG1x = clf.predict_proba(X_test_x_G1)"
   ]
  },
  {
   "cell_type": "code",
   "execution_count": 32,
   "metadata": {},
   "outputs": [
    {
     "name": "stdout",
     "output_type": "stream",
     "text": [
      "              precision    recall  f1-score   support\n",
      "\n",
      "           0       0.87      0.68      0.76       194\n",
      "           1       0.11      0.30      0.16        27\n",
      "\n",
      "    accuracy                           0.63       221\n",
      "   macro avg       0.49      0.49      0.46       221\n",
      "weighted avg       0.78      0.63      0.69       221\n",
      "\n",
      "Kappa Score: -0.016719030520646383\n"
     ]
    }
   ],
   "source": [
    "clf.fit(X_train_x_G3,y_train_x_G3)\n",
    "y_pred_x_G3= clf.predict(X_test_x_G3)\n",
    "print(classification_report(y_pred_x_G3,y_test_x_G3))\n",
    "print(\"Kappa Score: \" +str(cohen_kappa_score(y_pred_x_G3,y_test_x_G3)))\n",
    "probagnbG3x = clf.predict_proba(X_test_x_G3)"
   ]
  },
  {
   "cell_type": "code",
   "execution_count": 33,
   "metadata": {},
   "outputs": [
    {
     "name": "stdout",
     "output_type": "stream",
     "text": [
      "              precision    recall  f1-score   support\n",
      "\n",
      "           0       0.95      0.97      0.96       204\n",
      "           1       0.46      0.35      0.40        17\n",
      "\n",
      "    accuracy                           0.92       221\n",
      "   macro avg       0.70      0.66      0.68       221\n",
      "weighted avg       0.91      0.92      0.91       221\n",
      "\n",
      "Kappa Score: 0.3571428571428571\n"
     ]
    }
   ],
   "source": [
    "clf.fit(X_train_y_G1,y_train_y_G1)\n",
    "y_pred_y_G1 = clf.predict(X_test_y_G1)\n",
    "print(classification_report(y_pred_y_G1,y_test_y_G1))\n",
    "print(\"Kappa Score: \" +str(cohen_kappa_score(y_pred_y_G1,y_test_y_G1)))\n",
    "probagnbG1y = clf.predict_proba(X_test_y_G1)"
   ]
  },
  {
   "cell_type": "code",
   "execution_count": 34,
   "metadata": {},
   "outputs": [
    {
     "name": "stdout",
     "output_type": "stream",
     "text": [
      "              precision    recall  f1-score   support\n",
      "\n",
      "           0       0.96      0.97      0.96       210\n",
      "           1       0.30      0.27      0.29        11\n",
      "\n",
      "    accuracy                           0.93       221\n",
      "   macro avg       0.63      0.62      0.63       221\n",
      "weighted avg       0.93      0.93      0.93       221\n",
      "\n",
      "Kappa Score: 0.2501696448767248\n"
     ]
    }
   ],
   "source": [
    "clf.fit(X_train_y_G3,y_train_y_G3)\n",
    "y_pred_y_G3 = clf.predict(X_test_y_G3)\n",
    "print(classification_report(y_pred_y_G3,y_test_y_G3))\n",
    "print(\"Kappa Score: \" +str(cohen_kappa_score(y_pred_y_G3,y_test_y_G3)))\n",
    "probagnbG3y = clf.predict_proba(X_test_y_G3)"
   ]
  },
  {
   "cell_type": "code",
   "execution_count": 35,
   "metadata": {},
   "outputs": [],
   "source": [
    "proba_gnbG1x = []\n",
    "for i in range(len(probagnbG1x)):\n",
    "    proba_gnbG1x.append(round(probagnbG1x[i][1],4))\n",
    "proba_gnbG3x = []\n",
    "for i in range(len(probagnbG3x)):\n",
    "    proba_gnbG3x.append(round(probagnbG3x[i][1],4))\n",
    "proba_gnbG1y = []\n",
    "for i in range(len(probagnbG1y)):\n",
    "    proba_gnbG1y.append(round(probagnbG1y[i][1],4))\n",
    "proba_gnbG3y = []\n",
    "for i in range(len(probagnbG3y)):\n",
    "    proba_gnbG3y.append(round(probagnbG3y[i][1],4))\n",
    "probadf[\"Prob of G1x Using GNB\"] = proba_gnbG1x\n",
    "probadf[\"Prob of G3x Using GNB\"] = proba_gnbG3x\n",
    "probadf[\"Prob of G1y Using GNB\"] = proba_gnbG1y\n",
    "probadf[\"Prob of G3y Using GNB\"] = proba_gnbG3y"
   ]
  },
  {
   "cell_type": "code",
   "execution_count": 36,
   "metadata": {},
   "outputs": [
    {
     "data": {
      "text/html": [
       "<div>\n",
       "<style scoped>\n",
       "    .dataframe tbody tr th:only-of-type {\n",
       "        vertical-align: middle;\n",
       "    }\n",
       "\n",
       "    .dataframe tbody tr th {\n",
       "        vertical-align: top;\n",
       "    }\n",
       "\n",
       "    .dataframe thead th {\n",
       "        text-align: right;\n",
       "    }\n",
       "</style>\n",
       "<table border=\"1\" class=\"dataframe\">\n",
       "  <thead>\n",
       "    <tr style=\"text-align: right;\">\n",
       "      <th></th>\n",
       "      <th>Prob of G1x Using GNB</th>\n",
       "      <th>Prob of G3x Using GNB</th>\n",
       "      <th>Prob of G1y Using GNB</th>\n",
       "      <th>Prob of G3y Using GNB</th>\n",
       "    </tr>\n",
       "  </thead>\n",
       "  <tbody>\n",
       "    <tr>\n",
       "      <td>0</td>\n",
       "      <td>0.1563</td>\n",
       "      <td>0.3578</td>\n",
       "      <td>0.0004</td>\n",
       "      <td>0.0000</td>\n",
       "    </tr>\n",
       "    <tr>\n",
       "      <td>1</td>\n",
       "      <td>0.1821</td>\n",
       "      <td>0.3547</td>\n",
       "      <td>0.2822</td>\n",
       "      <td>0.4112</td>\n",
       "    </tr>\n",
       "    <tr>\n",
       "      <td>2</td>\n",
       "      <td>0.1794</td>\n",
       "      <td>0.1967</td>\n",
       "      <td>0.0176</td>\n",
       "      <td>0.0205</td>\n",
       "    </tr>\n",
       "    <tr>\n",
       "      <td>3</td>\n",
       "      <td>0.2635</td>\n",
       "      <td>0.2354</td>\n",
       "      <td>0.0424</td>\n",
       "      <td>0.0200</td>\n",
       "    </tr>\n",
       "    <tr>\n",
       "      <td>4</td>\n",
       "      <td>0.7185</td>\n",
       "      <td>0.4417</td>\n",
       "      <td>0.0938</td>\n",
       "      <td>0.0336</td>\n",
       "    </tr>\n",
       "    <tr>\n",
       "      <td>...</td>\n",
       "      <td>...</td>\n",
       "      <td>...</td>\n",
       "      <td>...</td>\n",
       "      <td>...</td>\n",
       "    </tr>\n",
       "    <tr>\n",
       "      <td>216</td>\n",
       "      <td>0.1454</td>\n",
       "      <td>0.1965</td>\n",
       "      <td>0.0734</td>\n",
       "      <td>0.0306</td>\n",
       "    </tr>\n",
       "    <tr>\n",
       "      <td>217</td>\n",
       "      <td>0.1021</td>\n",
       "      <td>0.1278</td>\n",
       "      <td>0.0150</td>\n",
       "      <td>0.0031</td>\n",
       "    </tr>\n",
       "    <tr>\n",
       "      <td>218</td>\n",
       "      <td>0.1304</td>\n",
       "      <td>0.1756</td>\n",
       "      <td>0.0575</td>\n",
       "      <td>0.0043</td>\n",
       "    </tr>\n",
       "    <tr>\n",
       "      <td>219</td>\n",
       "      <td>0.1045</td>\n",
       "      <td>0.1714</td>\n",
       "      <td>0.0365</td>\n",
       "      <td>0.0009</td>\n",
       "    </tr>\n",
       "    <tr>\n",
       "      <td>220</td>\n",
       "      <td>0.7860</td>\n",
       "      <td>0.7745</td>\n",
       "      <td>0.6992</td>\n",
       "      <td>0.2478</td>\n",
       "    </tr>\n",
       "  </tbody>\n",
       "</table>\n",
       "<p>221 rows × 4 columns</p>\n",
       "</div>"
      ],
      "text/plain": [
       "     Prob of G1x Using GNB  Prob of G3x Using GNB  Prob of G1y Using GNB  \\\n",
       "0                   0.1563                 0.3578                 0.0004   \n",
       "1                   0.1821                 0.3547                 0.2822   \n",
       "2                   0.1794                 0.1967                 0.0176   \n",
       "3                   0.2635                 0.2354                 0.0424   \n",
       "4                   0.7185                 0.4417                 0.0938   \n",
       "..                     ...                    ...                    ...   \n",
       "216                 0.1454                 0.1965                 0.0734   \n",
       "217                 0.1021                 0.1278                 0.0150   \n",
       "218                 0.1304                 0.1756                 0.0575   \n",
       "219                 0.1045                 0.1714                 0.0365   \n",
       "220                 0.7860                 0.7745                 0.6992   \n",
       "\n",
       "     Prob of G3y Using GNB  \n",
       "0                   0.0000  \n",
       "1                   0.4112  \n",
       "2                   0.0205  \n",
       "3                   0.0200  \n",
       "4                   0.0336  \n",
       "..                     ...  \n",
       "216                 0.0306  \n",
       "217                 0.0031  \n",
       "218                 0.0043  \n",
       "219                 0.0009  \n",
       "220                 0.2478  \n",
       "\n",
       "[221 rows x 4 columns]"
      ]
     },
     "execution_count": 36,
     "metadata": {},
     "output_type": "execute_result"
    }
   ],
   "source": [
    "probadf"
   ]
  },
  {
   "cell_type": "markdown",
   "metadata": {},
   "source": [
    "### Decision Tree"
   ]
  },
  {
   "cell_type": "code",
   "execution_count": 37,
   "metadata": {},
   "outputs": [],
   "source": [
    "dtc = DecisionTreeClassifier()"
   ]
  },
  {
   "cell_type": "code",
   "execution_count": 38,
   "metadata": {},
   "outputs": [
    {
     "name": "stdout",
     "output_type": "stream",
     "text": [
      "              precision    recall  f1-score   support\n",
      "\n",
      "           0       0.77      0.77      0.77       162\n",
      "           1       0.36      0.36      0.36        59\n",
      "\n",
      "    accuracy                           0.66       221\n",
      "   macro avg       0.56      0.56      0.56       221\n",
      "weighted avg       0.66      0.66      0.66       221\n",
      "\n",
      "Kappa Score: 0.12822805448903374\n",
      "\t\n",
      "Feature Medu and its importance is 0.13694240103222688\n",
      "Feature reason and its importance is 0.12448805331397841\n",
      "Feature Fjob and its importance is 0.11507669227928903\n",
      "Feature age and its importance is 0.10951737056817479\n",
      "Feature Mjob and its importance is 0.10733083183025867\n",
      "Feature Fedu and its importance is 0.09293490215212807\n",
      "Feature famsize and its importance is 0.05764517165203918\n",
      "Feature famsup.x and its importance is 0.04873368253373825\n",
      "Feature address and its importance is 0.04800316609531896\n",
      "Feature internet and its importance is 0.03341354445516988\n",
      "Feature Pstatus and its importance is 0.03148063509166298\n",
      "Feature guardian.x and its importance is 0.029892289308648408\n",
      "Feature school and its importance is 0.023990050973903124\n",
      "Feature nursery and its importance is 0.020818795286212506\n",
      "Feature sex and its importance is 0.019732413427250812\n"
     ]
    },
    {
     "data": {
      "text/plain": [
       "([<matplotlib.axis.XTick at 0x7ff6e72efb10>,\n",
       "  <matplotlib.axis.XTick at 0x7ff6e72ef290>,\n",
       "  <matplotlib.axis.XTick at 0x7ff6e72ef190>,\n",
       "  <matplotlib.axis.XTick at 0x7ff6e732b390>,\n",
       "  <matplotlib.axis.XTick at 0x7ff6e73655d0>,\n",
       "  <matplotlib.axis.XTick at 0x7ff6e7365bd0>,\n",
       "  <matplotlib.axis.XTick at 0x7ff6e7365350>,\n",
       "  <matplotlib.axis.XTick at 0x7ff6e736c090>,\n",
       "  <matplotlib.axis.XTick at 0x7ff6e736ca90>,\n",
       "  <matplotlib.axis.XTick at 0x7ff6e7372090>,\n",
       "  <matplotlib.axis.XTick at 0x7ff6e7372710>,\n",
       "  <matplotlib.axis.XTick at 0x7ff6e7372d50>,\n",
       "  <matplotlib.axis.XTick at 0x7ff6e737a3d0>,\n",
       "  <matplotlib.axis.XTick at 0x7ff6e737aa10>,\n",
       "  <matplotlib.axis.XTick at 0x7ff6e737a7d0>],\n",
       " <a list of 15 Text xticklabel objects>)"
      ]
     },
     "execution_count": 38,
     "metadata": {},
     "output_type": "execute_result"
    },
    {
     "data": {
      "image/png": "[encoded data removed]",
      "text/plain": [
       "<Figure size 432x288 with 1 Axes>"
      ]
     },
     "metadata": {
      "needs_background": "light"
     },
     "output_type": "display_data"
    }
   ],
   "source": [
    "imp_dict={}\n",
    "dtc.fit(X_train_x_G1,y_train_x_G1)\n",
    "y_pred_x_G1= dtc.predict(X_test_x_G1)\n",
    "probadtcG1x = dtc.predict_proba(X_test_x_G1)\n",
    "print(classification_report(y_pred_x_G1,y_test_x_G1))\n",
    "print(\"Kappa Score: \" +str(cohen_kappa_score(y_pred_x_G1,y_test_x_G1)))\n",
    "print(\"\\t\")\n",
    "for importance, name in sorted(zip(dtc.feature_importances_, X_train_x_G1.columns),reverse=True):\n",
    "    imp_dict[name] = importance\n",
    "    print('Feature '+name+ ' and its importance is '+str(importance))\n",
    "plt.bar(range(len(imp_dict)), list(imp_dict.values()), align='center')\n",
    "plt.xticks(range(len(imp_dict)), list(imp_dict.keys()),rotation=90)"
   ]
  },
  {
   "cell_type": "code",
   "execution_count": 39,
   "metadata": {},
   "outputs": [
    {
     "name": "stdout",
     "output_type": "stream",
     "text": [
      "              precision    recall  f1-score   support\n",
      "\n",
      "           0       0.65      0.73      0.69       134\n",
      "           1       0.49      0.40      0.44        87\n",
      "\n",
      "    accuracy                           0.60       221\n",
      "   macro avg       0.57      0.57      0.57       221\n",
      "weighted avg       0.59      0.60      0.59       221\n",
      "\n",
      "Kappa Score: 0.13809608225491943\n",
      "\t\n",
      "Feature Fjob and its importance is 0.10793799152521627\n",
      "Feature Mjob and its importance is 0.10656131946902221\n",
      "Feature Medu and its importance is 0.09742001766290086\n",
      "Feature reason and its importance is 0.09374770472082714\n",
      "Feature age and its importance is 0.07925617616714954\n",
      "Feature famsize and its importance is 0.07743761874761945\n",
      "Feature Fedu and its importance is 0.07405858259029789\n",
      "Feature address and its importance is 0.05783432753981356\n",
      "Feature sex and its importance is 0.05718856750264223\n",
      "Feature nursery and its importance is 0.0557826880762197\n",
      "Feature guardian.x and its importance is 0.0529677302877865\n",
      "Feature famsup.x and its importance is 0.05035437325654488\n",
      "Feature Pstatus and its importance is 0.04495598891602852\n",
      "Feature school and its importance is 0.03094202379547118\n",
      "Feature internet and its importance is 0.013554889742460073\n"
     ]
    },
    {
     "data": {
      "text/plain": [
       "([<matplotlib.axis.XTick at 0x7ff6e7607490>,\n",
       "  <matplotlib.axis.XTick at 0x7ff6e760ad50>,\n",
       "  <matplotlib.axis.XTick at 0x7ff6e725f550>,\n",
       "  <matplotlib.axis.XTick at 0x7ff6e73bea90>,\n",
       "  <matplotlib.axis.XTick at 0x7ff6e73bef50>,\n",
       "  <matplotlib.axis.XTick at 0x7ff6e73cb590>,\n",
       "  <matplotlib.axis.XTick at 0x7ff6e73cbc10>,\n",
       "  <matplotlib.axis.XTick at 0x7ff6e73d0290>,\n",
       "  <matplotlib.axis.XTick at 0x7ff6e73d08d0>,\n",
       "  <matplotlib.axis.XTick at 0x7ff6e73d0f10>,\n",
       "  <matplotlib.axis.XTick at 0x7ff6e73d7550>,\n",
       "  <matplotlib.axis.XTick at 0x7ff6e73d7b90>,\n",
       "  <matplotlib.axis.XTick at 0x7ff6e73d73d0>,\n",
       "  <matplotlib.axis.XTick at 0x7ff6e73cbad0>,\n",
       "  <matplotlib.axis.XTick at 0x7ff6e73de090>],\n",
       " <a list of 15 Text xticklabel objects>)"
      ]
     },
     "execution_count": 39,
     "metadata": {},
     "output_type": "execute_result"
    },
    {
     "data": {
      "image/png": "[encoded data removed]",
      "text/plain": [
       "<Figure size 432x288 with 1 Axes>"
      ]
     },
     "metadata": {
      "needs_background": "light"
     },
     "output_type": "display_data"
    }
   ],
   "source": [
    "imp_dict={}\n",
    "dtc.fit(X_train_x_G3,y_train_x_G3)\n",
    "y_pred_x_G3= dtc.predict(X_test_x_G3)\n",
    "probadtcG3x = dtc.predict_proba(X_test_x_G3)\n",
    "print(classification_report(y_pred_x_G3,y_test_x_G3))\n",
    "print(\"Kappa Score: \" +str(cohen_kappa_score(y_pred_x_G3,y_test_x_G3)))\n",
    "print(\"\\t\")\n",
    "for importance, name in sorted(zip(dtc.feature_importances_, X_train_x_G3.columns),reverse=True):\n",
    "    imp_dict[name] = importance\n",
    "    print('Feature '+name+ ' and its importance is '+str(importance))\n",
    "plt.bar(range(len(imp_dict)), list(imp_dict.values()), align='center')\n",
    "plt.xticks(range(len(imp_dict)), list(imp_dict.keys()),rotation=90)"
   ]
  },
  {
   "cell_type": "code",
   "execution_count": 40,
   "metadata": {},
   "outputs": [
    {
     "name": "stdout",
     "output_type": "stream",
     "text": [
      "              precision    recall  f1-score   support\n",
      "\n",
      "           0       0.88      0.93      0.90       195\n",
      "           1       0.00      0.00      0.00        26\n",
      "\n",
      "    accuracy                           0.82       221\n",
      "   macro avg       0.44      0.47      0.45       221\n",
      "weighted avg       0.77      0.82      0.80       221\n",
      "\n",
      "Kappa Score: -0.08510638297872353\n",
      "\t\n",
      "Feature reason and its importance is 0.14361519119935795\n",
      "Feature Medu and its importance is 0.10340798651211895\n",
      "Feature age and its importance is 0.10246404360132483\n",
      "Feature nursery and its importance is 0.09571034780624126\n",
      "Feature Mjob and its importance is 0.08622520807515115\n",
      "Feature guardian.y and its importance is 0.07707039368601065\n",
      "Feature school and its importance is 0.0685288208126874\n",
      "Feature Fedu and its importance is 0.0601191005308205\n",
      "Feature sex and its importance is 0.05802242778732803\n",
      "Feature Fjob and its importance is 0.05117190583665772\n",
      "Feature famsup.y and its importance is 0.0495910627845991\n",
      "Feature internet and its importance is 0.03924965881969711\n",
      "Feature address and its importance is 0.032846391033183334\n",
      "Feature famsize and its importance is 0.02146960496455064\n",
      "Feature Pstatus and its importance is 0.010507856550271493\n"
     ]
    },
    {
     "data": {
      "text/plain": [
       "([<matplotlib.axis.XTick at 0x7ff6e7671250>,\n",
       "  <matplotlib.axis.XTick at 0x7ff6e767bd90>,\n",
       "  <matplotlib.axis.XTick at 0x7ff6e767ba90>,\n",
       "  <matplotlib.axis.XTick at 0x7ff6e77699d0>,\n",
       "  <matplotlib.axis.XTick at 0x7ff6e7769ed0>,\n",
       "  <matplotlib.axis.XTick at 0x7ff6e7773490>,\n",
       "  <matplotlib.axis.XTick at 0x7ff6e7773a50>,\n",
       "  <matplotlib.axis.XTick at 0x7ff6e7779050>,\n",
       "  <matplotlib.axis.XTick at 0x7ff6e7779710>,\n",
       "  <matplotlib.axis.XTick at 0x7ff6e7779d50>,\n",
       "  <matplotlib.axis.XTick at 0x7ff6e777f390>,\n",
       "  <matplotlib.axis.XTick at 0x7ff6e777f9d0>,\n",
       "  <matplotlib.axis.XTick at 0x7ff6e777fdd0>,\n",
       "  <matplotlib.axis.XTick at 0x7ff6e77791d0>,\n",
       "  <matplotlib.axis.XTick at 0x7ff6e7769a50>],\n",
       " <a list of 15 Text xticklabel objects>)"
      ]
     },
     "execution_count": 40,
     "metadata": {},
     "output_type": "execute_result"
    },
    {
     "data": {
      "image/png": "[encoded data removed]",
      "text/plain": [
       "<Figure size 432x288 with 1 Axes>"
      ]
     },
     "metadata": {
      "needs_background": "light"
     },
     "output_type": "display_data"
    }
   ],
   "source": [
    "imp_dict={}\n",
    "dtc.fit(X_train_y_G1,y_train_y_G1)\n",
    "y_pred_y_G1 = dtc.predict(X_test_y_G1)\n",
    "probadtcG1y = dtc.predict_proba(X_test_y_G1)\n",
    "print(classification_report(y_pred_y_G1,y_test_y_G1))\n",
    "print(\"Kappa Score: \" +str(cohen_kappa_score(y_pred_y_G1,y_test_y_G1)))\n",
    "print(\"\\t\")\n",
    "for importance, name in sorted(zip(dtc.feature_importances_, X_train_y_G1.columns),reverse=True):\n",
    "    imp_dict[name] = importance\n",
    "    print ('Feature '+name+ ' and its importance is '+str(importance))\n",
    "plt.bar(range(len(imp_dict)), list(imp_dict.values()), align='center')\n",
    "plt.xticks(range(len(imp_dict)), list(imp_dict.keys()),rotation=90)"
   ]
  },
  {
   "cell_type": "code",
   "execution_count": 41,
   "metadata": {},
   "outputs": [
    {
     "name": "stdout",
     "output_type": "stream",
     "text": [
      "              precision    recall  f1-score   support\n",
      "\n",
      "           0       0.95      0.96      0.95       208\n",
      "           1       0.20      0.15      0.17        13\n",
      "\n",
      "    accuracy                           0.91       221\n",
      "   macro avg       0.57      0.56      0.56       221\n",
      "weighted avg       0.90      0.91      0.91       221\n",
      "\n",
      "Kappa Score: 0.12938005390835583\n",
      "\t\n",
      "Feature age and its importance is 0.15690949463733525\n",
      "Feature guardian.y and its importance is 0.12896752923131746\n",
      "Feature Medu and its importance is 0.1239119961285805\n",
      "Feature reason and its importance is 0.11191915529976473\n",
      "Feature Mjob and its importance is 0.08503560941674766\n",
      "Feature Fjob and its importance is 0.06380519052365027\n",
      "Feature address and its importance is 0.05691869353698632\n",
      "Feature Fedu and its importance is 0.054508709246852714\n",
      "Feature famsup.y and its importance is 0.049617108575852144\n",
      "Feature internet and its importance is 0.04943602423798404\n",
      "Feature sex and its importance is 0.045897485212233836\n",
      "Feature school and its importance is 0.03533037453558653\n",
      "Feature famsize and its importance is 0.020064183536821847\n",
      "Feature Pstatus and its importance is 0.015133476807546137\n",
      "Feature nursery and its importance is 0.0025449690727405217\n"
     ]
    },
    {
     "data": {
      "text/plain": [
       "([<matplotlib.axis.XTick at 0x7ff6e784ab90>,\n",
       "  <matplotlib.axis.XTick at 0x7ff6e7652650>,\n",
       "  <matplotlib.axis.XTick at 0x7ff6e784a410>,\n",
       "  <matplotlib.axis.XTick at 0x7ff6e77dd210>,\n",
       "  <matplotlib.axis.XTick at 0x7ff6e77dd750>,\n",
       "  <matplotlib.axis.XTick at 0x7ff6e77ddcd0>,\n",
       "  <matplotlib.axis.XTick at 0x7ff6e77e2350>,\n",
       "  <matplotlib.axis.XTick at 0x7ff6e77e2990>,\n",
       "  <matplotlib.axis.XTick at 0x7ff6e77e2f10>,\n",
       "  <matplotlib.axis.XTick at 0x7ff6e78ce650>,\n",
       "  <matplotlib.axis.XTick at 0x7ff6e78cec50>,\n",
       "  <matplotlib.axis.XTick at 0x7ff6e78d62d0>,\n",
       "  <matplotlib.axis.XTick at 0x7ff6e78d6910>,\n",
       "  <matplotlib.axis.XTick at 0x7ff6e78ce510>,\n",
       "  <matplotlib.axis.XTick at 0x7ff6e77dd2d0>],\n",
       " <a list of 15 Text xticklabel objects>)"
      ]
     },
     "execution_count": 41,
     "metadata": {},
     "output_type": "execute_result"
    },
    {
     "data": {
      "image/png": "[encoded data removed]",
      "text/plain": [
       "<Figure size 432x288 with 1 Axes>"
      ]
     },
     "metadata": {
      "needs_background": "light"
     },
     "output_type": "display_data"
    }
   ],
   "source": [
    "imp_dict={}\n",
    "dtc.fit(X_train_y_G3,y_train_y_G3)\n",
    "y_pred_y_G3 = dtc.predict(X_test_y_G3)\n",
    "probadtcG3y = dtc.predict_proba(X_test_y_G3)\n",
    "print(classification_report(y_pred_y_G3,y_test_y_G3))\n",
    "print(\"Kappa Score: \" +str(cohen_kappa_score(y_pred_y_G3,y_test_y_G3)))\n",
    "print(\"\\t\")\n",
    "for importance, name in sorted(zip(dtc.feature_importances_, X_train_y_G3.columns),reverse=True):\n",
    "    imp_dict[name] = importance\n",
    "    print ('Feature '+name+ ' and its importance is '+str(importance))\n",
    "plt.bar(range(len(imp_dict)), list(imp_dict.values()), align='center')\n",
    "plt.xticks(range(len(imp_dict)), list(imp_dict.keys()),rotation=90)\n"
   ]
  },
  {
   "cell_type": "code",
   "execution_count": 42,
   "metadata": {},
   "outputs": [],
   "source": [
    "proba_dtcG1x = []\n",
    "for i in range(len(probadtcG1x)):\n",
    "    proba_dtcG1x.append(round(probadtcG1x[i][1],4))\n",
    "proba_dtcG3x = []\n",
    "for i in range(len(probadtcG3x)):\n",
    "    proba_dtcG3x.append(round(probadtcG3x[i][1],4))\n",
    "proba_dtcG1y = []\n",
    "for i in range(len(probadtcG1y)):\n",
    "    proba_dtcG1y.append(round(probadtcG1y[i][1],4))\n",
    "proba_dtcG3y = []\n",
    "for i in range(len(probadtcG3y)):\n",
    "    proba_dtcG3y.append(round(probadtcG3y[i][1],4))\n",
    "probadf[\"Prob of G1x Using DTC\"] = proba_dtcG1x\n",
    "probadf[\"Prob of G3x Using DTC\"] = proba_dtcG3x\n",
    "probadf[\"Prob of G1y Using DTC\"] = proba_dtcG1y\n",
    "probadf[\"Prob of G3y Using DTC\"] = proba_dtcG3y"
   ]
  },
  {
   "cell_type": "code",
   "execution_count": 43,
   "metadata": {},
   "outputs": [
    {
     "data": {
      "text/html": [
       "<div>\n",
       "<style scoped>\n",
       "    .dataframe tbody tr th:only-of-type {\n",
       "        vertical-align: middle;\n",
       "    }\n",
       "\n",
       "    .dataframe tbody tr th {\n",
       "        vertical-align: top;\n",
       "    }\n",
       "\n",
       "    .dataframe thead th {\n",
       "        text-align: right;\n",
       "    }\n",
       "</style>\n",
       "<table border=\"1\" class=\"dataframe\">\n",
       "  <thead>\n",
       "    <tr style=\"text-align: right;\">\n",
       "      <th></th>\n",
       "      <th>Prob of G1x Using GNB</th>\n",
       "      <th>Prob of G3x Using GNB</th>\n",
       "      <th>Prob of G1y Using GNB</th>\n",
       "      <th>Prob of G3y Using GNB</th>\n",
       "      <th>Prob of G1x Using DTC</th>\n",
       "      <th>Prob of G3x Using DTC</th>\n",
       "      <th>Prob of G1y Using DTC</th>\n",
       "      <th>Prob of G3y Using DTC</th>\n",
       "    </tr>\n",
       "  </thead>\n",
       "  <tbody>\n",
       "    <tr>\n",
       "      <td>0</td>\n",
       "      <td>0.1563</td>\n",
       "      <td>0.3578</td>\n",
       "      <td>0.0004</td>\n",
       "      <td>0.0000</td>\n",
       "      <td>0.0</td>\n",
       "      <td>0.0</td>\n",
       "      <td>0.0</td>\n",
       "      <td>0.0</td>\n",
       "    </tr>\n",
       "    <tr>\n",
       "      <td>1</td>\n",
       "      <td>0.1821</td>\n",
       "      <td>0.3547</td>\n",
       "      <td>0.2822</td>\n",
       "      <td>0.4112</td>\n",
       "      <td>0.0</td>\n",
       "      <td>0.0</td>\n",
       "      <td>0.0</td>\n",
       "      <td>0.0</td>\n",
       "    </tr>\n",
       "    <tr>\n",
       "      <td>2</td>\n",
       "      <td>0.1794</td>\n",
       "      <td>0.1967</td>\n",
       "      <td>0.0176</td>\n",
       "      <td>0.0205</td>\n",
       "      <td>0.0</td>\n",
       "      <td>0.0</td>\n",
       "      <td>0.0</td>\n",
       "      <td>0.0</td>\n",
       "    </tr>\n",
       "    <tr>\n",
       "      <td>3</td>\n",
       "      <td>0.2635</td>\n",
       "      <td>0.2354</td>\n",
       "      <td>0.0424</td>\n",
       "      <td>0.0200</td>\n",
       "      <td>0.0</td>\n",
       "      <td>0.0</td>\n",
       "      <td>1.0</td>\n",
       "      <td>0.0</td>\n",
       "    </tr>\n",
       "    <tr>\n",
       "      <td>4</td>\n",
       "      <td>0.7185</td>\n",
       "      <td>0.4417</td>\n",
       "      <td>0.0938</td>\n",
       "      <td>0.0336</td>\n",
       "      <td>1.0</td>\n",
       "      <td>1.0</td>\n",
       "      <td>0.0</td>\n",
       "      <td>0.0</td>\n",
       "    </tr>\n",
       "    <tr>\n",
       "      <td>...</td>\n",
       "      <td>...</td>\n",
       "      <td>...</td>\n",
       "      <td>...</td>\n",
       "      <td>...</td>\n",
       "      <td>...</td>\n",
       "      <td>...</td>\n",
       "      <td>...</td>\n",
       "      <td>...</td>\n",
       "    </tr>\n",
       "    <tr>\n",
       "      <td>216</td>\n",
       "      <td>0.1454</td>\n",
       "      <td>0.1965</td>\n",
       "      <td>0.0734</td>\n",
       "      <td>0.0306</td>\n",
       "      <td>0.0</td>\n",
       "      <td>0.0</td>\n",
       "      <td>1.0</td>\n",
       "      <td>0.0</td>\n",
       "    </tr>\n",
       "    <tr>\n",
       "      <td>217</td>\n",
       "      <td>0.1021</td>\n",
       "      <td>0.1278</td>\n",
       "      <td>0.0150</td>\n",
       "      <td>0.0031</td>\n",
       "      <td>0.0</td>\n",
       "      <td>0.0</td>\n",
       "      <td>0.0</td>\n",
       "      <td>1.0</td>\n",
       "    </tr>\n",
       "    <tr>\n",
       "      <td>218</td>\n",
       "      <td>0.1304</td>\n",
       "      <td>0.1756</td>\n",
       "      <td>0.0575</td>\n",
       "      <td>0.0043</td>\n",
       "      <td>0.0</td>\n",
       "      <td>0.0</td>\n",
       "      <td>0.0</td>\n",
       "      <td>0.0</td>\n",
       "    </tr>\n",
       "    <tr>\n",
       "      <td>219</td>\n",
       "      <td>0.1045</td>\n",
       "      <td>0.1714</td>\n",
       "      <td>0.0365</td>\n",
       "      <td>0.0009</td>\n",
       "      <td>0.0</td>\n",
       "      <td>0.0</td>\n",
       "      <td>1.0</td>\n",
       "      <td>0.0</td>\n",
       "    </tr>\n",
       "    <tr>\n",
       "      <td>220</td>\n",
       "      <td>0.7860</td>\n",
       "      <td>0.7745</td>\n",
       "      <td>0.6992</td>\n",
       "      <td>0.2478</td>\n",
       "      <td>0.0</td>\n",
       "      <td>1.0</td>\n",
       "      <td>0.0</td>\n",
       "      <td>0.0</td>\n",
       "    </tr>\n",
       "  </tbody>\n",
       "</table>\n",
       "<p>221 rows × 8 columns</p>\n",
       "</div>"
      ],
      "text/plain": [
       "     Prob of G1x Using GNB  Prob of G3x Using GNB  Prob of G1y Using GNB  \\\n",
       "0                   0.1563                 0.3578                 0.0004   \n",
       "1                   0.1821                 0.3547                 0.2822   \n",
       "2                   0.1794                 0.1967                 0.0176   \n",
       "3                   0.2635                 0.2354                 0.0424   \n",
       "4                   0.7185                 0.4417                 0.0938   \n",
       "..                     ...                    ...                    ...   \n",
       "216                 0.1454                 0.1965                 0.0734   \n",
       "217                 0.1021                 0.1278                 0.0150   \n",
       "218                 0.1304                 0.1756                 0.0575   \n",
       "219                 0.1045                 0.1714                 0.0365   \n",
       "220                 0.7860                 0.7745                 0.6992   \n",
       "\n",
       "     Prob of G3y Using GNB  Prob of G1x Using DTC  Prob of G3x Using DTC  \\\n",
       "0                   0.0000                    0.0                    0.0   \n",
       "1                   0.4112                    0.0                    0.0   \n",
       "2                   0.0205                    0.0                    0.0   \n",
       "3                   0.0200                    0.0                    0.0   \n",
       "4                   0.0336                    1.0                    1.0   \n",
       "..                     ...                    ...                    ...   \n",
       "216                 0.0306                    0.0                    0.0   \n",
       "217                 0.0031                    0.0                    0.0   \n",
       "218                 0.0043                    0.0                    0.0   \n",
       "219                 0.0009                    0.0                    0.0   \n",
       "220                 0.2478                    0.0                    1.0   \n",
       "\n",
       "     Prob of G1y Using DTC  Prob of G3y Using DTC  \n",
       "0                      0.0                    0.0  \n",
       "1                      0.0                    0.0  \n",
       "2                      0.0                    0.0  \n",
       "3                      1.0                    0.0  \n",
       "4                      0.0                    0.0  \n",
       "..                     ...                    ...  \n",
       "216                    1.0                    0.0  \n",
       "217                    0.0                    1.0  \n",
       "218                    0.0                    0.0  \n",
       "219                    1.0                    0.0  \n",
       "220                    0.0                    0.0  \n",
       "\n",
       "[221 rows x 8 columns]"
      ]
     },
     "execution_count": 43,
     "metadata": {},
     "output_type": "execute_result"
    }
   ],
   "source": [
    "probadf"
   ]
  },
  {
   "cell_type": "markdown",
   "metadata": {},
   "source": [
    "### Random Forest Classifier"
   ]
  },
  {
   "cell_type": "code",
   "execution_count": 44,
   "metadata": {},
   "outputs": [],
   "source": [
    "rf = RandomForestClassifier()"
   ]
  },
  {
   "cell_type": "code",
   "execution_count": 45,
   "metadata": {},
   "outputs": [
    {
     "name": "stdout",
     "output_type": "stream",
     "text": [
      "              precision    recall  f1-score   support\n",
      "\n",
      "           0       0.96      0.75      0.84       208\n",
      "           1       0.10      0.46      0.17        13\n",
      "\n",
      "    accuracy                           0.73       221\n",
      "   macro avg       0.53      0.61      0.50       221\n",
      "weighted avg       0.91      0.73      0.80       221\n",
      "\n",
      "Kappa Score: 0.08065994500458284\n",
      "\t\n",
      "Feature Fedu and its importance is 0.11906367715109167\n",
      "Feature Mjob and its importance is 0.11662330442664777\n",
      "Feature age and its importance is 0.11573320478618725\n",
      "Feature Medu and its importance is 0.10836991784502562\n",
      "Feature reason and its importance is 0.10465268363362938\n",
      "Feature Fjob and its importance is 0.0907531926036551\n",
      "Feature guardian.x and its importance is 0.05663586903230927\n",
      "Feature famsup.x and its importance is 0.047417001076520714\n",
      "Feature sex and its importance is 0.044504298591080016\n",
      "Feature famsize and its importance is 0.04085416173813137\n",
      "Feature address and its importance is 0.0400469875992755\n",
      "Feature nursery and its importance is 0.03388984300877546\n",
      "Feature internet and its importance is 0.033004492642475555\n",
      "Feature Pstatus and its importance is 0.02446519439620162\n",
      "Feature school and its importance is 0.023986171468993716\n"
     ]
    },
    {
     "data": {
      "text/plain": [
       "([<matplotlib.axis.XTick at 0x7ff6e78dd350>,\n",
       "  <matplotlib.axis.XTick at 0x7ff6e79b8110>,\n",
       "  <matplotlib.axis.XTick at 0x7ff6e79b7dd0>,\n",
       "  <matplotlib.axis.XTick at 0x7ff6e7a43b10>,\n",
       "  <matplotlib.axis.XTick at 0x7ff6e7a43cd0>,\n",
       "  <matplotlib.axis.XTick at 0x7ff6e7a4c610>,\n",
       "  <matplotlib.axis.XTick at 0x7ff6e7a4cc90>,\n",
       "  <matplotlib.axis.XTick at 0x7ff6e7a4c450>,\n",
       "  <matplotlib.axis.XTick at 0x7ff6e7a514d0>,\n",
       "  <matplotlib.axis.XTick at 0x7ff6e7a51b10>,\n",
       "  <matplotlib.axis.XTick at 0x7ff6e7a59190>,\n",
       "  <matplotlib.axis.XTick at 0x7ff6e7a59790>,\n",
       "  <matplotlib.axis.XTick at 0x7ff6e7a59dd0>,\n",
       "  <matplotlib.axis.XTick at 0x7ff6e7a5f450>,\n",
       "  <matplotlib.axis.XTick at 0x7ff6e7a5fa90>],\n",
       " <a list of 15 Text xticklabel objects>)"
      ]
     },
     "execution_count": 45,
     "metadata": {},
     "output_type": "execute_result"
    },
    {
     "data": {
      "image/png": "[encoded data removed]",
      "text/plain": [
       "<Figure size 432x288 with 1 Axes>"
      ]
     },
     "metadata": {
      "needs_background": "light"
     },
     "output_type": "display_data"
    }
   ],
   "source": [
    "imp_dict={}\n",
    "rf.fit(X_train_x_G1,y_train_x_G1)\n",
    "y_pred_x_G1= rf.predict(X_test_x_G1)\n",
    "probarfG1x = rf.predict_proba(X_test_x_G1)\n",
    "\n",
    "print(classification_report(y_pred_x_G1,y_test_x_G1))\n",
    "print(\"Kappa Score: \" +str(cohen_kappa_score(y_pred_x_G1,y_test_x_G1)))\n",
    "print(\"\\t\")\n",
    "for importance, name in sorted(zip(rf.feature_importances_, X_train_x_G1.columns),reverse=True):\n",
    "    imp_dict[name] = importance\n",
    "    print('Feature '+name+ ' and its importance is '+str(importance))\n",
    "plt.bar(range(len(imp_dict)), list(imp_dict.values()), align='center')\n",
    "plt.xticks(range(len(imp_dict)), list(imp_dict.keys()),rotation=90)"
   ]
  },
  {
   "cell_type": "code",
   "execution_count": 46,
   "metadata": {},
   "outputs": [
    {
     "name": "stdout",
     "output_type": "stream",
     "text": [
      "              precision    recall  f1-score   support\n",
      "\n",
      "           0       0.93      0.69      0.80       202\n",
      "           1       0.13      0.47      0.20        19\n",
      "\n",
      "    accuracy                           0.67       221\n",
      "   macro avg       0.53      0.58      0.50       221\n",
      "weighted avg       0.86      0.67      0.74       221\n",
      "\n",
      "Kappa Score: 0.07445323406235471\n",
      "\t\n",
      "Feature age and its importance is 0.12033589895235636\n",
      "Feature Mjob and its importance is 0.1163968558631451\n",
      "Feature Medu and its importance is 0.1090888303419043\n",
      "Feature Fedu and its importance is 0.10679855790534398\n",
      "Feature reason and its importance is 0.10102165986978028\n",
      "Feature Fjob and its importance is 0.09087734310271606\n",
      "Feature guardian.x and its importance is 0.06164795560120307\n",
      "Feature sex and its importance is 0.04857367174788154\n",
      "Feature famsize and its importance is 0.04562933716242792\n",
      "Feature famsup.x and its importance is 0.04238644759416144\n",
      "Feature nursery and its importance is 0.0377244915569895\n",
      "Feature address and its importance is 0.03723298446673759\n",
      "Feature internet and its importance is 0.03186062093414534\n",
      "Feature school and its importance is 0.025664049434796186\n",
      "Feature Pstatus and its importance is 0.024761295466411384\n"
     ]
    },
    {
     "data": {
      "text/plain": [
       "([<matplotlib.axis.XTick at 0x7ff6e79a5410>,\n",
       "  <matplotlib.axis.XTick at 0x7ff6e7b22f90>,\n",
       "  <matplotlib.axis.XTick at 0x7ff6e7b22c90>,\n",
       "  <matplotlib.axis.XTick at 0x7ff6e7aaadd0>,\n",
       "  <matplotlib.axis.XTick at 0x7ff6e7ab5310>,\n",
       "  <matplotlib.axis.XTick at 0x7ff6e7ab5910>,\n",
       "  <matplotlib.axis.XTick at 0x7ff6e7ab57d0>,\n",
       "  <matplotlib.axis.XTick at 0x7ff6e7abb610>,\n",
       "  <matplotlib.axis.XTick at 0x7ff6e7abbc50>,\n",
       "  <matplotlib.axis.XTick at 0x7ff6e7bb92d0>,\n",
       "  <matplotlib.axis.XTick at 0x7ff6e7bb98d0>,\n",
       "  <matplotlib.axis.XTick at 0x7ff6e7bb9f10>,\n",
       "  <matplotlib.axis.XTick at 0x7ff6e7bb9650>,\n",
       "  <matplotlib.axis.XTick at 0x7ff6e7abb410>,\n",
       "  <matplotlib.axis.XTick at 0x7ff6e7bbf3d0>],\n",
       " <a list of 15 Text xticklabel objects>)"
      ]
     },
     "execution_count": 46,
     "metadata": {},
     "output_type": "execute_result"
    },
    {
     "data": {
      "image/png": "[encoded data removed]",
      "text/plain": [
       "<Figure size 432x288 with 1 Axes>"
      ]
     },
     "metadata": {
      "needs_background": "light"
     },
     "output_type": "display_data"
    }
   ],
   "source": [
    "imp_dict={}\n",
    "rf.fit(X_train_x_G3,y_train_x_G3)\n",
    "y_pred_x_G3= rf.predict(X_test_x_G3)\n",
    "probarfG3x = rf.predict_proba(X_test_x_G3)\n",
    "\n",
    "print(classification_report(y_pred_x_G3,y_test_x_G3))\n",
    "print(\"Kappa Score: \" +str(cohen_kappa_score(y_pred_x_G3,y_test_x_G3)))\n",
    "print(\"\\t\")\n",
    "for importance, name in sorted(zip(rf.feature_importances_, X_train_x_G3.columns),reverse=True):\n",
    "    imp_dict[name] = importance\n",
    "    print('Feature '+name+ ' and its importance is '+str(importance))\n",
    "plt.bar(range(len(imp_dict)), list(imp_dict.values()), align='center')\n",
    "plt.xticks(range(len(imp_dict)), list(imp_dict.keys()),rotation=90)"
   ]
  },
  {
   "cell_type": "code",
   "execution_count": 47,
   "metadata": {},
   "outputs": [
    {
     "name": "stdout",
     "output_type": "stream",
     "text": [
      "              precision    recall  f1-score   support\n",
      "\n",
      "           0       1.00      0.94      0.97       220\n",
      "           1       0.00      0.00      0.00         1\n",
      "\n",
      "    accuracy                           0.94       221\n",
      "   macro avg       0.50      0.47      0.48       221\n",
      "weighted avg       0.99      0.94      0.96       221\n",
      "\n",
      "Kappa Score: -0.008474576271186418\n",
      "\t\n",
      "Feature age and its importance is 0.12500109807144383\n",
      "Feature Medu and its importance is 0.10361717047826127\n",
      "Feature Mjob and its importance is 0.09916020639936167\n",
      "Feature Fedu and its importance is 0.09718474442519555\n",
      "Feature reason and its importance is 0.09562135070927519\n",
      "Feature Fjob and its importance is 0.07617242080049332\n",
      "Feature guardian.y and its importance is 0.0622573327764837\n",
      "Feature address and its importance is 0.05535550530434652\n",
      "Feature sex and its importance is 0.05513819223148034\n",
      "Feature famsup.y and its importance is 0.05475886503632815\n",
      "Feature school and its importance is 0.048792089596580004\n",
      "Feature nursery and its importance is 0.038880328663635194\n",
      "Feature famsize and its importance is 0.03359024300285454\n",
      "Feature internet and its importance is 0.033208938207807986\n",
      "Feature Pstatus and its importance is 0.021261514296452465\n"
     ]
    },
    {
     "data": {
      "text/plain": [
       "([<matplotlib.axis.XTick at 0x7ff6e7c90750>,\n",
       "  <matplotlib.axis.XTick at 0x7ff6e7451c90>,\n",
       "  <matplotlib.axis.XTick at 0x7ff6e7bbf0d0>,\n",
       "  <matplotlib.axis.XTick at 0x7ff6e7bffed0>,\n",
       "  <matplotlib.axis.XTick at 0x7ff6e7c0a450>,\n",
       "  <matplotlib.axis.XTick at 0x7ff6e7c0aa50>,\n",
       "  <matplotlib.axis.XTick at 0x7ff6e7c0ac90>,\n",
       "  <matplotlib.axis.XTick at 0x7ff6e7c122d0>,\n",
       "  <matplotlib.axis.XTick at 0x7ff6e7c12850>,\n",
       "  <matplotlib.axis.XTick at 0x7ff6e7c12e90>,\n",
       "  <matplotlib.axis.XTick at 0x7ff6e7c184d0>,\n",
       "  <matplotlib.axis.XTick at 0x7ff6e7c18b10>,\n",
       "  <matplotlib.axis.XTick at 0x7ff6e7c1f1d0>,\n",
       "  <matplotlib.axis.XTick at 0x7ff6e7c1f7d0>,\n",
       "  <matplotlib.axis.XTick at 0x7ff6e7c1fe10>],\n",
       " <a list of 15 Text xticklabel objects>)"
      ]
     },
     "execution_count": 47,
     "metadata": {},
     "output_type": "execute_result"
    },
    {
     "data": {
      "image/png": "[encoded data removed]",
      "text/plain": [
       "<Figure size 432x288 with 1 Axes>"
      ]
     },
     "metadata": {
      "needs_background": "light"
     },
     "output_type": "display_data"
    }
   ],
   "source": [
    "imp_dict={}\n",
    "rf.fit(X_train_y_G1,y_train_y_G1)\n",
    "y_pred_y_G1 = rf.predict(X_test_y_G1)\n",
    "probarfG1y = rf.predict_proba(X_test_y_G1)\n",
    "\n",
    "print(classification_report(y_pred_y_G1,y_test_y_G1))\n",
    "print(\"Kappa Score: \" +str(cohen_kappa_score(y_pred_y_G1,y_test_y_G1)))\n",
    "print(\"\\t\")\n",
    "for importance, name in sorted(zip(rf.feature_importances_, X_train_y_G1.columns),reverse=True):\n",
    "    imp_dict[name] = importance\n",
    "    print ('Feature '+name+ ' and its importance is '+str(importance))\n",
    "plt.bar(range(len(imp_dict)), list(imp_dict.values()), align='center')\n",
    "plt.xticks(range(len(imp_dict)), list(imp_dict.keys()),rotation=90)"
   ]
  },
  {
   "cell_type": "code",
   "execution_count": 48,
   "metadata": {},
   "outputs": [
    {
     "name": "stdout",
     "output_type": "stream",
     "text": [
      "              precision    recall  f1-score   support\n",
      "\n",
      "           0       0.99      0.95      0.97       219\n",
      "           1       0.00      0.00      0.00         2\n",
      "\n",
      "    accuracy                           0.95       221\n",
      "   macro avg       0.50      0.48      0.49       221\n",
      "weighted avg       0.98      0.95      0.96       221\n",
      "\n",
      "Kappa Score: -0.015313935681469992\n",
      "\t\n",
      "Feature age and its importance is 0.12370582955290663\n",
      "Feature Medu and its importance is 0.10764563324232455\n",
      "Feature reason and its importance is 0.09855078884555103\n",
      "Feature Fedu and its importance is 0.09519481002142276\n",
      "Feature Mjob and its importance is 0.08509552494550109\n",
      "Feature Fjob and its importance is 0.08007980369389006\n",
      "Feature school and its importance is 0.07931056678461759\n",
      "Feature guardian.y and its importance is 0.06039586211373455\n",
      "Feature famsup.y and its importance is 0.05990670675962672\n",
      "Feature address and its importance is 0.04836348441213499\n",
      "Feature sex and its importance is 0.04674796152002915\n",
      "Feature famsize and its importance is 0.03688454586160798\n",
      "Feature nursery and its importance is 0.03187409782815761\n",
      "Feature internet and its importance is 0.03172778362437561\n",
      "Feature Pstatus and its importance is 0.014516600794119568\n"
     ]
    },
    {
     "data": {
      "text/plain": [
       "([<matplotlib.axis.XTick at 0x7ff6e7de4b50>,\n",
       "  <matplotlib.axis.XTick at 0x7ff6e7902910>,\n",
       "  <matplotlib.axis.XTick at 0x7ff6e7aaab90>,\n",
       "  <matplotlib.axis.XTick at 0x7ff6e7d6d090>,\n",
       "  <matplotlib.axis.XTick at 0x7ff6e7d6d6d0>,\n",
       "  <matplotlib.axis.XTick at 0x7ff6e7d6dcd0>,\n",
       "  <matplotlib.axis.XTick at 0x7ff6e7d74390>,\n",
       "  <matplotlib.axis.XTick at 0x7ff6e7d749d0>,\n",
       "  <matplotlib.axis.XTick at 0x7ff6e7d74dd0>,\n",
       "  <matplotlib.axis.XTick at 0x7ff6e7d7a690>,\n",
       "  <matplotlib.axis.XTick at 0x7ff6e7d7ac90>,\n",
       "  <matplotlib.axis.XTick at 0x7ff6e7e76310>,\n",
       "  <matplotlib.axis.XTick at 0x7ff6e7d74810>,\n",
       "  <matplotlib.axis.XTick at 0x7ff6e7d7a550>,\n",
       "  <matplotlib.axis.XTick at 0x7ff6e7e76190>],\n",
       " <a list of 15 Text xticklabel objects>)"
      ]
     },
     "execution_count": 48,
     "metadata": {},
     "output_type": "execute_result"
    },
    {
     "data": {
      "image/png": "[encoded data removed]",
      "text/plain": [
       "<Figure size 432x288 with 1 Axes>"
      ]
     },
     "metadata": {
      "needs_background": "light"
     },
     "output_type": "display_data"
    }
   ],
   "source": [
    "imp_dict={}\n",
    "rf.fit(X_train_y_G3,y_train_y_G3)\n",
    "y_pred_y_G3 = rf.predict(X_test_y_G3)\n",
    "probarfG3y = rf.predict_proba(X_test_y_G3)\n",
    "print(classification_report(y_pred_y_G3,y_test_y_G3))\n",
    "print(\"Kappa Score: \" +str(cohen_kappa_score(y_pred_y_G3,y_test_y_G3)))\n",
    "print(\"\\t\")\n",
    "for importance, name in sorted(zip(rf.feature_importances_, X_train_y_G3.columns),reverse=True):\n",
    "    imp_dict[name] = importance\n",
    "    print ('Feature '+name+ ' and its importance is '+str(importance))\n",
    "plt.bar(range(len(imp_dict)), list(imp_dict.values()), align='center')\n",
    "plt.xticks(range(len(imp_dict)), list(imp_dict.keys()),rotation=90)"
   ]
  },
  {
   "cell_type": "code",
   "execution_count": 49,
   "metadata": {},
   "outputs": [],
   "source": [
    "proba_rfG1x = []\n",
    "for i in range(len(probarfG1x)):\n",
    "    proba_rfG1x.append(round(probarfG1x[i][1],4))\n",
    "proba_rfG3x = []\n",
    "for i in range(len(probarfG3x)):\n",
    "    proba_rfG3x.append(round(probarfG3x[i][1],4))\n",
    "proba_rfG1y = []\n",
    "for i in range(len(probarfG1y)):\n",
    "    proba_rfG1y.append(round(probarfG1y[i][1],4))\n",
    "proba_rfG3y = []\n",
    "for i in range(len(probarfG3y)):\n",
    "    proba_rfG3y.append(round(probarfG3y[i][1],4))\n",
    "probadf[\"Prob of G1x Using RF\"] = proba_rfG1x\n",
    "probadf[\"Prob of G3x Using RF\"] = proba_rfG3x\n",
    "probadf[\"Prob of G1y Using RF\"] = proba_rfG1y\n",
    "probadf[\"Prob of G3y Using RF\"] = proba_rfG3y"
   ]
  },
  {
   "cell_type": "code",
   "execution_count": 50,
   "metadata": {},
   "outputs": [
    {
     "data": {
      "text/html": [
       "<div>\n",
       "<style scoped>\n",
       "    .dataframe tbody tr th:only-of-type {\n",
       "        vertical-align: middle;\n",
       "    }\n",
       "\n",
       "    .dataframe tbody tr th {\n",
       "        vertical-align: top;\n",
       "    }\n",
       "\n",
       "    .dataframe thead th {\n",
       "        text-align: right;\n",
       "    }\n",
       "</style>\n",
       "<table border=\"1\" class=\"dataframe\">\n",
       "  <thead>\n",
       "    <tr style=\"text-align: right;\">\n",
       "      <th></th>\n",
       "      <th>Prob of G1x Using GNB</th>\n",
       "      <th>Prob of G3x Using GNB</th>\n",
       "      <th>Prob of G1y Using GNB</th>\n",
       "      <th>Prob of G3y Using GNB</th>\n",
       "      <th>Prob of G1x Using DTC</th>\n",
       "      <th>Prob of G3x Using DTC</th>\n",
       "      <th>Prob of G1y Using DTC</th>\n",
       "      <th>Prob of G3y Using DTC</th>\n",
       "      <th>Prob of G1x Using RF</th>\n",
       "      <th>Prob of G3x Using RF</th>\n",
       "      <th>Prob of G1y Using RF</th>\n",
       "      <th>Prob of G3y Using RF</th>\n",
       "    </tr>\n",
       "  </thead>\n",
       "  <tbody>\n",
       "    <tr>\n",
       "      <td>0</td>\n",
       "      <td>0.1563</td>\n",
       "      <td>0.3578</td>\n",
       "      <td>0.0004</td>\n",
       "      <td>0.0000</td>\n",
       "      <td>0.0</td>\n",
       "      <td>0.0</td>\n",
       "      <td>0.0</td>\n",
       "      <td>0.0</td>\n",
       "      <td>0.3000</td>\n",
       "      <td>0.2100</td>\n",
       "      <td>0.03</td>\n",
       "      <td>0.01</td>\n",
       "    </tr>\n",
       "    <tr>\n",
       "      <td>1</td>\n",
       "      <td>0.1821</td>\n",
       "      <td>0.3547</td>\n",
       "      <td>0.2822</td>\n",
       "      <td>0.4112</td>\n",
       "      <td>0.0</td>\n",
       "      <td>0.0</td>\n",
       "      <td>0.0</td>\n",
       "      <td>0.0</td>\n",
       "      <td>0.0500</td>\n",
       "      <td>0.1200</td>\n",
       "      <td>0.06</td>\n",
       "      <td>0.03</td>\n",
       "    </tr>\n",
       "    <tr>\n",
       "      <td>2</td>\n",
       "      <td>0.1794</td>\n",
       "      <td>0.1967</td>\n",
       "      <td>0.0176</td>\n",
       "      <td>0.0205</td>\n",
       "      <td>0.0</td>\n",
       "      <td>0.0</td>\n",
       "      <td>0.0</td>\n",
       "      <td>0.0</td>\n",
       "      <td>0.3300</td>\n",
       "      <td>0.4800</td>\n",
       "      <td>0.00</td>\n",
       "      <td>0.00</td>\n",
       "    </tr>\n",
       "    <tr>\n",
       "      <td>3</td>\n",
       "      <td>0.2635</td>\n",
       "      <td>0.2354</td>\n",
       "      <td>0.0424</td>\n",
       "      <td>0.0200</td>\n",
       "      <td>0.0</td>\n",
       "      <td>0.0</td>\n",
       "      <td>1.0</td>\n",
       "      <td>0.0</td>\n",
       "      <td>0.1275</td>\n",
       "      <td>0.1800</td>\n",
       "      <td>0.12</td>\n",
       "      <td>0.01</td>\n",
       "    </tr>\n",
       "    <tr>\n",
       "      <td>4</td>\n",
       "      <td>0.7185</td>\n",
       "      <td>0.4417</td>\n",
       "      <td>0.0938</td>\n",
       "      <td>0.0336</td>\n",
       "      <td>1.0</td>\n",
       "      <td>1.0</td>\n",
       "      <td>0.0</td>\n",
       "      <td>0.0</td>\n",
       "      <td>0.6600</td>\n",
       "      <td>0.5700</td>\n",
       "      <td>0.12</td>\n",
       "      <td>0.04</td>\n",
       "    </tr>\n",
       "    <tr>\n",
       "      <td>...</td>\n",
       "      <td>...</td>\n",
       "      <td>...</td>\n",
       "      <td>...</td>\n",
       "      <td>...</td>\n",
       "      <td>...</td>\n",
       "      <td>...</td>\n",
       "      <td>...</td>\n",
       "      <td>...</td>\n",
       "      <td>...</td>\n",
       "      <td>...</td>\n",
       "      <td>...</td>\n",
       "      <td>...</td>\n",
       "    </tr>\n",
       "    <tr>\n",
       "      <td>216</td>\n",
       "      <td>0.1454</td>\n",
       "      <td>0.1965</td>\n",
       "      <td>0.0734</td>\n",
       "      <td>0.0306</td>\n",
       "      <td>0.0</td>\n",
       "      <td>0.0</td>\n",
       "      <td>1.0</td>\n",
       "      <td>0.0</td>\n",
       "      <td>0.0500</td>\n",
       "      <td>0.2000</td>\n",
       "      <td>0.06</td>\n",
       "      <td>0.05</td>\n",
       "    </tr>\n",
       "    <tr>\n",
       "      <td>217</td>\n",
       "      <td>0.1021</td>\n",
       "      <td>0.1278</td>\n",
       "      <td>0.0150</td>\n",
       "      <td>0.0031</td>\n",
       "      <td>0.0</td>\n",
       "      <td>0.0</td>\n",
       "      <td>0.0</td>\n",
       "      <td>1.0</td>\n",
       "      <td>0.2400</td>\n",
       "      <td>0.2600</td>\n",
       "      <td>0.05</td>\n",
       "      <td>0.05</td>\n",
       "    </tr>\n",
       "    <tr>\n",
       "      <td>218</td>\n",
       "      <td>0.1304</td>\n",
       "      <td>0.1756</td>\n",
       "      <td>0.0575</td>\n",
       "      <td>0.0043</td>\n",
       "      <td>0.0</td>\n",
       "      <td>0.0</td>\n",
       "      <td>0.0</td>\n",
       "      <td>0.0</td>\n",
       "      <td>0.1700</td>\n",
       "      <td>0.1967</td>\n",
       "      <td>0.07</td>\n",
       "      <td>0.01</td>\n",
       "    </tr>\n",
       "    <tr>\n",
       "      <td>219</td>\n",
       "      <td>0.1045</td>\n",
       "      <td>0.1714</td>\n",
       "      <td>0.0365</td>\n",
       "      <td>0.0009</td>\n",
       "      <td>0.0</td>\n",
       "      <td>0.0</td>\n",
       "      <td>1.0</td>\n",
       "      <td>0.0</td>\n",
       "      <td>0.1800</td>\n",
       "      <td>0.2700</td>\n",
       "      <td>0.09</td>\n",
       "      <td>0.02</td>\n",
       "    </tr>\n",
       "    <tr>\n",
       "      <td>220</td>\n",
       "      <td>0.7860</td>\n",
       "      <td>0.7745</td>\n",
       "      <td>0.6992</td>\n",
       "      <td>0.2478</td>\n",
       "      <td>0.0</td>\n",
       "      <td>1.0</td>\n",
       "      <td>0.0</td>\n",
       "      <td>0.0</td>\n",
       "      <td>0.4100</td>\n",
       "      <td>0.5500</td>\n",
       "      <td>0.26</td>\n",
       "      <td>0.31</td>\n",
       "    </tr>\n",
       "  </tbody>\n",
       "</table>\n",
       "<p>221 rows × 12 columns</p>\n",
       "</div>"
      ],
      "text/plain": [
       "     Prob of G1x Using GNB  Prob of G3x Using GNB  Prob of G1y Using GNB  \\\n",
       "0                   0.1563                 0.3578                 0.0004   \n",
       "1                   0.1821                 0.3547                 0.2822   \n",
       "2                   0.1794                 0.1967                 0.0176   \n",
       "3                   0.2635                 0.2354                 0.0424   \n",
       "4                   0.7185                 0.4417                 0.0938   \n",
       "..                     ...                    ...                    ...   \n",
       "216                 0.1454                 0.1965                 0.0734   \n",
       "217                 0.1021                 0.1278                 0.0150   \n",
       "218                 0.1304                 0.1756                 0.0575   \n",
       "219                 0.1045                 0.1714                 0.0365   \n",
       "220                 0.7860                 0.7745                 0.6992   \n",
       "\n",
       "     Prob of G3y Using GNB  Prob of G1x Using DTC  Prob of G3x Using DTC  \\\n",
       "0                   0.0000                    0.0                    0.0   \n",
       "1                   0.4112                    0.0                    0.0   \n",
       "2                   0.0205                    0.0                    0.0   \n",
       "3                   0.0200                    0.0                    0.0   \n",
       "4                   0.0336                    1.0                    1.0   \n",
       "..                     ...                    ...                    ...   \n",
       "216                 0.0306                    0.0                    0.0   \n",
       "217                 0.0031                    0.0                    0.0   \n",
       "218                 0.0043                    0.0                    0.0   \n",
       "219                 0.0009                    0.0                    0.0   \n",
       "220                 0.2478                    0.0                    1.0   \n",
       "\n",
       "     Prob of G1y Using DTC  Prob of G3y Using DTC  Prob of G1x Using RF  \\\n",
       "0                      0.0                    0.0                0.3000   \n",
       "1                      0.0                    0.0                0.0500   \n",
       "2                      0.0                    0.0                0.3300   \n",
       "3                      1.0                    0.0                0.1275   \n",
       "4                      0.0                    0.0                0.6600   \n",
       "..                     ...                    ...                   ...   \n",
       "216                    1.0                    0.0                0.0500   \n",
       "217                    0.0                    1.0                0.2400   \n",
       "218                    0.0                    0.0                0.1700   \n",
       "219                    1.0                    0.0                0.1800   \n",
       "220                    0.0                    0.0                0.4100   \n",
       "\n",
       "     Prob of G3x Using RF  Prob of G1y Using RF  Prob of G3y Using RF  \n",
       "0                  0.2100                  0.03                  0.01  \n",
       "1                  0.1200                  0.06                  0.03  \n",
       "2                  0.4800                  0.00                  0.00  \n",
       "3                  0.1800                  0.12                  0.01  \n",
       "4                  0.5700                  0.12                  0.04  \n",
       "..                    ...                   ...                   ...  \n",
       "216                0.2000                  0.06                  0.05  \n",
       "217                0.2600                  0.05                  0.05  \n",
       "218                0.1967                  0.07                  0.01  \n",
       "219                0.2700                  0.09                  0.02  \n",
       "220                0.5500                  0.26                  0.31  \n",
       "\n",
       "[221 rows x 12 columns]"
      ]
     },
     "execution_count": 50,
     "metadata": {},
     "output_type": "execute_result"
    }
   ],
   "source": [
    "probadf"
   ]
  },
  {
   "cell_type": "markdown",
   "metadata": {},
   "source": [
    "### Linear SVM"
   ]
  },
  {
   "cell_type": "code",
   "execution_count": 51,
   "metadata": {},
   "outputs": [],
   "source": [
    "from sklearn import svm\n",
    "lsvm = svm.SVC(kernel='linear', probability = True)"
   ]
  },
  {
   "cell_type": "code",
   "execution_count": 52,
   "metadata": {},
   "outputs": [
    {
     "name": "stdout",
     "output_type": "stream",
     "text": [
      "              precision    recall  f1-score   support\n",
      "\n",
      "           0       1.00      0.74      0.85       221\n",
      "           1       0.00      0.00      0.00         0\n",
      "\n",
      "    accuracy                           0.74       221\n",
      "   macro avg       0.50      0.37      0.42       221\n",
      "weighted avg       1.00      0.74      0.85       221\n",
      "\n",
      "Kappa Score: 0.0\n"
     ]
    },
    {
     "name": "stderr",
     "output_type": "stream",
     "text": [
      "/opt/anaconda3/lib/python3.7/site-packages/sklearn/metrics/_classification.py:1272: UndefinedMetricWarning: Recall and F-score are ill-defined and being set to 0.0 in labels with no true samples. Use `zero_division` parameter to control this behavior.\n",
      "  _warn_prf(average, modifier, msg_start, len(result))\n"
     ]
    }
   ],
   "source": [
    "lsvm.fit(X_train_x_G1,y_train_x_G1)\n",
    "y_pred_x_G1= lsvm.predict(X_test_x_G1)\n",
    "probalsvmG1x = lsvm.predict_proba(X_test_x_G1)\n",
    "\n",
    "print(classification_report(y_pred_x_G1,y_test_x_G1))\n",
    "print(\"Kappa Score: \" +str(cohen_kappa_score(y_pred_x_G1,y_test_x_G1)))"
   ]
  },
  {
   "cell_type": "code",
   "execution_count": 53,
   "metadata": {},
   "outputs": [
    {
     "name": "stdout",
     "output_type": "stream",
     "text": [
      "              precision    recall  f1-score   support\n",
      "\n",
      "           0       1.00      0.68      0.81       221\n",
      "           1       0.00      0.00      0.00         0\n",
      "\n",
      "    accuracy                           0.68       221\n",
      "   macro avg       0.50      0.34      0.40       221\n",
      "weighted avg       1.00      0.68      0.81       221\n",
      "\n",
      "Kappa Score: 0.0\n"
     ]
    },
    {
     "name": "stderr",
     "output_type": "stream",
     "text": [
      "/opt/anaconda3/lib/python3.7/site-packages/sklearn/metrics/_classification.py:1272: UndefinedMetricWarning: Recall and F-score are ill-defined and being set to 0.0 in labels with no true samples. Use `zero_division` parameter to control this behavior.\n",
      "  _warn_prf(average, modifier, msg_start, len(result))\n"
     ]
    }
   ],
   "source": [
    "lsvm.fit(X_train_x_G3,y_train_x_G3)\n",
    "y_pred_x_G3= lsvm.predict(X_test_x_G3)\n",
    "probalsvmG3x = lsvm.predict_proba(X_test_x_G3)\n",
    "\n",
    "print(classification_report(y_pred_x_G3,y_test_x_G3))\n",
    "print(\"Kappa Score: \" +str(cohen_kappa_score(y_pred_x_G3,y_test_x_G3)))"
   ]
  },
  {
   "cell_type": "code",
   "execution_count": 54,
   "metadata": {},
   "outputs": [
    {
     "name": "stdout",
     "output_type": "stream",
     "text": [
      "              precision    recall  f1-score   support\n",
      "\n",
      "           0       1.00      0.94      0.97       221\n",
      "           1       0.00      0.00      0.00         0\n",
      "\n",
      "    accuracy                           0.94       221\n",
      "   macro avg       0.50      0.47      0.48       221\n",
      "weighted avg       1.00      0.94      0.97       221\n",
      "\n",
      "Kappa Score: 0.0\n"
     ]
    },
    {
     "name": "stderr",
     "output_type": "stream",
     "text": [
      "/opt/anaconda3/lib/python3.7/site-packages/sklearn/metrics/_classification.py:1272: UndefinedMetricWarning: Recall and F-score are ill-defined and being set to 0.0 in labels with no true samples. Use `zero_division` parameter to control this behavior.\n",
      "  _warn_prf(average, modifier, msg_start, len(result))\n"
     ]
    }
   ],
   "source": [
    "lsvm.fit(X_train_y_G1,y_train_y_G1)\n",
    "y_pred_y_G1 = lsvm.predict(X_test_y_G1)\n",
    "probalsvmG1y = lsvm.predict_proba(X_test_y_G1)\n",
    "\n",
    "print(classification_report(y_pred_y_G1,y_test_y_G1))\n",
    "print(\"Kappa Score: \" +str(cohen_kappa_score(y_pred_y_G1,y_test_y_G1)))"
   ]
  },
  {
   "cell_type": "code",
   "execution_count": 55,
   "metadata": {},
   "outputs": [
    {
     "name": "stdout",
     "output_type": "stream",
     "text": [
      "              precision    recall  f1-score   support\n",
      "\n",
      "           0       1.00      0.95      0.98       221\n",
      "           1       0.00      0.00      0.00         0\n",
      "\n",
      "    accuracy                           0.95       221\n",
      "   macro avg       0.50      0.48      0.49       221\n",
      "weighted avg       1.00      0.95      0.98       221\n",
      "\n",
      "Kappa Score: 0.0\n"
     ]
    },
    {
     "name": "stderr",
     "output_type": "stream",
     "text": [
      "/opt/anaconda3/lib/python3.7/site-packages/sklearn/metrics/_classification.py:1272: UndefinedMetricWarning: Recall and F-score are ill-defined and being set to 0.0 in labels with no true samples. Use `zero_division` parameter to control this behavior.\n",
      "  _warn_prf(average, modifier, msg_start, len(result))\n"
     ]
    }
   ],
   "source": [
    "lsvm.fit(X_train_y_G3,y_train_y_G3)\n",
    "y_pred_y_G3 = lsvm.predict(X_test_y_G3)\n",
    "probalsvmG3y = lsvm.predict_proba(X_test_y_G3)\n",
    "print(classification_report(y_pred_y_G3,y_test_y_G3))\n",
    "print(\"Kappa Score: \" +str(cohen_kappa_score(y_pred_y_G3,y_test_y_G3)))"
   ]
  },
  {
   "cell_type": "code",
   "execution_count": 56,
   "metadata": {},
   "outputs": [],
   "source": [
    "\n",
    "proba_lsvmG1x = []\n",
    "for i in range(len(probalsvmG1x)):\n",
    "    proba_lsvmG1x.append(round(probalsvmG1x[i][1],4))\n",
    "proba_lsvmG3x = []\n",
    "for i in range(len(probalsvmG3x)):\n",
    "    proba_lsvmG3x.append(round(probalsvmG3x[i][1],4))\n",
    "proba_lsvmG1y = []\n",
    "for i in range(len(probalsvmG1y)):\n",
    "    proba_lsvmG1y.append(round(probalsvmG1y[i][1],4))\n",
    "proba_lsvmG3y = []\n",
    "for i in range(len(probalsvmG3y)):\n",
    "    proba_lsvmG3y.append(round(probalsvmG3y[i][1],4))\n",
    "probadf[\"Prob of G1x Using LSVM\"] = proba_lsvmG1x\n",
    "probadf[\"Prob of G3x Using LSVM\"] = proba_lsvmG3x\n",
    "probadf[\"Prob of G1y Using LSVM\"] = proba_lsvmG1y\n",
    "probadf[\"Prob of G3y Using LSVM\"] = proba_lsvmG3y"
   ]
  },
  {
   "cell_type": "markdown",
   "metadata": {},
   "source": [
    "### Logistic Regression"
   ]
  },
  {
   "cell_type": "code",
   "execution_count": 57,
   "metadata": {},
   "outputs": [],
   "source": [
    "lg = LogisticRegression(random_state=0,max_iter=1000000)"
   ]
  },
  {
   "cell_type": "code",
   "execution_count": 58,
   "metadata": {},
   "outputs": [
    {
     "name": "stdout",
     "output_type": "stream",
     "text": [
      "              precision    recall  f1-score   support\n",
      "\n",
      "           0       1.00      0.74      0.85       221\n",
      "           1       0.00      0.00      0.00         0\n",
      "\n",
      "    accuracy                           0.74       221\n",
      "   macro avg       0.50      0.37      0.42       221\n",
      "weighted avg       1.00      0.74      0.85       221\n",
      "\n",
      "Kappa Score: 0.0\n"
     ]
    },
    {
     "name": "stderr",
     "output_type": "stream",
     "text": [
      "/opt/anaconda3/lib/python3.7/site-packages/sklearn/metrics/_classification.py:1272: UndefinedMetricWarning: Recall and F-score are ill-defined and being set to 0.0 in labels with no true samples. Use `zero_division` parameter to control this behavior.\n",
      "  _warn_prf(average, modifier, msg_start, len(result))\n"
     ]
    }
   ],
   "source": [
    "lg.fit(X_train_x_G1,y_train_x_G1)\n",
    "y_pred_x_G1= lg.predict(X_test_x_G1)\n",
    "probalgG1x = lg.predict_proba(X_test_x_G1)\n",
    "\n",
    "print(classification_report(y_pred_x_G1,y_test_x_G1))\n",
    "print(\"Kappa Score: \" +str(cohen_kappa_score(y_pred_x_G1,y_test_x_G1)))"
   ]
  },
  {
   "cell_type": "code",
   "execution_count": 59,
   "metadata": {},
   "outputs": [
    {
     "name": "stdout",
     "output_type": "stream",
     "text": [
      "              precision    recall  f1-score   support\n",
      "\n",
      "           0       0.99      0.68      0.81       218\n",
      "           1       0.03      0.67      0.05         3\n",
      "\n",
      "    accuracy                           0.68       221\n",
      "   macro avg       0.51      0.68      0.43       221\n",
      "weighted avg       0.98      0.68      0.80       221\n",
      "\n",
      "Kappa Score: 0.02875439477649422\n"
     ]
    }
   ],
   "source": [
    "lg.fit(X_train_x_G3,y_train_x_G3)\n",
    "y_pred_x_G3= lg.predict(X_test_x_G3)\n",
    "probalgG3x = lg.predict_proba(X_test_x_G3)\n",
    "\n",
    "print(classification_report(y_pred_x_G3,y_test_x_G3))\n",
    "print(\"Kappa Score: \" +str(cohen_kappa_score(y_pred_x_G3,y_test_x_G3)))"
   ]
  },
  {
   "cell_type": "code",
   "execution_count": 60,
   "metadata": {},
   "outputs": [
    {
     "name": "stdout",
     "output_type": "stream",
     "text": [
      "              precision    recall  f1-score   support\n",
      "\n",
      "           0       1.00      0.94      0.97       221\n",
      "           1       0.00      0.00      0.00         0\n",
      "\n",
      "    accuracy                           0.94       221\n",
      "   macro avg       0.50      0.47      0.48       221\n",
      "weighted avg       1.00      0.94      0.97       221\n",
      "\n",
      "Kappa Score: 0.0\n"
     ]
    },
    {
     "name": "stderr",
     "output_type": "stream",
     "text": [
      "/opt/anaconda3/lib/python3.7/site-packages/sklearn/metrics/_classification.py:1272: UndefinedMetricWarning: Recall and F-score are ill-defined and being set to 0.0 in labels with no true samples. Use `zero_division` parameter to control this behavior.\n",
      "  _warn_prf(average, modifier, msg_start, len(result))\n"
     ]
    }
   ],
   "source": [
    "lg.fit(X_train_y_G1,y_train_y_G1)\n",
    "y_pred_y_G1 = lg.predict(X_test_y_G1)\n",
    "probalgG1y = lg.predict_proba(X_test_y_G1)\n",
    "\n",
    "print(classification_report(y_pred_y_G1,y_test_y_G1))\n",
    "print(\"Kappa Score: \" +str(cohen_kappa_score(y_pred_y_G1,y_test_y_G1)))"
   ]
  },
  {
   "cell_type": "code",
   "execution_count": 61,
   "metadata": {},
   "outputs": [
    {
     "name": "stdout",
     "output_type": "stream",
     "text": [
      "              precision    recall  f1-score   support\n",
      "\n",
      "           0       1.00      0.95      0.98       221\n",
      "           1       0.00      0.00      0.00         0\n",
      "\n",
      "    accuracy                           0.95       221\n",
      "   macro avg       0.50      0.48      0.49       221\n",
      "weighted avg       1.00      0.95      0.98       221\n",
      "\n",
      "Kappa Score: 0.0\n"
     ]
    },
    {
     "name": "stderr",
     "output_type": "stream",
     "text": [
      "/opt/anaconda3/lib/python3.7/site-packages/sklearn/metrics/_classification.py:1272: UndefinedMetricWarning: Recall and F-score are ill-defined and being set to 0.0 in labels with no true samples. Use `zero_division` parameter to control this behavior.\n",
      "  _warn_prf(average, modifier, msg_start, len(result))\n"
     ]
    }
   ],
   "source": [
    "lg.fit(X_train_y_G3,y_train_y_G3)\n",
    "y_pred_y_G3 = lg.predict(X_test_y_G3)\n",
    "probalgG3y = lg.predict_proba(X_test_y_G3)\n",
    "print(classification_report(y_pred_y_G3,y_test_y_G3))\n",
    "print(\"Kappa Score: \" +str(cohen_kappa_score(y_pred_y_G3,y_test_y_G3)))"
   ]
  },
  {
   "cell_type": "code",
   "execution_count": 62,
   "metadata": {},
   "outputs": [],
   "source": [
    "\n",
    "proba_lgG1x = []\n",
    "for i in range(len(probalgG1x)):\n",
    "    proba_lgG1x.append(round(probalgG1x[i][1],4))\n",
    "proba_lgG3x = []\n",
    "for i in range(len(probalgG3x)):\n",
    "    proba_lgG3x.append(round(probalgG3x[i][1],4))\n",
    "proba_lgG1y = []\n",
    "for i in range(len(probalgG1y)):\n",
    "    proba_lgG1y.append(round(probalgG1y[i][1],4))\n",
    "proba_lgG3y = []\n",
    "for i in range(len(probalgG3y)):\n",
    "    proba_lgG3y.append(round(probalgG3y[i][1],4))\n",
    "probadf[\"Prob of G1x Using LG\"] = proba_lgG1x\n",
    "probadf[\"Prob of G3x Using LG\"] = proba_lgG3x\n",
    "probadf[\"Prob of G1y Using LG\"] = proba_lgG1y\n",
    "probadf[\"Prob of G3y Using LG\"] = proba_lgG3y"
   ]
  },
  {
   "cell_type": "code",
   "execution_count": 63,
   "metadata": {},
   "outputs": [
    {
     "data": {
      "text/html": [
       "<div>\n",
       "<style scoped>\n",
       "    .dataframe tbody tr th:only-of-type {\n",
       "        vertical-align: middle;\n",
       "    }\n",
       "\n",
       "    .dataframe tbody tr th {\n",
       "        vertical-align: top;\n",
       "    }\n",
       "\n",
       "    .dataframe thead th {\n",
       "        text-align: right;\n",
       "    }\n",
       "</style>\n",
       "<table border=\"1\" class=\"dataframe\">\n",
       "  <thead>\n",
       "    <tr style=\"text-align: right;\">\n",
       "      <th></th>\n",
       "      <th>Prob of G1x Using GNB</th>\n",
       "      <th>Prob of G3x Using GNB</th>\n",
       "      <th>Prob of G1y Using GNB</th>\n",
       "      <th>Prob of G3y Using GNB</th>\n",
       "      <th>Prob of G1x Using DTC</th>\n",
       "      <th>Prob of G3x Using DTC</th>\n",
       "      <th>Prob of G1y Using DTC</th>\n",
       "      <th>Prob of G3y Using DTC</th>\n",
       "      <th>Prob of G1x Using RF</th>\n",
       "      <th>Prob of G3x Using RF</th>\n",
       "      <th>Prob of G1y Using RF</th>\n",
       "      <th>Prob of G3y Using RF</th>\n",
       "      <th>Prob of G1x Using LSVM</th>\n",
       "      <th>Prob of G3x Using LSVM</th>\n",
       "      <th>Prob of G1y Using LSVM</th>\n",
       "      <th>Prob of G3y Using LSVM</th>\n",
       "      <th>Prob of G1x Using LG</th>\n",
       "      <th>Prob of G3x Using LG</th>\n",
       "      <th>Prob of G1y Using LG</th>\n",
       "      <th>Prob of G3y Using LG</th>\n",
       "    </tr>\n",
       "  </thead>\n",
       "  <tbody>\n",
       "    <tr>\n",
       "      <td>0</td>\n",
       "      <td>0.1563</td>\n",
       "      <td>0.3578</td>\n",
       "      <td>0.0004</td>\n",
       "      <td>0.0000</td>\n",
       "      <td>0.0</td>\n",
       "      <td>0.0</td>\n",
       "      <td>0.0</td>\n",
       "      <td>0.0</td>\n",
       "      <td>0.3000</td>\n",
       "      <td>0.2100</td>\n",
       "      <td>0.03</td>\n",
       "      <td>0.01</td>\n",
       "      <td>0.2349</td>\n",
       "      <td>0.3410</td>\n",
       "      <td>0.0324</td>\n",
       "      <td>0.0125</td>\n",
       "      <td>0.2087</td>\n",
       "      <td>0.3475</td>\n",
       "      <td>0.0301</td>\n",
       "      <td>0.0116</td>\n",
       "    </tr>\n",
       "    <tr>\n",
       "      <td>1</td>\n",
       "      <td>0.1821</td>\n",
       "      <td>0.3547</td>\n",
       "      <td>0.2822</td>\n",
       "      <td>0.4112</td>\n",
       "      <td>0.0</td>\n",
       "      <td>0.0</td>\n",
       "      <td>0.0</td>\n",
       "      <td>0.0</td>\n",
       "      <td>0.0500</td>\n",
       "      <td>0.1200</td>\n",
       "      <td>0.06</td>\n",
       "      <td>0.03</td>\n",
       "      <td>0.2104</td>\n",
       "      <td>0.3036</td>\n",
       "      <td>0.1107</td>\n",
       "      <td>0.0796</td>\n",
       "      <td>0.1791</td>\n",
       "      <td>0.2573</td>\n",
       "      <td>0.1258</td>\n",
       "      <td>0.0783</td>\n",
       "    </tr>\n",
       "    <tr>\n",
       "      <td>2</td>\n",
       "      <td>0.1794</td>\n",
       "      <td>0.1967</td>\n",
       "      <td>0.0176</td>\n",
       "      <td>0.0205</td>\n",
       "      <td>0.0</td>\n",
       "      <td>0.0</td>\n",
       "      <td>0.0</td>\n",
       "      <td>0.0</td>\n",
       "      <td>0.3300</td>\n",
       "      <td>0.4800</td>\n",
       "      <td>0.00</td>\n",
       "      <td>0.00</td>\n",
       "      <td>0.2620</td>\n",
       "      <td>0.3150</td>\n",
       "      <td>0.1171</td>\n",
       "      <td>0.0418</td>\n",
       "      <td>0.2297</td>\n",
       "      <td>0.3037</td>\n",
       "      <td>0.0341</td>\n",
       "      <td>0.0237</td>\n",
       "    </tr>\n",
       "    <tr>\n",
       "      <td>3</td>\n",
       "      <td>0.2635</td>\n",
       "      <td>0.2354</td>\n",
       "      <td>0.0424</td>\n",
       "      <td>0.0200</td>\n",
       "      <td>0.0</td>\n",
       "      <td>0.0</td>\n",
       "      <td>1.0</td>\n",
       "      <td>0.0</td>\n",
       "      <td>0.1275</td>\n",
       "      <td>0.1800</td>\n",
       "      <td>0.12</td>\n",
       "      <td>0.01</td>\n",
       "      <td>0.2291</td>\n",
       "      <td>0.2930</td>\n",
       "      <td>0.0723</td>\n",
       "      <td>0.0378</td>\n",
       "      <td>0.2025</td>\n",
       "      <td>0.2342</td>\n",
       "      <td>0.0349</td>\n",
       "      <td>0.0379</td>\n",
       "    </tr>\n",
       "    <tr>\n",
       "      <td>4</td>\n",
       "      <td>0.7185</td>\n",
       "      <td>0.4417</td>\n",
       "      <td>0.0938</td>\n",
       "      <td>0.0336</td>\n",
       "      <td>1.0</td>\n",
       "      <td>1.0</td>\n",
       "      <td>0.0</td>\n",
       "      <td>0.0</td>\n",
       "      <td>0.6600</td>\n",
       "      <td>0.5700</td>\n",
       "      <td>0.12</td>\n",
       "      <td>0.04</td>\n",
       "      <td>0.2318</td>\n",
       "      <td>0.2673</td>\n",
       "      <td>0.0875</td>\n",
       "      <td>0.0506</td>\n",
       "      <td>0.4460</td>\n",
       "      <td>0.3335</td>\n",
       "      <td>0.0574</td>\n",
       "      <td>0.0222</td>\n",
       "    </tr>\n",
       "    <tr>\n",
       "      <td>...</td>\n",
       "      <td>...</td>\n",
       "      <td>...</td>\n",
       "      <td>...</td>\n",
       "      <td>...</td>\n",
       "      <td>...</td>\n",
       "      <td>...</td>\n",
       "      <td>...</td>\n",
       "      <td>...</td>\n",
       "      <td>...</td>\n",
       "      <td>...</td>\n",
       "      <td>...</td>\n",
       "      <td>...</td>\n",
       "      <td>...</td>\n",
       "      <td>...</td>\n",
       "      <td>...</td>\n",
       "      <td>...</td>\n",
       "      <td>...</td>\n",
       "      <td>...</td>\n",
       "      <td>...</td>\n",
       "      <td>...</td>\n",
       "    </tr>\n",
       "    <tr>\n",
       "      <td>216</td>\n",
       "      <td>0.1454</td>\n",
       "      <td>0.1965</td>\n",
       "      <td>0.0734</td>\n",
       "      <td>0.0306</td>\n",
       "      <td>0.0</td>\n",
       "      <td>0.0</td>\n",
       "      <td>1.0</td>\n",
       "      <td>0.0</td>\n",
       "      <td>0.0500</td>\n",
       "      <td>0.2000</td>\n",
       "      <td>0.06</td>\n",
       "      <td>0.05</td>\n",
       "      <td>0.2591</td>\n",
       "      <td>0.3298</td>\n",
       "      <td>0.1392</td>\n",
       "      <td>0.0612</td>\n",
       "      <td>0.1794</td>\n",
       "      <td>0.2461</td>\n",
       "      <td>0.1318</td>\n",
       "      <td>0.0471</td>\n",
       "    </tr>\n",
       "    <tr>\n",
       "      <td>217</td>\n",
       "      <td>0.1021</td>\n",
       "      <td>0.1278</td>\n",
       "      <td>0.0150</td>\n",
       "      <td>0.0031</td>\n",
       "      <td>0.0</td>\n",
       "      <td>0.0</td>\n",
       "      <td>0.0</td>\n",
       "      <td>1.0</td>\n",
       "      <td>0.2400</td>\n",
       "      <td>0.2600</td>\n",
       "      <td>0.05</td>\n",
       "      <td>0.05</td>\n",
       "      <td>0.2287</td>\n",
       "      <td>0.2764</td>\n",
       "      <td>0.1185</td>\n",
       "      <td>0.0169</td>\n",
       "      <td>0.1302</td>\n",
       "      <td>0.1389</td>\n",
       "      <td>0.0300</td>\n",
       "      <td>0.0085</td>\n",
       "    </tr>\n",
       "    <tr>\n",
       "      <td>218</td>\n",
       "      <td>0.1304</td>\n",
       "      <td>0.1756</td>\n",
       "      <td>0.0575</td>\n",
       "      <td>0.0043</td>\n",
       "      <td>0.0</td>\n",
       "      <td>0.0</td>\n",
       "      <td>0.0</td>\n",
       "      <td>0.0</td>\n",
       "      <td>0.1700</td>\n",
       "      <td>0.1967</td>\n",
       "      <td>0.07</td>\n",
       "      <td>0.01</td>\n",
       "      <td>0.2563</td>\n",
       "      <td>0.2716</td>\n",
       "      <td>0.0954</td>\n",
       "      <td>0.0524</td>\n",
       "      <td>0.2846</td>\n",
       "      <td>0.2461</td>\n",
       "      <td>0.1145</td>\n",
       "      <td>0.0200</td>\n",
       "    </tr>\n",
       "    <tr>\n",
       "      <td>219</td>\n",
       "      <td>0.1045</td>\n",
       "      <td>0.1714</td>\n",
       "      <td>0.0365</td>\n",
       "      <td>0.0009</td>\n",
       "      <td>0.0</td>\n",
       "      <td>0.0</td>\n",
       "      <td>1.0</td>\n",
       "      <td>0.0</td>\n",
       "      <td>0.1800</td>\n",
       "      <td>0.2700</td>\n",
       "      <td>0.09</td>\n",
       "      <td>0.02</td>\n",
       "      <td>0.2454</td>\n",
       "      <td>0.2884</td>\n",
       "      <td>0.1144</td>\n",
       "      <td>0.0382</td>\n",
       "      <td>0.2153</td>\n",
       "      <td>0.1894</td>\n",
       "      <td>0.0849</td>\n",
       "      <td>0.0082</td>\n",
       "    </tr>\n",
       "    <tr>\n",
       "      <td>220</td>\n",
       "      <td>0.7860</td>\n",
       "      <td>0.7745</td>\n",
       "      <td>0.6992</td>\n",
       "      <td>0.2478</td>\n",
       "      <td>0.0</td>\n",
       "      <td>1.0</td>\n",
       "      <td>0.0</td>\n",
       "      <td>0.0</td>\n",
       "      <td>0.4100</td>\n",
       "      <td>0.5500</td>\n",
       "      <td>0.26</td>\n",
       "      <td>0.31</td>\n",
       "      <td>0.2009</td>\n",
       "      <td>0.3095</td>\n",
       "      <td>0.1579</td>\n",
       "      <td>0.1054</td>\n",
       "      <td>0.4847</td>\n",
       "      <td>0.4670</td>\n",
       "      <td>0.1477</td>\n",
       "      <td>0.0497</td>\n",
       "    </tr>\n",
       "  </tbody>\n",
       "</table>\n",
       "<p>221 rows × 20 columns</p>\n",
       "</div>"
      ],
      "text/plain": [
       "     Prob of G1x Using GNB  Prob of G3x Using GNB  Prob of G1y Using GNB  \\\n",
       "0                   0.1563                 0.3578                 0.0004   \n",
       "1                   0.1821                 0.3547                 0.2822   \n",
       "2                   0.1794                 0.1967                 0.0176   \n",
       "3                   0.2635                 0.2354                 0.0424   \n",
       "4                   0.7185                 0.4417                 0.0938   \n",
       "..                     ...                    ...                    ...   \n",
       "216                 0.1454                 0.1965                 0.0734   \n",
       "217                 0.1021                 0.1278                 0.0150   \n",
       "218                 0.1304                 0.1756                 0.0575   \n",
       "219                 0.1045                 0.1714                 0.0365   \n",
       "220                 0.7860                 0.7745                 0.6992   \n",
       "\n",
       "     Prob of G3y Using GNB  Prob of G1x Using DTC  Prob of G3x Using DTC  \\\n",
       "0                   0.0000                    0.0                    0.0   \n",
       "1                   0.4112                    0.0                    0.0   \n",
       "2                   0.0205                    0.0                    0.0   \n",
       "3                   0.0200                    0.0                    0.0   \n",
       "4                   0.0336                    1.0                    1.0   \n",
       "..                     ...                    ...                    ...   \n",
       "216                 0.0306                    0.0                    0.0   \n",
       "217                 0.0031                    0.0                    0.0   \n",
       "218                 0.0043                    0.0                    0.0   \n",
       "219                 0.0009                    0.0                    0.0   \n",
       "220                 0.2478                    0.0                    1.0   \n",
       "\n",
       "     Prob of G1y Using DTC  Prob of G3y Using DTC  Prob of G1x Using RF  \\\n",
       "0                      0.0                    0.0                0.3000   \n",
       "1                      0.0                    0.0                0.0500   \n",
       "2                      0.0                    0.0                0.3300   \n",
       "3                      1.0                    0.0                0.1275   \n",
       "4                      0.0                    0.0                0.6600   \n",
       "..                     ...                    ...                   ...   \n",
       "216                    1.0                    0.0                0.0500   \n",
       "217                    0.0                    1.0                0.2400   \n",
       "218                    0.0                    0.0                0.1700   \n",
       "219                    1.0                    0.0                0.1800   \n",
       "220                    0.0                    0.0                0.4100   \n",
       "\n",
       "     Prob of G3x Using RF  Prob of G1y Using RF  Prob of G3y Using RF  \\\n",
       "0                  0.2100                  0.03                  0.01   \n",
       "1                  0.1200                  0.06                  0.03   \n",
       "2                  0.4800                  0.00                  0.00   \n",
       "3                  0.1800                  0.12                  0.01   \n",
       "4                  0.5700                  0.12                  0.04   \n",
       "..                    ...                   ...                   ...   \n",
       "216                0.2000                  0.06                  0.05   \n",
       "217                0.2600                  0.05                  0.05   \n",
       "218                0.1967                  0.07                  0.01   \n",
       "219                0.2700                  0.09                  0.02   \n",
       "220                0.5500                  0.26                  0.31   \n",
       "\n",
       "     Prob of G1x Using LSVM  Prob of G3x Using LSVM  Prob of G1y Using LSVM  \\\n",
       "0                    0.2349                  0.3410                  0.0324   \n",
       "1                    0.2104                  0.3036                  0.1107   \n",
       "2                    0.2620                  0.3150                  0.1171   \n",
       "3                    0.2291                  0.2930                  0.0723   \n",
       "4                    0.2318                  0.2673                  0.0875   \n",
       "..                      ...                     ...                     ...   \n",
       "216                  0.2591                  0.3298                  0.1392   \n",
       "217                  0.2287                  0.2764                  0.1185   \n",
       "218                  0.2563                  0.2716                  0.0954   \n",
       "219                  0.2454                  0.2884                  0.1144   \n",
       "220                  0.2009                  0.3095                  0.1579   \n",
       "\n",
       "     Prob of G3y Using LSVM  Prob of G1x Using LG  Prob of G3x Using LG  \\\n",
       "0                    0.0125                0.2087                0.3475   \n",
       "1                    0.0796                0.1791                0.2573   \n",
       "2                    0.0418                0.2297                0.3037   \n",
       "3                    0.0378                0.2025                0.2342   \n",
       "4                    0.0506                0.4460                0.3335   \n",
       "..                      ...                   ...                   ...   \n",
       "216                  0.0612                0.1794                0.2461   \n",
       "217                  0.0169                0.1302                0.1389   \n",
       "218                  0.0524                0.2846                0.2461   \n",
       "219                  0.0382                0.2153                0.1894   \n",
       "220                  0.1054                0.4847                0.4670   \n",
       "\n",
       "     Prob of G1y Using LG  Prob of G3y Using LG  \n",
       "0                  0.0301                0.0116  \n",
       "1                  0.1258                0.0783  \n",
       "2                  0.0341                0.0237  \n",
       "3                  0.0349                0.0379  \n",
       "4                  0.0574                0.0222  \n",
       "..                    ...                   ...  \n",
       "216                0.1318                0.0471  \n",
       "217                0.0300                0.0085  \n",
       "218                0.1145                0.0200  \n",
       "219                0.0849                0.0082  \n",
       "220                0.1477                0.0497  \n",
       "\n",
       "[221 rows x 20 columns]"
      ]
     },
     "execution_count": 63,
     "metadata": {},
     "output_type": "execute_result"
    }
   ],
   "source": [
    "probadf"
   ]
  },
  {
   "cell_type": "markdown",
   "metadata": {},
   "source": [
    "### Gradient Boosting"
   ]
  },
  {
   "cell_type": "code",
   "execution_count": 64,
   "metadata": {},
   "outputs": [],
   "source": [
    "gb = GradientBoostingClassifier(random_state=0)"
   ]
  },
  {
   "cell_type": "code",
   "execution_count": 65,
   "metadata": {},
   "outputs": [
    {
     "name": "stdout",
     "output_type": "stream",
     "text": [
      "              precision    recall  f1-score   support\n",
      "\n",
      "           0       0.96      0.75      0.84       209\n",
      "           1       0.10      0.50      0.17        12\n",
      "\n",
      "    accuracy                           0.74       221\n",
      "   macro avg       0.53      0.63      0.51       221\n",
      "weighted avg       0.92      0.74      0.81       221\n",
      "\n",
      "Kappa Score: 0.08950134962352596\n"
     ]
    }
   ],
   "source": [
    "gb.fit(X_train_x_G1,y_train_x_G1)\n",
    "y_pred_x_G1= gb.predict(X_test_x_G1)\n",
    "probagbG1x = gb.predict_proba(X_test_x_G1)\n",
    "print(classification_report(y_pred_x_G1,y_test_x_G1))\n",
    "print(\"Kappa Score: \" +str(cohen_kappa_score(y_pred_x_G1,y_test_x_G1)))"
   ]
  },
  {
   "cell_type": "code",
   "execution_count": 66,
   "metadata": {},
   "outputs": [
    {
     "name": "stdout",
     "output_type": "stream",
     "text": [
      "              precision    recall  f1-score   support\n",
      "\n",
      "           0       0.89      0.69      0.78       193\n",
      "           1       0.15      0.39      0.22        28\n",
      "\n",
      "    accuracy                           0.65       221\n",
      "   macro avg       0.52      0.54      0.50       221\n",
      "weighted avg       0.79      0.65      0.71       221\n",
      "\n",
      "Kappa Score: 0.049488912472769986\n"
     ]
    }
   ],
   "source": [
    "gb.fit(X_train_x_G3,y_train_x_G3)\n",
    "y_pred_x_G3= gb.predict(X_test_x_G3)\n",
    "\n",
    "probagbG3x = gb.predict_proba(X_test_x_G3)\n",
    "print(classification_report(y_pred_x_G3,y_test_x_G3))\n",
    "print(\"Kappa Score: \" +str(cohen_kappa_score(y_pred_x_G3,y_test_x_G3)))"
   ]
  },
  {
   "cell_type": "code",
   "execution_count": 67,
   "metadata": {},
   "outputs": [
    {
     "name": "stdout",
     "output_type": "stream",
     "text": [
      "              precision    recall  f1-score   support\n",
      "\n",
      "           0       0.99      0.94      0.96       219\n",
      "           1       0.00      0.00      0.00         2\n",
      "\n",
      "    accuracy                           0.93       221\n",
      "   macro avg       0.50      0.47      0.48       221\n",
      "weighted avg       0.98      0.93      0.96       221\n",
      "\n",
      "Kappa Score: -0.015936254980079667\n"
     ]
    }
   ],
   "source": [
    "gb.fit(X_train_y_G1,y_train_y_G1)\n",
    "y_pred_y_G1 = gb.predict(X_test_y_G1)\n",
    "\n",
    "probagbG1y = gb.predict_proba(X_test_y_G1)\n",
    "print(classification_report(y_pred_y_G1,y_test_y_G1))\n",
    "print(\"Kappa Score: \" +str(cohen_kappa_score(y_pred_y_G1,y_test_y_G1)))"
   ]
  },
  {
   "cell_type": "code",
   "execution_count": 68,
   "metadata": {},
   "outputs": [
    {
     "name": "stdout",
     "output_type": "stream",
     "text": [
      "              precision    recall  f1-score   support\n",
      "\n",
      "           0       0.99      0.95      0.97       219\n",
      "           1       0.00      0.00      0.00         2\n",
      "\n",
      "    accuracy                           0.95       221\n",
      "   macro avg       0.50      0.48      0.49       221\n",
      "weighted avg       0.98      0.95      0.96       221\n",
      "\n",
      "Kappa Score: -0.015313935681469992\n"
     ]
    }
   ],
   "source": [
    "gb.fit(X_train_y_G3,y_train_y_G3)\n",
    "y_pred_y_G3 = gb.predict(X_test_y_G3)\n",
    "\n",
    "probagbG3y = gb.predict_proba(X_test_y_G3)\n",
    "print(classification_report(y_pred_y_G3,y_test_y_G3))\n",
    "print(\"Kappa Score: \" +str(cohen_kappa_score(y_pred_y_G3,y_test_y_G3)))"
   ]
  },
  {
   "cell_type": "code",
   "execution_count": 69,
   "metadata": {},
   "outputs": [],
   "source": [
    "\n",
    "proba_gbG1x = []\n",
    "for i in range(len(probagbG1x)):\n",
    "    proba_gbG1x.append(round(probagbG1x[i][1],4))\n",
    "proba_gbG3x = []\n",
    "for i in range(len(probagbG3x)):\n",
    "    proba_gbG3x.append(round(probagbG3x[i][1],4))\n",
    "proba_gbG1y = []\n",
    "for i in range(len(probagbG1y)):\n",
    "    proba_gbG1y.append(round(probagbG1y[i][1],4))\n",
    "proba_gbG3y = []\n",
    "for i in range(len(probagbG3y)):\n",
    "    proba_gbG3y.append(round(probagbG3y[i][1],4))\n",
    "probadf[\"Prob of G1x Using GB\"] = proba_gbG1x\n",
    "probadf[\"Prob of G3x Using GB\"] = proba_gbG3x\n",
    "probadf[\"Prob of G1y Using GB\"] = proba_gbG1y\n",
    "probadf[\"Prob of G3y Using GB\"] = proba_gbG3y"
   ]
  },
  {
   "cell_type": "code",
   "execution_count": 70,
   "metadata": {},
   "outputs": [
    {
     "data": {
      "text/plain": [
       "(221, 24)"
      ]
     },
     "execution_count": 70,
     "metadata": {},
     "output_type": "execute_result"
    }
   ],
   "source": [
    "probadf.shape"
   ]
  },
  {
   "cell_type": "code",
   "execution_count": 71,
   "metadata": {},
   "outputs": [],
   "source": [
    "probadf.to_csv('Demographic_Fail_Prob_Binary.csv')"
   ]
  },
  {
   "cell_type": "code",
   "execution_count": null,
   "metadata": {},
   "outputs": [],
   "source": []
  }
 ],
 "metadata": {
  "kernelspec": {
   "display_name": "Python 3",
   "language": "python",
   "name": "python3"
  },
  "language_info": {
   "codemirror_mode": {
    "name": "ipython",
    "version": 3
   },
   "file_extension": ".py",
   "mimetype": "text/x-python",
   "name": "python",
   "nbconvert_exporter": "python",
   "pygments_lexer": "ipython3",
   "version": "3.7.4"
  }
 },
 "nbformat": 4,
 "nbformat_minor": 4
}
