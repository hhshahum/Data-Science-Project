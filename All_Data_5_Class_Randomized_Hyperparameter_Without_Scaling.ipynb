{
 "cells": [
  {
   "cell_type": "code",
   "execution_count": 1,
   "metadata": {},
   "outputs": [
    {
     "name": "stderr",
     "output_type": "stream",
     "text": [
      "Using TensorFlow backend.\n"
     ]
    }
   ],
   "source": [
    "import pandas as pd\n",
    "import numpy as np\n",
    "import seaborn as sn\n",
    "import matplotlib.pyplot as plt\n",
    "from sklearn.svm import SVC\n",
    "from sklearn.linear_model import LogisticRegression\n",
    "from sklearn.model_selection import train_test_split\n",
    "from sklearn import preprocessing\n",
    "from sklearn.tree import DecisionTreeClassifier\n",
    "from sklearn.metrics import accuracy_score\n",
    "from sklearn.naive_bayes import GaussianNB\n",
    "from sklearn.ensemble import RandomForestClassifier\n",
    "from sklearn.ensemble import GradientBoostingClassifier\n",
    "from sklearn.metrics import classification_report\n",
    "from sklearn.metrics import cohen_kappa_score\n",
    "import matplotlib.pyplot as plt\n",
    "from scipy.stats import rankdata\n",
    "import imblearn\n",
    "from imblearn.over_sampling import RandomOverSampler\n",
    "from sklearn.model_selection import GridSearchCV\n",
    "from sklearn.model_selection import RandomizedSearchCV\n",
    "from sklearn import metrics\n",
    "from sklearn.metrics import confusion_matrix\n",
    "from sklearn.model_selection import RepeatedStratifiedKFold\n",
    "from scipy.stats import randint"
   ]
  },
  {
   "cell_type": "code",
   "execution_count": 2,
   "metadata": {},
   "outputs": [],
   "source": [
    "df = pd.read_csv('final_combined_dataset.csv')"
   ]
  },
  {
   "cell_type": "code",
   "execution_count": 3,
   "metadata": {},
   "outputs": [
    {
     "data": {
      "text/html": [
       "<div>\n",
       "<style scoped>\n",
       "    .dataframe tbody tr th:only-of-type {\n",
       "        vertical-align: middle;\n",
       "    }\n",
       "\n",
       "    .dataframe tbody tr th {\n",
       "        vertical-align: top;\n",
       "    }\n",
       "\n",
       "    .dataframe thead th {\n",
       "        text-align: right;\n",
       "    }\n",
       "</style>\n",
       "<table border=\"1\" class=\"dataframe\">\n",
       "  <thead>\n",
       "    <tr style=\"text-align: right;\">\n",
       "      <th></th>\n",
       "      <th>school</th>\n",
       "      <th>sex</th>\n",
       "      <th>age</th>\n",
       "      <th>address</th>\n",
       "      <th>famsize</th>\n",
       "      <th>Pstatus</th>\n",
       "      <th>Medu</th>\n",
       "      <th>Fedu</th>\n",
       "      <th>Mjob</th>\n",
       "      <th>Fjob</th>\n",
       "      <th>...</th>\n",
       "      <th>famrel.y</th>\n",
       "      <th>freetime.y</th>\n",
       "      <th>goout.y</th>\n",
       "      <th>Dalc.y</th>\n",
       "      <th>Walc.y</th>\n",
       "      <th>health.y</th>\n",
       "      <th>absences.y</th>\n",
       "      <th>G1.y</th>\n",
       "      <th>G2.y</th>\n",
       "      <th>G3.y</th>\n",
       "    </tr>\n",
       "  </thead>\n",
       "  <tbody>\n",
       "    <tr>\n",
       "      <td>0</td>\n",
       "      <td>0</td>\n",
       "      <td>0</td>\n",
       "      <td>15</td>\n",
       "      <td>0</td>\n",
       "      <td>0</td>\n",
       "      <td>1</td>\n",
       "      <td>1</td>\n",
       "      <td>1</td>\n",
       "      <td>0</td>\n",
       "      <td>2</td>\n",
       "      <td>...</td>\n",
       "      <td>3</td>\n",
       "      <td>1</td>\n",
       "      <td>2</td>\n",
       "      <td>1</td>\n",
       "      <td>1</td>\n",
       "      <td>1</td>\n",
       "      <td>4</td>\n",
       "      <td>13</td>\n",
       "      <td>13</td>\n",
       "      <td>13</td>\n",
       "    </tr>\n",
       "    <tr>\n",
       "      <td>1</td>\n",
       "      <td>0</td>\n",
       "      <td>0</td>\n",
       "      <td>15</td>\n",
       "      <td>0</td>\n",
       "      <td>0</td>\n",
       "      <td>1</td>\n",
       "      <td>1</td>\n",
       "      <td>1</td>\n",
       "      <td>2</td>\n",
       "      <td>2</td>\n",
       "      <td>...</td>\n",
       "      <td>3</td>\n",
       "      <td>3</td>\n",
       "      <td>4</td>\n",
       "      <td>2</td>\n",
       "      <td>4</td>\n",
       "      <td>5</td>\n",
       "      <td>2</td>\n",
       "      <td>13</td>\n",
       "      <td>11</td>\n",
       "      <td>11</td>\n",
       "    </tr>\n",
       "    <tr>\n",
       "      <td>2</td>\n",
       "      <td>0</td>\n",
       "      <td>0</td>\n",
       "      <td>15</td>\n",
       "      <td>0</td>\n",
       "      <td>0</td>\n",
       "      <td>1</td>\n",
       "      <td>2</td>\n",
       "      <td>2</td>\n",
       "      <td>0</td>\n",
       "      <td>2</td>\n",
       "      <td>...</td>\n",
       "      <td>4</td>\n",
       "      <td>3</td>\n",
       "      <td>1</td>\n",
       "      <td>1</td>\n",
       "      <td>1</td>\n",
       "      <td>2</td>\n",
       "      <td>8</td>\n",
       "      <td>14</td>\n",
       "      <td>13</td>\n",
       "      <td>12</td>\n",
       "    </tr>\n",
       "    <tr>\n",
       "      <td>3</td>\n",
       "      <td>0</td>\n",
       "      <td>0</td>\n",
       "      <td>15</td>\n",
       "      <td>0</td>\n",
       "      <td>0</td>\n",
       "      <td>1</td>\n",
       "      <td>2</td>\n",
       "      <td>4</td>\n",
       "      <td>3</td>\n",
       "      <td>1</td>\n",
       "      <td>...</td>\n",
       "      <td>4</td>\n",
       "      <td>3</td>\n",
       "      <td>2</td>\n",
       "      <td>1</td>\n",
       "      <td>1</td>\n",
       "      <td>5</td>\n",
       "      <td>2</td>\n",
       "      <td>10</td>\n",
       "      <td>11</td>\n",
       "      <td>10</td>\n",
       "    </tr>\n",
       "    <tr>\n",
       "      <td>4</td>\n",
       "      <td>0</td>\n",
       "      <td>0</td>\n",
       "      <td>15</td>\n",
       "      <td>0</td>\n",
       "      <td>0</td>\n",
       "      <td>1</td>\n",
       "      <td>3</td>\n",
       "      <td>3</td>\n",
       "      <td>3</td>\n",
       "      <td>3</td>\n",
       "      <td>...</td>\n",
       "      <td>4</td>\n",
       "      <td>2</td>\n",
       "      <td>1</td>\n",
       "      <td>2</td>\n",
       "      <td>3</td>\n",
       "      <td>3</td>\n",
       "      <td>2</td>\n",
       "      <td>13</td>\n",
       "      <td>13</td>\n",
       "      <td>13</td>\n",
       "    </tr>\n",
       "  </tbody>\n",
       "</table>\n",
       "<p>5 rows × 53 columns</p>\n",
       "</div>"
      ],
      "text/plain": [
       "   school  sex  age  address  famsize  Pstatus  Medu  Fedu  Mjob  Fjob  ...  \\\n",
       "0       0    0   15        0        0        1     1     1     0     2  ...   \n",
       "1       0    0   15        0        0        1     1     1     2     2  ...   \n",
       "2       0    0   15        0        0        1     2     2     0     2  ...   \n",
       "3       0    0   15        0        0        1     2     4     3     1  ...   \n",
       "4       0    0   15        0        0        1     3     3     3     3  ...   \n",
       "\n",
       "   famrel.y  freetime.y  goout.y  Dalc.y  Walc.y  health.y  absences.y  G1.y  \\\n",
       "0         3           1        2       1       1         1           4    13   \n",
       "1         3           3        4       2       4         5           2    13   \n",
       "2         4           3        1       1       1         2           8    14   \n",
       "3         4           3        2       1       1         5           2    10   \n",
       "4         4           2        1       2       3         3           2    13   \n",
       "\n",
       "   G2.y  G3.y  \n",
       "0    13    13  \n",
       "1    11    11  \n",
       "2    13    12  \n",
       "3    11    10  \n",
       "4    13    13  \n",
       "\n",
       "[5 rows x 53 columns]"
      ]
     },
     "execution_count": 3,
     "metadata": {},
     "output_type": "execute_result"
    }
   ],
   "source": [
    "df.head()"
   ]
  },
  {
   "cell_type": "code",
   "execution_count": 4,
   "metadata": {},
   "outputs": [],
   "source": [
    "df = df.rename(columns = {'Unnamed: 0':'ID'})"
   ]
  },
  {
   "cell_type": "code",
   "execution_count": 5,
   "metadata": {},
   "outputs": [
    {
     "data": {
      "text/plain": [
       "Index(['school', 'sex', 'age', 'address', 'famsize', 'Pstatus', 'Medu', 'Fedu',\n",
       "       'Mjob', 'Fjob', 'reason', 'nursery', 'internet', 'guardian.x',\n",
       "       'traveltime.x', 'studytime.x', 'failures.x', 'schoolsup.x', 'famsup.x',\n",
       "       'paid.x', 'activities.x', 'higher.x', 'romantic.x', 'famrel.x',\n",
       "       'freetime.x', 'goout.x', 'Dalc.x', 'Walc.x', 'health.x', 'absences.x',\n",
       "       'G1.x', 'G2.x', 'G3.x', 'guardian.y', 'traveltime.y', 'studytime.y',\n",
       "       'failures.y', 'schoolsup.y', 'famsup.y', 'paid.y', 'activities.y',\n",
       "       'higher.y', 'romantic.y', 'famrel.y', 'freetime.y', 'goout.y', 'Dalc.y',\n",
       "       'Walc.y', 'health.y', 'absences.y', 'G1.y', 'G2.y', 'G3.y'],\n",
       "      dtype='object')"
      ]
     },
     "execution_count": 5,
     "metadata": {},
     "output_type": "execute_result"
    }
   ],
   "source": [
    "df.columns"
   ]
  },
  {
   "cell_type": "code",
   "execution_count": 6,
   "metadata": {},
   "outputs": [],
   "source": [
    "xfeatures=['school', 'sex', 'age', 'address', 'famsize', 'Pstatus', 'Medu', 'Fedu',\n",
    "       'Mjob', 'Fjob', 'reason', 'nursery', 'internet', 'guardian.x',\n",
    "       'traveltime.x', 'studytime.x', 'failures.x', 'schoolsup.x', 'famsup.x',\n",
    "       'paid.x', 'activities.x', 'higher.x', 'romantic.x', 'famrel.x',\n",
    "       'freetime.x', 'goout.x', 'Dalc.x', 'Walc.x', 'health.x', 'absences.x','G1.x','G3.x']"
   ]
  },
  {
   "cell_type": "code",
   "execution_count": 7,
   "metadata": {},
   "outputs": [],
   "source": [
    "yfeatures = ['school', 'sex', 'age', 'address', 'famsize', 'Pstatus', 'Medu', 'Fedu',\n",
    "       'Mjob', 'Fjob', 'reason', 'nursery', 'internet','guardian.y', 'traveltime.y', 'studytime.y',\n",
    "       'failures.y', 'schoolsup.y', 'famsup.y', 'paid.y', 'activities.y',\n",
    "       'higher.y', 'romantic.y', 'famrel.y', 'freetime.y', 'goout.y', 'Dalc.y',\n",
    "       'Walc.y', 'health.y', 'absences.y','G1.y','G3.y']"
   ]
  },
  {
   "cell_type": "code",
   "execution_count": 8,
   "metadata": {},
   "outputs": [],
   "source": [
    "keepcol = ['school', 'sex', 'age', 'address', 'famsize', 'Pstatus', 'Medu',\n",
    "       'Fedu', 'Mjob', 'Fjob', 'reason', 'nursery', 'internet', 'guardian.x',\n",
    "       'traveltime.x', 'studytime.x', 'failures.x', 'schoolsup.x', 'famsup.x',\n",
    "       'paid.x', 'activities.x', 'higher.x', 'romantic.x', 'famrel.x',\n",
    "       'freetime.x', 'goout.x', 'Dalc.x', 'Walc.x', 'health.x', 'absences.x',\n",
    "       'G1.x', 'G2.x', 'G3.x', 'guardian.y', 'traveltime.y', 'studytime.y',\n",
    "       'failures.y', 'schoolsup.y', 'famsup.y', 'paid.y', 'activities.y',\n",
    "       'higher.y', 'romantic.y', 'famrel.y', 'freetime.y', 'goout.y', 'Dalc.y',\n",
    "       'Walc.y', 'health.y', 'absences.y', 'G1.y', 'G2.y', 'G3.y']"
   ]
  },
  {
   "cell_type": "code",
   "execution_count": 9,
   "metadata": {},
   "outputs": [],
   "source": [
    "fildf = df.loc[:,keepcol]"
   ]
  },
  {
   "cell_type": "code",
   "execution_count": 10,
   "metadata": {},
   "outputs": [],
   "source": [
    "fildf_x = fildf.loc[:,xfeatures]"
   ]
  },
  {
   "cell_type": "code",
   "execution_count": 11,
   "metadata": {},
   "outputs": [],
   "source": [
    "fildf_y = fildf.loc[:,yfeatures]"
   ]
  },
  {
   "cell_type": "code",
   "execution_count": 12,
   "metadata": {},
   "outputs": [
    {
     "data": {
      "text/plain": [
       "(882, 32)"
      ]
     },
     "execution_count": 12,
     "metadata": {},
     "output_type": "execute_result"
    }
   ],
   "source": [
    "fildf_x.shape"
   ]
  },
  {
   "cell_type": "code",
   "execution_count": 13,
   "metadata": {},
   "outputs": [
    {
     "data": {
      "text/plain": [
       "(882, 32)"
      ]
     },
     "execution_count": 13,
     "metadata": {},
     "output_type": "execute_result"
    }
   ],
   "source": [
    "fildf_y.shape"
   ]
  },
  {
   "cell_type": "code",
   "execution_count": 14,
   "metadata": {},
   "outputs": [],
   "source": [
    "def convertmarks(mark):\n",
    "    if mark<10:\n",
    "        return 'F'\n",
    "    elif mark==10 or mark==11:\n",
    "        return 'D'\n",
    "    elif mark==12 or mark==13:\n",
    "        return 'C'\n",
    "    elif mark==14 or mark==15:\n",
    "        return'B'\n",
    "    else:\n",
    "        return 'A'"
   ]
  },
  {
   "cell_type": "code",
   "execution_count": 15,
   "metadata": {},
   "outputs": [],
   "source": [
    "newlist=[]\n",
    "for i in fildf_x['G1.x']:\n",
    "    x = convertmarks(i)\n",
    "    newlist.append(x)\n",
    "fildf_x['New G1'] = newlist"
   ]
  },
  {
   "cell_type": "code",
   "execution_count": 16,
   "metadata": {},
   "outputs": [],
   "source": [
    "newlist=[]\n",
    "for i in fildf_y['G1.y']:\n",
    "    x = convertmarks(i)\n",
    "    newlist.append(x)\n",
    "fildf_y['New G1'] = newlist"
   ]
  },
  {
   "cell_type": "code",
   "execution_count": 17,
   "metadata": {},
   "outputs": [],
   "source": [
    "newlist=[]\n",
    "for i in fildf_x['G3.x']:\n",
    "    x = convertmarks(i)\n",
    "    newlist.append(x)\n",
    "fildf_x['New G3'] = newlist"
   ]
  },
  {
   "cell_type": "code",
   "execution_count": 18,
   "metadata": {},
   "outputs": [],
   "source": [
    "newlist=[]\n",
    "for i in fildf_y['G3.y']:\n",
    "    x = convertmarks(i)\n",
    "    newlist.append(x)\n",
    "fildf_y['New G3'] = newlist"
   ]
  },
  {
   "cell_type": "code",
   "execution_count": 19,
   "metadata": {},
   "outputs": [
    {
     "data": {
      "text/plain": [
       "0      C\n",
       "1      D\n",
       "2      C\n",
       "3      D\n",
       "4      C\n",
       "      ..\n",
       "877    C\n",
       "878    B\n",
       "879    C\n",
       "880    C\n",
       "881    C\n",
       "Name: New G3, Length: 882, dtype: object"
      ]
     },
     "execution_count": 19,
     "metadata": {},
     "output_type": "execute_result"
    }
   ],
   "source": [
    "fildf_y['New G3']"
   ]
  },
  {
   "cell_type": "code",
   "execution_count": 20,
   "metadata": {},
   "outputs": [],
   "source": [
    "label_encoder = preprocessing.LabelEncoder()"
   ]
  },
  {
   "cell_type": "code",
   "execution_count": 21,
   "metadata": {},
   "outputs": [],
   "source": [
    "fildf_x['New G1']= label_encoder.fit_transform(fildf_x['New G1'])\n",
    "fildf_y['New G1']= label_encoder.fit_transform(fildf_y['New G1'])\n",
    "fildf_x['New G3']= label_encoder.fit_transform(fildf_x['New G3'])\n",
    "fildf_y['New G3']= label_encoder.fit_transform(fildf_y['New G3'])"
   ]
  },
  {
   "cell_type": "code",
   "execution_count": 22,
   "metadata": {},
   "outputs": [
    {
     "data": {
      "text/plain": [
       "0      2\n",
       "1      3\n",
       "2      2\n",
       "3      3\n",
       "4      2\n",
       "      ..\n",
       "877    2\n",
       "878    1\n",
       "879    2\n",
       "880    2\n",
       "881    2\n",
       "Name: New G3, Length: 882, dtype: int64"
      ]
     },
     "execution_count": 22,
     "metadata": {},
     "output_type": "execute_result"
    }
   ],
   "source": [
    "fildf_y['New G3']"
   ]
  },
  {
   "cell_type": "code",
   "execution_count": 23,
   "metadata": {},
   "outputs": [],
   "source": [
    "fildf_x = fildf_x.sample(frac=1,random_state=123)\n",
    "fildf_y = fildf_y.sample(frac=1,random_state=123)"
   ]
  },
  {
   "cell_type": "code",
   "execution_count": 24,
   "metadata": {},
   "outputs": [],
   "source": [
    "fildf_x = fildf_x.drop(['G1.x','G3.x'],axis=1)\n",
    "fildf_y = fildf_y.drop(['G1.y','G3.y'],axis=1)"
   ]
  },
  {
   "cell_type": "code",
   "execution_count": 25,
   "metadata": {},
   "outputs": [],
   "source": [
    "features_x_G3 = fildf_x.drop(['New G1','New G3'],axis=1)\n",
    "features_x_G1 = fildf_x.drop(['New G1','New G3'],axis=1)\n",
    "features_y_G3 = fildf_y.drop(['New G1','New G3'],axis=1)\n",
    "features_y_G1 = fildf_y.drop(['New G1','New G3'],axis=1)"
   ]
  },
  {
   "cell_type": "code",
   "execution_count": 26,
   "metadata": {},
   "outputs": [],
   "source": [
    "target_x_G3 = fildf_x['New G3']\n",
    "target_x_G1 = fildf_x['New G1']\n",
    "target_y_G3 = fildf_y['New G3']\n",
    "target_y_G1 = fildf_y['New G1']"
   ]
  },
  {
   "cell_type": "code",
   "execution_count": 27,
   "metadata": {},
   "outputs": [],
   "source": [
    "X_train_x_G1, X_test_x_G1, y_train_x_G1, y_test_x_G1 = train_test_split(features_x_G1, target_x_G1, test_size=0.25, random_state=0)\n",
    "X_train_y_G1, X_test_y_G1, y_train_y_G1, y_test_y_G1 = train_test_split(features_y_G1, target_y_G1, test_size=0.25, random_state=0)"
   ]
  },
  {
   "cell_type": "code",
   "execution_count": 28,
   "metadata": {},
   "outputs": [],
   "source": [
    "X_train_x_G3, X_test_x_G3, y_train_x_G3, y_test_x_G3 = train_test_split(features_x_G3, target_x_G3, test_size=0.25, random_state=0)\n",
    "X_train_y_G3, X_test_y_G3, y_train_y_G3, y_test_y_G3 = train_test_split(features_y_G3, target_y_G3, test_size=0.25, random_state=0)"
   ]
  },
  {
   "cell_type": "markdown",
   "metadata": {},
   "source": [
    "### SVM"
   ]
  },
  {
   "cell_type": "code",
   "execution_count": 31,
   "metadata": {},
   "outputs": [],
   "source": [
    "param_grid_svc = {'C': [0.1,1, 10, 100], 'gamma': [1,0.1,0.01,0.001],'kernel': ['linear','rbf', 'poly', 'sigmoid']}\n",
    "cv = RepeatedStratifiedKFold(n_splits=10, n_repeats=3, random_state=1)"
   ]
  },
  {
   "cell_type": "code",
   "execution_count": 32,
   "metadata": {},
   "outputs": [
    {
     "name": "stdout",
     "output_type": "stream",
     "text": [
      "Fitting 30 folds for each of 10 candidates, totalling 300 fits\n"
     ]
    },
    {
     "name": "stderr",
     "output_type": "stream",
     "text": [
      "[Parallel(n_jobs=-1)]: Using backend LokyBackend with 8 concurrent workers.\n",
      "[Parallel(n_jobs=-1)]: Done  25 tasks      | elapsed:    2.2s\n",
      "[Parallel(n_jobs=-1)]: Done 150 tasks      | elapsed:    7.2s\n"
     ]
    },
    {
     "name": "stdout",
     "output_type": "stream",
     "text": [
      "SVC(C=1, break_ties=False, cache_size=200, class_weight=None, coef0=0.0,\n",
      "    decision_function_shape='ovr', degree=3, gamma=0.001, kernel='linear',\n",
      "    max_iter=-1, probability=False, random_state=None, shrinking=True,\n",
      "    tol=0.001, verbose=False)\n",
      "              precision    recall  f1-score   support\n",
      "\n",
      "           0       0.00      0.00      0.00         0\n",
      "           1       0.00      0.00      0.00         0\n",
      "           2       0.99      0.60      0.75       170\n",
      "           3       0.17      0.46      0.24        13\n",
      "           4       0.50      0.76      0.60        38\n",
      "\n",
      "    accuracy                           0.62       221\n",
      "   macro avg       0.33      0.36      0.32       221\n",
      "weighted avg       0.86      0.62      0.69       221\n",
      "\n",
      "[[  0   0  10   0   0]\n",
      " [  0   0  14   0   0]\n",
      " [  0   0 102   0   1]\n",
      " [  0   0  22   6   8]\n",
      " [  0   0  22   7  29]]\n",
      "Kappa Score: 0.3522453679472417\n"
     ]
    },
    {
     "name": "stderr",
     "output_type": "stream",
     "text": [
      "[Parallel(n_jobs=-1)]: Done 300 out of 300 | elapsed:   41.5s finished\n",
      "/opt/anaconda3/lib/python3.7/site-packages/sklearn/metrics/_classification.py:1272: UndefinedMetricWarning: Recall and F-score are ill-defined and being set to 0.0 in labels with no true samples. Use `zero_division` parameter to control this behavior.\n",
      "  _warn_prf(average, modifier, msg_start, len(result))\n"
     ]
    }
   ],
   "source": [
    "#grid_svc_x_G1 = GridSearchCV(SVC(),param_grid = param_grid_svc,refit=True,verbose=2,n_jobs=-1, cv=cv, scoring='accuracy',error_score=0)\n",
    "grid_svc_x_G1 = RandomizedSearchCV(SVC(),param_distributions = param_grid_svc,refit=True,verbose=2,n_jobs=-1, cv=cv, scoring='accuracy',error_score=0)\n",
    "grid_svc_x_G1.fit(X_train_x_G1,y_train_x_G1)\n",
    "print(grid_svc_x_G1.best_estimator_)\n",
    "y_pred_x_G1= grid_svc_x_G1.predict(X_test_x_G1)\n",
    "print(classification_report(y_pred_x_G1,y_test_x_G1,zero_division='warn'))\n",
    "print(confusion_matrix(y_test_x_G1,y_pred_x_G1))\n",
    "print(\"Kappa Score: \" +str(cohen_kappa_score(y_pred_x_G1,y_test_x_G1)))"
   ]
  },
  {
   "cell_type": "code",
   "execution_count": 33,
   "metadata": {},
   "outputs": [
    {
     "name": "stdout",
     "output_type": "stream",
     "text": [
      "Fitting 30 folds for each of 10 candidates, totalling 300 fits\n"
     ]
    },
    {
     "name": "stderr",
     "output_type": "stream",
     "text": [
      "[Parallel(n_jobs=-1)]: Using backend LokyBackend with 8 concurrent workers.\n",
      "[Parallel(n_jobs=-1)]: Done  25 tasks      | elapsed:    1.7s\n"
     ]
    },
    {
     "name": "stdout",
     "output_type": "stream",
     "text": [
      "SVC(C=1, break_ties=False, cache_size=200, class_weight=None, coef0=0.0,\n",
      "    decision_function_shape='ovr', degree=3, gamma=1, kernel='linear',\n",
      "    max_iter=-1, probability=False, random_state=None, shrinking=True,\n",
      "    tol=0.001, verbose=False)\n",
      "              precision    recall  f1-score   support\n",
      "\n",
      "           0       0.00      0.00      0.00         0\n",
      "           1       0.00      0.00      0.00         1\n",
      "           2       0.99      0.59      0.74       170\n",
      "           3       0.05      1.00      0.09         1\n",
      "           4       0.63      0.92      0.75        49\n",
      "\n",
      "    accuracy                           0.67       221\n",
      "   macro avg       0.33      0.50      0.32       221\n",
      "weighted avg       0.90      0.67      0.74       221\n",
      "\n",
      "[[  0   0  12   0   0]\n",
      " [  0   0  14   0   1]\n",
      " [  0   0 101   0   1]\n",
      " [  0   0  18   1   2]\n",
      " [  0   1  25   0  45]]\n",
      "Kappa Score: 0.4156363896233831\n"
     ]
    },
    {
     "name": "stderr",
     "output_type": "stream",
     "text": [
      "[Parallel(n_jobs=-1)]: Done 300 out of 300 | elapsed:   10.0s finished\n",
      "/opt/anaconda3/lib/python3.7/site-packages/sklearn/metrics/_classification.py:1272: UndefinedMetricWarning: Recall and F-score are ill-defined and being set to 0.0 in labels with no true samples. Use `zero_division` parameter to control this behavior.\n",
      "  _warn_prf(average, modifier, msg_start, len(result))\n"
     ]
    }
   ],
   "source": [
    "grid_svc_x_G3 = RandomizedSearchCV(SVC(),param_distributions = param_grid_svc,refit=True,verbose=2,n_jobs=-1, cv=cv, scoring='accuracy',error_score=0)\n",
    "grid_svc_x_G3.fit(X_train_x_G3,y_train_x_G3)\n",
    "print(grid_svc_x_G3.best_estimator_)\n",
    "y_pred_x_G3= grid_svc_x_G3.predict(X_test_x_G3)\n",
    "print(classification_report(y_pred_x_G3,y_test_x_G3,zero_division='warn'))\n",
    "print(confusion_matrix(y_test_x_G3,y_pred_x_G3))\n",
    "print(\"Kappa Score: \" +str(cohen_kappa_score(y_pred_x_G3,y_test_x_G3)))"
   ]
  },
  {
   "cell_type": "code",
   "execution_count": 34,
   "metadata": {},
   "outputs": [
    {
     "name": "stdout",
     "output_type": "stream",
     "text": [
      "Fitting 30 folds for each of 10 candidates, totalling 300 fits\n"
     ]
    },
    {
     "name": "stderr",
     "output_type": "stream",
     "text": [
      "[Parallel(n_jobs=-1)]: Using backend LokyBackend with 8 concurrent workers.\n",
      "[Parallel(n_jobs=-1)]: Done  52 tasks      | elapsed:    2.0s\n",
      "[Parallel(n_jobs=-1)]: Done 246 tasks      | elapsed:  1.6min\n",
      "[Parallel(n_jobs=-1)]: Done 300 out of 300 | elapsed:  1.8min finished\n"
     ]
    },
    {
     "name": "stdout",
     "output_type": "stream",
     "text": [
      "SVC(C=100, break_ties=False, cache_size=200, class_weight=None, coef0=0.0,\n",
      "    decision_function_shape='ovr', degree=3, gamma=0.1, kernel='linear',\n",
      "    max_iter=-1, probability=False, random_state=None, shrinking=True,\n",
      "    tol=0.001, verbose=False)\n",
      "              precision    recall  f1-score   support\n",
      "\n",
      "           0       0.00      0.00      0.00         2\n",
      "           1       0.47      0.50      0.48        28\n",
      "           2       0.88      0.72      0.80       138\n",
      "           3       0.53      0.71      0.60        41\n",
      "           4       0.54      0.58      0.56        12\n",
      "\n",
      "    accuracy                           0.68       221\n",
      "   macro avg       0.48      0.50      0.49       221\n",
      "weighted avg       0.74      0.68      0.70       221\n",
      "\n",
      "[[  0   5   5   0   0]\n",
      " [  2  14  13   1   0]\n",
      " [  0   6 100   7   0]\n",
      " [  0   2  19  29   5]\n",
      " [  0   1   1   4   7]]\n",
      "Kappa Score: 0.47654790499065924\n"
     ]
    }
   ],
   "source": [
    "grid_svc_y_G1 = RandomizedSearchCV(SVC(),param_distributions = param_grid_svc,refit=True,verbose=2,n_jobs=-1, cv=cv, scoring='accuracy',error_score=0)\n",
    "grid_svc_y_G1.fit(X_train_y_G1,y_train_y_G1)\n",
    "print(grid_svc_y_G1.best_estimator_)\n",
    "y_pred_y_G1= grid_svc_y_G1.predict(X_test_y_G1)\n",
    "print(classification_report(y_pred_y_G1,y_test_y_G1,zero_division='warn'))\n",
    "print(confusion_matrix(y_test_y_G1,y_pred_y_G1))\n",
    "print(\"Kappa Score: \" +str(cohen_kappa_score(y_pred_y_G1,y_test_y_G1)))"
   ]
  },
  {
   "cell_type": "code",
   "execution_count": 35,
   "metadata": {},
   "outputs": [
    {
     "name": "stdout",
     "output_type": "stream",
     "text": [
      "Fitting 30 folds for each of 10 candidates, totalling 300 fits\n"
     ]
    },
    {
     "name": "stderr",
     "output_type": "stream",
     "text": [
      "[Parallel(n_jobs=-1)]: Using backend LokyBackend with 8 concurrent workers.\n",
      "[Parallel(n_jobs=-1)]: Done  34 tasks      | elapsed:    0.8s\n",
      "[Parallel(n_jobs=-1)]: Done 182 tasks      | elapsed:   54.7s\n",
      "[Parallel(n_jobs=-1)]: Done 285 out of 300 | elapsed:  1.0min remaining:    3.3s\n"
     ]
    },
    {
     "name": "stdout",
     "output_type": "stream",
     "text": [
      "SVC(C=1, break_ties=False, cache_size=200, class_weight=None, coef0=0.0,\n",
      "    decision_function_shape='ovr', degree=3, gamma=0.01, kernel='linear',\n",
      "    max_iter=-1, probability=False, random_state=None, shrinking=True,\n",
      "    tol=0.001, verbose=False)\n",
      "              precision    recall  f1-score   support\n",
      "\n",
      "           0       0.00      0.00      0.00         0\n",
      "           1       0.65      0.48      0.55        64\n",
      "           2       0.74      0.62      0.68       112\n",
      "           3       0.51      0.72      0.60        36\n",
      "           4       0.40      0.44      0.42         9\n",
      "\n",
      "    accuracy                           0.59       221\n",
      "   macro avg       0.46      0.46      0.45       221\n",
      "weighted avg       0.66      0.59      0.62       221\n",
      "\n",
      "[[ 0  9  8  0  0]\n",
      " [ 0 31 17  0  0]\n",
      " [ 0 20 70  5  0]\n",
      " [ 0  4 16 26  5]\n",
      " [ 0  0  1  5  4]]\n",
      "Kappa Score: 0.400957744782098\n"
     ]
    },
    {
     "name": "stderr",
     "output_type": "stream",
     "text": [
      "[Parallel(n_jobs=-1)]: Done 300 out of 300 | elapsed:  1.1min finished\n",
      "/opt/anaconda3/lib/python3.7/site-packages/sklearn/metrics/_classification.py:1272: UndefinedMetricWarning: Recall and F-score are ill-defined and being set to 0.0 in labels with no true samples. Use `zero_division` parameter to control this behavior.\n",
      "  _warn_prf(average, modifier, msg_start, len(result))\n"
     ]
    }
   ],
   "source": [
    "grid_svc_y_G3 = RandomizedSearchCV(SVC(),param_distributions = param_grid_svc,refit=True,verbose=2,n_jobs=-1, cv=cv, scoring='accuracy',error_score=0)\n",
    "grid_svc_y_G3.fit(X_train_y_G3,y_train_y_G3)\n",
    "print(grid_svc_y_G3.best_estimator_)\n",
    "y_pred_y_G3= grid_svc_y_G3.predict(X_test_y_G3)\n",
    "print(metrics.classification_report(y_pred_y_G3,y_test_y_G3,zero_division='warn'))\n",
    "print(confusion_matrix(y_test_y_G3,y_pred_y_G3))\n",
    "print(\"Kappa Score: \" +str(cohen_kappa_score(y_pred_y_G3,y_test_y_G3)))"
   ]
  },
  {
   "cell_type": "markdown",
   "metadata": {},
   "source": [
    "### Gradient Boosting"
   ]
  },
  {
   "cell_type": "code",
   "execution_count": 36,
   "metadata": {},
   "outputs": [],
   "source": [
    "gbc = GradientBoostingClassifier()\n",
    "parameters_gbc = {\n",
    "    \"n_estimators\":[5,50,250,500],\n",
    "    \"max_depth\":[1,3,5,7,9],\n",
    "    \"learning_rate\":[0.01,0.1,1,10,100]\n",
    "}\n",
    "cv = RepeatedStratifiedKFold(n_splits=10, n_repeats=3, random_state=1)"
   ]
  },
  {
   "cell_type": "code",
   "execution_count": 37,
   "metadata": {},
   "outputs": [
    {
     "name": "stdout",
     "output_type": "stream",
     "text": [
      "Fitting 30 folds for each of 10 candidates, totalling 300 fits\n"
     ]
    },
    {
     "name": "stderr",
     "output_type": "stream",
     "text": [
      "[Parallel(n_jobs=-1)]: Using backend LokyBackend with 8 concurrent workers.\n",
      "[Parallel(n_jobs=-1)]: Done  25 tasks      | elapsed:    2.5s\n",
      "[Parallel(n_jobs=-1)]: Done 146 tasks      | elapsed:   39.0s\n"
     ]
    },
    {
     "name": "stdout",
     "output_type": "stream",
     "text": [
      "GradientBoostingClassifier(ccp_alpha=0.0, criterion='friedman_mse', init=None,\n",
      "                           learning_rate=0.1, loss='deviance', max_depth=3,\n",
      "                           max_features=None, max_leaf_nodes=None,\n",
      "                           min_impurity_decrease=0.0, min_impurity_split=None,\n",
      "                           min_samples_leaf=1, min_samples_split=2,\n",
      "                           min_weight_fraction_leaf=0.0, n_estimators=5,\n",
      "                           n_iter_no_change=None, presort='deprecated',\n",
      "                           random_state=None, subsample=1.0, tol=0.0001,\n",
      "                           validation_fraction=0.1, verbose=0,\n",
      "                           warm_start=False)\n",
      "              precision    recall  f1-score   support\n",
      "\n",
      "           0       0.00      0.00      0.00         0\n",
      "           1       0.00      0.00      0.00         0\n",
      "           2       0.99      0.60      0.75       170\n",
      "           3       0.33      0.67      0.44        18\n",
      "           4       0.53      0.94      0.68        33\n",
      "\n",
      "    accuracy                           0.66       221\n",
      "   macro avg       0.37      0.44      0.37       221\n",
      "weighted avg       0.87      0.66      0.71       221\n",
      "\n",
      "[[  0   0  10   0   0]\n",
      " [  0   0  14   0   0]\n",
      " [  0   0 102   1   0]\n",
      " [  0   0  22  12   2]\n",
      " [  0   0  22   5  31]]\n",
      "Kappa Score: 0.41617713511070953\n"
     ]
    },
    {
     "name": "stderr",
     "output_type": "stream",
     "text": [
      "[Parallel(n_jobs=-1)]: Done 285 out of 300 | elapsed:   54.3s remaining:    2.9s\n",
      "[Parallel(n_jobs=-1)]: Done 300 out of 300 | elapsed:   54.3s finished\n",
      "/opt/anaconda3/lib/python3.7/site-packages/sklearn/metrics/_classification.py:1272: UndefinedMetricWarning: Recall and F-score are ill-defined and being set to 0.0 in labels with no true samples. Use `zero_division` parameter to control this behavior.\n",
      "  _warn_prf(average, modifier, msg_start, len(result))\n"
     ]
    }
   ],
   "source": [
    "grid_gbc_x_G1 = RandomizedSearchCV(gbc,param_distributions = parameters_gbc,refit=True,verbose=2,n_jobs=-1, cv=cv, scoring='accuracy',error_score=0)\n",
    "grid_gbc_x_G1.fit(X_train_x_G1,y_train_x_G1)\n",
    "print(grid_gbc_x_G1.best_estimator_)\n",
    "y_pred_x_G1= grid_gbc_x_G1.predict(X_test_x_G1)\n",
    "print(classification_report(y_pred_x_G1,y_test_x_G1,zero_division='warn'))\n",
    "print(confusion_matrix(y_test_x_G1,y_pred_x_G1))\n",
    "print(\"Kappa Score: \" +str(cohen_kappa_score(y_pred_x_G1,y_test_x_G1)))"
   ]
  },
  {
   "cell_type": "code",
   "execution_count": 38,
   "metadata": {},
   "outputs": [
    {
     "name": "stderr",
     "output_type": "stream",
     "text": [
      "[Parallel(n_jobs=-1)]: Using backend LokyBackend with 8 concurrent workers.\n"
     ]
    },
    {
     "name": "stdout",
     "output_type": "stream",
     "text": [
      "Fitting 30 folds for each of 10 candidates, totalling 300 fits\n"
     ]
    },
    {
     "name": "stderr",
     "output_type": "stream",
     "text": [
      "[Parallel(n_jobs=-1)]: Done  52 tasks      | elapsed:    1.9s\n",
      "/opt/anaconda3/lib/python3.7/site-packages/joblib/externals/loky/process_executor.py:706: UserWarning: A worker stopped while some jobs were given to the executor. This can be caused by a too short worker timeout or by a memory leak.\n",
      "  \"timeout or by a memory leak.\", UserWarning\n",
      "[Parallel(n_jobs=-1)]: Done 242 tasks      | elapsed:  2.7min\n",
      "[Parallel(n_jobs=-1)]: Done 300 out of 300 | elapsed:  3.1min finished\n"
     ]
    },
    {
     "name": "stdout",
     "output_type": "stream",
     "text": [
      "GradientBoostingClassifier(ccp_alpha=0.0, criterion='friedman_mse', init=None,\n",
      "                           learning_rate=0.1, loss='deviance', max_depth=7,\n",
      "                           max_features=None, max_leaf_nodes=None,\n",
      "                           min_impurity_decrease=0.0, min_impurity_split=None,\n",
      "                           min_samples_leaf=1, min_samples_split=2,\n",
      "                           min_weight_fraction_leaf=0.0, n_estimators=500,\n",
      "                           n_iter_no_change=None, presort='deprecated',\n",
      "                           random_state=None, subsample=1.0, tol=0.0001,\n",
      "                           validation_fraction=0.1, verbose=0,\n",
      "                           warm_start=False)\n",
      "              precision    recall  f1-score   support\n",
      "\n",
      "           0       0.17      0.25      0.20         8\n",
      "           1       0.07      0.11      0.08         9\n",
      "           2       0.88      0.64      0.74       141\n",
      "           3       0.10      0.29      0.14         7\n",
      "           4       0.68      0.86      0.76        56\n",
      "\n",
      "    accuracy                           0.65       221\n",
      "   macro avg       0.38      0.43      0.38       221\n",
      "weighted avg       0.75      0.65      0.68       221\n",
      "\n",
      "[[ 2  1  9  0  0]\n",
      " [ 1  1 12  0  1]\n",
      " [ 1  4 90  3  4]\n",
      " [ 1  2 13  2  3]\n",
      " [ 3  1 17  2 48]]\n",
      "Kappa Score: 0.42740408570004995\n"
     ]
    }
   ],
   "source": [
    "grid_gbc_x_G3 = RandomizedSearchCV(gbc,param_distributions = parameters_gbc,refit=True,verbose=2,n_jobs=-1, cv=cv, scoring='accuracy',error_score=0)\n",
    "grid_gbc_x_G3.fit(X_train_x_G3,y_train_x_G3)\n",
    "print(grid_gbc_x_G3.best_estimator_)\n",
    "y_pred_x_G3= grid_gbc_x_G3.predict(X_test_x_G3)\n",
    "print(classification_report(y_pred_x_G3,y_test_x_G3,zero_division='warn'))\n",
    "print(confusion_matrix(y_test_x_G3,y_pred_x_G3))\n",
    "print(\"Kappa Score: \" +str(cohen_kappa_score(y_pred_x_G3,y_test_x_G3)))"
   ]
  },
  {
   "cell_type": "code",
   "execution_count": 39,
   "metadata": {},
   "outputs": [
    {
     "name": "stdout",
     "output_type": "stream",
     "text": [
      "Fitting 30 folds for each of 10 candidates, totalling 300 fits\n"
     ]
    },
    {
     "name": "stderr",
     "output_type": "stream",
     "text": [
      "[Parallel(n_jobs=-1)]: Using backend LokyBackend with 8 concurrent workers.\n",
      "[Parallel(n_jobs=-1)]: Done  34 tasks      | elapsed:    0.9s\n",
      "/opt/anaconda3/lib/python3.7/site-packages/joblib/externals/loky/process_executor.py:706: UserWarning: A worker stopped while some jobs were given to the executor. This can be caused by a too short worker timeout or by a memory leak.\n",
      "  \"timeout or by a memory leak.\", UserWarning\n",
      "[Parallel(n_jobs=-1)]: Done 184 tasks      | elapsed:  2.1min\n",
      "[Parallel(n_jobs=-1)]: Done 300 out of 300 | elapsed:  3.7min finished\n"
     ]
    },
    {
     "name": "stdout",
     "output_type": "stream",
     "text": [
      "GradientBoostingClassifier(ccp_alpha=0.0, criterion='friedman_mse', init=None,\n",
      "                           learning_rate=0.1, loss='deviance', max_depth=1,\n",
      "                           max_features=None, max_leaf_nodes=None,\n",
      "                           min_impurity_decrease=0.0, min_impurity_split=None,\n",
      "                           min_samples_leaf=1, min_samples_split=2,\n",
      "                           min_weight_fraction_leaf=0.0, n_estimators=250,\n",
      "                           n_iter_no_change=None, presort='deprecated',\n",
      "                           random_state=None, subsample=1.0, tol=0.0001,\n",
      "                           validation_fraction=0.1, verbose=0,\n",
      "                           warm_start=False)\n",
      "              precision    recall  f1-score   support\n",
      "\n",
      "           0       0.00      0.00      0.00         0\n",
      "           1       0.27      0.67      0.38        12\n",
      "           2       0.92      0.62      0.74       167\n",
      "           3       0.42      0.68      0.52        34\n",
      "           4       0.31      0.50      0.38         8\n",
      "\n",
      "    accuracy                           0.63       221\n",
      "   macro avg       0.38      0.49      0.40       221\n",
      "weighted avg       0.79      0.63      0.68       221\n",
      "\n",
      "[[  0   1   9   0   0]\n",
      " [  0   8  21   1   0]\n",
      " [  0   3 104   5   1]\n",
      " [  0   0  29  23   3]\n",
      " [  0   0   4   5   4]]\n",
      "Kappa Score: 0.34426110869879867\n"
     ]
    },
    {
     "name": "stderr",
     "output_type": "stream",
     "text": [
      "/opt/anaconda3/lib/python3.7/site-packages/sklearn/metrics/_classification.py:1272: UndefinedMetricWarning: Recall and F-score are ill-defined and being set to 0.0 in labels with no true samples. Use `zero_division` parameter to control this behavior.\n",
      "  _warn_prf(average, modifier, msg_start, len(result))\n"
     ]
    }
   ],
   "source": [
    "grid_gbc_y_G1 = RandomizedSearchCV(gbc,param_distributions = parameters_gbc,refit=True,verbose=2,n_jobs=-1, cv=cv, scoring='accuracy',error_score=0)\n",
    "grid_gbc_y_G1.fit(X_train_y_G1,y_train_y_G1)\n",
    "print(grid_gbc_y_G1.best_estimator_)\n",
    "y_pred_y_G1= grid_gbc_y_G1.predict(X_test_y_G1)\n",
    "print(classification_report(y_pred_y_G1,y_test_y_G1,zero_division='warn'))\n",
    "print(confusion_matrix(y_test_y_G1,y_pred_y_G1))\n",
    "print(\"Kappa Score: \" +str(cohen_kappa_score(y_pred_y_G1,y_test_y_G1)))"
   ]
  },
  {
   "cell_type": "code",
   "execution_count": 40,
   "metadata": {},
   "outputs": [
    {
     "name": "stdout",
     "output_type": "stream",
     "text": [
      "Fitting 30 folds for each of 10 candidates, totalling 300 fits\n"
     ]
    },
    {
     "name": "stderr",
     "output_type": "stream",
     "text": [
      "[Parallel(n_jobs=-1)]: Using backend LokyBackend with 8 concurrent workers.\n",
      "[Parallel(n_jobs=-1)]: Done  25 tasks      | elapsed:  1.1min\n",
      "[Parallel(n_jobs=-1)]: Done 146 tasks      | elapsed:  1.6min\n",
      "[Parallel(n_jobs=-1)]: Done 300 out of 300 | elapsed:  1.9min finished\n"
     ]
    },
    {
     "name": "stdout",
     "output_type": "stream",
     "text": [
      "GradientBoostingClassifier(ccp_alpha=0.0, criterion='friedman_mse', init=None,\n",
      "                           learning_rate=0.1, loss='deviance', max_depth=3,\n",
      "                           max_features=None, max_leaf_nodes=None,\n",
      "                           min_impurity_decrease=0.0, min_impurity_split=None,\n",
      "                           min_samples_leaf=1, min_samples_split=2,\n",
      "                           min_weight_fraction_leaf=0.0, n_estimators=50,\n",
      "                           n_iter_no_change=None, presort='deprecated',\n",
      "                           random_state=None, subsample=1.0, tol=0.0001,\n",
      "                           validation_fraction=0.1, verbose=0,\n",
      "                           warm_start=False)\n",
      "              precision    recall  f1-score   support\n",
      "\n",
      "           0       0.12      0.50      0.19         4\n",
      "           1       0.29      0.45      0.35        31\n",
      "           2       0.82      0.51      0.63       153\n",
      "           3       0.29      0.58      0.39        26\n",
      "           4       0.40      0.57      0.47         7\n",
      "\n",
      "    accuracy                           0.51       221\n",
      "   macro avg       0.38      0.52      0.41       221\n",
      "weighted avg       0.66      0.51      0.55       221\n",
      "\n",
      "[[ 2  3 12  0  0]\n",
      " [ 1 14 32  1  0]\n",
      " [ 1 10 78  4  2]\n",
      " [ 0  4 31 15  1]\n",
      " [ 0  0  0  6  4]]\n",
      "Kappa Score: 0.23875741532180905\n"
     ]
    }
   ],
   "source": [
    "grid_gbc_y_G3 = RandomizedSearchCV(gbc,param_distributions = parameters_gbc,refit=True,verbose=2,n_jobs=-1, cv=cv, scoring='accuracy',error_score=0)\n",
    "grid_gbc_y_G3.fit(X_train_y_G3,y_train_y_G3)\n",
    "print(grid_gbc_y_G3.best_estimator_)\n",
    "y_pred_y_G3= grid_gbc_y_G3.predict(X_test_y_G3)\n",
    "print(classification_report(y_pred_y_G3,y_test_y_G3,zero_division='warn'))\n",
    "print(confusion_matrix(y_test_y_G3,y_pred_y_G3))\n",
    "print(\"Kappa Score: \" +str(cohen_kappa_score(y_pred_y_G3,y_test_y_G3)))"
   ]
  },
  {
   "cell_type": "markdown",
   "metadata": {},
   "source": [
    "### Logistic Regression"
   ]
  },
  {
   "cell_type": "code",
   "execution_count": 41,
   "metadata": {},
   "outputs": [],
   "source": [
    "lr = LogisticRegression(max_iter=1000)\n",
    "solvers = ['newton-cg', 'lbfgs', 'liblinear']\n",
    "penalty = ['l2']\n",
    "c_values = [10, 1.0, 0.1, 0.01]\n",
    "grid = dict(solver=solvers,penalty=penalty,C=c_values)\n",
    "cv = RepeatedStratifiedKFold(n_splits=10, n_repeats=3, random_state=1)"
   ]
  },
  {
   "cell_type": "code",
   "execution_count": 42,
   "metadata": {},
   "outputs": [
    {
     "name": "stdout",
     "output_type": "stream",
     "text": [
      "LogisticRegression(C=1.0, class_weight=None, dual=False, fit_intercept=True,\n",
      "                   intercept_scaling=1, l1_ratio=None, max_iter=1000,\n",
      "                   multi_class='auto', n_jobs=None, penalty='l2',\n",
      "                   random_state=None, solver='liblinear', tol=0.0001, verbose=0,\n",
      "                   warm_start=False)\n",
      "              precision    recall  f1-score   support\n",
      "\n",
      "           0       0.00      0.00      0.00         0\n",
      "           1       0.00      0.00      0.00         0\n",
      "           2       0.99      0.60      0.75       170\n",
      "           3       0.25      0.64      0.36        14\n",
      "           4       0.55      0.86      0.67        37\n",
      "\n",
      "    accuracy                           0.65       221\n",
      "   macro avg       0.36      0.42      0.36       221\n",
      "weighted avg       0.87      0.65      0.71       221\n",
      "\n",
      "[[  0   0  10   0   0]\n",
      " [  0   0  14   0   0]\n",
      " [  0   0 102   1   0]\n",
      " [  0   0  22   9   5]\n",
      " [  0   0  22   4  32]]\n",
      "Kappa Score: 0.39897493113908156\n"
     ]
    },
    {
     "name": "stderr",
     "output_type": "stream",
     "text": [
      "/opt/anaconda3/lib/python3.7/site-packages/sklearn/metrics/_classification.py:1272: UndefinedMetricWarning: Recall and F-score are ill-defined and being set to 0.0 in labels with no true samples. Use `zero_division` parameter to control this behavior.\n",
      "  _warn_prf(average, modifier, msg_start, len(result))\n"
     ]
    }
   ],
   "source": [
    "grid_search_lr_x_G1 = RandomizedSearchCV(estimator=lr, param_distributions=grid, n_jobs=-1, cv=cv, scoring='accuracy',error_score=0)\n",
    "grid_search_lr_x_G1.fit(X_train_x_G1,y_train_x_G1)\n",
    "print(grid_search_lr_x_G1.best_estimator_)\n",
    "y_pred_x_G1= grid_search_lr_x_G1.predict(X_test_x_G1)\n",
    "print(classification_report(y_pred_x_G1,y_test_x_G1,zero_division='warn'))\n",
    "print(confusion_matrix(y_test_x_G1,y_pred_x_G1))\n",
    "print(\"Kappa Score: \" +str(cohen_kappa_score(y_pred_x_G1,y_test_x_G1)))"
   ]
  },
  {
   "cell_type": "code",
   "execution_count": 43,
   "metadata": {},
   "outputs": [
    {
     "name": "stdout",
     "output_type": "stream",
     "text": [
      "LogisticRegression(C=1.0, class_weight=None, dual=False, fit_intercept=True,\n",
      "                   intercept_scaling=1, l1_ratio=None, max_iter=1000,\n",
      "                   multi_class='auto', n_jobs=None, penalty='l2',\n",
      "                   random_state=None, solver='liblinear', tol=0.0001, verbose=0,\n",
      "                   warm_start=False)\n",
      "              precision    recall  f1-score   support\n",
      "\n",
      "           0       0.00      0.00      0.00         0\n",
      "           1       0.00      0.00      0.00         0\n",
      "           2       0.99      0.59      0.74       170\n",
      "           3       0.00      0.00      0.00         0\n",
      "           4       0.65      0.90      0.75        51\n",
      "\n",
      "    accuracy                           0.67       221\n",
      "   macro avg       0.33      0.30      0.30       221\n",
      "weighted avg       0.91      0.67      0.75       221\n",
      "\n",
      "[[  0   0  12   0   0]\n",
      " [  0   0  14   0   1]\n",
      " [  0   0 101   0   1]\n",
      " [  0   0  18   0   3]\n",
      " [  0   0  25   0  46]]\n",
      "Kappa Score: 0.4134146341463415\n"
     ]
    },
    {
     "name": "stderr",
     "output_type": "stream",
     "text": [
      "/opt/anaconda3/lib/python3.7/site-packages/sklearn/metrics/_classification.py:1272: UndefinedMetricWarning: Recall and F-score are ill-defined and being set to 0.0 in labels with no true samples. Use `zero_division` parameter to control this behavior.\n",
      "  _warn_prf(average, modifier, msg_start, len(result))\n"
     ]
    }
   ],
   "source": [
    "grid_search_lr_x_G3 = RandomizedSearchCV(estimator=lr, param_distributions=grid, n_jobs=-1, cv=cv, scoring='accuracy',error_score=0)\n",
    "grid_search_lr_x_G3.fit(X_train_x_G3,y_train_x_G3)\n",
    "print(grid_search_lr_x_G3.best_estimator_)\n",
    "y_pred_x_G3= grid_search_lr_x_G3.predict(X_test_x_G3)\n",
    "print(classification_report(y_pred_x_G3,y_test_x_G3,zero_division='warn'))\n",
    "print(confusion_matrix(y_test_x_G3,y_pred_x_G3))\n",
    "print(\"Kappa Score: \" +str(cohen_kappa_score(y_pred_x_G3,y_test_x_G3)))"
   ]
  },
  {
   "cell_type": "code",
   "execution_count": 44,
   "metadata": {},
   "outputs": [
    {
     "name": "stdout",
     "output_type": "stream",
     "text": [
      "LogisticRegression(C=10, class_weight=None, dual=False, fit_intercept=True,\n",
      "                   intercept_scaling=1, l1_ratio=None, max_iter=1000,\n",
      "                   multi_class='auto', n_jobs=None, penalty='l2',\n",
      "                   random_state=None, solver='newton-cg', tol=0.0001, verbose=0,\n",
      "                   warm_start=False)\n",
      "              precision    recall  f1-score   support\n",
      "\n",
      "           0       0.00      0.00      0.00         0\n",
      "           1       0.30      0.60      0.40        15\n",
      "           2       0.87      0.64      0.74       152\n",
      "           3       0.49      0.66      0.56        41\n",
      "           4       0.62      0.62      0.62        13\n",
      "\n",
      "    accuracy                           0.64       221\n",
      "   macro avg       0.45      0.50      0.46       221\n",
      "weighted avg       0.74      0.64      0.68       221\n",
      "\n",
      "[[ 0  2  8  0  0]\n",
      " [ 0  9 20  0  1]\n",
      " [ 0  4 98 11  0]\n",
      " [ 0  0 24 27  4]\n",
      " [ 0  0  2  3  8]]\n",
      "Kappa Score: 0.3935952207286999\n"
     ]
    },
    {
     "name": "stderr",
     "output_type": "stream",
     "text": [
      "/opt/anaconda3/lib/python3.7/site-packages/sklearn/metrics/_classification.py:1272: UndefinedMetricWarning: Recall and F-score are ill-defined and being set to 0.0 in labels with no true samples. Use `zero_division` parameter to control this behavior.\n",
      "  _warn_prf(average, modifier, msg_start, len(result))\n"
     ]
    }
   ],
   "source": [
    "grid_search_lr_y_G1 = RandomizedSearchCV(estimator=lr, param_distributions=grid, n_jobs=-1, cv=cv, scoring='accuracy',error_score=0)\n",
    "grid_search_lr_y_G1.fit(X_train_y_G1,y_train_y_G1)\n",
    "print(grid_search_lr_y_G1.best_estimator_)\n",
    "y_pred_y_G1= grid_search_lr_y_G1.predict(X_test_y_G1)\n",
    "print(classification_report(y_pred_y_G1,y_test_y_G1,zero_division='warn'))\n",
    "print(confusion_matrix(y_test_y_G1,y_pred_y_G1))\n",
    "print(\"Kappa Score: \" +str(cohen_kappa_score(y_pred_y_G1,y_test_y_G1)))"
   ]
  },
  {
   "cell_type": "code",
   "execution_count": 45,
   "metadata": {},
   "outputs": [
    {
     "name": "stdout",
     "output_type": "stream",
     "text": [
      "LogisticRegression(C=10, class_weight=None, dual=False, fit_intercept=True,\n",
      "                   intercept_scaling=1, l1_ratio=None, max_iter=1000,\n",
      "                   multi_class='auto', n_jobs=None, penalty='l2',\n",
      "                   random_state=None, solver='newton-cg', tol=0.0001, verbose=0,\n",
      "                   warm_start=False)\n",
      "              precision    recall  f1-score   support\n",
      "\n",
      "           0       0.00      0.00      0.00         2\n",
      "           1       0.54      0.48      0.51        54\n",
      "           2       0.76      0.62      0.68       117\n",
      "           3       0.51      0.68      0.58        38\n",
      "           4       0.40      0.40      0.40        10\n",
      "\n",
      "    accuracy                           0.58       221\n",
      "   macro avg       0.44      0.44      0.43       221\n",
      "weighted avg       0.64      0.58      0.60       221\n",
      "\n",
      "[[ 0  8  8  1  0]\n",
      " [ 2 26 20  0  0]\n",
      " [ 0 17 72  6  0]\n",
      " [ 0  3 16 26  6]\n",
      " [ 0  0  1  5  4]]\n",
      "Kappa Score: 0.3783497671042283\n"
     ]
    }
   ],
   "source": [
    "grid_search_lr_y_G3 = RandomizedSearchCV(estimator=lr, param_distributions=grid, n_jobs=-1, cv=cv, scoring='accuracy',error_score=0)\n",
    "grid_search_lr_y_G3.fit(X_train_y_G3,y_train_y_G3)\n",
    "print(grid_search_lr_y_G3.best_estimator_)\n",
    "y_pred_y_G3= grid_search_lr_y_G3.predict(X_test_y_G3)\n",
    "print(classification_report(y_pred_y_G3,y_test_y_G3,zero_division='warn'))\n",
    "print(confusion_matrix(y_test_y_G3,y_pred_y_G3))\n",
    "print(\"Kappa Score: \" +str(cohen_kappa_score(y_pred_y_G3,y_test_y_G3)))"
   ]
  },
  {
   "cell_type": "markdown",
   "metadata": {},
   "source": [
    "### Random Forest"
   ]
  },
  {
   "cell_type": "code",
   "execution_count": 46,
   "metadata": {},
   "outputs": [],
   "source": [
    "# define models and parameters\n",
    "rf = RandomForestClassifier()\n",
    "n_estimators = [10, 100, 1000]\n",
    "max_features = ['sqrt', 'log2']\n",
    "# define grid search\n",
    "grid = dict(n_estimators=n_estimators,max_features=max_features)\n",
    "cv = RepeatedStratifiedKFold(n_splits=10, n_repeats=3, random_state=1)"
   ]
  },
  {
   "cell_type": "code",
   "execution_count": 47,
   "metadata": {},
   "outputs": [
    {
     "name": "stderr",
     "output_type": "stream",
     "text": [
      "/opt/anaconda3/lib/python3.7/site-packages/sklearn/model_selection/_search.py:281: UserWarning: The total space of parameters 6 is smaller than n_iter=10. Running 6 iterations. For exhaustive searches, use GridSearchCV.\n",
      "  % (grid_size, self.n_iter, grid_size), UserWarning)\n"
     ]
    },
    {
     "name": "stdout",
     "output_type": "stream",
     "text": [
      "RandomForestClassifier(bootstrap=True, ccp_alpha=0.0, class_weight=None,\n",
      "                       criterion='gini', max_depth=None, max_features='log2',\n",
      "                       max_leaf_nodes=None, max_samples=None,\n",
      "                       min_impurity_decrease=0.0, min_impurity_split=None,\n",
      "                       min_samples_leaf=1, min_samples_split=2,\n",
      "                       min_weight_fraction_leaf=0.0, n_estimators=1000,\n",
      "                       n_jobs=None, oob_score=False, random_state=None,\n",
      "                       verbose=0, warm_start=False)\n",
      "              precision    recall  f1-score   support\n",
      "\n",
      "           0       0.10      1.00      0.18         1\n",
      "           1       0.07      1.00      0.13         1\n",
      "           2       0.99      0.61      0.76       167\n",
      "           3       0.36      0.72      0.48        18\n",
      "           4       0.55      0.94      0.70        34\n",
      "\n",
      "    accuracy                           0.67       221\n",
      "   macro avg       0.41      0.85      0.45       221\n",
      "weighted avg       0.86      0.67      0.72       221\n",
      "\n",
      "[[  1   0   9   0   0]\n",
      " [  0   1  13   0   0]\n",
      " [  0   0 102   1   0]\n",
      " [  0   0  21  13   2]\n",
      " [  0   0  22   4  32]]\n",
      "Kappa Score: 0.45123465305559385\n"
     ]
    }
   ],
   "source": [
    "grid_search_rf_x_G1 = RandomizedSearchCV(estimator=rf, param_distributions=grid, n_jobs=-1, cv=cv, scoring='accuracy',error_score=0)\n",
    "grid_search_rf_x_G1.fit(X_train_x_G1,y_train_x_G1)\n",
    "print(grid_search_rf_x_G1.best_estimator_)\n",
    "y_pred_x_G1= grid_search_rf_x_G1.predict(X_test_x_G1)\n",
    "print(classification_report(y_pred_x_G1,y_test_x_G1,zero_division='warn'))\n",
    "print(confusion_matrix(y_test_x_G1,y_pred_x_G1))\n",
    "print(\"Kappa Score: \" +str(cohen_kappa_score(y_pred_x_G1,y_test_x_G1)))"
   ]
  },
  {
   "cell_type": "code",
   "execution_count": 48,
   "metadata": {},
   "outputs": [
    {
     "name": "stderr",
     "output_type": "stream",
     "text": [
      "/opt/anaconda3/lib/python3.7/site-packages/sklearn/model_selection/_search.py:281: UserWarning: The total space of parameters 6 is smaller than n_iter=10. Running 6 iterations. For exhaustive searches, use GridSearchCV.\n",
      "  % (grid_size, self.n_iter, grid_size), UserWarning)\n"
     ]
    },
    {
     "name": "stdout",
     "output_type": "stream",
     "text": [
      "RandomForestClassifier(bootstrap=True, ccp_alpha=0.0, class_weight=None,\n",
      "                       criterion='gini', max_depth=None, max_features='sqrt',\n",
      "                       max_leaf_nodes=None, max_samples=None,\n",
      "                       min_impurity_decrease=0.0, min_impurity_split=None,\n",
      "                       min_samples_leaf=1, min_samples_split=2,\n",
      "                       min_weight_fraction_leaf=0.0, n_estimators=1000,\n",
      "                       n_jobs=None, oob_score=False, random_state=None,\n",
      "                       verbose=0, warm_start=False)\n",
      "              precision    recall  f1-score   support\n",
      "\n",
      "           0       0.17      1.00      0.29         2\n",
      "           1       0.00      0.00      0.00         0\n",
      "           2       0.99      0.61      0.75       166\n",
      "           3       0.00      0.00      0.00         0\n",
      "           4       0.68      0.91      0.77        53\n",
      "\n",
      "    accuracy                           0.68       221\n",
      "   macro avg       0.37      0.50      0.36       221\n",
      "weighted avg       0.91      0.68      0.75       221\n",
      "\n",
      "[[  2   0  10   0   0]\n",
      " [  0   0  14   0   1]\n",
      " [  0   0 101   0   1]\n",
      " [  0   0  18   0   3]\n",
      " [  0   0  23   0  48]]\n",
      "Kappa Score: 0.4498968778891971\n"
     ]
    },
    {
     "name": "stderr",
     "output_type": "stream",
     "text": [
      "/opt/anaconda3/lib/python3.7/site-packages/sklearn/metrics/_classification.py:1272: UndefinedMetricWarning: Recall and F-score are ill-defined and being set to 0.0 in labels with no true samples. Use `zero_division` parameter to control this behavior.\n",
      "  _warn_prf(average, modifier, msg_start, len(result))\n"
     ]
    }
   ],
   "source": [
    "grid_search_rf_x_G3 = RandomizedSearchCV(estimator=rf, param_distributions=grid, n_jobs=-1, cv=cv, scoring='accuracy',error_score=0)\n",
    "grid_search_rf_x_G3.fit(X_train_x_G3,y_train_x_G3)\n",
    "print(grid_search_rf_x_G3.best_estimator_)\n",
    "y_pred_x_G3= grid_search_rf_x_G3.predict(X_test_x_G3)\n",
    "print(classification_report(y_pred_x_G3,y_test_x_G3,zero_division='warn'))\n",
    "print(confusion_matrix(y_test_x_G3,y_pred_x_G3))\n",
    "print(\"Kappa Score: \" +str(cohen_kappa_score(y_pred_x_G3,y_test_x_G3)))"
   ]
  },
  {
   "cell_type": "code",
   "execution_count": 49,
   "metadata": {},
   "outputs": [
    {
     "name": "stderr",
     "output_type": "stream",
     "text": [
      "/opt/anaconda3/lib/python3.7/site-packages/sklearn/model_selection/_search.py:281: UserWarning: The total space of parameters 6 is smaller than n_iter=10. Running 6 iterations. For exhaustive searches, use GridSearchCV.\n",
      "  % (grid_size, self.n_iter, grid_size), UserWarning)\n"
     ]
    },
    {
     "name": "stdout",
     "output_type": "stream",
     "text": [
      "RandomForestClassifier(bootstrap=True, ccp_alpha=0.0, class_weight=None,\n",
      "                       criterion='gini', max_depth=None, max_features='log2',\n",
      "                       max_leaf_nodes=None, max_samples=None,\n",
      "                       min_impurity_decrease=0.0, min_impurity_split=None,\n",
      "                       min_samples_leaf=1, min_samples_split=2,\n",
      "                       min_weight_fraction_leaf=0.0, n_estimators=1000,\n",
      "                       n_jobs=None, oob_score=False, random_state=None,\n",
      "                       verbose=0, warm_start=False)\n",
      "              precision    recall  f1-score   support\n",
      "\n",
      "           0       0.10      1.00      0.18         1\n",
      "           1       0.10      0.60      0.17         5\n",
      "           2       0.95      0.58      0.72       185\n",
      "           3       0.31      0.63      0.41        27\n",
      "           4       0.15      0.67      0.25         3\n",
      "\n",
      "    accuracy                           0.59       221\n",
      "   macro avg       0.32      0.69      0.35       221\n",
      "weighted avg       0.84      0.59      0.66       221\n",
      "\n",
      "[[  1   0   9   0   0]\n",
      " [  0   3  27   0   0]\n",
      " [  0   2 107   3   1]\n",
      " [  0   0  38  17   0]\n",
      " [  0   0   4   7   2]]\n",
      "Kappa Score: 0.2339250342831024\n"
     ]
    }
   ],
   "source": [
    "grid_search_rf_y_G1 = RandomizedSearchCV(estimator=rf, param_distributions=grid, n_jobs=-1, cv=cv, scoring='accuracy',error_score=0)\n",
    "grid_search_rf_y_G1.fit(X_train_y_G1,y_train_y_G1)\n",
    "print(grid_search_rf_y_G1.best_estimator_)\n",
    "y_pred_y_G1= grid_search_rf_y_G1.predict(X_test_y_G1)\n",
    "print(classification_report(y_pred_y_G1,y_test_y_G1,zero_division='warn'))\n",
    "print(confusion_matrix(y_test_y_G1,y_pred_y_G1))\n",
    "print(\"Kappa Score: \" +str(cohen_kappa_score(y_pred_y_G1,y_test_y_G1)))"
   ]
  },
  {
   "cell_type": "code",
   "execution_count": 50,
   "metadata": {},
   "outputs": [
    {
     "name": "stderr",
     "output_type": "stream",
     "text": [
      "/opt/anaconda3/lib/python3.7/site-packages/sklearn/model_selection/_search.py:281: UserWarning: The total space of parameters 6 is smaller than n_iter=10. Running 6 iterations. For exhaustive searches, use GridSearchCV.\n",
      "  % (grid_size, self.n_iter, grid_size), UserWarning)\n"
     ]
    },
    {
     "name": "stdout",
     "output_type": "stream",
     "text": [
      "RandomForestClassifier(bootstrap=True, ccp_alpha=0.0, class_weight=None,\n",
      "                       criterion='gini', max_depth=None, max_features='log2',\n",
      "                       max_leaf_nodes=None, max_samples=None,\n",
      "                       min_impurity_decrease=0.0, min_impurity_split=None,\n",
      "                       min_samples_leaf=1, min_samples_split=2,\n",
      "                       min_weight_fraction_leaf=0.0, n_estimators=1000,\n",
      "                       n_jobs=None, oob_score=False, random_state=None,\n",
      "                       verbose=0, warm_start=False)\n",
      "              precision    recall  f1-score   support\n",
      "\n",
      "           0       0.00      0.00      0.00         0\n",
      "           1       0.19      0.50      0.27        18\n",
      "           2       0.93      0.48      0.63       183\n",
      "           3       0.24      0.63      0.34        19\n",
      "           4       0.10      1.00      0.18         1\n",
      "\n",
      "    accuracy                           0.50       221\n",
      "   macro avg       0.29      0.52      0.29       221\n",
      "weighted avg       0.80      0.50      0.58       221\n",
      "\n",
      "[[ 0  3 14  0  0]\n",
      " [ 0  9 39  0  0]\n",
      " [ 0  6 88  1  0]\n",
      " [ 0  0 39 12  0]\n",
      " [ 0  0  3  6  1]]\n",
      "Kappa Score: 0.17161381825549582\n"
     ]
    },
    {
     "name": "stderr",
     "output_type": "stream",
     "text": [
      "/opt/anaconda3/lib/python3.7/site-packages/sklearn/metrics/_classification.py:1272: UndefinedMetricWarning: Recall and F-score are ill-defined and being set to 0.0 in labels with no true samples. Use `zero_division` parameter to control this behavior.\n",
      "  _warn_prf(average, modifier, msg_start, len(result))\n"
     ]
    }
   ],
   "source": [
    "grid_search_rf_y_G3 = RandomizedSearchCV(estimator=rf, param_distributions=grid, n_jobs=-1, cv=cv, scoring='accuracy',error_score=0)\n",
    "grid_search_rf_y_G3.fit(X_train_y_G3,y_train_y_G3)\n",
    "print(grid_search_rf_y_G3.best_estimator_)\n",
    "y_pred_y_G3= grid_search_rf_y_G3.predict(X_test_y_G3)\n",
    "print(classification_report(y_pred_y_G3,y_test_y_G3,zero_division='warn'))\n",
    "print(confusion_matrix(y_test_y_G3,y_pred_y_G3))\n",
    "print(\"Kappa Score: \" +str(cohen_kappa_score(y_pred_y_G3,y_test_y_G3)))"
   ]
  },
  {
   "cell_type": "markdown",
   "metadata": {},
   "source": [
    "### Decision Tree"
   ]
  },
  {
   "cell_type": "code",
   "execution_count": 51,
   "metadata": {},
   "outputs": [],
   "source": [
    "dct = DecisionTreeClassifier()\n",
    "param_dist = {\"max_depth\": [1,2,3,4,5],\n",
    "              \"max_features\": ['auto', 'sqrt', 'log2'],\n",
    "              \"min_samples_leaf\": [1,2,3,4,5],\n",
    "              \"min_samples_split\" : [1,2,3,4,5],\n",
    "              \"criterion\": [\"gini\", \"entropy\"]}\n",
    "cv = RepeatedStratifiedKFold(n_splits=10, n_repeats=3, random_state=1)"
   ]
  },
  {
   "cell_type": "code",
   "execution_count": 52,
   "metadata": {},
   "outputs": [
    {
     "name": "stdout",
     "output_type": "stream",
     "text": [
      "DecisionTreeClassifier(ccp_alpha=0.0, class_weight=None, criterion='entropy',\n",
      "                       max_depth=5, max_features='auto', max_leaf_nodes=None,\n",
      "                       min_impurity_decrease=0.0, min_impurity_split=None,\n",
      "                       min_samples_leaf=1, min_samples_split=4,\n",
      "                       min_weight_fraction_leaf=0.0, presort='deprecated',\n",
      "                       random_state=None, splitter='best')\n",
      "              precision    recall  f1-score   support\n",
      "\n",
      "           0       0.00      0.00      0.00         1\n",
      "           1       0.00      0.00      0.00         0\n",
      "           2       0.91      0.57      0.70       164\n",
      "           3       0.31      0.69      0.42        16\n",
      "           4       0.47      0.68      0.55        40\n",
      "\n",
      "    accuracy                           0.60       221\n",
      "   macro avg       0.34      0.39      0.34       221\n",
      "weighted avg       0.78      0.60      0.65       221\n",
      "\n",
      "[[ 0  0  8  0  2]\n",
      " [ 0  0 14  0  0]\n",
      " [ 0  0 94  1  8]\n",
      " [ 0  0 22 11  3]\n",
      " [ 1  0 26  4 27]]\n",
      "Kappa Score: 0.32276279998622737\n"
     ]
    },
    {
     "name": "stderr",
     "output_type": "stream",
     "text": [
      "/opt/anaconda3/lib/python3.7/site-packages/sklearn/metrics/_classification.py:1272: UndefinedMetricWarning: Recall and F-score are ill-defined and being set to 0.0 in labels with no true samples. Use `zero_division` parameter to control this behavior.\n",
      "  _warn_prf(average, modifier, msg_start, len(result))\n"
     ]
    }
   ],
   "source": [
    "grid_search_dct_x_G1 = RandomizedSearchCV(estimator=dct, param_distributions=param_dist, n_jobs=-1, cv=cv, scoring='accuracy',error_score=0)\n",
    "grid_search_dct_x_G1.fit(X_train_x_G1,y_train_x_G1)\n",
    "print(grid_search_dct_x_G1.best_estimator_)\n",
    "y_pred_x_G1= grid_search_dct_x_G1.predict(X_test_x_G1)\n",
    "print(classification_report(y_pred_x_G1,y_test_x_G1,zero_division='warn'))\n",
    "print(confusion_matrix(y_test_x_G1,y_pred_x_G1))\n",
    "print(\"Kappa Score: \" +str(cohen_kappa_score(y_pred_x_G1,y_test_x_G1)))"
   ]
  },
  {
   "cell_type": "code",
   "execution_count": 53,
   "metadata": {},
   "outputs": [
    {
     "name": "stdout",
     "output_type": "stream",
     "text": [
      "DecisionTreeClassifier(ccp_alpha=0.0, class_weight=None, criterion='entropy',\n",
      "                       max_depth=3, max_features='auto', max_leaf_nodes=None,\n",
      "                       min_impurity_decrease=0.0, min_impurity_split=None,\n",
      "                       min_samples_leaf=2, min_samples_split=5,\n",
      "                       min_weight_fraction_leaf=0.0, presort='deprecated',\n",
      "                       random_state=None, splitter='best')\n",
      "              precision    recall  f1-score   support\n",
      "\n",
      "           0       0.00      0.00      0.00         0\n",
      "           1       0.00      0.00      0.00         0\n",
      "           2       0.92      0.46      0.62       203\n",
      "           3       0.00      0.00      0.00         0\n",
      "           4       0.07      0.28      0.11        18\n",
      "\n",
      "    accuracy                           0.45       221\n",
      "   macro avg       0.20      0.15      0.15       221\n",
      "weighted avg       0.85      0.45      0.58       221\n",
      "\n",
      "[[ 0  0 12  0  0]\n",
      " [ 0  0 12  0  3]\n",
      " [ 0  0 94  0  8]\n",
      " [ 0  0 19  0  2]\n",
      " [ 0  0 66  0  5]]\n",
      "Kappa Score: -0.003909595263804633\n"
     ]
    },
    {
     "name": "stderr",
     "output_type": "stream",
     "text": [
      "/opt/anaconda3/lib/python3.7/site-packages/sklearn/metrics/_classification.py:1272: UndefinedMetricWarning: Recall and F-score are ill-defined and being set to 0.0 in labels with no true samples. Use `zero_division` parameter to control this behavior.\n",
      "  _warn_prf(average, modifier, msg_start, len(result))\n"
     ]
    }
   ],
   "source": [
    "grid_search_dct_x_G3 = RandomizedSearchCV(estimator=dct, param_distributions=param_dist, n_jobs=-1, cv=cv, scoring='accuracy',error_score=0)\n",
    "grid_search_dct_x_G3.fit(X_train_x_G3,y_train_x_G3)\n",
    "print(grid_search_dct_x_G3.best_estimator_)\n",
    "y_pred_x_G3= grid_search_dct_x_G3.predict(X_test_x_G3)\n",
    "print(classification_report(y_pred_x_G3,y_test_x_G3,zero_division='warn'))\n",
    "print(confusion_matrix(y_test_x_G3,y_pred_x_G3))\n",
    "print(\"Kappa Score: \" +str(cohen_kappa_score(y_pred_x_G3,y_test_x_G3)))"
   ]
  },
  {
   "cell_type": "code",
   "execution_count": 54,
   "metadata": {},
   "outputs": [
    {
     "name": "stdout",
     "output_type": "stream",
     "text": [
      "DecisionTreeClassifier(ccp_alpha=0.0, class_weight=None, criterion='entropy',\n",
      "                       max_depth=4, max_features='auto', max_leaf_nodes=None,\n",
      "                       min_impurity_decrease=0.0, min_impurity_split=None,\n",
      "                       min_samples_leaf=1, min_samples_split=4,\n",
      "                       min_weight_fraction_leaf=0.0, presort='deprecated',\n",
      "                       random_state=None, splitter='best')\n",
      "              precision    recall  f1-score   support\n",
      "\n",
      "           0       0.00      0.00      0.00         0\n",
      "           1       0.00      0.00      0.00         1\n",
      "           2       0.89      0.55      0.68       185\n",
      "           3       0.22      0.43      0.29        28\n",
      "           4       0.08      0.14      0.10         7\n",
      "\n",
      "    accuracy                           0.52       221\n",
      "   macro avg       0.24      0.22      0.21       221\n",
      "weighted avg       0.78      0.52      0.61       221\n",
      "\n",
      "[[  0   0   7   3   0]\n",
      " [  0   0  29   1   0]\n",
      " [  0   0 101   9   3]\n",
      " [  0   0  40  12   3]\n",
      " [  0   1   8   3   1]]\n",
      "Kappa Score: 0.10001902949571839\n"
     ]
    },
    {
     "name": "stderr",
     "output_type": "stream",
     "text": [
      "/opt/anaconda3/lib/python3.7/site-packages/sklearn/metrics/_classification.py:1272: UndefinedMetricWarning: Recall and F-score are ill-defined and being set to 0.0 in labels with no true samples. Use `zero_division` parameter to control this behavior.\n",
      "  _warn_prf(average, modifier, msg_start, len(result))\n"
     ]
    }
   ],
   "source": [
    "grid_search_dct_y_G1 = RandomizedSearchCV(estimator=dct, param_distributions=param_dist, n_jobs=-1, cv=cv, scoring='accuracy',error_score=0)\n",
    "grid_search_dct_y_G1.fit(X_train_y_G1,y_train_y_G1)\n",
    "print(grid_search_dct_y_G1.best_estimator_)\n",
    "y_pred_y_G1= grid_search_dct_y_G1.predict(X_test_y_G1)\n",
    "print(classification_report(y_pred_y_G1,y_test_y_G1,zero_division='warn'))\n",
    "print(confusion_matrix(y_test_y_G1,y_pred_y_G1))\n",
    "print(\"Kappa Score: \" +str(cohen_kappa_score(y_pred_y_G1,y_test_y_G1)))"
   ]
  },
  {
   "cell_type": "code",
   "execution_count": 55,
   "metadata": {},
   "outputs": [
    {
     "name": "stdout",
     "output_type": "stream",
     "text": [
      "DecisionTreeClassifier(ccp_alpha=0.0, class_weight=None, criterion='gini',\n",
      "                       max_depth=2, max_features='log2', max_leaf_nodes=None,\n",
      "                       min_impurity_decrease=0.0, min_impurity_split=None,\n",
      "                       min_samples_leaf=1, min_samples_split=4,\n",
      "                       min_weight_fraction_leaf=0.0, presort='deprecated',\n",
      "                       random_state=None, splitter='best')\n",
      "              precision    recall  f1-score   support\n",
      "\n",
      "           0       0.00      0.00      0.00         0\n",
      "           1       0.19      0.50      0.27        18\n",
      "           2       0.93      0.48      0.63       183\n",
      "           3       0.24      0.63      0.34        19\n",
      "           4       0.10      1.00      0.18         1\n",
      "\n",
      "    accuracy                           0.50       221\n",
      "   macro avg       0.29      0.52      0.29       221\n",
      "weighted avg       0.80      0.50      0.58       221\n",
      "\n",
      "[[ 0  3 14  0  0]\n",
      " [ 0  9 39  0  0]\n",
      " [ 0  6 88  1  0]\n",
      " [ 0  0 39 12  0]\n",
      " [ 0  0  3  6  1]]\n",
      "Kappa Score: 0.17161381825549582\n"
     ]
    },
    {
     "name": "stderr",
     "output_type": "stream",
     "text": [
      "/opt/anaconda3/lib/python3.7/site-packages/sklearn/metrics/_classification.py:1272: UndefinedMetricWarning: Recall and F-score are ill-defined and being set to 0.0 in labels with no true samples. Use `zero_division` parameter to control this behavior.\n",
      "  _warn_prf(average, modifier, msg_start, len(result))\n"
     ]
    }
   ],
   "source": [
    "grid_search_dct_y_G3 = RandomizedSearchCV(estimator=dct, param_distributions=param_dist, n_jobs=-1, cv=cv, scoring='accuracy',error_score=0)\n",
    "grid_search_dct_y_G3.fit(X_train_y_G3,y_train_y_G3)\n",
    "print(grid_search_dct_y_G3.best_estimator_)\n",
    "y_pred_y_G3= grid_search_rf_y_G3.predict(X_test_y_G3)\n",
    "print(classification_report(y_pred_y_G3,y_test_y_G3,zero_division='warn'))\n",
    "print(confusion_matrix(y_test_y_G3,y_pred_y_G3))\n",
    "print(\"Kappa Score: \" +str(cohen_kappa_score(y_pred_y_G3,y_test_y_G3)))"
   ]
  },
  {
   "cell_type": "markdown",
   "metadata": {},
   "source": [
    "### Gaussian Naive Bayesian"
   ]
  },
  {
   "cell_type": "code",
   "execution_count": 56,
   "metadata": {},
   "outputs": [],
   "source": [
    "clf = GaussianNB()"
   ]
  },
  {
   "cell_type": "code",
   "execution_count": 57,
   "metadata": {},
   "outputs": [
    {
     "name": "stdout",
     "output_type": "stream",
     "text": [
      "              precision    recall  f1-score   support\n",
      "\n",
      "           0       0.90      0.07      0.13       126\n",
      "           1       0.00      0.00      0.00         0\n",
      "           2       0.19      0.61      0.29        33\n",
      "           3       0.31      0.58      0.40        19\n",
      "           4       0.52      0.70      0.59        43\n",
      "\n",
      "    accuracy                           0.32       221\n",
      "   macro avg       0.38      0.39      0.28       221\n",
      "weighted avg       0.67      0.32      0.27       221\n",
      "\n",
      "Kappa Score: 0.1861525704809287\n"
     ]
    },
    {
     "name": "stderr",
     "output_type": "stream",
     "text": [
      "/opt/anaconda3/lib/python3.7/site-packages/sklearn/metrics/_classification.py:1272: UndefinedMetricWarning: Recall and F-score are ill-defined and being set to 0.0 in labels with no true samples. Use `zero_division` parameter to control this behavior.\n",
      "  _warn_prf(average, modifier, msg_start, len(result))\n"
     ]
    }
   ],
   "source": [
    "clf.fit(X_train_x_G1,y_train_x_G1)\n",
    "y_pred_x_G1= clf.predict(X_test_x_G1)\n",
    "print(classification_report(y_pred_x_G1,y_test_x_G1))\n",
    "print(\"Kappa Score: \" +str(cohen_kappa_score(y_pred_x_G1,y_test_x_G1)))\n",
    "probagnbG1x = clf.predict_proba(X_test_x_G1)"
   ]
  },
  {
   "cell_type": "code",
   "execution_count": 58,
   "metadata": {},
   "outputs": [
    {
     "name": "stdout",
     "output_type": "stream",
     "text": [
      "              precision    recall  f1-score   support\n",
      "\n",
      "           0       0.08      0.04      0.05        27\n",
      "           1       0.80      0.12      0.21       102\n",
      "           2       0.19      0.61      0.29        31\n",
      "           3       0.10      0.33      0.15         6\n",
      "           4       0.61      0.78      0.68        55\n",
      "\n",
      "    accuracy                           0.35       221\n",
      "   macro avg       0.35      0.38      0.27       221\n",
      "weighted avg       0.56      0.35      0.31       221\n",
      "\n",
      "Kappa Score: 0.20028144946474324\n"
     ]
    }
   ],
   "source": [
    "clf.fit(X_train_x_G3,y_train_x_G3)\n",
    "y_pred_x_G3= clf.predict(X_test_x_G3)\n",
    "print(classification_report(y_pred_x_G3,y_test_x_G3))\n",
    "print(\"Kappa Score: \" +str(cohen_kappa_score(y_pred_x_G3,y_test_x_G3)))\n",
    "probagnbG3x = clf.predict_proba(X_test_x_G3)"
   ]
  },
  {
   "cell_type": "code",
   "execution_count": 59,
   "metadata": {},
   "outputs": [
    {
     "name": "stdout",
     "output_type": "stream",
     "text": [
      "              precision    recall  f1-score   support\n",
      "\n",
      "           0       0.70      0.05      0.09       150\n",
      "           1       0.10      0.12      0.11        24\n",
      "           2       0.04      0.44      0.07         9\n",
      "           3       0.24      0.68      0.35        19\n",
      "           4       0.62      0.42      0.50        19\n",
      "\n",
      "    accuracy                           0.16       221\n",
      "   macro avg       0.34      0.34      0.22       221\n",
      "weighted avg       0.56      0.16      0.15       221\n",
      "\n",
      "Kappa Score: 0.07235060480231092\n"
     ]
    }
   ],
   "source": [
    "clf.fit(X_train_y_G1,y_train_y_G1)\n",
    "y_pred_y_G1 = clf.predict(X_test_y_G1)\n",
    "print(classification_report(y_pred_y_G1,y_test_y_G1))\n",
    "print(\"Kappa Score: \" +str(cohen_kappa_score(y_pred_y_G1,y_test_y_G1)))\n",
    "probagnbG1y = clf.predict_proba(X_test_y_G1)"
   ]
  },
  {
   "cell_type": "code",
   "execution_count": 60,
   "metadata": {},
   "outputs": [
    {
     "name": "stdout",
     "output_type": "stream",
     "text": [
      "              precision    recall  f1-score   support\n",
      "\n",
      "           0       0.29      0.11      0.16        47\n",
      "           1       0.75      0.30      0.43       120\n",
      "           2       0.14      0.57      0.22        23\n",
      "           3       0.25      0.68      0.37        19\n",
      "           4       0.70      0.58      0.64        12\n",
      "\n",
      "    accuracy                           0.33       221\n",
      "   macro avg       0.43      0.45      0.36       221\n",
      "weighted avg       0.54      0.33      0.36       221\n",
      "\n",
      "Kappa Score: 0.16717083675143563\n"
     ]
    }
   ],
   "source": [
    "clf.fit(X_train_y_G3,y_train_y_G3)\n",
    "y_pred_y_G3 = clf.predict(X_test_y_G3)\n",
    "print(classification_report(y_pred_y_G3,y_test_y_G3))\n",
    "print(\"Kappa Score: \" +str(cohen_kappa_score(y_pred_y_G3,y_test_y_G3)))\n",
    "probagnbG3y = clf.predict_proba(X_test_y_G3)"
   ]
  },
  {
   "cell_type": "code",
   "execution_count": null,
   "metadata": {},
   "outputs": [],
   "source": []
  },
  {
   "cell_type": "code",
   "execution_count": null,
   "metadata": {},
   "outputs": [],
   "source": []
  },
  {
   "cell_type": "code",
   "execution_count": null,
   "metadata": {},
   "outputs": [],
   "source": []
  }
 ],
 "metadata": {
  "kernelspec": {
   "display_name": "Python 3",
   "language": "python",
   "name": "python3"
  },
  "language_info": {
   "codemirror_mode": {
    "name": "ipython",
    "version": 3
   },
   "file_extension": ".py",
   "mimetype": "text/x-python",
   "name": "python",
   "nbconvert_exporter": "python",
   "pygments_lexer": "ipython3",
   "version": "3.7.4"
  }
 },
 "nbformat": 4,
 "nbformat_minor": 4
}
