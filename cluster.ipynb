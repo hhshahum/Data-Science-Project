{
 "cells": [
  {
   "cell_type": "code",
   "execution_count": 17,
   "metadata": {},
   "outputs": [],
   "source": [
    "import pandas as pd\n",
    "import numpy as np\n",
    "import matplotlib.pyplot as plt\n",
    "import csv"
   ]
  },
  {
   "cell_type": "code",
   "execution_count": 45,
   "metadata": {},
   "outputs": [],
   "source": [
    " class KMeansClassifier():\n",
    "    \"this is a k-means classifier\"  \n",
    "    def __init__(self, k=3, initCent='random', max_iter=500):\n",
    "\n",
    "        self._k = k\n",
    "        self._initCent = initCent\n",
    "        self._max_iter = max_iter\n",
    "        self._clusterAssment = None\n",
    "        self._labels = None\n",
    "        self._sse = None\n",
    "\n",
    "    def _calEDist(self, arrA, arrB):\n",
    "        \"\"\"\n",
    "        功能：欧拉距离距离计算\n",
    "        输入：两个一维数组\n",
    "        \"\"\"\n",
    "        return np.math.sqrt(sum(np.power(arrA - arrB, 2)))\n",
    "\n",
    "    def _calMDist(self, arrA, arrB):\n",
    "        \"\"\"\n",
    "        功能：曼哈顿距离距离计算\n",
    "        输入：两个一维数组\n",
    "        \"\"\"\n",
    "        return sum(np.abs(arrA - arrB))\n",
    "\n",
    "    def _randCent(self, data_X, k):\n",
    "        \"\"\"\n",
    "        功能：随机选取k个质心\n",
    "        输出：centroids # 返回一个m*n的质心矩阵\n",
    "        \"\"\"\n",
    "        n = data_X.shape[1]  # 获取特征的维数\n",
    "        centroids = np.empty((k, n))  # 使用numpy生成一个k*n的矩阵，用于存储质心\n",
    "        for j in range(n):\n",
    "            minJ = min(data_X[:, j])\n",
    "            rangeJ = float(max(data_X[:, j] - minJ))\n",
    "            # 使用flatten拉平嵌套列表(nested list)\n",
    "            centroids[:, j] = (minJ + rangeJ * np.random.rand(k, 1)).flatten()\n",
    "        return centroids\n",
    "    \n",
    "    def fit(self, data_X):\n",
    "        \"\"\"\n",
    "        输入：一个m*n维的矩阵\n",
    "        \"\"\"\n",
    "        if not isinstance(data_X, np.ndarray) or \\\n",
    "               isinstance(data_X, np.matrixlib.defmatrix.matrix):\n",
    "            try:\n",
    "                data_X = np.asarray(data_X)\n",
    "            except:\n",
    "                raise TypeError(\"numpy.ndarray resuired for data_X\")\n",
    "\n",
    "        m = data_X.shape[0]  # 获取样本的个数\n",
    "        # 一个m*2的二维矩阵，矩阵第一列存储样本点所属的族的索引值，\n",
    "        # 第二列存储该点与所属族的质心的平方误差\n",
    "        self._clusterAssment = np.zeros((m, 2))\n",
    "\n",
    "        if self._initCent == 'random':\n",
    "            self._centroids = self._randCent(data_X, self._k)\n",
    "\n",
    "        clusterChanged = True\n",
    "        for _ in range(self._max_iter):  # 使用\"_\"主要是因为后面没有用到这个值\n",
    "            clusterChanged = False\n",
    "            for i in range(m):  # 将每个样本点分配到离它最近的质心所属的族\n",
    "                minDist = np.inf  # 首先将minDist置为一个无穷大的数\n",
    "                minIndex = -1  # 将最近质心的下标置为-1\n",
    "                for j in range(self._k):  # 次迭代用于寻找最近的质心\n",
    "                    arrA = self._centroids[j, :]\n",
    "                    arrB = data_X[i, :]\n",
    "                    distJI = self._calEDist(arrA, arrB)  # 计算误差值\n",
    "                    if distJI < minDist:\n",
    "                        minDist = distJI\n",
    "                        minIndex = j\n",
    "                if self._clusterAssment[i,\n",
    "                                        0] != minIndex or self._clusterAssment[\n",
    "                                            i, 1] > minDist**2:\n",
    "                    clusterChanged = True\n",
    "                    self._clusterAssment[i, :] = minIndex, minDist**2\n",
    "            if not clusterChanged:  # 若所有样本点所属的族都不改变,则已收敛,结束迭代\n",
    "                break\n",
    "            for i in range(self._k):  # 更新质心，将每个族中的点的均值作为质心\n",
    "                index_all = self._clusterAssment[:, 0]  # 取出样本所属簇的索引值\n",
    "                value = np.nonzero(index_all == i)  # 取出所有属于第i个簇的索引值\n",
    "                ptsInClust = data_X[value[0]]  # 取出属于第i个簇的所有样本点\n",
    "                self._centroids[i, :] = np.mean(ptsInClust, axis=0)  # 计算均值\n",
    "\n",
    "        self._labels = self._clusterAssment[:, 0]\n",
    "        self._sse = sum(self._clusterAssment[:, 1])\n",
    "        \n",
    "    def predict(self, X):  # 根据聚类结果，预测新输入数据所属的族\n",
    "        # 类型检查\n",
    "        if not isinstance(X, np.ndarray):\n",
    "            try:\n",
    "                X = np.asarray(X)\n",
    "            except:\n",
    "                raise TypeError(\"numpy.ndarray required for X\")\n",
    "\n",
    "        m = X.shape[0]  # m代表样本数量\n",
    "        preds = np.empty((m, ))\n",
    "        for i in range(m):  # 将每个样本点分配到离它最近的质心所属的族\n",
    "            minDist = np.inf\n",
    "            for j in range(self._k):\n",
    "                distJI = self._calEDist(self._centroids[j, :], X[i, :])\n",
    "                if distJI < minDist:\n",
    "                    minDist = distJI\n",
    "                    preds[i] = j\n",
    "        return preds         \n"
   ]
  },
  {
   "cell_type": "code",
   "execution_count": 46,
   "metadata": {},
   "outputs": [],
   "source": [
    "#读取.csv 文件\n",
    "filename = './merge.csv'\n",
    "with open(filename) as f:\n",
    "    next(f) #跳过第一行\n",
    "    reader = csv.reader(f)\n",
    "    #创建两个列表，分别用于存放.csv 文件中的数学成绩和英语成绩\n",
    "    gradeMaths = []\n",
    "    gradePortuguese = []\n",
    "#遍历文件中数据，将两列数据分别存放至两个列表\n",
    "    for row in reader:\n",
    "        maths = int(row[30])\n",
    "        gradeMaths.append(maths)\n",
    "        Portuguese = int(row[50])\n",
    "        gradePortuguese.append(Portuguese)\n",
    "        #合并两列表\n",
    "    z = list(zip(gradeMaths, gradePortuguese))\n",
    "    #将合并后的两列表转为矩阵\n",
    "    matz = np.array(z)"
   ]
  },
  {
   "cell_type": "code",
   "execution_count": 47,
   "metadata": {},
   "outputs": [
    {
     "data": {
      "image/png": "[encoded data removed]",
      "text/plain": [
       "<Figure size 432x288 with 1 Axes>"
      ]
     },
     "metadata": {
      "needs_background": "light"
     },
     "output_type": "display_data"
    }
   ],
   "source": [
    "if __name__==\"__main__\":\n",
    "    data_X = matz\n",
    "    k = 2\n",
    "    kmeans_clf = KMeansClassifier(k)# 实例化KMeansClassifier类\n",
    "    kmeans_clf.fit(data_X)# 训练模型\n",
    "    cents = kmeans_clf._centroids\n",
    "    labels = kmeans_clf._labels\n",
    "    sse = kmeans_clf._sse\n",
    "    colors = ['b','g','r','k','c','m','y','#e24fff','#524C90','#845868']\n",
    "    for i in range(k):\n",
    "        index = np.nonzero(labels==i)[0]\n",
    "        x0 = data_X[index, 0]\n",
    "        x1 = data_X[index, 1]\n",
    "        y_i = i\n",
    "        for j in range(len(x0)):\n",
    "            plt.text(x0[j], x1[j], str(y_i), color=colors[i], \\\n",
    "                        fontdict={'weight': 'bold', 'size': 6})\n",
    "        plt.scatter(cents[i,0],cents[i,1],marker='x',color=colors[i],\\\n",
    "                    linewidths=7)\n",
    "    \n",
    "    plt.title(\"SSE={:.2f}\".format(sse)) #误差平方和\n",
    "    plt.axis([40,100,40,100])\n",
    "    outname = \"./result/k_clusters\" + str(k) + \".png\"\n",
    "    plt.savefig(outname)\n",
    "    plt.show()"
   ]
  },
  {
   "cell_type": "code",
   "execution_count": 35,
   "metadata": {},
   "outputs": [
    {
     "name": "stdout",
     "output_type": "stream",
     "text": [
      "C:\\Users\\besta\\Anaconda3\\lib\n"
     ]
    }
   ],
   "source": [
    "import sys\n",
    "print(sys.path[3])"
   ]
  },
  {
   "cell_type": "code",
   "execution_count": null,
   "metadata": {},
   "outputs": [],
   "source": []
  },
  {
   "cell_type": "code",
   "execution_count": null,
   "metadata": {},
   "outputs": [],
   "source": []
  }
 ],
 "metadata": {
  "kernelspec": {
   "display_name": "Python 3",
   "language": "python",
   "name": "python3"
  },
  "language_info": {
   "codemirror_mode": {
    "name": "ipython",
    "version": 3
   },
   "file_extension": ".py",
   "mimetype": "text/x-python",
   "name": "python",
   "nbconvert_exporter": "python",
   "pygments_lexer": "ipython3",
   "version": "3.7.4"
  }
 },
 "nbformat": 4,
 "nbformat_minor": 4
}
