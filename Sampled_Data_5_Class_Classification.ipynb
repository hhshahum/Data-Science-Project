{
 "cells": [
  {
   "cell_type": "code",
   "execution_count": 1,
   "metadata": {},
   "outputs": [],
   "source": [
    "import pandas as pd\n",
    "import numpy as np\n",
    "import seaborn as sn\n",
    "import matplotlib.pyplot as plt\n",
    "from sklearn.svm import LinearSVC\n",
    "from sklearn.linear_model import LogisticRegression\n",
    "from sklearn.model_selection import train_test_split\n",
    "from sklearn import preprocessing\n",
    "from sklearn.tree import DecisionTreeClassifier\n",
    "from sklearn.metrics import accuracy_score\n",
    "from sklearn.naive_bayes import GaussianNB\n",
    "from sklearn.ensemble import RandomForestClassifier\n",
    "from sklearn.ensemble import GradientBoostingClassifier\n",
    "from sklearn.metrics import classification_report\n",
    "from sklearn.metrics import cohen_kappa_score\n",
    "import matplotlib.pyplot as plt"
   ]
  },
  {
   "cell_type": "code",
   "execution_count": 2,
   "metadata": {},
   "outputs": [],
   "source": [
    "df = pd.read_csv('final_combined_dataset.csv')"
   ]
  },
  {
   "cell_type": "code",
   "execution_count": 3,
   "metadata": {},
   "outputs": [],
   "source": [
    "xfeatures=['school', 'sex', 'age', 'address', 'famsize', 'Pstatus', 'Medu', 'Fedu',\n",
    "       'Mjob', 'Fjob', 'reason', 'nursery', 'internet', 'guardian.x',\n",
    "       'traveltime.x', 'studytime.x', 'failures.x', 'schoolsup.x', 'famsup.x',\n",
    "       'paid.x', 'activities.x', 'higher.x', 'romantic.x', 'famrel.x',\n",
    "       'freetime.x', 'goout.x', 'Dalc.x', 'Walc.x', 'health.x', 'absences.x','G1.x','G3.x']"
   ]
  },
  {
   "cell_type": "code",
   "execution_count": 4,
   "metadata": {},
   "outputs": [],
   "source": [
    "yfeatures = ['school', 'sex', 'age', 'address', 'famsize', 'Pstatus', 'Medu', 'Fedu',\n",
    "       'Mjob', 'Fjob', 'reason', 'nursery', 'internet','guardian.y', 'traveltime.y', 'studytime.y',\n",
    "       'failures.y', 'schoolsup.y', 'famsup.y', 'paid.y', 'activities.y',\n",
    "       'higher.y', 'romantic.y', 'famrel.y', 'freetime.y', 'goout.y', 'Dalc.y',\n",
    "       'Walc.y', 'health.y', 'absences.y','G1.y','G3.y']"
   ]
  },
  {
   "cell_type": "code",
   "execution_count": 5,
   "metadata": {},
   "outputs": [],
   "source": [
    "keepcol = ['school', 'sex', 'age', 'address', 'famsize', 'Pstatus', 'Medu',\n",
    "       'Fedu', 'Mjob', 'Fjob', 'reason', 'nursery', 'internet', 'guardian.x',\n",
    "       'traveltime.x', 'studytime.x', 'failures.x', 'schoolsup.x', 'famsup.x',\n",
    "       'paid.x', 'activities.x', 'higher.x', 'romantic.x', 'famrel.x',\n",
    "       'freetime.x', 'goout.x', 'Dalc.x', 'Walc.x', 'health.x', 'absences.x',\n",
    "       'G1.x', 'G2.x', 'G3.x', 'guardian.y', 'traveltime.y', 'studytime.y',\n",
    "       'failures.y', 'schoolsup.y', 'famsup.y', 'paid.y', 'activities.y',\n",
    "       'higher.y', 'romantic.y', 'famrel.y', 'freetime.y', 'goout.y', 'Dalc.y',\n",
    "       'Walc.y', 'health.y', 'absences.y', 'G1.y', 'G2.y', 'G3.y']"
   ]
  },
  {
   "cell_type": "code",
   "execution_count": 6,
   "metadata": {},
   "outputs": [],
   "source": [
    "fildf = df.loc[:,keepcol]"
   ]
  },
  {
   "cell_type": "code",
   "execution_count": 7,
   "metadata": {},
   "outputs": [],
   "source": [
    "fildf_x = fildf.loc[:,xfeatures]"
   ]
  },
  {
   "cell_type": "code",
   "execution_count": 8,
   "metadata": {},
   "outputs": [],
   "source": [
    "fildf_y = fildf.loc[:,yfeatures]"
   ]
  },
  {
   "cell_type": "code",
   "execution_count": 9,
   "metadata": {},
   "outputs": [],
   "source": [
    "def convertmarks(mark):\n",
    "    if mark<10:\n",
    "        return 'F'\n",
    "    elif mark==10 or mark==11:\n",
    "        return 'D'\n",
    "    elif mark==12 or mark==13:\n",
    "        return 'C'\n",
    "    elif mark==14 or mark==15:\n",
    "        return'B'\n",
    "    else:\n",
    "        return 'A'"
   ]
  },
  {
   "cell_type": "code",
   "execution_count": 10,
   "metadata": {},
   "outputs": [],
   "source": [
    "newlist=[]\n",
    "for i in fildf_x['G1.x']:\n",
    "    x = convertmarks(i)\n",
    "    newlist.append(x)\n",
    "fildf_x['New G1'] = newlist"
   ]
  },
  {
   "cell_type": "code",
   "execution_count": 11,
   "metadata": {},
   "outputs": [],
   "source": [
    "newlist=[]\n",
    "for i in fildf_y['G1.y']:\n",
    "    x = convertmarks(i)\n",
    "    newlist.append(x)\n",
    "fildf_y['New G1'] = newlist"
   ]
  },
  {
   "cell_type": "code",
   "execution_count": 12,
   "metadata": {},
   "outputs": [],
   "source": [
    "newlist=[]\n",
    "for i in fildf_x['G3.x']:\n",
    "    x = convertmarks(i)\n",
    "    newlist.append(x)\n",
    "fildf_x['New G3'] = newlist"
   ]
  },
  {
   "cell_type": "code",
   "execution_count": 13,
   "metadata": {},
   "outputs": [],
   "source": [
    "newlist=[]\n",
    "for i in fildf_y['G3.y']:\n",
    "    x = convertmarks(i)\n",
    "    newlist.append(x)\n",
    "fildf_y['New G3'] = newlist"
   ]
  },
  {
   "cell_type": "code",
   "execution_count": 14,
   "metadata": {},
   "outputs": [],
   "source": [
    "label_encoder = preprocessing.LabelEncoder()"
   ]
  },
  {
   "cell_type": "code",
   "execution_count": 15,
   "metadata": {},
   "outputs": [],
   "source": [
    "fildf_x['New G1']= label_encoder.fit_transform(fildf_x['New G1'])\n",
    "fildf_y['New G1']= label_encoder.fit_transform(fildf_y['New G1'])\n",
    "fildf_x['New G3']= label_encoder.fit_transform(fildf_x['New G3'])\n",
    "fildf_y['New G3']= label_encoder.fit_transform(fildf_y['New G3'])"
   ]
  },
  {
   "cell_type": "code",
   "execution_count": 16,
   "metadata": {},
   "outputs": [],
   "source": [
    "fildf_x = fildf_x.sample(frac=1,random_state=123)\n",
    "fildf_y = fildf_y.sample(frac=1,random_state=123)"
   ]
  },
  {
   "cell_type": "code",
   "execution_count": 17,
   "metadata": {},
   "outputs": [
    {
     "data": {
      "text/plain": [
       "2    413\n",
       "4    217\n",
       "3    161\n",
       "1     49\n",
       "0     42\n",
       "Name: New G1, dtype: int64"
      ]
     },
     "execution_count": 17,
     "metadata": {},
     "output_type": "execute_result"
    }
   ],
   "source": [
    "fildf_x['New G1'].value_counts()"
   ]
  },
  {
   "cell_type": "code",
   "execution_count": 18,
   "metadata": {},
   "outputs": [
    {
     "data": {
      "text/plain": [
       "2    406\n",
       "4    276\n",
       "3     99\n",
       "1     59\n",
       "0     42\n",
       "Name: New G3, dtype: int64"
      ]
     },
     "execution_count": 18,
     "metadata": {},
     "output_type": "execute_result"
    }
   ],
   "source": [
    "fildf_x['New G3'].value_counts()"
   ]
  },
  {
   "cell_type": "code",
   "execution_count": 19,
   "metadata": {},
   "outputs": [],
   "source": [
    "max_size = fildf_x['New G1'].value_counts().max()"
   ]
  },
  {
   "cell_type": "code",
   "execution_count": 20,
   "metadata": {},
   "outputs": [],
   "source": [
    "lst = [fildf_x]\n",
    "for class_index, group in fildf_x.groupby('New G1'):\n",
    "    lst.append(group.sample(max_size-len(group), replace=True))\n",
    "fildf_x_G1 = pd.concat(lst)"
   ]
  },
  {
   "cell_type": "code",
   "execution_count": 21,
   "metadata": {},
   "outputs": [
    {
     "data": {
      "text/plain": [
       "3    413\n",
       "1    413\n",
       "4    413\n",
       "2    413\n",
       "0    413\n",
       "Name: New G1, dtype: int64"
      ]
     },
     "execution_count": 21,
     "metadata": {},
     "output_type": "execute_result"
    }
   ],
   "source": [
    "fildf_x_G1['New G1'].value_counts()"
   ]
  },
  {
   "cell_type": "code",
   "execution_count": 22,
   "metadata": {},
   "outputs": [],
   "source": [
    "max_size = fildf_y['New G1'].value_counts().max()"
   ]
  },
  {
   "cell_type": "code",
   "execution_count": 23,
   "metadata": {},
   "outputs": [],
   "source": [
    "lst = [fildf_y]\n",
    "for class_index, group in fildf_y.groupby('New G1'):\n",
    "    lst.append(group.sample(max_size-len(group), replace=True))\n",
    "fildf_y_G1 = pd.concat(lst)"
   ]
  },
  {
   "cell_type": "code",
   "execution_count": 24,
   "metadata": {},
   "outputs": [
    {
     "data": {
      "text/plain": [
       "3    439\n",
       "1    439\n",
       "4    439\n",
       "2    439\n",
       "0    439\n",
       "Name: New G1, dtype: int64"
      ]
     },
     "execution_count": 24,
     "metadata": {},
     "output_type": "execute_result"
    }
   ],
   "source": [
    "fildf_y_G1['New G1'].value_counts()"
   ]
  },
  {
   "cell_type": "code",
   "execution_count": 25,
   "metadata": {},
   "outputs": [],
   "source": [
    "max_size = fildf_x['New G3'].value_counts().max()"
   ]
  },
  {
   "cell_type": "code",
   "execution_count": 26,
   "metadata": {},
   "outputs": [],
   "source": [
    "lst = [fildf_x]\n",
    "for class_index, group in fildf_x.groupby('New G3'):\n",
    "    lst.append(group.sample(max_size-len(group), replace=True))\n",
    "fildf_x_G3 = pd.concat(lst)"
   ]
  },
  {
   "cell_type": "code",
   "execution_count": 27,
   "metadata": {},
   "outputs": [
    {
     "data": {
      "text/plain": [
       "4    406\n",
       "3    406\n",
       "2    406\n",
       "1    406\n",
       "0    406\n",
       "Name: New G3, dtype: int64"
      ]
     },
     "execution_count": 27,
     "metadata": {},
     "output_type": "execute_result"
    }
   ],
   "source": [
    "fildf_x_G3['New G3'].value_counts()"
   ]
  },
  {
   "cell_type": "code",
   "execution_count": 28,
   "metadata": {},
   "outputs": [],
   "source": [
    "max_size = fildf_y['New G3'].value_counts().max()"
   ]
  },
  {
   "cell_type": "code",
   "execution_count": 29,
   "metadata": {},
   "outputs": [],
   "source": [
    "lst = [fildf_y]\n",
    "for class_index, group in fildf_y.groupby('New G3'):\n",
    "    lst.append(group.sample(max_size-len(group), replace=True))\n",
    "fildf_y_G3 = pd.concat(lst)"
   ]
  },
  {
   "cell_type": "code",
   "execution_count": 30,
   "metadata": {},
   "outputs": [
    {
     "data": {
      "text/plain": [
       "Index(['school', 'sex', 'age', 'address', 'famsize', 'Pstatus', 'Medu', 'Fedu',\n",
       "       'Mjob', 'Fjob', 'reason', 'nursery', 'internet', 'guardian.y',\n",
       "       'traveltime.y', 'studytime.y', 'failures.y', 'schoolsup.y', 'famsup.y',\n",
       "       'paid.y', 'activities.y', 'higher.y', 'romantic.y', 'famrel.y',\n",
       "       'freetime.y', 'goout.y', 'Dalc.y', 'Walc.y', 'health.y', 'absences.y',\n",
       "       'G1.y', 'G3.y', 'New G1', 'New G3'],\n",
       "      dtype='object')"
      ]
     },
     "execution_count": 30,
     "metadata": {},
     "output_type": "execute_result"
    }
   ],
   "source": [
    "fildf_y_G3.columns"
   ]
  },
  {
   "cell_type": "code",
   "execution_count": 31,
   "metadata": {},
   "outputs": [],
   "source": [
    "fildf_x_G1 = fildf_x_G1.drop(['G1.x','G3.x'],axis=1)\n",
    "fildf_y_G1 = fildf_y_G1.drop(['G1.y','G3.y'],axis=1)\n",
    "fildf_x_G3 = fildf_x_G3.drop(['G1.x','G3.x'],axis=1)\n",
    "fildf_y_G3 = fildf_y_G3.drop(['G1.y','G3.y'],axis=1)"
   ]
  },
  {
   "cell_type": "code",
   "execution_count": 32,
   "metadata": {},
   "outputs": [],
   "source": [
    "features_x_G3 = fildf_x_G3.drop(['New G1','New G3'],axis=1)\n",
    "features_x_G1 = fildf_x_G1.drop(['New G1','New G3'],axis=1)\n",
    "features_y_G3 = fildf_y_G3.drop(['New G1','New G3'],axis=1)\n",
    "features_y_G1 = fildf_y_G1.drop(['New G1','New G3'],axis=1)"
   ]
  },
  {
   "cell_type": "code",
   "execution_count": 33,
   "metadata": {},
   "outputs": [],
   "source": [
    "target_x_G3 = fildf_x_G3['New G3']\n",
    "target_x_G1 = fildf_x_G1['New G1']\n",
    "target_y_G3 = fildf_y_G3['New G3']\n",
    "target_y_G1 = fildf_y_G1['New G1']"
   ]
  },
  {
   "cell_type": "code",
   "execution_count": 34,
   "metadata": {},
   "outputs": [],
   "source": [
    "X_train_x_G1, X_test_x_G1, y_train_x_G1, y_test_x_G1 = train_test_split(features_x_G1, target_x_G1, test_size=0.25, random_state=0)\n",
    "X_train_y_G1, X_test_y_G1, y_train_y_G1, y_test_y_G1 = train_test_split(features_y_G1, target_y_G1, test_size=0.25, random_state=0)"
   ]
  },
  {
   "cell_type": "code",
   "execution_count": 35,
   "metadata": {},
   "outputs": [],
   "source": [
    "X_train_x_G3, X_test_x_G3, y_train_x_G3, y_test_x_G3 = train_test_split(features_x_G3, target_x_G3, test_size=0.25, random_state=0)\n",
    "X_train_y_G3, X_test_y_G3, y_train_y_G3, y_test_y_G3 = train_test_split(features_y_G3, target_y_G3, test_size=0.25, random_state=0)"
   ]
  },
  {
   "cell_type": "markdown",
   "metadata": {},
   "source": [
    "### Naive Bayes"
   ]
  },
  {
   "cell_type": "code",
   "execution_count": 36,
   "metadata": {},
   "outputs": [],
   "source": [
    "clf = GaussianNB()"
   ]
  },
  {
   "cell_type": "code",
   "execution_count": 37,
   "metadata": {},
   "outputs": [
    {
     "name": "stdout",
     "output_type": "stream",
     "text": [
      "              precision    recall  f1-score   support\n",
      "\n",
      "           0       0.98      0.29      0.44       366\n",
      "           1       0.00      0.00      0.00         0\n",
      "           2       0.08      0.50      0.14        20\n",
      "           3       0.29      0.53      0.38        55\n",
      "           4       0.49      0.66      0.56        76\n",
      "\n",
      "    accuracy                           0.38       517\n",
      "   macro avg       0.37      0.39      0.31       517\n",
      "weighted avg       0.80      0.38      0.44       517\n",
      "\n",
      "Kappa Score: 0.21434486003293352\n"
     ]
    },
    {
     "name": "stderr",
     "output_type": "stream",
     "text": [
      "/opt/anaconda3/lib/python3.7/site-packages/sklearn/metrics/_classification.py:1272: UndefinedMetricWarning: Recall and F-score are ill-defined and being set to 0.0 in labels with no true samples. Use `zero_division` parameter to control this behavior.\n",
      "  _warn_prf(average, modifier, msg_start, len(result))\n"
     ]
    }
   ],
   "source": [
    "clf.fit(X_train_x_G1,y_train_x_G1)\n",
    "y_pred_x_G1= clf.predict(X_test_x_G1)\n",
    "y_pred_x_G1_Prob = clf.predict_proba(X_test_x_G1)\n",
    "print(classification_report(y_pred_x_G1,y_test_x_G1))\n",
    "print(\"Kappa Score: \" +str(cohen_kappa_score(y_pred_x_G1,y_test_x_G1)))"
   ]
  },
  {
   "cell_type": "code",
   "execution_count": 38,
   "metadata": {},
   "outputs": [
    {
     "name": "stdout",
     "output_type": "stream",
     "text": [
      "              precision    recall  f1-score   support\n",
      "\n",
      "           0       0.63      0.43      0.51       141\n",
      "           1       0.78      0.34      0.47       230\n",
      "           2       0.10      0.32      0.15        34\n",
      "           3       0.14      0.30      0.19        47\n",
      "           4       0.40      0.71      0.52        56\n",
      "\n",
      "    accuracy                           0.40       508\n",
      "   macro avg       0.41      0.42      0.37       508\n",
      "weighted avg       0.59      0.40      0.44       508\n",
      "\n",
      "Kappa Score: 0.25347749206211556\n"
     ]
    }
   ],
   "source": [
    "clf.fit(X_train_x_G3,y_train_x_G3)\n",
    "y_pred_x_G3= clf.predict(X_test_x_G3)\n",
    "y_pred_x_G3_Prob = clf.predict_proba(X_test_x_G3)\n",
    "print(classification_report(y_pred_x_G3,y_test_x_G3))\n",
    "print(\"Kappa Score: \" +str(cohen_kappa_score(y_pred_x_G3,y_test_x_G3)))"
   ]
  },
  {
   "cell_type": "code",
   "execution_count": 39,
   "metadata": {},
   "outputs": [
    {
     "name": "stdout",
     "output_type": "stream",
     "text": [
      "              precision    recall  f1-score   support\n",
      "\n",
      "           0       1.00      0.28      0.43       392\n",
      "           1       0.02      0.04      0.03        45\n",
      "           2       0.01      1.00      0.02         1\n",
      "           3       0.08      0.38      0.13        24\n",
      "           4       0.57      0.68      0.62        87\n",
      "\n",
      "    accuracy                           0.33       549\n",
      "   macro avg       0.34      0.47      0.25       549\n",
      "weighted avg       0.81      0.33      0.41       549\n",
      "\n",
      "Kappa Score: 0.16151375805958934\n"
     ]
    }
   ],
   "source": [
    "clf.fit(X_train_y_G1,y_train_y_G1)\n",
    "y_pred_y_G1 = clf.predict(X_test_y_G1)\n",
    "print(classification_report(y_pred_y_G1,y_test_y_G1))\n",
    "print(\"Kappa Score: \" +str(cohen_kappa_score(y_pred_y_G1,y_test_y_G1)))"
   ]
  },
  {
   "cell_type": "code",
   "execution_count": 40,
   "metadata": {},
   "outputs": [
    {
     "name": "stdout",
     "output_type": "stream",
     "text": [
      "              precision    recall  f1-score   support\n",
      "\n",
      "           0       0.65      0.34      0.45       156\n",
      "           1       0.71      0.42      0.53       161\n",
      "           2       0.13      0.39      0.20        36\n",
      "           3       0.18      0.50      0.26        40\n",
      "           4       0.69      0.67      0.68        90\n",
      "\n",
      "    accuracy                           0.45       483\n",
      "   macro avg       0.47      0.46      0.42       483\n",
      "weighted avg       0.60      0.45      0.48       483\n",
      "\n",
      "Kappa Score: 0.3148029537093402\n"
     ]
    }
   ],
   "source": [
    "clf.fit(X_train_y_G3,y_train_y_G3)\n",
    "y_pred_y_G3 = clf.predict(X_test_y_G3)\n",
    "print(classification_report(y_pred_y_G3,y_test_y_G3))\n",
    "print(\"Kappa Score: \" +str(cohen_kappa_score(y_pred_y_G3,y_test_y_G3)))"
   ]
  },
  {
   "cell_type": "markdown",
   "metadata": {},
   "source": [
    "### Decision Tree Classfier"
   ]
  },
  {
   "cell_type": "code",
   "execution_count": 41,
   "metadata": {},
   "outputs": [],
   "source": [
    "dtc = DecisionTreeClassifier()"
   ]
  },
  {
   "cell_type": "code",
   "execution_count": 42,
   "metadata": {},
   "outputs": [
    {
     "name": "stdout",
     "output_type": "stream",
     "text": [
      "              precision    recall  f1-score   support\n",
      "\n",
      "           0       1.00      0.88      0.94       121\n",
      "           1       1.00      0.92      0.96        98\n",
      "           2       0.52      0.87      0.65        71\n",
      "           3       0.89      0.77      0.83       114\n",
      "           4       0.90      0.81      0.86       113\n",
      "\n",
      "    accuracy                           0.85       517\n",
      "   macro avg       0.86      0.85      0.85       517\n",
      "weighted avg       0.89      0.85      0.86       517\n",
      "\n",
      "Kappa Score: 0.811790293147143\n",
      "\t\n",
      "Feature failures.x and its importance is 0.09360144864547679\n",
      "Feature absences.x and its importance is 0.09161086046222061\n",
      "Feature schoolsup.x and its importance is 0.06778811383144955\n",
      "Feature Medu and its importance is 0.061603724463396084\n",
      "Feature Fjob and its importance is 0.060833927988673306\n",
      "Feature goout.x and its importance is 0.05884696244024378\n",
      "Feature famrel.x and its importance is 0.05643142485258639\n",
      "Feature freetime.x and its importance is 0.05228457639106686\n",
      "Feature Fedu and its importance is 0.043360760213209205\n",
      "Feature Mjob and its importance is 0.03833679151754717\n",
      "Feature sex and its importance is 0.03698857308899635\n",
      "Feature health.x and its importance is 0.033253235258853604\n",
      "Feature Walc.x and its importance is 0.032020546535437275\n",
      "Feature Dalc.x and its importance is 0.03182576062817252\n",
      "Feature reason and its importance is 0.0298699190341062\n",
      "Feature age and its importance is 0.0264567089303887\n",
      "Feature studytime.x and its importance is 0.021672223838444374\n",
      "Feature romantic.x and its importance is 0.02080456091682597\n",
      "Feature famsize and its importance is 0.01833624991730283\n",
      "Feature famsup.x and its importance is 0.01572852477271019\n",
      "Feature paid.x and its importance is 0.01555331777586835\n",
      "Feature traveltime.x and its importance is 0.015071620709658218\n",
      "Feature Pstatus and its importance is 0.015010113152904542\n",
      "Feature internet and its importance is 0.014712130203608313\n",
      "Feature guardian.x and its importance is 0.01454438139361865\n",
      "Feature address and its importance is 0.010304654203287116\n",
      "Feature activities.x and its importance is 0.008885013593141818\n",
      "Feature nursery and its importance is 0.006773595833506155\n",
      "Feature higher.x and its importance is 0.0051674656434369795\n",
      "Feature school and its importance is 0.002322813763862166\n"
     ]
    },
    {
     "data": {
      "text/plain": [
       "([<matplotlib.axis.XTick at 0x7fc5830c7710>,\n",
       "  <matplotlib.axis.XTick at 0x7fc582215810>,\n",
       "  <matplotlib.axis.XTick at 0x7fc582215610>,\n",
       "  <matplotlib.axis.XTick at 0x7fc583125190>,\n",
       "  <matplotlib.axis.XTick at 0x7fc57de01610>,\n",
       "  <matplotlib.axis.XTick at 0x7fc57de01b90>,\n",
       "  <matplotlib.axis.XTick at 0x7fc57de0c250>,\n",
       "  <matplotlib.axis.XTick at 0x7fc57de0c890>,\n",
       "  <matplotlib.axis.XTick at 0x7fc57de0ced0>,\n",
       "  <matplotlib.axis.XTick at 0x7fc57de0cdd0>,\n",
       "  <matplotlib.axis.XTick at 0x7fc5831a8e90>,\n",
       "  <matplotlib.axis.XTick at 0x7fc57de12890>,\n",
       "  <matplotlib.axis.XTick at 0x7fc57de12ed0>,\n",
       "  <matplotlib.axis.XTick at 0x7fc57de17550>,\n",
       "  <matplotlib.axis.XTick at 0x7fc57de17b90>,\n",
       "  <matplotlib.axis.XTick at 0x7fc57de1e290>,\n",
       "  <matplotlib.axis.XTick at 0x7fc57de1e850>,\n",
       "  <matplotlib.axis.XTick at 0x7fc57de1ee90>,\n",
       "  <matplotlib.axis.XTick at 0x7fc57de1e2d0>,\n",
       "  <matplotlib.axis.XTick at 0x7fc57de17a90>,\n",
       "  <matplotlib.axis.XTick at 0x7fc57de25310>,\n",
       "  <matplotlib.axis.XTick at 0x7fc57de25b50>,\n",
       "  <matplotlib.axis.XTick at 0x7fc57de2b250>,\n",
       "  <matplotlib.axis.XTick at 0x7fc57de2b810>,\n",
       "  <matplotlib.axis.XTick at 0x7fc57de2be50>,\n",
       "  <matplotlib.axis.XTick at 0x7fc57de324d0>,\n",
       "  <matplotlib.axis.XTick at 0x7fc57de32b10>,\n",
       "  <matplotlib.axis.XTick at 0x7fc57de3a1d0>,\n",
       "  <matplotlib.axis.XTick at 0x7fc57de32590>,\n",
       "  <matplotlib.axis.XTick at 0x7fc57de25610>],\n",
       " <a list of 30 Text xticklabel objects>)"
      ]
     },
     "execution_count": 42,
     "metadata": {},
     "output_type": "execute_result"
    },
    {
     "data": {
      "image/png": "[encoded data removed]",
      "text/plain": [
       "<Figure size 432x288 with 1 Axes>"
      ]
     },
     "metadata": {
      "needs_background": "light"
     },
     "output_type": "display_data"
    }
   ],
   "source": [
    "imp_dict={}\n",
    "dtc.fit(X_train_x_G1,y_train_x_G1)\n",
    "y_pred_x_G1= dtc.predict(X_test_x_G1)\n",
    "print(classification_report(y_pred_x_G1,y_test_x_G1))\n",
    "print(\"Kappa Score: \" +str(cohen_kappa_score(y_pred_x_G1,y_test_x_G1)))\n",
    "print(\"\\t\")\n",
    "for importance, name in sorted(zip(dtc.feature_importances_, X_train_x_G1.columns),reverse=True):\n",
    "    imp_dict[name] = importance\n",
    "    print('Feature '+name+ ' and its importance is '+str(importance))\n",
    "plt.bar(range(len(imp_dict)), list(imp_dict.values()), align='center')\n",
    "plt.xticks(range(len(imp_dict)), list(imp_dict.keys()),rotation=90)"
   ]
  },
  {
   "cell_type": "code",
   "execution_count": 43,
   "metadata": {},
   "outputs": [
    {
     "name": "stdout",
     "output_type": "stream",
     "text": [
      "              precision    recall  f1-score   support\n",
      "\n",
      "           0       1.00      0.90      0.95       106\n",
      "           1       1.00      0.87      0.93       115\n",
      "           2       0.57      0.90      0.70        72\n",
      "           3       0.95      0.79      0.86       121\n",
      "           4       0.83      0.87      0.85        94\n",
      "\n",
      "    accuracy                           0.86       508\n",
      "   macro avg       0.87      0.87      0.86       508\n",
      "weighted avg       0.90      0.86      0.87       508\n",
      "\n",
      "Kappa Score: 0.8256573859242072\n",
      "\t\n",
      "Feature absences.x and its importance is 0.07813107933895834\n",
      "Feature goout.x and its importance is 0.07741060456096989\n",
      "Feature failures.x and its importance is 0.07031546857168523\n",
      "Feature Walc.x and its importance is 0.06303892627437707\n",
      "Feature Fjob and its importance is 0.04538287526184237\n",
      "Feature health.x and its importance is 0.04500623843869325\n",
      "Feature guardian.x and its importance is 0.04364468978455094\n",
      "Feature traveltime.x and its importance is 0.04337308300908877\n",
      "Feature Fedu and its importance is 0.043283786272125174\n",
      "Feature Mjob and its importance is 0.04225374655803862\n",
      "Feature freetime.x and its importance is 0.04193720085242813\n",
      "Feature Dalc.x and its importance is 0.041804799996425925\n",
      "Feature Medu and its importance is 0.03985277257695235\n",
      "Feature reason and its importance is 0.03423606722679023\n",
      "Feature schoolsup.x and its importance is 0.03391874210916462\n",
      "Feature famrel.x and its importance is 0.031711839008282956\n",
      "Feature paid.x and its importance is 0.030913724213274582\n",
      "Feature age and its importance is 0.02932080769937612\n",
      "Feature nursery and its importance is 0.025735305346417253\n",
      "Feature sex and its importance is 0.022701645090679425\n",
      "Feature romantic.x and its importance is 0.02224285430322873\n",
      "Feature studytime.x and its importance is 0.017928883336841436\n",
      "Feature famsize and its importance is 0.016906995423028724\n",
      "Feature address and its importance is 0.014085870985006745\n",
      "Feature famsup.x and its importance is 0.01183544538247799\n",
      "Feature activities.x and its importance is 0.009139242268117692\n",
      "Feature school and its importance is 0.0071908700780451\n",
      "Feature Pstatus and its importance is 0.0070091136178267255\n",
      "Feature higher.x and its importance is 0.006588935642451121\n",
      "Feature internet and its importance is 0.0030983867728544795\n"
     ]
    },
    {
     "data": {
      "text/plain": [
       "([<matplotlib.axis.XTick at 0x7fc57df32850>,\n",
       "  <matplotlib.axis.XTick at 0x7fc5821f9510>,\n",
       "  <matplotlib.axis.XTick at 0x7fc5821f9310>,\n",
       "  <matplotlib.axis.XTick at 0x7fc5833a3350>,\n",
       "  <matplotlib.axis.XTick at 0x7fc5833a3890>,\n",
       "  <matplotlib.axis.XTick at 0x7fc5833a3ed0>,\n",
       "  <matplotlib.axis.XTick at 0x7fc5833a3290>,\n",
       "  <matplotlib.axis.XTick at 0x7fc5833aa750>,\n",
       "  <matplotlib.axis.XTick at 0x7fc5833aad90>,\n",
       "  <matplotlib.axis.XTick at 0x7fc5833af410>,\n",
       "  <matplotlib.axis.XTick at 0x7fc5833afa10>,\n",
       "  <matplotlib.axis.XTick at 0x7fc5833afd50>,\n",
       "  <matplotlib.axis.XTick at 0x7fc5833b76d0>,\n",
       "  <matplotlib.axis.XTick at 0x7fc5833b7d10>,\n",
       "  <matplotlib.axis.XTick at 0x7fc5833bd350>,\n",
       "  <matplotlib.axis.XTick at 0x7fc5833afa90>,\n",
       "  <matplotlib.axis.XTick at 0x7fc5833aae50>,\n",
       "  <matplotlib.axis.XTick at 0x7fc5833bd1d0>,\n",
       "  <matplotlib.axis.XTick at 0x7fc5833bd710>,\n",
       "  <matplotlib.axis.XTick at 0x7fc5833c5610>,\n",
       "  <matplotlib.axis.XTick at 0x7fc5833c5c50>,\n",
       "  <matplotlib.axis.XTick at 0x7fc5833cd2d0>,\n",
       "  <matplotlib.axis.XTick at 0x7fc5833cd910>,\n",
       "  <matplotlib.axis.XTick at 0x7fc5833cd7d0>,\n",
       "  <matplotlib.axis.XTick at 0x7fc5833d45d0>,\n",
       "  <matplotlib.axis.XTick at 0x7fc5833cd450>,\n",
       "  <matplotlib.axis.XTick at 0x7fc5833aa790>,\n",
       "  <matplotlib.axis.XTick at 0x7fc5833d4b10>,\n",
       "  <matplotlib.axis.XTick at 0x7fc5833da1d0>,\n",
       "  <matplotlib.axis.XTick at 0x7fc5833da7d0>],\n",
       " <a list of 30 Text xticklabel objects>)"
      ]
     },
     "execution_count": 43,
     "metadata": {},
     "output_type": "execute_result"
    },
    {
     "data": {
      "image/png": "[encoded data removed]",
      "text/plain": [
       "<Figure size 432x288 with 1 Axes>"
      ]
     },
     "metadata": {
      "needs_background": "light"
     },
     "output_type": "display_data"
    }
   ],
   "source": [
    "imp_dict={}\n",
    "dtc.fit(X_train_x_G3,y_train_x_G3)\n",
    "y_pred_x_G3= dtc.predict(X_test_x_G3)\n",
    "print(classification_report(y_pred_x_G3,y_test_x_G3))\n",
    "print(\"Kappa Score: \" +str(cohen_kappa_score(y_pred_x_G3,y_test_x_G3)))\n",
    "print(\"\\t\")\n",
    "for importance, name in sorted(zip(dtc.feature_importances_, X_train_x_G3.columns),reverse=True):\n",
    "    imp_dict[name] = importance\n",
    "    print('Feature '+name+ ' and its importance is '+str(importance))\n",
    "plt.bar(range(len(imp_dict)), list(imp_dict.values()), align='center')\n",
    "plt.xticks(range(len(imp_dict)), list(imp_dict.keys()),rotation=90)"
   ]
  },
  {
   "cell_type": "code",
   "execution_count": 44,
   "metadata": {},
   "outputs": [
    {
     "name": "stdout",
     "output_type": "stream",
     "text": [
      "              precision    recall  f1-score   support\n",
      "\n",
      "           0       1.00      0.92      0.96       118\n",
      "           1       0.92      0.86      0.89       118\n",
      "           2       0.46      0.70      0.55        73\n",
      "           3       0.81      0.73      0.77       128\n",
      "           4       1.00      0.92      0.96       112\n",
      "\n",
      "    accuracy                           0.83       549\n",
      "   macro avg       0.84      0.82      0.82       549\n",
      "weighted avg       0.87      0.83      0.84       549\n",
      "\n",
      "Kappa Score: 0.790524931879544\n",
      "\t\n",
      "Feature health.y and its importance is 0.06640154236033266\n",
      "Feature goout.y and its importance is 0.05877630346720427\n",
      "Feature absences.y and its importance is 0.05688144131031613\n",
      "Feature freetime.y and its importance is 0.054012676919394535\n",
      "Feature failures.y and its importance is 0.04841853665738571\n",
      "Feature studytime.y and its importance is 0.046510309572628784\n",
      "Feature reason and its importance is 0.04639691085625105\n",
      "Feature Medu and its importance is 0.0457285413302684\n",
      "Feature Mjob and its importance is 0.04190078101674669\n",
      "Feature Fedu and its importance is 0.04162673321671715\n",
      "Feature Walc.y and its importance is 0.039747232348428946\n",
      "Feature Fjob and its importance is 0.03889440261223771\n",
      "Feature famrel.y and its importance is 0.035190761435243315\n",
      "Feature guardian.y and its importance is 0.033484007528055595\n",
      "Feature schoolsup.y and its importance is 0.03296083052363599\n",
      "Feature age and its importance is 0.03252183544642104\n",
      "Feature sex and its importance is 0.031039640669707297\n",
      "Feature famsize and its importance is 0.03011415554490922\n",
      "Feature Dalc.y and its importance is 0.029972590251176795\n",
      "Feature romantic.y and its importance is 0.02967642661564538\n",
      "Feature higher.y and its importance is 0.029465399880330104\n",
      "Feature traveltime.y and its importance is 0.023755770808349272\n",
      "Feature address and its importance is 0.02322086610478777\n",
      "Feature famsup.y and its importance is 0.016792764975830838\n",
      "Feature Pstatus and its importance is 0.016530597457491213\n",
      "Feature activities.y and its importance is 0.014225923306674158\n",
      "Feature school and its importance is 0.014120797758270348\n",
      "Feature nursery and its importance is 0.012909290158242749\n",
      "Feature paid.y and its importance is 0.00728256506207562\n",
      "Feature internet and its importance is 0.0014403648052410988\n"
     ]
    },
    {
     "data": {
      "text/plain": [
       "([<matplotlib.axis.XTick at 0x7fc57df0ff50>,\n",
       "  <matplotlib.axis.XTick at 0x7fc5833f3b10>,\n",
       "  <matplotlib.axis.XTick at 0x7fc5833f3990>,\n",
       "  <matplotlib.axis.XTick at 0x7fc58354ce10>,\n",
       "  <matplotlib.axis.XTick at 0x7fc583556350>,\n",
       "  <matplotlib.axis.XTick at 0x7fc583556950>,\n",
       "  <matplotlib.axis.XTick at 0x7fc583556a50>,\n",
       "  <matplotlib.axis.XTick at 0x7fc583402c50>,\n",
       "  <matplotlib.axis.XTick at 0x7fc58355d350>,\n",
       "  <matplotlib.axis.XTick at 0x7fc58355dcd0>,\n",
       "  <matplotlib.axis.XTick at 0x7fc583563310>,\n",
       "  <matplotlib.axis.XTick at 0x7fc583563950>,\n",
       "  <matplotlib.axis.XTick at 0x7fc583563810>,\n",
       "  <matplotlib.axis.XTick at 0x7fc583569610>,\n",
       "  <matplotlib.axis.XTick at 0x7fc583569c50>,\n",
       "  <matplotlib.axis.XTick at 0x7fc5835722d0>,\n",
       "  <matplotlib.axis.XTick at 0x7fc583563fd0>,\n",
       "  <matplotlib.axis.XTick at 0x7fc583563850>,\n",
       "  <matplotlib.axis.XTick at 0x7fc5835720d0>,\n",
       "  <matplotlib.axis.XTick at 0x7fc583572590>,\n",
       "  <matplotlib.axis.XTick at 0x7fc583579650>,\n",
       "  <matplotlib.axis.XTick at 0x7fc583579c90>,\n",
       "  <matplotlib.axis.XTick at 0x7fc58357f310>,\n",
       "  <matplotlib.axis.XTick at 0x7fc58357f950>,\n",
       "  <matplotlib.axis.XTick at 0x7fc58357f810>,\n",
       "  <matplotlib.axis.XTick at 0x7fc583586610>,\n",
       "  <matplotlib.axis.XTick at 0x7fc58357f710>,\n",
       "  <matplotlib.axis.XTick at 0x7fc58357fad0>,\n",
       "  <matplotlib.axis.XTick at 0x7fc583586b50>,\n",
       "  <matplotlib.axis.XTick at 0x7fc58358e250>],\n",
       " <a list of 30 Text xticklabel objects>)"
      ]
     },
     "execution_count": 44,
     "metadata": {},
     "output_type": "execute_result"
    },
    {
     "data": {
      "image/png": "[encoded data removed]",
      "text/plain": [
       "<Figure size 432x288 with 1 Axes>"
      ]
     },
     "metadata": {
      "needs_background": "light"
     },
     "output_type": "display_data"
    }
   ],
   "source": [
    "imp_dict={}\n",
    "dtc.fit(X_train_y_G1,y_train_y_G1)\n",
    "y_pred_y_G1 = dtc.predict(X_test_y_G1)\n",
    "print(classification_report(y_pred_y_G1,y_test_y_G1))\n",
    "print(\"Kappa Score: \" +str(cohen_kappa_score(y_pred_y_G1,y_test_y_G1)))\n",
    "print(\"\\t\")\n",
    "for importance, name in sorted(zip(dtc.feature_importances_, X_train_y_G1.columns),reverse=True):\n",
    "    imp_dict[name] = importance\n",
    "    print ('Feature '+name+ ' and its importance is '+str(importance))\n",
    "plt.bar(range(len(imp_dict)), list(imp_dict.values()), align='center')\n",
    "plt.xticks(range(len(imp_dict)), list(imp_dict.keys()),rotation=90)"
   ]
  },
  {
   "cell_type": "code",
   "execution_count": 45,
   "metadata": {},
   "outputs": [
    {
     "name": "stdout",
     "output_type": "stream",
     "text": [
      "              precision    recall  f1-score   support\n",
      "\n",
      "           0       1.00      0.86      0.93        95\n",
      "           1       0.82      0.76      0.79       104\n",
      "           2       0.39      0.67      0.49        61\n",
      "           3       0.81      0.71      0.76       129\n",
      "           4       1.00      0.93      0.96        94\n",
      "\n",
      "    accuracy                           0.79       483\n",
      "   macro avg       0.80      0.79      0.78       483\n",
      "weighted avg       0.83      0.79      0.80       483\n",
      "\n",
      "Kappa Score: 0.733139151284981\n",
      "\t\n",
      "Feature reason and its importance is 0.06403115864239761\n",
      "Feature absences.y and its importance is 0.06246404762407215\n",
      "Feature failures.y and its importance is 0.05824307990062725\n",
      "Feature Fjob and its importance is 0.05533148778420564\n",
      "Feature health.y and its importance is 0.055176684583548484\n",
      "Feature Fedu and its importance is 0.04724473087715204\n",
      "Feature age and its importance is 0.045174573183413794\n",
      "Feature goout.y and its importance is 0.044959907115008246\n",
      "Feature guardian.y and its importance is 0.04072171263843998\n",
      "Feature Mjob and its importance is 0.04038336391747134\n",
      "Feature Walc.y and its importance is 0.03963266107547923\n",
      "Feature famrel.y and its importance is 0.038531106237435414\n",
      "Feature higher.y and its importance is 0.03574206406744052\n",
      "Feature Medu and its importance is 0.03394649003305915\n",
      "Feature studytime.y and its importance is 0.0331596010387606\n",
      "Feature activities.y and its importance is 0.03229125431850425\n",
      "Feature schoolsup.y and its importance is 0.031966103897347324\n",
      "Feature address and its importance is 0.031240688760847724\n",
      "Feature freetime.y and its importance is 0.030793988969586305\n",
      "Feature traveltime.y and its importance is 0.02920747728965655\n",
      "Feature sex and its importance is 0.02392475505502492\n",
      "Feature famsup.y and its importance is 0.023616771438967354\n",
      "Feature Dalc.y and its importance is 0.022436517641004773\n",
      "Feature romantic.y and its importance is 0.02018649029428192\n",
      "Feature school and its importance is 0.017131904170665773\n",
      "Feature internet and its importance is 0.014126557296418074\n",
      "Feature famsize and its importance is 0.010674650482078489\n",
      "Feature paid.y and its importance is 0.0064683856927839276\n",
      "Feature nursery and its importance is 0.006237143081913601\n",
      "Feature Pstatus and its importance is 0.004954642892407461\n"
     ]
    },
    {
     "data": {
      "text/plain": [
       "([<matplotlib.axis.XTick at 0x7fc5835dd290>,\n",
       "  <matplotlib.axis.XTick at 0x7fc5835d9c50>,\n",
       "  <matplotlib.axis.XTick at 0x7fc5835d9950>,\n",
       "  <matplotlib.axis.XTick at 0x7fc583835d10>,\n",
       "  <matplotlib.axis.XTick at 0x7fc583841250>,\n",
       "  <matplotlib.axis.XTick at 0x7fc583841850>,\n",
       "  <matplotlib.axis.XTick at 0x7fc583841ed0>,\n",
       "  <matplotlib.axis.XTick at 0x7fc583841590>,\n",
       "  <matplotlib.axis.XTick at 0x7fc583846350>,\n",
       "  <matplotlib.axis.XTick at 0x7fc583846bd0>,\n",
       "  <matplotlib.axis.XTick at 0x7fc58384d290>,\n",
       "  <matplotlib.axis.XTick at 0x7fc58384d850>,\n",
       "  <matplotlib.axis.XTick at 0x7fc58384de90>,\n",
       "  <matplotlib.axis.XTick at 0x7fc583853510>,\n",
       "  <matplotlib.axis.XTick at 0x7fc583853b50>,\n",
       "  <matplotlib.axis.XTick at 0x7fc58385b250>,\n",
       "  <matplotlib.axis.XTick at 0x7fc58384df10>,\n",
       "  <matplotlib.axis.XTick at 0x7fc58384d250>,\n",
       "  <matplotlib.axis.XTick at 0x7fc58385b450>,\n",
       "  <matplotlib.axis.XTick at 0x7fc58385bed0>,\n",
       "  <matplotlib.axis.XTick at 0x7fc583862550>,\n",
       "  <matplotlib.axis.XTick at 0x7fc583862b90>,\n",
       "  <matplotlib.axis.XTick at 0x7fc58386b290>,\n",
       "  <matplotlib.axis.XTick at 0x7fc58386b850>,\n",
       "  <matplotlib.axis.XTick at 0x7fc58386be90>,\n",
       "  <matplotlib.axis.XTick at 0x7fc583871510>,\n",
       "  <matplotlib.axis.XTick at 0x7fc58386b7d0>,\n",
       "  <matplotlib.axis.XTick at 0x7fc583853050>,\n",
       "  <matplotlib.axis.XTick at 0x7fc583871a50>,\n",
       "  <matplotlib.axis.XTick at 0x7fc583871d90>],\n",
       " <a list of 30 Text xticklabel objects>)"
      ]
     },
     "execution_count": 45,
     "metadata": {},
     "output_type": "execute_result"
    },
    {
     "data": {
      "image/png": "[encoded data removed]",
      "text/plain": [
       "<Figure size 432x288 with 1 Axes>"
      ]
     },
     "metadata": {
      "needs_background": "light"
     },
     "output_type": "display_data"
    }
   ],
   "source": [
    "imp_dict={}\n",
    "dtc.fit(X_train_y_G3,y_train_y_G3)\n",
    "y_pred_y_G3 = dtc.predict(X_test_y_G3)\n",
    "print(classification_report(y_pred_y_G3,y_test_y_G3))\n",
    "print(\"Kappa Score: \" +str(cohen_kappa_score(y_pred_y_G3,y_test_y_G3)))\n",
    "print(\"\\t\")\n",
    "for importance, name in sorted(zip(dtc.feature_importances_, X_train_y_G3.columns),reverse=True):\n",
    "    imp_dict[name] = importance\n",
    "    print ('Feature '+name+ ' and its importance is '+str(importance))\n",
    "plt.bar(range(len(imp_dict)), list(imp_dict.values()), align='center')\n",
    "plt.xticks(range(len(imp_dict)), list(imp_dict.keys()),rotation=90)"
   ]
  },
  {
   "cell_type": "markdown",
   "metadata": {},
   "source": [
    "### Random Forest"
   ]
  },
  {
   "cell_type": "code",
   "execution_count": 46,
   "metadata": {},
   "outputs": [],
   "source": [
    "rf = RandomForestClassifier()"
   ]
  },
  {
   "cell_type": "code",
   "execution_count": 47,
   "metadata": {},
   "outputs": [
    {
     "name": "stdout",
     "output_type": "stream",
     "text": [
      "              precision    recall  f1-score   support\n",
      "\n",
      "           0       1.00      0.98      0.99       109\n",
      "           1       1.00      0.96      0.98        94\n",
      "           2       0.92      0.87      0.89       126\n",
      "           3       0.89      0.96      0.92        92\n",
      "           4       0.91      0.97      0.94        96\n",
      "\n",
      "    accuracy                           0.94       517\n",
      "   macro avg       0.94      0.95      0.94       517\n",
      "weighted avg       0.94      0.94      0.94       517\n",
      "\n",
      "Kappa Score: 0.9272759668404666\n",
      "\t\n",
      "Feature failures.x and its importance is 0.08109364989321349\n",
      "Feature absences.x and its importance is 0.06639155407162745\n",
      "Feature schoolsup.x and its importance is 0.049990016440847676\n",
      "Feature freetime.x and its importance is 0.049545247424846124\n",
      "Feature Mjob and its importance is 0.049044674287290146\n",
      "Feature goout.x and its importance is 0.0466994677410887\n",
      "Feature health.x and its importance is 0.04513936193733848\n",
      "Feature Medu and its importance is 0.0450889541675277\n",
      "Feature age and its importance is 0.04458373024276251\n",
      "Feature Fedu and its importance is 0.04446710852376316\n",
      "Feature reason and its importance is 0.042197531458266886\n",
      "Feature Fjob and its importance is 0.041459084829443375\n",
      "Feature studytime.x and its importance is 0.041037809632445986\n",
      "Feature Walc.x and its importance is 0.040145199006630404\n",
      "Feature famrel.x and its importance is 0.038721888042881\n",
      "Feature Dalc.x and its importance is 0.027085093931718415\n",
      "Feature traveltime.x and its importance is 0.024165201017818824\n",
      "Feature famsup.x and its importance is 0.024027553614194383\n",
      "Feature sex and its importance is 0.023612636162521947\n",
      "Feature activities.x and its importance is 0.022343885157226354\n",
      "Feature paid.x and its importance is 0.022028985862882933\n",
      "Feature famsize and its importance is 0.02171419245118708\n",
      "Feature guardian.x and its importance is 0.020646078607883506\n",
      "Feature romantic.x and its importance is 0.01856365343679591\n",
      "Feature address and its importance is 0.016602868229922425\n",
      "Feature internet and its importance is 0.014693052311181403\n",
      "Feature nursery and its importance is 0.01367322075818738\n",
      "Feature Pstatus and its importance is 0.011915638214425685\n",
      "Feature school and its importance is 0.008910563124619911\n",
      "Feature higher.x and its importance is 0.004412099419460803\n"
     ]
    },
    {
     "data": {
      "text/plain": [
       "([<matplotlib.axis.XTick at 0x7fc5839c4150>,\n",
       "  <matplotlib.axis.XTick at 0x7fc5839c05d0>,\n",
       "  <matplotlib.axis.XTick at 0x7fc5839c08d0>,\n",
       "  <matplotlib.axis.XTick at 0x7fc5842faa50>,\n",
       "  <matplotlib.axis.XTick at 0x7fc5842faf10>,\n",
       "  <matplotlib.axis.XTick at 0x7fc584305590>,\n",
       "  <matplotlib.axis.XTick at 0x7fc584305c10>,\n",
       "  <matplotlib.axis.XTick at 0x7fc58430b290>,\n",
       "  <matplotlib.axis.XTick at 0x7fc58430b8d0>,\n",
       "  <matplotlib.axis.XTick at 0x7fc58430bf10>,\n",
       "  <matplotlib.axis.XTick at 0x7fc584311550>,\n",
       "  <matplotlib.axis.XTick at 0x7fc584311b90>,\n",
       "  <matplotlib.axis.XTick at 0x7fc584311ed0>,\n",
       "  <matplotlib.axis.XTick at 0x7fc584305510>,\n",
       "  <matplotlib.axis.XTick at 0x7fc584319290>,\n",
       "  <matplotlib.axis.XTick at 0x7fc5843198d0>,\n",
       "  <matplotlib.axis.XTick at 0x7fc584319f10>,\n",
       "  <matplotlib.axis.XTick at 0x7fc58431f590>,\n",
       "  <matplotlib.axis.XTick at 0x7fc58431fbd0>,\n",
       "  <matplotlib.axis.XTick at 0x7fc584326250>,\n",
       "  <matplotlib.axis.XTick at 0x7fc584326890>,\n",
       "  <matplotlib.axis.XTick at 0x7fc58431f990>,\n",
       "  <matplotlib.axis.XTick at 0x7fc5843110d0>,\n",
       "  <matplotlib.axis.XTick at 0x7fc584326dd0>,\n",
       "  <matplotlib.axis.XTick at 0x7fc58432e450>,\n",
       "  <matplotlib.axis.XTick at 0x7fc58432ea90>,\n",
       "  <matplotlib.axis.XTick at 0x7fc584335050>,\n",
       "  <matplotlib.axis.XTick at 0x7fc584335750>,\n",
       "  <matplotlib.axis.XTick at 0x7fc584335d90>,\n",
       "  <matplotlib.axis.XTick at 0x7fc58433b410>],\n",
       " <a list of 30 Text xticklabel objects>)"
      ]
     },
     "execution_count": 47,
     "metadata": {},
     "output_type": "execute_result"
    },
    {
     "data": {
      "image/png": "[encoded data removed]",
      "text/plain": [
       "<Figure size 432x288 with 1 Axes>"
      ]
     },
     "metadata": {
      "needs_background": "light"
     },
     "output_type": "display_data"
    }
   ],
   "source": [
    "imp_dict={}\n",
    "rf.fit(X_train_x_G1,y_train_x_G1)\n",
    "y_pred_x_G1= rf.predict(X_test_x_G1)\n",
    "print(classification_report(y_pred_x_G1,y_test_x_G1))\n",
    "print(\"Kappa Score: \" +str(cohen_kappa_score(y_pred_x_G1,y_test_x_G1)))\n",
    "print(\"\\t\")\n",
    "for importance, name in sorted(zip(rf.feature_importances_, X_train_x_G1.columns),reverse=True):\n",
    "    imp_dict[name] = importance\n",
    "    print('Feature '+name+ ' and its importance is '+str(importance))\n",
    "plt.bar(range(len(imp_dict)), list(imp_dict.values()), align='center')\n",
    "plt.xticks(range(len(imp_dict)), list(imp_dict.keys()),rotation=90)"
   ]
  },
  {
   "cell_type": "code",
   "execution_count": 48,
   "metadata": {},
   "outputs": [
    {
     "name": "stdout",
     "output_type": "stream",
     "text": [
      "              precision    recall  f1-score   support\n",
      "\n",
      "           0       1.00      0.97      0.98        98\n",
      "           1       1.00      0.94      0.97       106\n",
      "           2       0.87      0.88      0.87       113\n",
      "           3       0.94      0.96      0.95        98\n",
      "           4       0.87      0.92      0.90        93\n",
      "\n",
      "    accuracy                           0.93       508\n",
      "   macro avg       0.94      0.93      0.93       508\n",
      "weighted avg       0.94      0.93      0.93       508\n",
      "\n",
      "Kappa Score: 0.9162630596562674\n",
      "\t\n",
      "Feature absences.x and its importance is 0.0704159332824306\n",
      "Feature failures.x and its importance is 0.05656398210484769\n",
      "Feature Mjob and its importance is 0.05522004458393879\n",
      "Feature goout.x and its importance is 0.051897554164328084\n",
      "Feature Medu and its importance is 0.04930389672988403\n",
      "Feature Walc.x and its importance is 0.04836513902079955\n",
      "Feature health.x and its importance is 0.048285234323200116\n",
      "Feature reason and its importance is 0.04782258293158195\n",
      "Feature freetime.x and its importance is 0.04442896601061442\n",
      "Feature Fedu and its importance is 0.044258323753540336\n",
      "Feature age and its importance is 0.04109976879703221\n",
      "Feature Fjob and its importance is 0.04032354749461823\n",
      "Feature studytime.x and its importance is 0.04025886226919054\n",
      "Feature famrel.x and its importance is 0.03828555054669981\n",
      "Feature Dalc.x and its importance is 0.03275114440137636\n",
      "Feature schoolsup.x and its importance is 0.03086777532027553\n",
      "Feature traveltime.x and its importance is 0.030616914761838317\n",
      "Feature paid.x and its importance is 0.024510927858422637\n",
      "Feature sex and its importance is 0.024182372628639936\n",
      "Feature activities.x and its importance is 0.022621239284751068\n",
      "Feature famsup.x and its importance is 0.02211595542312973\n",
      "Feature guardian.x and its importance is 0.02183213213048505\n",
      "Feature nursery and its importance is 0.01967623615793588\n",
      "Feature famsize and its importance is 0.019317396825926543\n",
      "Feature address and its importance is 0.01736220789143015\n",
      "Feature romantic.x and its importance is 0.01637114658541747\n",
      "Feature internet and its importance is 0.013548568598559643\n",
      "Feature school and its importance is 0.011187525090974784\n",
      "Feature Pstatus and its importance is 0.011120644470425631\n",
      "Feature higher.x and its importance is 0.005388426557705018\n"
     ]
    },
    {
     "data": {
      "text/plain": [
       "([<matplotlib.axis.XTick at 0x7fc584341610>,\n",
       "  <matplotlib.axis.XTick at 0x7fc58440df50>,\n",
       "  <matplotlib.axis.XTick at 0x7fc58440dc50>,\n",
       "  <matplotlib.axis.XTick at 0x7fc583d4b4d0>,\n",
       "  <matplotlib.axis.XTick at 0x7fc583d4ba50>,\n",
       "  <matplotlib.axis.XTick at 0x7fc583d4bcd0>,\n",
       "  <matplotlib.axis.XTick at 0x7fc583d53790>,\n",
       "  <matplotlib.axis.XTick at 0x7fc583d53dd0>,\n",
       "  <matplotlib.axis.XTick at 0x7fc583d4b690>,\n",
       "  <matplotlib.axis.XTick at 0x7fc583d59510>,\n",
       "  <matplotlib.axis.XTick at 0x7fc583d59a90>,\n",
       "  <matplotlib.axis.XTick at 0x7fc583d59e50>,\n",
       "  <matplotlib.axis.XTick at 0x7fc583d60650>,\n",
       "  <matplotlib.axis.XTick at 0x7fc583d60c90>,\n",
       "  <matplotlib.axis.XTick at 0x7fc583d68310>,\n",
       "  <matplotlib.axis.XTick at 0x7fc583d68950>,\n",
       "  <matplotlib.axis.XTick at 0x7fc583d68810>,\n",
       "  <matplotlib.axis.XTick at 0x7fc583d68490>,\n",
       "  <matplotlib.axis.XTick at 0x7fc583d59550>,\n",
       "  <matplotlib.axis.XTick at 0x7fc583d6d510>,\n",
       "  <matplotlib.axis.XTick at 0x7fc583d6db50>,\n",
       "  <matplotlib.axis.XTick at 0x7fc583d75250>,\n",
       "  <matplotlib.axis.XTick at 0x7fc583d75810>,\n",
       "  <matplotlib.axis.XTick at 0x7fc583d75e50>,\n",
       "  <matplotlib.axis.XTick at 0x7fc583d7b4d0>,\n",
       "  <matplotlib.axis.XTick at 0x7fc583d7bb10>,\n",
       "  <matplotlib.axis.XTick at 0x7fc583d7b590>,\n",
       "  <matplotlib.axis.XTick at 0x7fc583d75290>,\n",
       "  <matplotlib.axis.XTick at 0x7fc583d683d0>,\n",
       "  <matplotlib.axis.XTick at 0x7fc583d84750>],\n",
       " <a list of 30 Text xticklabel objects>)"
      ]
     },
     "execution_count": 48,
     "metadata": {},
     "output_type": "execute_result"
    },
    {
     "data": {
      "image/png": "[encoded data removed]",
      "text/plain": [
       "<Figure size 432x288 with 1 Axes>"
      ]
     },
     "metadata": {
      "needs_background": "light"
     },
     "output_type": "display_data"
    }
   ],
   "source": [
    "imp_dict={}\n",
    "rf.fit(X_train_x_G3,y_train_x_G3)\n",
    "y_pred_x_G3= rf.predict(X_test_x_G3)\n",
    "print(classification_report(y_pred_x_G3,y_test_x_G3))\n",
    "print(\"Kappa Score: \" +str(cohen_kappa_score(y_pred_x_G3,y_test_x_G3)))\n",
    "print(\"\\t\")\n",
    "for importance, name in sorted(zip(rf.feature_importances_, X_train_x_G3.columns),reverse=True):\n",
    "    imp_dict[name] = importance\n",
    "    print('Feature '+name+ ' and its importance is '+str(importance))\n",
    "plt.bar(range(len(imp_dict)), list(imp_dict.values()), align='center')\n",
    "plt.xticks(range(len(imp_dict)), list(imp_dict.keys()),rotation=90)"
   ]
  },
  {
   "cell_type": "code",
   "execution_count": 49,
   "metadata": {},
   "outputs": [
    {
     "name": "stdout",
     "output_type": "stream",
     "text": [
      "              precision    recall  f1-score   support\n",
      "\n",
      "           0       1.00      0.98      0.99       110\n",
      "           1       0.92      0.93      0.92       109\n",
      "           2       0.81      0.77      0.79       118\n",
      "           3       0.78      0.87      0.82       105\n",
      "           4       1.00      0.96      0.98       107\n",
      "\n",
      "    accuracy                           0.90       549\n",
      "   macro avg       0.90      0.90      0.90       549\n",
      "weighted avg       0.90      0.90      0.90       549\n",
      "\n",
      "Kappa Score: 0.8747687815722024\n",
      "\t\n",
      "Feature absences.y and its importance is 0.058491878077401326\n",
      "Feature health.y and its importance is 0.05497215622089035\n",
      "Feature goout.y and its importance is 0.051633235770804566\n",
      "Feature studytime.y and its importance is 0.051221994778349024\n",
      "Feature Fedu and its importance is 0.048282094773390585\n",
      "Feature age and its importance is 0.048278203593314556\n",
      "Feature Medu and its importance is 0.048273250694073545\n",
      "Feature freetime.y and its importance is 0.046153757398042936\n",
      "Feature Fjob and its importance is 0.04478420779789415\n",
      "Feature Walc.y and its importance is 0.04452883919896746\n",
      "Feature Mjob and its importance is 0.043696665014317355\n",
      "Feature reason and its importance is 0.04361109921251951\n",
      "Feature famrel.y and its importance is 0.042806959011860074\n",
      "Feature Dalc.y and its importance is 0.03584153282454962\n",
      "Feature sex and its importance is 0.030180045958875964\n",
      "Feature schoolsup.y and its importance is 0.029625308493190915\n",
      "Feature traveltime.y and its importance is 0.02933256046974676\n",
      "Feature activities.y and its importance is 0.025990339660287888\n",
      "Feature failures.y and its importance is 0.02504221015876132\n",
      "Feature guardian.y and its importance is 0.024312637332846356\n",
      "Feature famsize and its importance is 0.023271971224885894\n",
      "Feature famsup.y and its importance is 0.021534430135429217\n",
      "Feature address and its importance is 0.0211510375817434\n",
      "Feature romantic.y and its importance is 0.020953599336652348\n",
      "Feature higher.y and its importance is 0.019094426361944496\n",
      "Feature school and its importance is 0.0173649484933816\n",
      "Feature nursery and its importance is 0.016291494361182702\n",
      "Feature internet and its importance is 0.014100654241776615\n",
      "Feature Pstatus and its importance is 0.01048473270931928\n",
      "Feature paid.y and its importance is 0.00869372911360016\n"
     ]
    },
    {
     "data": {
      "text/plain": [
       "([<matplotlib.axis.XTick at 0x7fc583e4fb10>,\n",
       "  <matplotlib.axis.XTick at 0x7fc58354c910>,\n",
       "  <matplotlib.axis.XTick at 0x7fc583e315d0>,\n",
       "  <matplotlib.axis.XTick at 0x7fc583f21910>,\n",
       "  <matplotlib.axis.XTick at 0x7fc583f21e10>,\n",
       "  <matplotlib.axis.XTick at 0x7fc583f28410>,\n",
       "  <matplotlib.axis.XTick at 0x7fc583f28a90>,\n",
       "  <matplotlib.axis.XTick at 0x7fc583f33050>,\n",
       "  <matplotlib.axis.XTick at 0x7fc583f33750>,\n",
       "  <matplotlib.axis.XTick at 0x7fc583f33d90>,\n",
       "  <matplotlib.axis.XTick at 0x7fc583f33510>,\n",
       "  <matplotlib.axis.XTick at 0x7fc583f28210>,\n",
       "  <matplotlib.axis.XTick at 0x7fc583f396d0>,\n",
       "  <matplotlib.axis.XTick at 0x7fc583f39c10>,\n",
       "  <matplotlib.axis.XTick at 0x7fc583f41290>,\n",
       "  <matplotlib.axis.XTick at 0x7fc583f418d0>,\n",
       "  <matplotlib.axis.XTick at 0x7fc583f41f10>,\n",
       "  <matplotlib.axis.XTick at 0x7fc583f47590>,\n",
       "  <matplotlib.axis.XTick at 0x7fc583f47bd0>,\n",
       "  <matplotlib.axis.XTick at 0x7fc583f4e250>,\n",
       "  <matplotlib.axis.XTick at 0x7fc583f47490>,\n",
       "  <matplotlib.axis.XTick at 0x7fc583f39190>,\n",
       "  <matplotlib.axis.XTick at 0x7fc583f4e790>,\n",
       "  <matplotlib.axis.XTick at 0x7fc583f4edd0>,\n",
       "  <matplotlib.axis.XTick at 0x7fc583f55450>,\n",
       "  <matplotlib.axis.XTick at 0x7fc583f55a90>,\n",
       "  <matplotlib.axis.XTick at 0x7fc583f5c050>,\n",
       "  <matplotlib.axis.XTick at 0x7fc583f5c750>,\n",
       "  <matplotlib.axis.XTick at 0x7fc583f5cd90>,\n",
       "  <matplotlib.axis.XTick at 0x7fc583f5c1d0>],\n",
       " <a list of 30 Text xticklabel objects>)"
      ]
     },
     "execution_count": 49,
     "metadata": {},
     "output_type": "execute_result"
    },
    {
     "data": {
      "image/png": "[encoded data removed]",
      "text/plain": [
       "<Figure size 432x288 with 1 Axes>"
      ]
     },
     "metadata": {
      "needs_background": "light"
     },
     "output_type": "display_data"
    }
   ],
   "source": [
    "imp_dict={}\n",
    "rf.fit(X_train_y_G1,y_train_y_G1)\n",
    "y_pred_y_G1 = rf.predict(X_test_y_G1)\n",
    "print(classification_report(y_pred_y_G1,y_test_y_G1))\n",
    "print(\"Kappa Score: \" +str(cohen_kappa_score(y_pred_y_G1,y_test_y_G1)))\n",
    "print(\"\\t\")\n",
    "for importance, name in sorted(zip(rf.feature_importances_, X_train_y_G1.columns),reverse=True):\n",
    "    imp_dict[name] = importance\n",
    "    print ('Feature '+name+ ' and its importance is '+str(importance))\n",
    "plt.bar(range(len(imp_dict)), list(imp_dict.values()), align='center')\n",
    "plt.xticks(range(len(imp_dict)), list(imp_dict.keys()),rotation=90)"
   ]
  },
  {
   "cell_type": "code",
   "execution_count": 50,
   "metadata": {},
   "outputs": [
    {
     "name": "stdout",
     "output_type": "stream",
     "text": [
      "              precision    recall  f1-score   support\n",
      "\n",
      "           0       1.00      0.95      0.98        86\n",
      "           1       0.78      0.78      0.78        96\n",
      "           2       0.64      0.65      0.64       105\n",
      "           3       0.81      0.83      0.82       109\n",
      "           4       1.00      1.00      1.00        87\n",
      "\n",
      "    accuracy                           0.83       483\n",
      "   macro avg       0.85      0.84      0.85       483\n",
      "weighted avg       0.84      0.83      0.84       483\n",
      "\n",
      "Kappa Score: 0.7923853122279894\n",
      "\t\n",
      "Feature goout.y and its importance is 0.0550797968071945\n",
      "Feature absences.y and its importance is 0.0540875695180548\n",
      "Feature health.y and its importance is 0.05315908393693916\n",
      "Feature age and its importance is 0.0501831665601159\n",
      "Feature Medu and its importance is 0.04860921087952246\n",
      "Feature studytime.y and its importance is 0.04755817143731535\n",
      "Feature Mjob and its importance is 0.046667885830792864\n",
      "Feature freetime.y and its importance is 0.04588976128999653\n",
      "Feature Fedu and its importance is 0.04562596411467345\n",
      "Feature Walc.y and its importance is 0.04345910208118972\n",
      "Feature reason and its importance is 0.04287035952777407\n",
      "Feature famrel.y and its importance is 0.04204144579558417\n",
      "Feature Fjob and its importance is 0.03796393095752651\n",
      "Feature Dalc.y and its importance is 0.037087510904024644\n",
      "Feature failures.y and its importance is 0.033516746151652434\n",
      "Feature sex and its importance is 0.02955656143500887\n",
      "Feature traveltime.y and its importance is 0.027587002565019406\n",
      "Feature activities.y and its importance is 0.02585237866274718\n",
      "Feature schoolsup.y and its importance is 0.024988605026847733\n",
      "Feature school and its importance is 0.023892394920793127\n",
      "Feature guardian.y and its importance is 0.022838484434886477\n",
      "Feature famsup.y and its importance is 0.022536283866360685\n",
      "Feature higher.y and its importance is 0.022465367226573846\n",
      "Feature address and its importance is 0.02156383170989157\n",
      "Feature romantic.y and its importance is 0.02104732951298118\n",
      "Feature famsize and its importance is 0.020513160993728654\n",
      "Feature nursery and its importance is 0.016228527338744796\n",
      "Feature internet and its importance is 0.013377831828549234\n",
      "Feature paid.y and its importance is 0.012025425842873074\n",
      "Feature Pstatus and its importance is 0.011727108842637484\n"
     ]
    },
    {
     "data": {
      "text/plain": [
       "([<matplotlib.axis.XTick at 0x7fc583fa75d0>,\n",
       "  <matplotlib.axis.XTick at 0x7fc583fa8290>,\n",
       "  <matplotlib.axis.XTick at 0x7fc583fa8110>,\n",
       "  <matplotlib.axis.XTick at 0x7fc58413c850>,\n",
       "  <matplotlib.axis.XTick at 0x7fc58413cd90>,\n",
       "  <matplotlib.axis.XTick at 0x7fc5841ec410>,\n",
       "  <matplotlib.axis.XTick at 0x7fc5841eca90>,\n",
       "  <matplotlib.axis.XTick at 0x7fc5841eccd0>,\n",
       "  <matplotlib.axis.XTick at 0x7fc58413c690>,\n",
       "  <matplotlib.axis.XTick at 0x7fc5841f4750>,\n",
       "  <matplotlib.axis.XTick at 0x7fc5841f4d90>,\n",
       "  <matplotlib.axis.XTick at 0x7fc5841fb3d0>,\n",
       "  <matplotlib.axis.XTick at 0x7fc5841fb950>,\n",
       "  <matplotlib.axis.XTick at 0x7fc5841fb850>,\n",
       "  <matplotlib.axis.XTick at 0x7fc584203610>,\n",
       "  <matplotlib.axis.XTick at 0x7fc584203c50>,\n",
       "  <matplotlib.axis.XTick at 0x7fc584203150>,\n",
       "  <matplotlib.axis.XTick at 0x7fc5841fb210>,\n",
       "  <matplotlib.axis.XTick at 0x7fc584208190>,\n",
       "  <matplotlib.axis.XTick at 0x7fc584208990>,\n",
       "  <matplotlib.axis.XTick at 0x7fc584208a90>,\n",
       "  <matplotlib.axis.XTick at 0x7fc584210650>,\n",
       "  <matplotlib.axis.XTick at 0x7fc584210c90>,\n",
       "  <matplotlib.axis.XTick at 0x7fc584218310>,\n",
       "  <matplotlib.axis.XTick at 0x7fc584218950>,\n",
       "  <matplotlib.axis.XTick at 0x7fc584218810>,\n",
       "  <matplotlib.axis.XTick at 0x7fc584218490>,\n",
       "  <matplotlib.axis.XTick at 0x7fc5842085d0>,\n",
       "  <matplotlib.axis.XTick at 0x7fc58421e510>,\n",
       "  <matplotlib.axis.XTick at 0x7fc58421eb50>],\n",
       " <a list of 30 Text xticklabel objects>)"
      ]
     },
     "execution_count": 50,
     "metadata": {},
     "output_type": "execute_result"
    },
    {
     "data": {
      "image/png": "[encoded data removed]",
      "text/plain": [
       "<Figure size 432x288 with 1 Axes>"
      ]
     },
     "metadata": {
      "needs_background": "light"
     },
     "output_type": "display_data"
    }
   ],
   "source": [
    "imp_dict={}\n",
    "rf.fit(X_train_y_G3,y_train_y_G3)\n",
    "y_pred_y_G3 = rf.predict(X_test_y_G3)\n",
    "print(classification_report(y_pred_y_G3,y_test_y_G3))\n",
    "print(\"Kappa Score: \" +str(cohen_kappa_score(y_pred_y_G3,y_test_y_G3)))\n",
    "print(\"\\t\")\n",
    "for importance, name in sorted(zip(rf.feature_importances_, X_train_y_G3.columns),reverse=True):\n",
    "    imp_dict[name] = importance\n",
    "    print ('Feature '+name+ ' and its importance is '+str(importance))\n",
    "plt.bar(range(len(imp_dict)), list(imp_dict.values()), align='center')\n",
    "plt.xticks(range(len(imp_dict)), list(imp_dict.keys()),rotation=90)"
   ]
  },
  {
   "cell_type": "markdown",
   "metadata": {},
   "source": [
    "### Linear SVM"
   ]
  },
  {
   "cell_type": "code",
   "execution_count": 51,
   "metadata": {},
   "outputs": [],
   "source": [
    "lsvm = LinearSVC(max_iter=1000000)"
   ]
  },
  {
   "cell_type": "code",
   "execution_count": 52,
   "metadata": {},
   "outputs": [
    {
     "name": "stdout",
     "output_type": "stream",
     "text": [
      "              precision    recall  f1-score   support\n",
      "\n",
      "           0       0.64      0.43      0.52       160\n",
      "           1       0.67      0.43      0.52       139\n",
      "           2       0.29      0.43      0.35        82\n",
      "           3       0.35      0.56      0.43        62\n",
      "           4       0.52      0.72      0.60        74\n",
      "\n",
      "    accuracy                           0.49       517\n",
      "   macro avg       0.50      0.51      0.49       517\n",
      "weighted avg       0.54      0.49      0.49       517\n",
      "\n",
      "Kappa Score: 0.3604322759844082\n"
     ]
    }
   ],
   "source": [
    "lsvm.fit(X_train_x_G1,y_train_x_G1)\n",
    "y_pred_x_G1= lsvm.predict(X_test_x_G1)\n",
    "print(classification_report(y_pred_x_G1,y_test_x_G1))\n",
    "print(\"Kappa Score: \" +str(cohen_kappa_score(y_pred_x_G1,y_test_x_G1)))"
   ]
  },
  {
   "cell_type": "code",
   "execution_count": 53,
   "metadata": {},
   "outputs": [
    {
     "name": "stdout",
     "output_type": "stream",
     "text": [
      "              precision    recall  f1-score   support\n",
      "\n",
      "           0       0.53      0.37      0.43       136\n",
      "           1       0.58      0.47      0.52       123\n",
      "           2       0.30      0.38      0.33        90\n",
      "           3       0.23      0.45      0.30        51\n",
      "           4       0.64      0.58      0.61       108\n",
      "\n",
      "    accuracy                           0.45       508\n",
      "   macro avg       0.45      0.45      0.44       508\n",
      "weighted avg       0.49      0.45      0.46       508\n",
      "\n",
      "Kappa Score: 0.31215907772060814\n"
     ]
    }
   ],
   "source": [
    "lsvm.fit(X_train_x_G3,y_train_x_G3)\n",
    "y_pred_x_G3= lsvm.predict(X_test_x_G3)\n",
    "print(classification_report(y_pred_x_G3,y_test_x_G3))\n",
    "print(\"Kappa Score: \" +str(cohen_kappa_score(y_pred_x_G3,y_test_x_G3)))"
   ]
  },
  {
   "cell_type": "code",
   "execution_count": 54,
   "metadata": {},
   "outputs": [
    {
     "name": "stdout",
     "output_type": "stream",
     "text": [
      "              precision    recall  f1-score   support\n",
      "\n",
      "           0       0.73      0.48      0.58       165\n",
      "           1       0.48      0.49      0.48       109\n",
      "           2       0.14      0.35      0.20        46\n",
      "           3       0.41      0.54      0.47        89\n",
      "           4       0.80      0.59      0.67       140\n",
      "\n",
      "    accuracy                           0.51       549\n",
      "   macro avg       0.51      0.49      0.48       549\n",
      "weighted avg       0.60      0.51      0.54       549\n",
      "\n",
      "Kappa Score: 0.3844349283187488\n"
     ]
    }
   ],
   "source": [
    "lsvm.fit(X_train_y_G1,y_train_y_G1)\n",
    "y_pred_y_G1 = lsvm.predict(X_test_y_G1)\n",
    "print(classification_report(y_pred_y_G1,y_test_y_G1))\n",
    "print(\"Kappa Score: \" +str(cohen_kappa_score(y_pred_y_G1,y_test_y_G1)))"
   ]
  },
  {
   "cell_type": "code",
   "execution_count": 55,
   "metadata": {},
   "outputs": [
    {
     "name": "stdout",
     "output_type": "stream",
     "text": [
      "              precision    recall  f1-score   support\n",
      "\n",
      "           0       0.73      0.43      0.54       139\n",
      "           1       0.61      0.59      0.60       100\n",
      "           2       0.16      0.42      0.23        40\n",
      "           3       0.38      0.55      0.44        77\n",
      "           4       0.90      0.61      0.73       127\n",
      "\n",
      "    accuracy                           0.53       483\n",
      "   macro avg       0.56      0.52      0.51       483\n",
      "weighted avg       0.65      0.53      0.56       483\n",
      "\n",
      "Kappa Score: 0.4179734363885379\n"
     ]
    }
   ],
   "source": [
    "lsvm.fit(X_train_y_G3,y_train_y_G3)\n",
    "y_pred_y_G3 = lsvm.predict(X_test_y_G3)\n",
    "print(classification_report(y_pred_y_G3,y_test_y_G3))\n",
    "print(\"Kappa Score: \" +str(cohen_kappa_score(y_pred_y_G3,y_test_y_G3)))"
   ]
  },
  {
   "cell_type": "markdown",
   "metadata": {},
   "source": [
    "### Logistic Regression"
   ]
  },
  {
   "cell_type": "code",
   "execution_count": 56,
   "metadata": {},
   "outputs": [],
   "source": [
    "lg = LogisticRegression(random_state=0,max_iter=1000000)"
   ]
  },
  {
   "cell_type": "code",
   "execution_count": 57,
   "metadata": {},
   "outputs": [
    {
     "name": "stdout",
     "output_type": "stream",
     "text": [
      "              precision    recall  f1-score   support\n",
      "\n",
      "           0       0.64      0.48      0.55       143\n",
      "           1       0.67      0.45      0.54       133\n",
      "           2       0.31      0.40      0.35        93\n",
      "           3       0.38      0.59      0.47        64\n",
      "           4       0.58      0.70      0.63        84\n",
      "\n",
      "    accuracy                           0.51       517\n",
      "   macro avg       0.52      0.53      0.51       517\n",
      "weighted avg       0.55      0.51      0.51       517\n",
      "\n",
      "Kappa Score: 0.3864992268053278\n"
     ]
    }
   ],
   "source": [
    "lg.fit(X_train_x_G1,y_train_x_G1)\n",
    "y_pred_x_G1= lg.predict(X_test_x_G1)\n",
    "print(classification_report(y_pred_x_G1,y_test_x_G1))\n",
    "print(\"Kappa Score: \" +str(cohen_kappa_score(y_pred_x_G1,y_test_x_G1)))"
   ]
  },
  {
   "cell_type": "code",
   "execution_count": 58,
   "metadata": {},
   "outputs": [
    {
     "name": "stdout",
     "output_type": "stream",
     "text": [
      "              precision    recall  f1-score   support\n",
      "\n",
      "           0       0.45      0.40      0.42       108\n",
      "           1       0.62      0.50      0.55       124\n",
      "           2       0.32      0.35      0.34       106\n",
      "           3       0.33      0.45      0.38        74\n",
      "           4       0.58      0.59      0.58        96\n",
      "\n",
      "    accuracy                           0.46       508\n",
      "   macro avg       0.46      0.46      0.46       508\n",
      "weighted avg       0.47      0.46      0.46       508\n",
      "\n",
      "Kappa Score: 0.3207503294318269\n"
     ]
    }
   ],
   "source": [
    "lg.fit(X_train_x_G3,y_train_x_G3)\n",
    "y_pred_x_G3= lg.predict(X_test_x_G3)\n",
    "print(classification_report(y_pred_x_G3,y_test_x_G3))\n",
    "print(\"Kappa Score: \" +str(cohen_kappa_score(y_pred_x_G3,y_test_x_G3)))"
   ]
  },
  {
   "cell_type": "code",
   "execution_count": 59,
   "metadata": {},
   "outputs": [
    {
     "name": "stdout",
     "output_type": "stream",
     "text": [
      "              precision    recall  f1-score   support\n",
      "\n",
      "           0       0.56      0.48      0.52       124\n",
      "           1       0.45      0.52      0.49        96\n",
      "           2       0.27      0.31      0.29        97\n",
      "           3       0.54      0.55      0.55       115\n",
      "           4       0.76      0.67      0.71       117\n",
      "\n",
      "    accuracy                           0.51       549\n",
      "   macro avg       0.52      0.51      0.51       549\n",
      "weighted avg       0.53      0.51      0.52       549\n",
      "\n",
      "Kappa Score: 0.3899848254931715\n"
     ]
    }
   ],
   "source": [
    "lg.fit(X_train_y_G1,y_train_y_G1)\n",
    "y_pred_y_G1 = lg.predict(X_test_y_G1)\n",
    "print(classification_report(y_pred_y_G1,y_test_y_G1))\n",
    "print(\"Kappa Score: \" +str(cohen_kappa_score(y_pred_y_G1,y_test_y_G1)))"
   ]
  },
  {
   "cell_type": "code",
   "execution_count": 60,
   "metadata": {},
   "outputs": [
    {
     "name": "stdout",
     "output_type": "stream",
     "text": [
      "              precision    recall  f1-score   support\n",
      "\n",
      "           0       0.67      0.49      0.57       112\n",
      "           1       0.65      0.69      0.67        90\n",
      "           2       0.39      0.53      0.45        78\n",
      "           3       0.54      0.62      0.58        99\n",
      "           4       0.90      0.75      0.82       104\n",
      "\n",
      "    accuracy                           0.61       483\n",
      "   macro avg       0.63      0.61      0.61       483\n",
      "weighted avg       0.64      0.61      0.62       483\n",
      "\n",
      "Kappa Score: 0.519739550200202\n"
     ]
    }
   ],
   "source": [
    "lg.fit(X_train_y_G3,y_train_y_G3)\n",
    "y_pred_y_G3 = lg.predict(X_test_y_G3)\n",
    "print(classification_report(y_pred_y_G3,y_test_y_G3))\n",
    "print(\"Kappa Score: \" +str(cohen_kappa_score(y_pred_y_G3,y_test_y_G3)))"
   ]
  },
  {
   "cell_type": "markdown",
   "metadata": {},
   "source": [
    "### Gradient Boosting"
   ]
  },
  {
   "cell_type": "code",
   "execution_count": 61,
   "metadata": {},
   "outputs": [],
   "source": [
    "gb = GradientBoostingClassifier(random_state=0)"
   ]
  },
  {
   "cell_type": "code",
   "execution_count": 62,
   "metadata": {},
   "outputs": [
    {
     "name": "stdout",
     "output_type": "stream",
     "text": [
      "              precision    recall  f1-score   support\n",
      "\n",
      "           0       1.00      0.91      0.95       118\n",
      "           1       0.98      0.77      0.86       114\n",
      "           2       0.70      0.78      0.73       107\n",
      "           3       0.72      0.82      0.76        87\n",
      "           4       0.78      0.88      0.83        91\n",
      "\n",
      "    accuracy                           0.83       517\n",
      "   macro avg       0.84      0.83      0.83       517\n",
      "weighted avg       0.85      0.83      0.83       517\n",
      "\n",
      "Kappa Score: 0.7871781078236464\n"
     ]
    }
   ],
   "source": [
    "gb.fit(X_train_x_G1,y_train_x_G1)\n",
    "y_pred_x_G1= gb.predict(X_test_x_G1)\n",
    "print(classification_report(y_pred_x_G1,y_test_x_G1))\n",
    "print(\"Kappa Score: \" +str(cohen_kappa_score(y_pred_x_G1,y_test_x_G1)))"
   ]
  },
  {
   "cell_type": "code",
   "execution_count": 63,
   "metadata": {},
   "outputs": [
    {
     "name": "stdout",
     "output_type": "stream",
     "text": [
      "              precision    recall  f1-score   support\n",
      "\n",
      "           0       1.00      0.93      0.96       102\n",
      "           1       0.97      0.76      0.85       128\n",
      "           2       0.55      0.85      0.67        74\n",
      "           3       0.90      0.76      0.82       119\n",
      "           4       0.77      0.89      0.83        85\n",
      "\n",
      "    accuracy                           0.83       508\n",
      "   macro avg       0.84      0.84      0.83       508\n",
      "weighted avg       0.86      0.83      0.84       508\n",
      "\n",
      "Kappa Score: 0.7863100332168086\n"
     ]
    }
   ],
   "source": [
    "gb.fit(X_train_x_G3,y_train_x_G3)\n",
    "y_pred_x_G3= gb.predict(X_test_x_G3)\n",
    "print(classification_report(y_pred_x_G3,y_test_x_G3))\n",
    "print(\"Kappa Score: \" +str(cohen_kappa_score(y_pred_x_G3,y_test_x_G3)))"
   ]
  },
  {
   "cell_type": "code",
   "execution_count": 64,
   "metadata": {},
   "outputs": [
    {
     "name": "stdout",
     "output_type": "stream",
     "text": [
      "              precision    recall  f1-score   support\n",
      "\n",
      "           0       1.00      0.86      0.92       126\n",
      "           1       0.80      0.77      0.79       114\n",
      "           2       0.48      0.52      0.50       103\n",
      "           3       0.66      0.77      0.71        99\n",
      "           4       0.92      0.89      0.90       107\n",
      "\n",
      "    accuracy                           0.77       549\n",
      "   macro avg       0.77      0.76      0.76       549\n",
      "weighted avg       0.78      0.77      0.77       549\n",
      "\n",
      "Kappa Score: 0.7086712103875429\n"
     ]
    }
   ],
   "source": [
    "gb.fit(X_train_y_G1,y_train_y_G1)\n",
    "y_pred_y_G1 = gb.predict(X_test_y_G1)\n",
    "print(classification_report(y_pred_y_G1,y_test_y_G1))\n",
    "print(\"Kappa Score: \" +str(cohen_kappa_score(y_pred_y_G1,y_test_y_G1)))"
   ]
  },
  {
   "cell_type": "code",
   "execution_count": 65,
   "metadata": {},
   "outputs": [
    {
     "name": "stdout",
     "output_type": "stream",
     "text": [
      "              precision    recall  f1-score   support\n",
      "\n",
      "           0       0.95      0.70      0.81       111\n",
      "           1       0.76      0.71      0.73       103\n",
      "           2       0.47      0.68      0.56        73\n",
      "           3       0.79      0.84      0.81       105\n",
      "           4       1.00      0.96      0.98        91\n",
      "\n",
      "    accuracy                           0.78       483\n",
      "   macro avg       0.79      0.78      0.78       483\n",
      "weighted avg       0.81      0.78      0.79       483\n",
      "\n",
      "Kappa Score: 0.7234594721859549\n"
     ]
    }
   ],
   "source": [
    "gb.fit(X_train_y_G3,y_train_y_G3)\n",
    "y_pred_y_G3 = gb.predict(X_test_y_G3)\n",
    "print(classification_report(y_pred_y_G3,y_test_y_G3))\n",
    "print(\"Kappa Score: \" +str(cohen_kappa_score(y_pred_y_G3,y_test_y_G3)))"
   ]
  },
  {
   "cell_type": "code",
   "execution_count": null,
   "metadata": {},
   "outputs": [],
   "source": []
  }
 ],
 "metadata": {
  "kernelspec": {
   "display_name": "Python 3",
   "language": "python",
   "name": "python3"
  },
  "language_info": {
   "codemirror_mode": {
    "name": "ipython",
    "version": 3
   },
   "file_extension": ".py",
   "mimetype": "text/x-python",
   "name": "python",
   "nbconvert_exporter": "python",
   "pygments_lexer": "ipython3",
   "version": "3.7.4"
  }
 },
 "nbformat": 4,
 "nbformat_minor": 4
}
