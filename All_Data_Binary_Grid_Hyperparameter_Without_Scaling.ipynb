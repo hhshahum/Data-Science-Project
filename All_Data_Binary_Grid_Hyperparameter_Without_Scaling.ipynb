{
 "cells": [
  {
   "cell_type": "code",
   "execution_count": 50,
   "metadata": {},
   "outputs": [],
   "source": [
    "import pandas as pd\n",
    "import numpy as np\n",
    "import seaborn as sn\n",
    "import matplotlib.pyplot as plt\n",
    "from sklearn.svm import SVC\n",
    "from sklearn.linear_model import LogisticRegression\n",
    "from sklearn.model_selection import train_test_split\n",
    "from sklearn import preprocessing\n",
    "from sklearn.tree import DecisionTreeClassifier\n",
    "from sklearn.metrics import accuracy_score\n",
    "from sklearn.naive_bayes import GaussianNB\n",
    "from sklearn.ensemble import RandomForestClassifier\n",
    "from sklearn.ensemble import GradientBoostingClassifier\n",
    "from sklearn.metrics import classification_report\n",
    "from sklearn.metrics import cohen_kappa_score\n",
    "import matplotlib.pyplot as plt\n",
    "from scipy.stats import rankdata\n",
    "import imblearn\n",
    "from imblearn.over_sampling import RandomOverSampler\n",
    "from sklearn.model_selection import GridSearchCV\n",
    "from sklearn import metrics\n",
    "from sklearn.metrics import confusion_matrix\n",
    "from sklearn.model_selection import RepeatedStratifiedKFold\n",
    "from scipy.stats import randint"
   ]
  },
  {
   "cell_type": "code",
   "execution_count": 2,
   "metadata": {},
   "outputs": [],
   "source": [
    "df = pd.read_csv('final_combined_dataset.csv')"
   ]
  },
  {
   "cell_type": "code",
   "execution_count": 3,
   "metadata": {},
   "outputs": [
    {
     "data": {
      "text/html": [
       "<div>\n",
       "<style scoped>\n",
       "    .dataframe tbody tr th:only-of-type {\n",
       "        vertical-align: middle;\n",
       "    }\n",
       "\n",
       "    .dataframe tbody tr th {\n",
       "        vertical-align: top;\n",
       "    }\n",
       "\n",
       "    .dataframe thead th {\n",
       "        text-align: right;\n",
       "    }\n",
       "</style>\n",
       "<table border=\"1\" class=\"dataframe\">\n",
       "  <thead>\n",
       "    <tr style=\"text-align: right;\">\n",
       "      <th></th>\n",
       "      <th>school</th>\n",
       "      <th>sex</th>\n",
       "      <th>age</th>\n",
       "      <th>address</th>\n",
       "      <th>famsize</th>\n",
       "      <th>Pstatus</th>\n",
       "      <th>Medu</th>\n",
       "      <th>Fedu</th>\n",
       "      <th>Mjob</th>\n",
       "      <th>Fjob</th>\n",
       "      <th>...</th>\n",
       "      <th>famrel.y</th>\n",
       "      <th>freetime.y</th>\n",
       "      <th>goout.y</th>\n",
       "      <th>Dalc.y</th>\n",
       "      <th>Walc.y</th>\n",
       "      <th>health.y</th>\n",
       "      <th>absences.y</th>\n",
       "      <th>G1.y</th>\n",
       "      <th>G2.y</th>\n",
       "      <th>G3.y</th>\n",
       "    </tr>\n",
       "  </thead>\n",
       "  <tbody>\n",
       "    <tr>\n",
       "      <td>0</td>\n",
       "      <td>0</td>\n",
       "      <td>0</td>\n",
       "      <td>15</td>\n",
       "      <td>0</td>\n",
       "      <td>0</td>\n",
       "      <td>1</td>\n",
       "      <td>1</td>\n",
       "      <td>1</td>\n",
       "      <td>0</td>\n",
       "      <td>2</td>\n",
       "      <td>...</td>\n",
       "      <td>3</td>\n",
       "      <td>1</td>\n",
       "      <td>2</td>\n",
       "      <td>1</td>\n",
       "      <td>1</td>\n",
       "      <td>1</td>\n",
       "      <td>4</td>\n",
       "      <td>13</td>\n",
       "      <td>13</td>\n",
       "      <td>13</td>\n",
       "    </tr>\n",
       "    <tr>\n",
       "      <td>1</td>\n",
       "      <td>0</td>\n",
       "      <td>0</td>\n",
       "      <td>15</td>\n",
       "      <td>0</td>\n",
       "      <td>0</td>\n",
       "      <td>1</td>\n",
       "      <td>1</td>\n",
       "      <td>1</td>\n",
       "      <td>2</td>\n",
       "      <td>2</td>\n",
       "      <td>...</td>\n",
       "      <td>3</td>\n",
       "      <td>3</td>\n",
       "      <td>4</td>\n",
       "      <td>2</td>\n",
       "      <td>4</td>\n",
       "      <td>5</td>\n",
       "      <td>2</td>\n",
       "      <td>13</td>\n",
       "      <td>11</td>\n",
       "      <td>11</td>\n",
       "    </tr>\n",
       "    <tr>\n",
       "      <td>2</td>\n",
       "      <td>0</td>\n",
       "      <td>0</td>\n",
       "      <td>15</td>\n",
       "      <td>0</td>\n",
       "      <td>0</td>\n",
       "      <td>1</td>\n",
       "      <td>2</td>\n",
       "      <td>2</td>\n",
       "      <td>0</td>\n",
       "      <td>2</td>\n",
       "      <td>...</td>\n",
       "      <td>4</td>\n",
       "      <td>3</td>\n",
       "      <td>1</td>\n",
       "      <td>1</td>\n",
       "      <td>1</td>\n",
       "      <td>2</td>\n",
       "      <td>8</td>\n",
       "      <td>14</td>\n",
       "      <td>13</td>\n",
       "      <td>12</td>\n",
       "    </tr>\n",
       "    <tr>\n",
       "      <td>3</td>\n",
       "      <td>0</td>\n",
       "      <td>0</td>\n",
       "      <td>15</td>\n",
       "      <td>0</td>\n",
       "      <td>0</td>\n",
       "      <td>1</td>\n",
       "      <td>2</td>\n",
       "      <td>4</td>\n",
       "      <td>3</td>\n",
       "      <td>1</td>\n",
       "      <td>...</td>\n",
       "      <td>4</td>\n",
       "      <td>3</td>\n",
       "      <td>2</td>\n",
       "      <td>1</td>\n",
       "      <td>1</td>\n",
       "      <td>5</td>\n",
       "      <td>2</td>\n",
       "      <td>10</td>\n",
       "      <td>11</td>\n",
       "      <td>10</td>\n",
       "    </tr>\n",
       "    <tr>\n",
       "      <td>4</td>\n",
       "      <td>0</td>\n",
       "      <td>0</td>\n",
       "      <td>15</td>\n",
       "      <td>0</td>\n",
       "      <td>0</td>\n",
       "      <td>1</td>\n",
       "      <td>3</td>\n",
       "      <td>3</td>\n",
       "      <td>3</td>\n",
       "      <td>3</td>\n",
       "      <td>...</td>\n",
       "      <td>4</td>\n",
       "      <td>2</td>\n",
       "      <td>1</td>\n",
       "      <td>2</td>\n",
       "      <td>3</td>\n",
       "      <td>3</td>\n",
       "      <td>2</td>\n",
       "      <td>13</td>\n",
       "      <td>13</td>\n",
       "      <td>13</td>\n",
       "    </tr>\n",
       "  </tbody>\n",
       "</table>\n",
       "<p>5 rows × 53 columns</p>\n",
       "</div>"
      ],
      "text/plain": [
       "   school  sex  age  address  famsize  Pstatus  Medu  Fedu  Mjob  Fjob  ...  \\\n",
       "0       0    0   15        0        0        1     1     1     0     2  ...   \n",
       "1       0    0   15        0        0        1     1     1     2     2  ...   \n",
       "2       0    0   15        0        0        1     2     2     0     2  ...   \n",
       "3       0    0   15        0        0        1     2     4     3     1  ...   \n",
       "4       0    0   15        0        0        1     3     3     3     3  ...   \n",
       "\n",
       "   famrel.y  freetime.y  goout.y  Dalc.y  Walc.y  health.y  absences.y  G1.y  \\\n",
       "0         3           1        2       1       1         1           4    13   \n",
       "1         3           3        4       2       4         5           2    13   \n",
       "2         4           3        1       1       1         2           8    14   \n",
       "3         4           3        2       1       1         5           2    10   \n",
       "4         4           2        1       2       3         3           2    13   \n",
       "\n",
       "   G2.y  G3.y  \n",
       "0    13    13  \n",
       "1    11    11  \n",
       "2    13    12  \n",
       "3    11    10  \n",
       "4    13    13  \n",
       "\n",
       "[5 rows x 53 columns]"
      ]
     },
     "execution_count": 3,
     "metadata": {},
     "output_type": "execute_result"
    }
   ],
   "source": [
    "df.head()"
   ]
  },
  {
   "cell_type": "code",
   "execution_count": 4,
   "metadata": {},
   "outputs": [],
   "source": [
    "df = df.rename(columns = {'Unnamed: 0':'ID'})"
   ]
  },
  {
   "cell_type": "code",
   "execution_count": 5,
   "metadata": {},
   "outputs": [
    {
     "data": {
      "text/plain": [
       "Index(['school', 'sex', 'age', 'address', 'famsize', 'Pstatus', 'Medu', 'Fedu',\n",
       "       'Mjob', 'Fjob', 'reason', 'nursery', 'internet', 'guardian.x',\n",
       "       'traveltime.x', 'studytime.x', 'failures.x', 'schoolsup.x', 'famsup.x',\n",
       "       'paid.x', 'activities.x', 'higher.x', 'romantic.x', 'famrel.x',\n",
       "       'freetime.x', 'goout.x', 'Dalc.x', 'Walc.x', 'health.x', 'absences.x',\n",
       "       'G1.x', 'G2.x', 'G3.x', 'guardian.y', 'traveltime.y', 'studytime.y',\n",
       "       'failures.y', 'schoolsup.y', 'famsup.y', 'paid.y', 'activities.y',\n",
       "       'higher.y', 'romantic.y', 'famrel.y', 'freetime.y', 'goout.y', 'Dalc.y',\n",
       "       'Walc.y', 'health.y', 'absences.y', 'G1.y', 'G2.y', 'G3.y'],\n",
       "      dtype='object')"
      ]
     },
     "execution_count": 5,
     "metadata": {},
     "output_type": "execute_result"
    }
   ],
   "source": [
    "df.columns"
   ]
  },
  {
   "cell_type": "code",
   "execution_count": 6,
   "metadata": {},
   "outputs": [],
   "source": [
    "xfeatures=['school', 'sex', 'age', 'address', 'famsize', 'Pstatus', 'Medu', 'Fedu',\n",
    "       'Mjob', 'Fjob', 'reason', 'nursery', 'internet', 'guardian.x',\n",
    "       'traveltime.x', 'studytime.x', 'failures.x', 'schoolsup.x', 'famsup.x',\n",
    "       'paid.x', 'activities.x', 'higher.x', 'romantic.x', 'famrel.x',\n",
    "       'freetime.x', 'goout.x', 'Dalc.x', 'Walc.x', 'health.x', 'absences.x','G1.x','G3.x']"
   ]
  },
  {
   "cell_type": "code",
   "execution_count": 7,
   "metadata": {},
   "outputs": [],
   "source": [
    "yfeatures = ['school', 'sex', 'age', 'address', 'famsize', 'Pstatus', 'Medu', 'Fedu',\n",
    "       'Mjob', 'Fjob', 'reason', 'nursery', 'internet','guardian.y', 'traveltime.y', 'studytime.y',\n",
    "       'failures.y', 'schoolsup.y', 'famsup.y', 'paid.y', 'activities.y',\n",
    "       'higher.y', 'romantic.y', 'famrel.y', 'freetime.y', 'goout.y', 'Dalc.y',\n",
    "       'Walc.y', 'health.y', 'absences.y','G1.y','G3.y']"
   ]
  },
  {
   "cell_type": "code",
   "execution_count": 8,
   "metadata": {},
   "outputs": [],
   "source": [
    "keepcol = ['school', 'sex', 'age', 'address', 'famsize', 'Pstatus', 'Medu',\n",
    "       'Fedu', 'Mjob', 'Fjob', 'reason', 'nursery', 'internet', 'guardian.x',\n",
    "       'traveltime.x', 'studytime.x', 'failures.x', 'schoolsup.x', 'famsup.x',\n",
    "       'paid.x', 'activities.x', 'higher.x', 'romantic.x', 'famrel.x',\n",
    "       'freetime.x', 'goout.x', 'Dalc.x', 'Walc.x', 'health.x', 'absences.x',\n",
    "       'G1.x', 'G2.x', 'G3.x', 'guardian.y', 'traveltime.y', 'studytime.y',\n",
    "       'failures.y', 'schoolsup.y', 'famsup.y', 'paid.y', 'activities.y',\n",
    "       'higher.y', 'romantic.y', 'famrel.y', 'freetime.y', 'goout.y', 'Dalc.y',\n",
    "       'Walc.y', 'health.y', 'absences.y', 'G1.y', 'G2.y', 'G3.y']"
   ]
  },
  {
   "cell_type": "code",
   "execution_count": 9,
   "metadata": {},
   "outputs": [],
   "source": [
    "fildf = df.loc[:,keepcol]"
   ]
  },
  {
   "cell_type": "code",
   "execution_count": 10,
   "metadata": {},
   "outputs": [],
   "source": [
    "fildf_x = fildf.loc[:,xfeatures]"
   ]
  },
  {
   "cell_type": "code",
   "execution_count": 11,
   "metadata": {},
   "outputs": [],
   "source": [
    "fildf_y = fildf.loc[:,yfeatures]"
   ]
  },
  {
   "cell_type": "code",
   "execution_count": 12,
   "metadata": {},
   "outputs": [
    {
     "data": {
      "text/plain": [
       "(882, 32)"
      ]
     },
     "execution_count": 12,
     "metadata": {},
     "output_type": "execute_result"
    }
   ],
   "source": [
    "fildf_x.shape"
   ]
  },
  {
   "cell_type": "code",
   "execution_count": 13,
   "metadata": {},
   "outputs": [
    {
     "data": {
      "text/plain": [
       "(882, 32)"
      ]
     },
     "execution_count": 13,
     "metadata": {},
     "output_type": "execute_result"
    }
   ],
   "source": [
    "fildf_y.shape"
   ]
  },
  {
   "cell_type": "code",
   "execution_count": 14,
   "metadata": {},
   "outputs": [],
   "source": [
    "def convertmarks(mark):\n",
    "    if mark<10:\n",
    "        return 'B'\n",
    "    else:\n",
    "        return 'A'"
   ]
  },
  {
   "cell_type": "code",
   "execution_count": 15,
   "metadata": {},
   "outputs": [],
   "source": [
    "newlist=[]\n",
    "for i in fildf_x['G1.x']:\n",
    "    x = convertmarks(i)\n",
    "    newlist.append(x)\n",
    "fildf_x['New G1'] = newlist"
   ]
  },
  {
   "cell_type": "code",
   "execution_count": 16,
   "metadata": {},
   "outputs": [],
   "source": [
    "newlist=[]\n",
    "for i in fildf_y['G1.y']:\n",
    "    x = convertmarks(i)\n",
    "    newlist.append(x)\n",
    "fildf_y['New G1'] = newlist"
   ]
  },
  {
   "cell_type": "code",
   "execution_count": 17,
   "metadata": {},
   "outputs": [],
   "source": [
    "newlist=[]\n",
    "for i in fildf_x['G3.x']:\n",
    "    x = convertmarks(i)\n",
    "    newlist.append(x)\n",
    "fildf_x['New G3'] = newlist"
   ]
  },
  {
   "cell_type": "code",
   "execution_count": 18,
   "metadata": {},
   "outputs": [],
   "source": [
    "newlist=[]\n",
    "for i in fildf_y['G3.y']:\n",
    "    x = convertmarks(i)\n",
    "    newlist.append(x)\n",
    "fildf_y['New G3'] = newlist"
   ]
  },
  {
   "cell_type": "code",
   "execution_count": 19,
   "metadata": {},
   "outputs": [
    {
     "data": {
      "text/plain": [
       "0      A\n",
       "1      A\n",
       "2      A\n",
       "3      A\n",
       "4      A\n",
       "      ..\n",
       "877    A\n",
       "878    A\n",
       "879    A\n",
       "880    A\n",
       "881    A\n",
       "Name: New G3, Length: 882, dtype: object"
      ]
     },
     "execution_count": 19,
     "metadata": {},
     "output_type": "execute_result"
    }
   ],
   "source": [
    "fildf_y['New G3']"
   ]
  },
  {
   "cell_type": "code",
   "execution_count": 20,
   "metadata": {},
   "outputs": [],
   "source": [
    "label_encoder = preprocessing.LabelEncoder()"
   ]
  },
  {
   "cell_type": "code",
   "execution_count": 21,
   "metadata": {},
   "outputs": [],
   "source": [
    "fildf_x['New G1']= label_encoder.fit_transform(fildf_x['New G1'])\n",
    "fildf_y['New G1']= label_encoder.fit_transform(fildf_y['New G1'])\n",
    "fildf_x['New G3']= label_encoder.fit_transform(fildf_x['New G3'])\n",
    "fildf_y['New G3']= label_encoder.fit_transform(fildf_y['New G3'])"
   ]
  },
  {
   "cell_type": "code",
   "execution_count": 22,
   "metadata": {},
   "outputs": [
    {
     "data": {
      "text/plain": [
       "0      0\n",
       "1      0\n",
       "2      0\n",
       "3      0\n",
       "4      0\n",
       "      ..\n",
       "877    0\n",
       "878    0\n",
       "879    0\n",
       "880    0\n",
       "881    0\n",
       "Name: New G3, Length: 882, dtype: int64"
      ]
     },
     "execution_count": 22,
     "metadata": {},
     "output_type": "execute_result"
    }
   ],
   "source": [
    "fildf_y['New G3']"
   ]
  },
  {
   "cell_type": "code",
   "execution_count": 23,
   "metadata": {},
   "outputs": [],
   "source": [
    "fildf_x = fildf_x.sample(frac=1,random_state=123)\n",
    "fildf_y = fildf_y.sample(frac=1,random_state=123)"
   ]
  },
  {
   "cell_type": "code",
   "execution_count": 24,
   "metadata": {},
   "outputs": [],
   "source": [
    "fildf_x = fildf_x.drop(['G1.x','G3.x'],axis=1)\n",
    "fildf_y = fildf_y.drop(['G1.y','G3.y'],axis=1)"
   ]
  },
  {
   "cell_type": "code",
   "execution_count": 25,
   "metadata": {},
   "outputs": [],
   "source": [
    "features_x_G3 = fildf_x.drop(['New G1','New G3'],axis=1)\n",
    "features_x_G1 = fildf_x.drop(['New G1','New G3'],axis=1)\n",
    "features_y_G3 = fildf_y.drop(['New G1','New G3'],axis=1)\n",
    "features_y_G1 = fildf_y.drop(['New G1','New G3'],axis=1)"
   ]
  },
  {
   "cell_type": "code",
   "execution_count": 26,
   "metadata": {},
   "outputs": [],
   "source": [
    "target_x_G3 = fildf_x['New G3']\n",
    "target_x_G1 = fildf_x['New G1']\n",
    "target_y_G3 = fildf_y['New G3']\n",
    "target_y_G1 = fildf_y['New G1']"
   ]
  },
  {
   "cell_type": "code",
   "execution_count": 27,
   "metadata": {},
   "outputs": [],
   "source": [
    "X_train_x_G1, X_test_x_G1, y_train_x_G1, y_test_x_G1 = train_test_split(features_x_G1, target_x_G1, test_size=0.25, random_state=0)\n",
    "X_train_y_G1, X_test_y_G1, y_train_y_G1, y_test_y_G1 = train_test_split(features_y_G1, target_y_G1, test_size=0.25, random_state=0)"
   ]
  },
  {
   "cell_type": "code",
   "execution_count": 28,
   "metadata": {},
   "outputs": [],
   "source": [
    "X_train_x_G3, X_test_x_G3, y_train_x_G3, y_test_x_G3 = train_test_split(features_x_G3, target_x_G3, test_size=0.25, random_state=0)\n",
    "X_train_y_G3, X_test_y_G3, y_train_y_G3, y_test_y_G3 = train_test_split(features_y_G3, target_y_G3, test_size=0.25, random_state=0)"
   ]
  },
  {
   "cell_type": "markdown",
   "metadata": {},
   "source": [
    "### SVM"
   ]
  },
  {
   "cell_type": "code",
   "execution_count": 29,
   "metadata": {},
   "outputs": [],
   "source": [
    "param_grid_svc = {'C': [0.1,1, 10, 100], 'gamma': [1,0.1,0.01,0.001],'kernel': ['linear','rbf', 'poly', 'sigmoid']}\n",
    "cv = RepeatedStratifiedKFold(n_splits=10, n_repeats=3, random_state=1)"
   ]
  },
  {
   "cell_type": "code",
   "execution_count": 30,
   "metadata": {},
   "outputs": [
    {
     "name": "stdout",
     "output_type": "stream",
     "text": [
      "Fitting 30 folds for each of 64 candidates, totalling 1920 fits\n"
     ]
    },
    {
     "name": "stderr",
     "output_type": "stream",
     "text": [
      "[Parallel(n_jobs=-1)]: Using backend LokyBackend with 8 concurrent workers.\n",
      "[Parallel(n_jobs=-1)]: Done  25 tasks      | elapsed:    1.6s\n",
      "[Parallel(n_jobs=-1)]: Done 602 tasks      | elapsed:    6.4s\n",
      "[Parallel(n_jobs=-1)]: Done 1565 tasks      | elapsed:   24.1s\n"
     ]
    },
    {
     "name": "stdout",
     "output_type": "stream",
     "text": [
      "SVC(C=0.1, break_ties=False, cache_size=200, class_weight=None, coef0=0.0,\n",
      "    decision_function_shape='ovr', degree=3, gamma=1, kernel='linear',\n",
      "    max_iter=-1, probability=False, random_state=None, shrinking=True,\n",
      "    tol=0.001, verbose=False)\n",
      "              precision    recall  f1-score   support\n",
      "\n",
      "           0       0.99      0.87      0.92       186\n",
      "           1       0.57      0.94      0.71        35\n",
      "\n",
      "    accuracy                           0.88       221\n",
      "   macro avg       0.78      0.90      0.82       221\n",
      "weighted avg       0.92      0.88      0.89       221\n",
      "\n",
      "[[161   2]\n",
      " [ 25  33]]\n",
      "Kappa Score: 0.6382101497605044\n"
     ]
    },
    {
     "name": "stderr",
     "output_type": "stream",
     "text": [
      "[Parallel(n_jobs=-1)]: Done 1920 out of 1920 | elapsed:   37.7s finished\n"
     ]
    }
   ],
   "source": [
    "grid_svc_x_G1 = GridSearchCV(SVC(),param_grid = param_grid_svc,refit=True,verbose=2,n_jobs=-1, cv=cv, scoring='accuracy',error_score=0)\n",
    "grid_svc_x_G1.fit(X_train_x_G1,y_train_x_G1)\n",
    "print(grid_svc_x_G1.best_estimator_)\n",
    "y_pred_x_G1= grid_svc_x_G1.predict(X_test_x_G1)\n",
    "print(classification_report(y_pred_x_G1,y_test_x_G1,zero_division='warn'))\n",
    "print(confusion_matrix(y_test_x_G1,y_pred_x_G1))\n",
    "print(\"Kappa Score: \" +str(cohen_kappa_score(y_pred_x_G1,y_test_x_G1)))"
   ]
  },
  {
   "cell_type": "code",
   "execution_count": 31,
   "metadata": {},
   "outputs": [
    {
     "name": "stdout",
     "output_type": "stream",
     "text": [
      "Fitting 30 folds for each of 64 candidates, totalling 1920 fits\n"
     ]
    },
    {
     "name": "stderr",
     "output_type": "stream",
     "text": [
      "[Parallel(n_jobs=-1)]: Using backend LokyBackend with 8 concurrent workers.\n",
      "[Parallel(n_jobs=-1)]: Done 160 tasks      | elapsed:    1.3s\n",
      "[Parallel(n_jobs=-1)]: Done 1112 tasks      | elapsed:   15.1s\n",
      "[Parallel(n_jobs=-1)]: Done 1603 tasks      | elapsed:   32.7s\n"
     ]
    },
    {
     "name": "stdout",
     "output_type": "stream",
     "text": [
      "SVC(C=0.1, break_ties=False, cache_size=200, class_weight=None, coef0=0.0,\n",
      "    decision_function_shape='ovr', degree=3, gamma=1, kernel='linear',\n",
      "    max_iter=-1, probability=False, random_state=None, shrinking=True,\n",
      "    tol=0.001, verbose=False)\n",
      "              precision    recall  f1-score   support\n",
      "\n",
      "           0       0.97      0.85      0.91       170\n",
      "           1       0.65      0.90      0.75        51\n",
      "\n",
      "    accuracy                           0.86       221\n",
      "   macro avg       0.81      0.88      0.83       221\n",
      "weighted avg       0.89      0.86      0.87       221\n",
      "\n",
      "[[145   5]\n",
      " [ 25  46]]\n",
      "Kappa Score: 0.6637931034482758\n"
     ]
    },
    {
     "name": "stderr",
     "output_type": "stream",
     "text": [
      "[Parallel(n_jobs=-1)]: Done 1905 out of 1920 | elapsed:   46.8s remaining:    0.4s\n",
      "[Parallel(n_jobs=-1)]: Done 1920 out of 1920 | elapsed:   46.8s finished\n"
     ]
    }
   ],
   "source": [
    "grid_svc_x_G3 = GridSearchCV(SVC(),param_grid = param_grid_svc,refit=True,verbose=2,n_jobs=-1, cv=cv, scoring='accuracy',error_score=0)\n",
    "grid_svc_x_G3.fit(X_train_x_G3,y_train_x_G3)\n",
    "print(grid_svc_x_G3.best_estimator_)\n",
    "y_pred_x_G3= grid_svc_x_G3.predict(X_test_x_G3)\n",
    "print(classification_report(y_pred_x_G3,y_test_x_G3,zero_division='warn'))\n",
    "print(confusion_matrix(y_test_x_G3,y_pred_x_G3))\n",
    "print(\"Kappa Score: \" +str(cohen_kappa_score(y_pred_x_G3,y_test_x_G3)))"
   ]
  },
  {
   "cell_type": "code",
   "execution_count": 32,
   "metadata": {},
   "outputs": [
    {
     "name": "stdout",
     "output_type": "stream",
     "text": [
      "Fitting 30 folds for each of 64 candidates, totalling 1920 fits\n"
     ]
    },
    {
     "name": "stderr",
     "output_type": "stream",
     "text": [
      "[Parallel(n_jobs=-1)]: Using backend LokyBackend with 8 concurrent workers.\n",
      "[Parallel(n_jobs=-1)]: Done 214 tasks      | elapsed:    1.1s\n",
      "[Parallel(n_jobs=-1)]: Done 1705 tasks      | elapsed:   42.2s\n"
     ]
    },
    {
     "name": "stdout",
     "output_type": "stream",
     "text": [
      "SVC(C=1, break_ties=False, cache_size=200, class_weight=None, coef0=0.0,\n",
      "    decision_function_shape='ovr', degree=3, gamma=1, kernel='linear',\n",
      "    max_iter=-1, probability=False, random_state=None, shrinking=True,\n",
      "    tol=0.001, verbose=False)\n",
      "              precision    recall  f1-score   support\n",
      "\n",
      "           0       1.00      0.97      0.98       213\n",
      "           1       0.54      0.88      0.67         8\n",
      "\n",
      "    accuracy                           0.97       221\n",
      "   macro avg       0.77      0.92      0.83       221\n",
      "weighted avg       0.98      0.97      0.97       221\n",
      "\n",
      "[[207   1]\n",
      " [  6   7]]\n",
      "Kappa Score: 0.6510263929618768\n"
     ]
    },
    {
     "name": "stderr",
     "output_type": "stream",
     "text": [
      "[Parallel(n_jobs=-1)]: Done 1920 out of 1920 | elapsed:  1.1min finished\n"
     ]
    }
   ],
   "source": [
    "grid_svc_y_G1 = GridSearchCV(SVC(),param_grid = param_grid_svc,refit=True,verbose=2,n_jobs=-1, cv=cv, scoring='accuracy',error_score=0)\n",
    "grid_svc_y_G1.fit(X_train_y_G1,y_train_y_G1)\n",
    "print(grid_svc_y_G1.best_estimator_)\n",
    "y_pred_y_G1= grid_svc_y_G1.predict(X_test_y_G1)\n",
    "print(classification_report(y_pred_y_G1,y_test_y_G1,zero_division='warn'))\n",
    "print(confusion_matrix(y_test_y_G1,y_pred_y_G1))\n",
    "print(\"Kappa Score: \" +str(cohen_kappa_score(y_pred_y_G1,y_test_y_G1)))"
   ]
  },
  {
   "cell_type": "code",
   "execution_count": 33,
   "metadata": {},
   "outputs": [
    {
     "name": "stderr",
     "output_type": "stream",
     "text": [
      "[Parallel(n_jobs=-1)]: Using backend LokyBackend with 8 concurrent workers.\n"
     ]
    },
    {
     "name": "stdout",
     "output_type": "stream",
     "text": [
      "Fitting 30 folds for each of 64 candidates, totalling 1920 fits\n"
     ]
    },
    {
     "name": "stderr",
     "output_type": "stream",
     "text": [
      "[Parallel(n_jobs=-1)]: Done 196 tasks      | elapsed:    1.0s\n",
      "[Parallel(n_jobs=-1)]: Done 1820 tasks      | elapsed:   26.2s\n",
      "[Parallel(n_jobs=-1)]: Done 1905 out of 1920 | elapsed:   28.0s remaining:    0.2s\n"
     ]
    },
    {
     "name": "stdout",
     "output_type": "stream",
     "text": [
      "SVC(C=10, break_ties=False, cache_size=200, class_weight=None, coef0=0.0,\n",
      "    decision_function_shape='ovr', degree=3, gamma=0.01, kernel='rbf',\n",
      "    max_iter=-1, probability=False, random_state=None, shrinking=True,\n",
      "    tol=0.001, verbose=False)\n",
      "              precision    recall  f1-score   support\n",
      "\n",
      "           0       1.00      0.97      0.99       217\n",
      "           1       0.40      1.00      0.57         4\n",
      "\n",
      "    accuracy                           0.97       221\n",
      "   macro avg       0.70      0.99      0.78       221\n",
      "weighted avg       0.99      0.97      0.98       221\n",
      "\n",
      "[[211   0]\n",
      " [  6   4]]\n",
      "Kappa Score: 0.5600530856005309\n"
     ]
    },
    {
     "name": "stderr",
     "output_type": "stream",
     "text": [
      "[Parallel(n_jobs=-1)]: Done 1920 out of 1920 | elapsed:   28.6s finished\n"
     ]
    }
   ],
   "source": [
    "grid_svc_y_G3 = GridSearchCV(SVC(),param_grid = param_grid_svc,refit=True,verbose=2,n_jobs=-1, cv=cv, scoring='accuracy',error_score=0)\n",
    "grid_svc_y_G3.fit(X_train_y_G3,y_train_y_G3)\n",
    "print(grid_svc_y_G3.best_estimator_)\n",
    "y_pred_y_G3= grid_svc_y_G3.predict(X_test_y_G3)\n",
    "print(metrics.classification_report(y_pred_y_G3,y_test_y_G3,zero_division='warn'))\n",
    "print(confusion_matrix(y_test_y_G3,y_pred_y_G3))\n",
    "print(\"Kappa Score: \" +str(cohen_kappa_score(y_pred_y_G3,y_test_y_G3)))"
   ]
  },
  {
   "cell_type": "markdown",
   "metadata": {},
   "source": [
    "### Gradient Boosting"
   ]
  },
  {
   "cell_type": "code",
   "execution_count": 71,
   "metadata": {},
   "outputs": [],
   "source": [
    "gbc = GradientBoostingClassifier()\n",
    "parameters_gbc = {\n",
    "    \"n_estimators\":[5,50,250,500],\n",
    "    \"max_depth\":[1,3,5,7,9],\n",
    "    \"learning_rate\":[0.01,0.1,1,10,100]\n",
    "}\n",
    "cv = RepeatedStratifiedKFold(n_splits=10, n_repeats=3, random_state=1)"
   ]
  },
  {
   "cell_type": "code",
   "execution_count": 72,
   "metadata": {},
   "outputs": [
    {
     "name": "stdout",
     "output_type": "stream",
     "text": [
      "Fitting 30 folds for each of 100 candidates, totalling 3000 fits\n"
     ]
    },
    {
     "name": "stderr",
     "output_type": "stream",
     "text": [
      "[Parallel(n_jobs=-1)]: Using backend LokyBackend with 8 concurrent workers.\n",
      "[Parallel(n_jobs=-1)]: Done  25 tasks      | elapsed:    2.5s\n",
      "[Parallel(n_jobs=-1)]: Done 322 tasks      | elapsed:   15.1s\n",
      "[Parallel(n_jobs=-1)]: Done 555 tasks      | elapsed:   48.8s\n",
      "[Parallel(n_jobs=-1)]: Done 1032 tasks      | elapsed:  1.6min\n",
      "[Parallel(n_jobs=-1)]: Done 1609 tasks      | elapsed:  2.1min\n",
      "[Parallel(n_jobs=-1)]: Done 2304 tasks      | elapsed:  2.7min\n",
      "[Parallel(n_jobs=-1)]: Done 3000 out of 3000 | elapsed:  3.8min finished\n"
     ]
    },
    {
     "name": "stdout",
     "output_type": "stream",
     "text": [
      "GradientBoostingClassifier(ccp_alpha=0.0, criterion='friedman_mse', init=None,\n",
      "                           learning_rate=0.01, loss='deviance', max_depth=3,\n",
      "                           max_features=None, max_leaf_nodes=None,\n",
      "                           min_impurity_decrease=0.0, min_impurity_split=None,\n",
      "                           min_samples_leaf=1, min_samples_split=2,\n",
      "                           min_weight_fraction_leaf=0.0, n_estimators=250,\n",
      "                           n_iter_no_change=None, presort='deprecated',\n",
      "                           random_state=None, subsample=1.0, tol=0.0001,\n",
      "                           validation_fraction=0.1, verbose=0,\n",
      "                           warm_start=False)\n",
      "              precision    recall  f1-score   support\n",
      "\n",
      "           0       0.99      0.87      0.92       186\n",
      "           1       0.57      0.94      0.71        35\n",
      "\n",
      "    accuracy                           0.88       221\n",
      "   macro avg       0.78      0.90      0.82       221\n",
      "weighted avg       0.92      0.88      0.89       221\n",
      "\n",
      "[[161   2]\n",
      " [ 25  33]]\n",
      "Kappa Score: 0.6382101497605044\n"
     ]
    }
   ],
   "source": [
    "grid_gbc_x_G1 = GridSearchCV(gbc,param_grid = parameters_gbc,refit=True,verbose=2,n_jobs=-1, cv=cv, scoring='accuracy',error_score=0)\n",
    "grid_gbc_x_G1.fit(X_train_x_G1,y_train_x_G1)\n",
    "print(grid_gbc_x_G1.best_estimator_)\n",
    "y_pred_x_G1= grid_gbc_x_G1.predict(X_test_x_G1)\n",
    "print(classification_report(y_pred_x_G1,y_test_x_G1,zero_division='warn'))\n",
    "print(confusion_matrix(y_test_x_G1,y_pred_x_G1))\n",
    "print(\"Kappa Score: \" +str(cohen_kappa_score(y_pred_x_G1,y_test_x_G1)))"
   ]
  },
  {
   "cell_type": "code",
   "execution_count": 36,
   "metadata": {},
   "outputs": [
    {
     "name": "stdout",
     "output_type": "stream",
     "text": [
      "Fitting 30 folds for each of 100 candidates, totalling 3000 fits\n"
     ]
    },
    {
     "name": "stderr",
     "output_type": "stream",
     "text": [
      "[Parallel(n_jobs=-1)]: Using backend LokyBackend with 8 concurrent workers.\n",
      "[Parallel(n_jobs=-1)]: Done 214 tasks      | elapsed:    8.3s\n",
      "/opt/anaconda3/lib/python3.7/site-packages/joblib/externals/loky/process_executor.py:706: UserWarning: A worker stopped while some jobs were given to the executor. This can be caused by a too short worker timeout or by a memory leak.\n",
      "  \"timeout or by a memory leak.\", UserWarning\n",
      "[Parallel(n_jobs=-1)]: Done 714 tasks      | elapsed:  1.1min\n",
      "[Parallel(n_jobs=-1)]: Done 1053 tasks      | elapsed:  1.6min\n",
      "[Parallel(n_jobs=-1)]: Done 1517 tasks      | elapsed:  1.9min\n",
      "[Parallel(n_jobs=-1)]: Done 2150 tasks      | elapsed:  2.4min\n",
      "[Parallel(n_jobs=-1)]: Done 2973 tasks      | elapsed:  3.5min\n",
      "[Parallel(n_jobs=-1)]: Done 3000 out of 3000 | elapsed:  3.7min finished\n"
     ]
    },
    {
     "name": "stdout",
     "output_type": "stream",
     "text": [
      "GradientBoostingClassifier(ccp_alpha=0.0, criterion='friedman_mse', init=None,\n",
      "                           learning_rate=0.01, loss='deviance', max_depth=1,\n",
      "                           max_features=None, max_leaf_nodes=None,\n",
      "                           min_impurity_decrease=0.0, min_impurity_split=None,\n",
      "                           min_samples_leaf=1, min_samples_split=2,\n",
      "                           min_weight_fraction_leaf=0.0, n_estimators=500,\n",
      "                           n_iter_no_change=None, presort='deprecated',\n",
      "                           random_state=None, subsample=1.0, tol=0.0001,\n",
      "                           validation_fraction=0.1, verbose=0,\n",
      "                           warm_start=False)\n",
      "              precision    recall  f1-score   support\n",
      "\n",
      "           0       0.97      0.85      0.91       170\n",
      "           1       0.65      0.90      0.75        51\n",
      "\n",
      "    accuracy                           0.86       221\n",
      "   macro avg       0.81      0.88      0.83       221\n",
      "weighted avg       0.89      0.86      0.87       221\n",
      "\n",
      "[[145   5]\n",
      " [ 25  46]]\n",
      "Kappa Score: 0.6637931034482758\n"
     ]
    }
   ],
   "source": [
    "grid_gbc_x_G3 = GridSearchCV(gbc,param_grid = parameters_gbc,refit=True,verbose=2,n_jobs=-1, cv=cv, scoring='accuracy',error_score=0)\n",
    "grid_gbc_x_G3.fit(X_train_x_G3,y_train_x_G3)\n",
    "print(grid_gbc_x_G3.best_estimator_)\n",
    "y_pred_x_G3= grid_gbc_x_G3.predict(X_test_x_G3)\n",
    "print(classification_report(y_pred_x_G3,y_test_x_G3,zero_division='warn'))\n",
    "print(confusion_matrix(y_test_x_G3,y_pred_x_G3))\n",
    "print(\"Kappa Score: \" +str(cohen_kappa_score(y_pred_x_G3,y_test_x_G3)))"
   ]
  },
  {
   "cell_type": "code",
   "execution_count": 37,
   "metadata": {},
   "outputs": [
    {
     "name": "stdout",
     "output_type": "stream",
     "text": [
      "Fitting 30 folds for each of 100 candidates, totalling 3000 fits\n"
     ]
    },
    {
     "name": "stderr",
     "output_type": "stream",
     "text": [
      "[Parallel(n_jobs=-1)]: Using backend LokyBackend with 8 concurrent workers.\n",
      "[Parallel(n_jobs=-1)]: Done 268 tasks      | elapsed:   10.1s\n",
      "/opt/anaconda3/lib/python3.7/site-packages/joblib/externals/loky/process_executor.py:706: UserWarning: A worker stopped while some jobs were given to the executor. This can be caused by a too short worker timeout or by a memory leak.\n",
      "  \"timeout or by a memory leak.\", UserWarning\n",
      "[Parallel(n_jobs=-1)]: Done 892 tasks      | elapsed:  1.2min\n",
      "[Parallel(n_jobs=-1)]: Done 1209 tasks      | elapsed:  1.4min\n",
      "[Parallel(n_jobs=-1)]: Done 1976 tasks      | elapsed:  1.7min\n",
      "[Parallel(n_jobs=-1)]: Done 2433 tasks      | elapsed:  2.2min\n",
      "[Parallel(n_jobs=-1)]: Done 2985 out of 3000 | elapsed:  2.7min remaining:    0.8s\n"
     ]
    },
    {
     "name": "stdout",
     "output_type": "stream",
     "text": [
      "GradientBoostingClassifier(ccp_alpha=0.0, criterion='friedman_mse', init=None,\n",
      "                           learning_rate=0.1, loss='deviance', max_depth=1,\n",
      "                           max_features=None, max_leaf_nodes=None,\n",
      "                           min_impurity_decrease=0.0, min_impurity_split=None,\n",
      "                           min_samples_leaf=1, min_samples_split=2,\n",
      "                           min_weight_fraction_leaf=0.0, n_estimators=250,\n",
      "                           n_iter_no_change=None, presort='deprecated',\n",
      "                           random_state=None, subsample=1.0, tol=0.0001,\n",
      "                           validation_fraction=0.1, verbose=0,\n",
      "                           warm_start=False)\n",
      "              precision    recall  f1-score   support\n",
      "\n",
      "           0       1.00      0.96      0.98       215\n",
      "           1       0.38      0.83      0.53         6\n",
      "\n",
      "    accuracy                           0.96       221\n",
      "   macro avg       0.69      0.90      0.75       221\n",
      "weighted avg       0.98      0.96      0.97       221\n",
      "\n",
      "[[207   1]\n",
      " [  8   5]]\n",
      "Kappa Score: 0.5080385852090032\n"
     ]
    },
    {
     "name": "stderr",
     "output_type": "stream",
     "text": [
      "[Parallel(n_jobs=-1)]: Done 3000 out of 3000 | elapsed:  2.8min finished\n"
     ]
    }
   ],
   "source": [
    "grid_gbc_y_G1 = GridSearchCV(gbc,param_grid = parameters_gbc,refit=True,verbose=2,n_jobs=-1, cv=cv, scoring='accuracy',error_score=0)\n",
    "grid_gbc_y_G1.fit(X_train_y_G1,y_train_y_G1)\n",
    "print(grid_gbc_y_G1.best_estimator_)\n",
    "y_pred_y_G1= grid_gbc_y_G1.predict(X_test_y_G1)\n",
    "print(classification_report(y_pred_y_G1,y_test_y_G1,zero_division='warn'))\n",
    "print(confusion_matrix(y_test_y_G1,y_pred_y_G1))\n",
    "print(\"Kappa Score: \" +str(cohen_kappa_score(y_pred_y_G1,y_test_y_G1)))"
   ]
  },
  {
   "cell_type": "code",
   "execution_count": 38,
   "metadata": {},
   "outputs": [
    {
     "name": "stderr",
     "output_type": "stream",
     "text": [
      "[Parallel(n_jobs=-1)]: Using backend LokyBackend with 8 concurrent workers.\n"
     ]
    },
    {
     "name": "stdout",
     "output_type": "stream",
     "text": [
      "Fitting 30 folds for each of 100 candidates, totalling 3000 fits\n"
     ]
    },
    {
     "name": "stderr",
     "output_type": "stream",
     "text": [
      "[Parallel(n_jobs=-1)]: Done 160 tasks      | elapsed:    4.1s\n",
      "[Parallel(n_jobs=-1)]: Done 618 tasks      | elapsed:   47.5s\n",
      "[Parallel(n_jobs=-1)]: Done 928 tasks      | elapsed:   59.6s\n",
      "[Parallel(n_jobs=-1)]: Done 1774 tasks      | elapsed:  1.4min\n",
      "[Parallel(n_jobs=-1)]: Done 2562 tasks      | elapsed:  2.0min\n",
      "[Parallel(n_jobs=-1)]: Done 3000 out of 3000 | elapsed:  2.5min finished\n"
     ]
    },
    {
     "name": "stdout",
     "output_type": "stream",
     "text": [
      "GradientBoostingClassifier(ccp_alpha=0.0, criterion='friedman_mse', init=None,\n",
      "                           learning_rate=0.1, loss='deviance', max_depth=3,\n",
      "                           max_features=None, max_leaf_nodes=None,\n",
      "                           min_impurity_decrease=0.0, min_impurity_split=None,\n",
      "                           min_samples_leaf=1, min_samples_split=2,\n",
      "                           min_weight_fraction_leaf=0.0, n_estimators=250,\n",
      "                           n_iter_no_change=None, presort='deprecated',\n",
      "                           random_state=None, subsample=1.0, tol=0.0001,\n",
      "                           validation_fraction=0.1, verbose=0,\n",
      "                           warm_start=False)\n",
      "              precision    recall  f1-score   support\n",
      "\n",
      "           0       0.98      0.97      0.98       213\n",
      "           1       0.40      0.50      0.44         8\n",
      "\n",
      "    accuracy                           0.95       221\n",
      "   macro avg       0.69      0.74      0.71       221\n",
      "weighted avg       0.96      0.95      0.96       221\n",
      "\n",
      "[[207   4]\n",
      " [  6   4]]\n",
      "Kappa Score: 0.4211629125196438\n"
     ]
    }
   ],
   "source": [
    "grid_gbc_y_G3 = GridSearchCV(gbc,param_grid = parameters_gbc,refit=True,verbose=2,n_jobs=-1, cv=cv, scoring='accuracy',error_score=0)\n",
    "grid_gbc_y_G3.fit(X_train_y_G3,y_train_y_G3)\n",
    "print(grid_gbc_y_G3.best_estimator_)\n",
    "y_pred_y_G3= grid_gbc_y_G3.predict(X_test_y_G3)\n",
    "print(classification_report(y_pred_y_G3,y_test_y_G3,zero_division='warn'))\n",
    "print(confusion_matrix(y_test_y_G3,y_pred_y_G3))\n",
    "print(\"Kappa Score: \" +str(cohen_kappa_score(y_pred_y_G3,y_test_y_G3)))"
   ]
  },
  {
   "cell_type": "markdown",
   "metadata": {},
   "source": [
    "### Logistic Regression"
   ]
  },
  {
   "cell_type": "code",
   "execution_count": 39,
   "metadata": {},
   "outputs": [],
   "source": [
    "lr = LogisticRegression(max_iter=10000)\n",
    "solvers = ['newton-cg', 'lbfgs', 'liblinear']\n",
    "penalty = ['l2']\n",
    "c_values = [100, 10, 1.0, 0.1, 0.01]\n",
    "grid = dict(solver=solvers,penalty=penalty,C=c_values)\n",
    "cv = RepeatedStratifiedKFold(n_splits=10, n_repeats=3, random_state=1)"
   ]
  },
  {
   "cell_type": "code",
   "execution_count": 40,
   "metadata": {},
   "outputs": [
    {
     "name": "stdout",
     "output_type": "stream",
     "text": [
      "LogisticRegression(C=100, class_weight=None, dual=False, fit_intercept=True,\n",
      "                   intercept_scaling=1, l1_ratio=None, max_iter=10000,\n",
      "                   multi_class='auto', n_jobs=None, penalty='l2',\n",
      "                   random_state=None, solver='liblinear', tol=0.0001, verbose=0,\n",
      "                   warm_start=False)\n",
      "              precision    recall  f1-score   support\n",
      "\n",
      "           0       0.98      0.84      0.91       190\n",
      "           1       0.48      0.90      0.63        31\n",
      "\n",
      "    accuracy                           0.85       221\n",
      "   macro avg       0.73      0.87      0.77       221\n",
      "weighted avg       0.91      0.85      0.87       221\n",
      "\n",
      "[[160   3]\n",
      " [ 30  28]]\n",
      "Kappa Score: 0.5462576992471847\n"
     ]
    }
   ],
   "source": [
    "grid_search_lr_x_G1 = GridSearchCV(estimator=lr, param_grid=grid, n_jobs=-1, cv=cv, scoring='accuracy',error_score=0)\n",
    "grid_search_lr_x_G1.fit(X_train_x_G1,y_train_x_G1)\n",
    "print(grid_search_lr_x_G1.best_estimator_)\n",
    "y_pred_x_G1= grid_search_lr_x_G1.predict(X_test_x_G1)\n",
    "print(classification_report(y_pred_x_G1,y_test_x_G1,zero_division='warn'))\n",
    "print(confusion_matrix(y_test_x_G1,y_pred_x_G1))\n",
    "print(\"Kappa Score: \" +str(cohen_kappa_score(y_pred_x_G1,y_test_x_G1)))"
   ]
  },
  {
   "cell_type": "code",
   "execution_count": 41,
   "metadata": {},
   "outputs": [
    {
     "name": "stdout",
     "output_type": "stream",
     "text": [
      "LogisticRegression(C=10, class_weight=None, dual=False, fit_intercept=True,\n",
      "                   intercept_scaling=1, l1_ratio=None, max_iter=10000,\n",
      "                   multi_class='auto', n_jobs=None, penalty='l2',\n",
      "                   random_state=None, solver='liblinear', tol=0.0001, verbose=0,\n",
      "                   warm_start=False)\n",
      "              precision    recall  f1-score   support\n",
      "\n",
      "           0       0.97      0.82      0.89       178\n",
      "           1       0.55      0.91      0.68        43\n",
      "\n",
      "    accuracy                           0.84       221\n",
      "   macro avg       0.76      0.86      0.79       221\n",
      "weighted avg       0.89      0.84      0.85       221\n",
      "\n",
      "[[146   4]\n",
      " [ 32  39]]\n",
      "Kappa Score: 0.5831936295054485\n"
     ]
    }
   ],
   "source": [
    "grid_search_lr_x_G3 = GridSearchCV(estimator=lr, param_grid=grid, n_jobs=-1, cv=cv, scoring='accuracy',error_score=0)\n",
    "grid_search_lr_x_G3.fit(X_train_x_G3,y_train_x_G3)\n",
    "print(grid_search_lr_x_G3.best_estimator_)\n",
    "y_pred_x_G3= grid_search_lr_x_G3.predict(X_test_x_G3)\n",
    "print(classification_report(y_pred_x_G3,y_test_x_G3,zero_division='warn'))\n",
    "print(confusion_matrix(y_test_x_G3,y_pred_x_G3))\n",
    "print(\"Kappa Score: \" +str(cohen_kappa_score(y_pred_x_G3,y_test_x_G3)))"
   ]
  },
  {
   "cell_type": "code",
   "execution_count": 42,
   "metadata": {},
   "outputs": [
    {
     "name": "stdout",
     "output_type": "stream",
     "text": [
      "LogisticRegression(C=100, class_weight=None, dual=False, fit_intercept=True,\n",
      "                   intercept_scaling=1, l1_ratio=None, max_iter=10000,\n",
      "                   multi_class='auto', n_jobs=None, penalty='l2',\n",
      "                   random_state=None, solver='liblinear', tol=0.0001, verbose=0,\n",
      "                   warm_start=False)\n",
      "              precision    recall  f1-score   support\n",
      "\n",
      "           0       0.98      0.97      0.97       211\n",
      "           1       0.46      0.60      0.52        10\n",
      "\n",
      "    accuracy                           0.95       221\n",
      "   macro avg       0.72      0.78      0.75       221\n",
      "weighted avg       0.96      0.95      0.95       221\n",
      "\n",
      "[[204   4]\n",
      " [  7   6]]\n",
      "Kappa Score: 0.49595687331536387\n"
     ]
    }
   ],
   "source": [
    "grid_search_lr_y_G1 = GridSearchCV(estimator=lr, param_grid=grid, n_jobs=-1, cv=cv, scoring='accuracy',error_score=0)\n",
    "grid_search_lr_y_G1.fit(X_train_y_G1,y_train_y_G1)\n",
    "print(grid_search_lr_y_G1.best_estimator_)\n",
    "y_pred_y_G1= grid_search_lr_y_G1.predict(X_test_y_G1)\n",
    "print(classification_report(y_pred_y_G1,y_test_y_G1,zero_division='warn'))\n",
    "print(confusion_matrix(y_test_y_G1,y_pred_y_G1))\n",
    "print(\"Kappa Score: \" +str(cohen_kappa_score(y_pred_y_G1,y_test_y_G1)))"
   ]
  },
  {
   "cell_type": "code",
   "execution_count": 43,
   "metadata": {},
   "outputs": [
    {
     "name": "stdout",
     "output_type": "stream",
     "text": [
      "LogisticRegression(C=1.0, class_weight=None, dual=False, fit_intercept=True,\n",
      "                   intercept_scaling=1, l1_ratio=None, max_iter=10000,\n",
      "                   multi_class='auto', n_jobs=None, penalty='l2',\n",
      "                   random_state=None, solver='newton-cg', tol=0.0001, verbose=0,\n",
      "                   warm_start=False)\n",
      "              precision    recall  f1-score   support\n",
      "\n",
      "           0       0.99      0.97      0.98       214\n",
      "           1       0.40      0.57      0.47         7\n",
      "\n",
      "    accuracy                           0.96       221\n",
      "   macro avg       0.69      0.77      0.72       221\n",
      "weighted avg       0.97      0.96      0.96       221\n",
      "\n",
      "[[208   3]\n",
      " [  6   4]]\n",
      "Kappa Score: 0.4500967652750898\n"
     ]
    }
   ],
   "source": [
    "grid_search_lr_y_G3 = GridSearchCV(estimator=lr, param_grid=grid, n_jobs=-1, cv=cv, scoring='accuracy',error_score=0)\n",
    "grid_search_lr_y_G3.fit(X_train_y_G3,y_train_y_G3)\n",
    "print(grid_search_lr_y_G3.best_estimator_)\n",
    "y_pred_y_G3= grid_search_lr_y_G3.predict(X_test_y_G3)\n",
    "print(classification_report(y_pred_y_G3,y_test_y_G3,zero_division='warn'))\n",
    "print(confusion_matrix(y_test_y_G3,y_pred_y_G3))\n",
    "print(\"Kappa Score: \" +str(cohen_kappa_score(y_pred_y_G3,y_test_y_G3)))"
   ]
  },
  {
   "cell_type": "markdown",
   "metadata": {},
   "source": [
    "### Random Forest"
   ]
  },
  {
   "cell_type": "code",
   "execution_count": 44,
   "metadata": {},
   "outputs": [],
   "source": [
    "# define models and parameters\n",
    "rf = RandomForestClassifier()\n",
    "n_estimators = [10, 100, 1000]\n",
    "max_features = ['sqrt', 'log2']\n",
    "# define grid search\n",
    "grid = dict(n_estimators=n_estimators,max_features=max_features)\n",
    "cv = RepeatedStratifiedKFold(n_splits=10, n_repeats=3, random_state=1)"
   ]
  },
  {
   "cell_type": "code",
   "execution_count": 45,
   "metadata": {},
   "outputs": [
    {
     "name": "stdout",
     "output_type": "stream",
     "text": [
      "RandomForestClassifier(bootstrap=True, ccp_alpha=0.0, class_weight=None,\n",
      "                       criterion='gini', max_depth=None, max_features='sqrt',\n",
      "                       max_leaf_nodes=None, max_samples=None,\n",
      "                       min_impurity_decrease=0.0, min_impurity_split=None,\n",
      "                       min_samples_leaf=1, min_samples_split=2,\n",
      "                       min_weight_fraction_leaf=0.0, n_estimators=1000,\n",
      "                       n_jobs=None, oob_score=False, random_state=None,\n",
      "                       verbose=0, warm_start=False)\n",
      "              precision    recall  f1-score   support\n",
      "\n",
      "           0       0.99      0.87      0.93       187\n",
      "           1       0.57      0.97      0.72        34\n",
      "\n",
      "    accuracy                           0.88       221\n",
      "   macro avg       0.78      0.92      0.82       221\n",
      "weighted avg       0.93      0.88      0.89       221\n",
      "\n",
      "[[162   1]\n",
      " [ 25  33]]\n",
      "Kappa Score: 0.6493775933609959\n"
     ]
    }
   ],
   "source": [
    "grid_search_rf_x_G1 = GridSearchCV(estimator=rf, param_grid=grid, n_jobs=-1, cv=cv, scoring='accuracy',error_score=0)\n",
    "grid_search_rf_x_G1.fit(X_train_x_G1,y_train_x_G1)\n",
    "print(grid_search_rf_x_G1.best_estimator_)\n",
    "y_pred_x_G1= grid_search_rf_x_G1.predict(X_test_x_G1)\n",
    "print(classification_report(y_pred_x_G1,y_test_x_G1,zero_division='warn'))\n",
    "print(confusion_matrix(y_test_x_G1,y_pred_x_G1))\n",
    "print(\"Kappa Score: \" +str(cohen_kappa_score(y_pred_x_G1,y_test_x_G1)))"
   ]
  },
  {
   "cell_type": "code",
   "execution_count": 46,
   "metadata": {},
   "outputs": [
    {
     "name": "stdout",
     "output_type": "stream",
     "text": [
      "RandomForestClassifier(bootstrap=True, ccp_alpha=0.0, class_weight=None,\n",
      "                       criterion='gini', max_depth=None, max_features='sqrt',\n",
      "                       max_leaf_nodes=None, max_samples=None,\n",
      "                       min_impurity_decrease=0.0, min_impurity_split=None,\n",
      "                       min_samples_leaf=1, min_samples_split=2,\n",
      "                       min_weight_fraction_leaf=0.0, n_estimators=1000,\n",
      "                       n_jobs=None, oob_score=False, random_state=None,\n",
      "                       verbose=0, warm_start=False)\n",
      "              precision    recall  f1-score   support\n",
      "\n",
      "           0       0.98      0.85      0.91       173\n",
      "           1       0.63      0.94      0.76        48\n",
      "\n",
      "    accuracy                           0.87       221\n",
      "   macro avg       0.81      0.89      0.83       221\n",
      "weighted avg       0.90      0.87      0.88       221\n",
      "\n",
      "[[147   3]\n",
      " [ 26  45]]\n",
      "Kappa Score: 0.671046553405533\n"
     ]
    }
   ],
   "source": [
    "grid_search_rf_x_G3 = GridSearchCV(estimator=rf, param_grid=grid, n_jobs=-1, cv=cv, scoring='accuracy',error_score=0)\n",
    "grid_search_rf_x_G3.fit(X_train_x_G3,y_train_x_G3)\n",
    "print(grid_search_rf_x_G3.best_estimator_)\n",
    "y_pred_x_G3= grid_search_rf_x_G3.predict(X_test_x_G3)\n",
    "print(classification_report(y_pred_x_G3,y_test_x_G3,zero_division='warn'))\n",
    "print(confusion_matrix(y_test_x_G3,y_pred_x_G3))\n",
    "print(\"Kappa Score: \" +str(cohen_kappa_score(y_pred_x_G3,y_test_x_G3)))"
   ]
  },
  {
   "cell_type": "code",
   "execution_count": 47,
   "metadata": {},
   "outputs": [
    {
     "name": "stderr",
     "output_type": "stream",
     "text": [
      "/opt/anaconda3/lib/python3.7/site-packages/joblib/externals/loky/process_executor.py:706: UserWarning: A worker stopped while some jobs were given to the executor. This can be caused by a too short worker timeout or by a memory leak.\n",
      "  \"timeout or by a memory leak.\", UserWarning\n"
     ]
    },
    {
     "name": "stdout",
     "output_type": "stream",
     "text": [
      "RandomForestClassifier(bootstrap=True, ccp_alpha=0.0, class_weight=None,\n",
      "                       criterion='gini', max_depth=None, max_features='sqrt',\n",
      "                       max_leaf_nodes=None, max_samples=None,\n",
      "                       min_impurity_decrease=0.0, min_impurity_split=None,\n",
      "                       min_samples_leaf=1, min_samples_split=2,\n",
      "                       min_weight_fraction_leaf=0.0, n_estimators=100,\n",
      "                       n_jobs=None, oob_score=False, random_state=None,\n",
      "                       verbose=0, warm_start=False)\n",
      "              precision    recall  f1-score   support\n",
      "\n",
      "           0       1.00      0.95      0.97       220\n",
      "           1       0.08      1.00      0.14         1\n",
      "\n",
      "    accuracy                           0.95       221\n",
      "   macro avg       0.54      0.97      0.56       221\n",
      "weighted avg       1.00      0.95      0.97       221\n",
      "\n",
      "[[208   0]\n",
      " [ 12   1]]\n",
      "Kappa Score: 0.13559322033898302\n"
     ]
    }
   ],
   "source": [
    "grid_search_rf_y_G1 = GridSearchCV(estimator=rf, param_grid=grid, n_jobs=-1, cv=cv, scoring='accuracy',error_score=0)\n",
    "grid_search_rf_y_G1.fit(X_train_y_G1,y_train_y_G1)\n",
    "print(grid_search_rf_y_G1.best_estimator_)\n",
    "y_pred_y_G1= grid_search_rf_y_G1.predict(X_test_y_G1)\n",
    "print(classification_report(y_pred_y_G1,y_test_y_G1,zero_division='warn'))\n",
    "print(confusion_matrix(y_test_y_G1,y_pred_y_G1))\n",
    "print(\"Kappa Score: \" +str(cohen_kappa_score(y_pred_y_G1,y_test_y_G1)))"
   ]
  },
  {
   "cell_type": "code",
   "execution_count": 48,
   "metadata": {},
   "outputs": [
    {
     "name": "stdout",
     "output_type": "stream",
     "text": [
      "RandomForestClassifier(bootstrap=True, ccp_alpha=0.0, class_weight=None,\n",
      "                       criterion='gini', max_depth=None, max_features='sqrt',\n",
      "                       max_leaf_nodes=None, max_samples=None,\n",
      "                       min_impurity_decrease=0.0, min_impurity_split=None,\n",
      "                       min_samples_leaf=1, min_samples_split=2,\n",
      "                       min_weight_fraction_leaf=0.0, n_estimators=100,\n",
      "                       n_jobs=None, oob_score=False, random_state=None,\n",
      "                       verbose=0, warm_start=False)\n",
      "              precision    recall  f1-score   support\n",
      "\n",
      "           0       1.00      0.96      0.98       220\n",
      "           1       0.10      1.00      0.18         1\n",
      "\n",
      "    accuracy                           0.96       221\n",
      "   macro avg       0.55      0.98      0.58       221\n",
      "weighted avg       1.00      0.96      0.98       221\n",
      "\n",
      "[[211   0]\n",
      " [  9   1]]\n",
      "Kappa Score: 0.17503110742430528\n"
     ]
    }
   ],
   "source": [
    "grid_search_rf_y_G3 = GridSearchCV(estimator=rf, param_grid=grid, n_jobs=-1, cv=cv, scoring='accuracy',error_score=0)\n",
    "grid_search_rf_y_G3.fit(X_train_y_G3,y_train_y_G3)\n",
    "print(grid_search_rf_y_G3.best_estimator_)\n",
    "y_pred_y_G3= grid_search_rf_y_G3.predict(X_test_y_G3)\n",
    "print(classification_report(y_pred_y_G3,y_test_y_G3,zero_division='warn'))\n",
    "print(confusion_matrix(y_test_y_G3,y_pred_y_G3))\n",
    "print(\"Kappa Score: \" +str(cohen_kappa_score(y_pred_y_G3,y_test_y_G3)))"
   ]
  },
  {
   "cell_type": "markdown",
   "metadata": {},
   "source": [
    "### Decision Tree"
   ]
  },
  {
   "cell_type": "code",
   "execution_count": 68,
   "metadata": {},
   "outputs": [],
   "source": [
    "dct = DecisionTreeClassifier()\n",
    "param_dist = {\"max_depth\": [1,2,3,4,5],\n",
    "              \"max_features\": ['auto', 'sqrt', 'log2'],\n",
    "              \"min_samples_leaf\": [1,2,3,4,5],\n",
    "              \"min_samples_split\" : [1,2,3,4,5],\n",
    "              \"criterion\": [\"gini\", \"entropy\"]}\n",
    "cv = RepeatedStratifiedKFold(n_splits=10, n_repeats=3, random_state=1)"
   ]
  },
  {
   "cell_type": "code",
   "execution_count": 69,
   "metadata": {},
   "outputs": [
    {
     "name": "stdout",
     "output_type": "stream",
     "text": [
      "DecisionTreeClassifier(ccp_alpha=0.0, class_weight=None, criterion='entropy',\n",
      "                       max_depth=5, max_features='sqrt', max_leaf_nodes=None,\n",
      "                       min_impurity_decrease=0.0, min_impurity_split=None,\n",
      "                       min_samples_leaf=1, min_samples_split=4,\n",
      "                       min_weight_fraction_leaf=0.0, presort='deprecated',\n",
      "                       random_state=None, splitter='best')\n",
      "              precision    recall  f1-score   support\n",
      "\n",
      "           0       0.97      0.82      0.89       192\n",
      "           1       0.41      0.83      0.55        29\n",
      "\n",
      "    accuracy                           0.82       221\n",
      "   macro avg       0.69      0.83      0.72       221\n",
      "weighted avg       0.90      0.82      0.85       221\n",
      "\n",
      "[[158   5]\n",
      " [ 34  24]]\n",
      "Kappa Score: 0.456660152556263\n"
     ]
    }
   ],
   "source": [
    "grid_search_dct_x_G1 = GridSearchCV(estimator=dct, param_grid=param_dist, n_jobs=-1, cv=cv, scoring='accuracy',error_score=0)\n",
    "grid_search_dct_x_G1.fit(X_train_x_G1,y_train_x_G1)\n",
    "print(grid_search_dct_x_G1.best_estimator_)\n",
    "y_pred_x_G1= grid_search_dct_x_G1.predict(X_test_x_G1)\n",
    "print(classification_report(y_pred_x_G1,y_test_x_G1,zero_division='warn'))\n",
    "print(confusion_matrix(y_test_x_G1,y_pred_x_G1))\n",
    "print(\"Kappa Score: \" +str(cohen_kappa_score(y_pred_x_G1,y_test_x_G1)))"
   ]
  },
  {
   "cell_type": "code",
   "execution_count": 70,
   "metadata": {},
   "outputs": [
    {
     "name": "stdout",
     "output_type": "stream",
     "text": [
      "DecisionTreeClassifier(ccp_alpha=0.0, class_weight=None, criterion='gini',\n",
      "                       max_depth=5, max_features='auto', max_leaf_nodes=None,\n",
      "                       min_impurity_decrease=0.0, min_impurity_split=None,\n",
      "                       min_samples_leaf=4, min_samples_split=3,\n",
      "                       min_weight_fraction_leaf=0.0, presort='deprecated',\n",
      "                       random_state=None, splitter='best')\n",
      "              precision    recall  f1-score   support\n",
      "\n",
      "           0       0.96      0.76      0.85       189\n",
      "           1       0.37      0.81      0.50        32\n",
      "\n",
      "    accuracy                           0.77       221\n",
      "   macro avg       0.66      0.79      0.68       221\n",
      "weighted avg       0.87      0.77      0.80       221\n",
      "\n",
      "[[144   6]\n",
      " [ 45  26]]\n",
      "Kappa Score: 0.3813601185575498\n"
     ]
    }
   ],
   "source": [
    "grid_search_dct_x_G3 = GridSearchCV(estimator=dct, param_grid=param_dist, n_jobs=-1, cv=cv, scoring='accuracy',error_score=0)\n",
    "grid_search_dct_x_G3.fit(X_train_x_G3,y_train_x_G3)\n",
    "print(grid_search_dct_x_G3.best_estimator_)\n",
    "y_pred_x_G3= grid_search_dct_x_G3.predict(X_test_x_G3)\n",
    "print(classification_report(y_pred_x_G3,y_test_x_G3,zero_division='warn'))\n",
    "print(confusion_matrix(y_test_x_G3,y_pred_x_G3))\n",
    "print(\"Kappa Score: \" +str(cohen_kappa_score(y_pred_x_G3,y_test_x_G3)))"
   ]
  },
  {
   "cell_type": "code",
   "execution_count": 59,
   "metadata": {},
   "outputs": [
    {
     "name": "stdout",
     "output_type": "stream",
     "text": [
      "DecisionTreeClassifier(ccp_alpha=0.0, class_weight=None, criterion='gini',\n",
      "                       max_depth=2, max_features='sqrt', max_leaf_nodes=None,\n",
      "                       min_impurity_decrease=0.0, min_impurity_split=None,\n",
      "                       min_samples_leaf=5, min_samples_split=4,\n",
      "                       min_weight_fraction_leaf=0.0, presort='deprecated',\n",
      "                       random_state=None, splitter='best')\n",
      "              precision    recall  f1-score   support\n",
      "\n",
      "           0       0.98      0.95      0.97       214\n",
      "           1       0.23      0.43      0.30         7\n",
      "\n",
      "    accuracy                           0.94       221\n",
      "   macro avg       0.61      0.69      0.63       221\n",
      "weighted avg       0.96      0.94      0.95       221\n",
      "\n",
      "[[204   4]\n",
      " [ 10   3]]\n",
      "Kappa Score: 0.26993865030674846\n"
     ]
    }
   ],
   "source": [
    "grid_search_dct_y_G1 = GridSearchCV(estimator=dct, param_grid=param_dist, n_jobs=-1, cv=cv, scoring='accuracy',error_score=0)\n",
    "grid_search_dct_y_G1.fit(X_train_y_G1,y_train_y_G1)\n",
    "print(grid_search_dct_y_G1.best_estimator_)\n",
    "y_pred_y_G1= grid_search_dct_y_G1.predict(X_test_y_G1)\n",
    "print(classification_report(y_pred_y_G1,y_test_y_G1,zero_division='warn'))\n",
    "print(confusion_matrix(y_test_y_G1,y_pred_y_G1))\n",
    "print(\"Kappa Score: \" +str(cohen_kappa_score(y_pred_y_G1,y_test_y_G1)))"
   ]
  },
  {
   "cell_type": "code",
   "execution_count": 61,
   "metadata": {},
   "outputs": [
    {
     "name": "stdout",
     "output_type": "stream",
     "text": [
      "DecisionTreeClassifier(ccp_alpha=0.0, class_weight=None, criterion='entropy',\n",
      "                       max_depth=2, max_features='auto', max_leaf_nodes=None,\n",
      "                       min_impurity_decrease=0.0, min_impurity_split=None,\n",
      "                       min_samples_leaf=5, min_samples_split=3,\n",
      "                       min_weight_fraction_leaf=0.0, presort='deprecated',\n",
      "                       random_state=None, splitter='best')\n",
      "              precision    recall  f1-score   support\n",
      "\n",
      "           0       1.00      0.96      0.98       220\n",
      "           1       0.10      1.00      0.18         1\n",
      "\n",
      "    accuracy                           0.96       221\n",
      "   macro avg       0.55      0.98      0.58       221\n",
      "weighted avg       1.00      0.96      0.98       221\n",
      "\n",
      "[[211   0]\n",
      " [  9   1]]\n",
      "Kappa Score: 0.17503110742430528\n"
     ]
    }
   ],
   "source": [
    "grid_search_dct_y_G3 = GridSearchCV(estimator=dct, param_grid=param_dist, n_jobs=-1, cv=cv, scoring='accuracy',error_score=0)\n",
    "grid_search_dct_y_G3.fit(X_train_y_G3,y_train_y_G3)\n",
    "print(grid_search_dct_y_G3.best_estimator_)\n",
    "y_pred_y_G3= grid_search_rf_y_G3.predict(X_test_y_G3)\n",
    "print(classification_report(y_pred_y_G3,y_test_y_G3,zero_division='warn'))\n",
    "print(confusion_matrix(y_test_y_G3,y_pred_y_G3))\n",
    "print(\"Kappa Score: \" +str(cohen_kappa_score(y_pred_y_G3,y_test_y_G3)))"
   ]
  },
  {
   "cell_type": "markdown",
   "metadata": {},
   "source": [
    "### Gaussian Naive Bayesian"
   ]
  },
  {
   "cell_type": "code",
   "execution_count": 63,
   "metadata": {},
   "outputs": [],
   "source": [
    "clf = GaussianNB()"
   ]
  },
  {
   "cell_type": "code",
   "execution_count": 64,
   "metadata": {},
   "outputs": [
    {
     "name": "stdout",
     "output_type": "stream",
     "text": [
      "              precision    recall  f1-score   support\n",
      "\n",
      "           0       0.93      0.85      0.89       178\n",
      "           1       0.55      0.74      0.63        43\n",
      "\n",
      "    accuracy                           0.83       221\n",
      "   macro avg       0.74      0.80      0.76       221\n",
      "weighted avg       0.86      0.83      0.84       221\n",
      "\n",
      "Kappa Score: 0.5282409277101483\n"
     ]
    }
   ],
   "source": [
    "clf.fit(X_train_x_G1,y_train_x_G1)\n",
    "y_pred_x_G1= clf.predict(X_test_x_G1)\n",
    "print(classification_report(y_pred_x_G1,y_test_x_G1))\n",
    "print(\"Kappa Score: \" +str(cohen_kappa_score(y_pred_x_G1,y_test_x_G1)))\n",
    "probagnbG1x = clf.predict_proba(X_test_x_G1)"
   ]
  },
  {
   "cell_type": "code",
   "execution_count": 65,
   "metadata": {},
   "outputs": [
    {
     "name": "stdout",
     "output_type": "stream",
     "text": [
      "              precision    recall  f1-score   support\n",
      "\n",
      "           0       0.91      0.83      0.87       164\n",
      "           1       0.61      0.75      0.67        57\n",
      "\n",
      "    accuracy                           0.81       221\n",
      "   macro avg       0.76      0.79      0.77       221\n",
      "weighted avg       0.83      0.81      0.82       221\n",
      "\n",
      "Kappa Score: 0.5403585223333663\n"
     ]
    }
   ],
   "source": [
    "clf.fit(X_train_x_G3,y_train_x_G3)\n",
    "y_pred_x_G3= clf.predict(X_test_x_G3)\n",
    "print(classification_report(y_pred_x_G3,y_test_x_G3))\n",
    "print(\"Kappa Score: \" +str(cohen_kappa_score(y_pred_x_G3,y_test_x_G3)))\n",
    "probagnbG3x = clf.predict_proba(X_test_x_G3)"
   ]
  },
  {
   "cell_type": "code",
   "execution_count": 66,
   "metadata": {},
   "outputs": [
    {
     "name": "stdout",
     "output_type": "stream",
     "text": [
      "              precision    recall  f1-score   support\n",
      "\n",
      "           0       0.91      0.98      0.95       193\n",
      "           1       0.77      0.36      0.49        28\n",
      "\n",
      "    accuracy                           0.90       221\n",
      "   macro avg       0.84      0.67      0.72       221\n",
      "weighted avg       0.90      0.90      0.89       221\n",
      "\n",
      "Kappa Score: 0.4430577223088923\n"
     ]
    }
   ],
   "source": [
    "clf.fit(X_train_y_G1,y_train_y_G1)\n",
    "y_pred_y_G1 = clf.predict(X_test_y_G1)\n",
    "print(classification_report(y_pred_y_G1,y_test_y_G1))\n",
    "print(\"Kappa Score: \" +str(cohen_kappa_score(y_pred_y_G1,y_test_y_G1)))\n",
    "probagnbG1y = clf.predict_proba(X_test_y_G1)"
   ]
  },
  {
   "cell_type": "code",
   "execution_count": 67,
   "metadata": {},
   "outputs": [
    {
     "name": "stdout",
     "output_type": "stream",
     "text": [
      "              precision    recall  f1-score   support\n",
      "\n",
      "           0       0.93      0.99      0.96       199\n",
      "           1       0.80      0.36      0.50        22\n",
      "\n",
      "    accuracy                           0.93       221\n",
      "   macro avg       0.87      0.68      0.73       221\n",
      "weighted avg       0.92      0.93      0.92       221\n",
      "\n",
      "Kappa Score: 0.46682750301568154\n"
     ]
    }
   ],
   "source": [
    "clf.fit(X_train_y_G3,y_train_y_G3)\n",
    "y_pred_y_G3 = clf.predict(X_test_y_G3)\n",
    "print(classification_report(y_pred_y_G3,y_test_y_G3))\n",
    "print(\"Kappa Score: \" +str(cohen_kappa_score(y_pred_y_G3,y_test_y_G3)))\n",
    "probagnbG3y = clf.predict_proba(X_test_y_G3)"
   ]
  },
  {
   "cell_type": "code",
   "execution_count": null,
   "metadata": {},
   "outputs": [],
   "source": []
  }
 ],
 "metadata": {
  "kernelspec": {
   "display_name": "Python 3",
   "language": "python",
   "name": "python3"
  },
  "language_info": {
   "codemirror_mode": {
    "name": "ipython",
    "version": 3
   },
   "file_extension": ".py",
   "mimetype": "text/x-python",
   "name": "python",
   "nbconvert_exporter": "python",
   "pygments_lexer": "ipython3",
   "version": "3.7.4"
  }
 },
 "nbformat": 4,
 "nbformat_minor": 4
}
