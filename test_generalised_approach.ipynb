{
 "cells": [
  {
   "cell_type": "code",
   "execution_count": 4,
   "metadata": {},
   "outputs": [],
   "source": [
    "from sklearn.model_selection import train_test_split\n",
    "from sklearn.metrics import accuracy_score\n",
    "from sklearn.neighbors import KNeighborsClassifier\n",
    "from sklearn.tree import DecisionTreeClassifier\n",
    "from sklearn.svm import SVC\n",
    "def convert_marks(datafrm,cl):\n",
    "    mks=list(datafrm[cl])\n",
    "    finmks=[]\n",
    "    for m in mks:\n",
    "        if m in list(range(0,10)):\n",
    "            finmks.append(0)\n",
    "        if m in list(range(10,21)):\n",
    "            finmks.append(1)\n",
    "        #if m in list(range(15,21)):\n",
    "            #finmks.append(2)\n",
    "    return finmks\n",
    "def encode(dfr):\n",
    "    dcols=list(dfr.columns)\n",
    "    for col in dcols[1:]:\n",
    "        if dfr[col].dtype=='object':\n",
    "            dfr[col]=dfr[col].astype('category')\n",
    "            dfr[col]=dfr[col].cat.codes\n",
    "    return dfr\n",
    "def predict_accuracy(datfr,cl):\n",
    "    all_cols=list(datfr.columns)\n",
    "    feature_cols=[]\n",
    "    for i in all_cols:\n",
    "        if i==cl:\n",
    "            break\n",
    "        feature_cols.append(i)\n",
    "    feature_data=datfr[feature_cols]\n",
    "    label_data=datfr[cl]\n",
    "    X_train,X_test,y_train,y_test=train_test_split(feature_data,label_data,test_size=0.33,random_state=42)\n",
    "    #neigh=KNeighborsClassifier(n_neighbors=7)\n",
    "    #neigh=DecisionTreeClassifier()\n",
    "    neigh=SVC(gamma='auto')\n",
    "    neigh.fit(X_train,y_train)\n",
    "    pred_labels=neigh.predict(X_test)\n",
    "    acc_scores=accuracy_score(y_test,pred_labels)\n",
    "    #eature_data[lab]=list(label_data)\n",
    "    return acc_scores\n",
    "\n",
    "\n",
    "            "
   ]
  },
  {
   "cell_type": "code",
   "execution_count": 5,
   "metadata": {},
   "outputs": [
    {
     "name": "stdout",
     "output_type": "stream",
     "text": [
      "original dataset accuracy for 'G1.x' is 0.6456692913385826  \n",
      "bigger dataset accuracy for 'G1.x' is 0.8116438356164384 \n",
      "original dataset accuracy for 'G2.x' is 0.6062992125984252  \n",
      "bigger dataset accuracy for 'G2.x' is 0.8561643835616438 \n",
      "original dataset accuracy for 'G3.x' is 0.6771653543307087  \n",
      "bigger dataset accuracy for 'G3.x' is 0.8732876712328768 \n"
     ]
    }
   ],
   "source": [
    "import pandas as pd\n",
    "small=pd.read_csv('D:\\\\student\\\\merged.csv')\n",
    "big=pd.read_csv('D:\\\\student\\\\final_combined_dataset.csv')\n",
    "small_cols=list(small.columns)\n",
    "big_cols=list(big.columns)\n",
    "sm=small_cols[1:]\n",
    "small_cat=encode(small)\n",
    "acc_score={}\n",
    "labels=['G1.x','G2.x','G3.x']\n",
    "orig_acc=[]\n",
    "exp_acc=[]\n",
    "for lab in labels:\n",
    "    small_cat[lab]=convert_marks(small_cat,lab)\n",
    "    big[lab]=convert_marks(big,lab)\n",
    "for lab in labels:\n",
    "    s=predict_accuracy(small_cat,lab)\n",
    "    b=predict_accuracy(big,lab)\n",
    "    orig_acc.append(s)\n",
    "    exp_acc.append(b)\n",
    "    print('original dataset accuracy for %r is %r  ' % (lab,predict_accuracy(small_cat,lab)))\n",
    "    print('bigger dataset accuracy for %r is %r ' % (lab,predict_accuracy(big,lab)))\n",
    "    "
   ]
  },
  {
   "cell_type": "code",
   "execution_count": 6,
   "metadata": {},
   "outputs": [
    {
     "data": {
      "image/png": "[encoded data removed]",
      "text/plain": [
       "<Figure size 432x288 with 1 Axes>"
      ]
     },
     "metadata": {
      "needs_background": "light"
     },
     "output_type": "display_data"
    }
   ],
   "source": [
    "import matplotlib\n",
    "import matplotlib.pyplot as plt\n",
    "import numpy as np\n",
    "\n",
    "\n",
    "labels = ['G1.x', 'G2.x', 'G3.x']\n",
    "#men_means = [20, 34, 30, 35, 27]\n",
    "#women_means = [25, 32, 34, 20, 25]\n",
    "\n",
    "x = np.arange(len(labels))  # the label locations\n",
    "width = 0.35  # the width of the bars\n",
    "\n",
    "fig, ax = plt.subplots()\n",
    "rects1 = ax.bar(x - width/2, orig_acc, width, label='original dataset')\n",
    "rects2 = ax.bar(x + width/2, exp_acc, width, label='Expanded dataset')\n",
    "\n",
    "# Add some text for labels, title and custom x-axis tick labels, etc.\n",
    "ax.set_ylabel('Accuracies')\n",
    "ax.set_title('Auccarcy in original and expanded dataset')\n",
    "ax.set_xticks(x)\n",
    "ax.set_xticklabels(labels)\n",
    "ax.legend()\n",
    "fig.tight_layout()\n",
    "plt.savefig('comparison.png')\n",
    "plt.show()"
   ]
  },
  {
   "cell_type": "code",
   "execution_count": null,
   "metadata": {},
   "outputs": [],
   "source": []
  },
  {
   "cell_type": "code",
   "execution_count": null,
   "metadata": {},
   "outputs": [],
   "source": []
  },
  {
   "cell_type": "code",
   "execution_count": null,
   "metadata": {},
   "outputs": [],
   "source": []
  },
  {
   "cell_type": "code",
   "execution_count": null,
   "metadata": {},
   "outputs": [],
   "source": []
  }
 ],
 "metadata": {
  "kernelspec": {
   "display_name": "Python 3",
   "language": "python",
   "name": "python3"
  },
  "language_info": {
   "codemirror_mode": {
    "name": "ipython",
    "version": 3
   },
   "file_extension": ".py",
   "mimetype": "text/x-python",
   "name": "python",
   "nbconvert_exporter": "python",
   "pygments_lexer": "ipython3",
   "version": "3.7.3"
  }
 },
 "nbformat": 4,
 "nbformat_minor": 2
}
