{
 "cells": [
  {
   "cell_type": "code",
   "execution_count": 1,
   "metadata": {},
   "outputs": [],
   "source": [
    "import pandas as pd\n",
    "import numpy as np\n",
    "import seaborn as sn\n",
    "import matplotlib.pyplot as plt\n",
    "from sklearn.svm import LinearSVC\n",
    "from sklearn.linear_model import LogisticRegression\n",
    "from sklearn.model_selection import train_test_split\n",
    "from sklearn import preprocessing\n",
    "from sklearn.tree import DecisionTreeClassifier\n",
    "from sklearn.metrics import accuracy_score\n",
    "from sklearn.naive_bayes import GaussianNB\n",
    "from sklearn.ensemble import RandomForestClassifier\n",
    "from sklearn.ensemble import GradientBoostingClassifier\n",
    "from sklearn.metrics import classification_report\n",
    "from sklearn.metrics import cohen_kappa_score\n",
    "import matplotlib.pyplot as plt\n",
    "from scipy.stats import rankdata\n",
    "from sklearn.discriminant_analysis import LinearDiscriminantAnalysis"
   ]
  },
  {
   "cell_type": "code",
   "execution_count": 2,
   "metadata": {},
   "outputs": [],
   "source": [
    "probadf = pd.DataFrame()"
   ]
  },
  {
   "cell_type": "code",
   "execution_count": 3,
   "metadata": {},
   "outputs": [],
   "source": [
    "df = pd.read_csv('final_combined_dataset.csv')"
   ]
  },
  {
   "cell_type": "code",
   "execution_count": 4,
   "metadata": {},
   "outputs": [
    {
     "data": {
      "text/html": [
       "<div>\n",
       "<style scoped>\n",
       "    .dataframe tbody tr th:only-of-type {\n",
       "        vertical-align: middle;\n",
       "    }\n",
       "\n",
       "    .dataframe tbody tr th {\n",
       "        vertical-align: top;\n",
       "    }\n",
       "\n",
       "    .dataframe thead th {\n",
       "        text-align: right;\n",
       "    }\n",
       "</style>\n",
       "<table border=\"1\" class=\"dataframe\">\n",
       "  <thead>\n",
       "    <tr style=\"text-align: right;\">\n",
       "      <th></th>\n",
       "      <th>school</th>\n",
       "      <th>sex</th>\n",
       "      <th>age</th>\n",
       "      <th>address</th>\n",
       "      <th>famsize</th>\n",
       "      <th>Pstatus</th>\n",
       "      <th>Medu</th>\n",
       "      <th>Fedu</th>\n",
       "      <th>Mjob</th>\n",
       "      <th>Fjob</th>\n",
       "      <th>...</th>\n",
       "      <th>famrel.y</th>\n",
       "      <th>freetime.y</th>\n",
       "      <th>goout.y</th>\n",
       "      <th>Dalc.y</th>\n",
       "      <th>Walc.y</th>\n",
       "      <th>health.y</th>\n",
       "      <th>absences.y</th>\n",
       "      <th>G1.y</th>\n",
       "      <th>G2.y</th>\n",
       "      <th>G3.y</th>\n",
       "    </tr>\n",
       "  </thead>\n",
       "  <tbody>\n",
       "    <tr>\n",
       "      <td>0</td>\n",
       "      <td>0</td>\n",
       "      <td>0</td>\n",
       "      <td>15</td>\n",
       "      <td>0</td>\n",
       "      <td>0</td>\n",
       "      <td>1</td>\n",
       "      <td>1</td>\n",
       "      <td>1</td>\n",
       "      <td>0</td>\n",
       "      <td>2</td>\n",
       "      <td>...</td>\n",
       "      <td>3</td>\n",
       "      <td>1</td>\n",
       "      <td>2</td>\n",
       "      <td>1</td>\n",
       "      <td>1</td>\n",
       "      <td>1</td>\n",
       "      <td>4</td>\n",
       "      <td>13</td>\n",
       "      <td>13</td>\n",
       "      <td>13</td>\n",
       "    </tr>\n",
       "    <tr>\n",
       "      <td>1</td>\n",
       "      <td>0</td>\n",
       "      <td>0</td>\n",
       "      <td>15</td>\n",
       "      <td>0</td>\n",
       "      <td>0</td>\n",
       "      <td>1</td>\n",
       "      <td>1</td>\n",
       "      <td>1</td>\n",
       "      <td>2</td>\n",
       "      <td>2</td>\n",
       "      <td>...</td>\n",
       "      <td>3</td>\n",
       "      <td>3</td>\n",
       "      <td>4</td>\n",
       "      <td>2</td>\n",
       "      <td>4</td>\n",
       "      <td>5</td>\n",
       "      <td>2</td>\n",
       "      <td>13</td>\n",
       "      <td>11</td>\n",
       "      <td>11</td>\n",
       "    </tr>\n",
       "    <tr>\n",
       "      <td>2</td>\n",
       "      <td>0</td>\n",
       "      <td>0</td>\n",
       "      <td>15</td>\n",
       "      <td>0</td>\n",
       "      <td>0</td>\n",
       "      <td>1</td>\n",
       "      <td>2</td>\n",
       "      <td>2</td>\n",
       "      <td>0</td>\n",
       "      <td>2</td>\n",
       "      <td>...</td>\n",
       "      <td>4</td>\n",
       "      <td>3</td>\n",
       "      <td>1</td>\n",
       "      <td>1</td>\n",
       "      <td>1</td>\n",
       "      <td>2</td>\n",
       "      <td>8</td>\n",
       "      <td>14</td>\n",
       "      <td>13</td>\n",
       "      <td>12</td>\n",
       "    </tr>\n",
       "    <tr>\n",
       "      <td>3</td>\n",
       "      <td>0</td>\n",
       "      <td>0</td>\n",
       "      <td>15</td>\n",
       "      <td>0</td>\n",
       "      <td>0</td>\n",
       "      <td>1</td>\n",
       "      <td>2</td>\n",
       "      <td>4</td>\n",
       "      <td>3</td>\n",
       "      <td>1</td>\n",
       "      <td>...</td>\n",
       "      <td>4</td>\n",
       "      <td>3</td>\n",
       "      <td>2</td>\n",
       "      <td>1</td>\n",
       "      <td>1</td>\n",
       "      <td>5</td>\n",
       "      <td>2</td>\n",
       "      <td>10</td>\n",
       "      <td>11</td>\n",
       "      <td>10</td>\n",
       "    </tr>\n",
       "    <tr>\n",
       "      <td>4</td>\n",
       "      <td>0</td>\n",
       "      <td>0</td>\n",
       "      <td>15</td>\n",
       "      <td>0</td>\n",
       "      <td>0</td>\n",
       "      <td>1</td>\n",
       "      <td>3</td>\n",
       "      <td>3</td>\n",
       "      <td>3</td>\n",
       "      <td>3</td>\n",
       "      <td>...</td>\n",
       "      <td>4</td>\n",
       "      <td>2</td>\n",
       "      <td>1</td>\n",
       "      <td>2</td>\n",
       "      <td>3</td>\n",
       "      <td>3</td>\n",
       "      <td>2</td>\n",
       "      <td>13</td>\n",
       "      <td>13</td>\n",
       "      <td>13</td>\n",
       "    </tr>\n",
       "  </tbody>\n",
       "</table>\n",
       "<p>5 rows × 53 columns</p>\n",
       "</div>"
      ],
      "text/plain": [
       "   school  sex  age  address  famsize  Pstatus  Medu  Fedu  Mjob  Fjob  ...  \\\n",
       "0       0    0   15        0        0        1     1     1     0     2  ...   \n",
       "1       0    0   15        0        0        1     1     1     2     2  ...   \n",
       "2       0    0   15        0        0        1     2     2     0     2  ...   \n",
       "3       0    0   15        0        0        1     2     4     3     1  ...   \n",
       "4       0    0   15        0        0        1     3     3     3     3  ...   \n",
       "\n",
       "   famrel.y  freetime.y  goout.y  Dalc.y  Walc.y  health.y  absences.y  G1.y  \\\n",
       "0         3           1        2       1       1         1           4    13   \n",
       "1         3           3        4       2       4         5           2    13   \n",
       "2         4           3        1       1       1         2           8    14   \n",
       "3         4           3        2       1       1         5           2    10   \n",
       "4         4           2        1       2       3         3           2    13   \n",
       "\n",
       "   G2.y  G3.y  \n",
       "0    13    13  \n",
       "1    11    11  \n",
       "2    13    12  \n",
       "3    11    10  \n",
       "4    13    13  \n",
       "\n",
       "[5 rows x 53 columns]"
      ]
     },
     "execution_count": 4,
     "metadata": {},
     "output_type": "execute_result"
    }
   ],
   "source": [
    "df.head()"
   ]
  },
  {
   "cell_type": "code",
   "execution_count": 5,
   "metadata": {},
   "outputs": [],
   "source": [
    "df = df.rename(columns = {'Unnamed: 0':'ID'})"
   ]
  },
  {
   "cell_type": "code",
   "execution_count": 6,
   "metadata": {},
   "outputs": [
    {
     "data": {
      "text/plain": [
       "Index(['school', 'sex', 'age', 'address', 'famsize', 'Pstatus', 'Medu', 'Fedu',\n",
       "       'Mjob', 'Fjob', 'reason', 'nursery', 'internet', 'guardian.x',\n",
       "       'traveltime.x', 'studytime.x', 'failures.x', 'schoolsup.x', 'famsup.x',\n",
       "       'paid.x', 'activities.x', 'higher.x', 'romantic.x', 'famrel.x',\n",
       "       'freetime.x', 'goout.x', 'Dalc.x', 'Walc.x', 'health.x', 'absences.x',\n",
       "       'G1.x', 'G2.x', 'G3.x', 'guardian.y', 'traveltime.y', 'studytime.y',\n",
       "       'failures.y', 'schoolsup.y', 'famsup.y', 'paid.y', 'activities.y',\n",
       "       'higher.y', 'romantic.y', 'famrel.y', 'freetime.y', 'goout.y', 'Dalc.y',\n",
       "       'Walc.y', 'health.y', 'absences.y', 'G1.y', 'G2.y', 'G3.y'],\n",
       "      dtype='object')"
      ]
     },
     "execution_count": 6,
     "metadata": {},
     "output_type": "execute_result"
    }
   ],
   "source": [
    "df.columns"
   ]
  },
  {
   "cell_type": "code",
   "execution_count": 7,
   "metadata": {},
   "outputs": [],
   "source": [
    "xfeatures=['school', 'sex', 'age', 'address', 'famsize', 'Pstatus', 'Medu', 'Fedu',\n",
    "       'Mjob', 'Fjob', 'reason', 'nursery', 'internet', 'guardian.x',\n",
    "       'traveltime.x', 'studytime.x', 'failures.x', 'schoolsup.x', 'famsup.x',\n",
    "       'paid.x', 'activities.x', 'higher.x', 'romantic.x', 'famrel.x',\n",
    "       'freetime.x', 'goout.x', 'Dalc.x', 'Walc.x', 'health.x', 'absences.x','G1.x','G3.x']"
   ]
  },
  {
   "cell_type": "code",
   "execution_count": 8,
   "metadata": {},
   "outputs": [],
   "source": [
    "yfeatures = ['school', 'sex', 'age', 'address', 'famsize', 'Pstatus', 'Medu', 'Fedu',\n",
    "       'Mjob', 'Fjob', 'reason', 'nursery', 'internet','guardian.y', 'traveltime.y', 'studytime.y',\n",
    "       'failures.y', 'schoolsup.y', 'famsup.y', 'paid.y', 'activities.y',\n",
    "       'higher.y', 'romantic.y', 'famrel.y', 'freetime.y', 'goout.y', 'Dalc.y',\n",
    "       'Walc.y', 'health.y', 'absences.y','G1.y','G3.y']"
   ]
  },
  {
   "cell_type": "code",
   "execution_count": 9,
   "metadata": {},
   "outputs": [],
   "source": [
    "keepcol = ['school', 'sex', 'age', 'address', 'famsize', 'Pstatus', 'Medu',\n",
    "       'Fedu', 'Mjob', 'Fjob', 'reason', 'nursery', 'internet', 'guardian.x',\n",
    "       'traveltime.x', 'studytime.x', 'failures.x', 'schoolsup.x', 'famsup.x',\n",
    "       'paid.x', 'activities.x', 'higher.x', 'romantic.x', 'famrel.x',\n",
    "       'freetime.x', 'goout.x', 'Dalc.x', 'Walc.x', 'health.x', 'absences.x',\n",
    "       'G1.x', 'G2.x', 'G3.x', 'guardian.y', 'traveltime.y', 'studytime.y',\n",
    "       'failures.y', 'schoolsup.y', 'famsup.y', 'paid.y', 'activities.y',\n",
    "       'higher.y', 'romantic.y', 'famrel.y', 'freetime.y', 'goout.y', 'Dalc.y',\n",
    "       'Walc.y', 'health.y', 'absences.y', 'G1.y', 'G2.y', 'G3.y']"
   ]
  },
  {
   "cell_type": "code",
   "execution_count": 10,
   "metadata": {},
   "outputs": [],
   "source": [
    "fildf = df.loc[:,keepcol]"
   ]
  },
  {
   "cell_type": "code",
   "execution_count": 11,
   "metadata": {},
   "outputs": [],
   "source": [
    "fildf_x = fildf.loc[:,xfeatures]"
   ]
  },
  {
   "cell_type": "code",
   "execution_count": 12,
   "metadata": {},
   "outputs": [],
   "source": [
    "fildf_y = fildf.loc[:,yfeatures]"
   ]
  },
  {
   "cell_type": "code",
   "execution_count": 13,
   "metadata": {},
   "outputs": [
    {
     "data": {
      "text/plain": [
       "(882, 32)"
      ]
     },
     "execution_count": 13,
     "metadata": {},
     "output_type": "execute_result"
    }
   ],
   "source": [
    "fildf_x.shape"
   ]
  },
  {
   "cell_type": "code",
   "execution_count": 14,
   "metadata": {},
   "outputs": [
    {
     "data": {
      "text/plain": [
       "(882, 32)"
      ]
     },
     "execution_count": 14,
     "metadata": {},
     "output_type": "execute_result"
    }
   ],
   "source": [
    "fildf_y.shape"
   ]
  },
  {
   "cell_type": "code",
   "execution_count": 15,
   "metadata": {},
   "outputs": [],
   "source": [
    "def convertmarks(mark):\n",
    "    if mark<10:\n",
    "        return 'B'\n",
    "    else:\n",
    "        return 'A'"
   ]
  },
  {
   "cell_type": "code",
   "execution_count": 16,
   "metadata": {},
   "outputs": [],
   "source": [
    "newlist=[]\n",
    "for i in fildf_x['G1.x']:\n",
    "    x = convertmarks(i)\n",
    "    newlist.append(x)\n",
    "fildf_x['New G1'] = newlist"
   ]
  },
  {
   "cell_type": "code",
   "execution_count": 17,
   "metadata": {},
   "outputs": [],
   "source": [
    "newlist=[]\n",
    "for i in fildf_y['G1.y']:\n",
    "    x = convertmarks(i)\n",
    "    newlist.append(x)\n",
    "fildf_y['New G1'] = newlist"
   ]
  },
  {
   "cell_type": "code",
   "execution_count": 18,
   "metadata": {},
   "outputs": [],
   "source": [
    "newlist=[]\n",
    "for i in fildf_x['G3.x']:\n",
    "    x = convertmarks(i)\n",
    "    newlist.append(x)\n",
    "fildf_x['New G3'] = newlist"
   ]
  },
  {
   "cell_type": "code",
   "execution_count": 19,
   "metadata": {},
   "outputs": [],
   "source": [
    "newlist=[]\n",
    "for i in fildf_y['G3.y']:\n",
    "    x = convertmarks(i)\n",
    "    newlist.append(x)\n",
    "fildf_y['New G3'] = newlist"
   ]
  },
  {
   "cell_type": "code",
   "execution_count": 20,
   "metadata": {},
   "outputs": [
    {
     "data": {
      "text/plain": [
       "0      A\n",
       "1      A\n",
       "2      A\n",
       "3      A\n",
       "4      A\n",
       "      ..\n",
       "877    A\n",
       "878    A\n",
       "879    A\n",
       "880    A\n",
       "881    A\n",
       "Name: New G3, Length: 882, dtype: object"
      ]
     },
     "execution_count": 20,
     "metadata": {},
     "output_type": "execute_result"
    }
   ],
   "source": [
    "fildf_y['New G3']"
   ]
  },
  {
   "cell_type": "code",
   "execution_count": 21,
   "metadata": {},
   "outputs": [],
   "source": [
    "label_encoder = preprocessing.LabelEncoder()"
   ]
  },
  {
   "cell_type": "code",
   "execution_count": 22,
   "metadata": {},
   "outputs": [],
   "source": [
    "fildf_x['New G1']= label_encoder.fit_transform(fildf_x['New G1'])\n",
    "fildf_y['New G1']= label_encoder.fit_transform(fildf_y['New G1'])\n",
    "fildf_x['New G3']= label_encoder.fit_transform(fildf_x['New G3'])\n",
    "fildf_y['New G3']= label_encoder.fit_transform(fildf_y['New G3'])"
   ]
  },
  {
   "cell_type": "code",
   "execution_count": 23,
   "metadata": {},
   "outputs": [
    {
     "data": {
      "text/plain": [
       "0      0\n",
       "1      0\n",
       "2      0\n",
       "3      0\n",
       "4      0\n",
       "      ..\n",
       "877    0\n",
       "878    0\n",
       "879    0\n",
       "880    0\n",
       "881    0\n",
       "Name: New G3, Length: 882, dtype: int64"
      ]
     },
     "execution_count": 23,
     "metadata": {},
     "output_type": "execute_result"
    }
   ],
   "source": [
    "fildf_y['New G3']"
   ]
  },
  {
   "cell_type": "code",
   "execution_count": 24,
   "metadata": {},
   "outputs": [],
   "source": [
    "fildf_x = fildf_x.sample(frac=1,random_state=123)\n",
    "fildf_y = fildf_y.sample(frac=1,random_state=123)"
   ]
  },
  {
   "cell_type": "code",
   "execution_count": 25,
   "metadata": {},
   "outputs": [],
   "source": [
    "fildf_x = fildf_x.drop(['G1.x','G3.x'],axis=1)\n",
    "fildf_y = fildf_y.drop(['G1.y','G3.y'],axis=1)"
   ]
  },
  {
   "cell_type": "code",
   "execution_count": 26,
   "metadata": {},
   "outputs": [],
   "source": [
    "features_x_G3 = fildf_x.drop(['New G1','New G3'],axis=1)\n",
    "features_x_G1 = fildf_x.drop(['New G1','New G3'],axis=1)\n",
    "features_y_G3 = fildf_y.drop(['New G1','New G3'],axis=1)\n",
    "features_y_G1 = fildf_y.drop(['New G1','New G3'],axis=1)"
   ]
  },
  {
   "cell_type": "code",
   "execution_count": 27,
   "metadata": {},
   "outputs": [],
   "source": [
    "target_x_G3 = fildf_x['New G3']\n",
    "target_x_G1 = fildf_x['New G1']\n",
    "target_y_G3 = fildf_y['New G3']\n",
    "target_y_G1 = fildf_y['New G1']"
   ]
  },
  {
   "cell_type": "code",
   "execution_count": 28,
   "metadata": {},
   "outputs": [],
   "source": [
    "X_train_x_G1, X_test_x_G1, y_train_x_G1, y_test_x_G1 = train_test_split(features_x_G1, target_x_G1, test_size=0.25, random_state=0)\n",
    "X_train_y_G1, X_test_y_G1, y_train_y_G1, y_test_y_G1 = train_test_split(features_y_G1, target_y_G1, test_size=0.25, random_state=0)\n"
   ]
  },
  {
   "cell_type": "code",
   "execution_count": 29,
   "metadata": {},
   "outputs": [],
   "source": [
    "X_train_x_G3, X_test_x_G3, y_train_x_G3, y_test_x_G3 = train_test_split(features_x_G3, target_x_G3, test_size=0.25, random_state=0)\n",
    "X_train_y_G3, X_test_y_G3, y_train_y_G3, y_test_y_G3 = train_test_split(features_y_G3, target_y_G3, test_size=0.25, random_state=0)\n"
   ]
  },
  {
   "cell_type": "code",
   "execution_count": 30,
   "metadata": {},
   "outputs": [],
   "source": [
    "# Create a function\n",
    "def select_n_components(var_ratio, goal_var: float) -> int:\n",
    "    # Set initial variance explained so far\n",
    "    total_variance = 0.0\n",
    "    \n",
    "    # Set initial number of features\n",
    "    n_components = 0\n",
    "    \n",
    "    # For the explained variance of each feature:\n",
    "    for explained_variance in var_ratio:\n",
    "        \n",
    "        # Add the explained variance to the total\n",
    "        total_variance += explained_variance\n",
    "        \n",
    "        # Add one to the number of components\n",
    "        n_components += 1\n",
    "        \n",
    "        # If we reach our goal level of explained variance\n",
    "        if total_variance >= goal_var:\n",
    "            # End the loop\n",
    "            break\n",
    "            \n",
    "    # Return the number of components\n",
    "    return n_components"
   ]
  },
  {
   "cell_type": "code",
   "execution_count": 31,
   "metadata": {},
   "outputs": [
    {
     "name": "stdout",
     "output_type": "stream",
     "text": [
      "1\n"
     ]
    }
   ],
   "source": [
    "lda1 = LinearDiscriminantAnalysis(n_components=None)\n",
    "X_train_x_G1 = lda1.fit_transform(X_train_x_G1,y_train_x_G1)\n",
    "X_test_x_G1 = lda1.transform(X_test_x_G1)\n",
    "lda1_var_ratios = lda1.explained_variance_ratio_\n",
    "num1 = select_n_components(lda1_var_ratios, 0.95)\n",
    "lda1 = LinearDiscriminantAnalysis(n_components=num1)\n",
    "X_train_x_G1 = lda1.fit_transform(X_train_x_G1,y_train_x_G1)\n",
    "X_test_x_G1 = lda1.transform(X_test_x_G1)\n",
    "print(num1)"
   ]
  },
  {
   "cell_type": "code",
   "execution_count": 32,
   "metadata": {},
   "outputs": [
    {
     "data": {
      "text/plain": [
       "(661, 1)"
      ]
     },
     "execution_count": 32,
     "metadata": {},
     "output_type": "execute_result"
    }
   ],
   "source": [
    "X_train_x_G1.shape"
   ]
  },
  {
   "cell_type": "code",
   "execution_count": 33,
   "metadata": {},
   "outputs": [
    {
     "name": "stdout",
     "output_type": "stream",
     "text": [
      "1\n"
     ]
    }
   ],
   "source": [
    "lda2 = LinearDiscriminantAnalysis(n_components=None)\n",
    "X_train_x_G3 = lda2.fit_transform(X_train_x_G3,y_train_x_G3)\n",
    "X_test_x_G3 = lda2.transform(X_test_x_G3)\n",
    "lda2_var_ratios = lda2.explained_variance_ratio_\n",
    "num2 = select_n_components(lda2_var_ratios, 0.95)\n",
    "lda2 = LinearDiscriminantAnalysis(n_components=num2)\n",
    "X_train_x_G3 = lda2.fit_transform(X_train_x_G3,y_train_x_G3)\n",
    "X_test_x_G3 = lda2.transform(X_test_x_G3)\n",
    "print(num2)"
   ]
  },
  {
   "cell_type": "code",
   "execution_count": 34,
   "metadata": {},
   "outputs": [
    {
     "name": "stdout",
     "output_type": "stream",
     "text": [
      "1\n"
     ]
    }
   ],
   "source": [
    "lda3 = LinearDiscriminantAnalysis(n_components=None)\n",
    "X_train_y_G1 = lda3.fit_transform(X_train_y_G1,y_train_y_G1)\n",
    "X_test_y_G1 = lda3.transform(X_test_y_G1)\n",
    "lda3_var_ratios = lda3.explained_variance_ratio_\n",
    "num3 = select_n_components(lda3_var_ratios, 0.95)\n",
    "lda3 = LinearDiscriminantAnalysis(n_components=num3)\n",
    "X_train_y_G1 = lda3.fit_transform(X_train_y_G1,y_train_y_G1)\n",
    "X_test_y_G1 = lda3.transform(X_test_y_G1)\n",
    "print(num3)"
   ]
  },
  {
   "cell_type": "code",
   "execution_count": 35,
   "metadata": {},
   "outputs": [
    {
     "name": "stdout",
     "output_type": "stream",
     "text": [
      "1\n"
     ]
    }
   ],
   "source": [
    "lda4 = LinearDiscriminantAnalysis(n_components=None)\n",
    "X_train_y_G3 = lda4.fit_transform(X_train_y_G3,y_train_y_G3)\n",
    "X_test_y_G3 = lda4.transform(X_test_y_G3)\n",
    "lda4_var_ratios = lda4.explained_variance_ratio_\n",
    "num4 = select_n_components(lda4_var_ratios, 0.95)\n",
    "lda4 = LinearDiscriminantAnalysis(n_components=num3)\n",
    "X_train_y_G3 = lda4.fit_transform(X_train_y_G3,y_train_y_G3)\n",
    "X_test_y_G3 = lda4.transform(X_test_y_G3)\n",
    "print(num4)"
   ]
  },
  {
   "cell_type": "code",
   "execution_count": 36,
   "metadata": {},
   "outputs": [
    {
     "data": {
      "text/plain": [
       "(221, 1)"
      ]
     },
     "execution_count": 36,
     "metadata": {},
     "output_type": "execute_result"
    }
   ],
   "source": [
    "X_test_y_G3.shape"
   ]
  },
  {
   "cell_type": "markdown",
   "metadata": {},
   "source": [
    "### Naive Bayes"
   ]
  },
  {
   "cell_type": "code",
   "execution_count": 37,
   "metadata": {},
   "outputs": [],
   "source": [
    "clf = GaussianNB()"
   ]
  },
  {
   "cell_type": "code",
   "execution_count": 38,
   "metadata": {},
   "outputs": [
    {
     "name": "stdout",
     "output_type": "stream",
     "text": [
      "              precision    recall  f1-score   support\n",
      "\n",
      "           0       0.99      0.85      0.91       189\n",
      "           1       0.52      0.94      0.67        32\n",
      "\n",
      "    accuracy                           0.86       221\n",
      "   macro avg       0.75      0.89      0.79       221\n",
      "weighted avg       0.92      0.86      0.88       221\n",
      "\n",
      "Kappa Score: 0.590184200766473\n"
     ]
    }
   ],
   "source": [
    "clf.fit(X_train_x_G1,y_train_x_G1)\n",
    "y_pred_x_G1= clf.predict(X_test_x_G1)\n",
    "print(classification_report(y_pred_x_G1,y_test_x_G1))\n",
    "print(\"Kappa Score: \" +str(cohen_kappa_score(y_pred_x_G1,y_test_x_G1)))\n",
    "probagnbG1x = clf.predict_proba(X_test_x_G1)"
   ]
  },
  {
   "cell_type": "code",
   "execution_count": 39,
   "metadata": {},
   "outputs": [
    {
     "name": "stdout",
     "output_type": "stream",
     "text": [
      "              precision    recall  f1-score   support\n",
      "\n",
      "           0       0.97      0.81      0.88       180\n",
      "           1       0.52      0.90      0.66        41\n",
      "\n",
      "    accuracy                           0.83       221\n",
      "   macro avg       0.75      0.86      0.77       221\n",
      "weighted avg       0.89      0.83      0.84       221\n",
      "\n",
      "Kappa Score: 0.556365557316429\n"
     ]
    }
   ],
   "source": [
    "clf.fit(X_train_x_G3,y_train_x_G3)\n",
    "y_pred_x_G3= clf.predict(X_test_x_G3)\n",
    "print(classification_report(y_pred_x_G3,y_test_x_G3))\n",
    "print(\"Kappa Score: \" +str(cohen_kappa_score(y_pred_x_G3,y_test_x_G3)))\n",
    "probagnbG3x = clf.predict_proba(X_test_x_G3)"
   ]
  },
  {
   "cell_type": "code",
   "execution_count": 40,
   "metadata": {},
   "outputs": [
    {
     "name": "stdout",
     "output_type": "stream",
     "text": [
      "              precision    recall  f1-score   support\n",
      "\n",
      "           0       0.97      0.97      0.97       208\n",
      "           1       0.54      0.54      0.54        13\n",
      "\n",
      "    accuracy                           0.95       221\n",
      "   macro avg       0.75      0.75      0.75       221\n",
      "weighted avg       0.95      0.95      0.95       221\n",
      "\n",
      "Kappa Score: 0.5096153846153846\n"
     ]
    }
   ],
   "source": [
    "clf.fit(X_train_y_G1,y_train_y_G1)\n",
    "y_pred_y_G1 = clf.predict(X_test_y_G1)\n",
    "print(classification_report(y_pred_y_G1,y_test_y_G1))\n",
    "print(\"Kappa Score: \" +str(cohen_kappa_score(y_pred_y_G1,y_test_y_G1)))\n",
    "probagnbG1y = clf.predict_proba(X_test_y_G1)"
   ]
  },
  {
   "cell_type": "code",
   "execution_count": 41,
   "metadata": {},
   "outputs": [
    {
     "name": "stdout",
     "output_type": "stream",
     "text": [
      "              precision    recall  f1-score   support\n",
      "\n",
      "           0       0.99      0.98      0.98       212\n",
      "           1       0.60      0.67      0.63         9\n",
      "\n",
      "    accuracy                           0.97       221\n",
      "   macro avg       0.79      0.82      0.81       221\n",
      "weighted avg       0.97      0.97      0.97       221\n",
      "\n",
      "Kappa Score: 0.615078377705897\n"
     ]
    }
   ],
   "source": [
    "clf.fit(X_train_y_G3,y_train_y_G3)\n",
    "y_pred_y_G3 = clf.predict(X_test_y_G3)\n",
    "print(classification_report(y_pred_y_G3,y_test_y_G3))\n",
    "print(\"Kappa Score: \" +str(cohen_kappa_score(y_pred_y_G3,y_test_y_G3)))\n",
    "probagnbG3y = clf.predict_proba(X_test_y_G3)"
   ]
  },
  {
   "cell_type": "markdown",
   "metadata": {},
   "source": [
    "### Decision Tree"
   ]
  },
  {
   "cell_type": "code",
   "execution_count": 42,
   "metadata": {},
   "outputs": [],
   "source": [
    "dtc = DecisionTreeClassifier()"
   ]
  },
  {
   "cell_type": "code",
   "execution_count": 43,
   "metadata": {},
   "outputs": [
    {
     "name": "stdout",
     "output_type": "stream",
     "text": [
      "              precision    recall  f1-score   support\n",
      "\n",
      "           0       0.92      0.86      0.89       175\n",
      "           1       0.57      0.72      0.63        46\n",
      "\n",
      "    accuracy                           0.83       221\n",
      "   macro avg       0.74      0.79      0.76       221\n",
      "weighted avg       0.85      0.83      0.83       221\n",
      "\n",
      "Kappa Score: 0.5241387126019945\n"
     ]
    }
   ],
   "source": [
    "imp_dict={}\n",
    "dtc.fit(X_train_x_G1,y_train_x_G1)\n",
    "y_pred_x_G1= dtc.predict(X_test_x_G1)\n",
    "probadtcG1x = dtc.predict_proba(X_test_x_G1)\n",
    "print(classification_report(y_pred_x_G1,y_test_x_G1))\n",
    "print(\"Kappa Score: \" +str(cohen_kappa_score(y_pred_x_G1,y_test_x_G1)))"
   ]
  },
  {
   "cell_type": "code",
   "execution_count": 44,
   "metadata": {},
   "outputs": [
    {
     "name": "stdout",
     "output_type": "stream",
     "text": [
      "              precision    recall  f1-score   support\n",
      "\n",
      "           0       0.89      0.83      0.86       160\n",
      "           1       0.62      0.72      0.67        61\n",
      "\n",
      "    accuracy                           0.80       221\n",
      "   macro avg       0.75      0.78      0.76       221\n",
      "weighted avg       0.81      0.80      0.81       221\n",
      "\n",
      "Kappa Score: 0.5258898098488543\n"
     ]
    }
   ],
   "source": [
    "imp_dict={}\n",
    "dtc.fit(X_train_x_G3,y_train_x_G3)\n",
    "y_pred_x_G3= dtc.predict(X_test_x_G3)\n",
    "probadtcG3x = dtc.predict_proba(X_test_x_G3)\n",
    "print(classification_report(y_pred_x_G3,y_test_x_G3))\n",
    "print(\"Kappa Score: \" +str(cohen_kappa_score(y_pred_x_G3,y_test_x_G3)))"
   ]
  },
  {
   "cell_type": "code",
   "execution_count": 45,
   "metadata": {},
   "outputs": [
    {
     "name": "stdout",
     "output_type": "stream",
     "text": [
      "              precision    recall  f1-score   support\n",
      "\n",
      "           0       0.95      0.96      0.95       207\n",
      "           1       0.31      0.29      0.30        14\n",
      "\n",
      "    accuracy                           0.91       221\n",
      "   macro avg       0.63      0.62      0.63       221\n",
      "weighted avg       0.91      0.91      0.91       221\n",
      "\n",
      "Kappa Score: 0.25058004640371223\n"
     ]
    }
   ],
   "source": [
    "imp_dict={}\n",
    "dtc.fit(X_train_y_G1,y_train_y_G1)\n",
    "y_pred_y_G1 = dtc.predict(X_test_y_G1)\n",
    "probadtcG1y = dtc.predict_proba(X_test_y_G1)\n",
    "print(classification_report(y_pred_y_G1,y_test_y_G1))\n",
    "print(\"Kappa Score: \" +str(cohen_kappa_score(y_pred_y_G1,y_test_y_G1)))"
   ]
  },
  {
   "cell_type": "code",
   "execution_count": 46,
   "metadata": {},
   "outputs": [
    {
     "name": "stdout",
     "output_type": "stream",
     "text": [
      "              precision    recall  f1-score   support\n",
      "\n",
      "           0       0.94      0.98      0.96       204\n",
      "           1       0.50      0.29      0.37        17\n",
      "\n",
      "    accuracy                           0.92       221\n",
      "   macro avg       0.72      0.63      0.66       221\n",
      "weighted avg       0.91      0.92      0.91       221\n",
      "\n",
      "Kappa Score: 0.3323262839879154\n"
     ]
    }
   ],
   "source": [
    "imp_dict={}\n",
    "dtc.fit(X_train_y_G3,y_train_y_G3)\n",
    "y_pred_y_G3 = dtc.predict(X_test_y_G3)\n",
    "probadtcG3y = dtc.predict_proba(X_test_y_G3)\n",
    "print(classification_report(y_pred_y_G3,y_test_y_G3))\n",
    "print(\"Kappa Score: \" +str(cohen_kappa_score(y_pred_y_G3,y_test_y_G3)))"
   ]
  },
  {
   "cell_type": "markdown",
   "metadata": {},
   "source": [
    "### Random Forest Classifier"
   ]
  },
  {
   "cell_type": "code",
   "execution_count": 47,
   "metadata": {},
   "outputs": [],
   "source": [
    "rf = RandomForestClassifier()"
   ]
  },
  {
   "cell_type": "code",
   "execution_count": 48,
   "metadata": {},
   "outputs": [
    {
     "name": "stdout",
     "output_type": "stream",
     "text": [
      "              precision    recall  f1-score   support\n",
      "\n",
      "           0       0.92      0.86      0.89       175\n",
      "           1       0.57      0.72      0.63        46\n",
      "\n",
      "    accuracy                           0.83       221\n",
      "   macro avg       0.74      0.79      0.76       221\n",
      "weighted avg       0.85      0.83      0.83       221\n",
      "\n",
      "Kappa Score: 0.5241387126019945\n"
     ]
    }
   ],
   "source": [
    "imp_dict={}\n",
    "rf.fit(X_train_x_G1,y_train_x_G1)\n",
    "y_pred_x_G1= rf.predict(X_test_x_G1)\n",
    "probarfG1x = rf.predict_proba(X_test_x_G1)\n",
    "\n",
    "print(classification_report(y_pred_x_G1,y_test_x_G1))\n",
    "print(\"Kappa Score: \" +str(cohen_kappa_score(y_pred_x_G1,y_test_x_G1)))"
   ]
  },
  {
   "cell_type": "code",
   "execution_count": 49,
   "metadata": {},
   "outputs": [
    {
     "name": "stdout",
     "output_type": "stream",
     "text": [
      "              precision    recall  f1-score   support\n",
      "\n",
      "           0       0.89      0.83      0.86       160\n",
      "           1       0.62      0.72      0.67        61\n",
      "\n",
      "    accuracy                           0.80       221\n",
      "   macro avg       0.75      0.78      0.76       221\n",
      "weighted avg       0.81      0.80      0.81       221\n",
      "\n",
      "Kappa Score: 0.5258898098488543\n"
     ]
    }
   ],
   "source": [
    "imp_dict={}\n",
    "rf.fit(X_train_x_G3,y_train_x_G3)\n",
    "y_pred_x_G3= rf.predict(X_test_x_G3)\n",
    "probarfG3x = rf.predict_proba(X_test_x_G3)\n",
    "\n",
    "print(classification_report(y_pred_x_G3,y_test_x_G3))\n",
    "print(\"Kappa Score: \" +str(cohen_kappa_score(y_pred_x_G3,y_test_x_G3)))"
   ]
  },
  {
   "cell_type": "code",
   "execution_count": 50,
   "metadata": {},
   "outputs": [
    {
     "name": "stdout",
     "output_type": "stream",
     "text": [
      "              precision    recall  f1-score   support\n",
      "\n",
      "           0       0.95      0.96      0.95       207\n",
      "           1       0.31      0.29      0.30        14\n",
      "\n",
      "    accuracy                           0.91       221\n",
      "   macro avg       0.63      0.62      0.63       221\n",
      "weighted avg       0.91      0.91      0.91       221\n",
      "\n",
      "Kappa Score: 0.25058004640371223\n"
     ]
    }
   ],
   "source": [
    "imp_dict={}\n",
    "rf.fit(X_train_y_G1,y_train_y_G1)\n",
    "y_pred_y_G1 = rf.predict(X_test_y_G1)\n",
    "probarfG1y = rf.predict_proba(X_test_y_G1)\n",
    "\n",
    "print(classification_report(y_pred_y_G1,y_test_y_G1))\n",
    "print(\"Kappa Score: \" +str(cohen_kappa_score(y_pred_y_G1,y_test_y_G1)))"
   ]
  },
  {
   "cell_type": "code",
   "execution_count": 51,
   "metadata": {},
   "outputs": [
    {
     "name": "stdout",
     "output_type": "stream",
     "text": [
      "              precision    recall  f1-score   support\n",
      "\n",
      "           0       0.94      0.98      0.96       204\n",
      "           1       0.50      0.29      0.37        17\n",
      "\n",
      "    accuracy                           0.92       221\n",
      "   macro avg       0.72      0.63      0.66       221\n",
      "weighted avg       0.91      0.92      0.91       221\n",
      "\n",
      "Kappa Score: 0.3323262839879154\n"
     ]
    }
   ],
   "source": [
    "imp_dict={}\n",
    "rf.fit(X_train_y_G3,y_train_y_G3)\n",
    "y_pred_y_G3 = rf.predict(X_test_y_G3)\n",
    "probarfG3y = rf.predict_proba(X_test_y_G3)\n",
    "print(classification_report(y_pred_y_G3,y_test_y_G3))\n",
    "print(\"Kappa Score: \" +str(cohen_kappa_score(y_pred_y_G3,y_test_y_G3)))"
   ]
  },
  {
   "cell_type": "markdown",
   "metadata": {},
   "source": [
    "### Linear SVM"
   ]
  },
  {
   "cell_type": "code",
   "execution_count": 52,
   "metadata": {},
   "outputs": [],
   "source": [
    "from sklearn import svm\n",
    "lsvm = svm.SVC(kernel='linear', probability = True)"
   ]
  },
  {
   "cell_type": "code",
   "execution_count": 53,
   "metadata": {},
   "outputs": [
    {
     "name": "stdout",
     "output_type": "stream",
     "text": [
      "              precision    recall  f1-score   support\n",
      "\n",
      "           0       0.98      0.85      0.91       188\n",
      "           1       0.52      0.91      0.66        33\n",
      "\n",
      "    accuracy                           0.86       221\n",
      "   macro avg       0.75      0.88      0.79       221\n",
      "weighted avg       0.91      0.86      0.87       221\n",
      "\n",
      "Kappa Score: 0.5792544371430326\n"
     ]
    }
   ],
   "source": [
    "lsvm.fit(X_train_x_G1,y_train_x_G1)\n",
    "y_pred_x_G1= lsvm.predict(X_test_x_G1)\n",
    "probalsvmG1x = lsvm.predict_proba(X_test_x_G1)\n",
    "\n",
    "print(classification_report(y_pred_x_G1,y_test_x_G1))\n",
    "print(\"Kappa Score: \" +str(cohen_kappa_score(y_pred_x_G1,y_test_x_G1)))"
   ]
  },
  {
   "cell_type": "code",
   "execution_count": 54,
   "metadata": {},
   "outputs": [
    {
     "name": "stdout",
     "output_type": "stream",
     "text": [
      "              precision    recall  f1-score   support\n",
      "\n",
      "           0       0.97      0.82      0.89       176\n",
      "           1       0.56      0.89      0.69        45\n",
      "\n",
      "    accuracy                           0.84       221\n",
      "   macro avg       0.77      0.86      0.79       221\n",
      "weighted avg       0.88      0.84      0.85       221\n",
      "\n",
      "Kappa Score: 0.5866154006027227\n"
     ]
    }
   ],
   "source": [
    "lsvm.fit(X_train_x_G3,y_train_x_G3)\n",
    "y_pred_x_G3= lsvm.predict(X_test_x_G3)\n",
    "probalsvmG3x = lsvm.predict_proba(X_test_x_G3)\n",
    "\n",
    "print(classification_report(y_pred_x_G3,y_test_x_G3))\n",
    "print(\"Kappa Score: \" +str(cohen_kappa_score(y_pred_x_G3,y_test_x_G3)))"
   ]
  },
  {
   "cell_type": "code",
   "execution_count": 55,
   "metadata": {},
   "outputs": [
    {
     "name": "stdout",
     "output_type": "stream",
     "text": [
      "              precision    recall  f1-score   support\n",
      "\n",
      "           0       0.99      0.97      0.98       213\n",
      "           1       0.46      0.75      0.57         8\n",
      "\n",
      "    accuracy                           0.96       221\n",
      "   macro avg       0.73      0.86      0.78       221\n",
      "weighted avg       0.97      0.96      0.96       221\n",
      "\n",
      "Kappa Score: 0.5513196480938416\n"
     ]
    }
   ],
   "source": [
    "lsvm.fit(X_train_y_G1,y_train_y_G1)\n",
    "y_pred_y_G1 = lsvm.predict(X_test_y_G1)\n",
    "probalsvmG1y = lsvm.predict_proba(X_test_y_G1)\n",
    "\n",
    "print(classification_report(y_pred_y_G1,y_test_y_G1))\n",
    "print(\"Kappa Score: \" +str(cohen_kappa_score(y_pred_y_G1,y_test_y_G1)))"
   ]
  },
  {
   "cell_type": "code",
   "execution_count": 56,
   "metadata": {},
   "outputs": [
    {
     "name": "stdout",
     "output_type": "stream",
     "text": [
      "              precision    recall  f1-score   support\n",
      "\n",
      "           0       1.00      0.98      0.99       215\n",
      "           1       0.50      0.83      0.62         6\n",
      "\n",
      "    accuracy                           0.97       221\n",
      "   macro avg       0.75      0.91      0.81       221\n",
      "weighted avg       0.98      0.97      0.98       221\n",
      "\n",
      "Kappa Score: 0.6118266978922716\n"
     ]
    }
   ],
   "source": [
    "lsvm.fit(X_train_y_G3,y_train_y_G3)\n",
    "y_pred_y_G3 = lsvm.predict(X_test_y_G3)\n",
    "probalsvmG3y = lsvm.predict_proba(X_test_y_G3)\n",
    "print(classification_report(y_pred_y_G3,y_test_y_G3))\n",
    "print(\"Kappa Score: \" +str(cohen_kappa_score(y_pred_y_G3,y_test_y_G3)))"
   ]
  },
  {
   "cell_type": "markdown",
   "metadata": {},
   "source": [
    "### Logistic Regression"
   ]
  },
  {
   "cell_type": "code",
   "execution_count": 57,
   "metadata": {},
   "outputs": [],
   "source": [
    "lg = LogisticRegression(random_state=0,max_iter=1000000)"
   ]
  },
  {
   "cell_type": "code",
   "execution_count": 58,
   "metadata": {},
   "outputs": [
    {
     "name": "stdout",
     "output_type": "stream",
     "text": [
      "              precision    recall  f1-score   support\n",
      "\n",
      "           0       0.99      0.85      0.91       189\n",
      "           1       0.52      0.94      0.67        32\n",
      "\n",
      "    accuracy                           0.86       221\n",
      "   macro avg       0.75      0.89      0.79       221\n",
      "weighted avg       0.92      0.86      0.88       221\n",
      "\n",
      "Kappa Score: 0.590184200766473\n"
     ]
    }
   ],
   "source": [
    "lg.fit(X_train_x_G1,y_train_x_G1)\n",
    "y_pred_x_G1= lg.predict(X_test_x_G1)\n",
    "probalgG1x = lg.predict_proba(X_test_x_G1)\n",
    "\n",
    "print(classification_report(y_pred_x_G1,y_test_x_G1))\n",
    "print(\"Kappa Score: \" +str(cohen_kappa_score(y_pred_x_G1,y_test_x_G1)))"
   ]
  },
  {
   "cell_type": "code",
   "execution_count": 59,
   "metadata": {},
   "outputs": [
    {
     "name": "stdout",
     "output_type": "stream",
     "text": [
      "              precision    recall  f1-score   support\n",
      "\n",
      "           0       0.97      0.82      0.89       177\n",
      "           1       0.55      0.89      0.68        44\n",
      "\n",
      "    accuracy                           0.83       221\n",
      "   macro avg       0.76      0.85      0.78       221\n",
      "weighted avg       0.88      0.83      0.85       221\n",
      "\n",
      "Kappa Score: 0.5733813324985653\n"
     ]
    }
   ],
   "source": [
    "lg.fit(X_train_x_G3,y_train_x_G3)\n",
    "y_pred_x_G3= lg.predict(X_test_x_G3)\n",
    "probalgG3x = lg.predict_proba(X_test_x_G3)\n",
    "\n",
    "print(classification_report(y_pred_x_G3,y_test_x_G3))\n",
    "print(\"Kappa Score: \" +str(cohen_kappa_score(y_pred_x_G3,y_test_x_G3)))"
   ]
  },
  {
   "cell_type": "code",
   "execution_count": 60,
   "metadata": {},
   "outputs": [
    {
     "name": "stdout",
     "output_type": "stream",
     "text": [
      "              precision    recall  f1-score   support\n",
      "\n",
      "           0       0.98      0.97      0.97       211\n",
      "           1       0.46      0.60      0.52        10\n",
      "\n",
      "    accuracy                           0.95       221\n",
      "   macro avg       0.72      0.78      0.75       221\n",
      "weighted avg       0.96      0.95      0.95       221\n",
      "\n",
      "Kappa Score: 0.49595687331536387\n"
     ]
    }
   ],
   "source": [
    "lg.fit(X_train_y_G1,y_train_y_G1)\n",
    "y_pred_y_G1 = lg.predict(X_test_y_G1)\n",
    "probalgG1y = lg.predict_proba(X_test_y_G1)\n",
    "\n",
    "print(classification_report(y_pred_y_G1,y_test_y_G1))\n",
    "print(\"Kappa Score: \" +str(cohen_kappa_score(y_pred_y_G1,y_test_y_G1)))"
   ]
  },
  {
   "cell_type": "code",
   "execution_count": 61,
   "metadata": {},
   "outputs": [
    {
     "name": "stdout",
     "output_type": "stream",
     "text": [
      "              precision    recall  f1-score   support\n",
      "\n",
      "           0       1.00      0.98      0.99       215\n",
      "           1       0.50      0.83      0.62         6\n",
      "\n",
      "    accuracy                           0.97       221\n",
      "   macro avg       0.75      0.91      0.81       221\n",
      "weighted avg       0.98      0.97      0.98       221\n",
      "\n",
      "Kappa Score: 0.6118266978922716\n"
     ]
    }
   ],
   "source": [
    "lg.fit(X_train_y_G3,y_train_y_G3)\n",
    "y_pred_y_G3 = lg.predict(X_test_y_G3)\n",
    "probalgG3y = lg.predict_proba(X_test_y_G3)\n",
    "print(classification_report(y_pred_y_G3,y_test_y_G3))\n",
    "print(\"Kappa Score: \" +str(cohen_kappa_score(y_pred_y_G3,y_test_y_G3)))"
   ]
  },
  {
   "cell_type": "markdown",
   "metadata": {},
   "source": [
    "### Gradient Boosting"
   ]
  },
  {
   "cell_type": "code",
   "execution_count": 62,
   "metadata": {},
   "outputs": [],
   "source": [
    "gb = GradientBoostingClassifier(random_state=0)"
   ]
  },
  {
   "cell_type": "code",
   "execution_count": 63,
   "metadata": {},
   "outputs": [
    {
     "name": "stdout",
     "output_type": "stream",
     "text": [
      "              precision    recall  f1-score   support\n",
      "\n",
      "           0       0.98      0.85      0.91       186\n",
      "           1       0.53      0.89      0.67        35\n",
      "\n",
      "    accuracy                           0.86       221\n",
      "   macro avg       0.75      0.87      0.79       221\n",
      "weighted avg       0.91      0.86      0.87       221\n",
      "\n",
      "Kappa Score: 0.5846116534287273\n"
     ]
    }
   ],
   "source": [
    "gb.fit(X_train_x_G1,y_train_x_G1)\n",
    "y_pred_x_G1= gb.predict(X_test_x_G1)\n",
    "probagbG1x = gb.predict_proba(X_test_x_G1)\n",
    "print(classification_report(y_pred_x_G1,y_test_x_G1))\n",
    "print(\"Kappa Score: \" +str(cohen_kappa_score(y_pred_x_G1,y_test_x_G1)))"
   ]
  },
  {
   "cell_type": "code",
   "execution_count": 64,
   "metadata": {},
   "outputs": [
    {
     "name": "stdout",
     "output_type": "stream",
     "text": [
      "              precision    recall  f1-score   support\n",
      "\n",
      "           0       0.93      0.84      0.88       167\n",
      "           1       0.62      0.81      0.70        54\n",
      "\n",
      "    accuracy                           0.83       221\n",
      "   macro avg       0.78      0.83      0.79       221\n",
      "weighted avg       0.86      0.83      0.84       221\n",
      "\n",
      "Kappa Score: 0.5902690785188154\n"
     ]
    }
   ],
   "source": [
    "gb.fit(X_train_x_G3,y_train_x_G3)\n",
    "y_pred_x_G3= gb.predict(X_test_x_G3)\n",
    "\n",
    "probagbG3x = gb.predict_proba(X_test_x_G3)\n",
    "print(classification_report(y_pred_x_G3,y_test_x_G3))\n",
    "print(\"Kappa Score: \" +str(cohen_kappa_score(y_pred_x_G3,y_test_x_G3)))"
   ]
  },
  {
   "cell_type": "code",
   "execution_count": 65,
   "metadata": {},
   "outputs": [
    {
     "name": "stdout",
     "output_type": "stream",
     "text": [
      "              precision    recall  f1-score   support\n",
      "\n",
      "           0       0.96      0.96      0.96       208\n",
      "           1       0.31      0.31      0.31        13\n",
      "\n",
      "    accuracy                           0.92       221\n",
      "   macro avg       0.63      0.63      0.63       221\n",
      "weighted avg       0.92      0.92      0.92       221\n",
      "\n",
      "Kappa Score: 0.26442307692307687\n"
     ]
    }
   ],
   "source": [
    "gb.fit(X_train_y_G1,y_train_y_G1)\n",
    "y_pred_y_G1 = gb.predict(X_test_y_G1)\n",
    "\n",
    "probagbG1y = gb.predict_proba(X_test_y_G1)\n",
    "print(classification_report(y_pred_y_G1,y_test_y_G1))\n",
    "print(\"Kappa Score: \" +str(cohen_kappa_score(y_pred_y_G1,y_test_y_G1)))"
   ]
  },
  {
   "cell_type": "code",
   "execution_count": 66,
   "metadata": {},
   "outputs": [
    {
     "name": "stdout",
     "output_type": "stream",
     "text": [
      "              precision    recall  f1-score   support\n",
      "\n",
      "           0       0.94      0.98      0.96       204\n",
      "           1       0.50      0.29      0.37        17\n",
      "\n",
      "    accuracy                           0.92       221\n",
      "   macro avg       0.72      0.63      0.66       221\n",
      "weighted avg       0.91      0.92      0.91       221\n",
      "\n",
      "Kappa Score: 0.3323262839879154\n"
     ]
    }
   ],
   "source": [
    "gb.fit(X_train_y_G3,y_train_y_G3)\n",
    "y_pred_y_G3 = gb.predict(X_test_y_G3)\n",
    "\n",
    "probagbG3y = gb.predict_proba(X_test_y_G3)\n",
    "print(classification_report(y_pred_y_G3,y_test_y_G3))\n",
    "print(\"Kappa Score: \" +str(cohen_kappa_score(y_pred_y_G3,y_test_y_G3)))"
   ]
  },
  {
   "cell_type": "code",
   "execution_count": null,
   "metadata": {},
   "outputs": [],
   "source": []
  },
  {
   "cell_type": "code",
   "execution_count": null,
   "metadata": {},
   "outputs": [],
   "source": []
  },
  {
   "cell_type": "code",
   "execution_count": null,
   "metadata": {},
   "outputs": [],
   "source": []
  }
 ],
 "metadata": {
  "kernelspec": {
   "display_name": "Python 3",
   "language": "python",
   "name": "python3"
  },
  "language_info": {
   "codemirror_mode": {
    "name": "ipython",
    "version": 3
   },
   "file_extension": ".py",
   "mimetype": "text/x-python",
   "name": "python",
   "nbconvert_exporter": "python",
   "pygments_lexer": "ipython3",
   "version": "3.7.4"
  }
 },
 "nbformat": 4,
 "nbformat_minor": 4
}
