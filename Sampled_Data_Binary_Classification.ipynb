{
 "cells": [
  {
   "cell_type": "code",
   "execution_count": 1,
   "metadata": {},
   "outputs": [
    {
     "name": "stderr",
     "output_type": "stream",
     "text": [
      "Using TensorFlow backend.\n"
     ]
    }
   ],
   "source": [
    "import pandas as pd\n",
    "import numpy as np\n",
    "import seaborn as sn\n",
    "import matplotlib.pyplot as plt\n",
    "from sklearn.svm import LinearSVC\n",
    "from sklearn.linear_model import LogisticRegression\n",
    "from sklearn.model_selection import train_test_split\n",
    "from sklearn import preprocessing\n",
    "from sklearn.tree import DecisionTreeClassifier\n",
    "from sklearn.metrics import accuracy_score\n",
    "from sklearn.naive_bayes import GaussianNB\n",
    "from sklearn.ensemble import RandomForestClassifier\n",
    "from sklearn.ensemble import GradientBoostingClassifier\n",
    "from sklearn.metrics import classification_report\n",
    "from sklearn.metrics import cohen_kappa_score\n",
    "import matplotlib.pyplot as plt\n",
    "from scipy.stats import rankdata\n",
    "import imblearn\n",
    "from imblearn.over_sampling import RandomOverSampler"
   ]
  },
  {
   "cell_type": "code",
   "execution_count": 2,
   "metadata": {},
   "outputs": [],
   "source": [
    "df = pd.read_csv('final_combined_dataset.csv')"
   ]
  },
  {
   "cell_type": "code",
   "execution_count": 3,
   "metadata": {},
   "outputs": [],
   "source": [
    "df = df.rename(columns = {'Unnamed: 0':'ID'})"
   ]
  },
  {
   "cell_type": "code",
   "execution_count": 4,
   "metadata": {},
   "outputs": [],
   "source": [
    "xfeatures=['school', 'sex', 'age', 'address', 'famsize', 'Pstatus', 'Medu', 'Fedu',\n",
    "       'Mjob', 'Fjob', 'reason', 'nursery', 'internet', 'guardian.x',\n",
    "       'traveltime.x', 'studytime.x', 'failures.x', 'schoolsup.x', 'famsup.x',\n",
    "       'paid.x', 'activities.x', 'higher.x', 'romantic.x', 'famrel.x',\n",
    "       'freetime.x', 'goout.x', 'Dalc.x', 'Walc.x', 'health.x', 'absences.x','G1.x','G3.x']"
   ]
  },
  {
   "cell_type": "code",
   "execution_count": 5,
   "metadata": {},
   "outputs": [],
   "source": [
    "yfeatures = ['school', 'sex', 'age', 'address', 'famsize', 'Pstatus', 'Medu', 'Fedu',\n",
    "       'Mjob', 'Fjob', 'reason', 'nursery', 'internet','guardian.y', 'traveltime.y', 'studytime.y',\n",
    "       'failures.y', 'schoolsup.y', 'famsup.y', 'paid.y', 'activities.y',\n",
    "       'higher.y', 'romantic.y', 'famrel.y', 'freetime.y', 'goout.y', 'Dalc.y',\n",
    "       'Walc.y', 'health.y', 'absences.y','G1.y','G3.y']"
   ]
  },
  {
   "cell_type": "code",
   "execution_count": 6,
   "metadata": {},
   "outputs": [],
   "source": [
    "keepcol = ['school', 'sex', 'age', 'address', 'famsize', 'Pstatus', 'Medu',\n",
    "       'Fedu', 'Mjob', 'Fjob', 'reason', 'nursery', 'internet', 'guardian.x',\n",
    "       'traveltime.x', 'studytime.x', 'failures.x', 'schoolsup.x', 'famsup.x',\n",
    "       'paid.x', 'activities.x', 'higher.x', 'romantic.x', 'famrel.x',\n",
    "       'freetime.x', 'goout.x', 'Dalc.x', 'Walc.x', 'health.x', 'absences.x',\n",
    "       'G1.x', 'G2.x', 'G3.x', 'guardian.y', 'traveltime.y', 'studytime.y',\n",
    "       'failures.y', 'schoolsup.y', 'famsup.y', 'paid.y', 'activities.y',\n",
    "       'higher.y', 'romantic.y', 'famrel.y', 'freetime.y', 'goout.y', 'Dalc.y',\n",
    "       'Walc.y', 'health.y', 'absences.y', 'G1.y', 'G2.y', 'G3.y']"
   ]
  },
  {
   "cell_type": "code",
   "execution_count": 7,
   "metadata": {},
   "outputs": [],
   "source": [
    "fildf = df.loc[:,keepcol]"
   ]
  },
  {
   "cell_type": "code",
   "execution_count": 8,
   "metadata": {},
   "outputs": [],
   "source": [
    "fildf_x = fildf.loc[:,xfeatures]"
   ]
  },
  {
   "cell_type": "code",
   "execution_count": 9,
   "metadata": {},
   "outputs": [],
   "source": [
    "fildf_y = fildf.loc[:,yfeatures]"
   ]
  },
  {
   "cell_type": "code",
   "execution_count": 10,
   "metadata": {},
   "outputs": [],
   "source": [
    "def convertmarks(mark):\n",
    "    if mark<10:\n",
    "        return 'B'\n",
    "    else:\n",
    "        return 'A'"
   ]
  },
  {
   "cell_type": "code",
   "execution_count": 11,
   "metadata": {},
   "outputs": [],
   "source": [
    "newlist=[]\n",
    "for i in fildf_x['G1.x']:\n",
    "    x = convertmarks(i)\n",
    "    newlist.append(x)\n",
    "fildf_x['New G1'] = newlist"
   ]
  },
  {
   "cell_type": "code",
   "execution_count": 12,
   "metadata": {},
   "outputs": [],
   "source": [
    "newlist=[]\n",
    "for i in fildf_y['G1.y']:\n",
    "    x = convertmarks(i)\n",
    "    newlist.append(x)\n",
    "fildf_y['New G1'] = newlist"
   ]
  },
  {
   "cell_type": "code",
   "execution_count": 13,
   "metadata": {},
   "outputs": [],
   "source": [
    "newlist=[]\n",
    "for i in fildf_x['G3.x']:\n",
    "    x = convertmarks(i)\n",
    "    newlist.append(x)\n",
    "fildf_x['New G3'] = newlist"
   ]
  },
  {
   "cell_type": "code",
   "execution_count": 14,
   "metadata": {},
   "outputs": [],
   "source": [
    "newlist=[]\n",
    "for i in fildf_y['G3.y']:\n",
    "    x = convertmarks(i)\n",
    "    newlist.append(x)\n",
    "fildf_y['New G3'] = newlist"
   ]
  },
  {
   "cell_type": "code",
   "execution_count": 15,
   "metadata": {},
   "outputs": [],
   "source": [
    "label_encoder = preprocessing.LabelEncoder()"
   ]
  },
  {
   "cell_type": "code",
   "execution_count": 16,
   "metadata": {},
   "outputs": [],
   "source": [
    "fildf_x['New G1']= label_encoder.fit_transform(fildf_x['New G1'])\n",
    "fildf_y['New G1']= label_encoder.fit_transform(fildf_y['New G1'])\n",
    "fildf_x['New G3']= label_encoder.fit_transform(fildf_x['New G3'])\n",
    "fildf_y['New G3']= label_encoder.fit_transform(fildf_y['New G3'])"
   ]
  },
  {
   "cell_type": "code",
   "execution_count": 17,
   "metadata": {},
   "outputs": [],
   "source": [
    "fildf_x = fildf_x.sample(frac=1,random_state=123)\n",
    "fildf_y = fildf_y.sample(frac=1,random_state=123)"
   ]
  },
  {
   "cell_type": "code",
   "execution_count": 18,
   "metadata": {},
   "outputs": [
    {
     "data": {
      "text/plain": [
       "0    665\n",
       "1    217\n",
       "Name: New G1, dtype: int64"
      ]
     },
     "execution_count": 18,
     "metadata": {},
     "output_type": "execute_result"
    }
   ],
   "source": [
    "fildf_x['New G1'].value_counts()"
   ]
  },
  {
   "cell_type": "code",
   "execution_count": 19,
   "metadata": {},
   "outputs": [
    {
     "data": {
      "text/plain": [
       "0    606\n",
       "1    276\n",
       "Name: New G3, dtype: int64"
      ]
     },
     "execution_count": 19,
     "metadata": {},
     "output_type": "execute_result"
    }
   ],
   "source": [
    "fildf_x['New G3'].value_counts()"
   ]
  },
  {
   "cell_type": "code",
   "execution_count": 20,
   "metadata": {},
   "outputs": [],
   "source": [
    "max_size = fildf_x['New G1'].value_counts().max()"
   ]
  },
  {
   "cell_type": "code",
   "execution_count": 21,
   "metadata": {},
   "outputs": [],
   "source": [
    "lst = [fildf_x]\n",
    "for class_index, group in fildf_x.groupby('New G1'):\n",
    "    lst.append(group.sample(max_size-len(group), replace=True))\n",
    "fildf_x_G1 = pd.concat(lst)"
   ]
  },
  {
   "cell_type": "code",
   "execution_count": 22,
   "metadata": {},
   "outputs": [
    {
     "data": {
      "text/plain": [
       "1    665\n",
       "0    665\n",
       "Name: New G1, dtype: int64"
      ]
     },
     "execution_count": 22,
     "metadata": {},
     "output_type": "execute_result"
    }
   ],
   "source": [
    "fildf_x_G1['New G1'].value_counts()"
   ]
  },
  {
   "cell_type": "code",
   "execution_count": 23,
   "metadata": {},
   "outputs": [],
   "source": [
    "max_size = fildf_y['New G1'].value_counts().max()"
   ]
  },
  {
   "cell_type": "code",
   "execution_count": 24,
   "metadata": {},
   "outputs": [],
   "source": [
    "lst = [fildf_y]\n",
    "for class_index, group in fildf_y.groupby('New G1'):\n",
    "    lst.append(group.sample(max_size-len(group), replace=True))\n",
    "fildf_y_G1 = pd.concat(lst)"
   ]
  },
  {
   "cell_type": "code",
   "execution_count": 25,
   "metadata": {},
   "outputs": [
    {
     "data": {
      "text/plain": [
       "1    813\n",
       "0    813\n",
       "Name: New G1, dtype: int64"
      ]
     },
     "execution_count": 25,
     "metadata": {},
     "output_type": "execute_result"
    }
   ],
   "source": [
    "fildf_y_G1['New G1'].value_counts()"
   ]
  },
  {
   "cell_type": "code",
   "execution_count": 26,
   "metadata": {},
   "outputs": [],
   "source": [
    "max_size = fildf_x['New G3'].value_counts().max()"
   ]
  },
  {
   "cell_type": "code",
   "execution_count": 27,
   "metadata": {},
   "outputs": [],
   "source": [
    "lst = [fildf_x]\n",
    "for class_index, group in fildf_x.groupby('New G3'):\n",
    "    lst.append(group.sample(max_size-len(group), replace=True))\n",
    "fildf_x_G3 = pd.concat(lst)"
   ]
  },
  {
   "cell_type": "code",
   "execution_count": 28,
   "metadata": {},
   "outputs": [
    {
     "data": {
      "text/plain": [
       "1    606\n",
       "0    606\n",
       "Name: New G3, dtype: int64"
      ]
     },
     "execution_count": 28,
     "metadata": {},
     "output_type": "execute_result"
    }
   ],
   "source": [
    "fildf_x_G3['New G3'].value_counts()"
   ]
  },
  {
   "cell_type": "code",
   "execution_count": 29,
   "metadata": {},
   "outputs": [],
   "source": [
    "max_size = fildf_y['New G3'].value_counts().max()"
   ]
  },
  {
   "cell_type": "code",
   "execution_count": 30,
   "metadata": {},
   "outputs": [],
   "source": [
    "lst = [fildf_y]\n",
    "for class_index, group in fildf_y.groupby('New G3'):\n",
    "    lst.append(group.sample(max_size-len(group), replace=True))\n",
    "fildf_y_G3 = pd.concat(lst)"
   ]
  },
  {
   "cell_type": "code",
   "execution_count": 31,
   "metadata": {},
   "outputs": [
    {
     "data": {
      "text/plain": [
       "Index(['school', 'sex', 'age', 'address', 'famsize', 'Pstatus', 'Medu', 'Fedu',\n",
       "       'Mjob', 'Fjob', 'reason', 'nursery', 'internet', 'guardian.y',\n",
       "       'traveltime.y', 'studytime.y', 'failures.y', 'schoolsup.y', 'famsup.y',\n",
       "       'paid.y', 'activities.y', 'higher.y', 'romantic.y', 'famrel.y',\n",
       "       'freetime.y', 'goout.y', 'Dalc.y', 'Walc.y', 'health.y', 'absences.y',\n",
       "       'G1.y', 'G3.y', 'New G1', 'New G3'],\n",
       "      dtype='object')"
      ]
     },
     "execution_count": 31,
     "metadata": {},
     "output_type": "execute_result"
    }
   ],
   "source": [
    "fildf_y_G3.columns"
   ]
  },
  {
   "cell_type": "code",
   "execution_count": 32,
   "metadata": {},
   "outputs": [],
   "source": [
    "fildf_x_G1 = fildf_x_G1.drop(['G1.x','G3.x'],axis=1)\n",
    "fildf_y_G1 = fildf_y_G1.drop(['G1.y','G3.y'],axis=1)\n",
    "fildf_x_G3 = fildf_x_G3.drop(['G1.x','G3.x'],axis=1)\n",
    "fildf_y_G3 = fildf_y_G3.drop(['G1.y','G3.y'],axis=1)"
   ]
  },
  {
   "cell_type": "code",
   "execution_count": 33,
   "metadata": {},
   "outputs": [],
   "source": [
    "features_x_G3 = fildf_x_G3.drop(['New G1','New G3'],axis=1)\n",
    "features_x_G1 = fildf_x_G1.drop(['New G1','New G3'],axis=1)\n",
    "features_y_G3 = fildf_y_G3.drop(['New G1','New G3'],axis=1)\n",
    "features_y_G1 = fildf_y_G1.drop(['New G1','New G3'],axis=1)"
   ]
  },
  {
   "cell_type": "code",
   "execution_count": 34,
   "metadata": {},
   "outputs": [],
   "source": [
    "target_x_G3 = fildf_x_G3['New G3']\n",
    "target_x_G1 = fildf_x_G1['New G1']\n",
    "target_y_G3 = fildf_y_G3['New G3']\n",
    "target_y_G1 = fildf_y_G1['New G1']"
   ]
  },
  {
   "cell_type": "code",
   "execution_count": 35,
   "metadata": {},
   "outputs": [],
   "source": [
    "X_train_x_G1, X_test_x_G1, y_train_x_G1, y_test_x_G1 = train_test_split(features_x_G1, target_x_G1, test_size=0.25, random_state=0)\n",
    "X_train_y_G1, X_test_y_G1, y_train_y_G1, y_test_y_G1 = train_test_split(features_y_G1, target_y_G1, test_size=0.25, random_state=0)"
   ]
  },
  {
   "cell_type": "code",
   "execution_count": 36,
   "metadata": {},
   "outputs": [],
   "source": [
    "X_train_x_G3, X_test_x_G3, y_train_x_G3, y_test_x_G3 = train_test_split(features_x_G3, target_x_G3, test_size=0.25, random_state=0)\n",
    "X_train_y_G3, X_test_y_G3, y_train_y_G3, y_test_y_G3 = train_test_split(features_y_G3, target_y_G3, test_size=0.25, random_state=0)"
   ]
  },
  {
   "cell_type": "markdown",
   "metadata": {},
   "source": [
    "### Gaussian Naive Bayes"
   ]
  },
  {
   "cell_type": "code",
   "execution_count": 37,
   "metadata": {},
   "outputs": [],
   "source": [
    "clf = GaussianNB()"
   ]
  },
  {
   "cell_type": "code",
   "execution_count": 38,
   "metadata": {},
   "outputs": [
    {
     "name": "stdout",
     "output_type": "stream",
     "text": [
      "              precision    recall  f1-score   support\n",
      "\n",
      "           0       0.90      0.70      0.79       198\n",
      "           1       0.67      0.89      0.76       135\n",
      "\n",
      "    accuracy                           0.78       333\n",
      "   macro avg       0.79      0.80      0.78       333\n",
      "weighted avg       0.81      0.78      0.78       333\n",
      "\n",
      "Kappa Score: 0.5617797695262484\n"
     ]
    }
   ],
   "source": [
    "clf.fit(X_train_x_G1,y_train_x_G1)\n",
    "y_pred_x_G1= clf.predict(X_test_x_G1)\n",
    "y_pred_x_G1_Prob = clf.predict_proba(X_test_x_G1)\n",
    "print(classification_report(y_pred_x_G1,y_test_x_G1))\n",
    "print(\"Kappa Score: \" +str(cohen_kappa_score(y_pred_x_G1,y_test_x_G1)))"
   ]
  },
  {
   "cell_type": "code",
   "execution_count": 39,
   "metadata": {},
   "outputs": [
    {
     "name": "stdout",
     "output_type": "stream",
     "text": [
      "              precision    recall  f1-score   support\n",
      "\n",
      "           0       0.91      0.77      0.83       170\n",
      "           1       0.75      0.90      0.82       133\n",
      "\n",
      "    accuracy                           0.83       303\n",
      "   macro avg       0.83      0.84      0.83       303\n",
      "weighted avg       0.84      0.83      0.83       303\n",
      "\n",
      "Kappa Score: 0.6588281148499415\n"
     ]
    }
   ],
   "source": [
    "clf.fit(X_train_x_G3,y_train_x_G3)\n",
    "y_pred_x_G3= clf.predict(X_test_x_G3)\n",
    "y_pred_x_G3_Prob = clf.predict_proba(X_test_x_G3)\n",
    "print(classification_report(y_pred_x_G3,y_test_x_G3))\n",
    "print(\"Kappa Score: \" +str(cohen_kappa_score(y_pred_x_G3,y_test_x_G3)))"
   ]
  },
  {
   "cell_type": "code",
   "execution_count": 40,
   "metadata": {},
   "outputs": [
    {
     "name": "stdout",
     "output_type": "stream",
     "text": [
      "              precision    recall  f1-score   support\n",
      "\n",
      "           0       0.88      0.82      0.85       220\n",
      "           1       0.81      0.87      0.84       187\n",
      "\n",
      "    accuracy                           0.85       407\n",
      "   macro avg       0.84      0.85      0.84       407\n",
      "weighted avg       0.85      0.85      0.85       407\n",
      "\n",
      "Kappa Score: 0.6902325581395349\n"
     ]
    }
   ],
   "source": [
    "clf.fit(X_train_y_G1,y_train_y_G1)\n",
    "y_pred_y_G1 = clf.predict(X_test_y_G1)\n",
    "\n",
    "print(classification_report(y_pred_y_G1,y_test_y_G1))\n",
    "print(\"Kappa Score: \" +str(cohen_kappa_score(y_pred_y_G1,y_test_y_G1)))"
   ]
  },
  {
   "cell_type": "code",
   "execution_count": 41,
   "metadata": {},
   "outputs": [
    {
     "name": "stdout",
     "output_type": "stream",
     "text": [
      "              precision    recall  f1-score   support\n",
      "\n",
      "           0       0.87      0.94      0.90       195\n",
      "           1       0.94      0.87      0.91       223\n",
      "\n",
      "    accuracy                           0.90       418\n",
      "   macro avg       0.90      0.91      0.90       418\n",
      "weighted avg       0.91      0.90      0.90       418\n",
      "\n",
      "Kappa Score: 0.8087350431261296\n"
     ]
    }
   ],
   "source": [
    "clf.fit(X_train_y_G3,y_train_y_G3)\n",
    "y_pred_y_G3 = clf.predict(X_test_y_G3)\n",
    "print(classification_report(y_pred_y_G3,y_test_y_G3))\n",
    "print(\"Kappa Score: \" +str(cohen_kappa_score(y_pred_y_G3,y_test_y_G3)))"
   ]
  },
  {
   "cell_type": "markdown",
   "metadata": {},
   "source": [
    "### Decision Tree"
   ]
  },
  {
   "cell_type": "code",
   "execution_count": 42,
   "metadata": {},
   "outputs": [],
   "source": [
    "dtc = DecisionTreeClassifier()"
   ]
  },
  {
   "cell_type": "code",
   "execution_count": 43,
   "metadata": {},
   "outputs": [
    {
     "name": "stdout",
     "output_type": "stream",
     "text": [
      "              precision    recall  f1-score   support\n",
      "\n",
      "           0       0.81      0.98      0.88       127\n",
      "           1       0.98      0.85      0.91       206\n",
      "\n",
      "    accuracy                           0.90       333\n",
      "   macro avg       0.89      0.92      0.90       333\n",
      "weighted avg       0.92      0.90      0.90       333\n",
      "\n",
      "Kappa Score: 0.7982077602512074\n",
      "\t\n",
      "Feature failures.x and its importance is 0.3837055539956649\n",
      "Feature goout.x and its importance is 0.07608423425447004\n",
      "Feature freetime.x and its importance is 0.046051687067964406\n",
      "Feature reason and its importance is 0.04269117149080293\n",
      "Feature Fedu and its importance is 0.04238031511778837\n",
      "Feature absences.x and its importance is 0.039844192733868\n",
      "Feature Walc.x and its importance is 0.039670115679763536\n",
      "Feature age and its importance is 0.03951375547179002\n",
      "Feature Fjob and its importance is 0.03775822303085799\n",
      "Feature traveltime.x and its importance is 0.027151049734857872\n",
      "Feature famrel.x and its importance is 0.024643326404806674\n",
      "Feature Mjob and its importance is 0.020205438755526793\n",
      "Feature Dalc.x and its importance is 0.019854545757127192\n",
      "Feature activities.x and its importance is 0.019274010279865673\n",
      "Feature Medu and its importance is 0.01593253841713785\n",
      "Feature schoolsup.x and its importance is 0.014485210120855551\n",
      "Feature guardian.x and its importance is 0.012492411384719742\n",
      "Feature health.x and its importance is 0.010547492968457452\n",
      "Feature famsup.x and its importance is 0.01030420689834603\n",
      "Feature famsize and its importance is 0.010019427100345089\n",
      "Feature Pstatus and its importance is 0.009421568452926372\n",
      "Feature school and its importance is 0.009133885910527476\n",
      "Feature romantic.x and its importance is 0.008029120662301789\n",
      "Feature paid.x and its importance is 0.007952652846470343\n",
      "Feature internet and its importance is 0.007501891817653096\n",
      "Feature studytime.x and its importance is 0.007371975370000303\n",
      "Feature higher.x and its importance is 0.007006866703291943\n",
      "Feature nursery and its importance is 0.00669093388525149\n",
      "Feature address and its importance is 0.00428219768656095\n",
      "Feature sex and its importance is 0.0\n"
     ]
    },
    {
     "data": {
      "text/plain": [
       "([<matplotlib.axis.XTick at 0x7fd9eadc5e10>,\n",
       "  <matplotlib.axis.XTick at 0x7fd9eadc53d0>,\n",
       "  <matplotlib.axis.XTick at 0x7fd9ea2cff90>,\n",
       "  <matplotlib.axis.XTick at 0x7fd9eaea28d0>,\n",
       "  <matplotlib.axis.XTick at 0x7fd9eaea2dd0>,\n",
       "  <matplotlib.axis.XTick at 0x7fd9eaeb0450>,\n",
       "  <matplotlib.axis.XTick at 0x7fd9eaeb0a90>,\n",
       "  <matplotlib.axis.XTick at 0x7fd9eaeb03d0>,\n",
       "  <matplotlib.axis.XTick at 0x7fd9eaeb7390>,\n",
       "  <matplotlib.axis.XTick at 0x7fd9eaeb7950>,\n",
       "  <matplotlib.axis.XTick at 0x7fd9eaeb7f10>,\n",
       "  <matplotlib.axis.XTick at 0x7fd9eaebd510>,\n",
       "  <matplotlib.axis.XTick at 0x7fd9eaebdb50>,\n",
       "  <matplotlib.axis.XTick at 0x7fd9eaec5250>,\n",
       "  <matplotlib.axis.XTick at 0x7fd9eaec5810>,\n",
       "  <matplotlib.axis.XTick at 0x7fd9eaec5e50>,\n",
       "  <matplotlib.axis.XTick at 0x7fd9eaebdad0>,\n",
       "  <matplotlib.axis.XTick at 0x7fd9eaeb0190>,\n",
       "  <matplotlib.axis.XTick at 0x7fd9eaecb550>,\n",
       "  <matplotlib.axis.XTick at 0x7fd9eaecbb90>,\n",
       "  <matplotlib.axis.XTick at 0x7fd9eaed1290>,\n",
       "  <matplotlib.axis.XTick at 0x7fd9eaed1850>,\n",
       "  <matplotlib.axis.XTick at 0x7fd9eaed1e90>,\n",
       "  <matplotlib.axis.XTick at 0x7fd9eaed9510>,\n",
       "  <matplotlib.axis.XTick at 0x7fd9eaed9b50>,\n",
       "  <matplotlib.axis.XTick at 0x7fd9eaed1390>,\n",
       "  <matplotlib.axis.XTick at 0x7fd9eaecb950>,\n",
       "  <matplotlib.axis.XTick at 0x7fd9eaed9ad0>,\n",
       "  <matplotlib.axis.XTick at 0x7fd9eb100710>,\n",
       "  <matplotlib.axis.XTick at 0x7fd9eb100d50>],\n",
       " <a list of 30 Text xticklabel objects>)"
      ]
     },
     "execution_count": 43,
     "metadata": {},
     "output_type": "execute_result"
    },
    {
     "data": {
      "image/png": "[encoded data removed]",
      "text/plain": [
       "<Figure size 432x288 with 1 Axes>"
      ]
     },
     "metadata": {
      "needs_background": "light"
     },
     "output_type": "display_data"
    }
   ],
   "source": [
    "imp_dict={}\n",
    "dtc.fit(X_train_x_G1,y_train_x_G1)\n",
    "y_pred_x_G1= dtc.predict(X_test_x_G1)\n",
    "print(classification_report(y_pred_x_G1,y_test_x_G1))\n",
    "print(\"Kappa Score: \" +str(cohen_kappa_score(y_pred_x_G1,y_test_x_G1)))\n",
    "print(\"\\t\")\n",
    "for importance, name in sorted(zip(dtc.feature_importances_, X_train_x_G1.columns),reverse=True):\n",
    "    imp_dict[name] = importance\n",
    "    print('Feature '+name+ ' and its importance is '+str(importance))\n",
    "plt.bar(range(len(imp_dict)), list(imp_dict.values()), align='center')\n",
    "plt.xticks(range(len(imp_dict)), list(imp_dict.keys()),rotation=90)"
   ]
  },
  {
   "cell_type": "code",
   "execution_count": 44,
   "metadata": {},
   "outputs": [
    {
     "name": "stdout",
     "output_type": "stream",
     "text": [
      "              precision    recall  f1-score   support\n",
      "\n",
      "           0       0.85      0.92      0.88       134\n",
      "           1       0.93      0.88      0.90       169\n",
      "\n",
      "    accuracy                           0.89       303\n",
      "   macro avg       0.89      0.90      0.89       303\n",
      "weighted avg       0.90      0.89      0.89       303\n",
      "\n",
      "Kappa Score: 0.7875640857105297\n",
      "\t\n",
      "Feature failures.x and its importance is 0.2585074184284936\n",
      "Feature schoolsup.x and its importance is 0.1821829826422887\n",
      "Feature absences.x and its importance is 0.06665576179369676\n",
      "Feature Medu and its importance is 0.0578644437472527\n",
      "Feature health.x and its importance is 0.04494982271535529\n",
      "Feature famrel.x and its importance is 0.0412857450009101\n",
      "Feature goout.x and its importance is 0.03945282554287828\n",
      "Feature Mjob and its importance is 0.03104293457597013\n",
      "Feature studytime.x and its importance is 0.029500616216224438\n",
      "Feature sex and its importance is 0.02660429031264171\n",
      "Feature guardian.x and its importance is 0.02580618808496475\n",
      "Feature Fjob and its importance is 0.023165953615088414\n",
      "Feature Walc.x and its importance is 0.020861559703001357\n",
      "Feature age and its importance is 0.020184541556097734\n",
      "Feature traveltime.x and its importance is 0.019964737860357785\n",
      "Feature Fedu and its importance is 0.017564827289785485\n",
      "Feature freetime.x and its importance is 0.01756348480169348\n",
      "Feature famsup.x and its importance is 0.014435977360234312\n",
      "Feature Dalc.x and its importance is 0.01397566285904835\n",
      "Feature activities.x and its importance is 0.013449451368914456\n",
      "Feature famsize and its importance is 0.009104420834797258\n",
      "Feature internet and its importance is 0.008434152257578471\n",
      "Feature paid.x and its importance is 0.005942212150265842\n",
      "Feature romantic.x and its importance is 0.005203200687014384\n",
      "Feature reason and its importance is 0.0033012289723699123\n",
      "Feature nursery and its importance is 0.002995559623076401\n",
      "Feature school and its importance is 0.0\n",
      "Feature higher.x and its importance is 0.0\n",
      "Feature address and its importance is 0.0\n",
      "Feature Pstatus and its importance is 0.0\n"
     ]
    },
    {
     "data": {
      "text/plain": [
       "([<matplotlib.axis.XTick at 0x7fd9eb26a350>,\n",
       "  <matplotlib.axis.XTick at 0x7fd9eb279250>,\n",
       "  <matplotlib.axis.XTick at 0x7fd9eb279110>,\n",
       "  <matplotlib.axis.XTick at 0x7fd9eb2b0650>,\n",
       "  <matplotlib.axis.XTick at 0x7fd9eb2b0bd0>,\n",
       "  <matplotlib.axis.XTick at 0x7fd9eb2b8290>,\n",
       "  <matplotlib.axis.XTick at 0x7fd9eb2b88d0>,\n",
       "  <matplotlib.axis.XTick at 0x7fd9eb2b80d0>,\n",
       "  <matplotlib.axis.XTick at 0x7fd9eb2b8e90>,\n",
       "  <matplotlib.axis.XTick at 0x7fd9eb2bd710>,\n",
       "  <matplotlib.axis.XTick at 0x7fd9eb2bdd10>,\n",
       "  <matplotlib.axis.XTick at 0x7fd9eb2c4450>,\n",
       "  <matplotlib.axis.XTick at 0x7fd9eb2c49d0>,\n",
       "  <matplotlib.axis.XTick at 0x7fd9eb2c4e10>,\n",
       "  <matplotlib.axis.XTick at 0x7fd9eb2cb690>,\n",
       "  <matplotlib.axis.XTick at 0x7fd9eb2c4250>,\n",
       "  <matplotlib.axis.XTick at 0x7fd9eb2b8fd0>,\n",
       "  <matplotlib.axis.XTick at 0x7fd9eb2cbe10>,\n",
       "  <matplotlib.axis.XTick at 0x7fd9eb2d4350>,\n",
       "  <matplotlib.axis.XTick at 0x7fd9eb2d4990>,\n",
       "  <matplotlib.axis.XTick at 0x7fd9eb2d4a90>,\n",
       "  <matplotlib.axis.XTick at 0x7fd9eb2da650>,\n",
       "  <matplotlib.axis.XTick at 0x7fd9eb2dac90>,\n",
       "  <matplotlib.axis.XTick at 0x7fd9eb2e2310>,\n",
       "  <matplotlib.axis.XTick at 0x7fd9eb2e2950>,\n",
       "  <matplotlib.axis.XTick at 0x7fd9eb2da710>,\n",
       "  <matplotlib.axis.XTick at 0x7fd9eb2d4a10>,\n",
       "  <matplotlib.axis.XTick at 0x7fd9eb2e2e90>,\n",
       "  <matplotlib.axis.XTick at 0x7fd9eb2ea510>,\n",
       "  <matplotlib.axis.XTick at 0x7fd9eb2eab50>],\n",
       " <a list of 30 Text xticklabel objects>)"
      ]
     },
     "execution_count": 44,
     "metadata": {},
     "output_type": "execute_result"
    },
    {
     "data": {
      "image/png": "[encoded data removed]",
      "text/plain": [
       "<Figure size 432x288 with 1 Axes>"
      ]
     },
     "metadata": {
      "needs_background": "light"
     },
     "output_type": "display_data"
    }
   ],
   "source": [
    "imp_dict={}\n",
    "dtc.fit(X_train_x_G3,y_train_x_G3)\n",
    "y_pred_x_G3= dtc.predict(X_test_x_G3)\n",
    "print(classification_report(y_pred_x_G3,y_test_x_G3))\n",
    "print(\"Kappa Score: \" +str(cohen_kappa_score(y_pred_x_G3,y_test_x_G3)))\n",
    "print(\"\\t\")\n",
    "for importance, name in sorted(zip(dtc.feature_importances_, X_train_x_G3.columns),reverse=True):\n",
    "    imp_dict[name] = importance\n",
    "    print('Feature '+name+ ' and its importance is '+str(importance))\n",
    "plt.bar(range(len(imp_dict)), list(imp_dict.values()), align='center')\n",
    "plt.xticks(range(len(imp_dict)), list(imp_dict.keys()),rotation=90)"
   ]
  },
  {
   "cell_type": "code",
   "execution_count": 45,
   "metadata": {},
   "outputs": [
    {
     "name": "stdout",
     "output_type": "stream",
     "text": [
      "              precision    recall  f1-score   support\n",
      "\n",
      "           0       0.95      1.00      0.97       195\n",
      "           1       1.00      0.95      0.98       212\n",
      "\n",
      "    accuracy                           0.98       407\n",
      "   macro avg       0.98      0.98      0.98       407\n",
      "weighted avg       0.98      0.98      0.98       407\n",
      "\n",
      "Kappa Score: 0.9508750754375377\n",
      "\t\n",
      "Feature higher.y and its importance is 0.13118173044354328\n",
      "Feature failures.y and its importance is 0.11732481177773454\n",
      "Feature absences.y and its importance is 0.08261494867860696\n",
      "Feature schoolsup.y and its importance is 0.07466223350363191\n",
      "Feature Walc.y and its importance is 0.07350240848687524\n",
      "Feature address and its importance is 0.05873695649003914\n",
      "Feature school and its importance is 0.049651777050701375\n",
      "Feature Dalc.y and its importance is 0.049616959669320046\n",
      "Feature goout.y and its importance is 0.0454570572539866\n",
      "Feature Fjob and its importance is 0.038688119896628306\n",
      "Feature Fedu and its importance is 0.03267687525966845\n",
      "Feature Mjob and its importance is 0.030329389110080856\n",
      "Feature Medu and its importance is 0.028880031729888265\n",
      "Feature sex and its importance is 0.0284706592202482\n",
      "Feature famrel.y and its importance is 0.023191410728617922\n",
      "Feature age and its importance is 0.022302536347931477\n",
      "Feature internet and its importance is 0.02031755969938359\n",
      "Feature studytime.y and its importance is 0.01903694090648036\n",
      "Feature traveltime.y and its importance is 0.016493530610340052\n",
      "Feature Pstatus and its importance is 0.013919611544082451\n",
      "Feature famsize and its importance is 0.013764329148680095\n",
      "Feature romantic.y and its importance is 0.01232214550553568\n",
      "Feature freetime.y and its importance is 0.006250652581251973\n",
      "Feature paid.y and its importance is 0.005250236885175294\n",
      "Feature nursery and its importance is 0.0028712232965802395\n",
      "Feature guardian.y and its importance is 0.002045096674022948\n",
      "Feature famsup.y and its importance is 0.0004407675009647003\n",
      "Feature reason and its importance is 0.0\n",
      "Feature health.y and its importance is 0.0\n",
      "Feature activities.y and its importance is 0.0\n"
     ]
    },
    {
     "data": {
      "text/plain": [
       "([<matplotlib.axis.XTick at 0x7fd9eb3ad550>,\n",
       "  <matplotlib.axis.XTick at 0x7fd9eb3b6f10>,\n",
       "  <matplotlib.axis.XTick at 0x7fd9eb3b6c10>,\n",
       "  <matplotlib.axis.XTick at 0x7fd9eb366ed0>,\n",
       "  <matplotlib.axis.XTick at 0x7fd9cb487510>,\n",
       "  <matplotlib.axis.XTick at 0x7fd9cb487b50>,\n",
       "  <matplotlib.axis.XTick at 0x7fd9cb48e250>,\n",
       "  <matplotlib.axis.XTick at 0x7fd9eb366950>,\n",
       "  <matplotlib.axis.XTick at 0x7fd9cb48e510>,\n",
       "  <matplotlib.axis.XTick at 0x7fd9cb48eed0>,\n",
       "  <matplotlib.axis.XTick at 0x7fd9cb495510>,\n",
       "  <matplotlib.axis.XTick at 0x7fd9cb495b10>,\n",
       "  <matplotlib.axis.XTick at 0x7fd9cb49a210>,\n",
       "  <matplotlib.axis.XTick at 0x7fd9cb49a810>,\n",
       "  <matplotlib.axis.XTick at 0x7fd9cb49ae50>,\n",
       "  <matplotlib.axis.XTick at 0x7fd9cb49f4d0>,\n",
       "  <matplotlib.axis.XTick at 0x7fd9cb495cd0>,\n",
       "  <matplotlib.axis.XTick at 0x7fd9cb48e9d0>,\n",
       "  <matplotlib.axis.XTick at 0x7fd9cb49f2d0>,\n",
       "  <matplotlib.axis.XTick at 0x7fd9cb4aa190>,\n",
       "  <matplotlib.axis.XTick at 0x7fd9cb4aa790>,\n",
       "  <matplotlib.axis.XTick at 0x7fd9cb4aadd0>,\n",
       "  <matplotlib.axis.XTick at 0x7fd9cb4b0450>,\n",
       "  <matplotlib.axis.XTick at 0x7fd9cb4b0a90>,\n",
       "  <matplotlib.axis.XTick at 0x7fd9cb4b6050>,\n",
       "  <matplotlib.axis.XTick at 0x7fd9cb4b6750>,\n",
       "  <matplotlib.axis.XTick at 0x7fd9cb4b0510>,\n",
       "  <matplotlib.axis.XTick at 0x7fd9cb495b50>,\n",
       "  <matplotlib.axis.XTick at 0x7fd9cb4b6c90>,\n",
       "  <matplotlib.axis.XTick at 0x7fd9cb4c0310>],\n",
       " <a list of 30 Text xticklabel objects>)"
      ]
     },
     "execution_count": 45,
     "metadata": {},
     "output_type": "execute_result"
    },
    {
     "data": {
      "image/png": "[encoded data removed]",
      "text/plain": [
       "<Figure size 432x288 with 1 Axes>"
      ]
     },
     "metadata": {
      "needs_background": "light"
     },
     "output_type": "display_data"
    }
   ],
   "source": [
    "imp_dict={}\n",
    "dtc.fit(X_train_y_G1,y_train_y_G1)\n",
    "y_pred_y_G1 = dtc.predict(X_test_y_G1)\n",
    "print(classification_report(y_pred_y_G1,y_test_y_G1))\n",
    "print(\"Kappa Score: \" +str(cohen_kappa_score(y_pred_y_G1,y_test_y_G1)))\n",
    "print(\"\\t\")\n",
    "for importance, name in sorted(zip(dtc.feature_importances_, X_train_y_G1.columns),reverse=True):\n",
    "    imp_dict[name] = importance\n",
    "    print ('Feature '+name+ ' and its importance is '+str(importance))\n",
    "plt.bar(range(len(imp_dict)), list(imp_dict.values()), align='center')\n",
    "plt.xticks(range(len(imp_dict)), list(imp_dict.keys()),rotation=90)"
   ]
  },
  {
   "cell_type": "code",
   "execution_count": 46,
   "metadata": {},
   "outputs": [
    {
     "name": "stdout",
     "output_type": "stream",
     "text": [
      "              precision    recall  f1-score   support\n",
      "\n",
      "           0       0.97      1.00      0.99       205\n",
      "           1       1.00      0.97      0.99       213\n",
      "\n",
      "    accuracy                           0.99       418\n",
      "   macro avg       0.99      0.99      0.99       418\n",
      "weighted avg       0.99      0.99      0.99       418\n",
      "\n",
      "Kappa Score: 0.9712971228455676\n",
      "\t\n",
      "Feature goout.y and its importance is 0.15238298922299845\n",
      "Feature school and its importance is 0.13087092415434887\n",
      "Feature higher.y and its importance is 0.1110744518110141\n",
      "Feature absences.y and its importance is 0.07262541945702289\n",
      "Feature sex and its importance is 0.07224349146110054\n",
      "Feature age and its importance is 0.06218191212013232\n",
      "Feature studytime.y and its importance is 0.04860490648129095\n",
      "Feature schoolsup.y and its importance is 0.045661321123470135\n",
      "Feature Mjob and its importance is 0.037696660489189286\n",
      "Feature famsize and its importance is 0.031606611196681254\n",
      "Feature romantic.y and its importance is 0.030637370759841288\n",
      "Feature Fjob and its importance is 0.02817002349926823\n",
      "Feature guardian.y and its importance is 0.026728643363415218\n",
      "Feature famsup.y and its importance is 0.026038246650011355\n",
      "Feature Walc.y and its importance is 0.02528439307351865\n",
      "Feature paid.y and its importance is 0.02256297728038093\n",
      "Feature health.y and its importance is 0.019890514254727664\n",
      "Feature Fedu and its importance is 0.014292222870156078\n",
      "Feature famrel.y and its importance is 0.009612320794521418\n",
      "Feature Dalc.y and its importance is 0.00850620031796502\n",
      "Feature Pstatus and its importance is 0.005956173455402656\n",
      "Feature activities.y and its importance is 0.0032528528528528505\n",
      "Feature freetime.y and its importance is 0.0031423565677999514\n",
      "Feature internet and its importance is 0.003134828134422459\n",
      "Feature nursery and its importance is 0.002964622144980203\n",
      "Feature traveltime.y and its importance is 0.002731843442470054\n",
      "Feature address and its importance is 0.002145723021017157\n",
      "Feature reason and its importance is 0.0\n",
      "Feature failures.y and its importance is 0.0\n",
      "Feature Medu and its importance is 0.0\n"
     ]
    },
    {
     "data": {
      "text/plain": [
       "([<matplotlib.axis.XTick at 0x7fd9cb5844d0>,\n",
       "  <matplotlib.axis.XTick at 0x7fd9cb58de90>,\n",
       "  <matplotlib.axis.XTick at 0x7fd9cb58db90>,\n",
       "  <matplotlib.axis.XTick at 0x7fd9cb53ee10>,\n",
       "  <matplotlib.axis.XTick at 0x7fd9cb6434d0>,\n",
       "  <matplotlib.axis.XTick at 0x7fd9cb643a90>,\n",
       "  <matplotlib.axis.XTick at 0x7fd9cb643cd0>,\n",
       "  <matplotlib.axis.XTick at 0x7fd9cb53e890>,\n",
       "  <matplotlib.axis.XTick at 0x7fd9cb649110>,\n",
       "  <matplotlib.axis.XTick at 0x7fd9cb649dd0>,\n",
       "  <matplotlib.axis.XTick at 0x7fd9cb650450>,\n",
       "  <matplotlib.axis.XTick at 0x7fd9cb650a90>,\n",
       "  <matplotlib.axis.XTick at 0x7fd9cb650e90>,\n",
       "  <matplotlib.axis.XTick at 0x7fd9cb656750>,\n",
       "  <matplotlib.axis.XTick at 0x7fd9cb656990>,\n",
       "  <matplotlib.axis.XTick at 0x7fd9cb65c350>,\n",
       "  <matplotlib.axis.XTick at 0x7fd9cb656090>,\n",
       "  <matplotlib.axis.XTick at 0x7fd9cb650990>,\n",
       "  <matplotlib.axis.XTick at 0x7fd9cb65c190>,\n",
       "  <matplotlib.axis.XTick at 0x7fd9cb65cd50>,\n",
       "  <matplotlib.axis.XTick at 0x7fd9cb6656d0>,\n",
       "  <matplotlib.axis.XTick at 0x7fd9cb665d10>,\n",
       "  <matplotlib.axis.XTick at 0x7fd9cb66c390>,\n",
       "  <matplotlib.axis.XTick at 0x7fd9cb66c9d0>,\n",
       "  <matplotlib.axis.XTick at 0x7fd9cb66c610>,\n",
       "  <matplotlib.axis.XTick at 0x7fd9cb672690>,\n",
       "  <matplotlib.axis.XTick at 0x7fd9cb66c790>,\n",
       "  <matplotlib.axis.XTick at 0x7fd9cb66cb50>,\n",
       "  <matplotlib.axis.XTick at 0x7fd9cb672bd0>,\n",
       "  <matplotlib.axis.XTick at 0x7fd9cb678250>],\n",
       " <a list of 30 Text xticklabel objects>)"
      ]
     },
     "execution_count": 46,
     "metadata": {},
     "output_type": "execute_result"
    },
    {
     "data": {
      "image/png": "[encoded data removed]",
      "text/plain": [
       "<Figure size 432x288 with 1 Axes>"
      ]
     },
     "metadata": {
      "needs_background": "light"
     },
     "output_type": "display_data"
    }
   ],
   "source": [
    "imp_dict={}\n",
    "dtc.fit(X_train_y_G3,y_train_y_G3)\n",
    "y_pred_y_G3 = dtc.predict(X_test_y_G3)\n",
    "print(classification_report(y_pred_y_G3,y_test_y_G3))\n",
    "print(\"Kappa Score: \" +str(cohen_kappa_score(y_pred_y_G3,y_test_y_G3)))\n",
    "print(\"\\t\")\n",
    "for importance, name in sorted(zip(dtc.feature_importances_, X_train_y_G3.columns),reverse=True):\n",
    "    imp_dict[name] = importance\n",
    "    print ('Feature '+name+ ' and its importance is '+str(importance))\n",
    "plt.bar(range(len(imp_dict)), list(imp_dict.values()), align='center')\n",
    "plt.xticks(range(len(imp_dict)), list(imp_dict.keys()),rotation=90)"
   ]
  },
  {
   "cell_type": "markdown",
   "metadata": {},
   "source": [
    "### Random Forest Classifier"
   ]
  },
  {
   "cell_type": "code",
   "execution_count": 47,
   "metadata": {},
   "outputs": [],
   "source": [
    "rf = RandomForestClassifier()"
   ]
  },
  {
   "cell_type": "code",
   "execution_count": 48,
   "metadata": {},
   "outputs": [
    {
     "name": "stdout",
     "output_type": "stream",
     "text": [
      "              precision    recall  f1-score   support\n",
      "\n",
      "           0       0.97      0.99      0.98       151\n",
      "           1       0.99      0.97      0.98       182\n",
      "\n",
      "    accuracy                           0.98       333\n",
      "   macro avg       0.98      0.98      0.98       333\n",
      "weighted avg       0.98      0.98      0.98       333\n",
      "\n",
      "Kappa Score: 0.9576620593203408\n",
      "\t\n",
      "Feature failures.x and its importance is 0.2687748162913512\n",
      "Feature absences.x and its importance is 0.056637402925290785\n",
      "Feature Fedu and its importance is 0.042063169406985755\n",
      "Feature age and its importance is 0.041250458894310296\n",
      "Feature Mjob and its importance is 0.041198198916761415\n",
      "Feature Walc.x and its importance is 0.038405569375479134\n",
      "Feature Fjob and its importance is 0.036250379083208405\n",
      "Feature goout.x and its importance is 0.036248702822119394\n",
      "Feature studytime.x and its importance is 0.03597205711362904\n",
      "Feature Medu and its importance is 0.034810282846464834\n",
      "Feature health.x and its importance is 0.03365244670049846\n",
      "Feature freetime.x and its importance is 0.033458474789003656\n",
      "Feature famrel.x and its importance is 0.03062848602412104\n",
      "Feature reason and its importance is 0.030245958015056022\n",
      "Feature Dalc.x and its importance is 0.02412945148425299\n",
      "Feature guardian.x and its importance is 0.02098596183417755\n",
      "Feature paid.x and its importance is 0.01982300639161424\n",
      "Feature sex and its importance is 0.019676528552722082\n",
      "Feature traveltime.x and its importance is 0.01827662794387984\n",
      "Feature famsup.x and its importance is 0.01724123185251793\n",
      "Feature romantic.x and its importance is 0.015836847123542754\n",
      "Feature activities.x and its importance is 0.014684247814442674\n",
      "Feature schoolsup.x and its importance is 0.013892820648220002\n",
      "Feature famsize and its importance is 0.013821528004972338\n",
      "Feature nursery and its importance is 0.01370031241810477\n",
      "Feature address and its importance is 0.013204368460282535\n",
      "Feature internet and its importance is 0.010672760585555639\n",
      "Feature higher.x and its importance is 0.00906158558684548\n",
      "Feature school and its importance is 0.008126789449622538\n",
      "Feature Pstatus and its importance is 0.00726952864496709\n"
     ]
    },
    {
     "data": {
      "text/plain": [
       "([<matplotlib.axis.XTick at 0x7fd9cb75c350>,\n",
       "  <matplotlib.axis.XTick at 0x7fd9cb760510>,\n",
       "  <matplotlib.axis.XTick at 0x7fd9cb7603d0>,\n",
       "  <matplotlib.axis.XTick at 0x7fd9cc024890>,\n",
       "  <matplotlib.axis.XTick at 0x7fd9cc024dd0>,\n",
       "  <matplotlib.axis.XTick at 0x7fd9cc02c410>,\n",
       "  <matplotlib.axis.XTick at 0x7fd9cc02cad0>,\n",
       "  <matplotlib.axis.XTick at 0x7fd9cc033090>,\n",
       "  <matplotlib.axis.XTick at 0x7fd9cc033750>,\n",
       "  <matplotlib.axis.XTick at 0x7fd9cc033dd0>,\n",
       "  <matplotlib.axis.XTick at 0x7fd9cc0393d0>,\n",
       "  <matplotlib.axis.XTick at 0x7fd9cc039a50>,\n",
       "  <matplotlib.axis.XTick at 0x7fd9cc033210>,\n",
       "  <matplotlib.axis.XTick at 0x7fd9cc024790>,\n",
       "  <matplotlib.axis.XTick at 0x7fd9cc039ed0>,\n",
       "  <matplotlib.axis.XTick at 0x7fd9cc03e550>,\n",
       "  <matplotlib.axis.XTick at 0x7fd9cc03eb90>,\n",
       "  <matplotlib.axis.XTick at 0x7fd9cc049290>,\n",
       "  <matplotlib.axis.XTick at 0x7fd9cc049850>,\n",
       "  <matplotlib.axis.XTick at 0x7fd9cc049e90>,\n",
       "  <matplotlib.axis.XTick at 0x7fd9cc04f510>,\n",
       "  <matplotlib.axis.XTick at 0x7fd9cc049190>,\n",
       "  <matplotlib.axis.XTick at 0x7fd9cc0399d0>,\n",
       "  <matplotlib.axis.XTick at 0x7fd9cc04f750>,\n",
       "  <matplotlib.axis.XTick at 0x7fd9cc056190>,\n",
       "  <matplotlib.axis.XTick at 0x7fd9cc056790>,\n",
       "  <matplotlib.axis.XTick at 0x7fd9cc056dd0>,\n",
       "  <matplotlib.axis.XTick at 0x7fd9cc05c450>,\n",
       "  <matplotlib.axis.XTick at 0x7fd9cc05ca90>,\n",
       "  <matplotlib.axis.XTick at 0x7fd9cc062050>],\n",
       " <a list of 30 Text xticklabel objects>)"
      ]
     },
     "execution_count": 48,
     "metadata": {},
     "output_type": "execute_result"
    },
    {
     "data": {
      "image/png": "[encoded data removed]",
      "text/plain": [
       "<Figure size 432x288 with 1 Axes>"
      ]
     },
     "metadata": {
      "needs_background": "light"
     },
     "output_type": "display_data"
    }
   ],
   "source": [
    "imp_dict={}\n",
    "rf.fit(X_train_x_G1,y_train_x_G1)\n",
    "y_pred_x_G1= rf.predict(X_test_x_G1)\n",
    "print(classification_report(y_pred_x_G1,y_test_x_G1))\n",
    "print(\"Kappa Score: \" +str(cohen_kappa_score(y_pred_x_G1,y_test_x_G1)))\n",
    "print(\"\\t\")\n",
    "for importance, name in sorted(zip(rf.feature_importances_, X_train_x_G1.columns),reverse=True):\n",
    "    imp_dict[name] = importance\n",
    "    print('Feature '+name+ ' and its importance is '+str(importance))\n",
    "plt.bar(range(len(imp_dict)), list(imp_dict.values()), align='center')\n",
    "plt.xticks(range(len(imp_dict)), list(imp_dict.keys()),rotation=90)"
   ]
  },
  {
   "cell_type": "code",
   "execution_count": 49,
   "metadata": {},
   "outputs": [
    {
     "name": "stdout",
     "output_type": "stream",
     "text": [
      "              precision    recall  f1-score   support\n",
      "\n",
      "           0       0.95      0.94      0.94       146\n",
      "           1       0.94      0.96      0.95       157\n",
      "\n",
      "    accuracy                           0.95       303\n",
      "   macro avg       0.95      0.95      0.95       303\n",
      "weighted avg       0.95      0.95      0.95       303\n",
      "\n",
      "Kappa Score: 0.8941992929160665\n",
      "\t\n",
      "Feature failures.x and its importance is 0.21232276623508656\n",
      "Feature schoolsup.x and its importance is 0.10424298042529888\n",
      "Feature absences.x and its importance is 0.06378207582320662\n",
      "Feature goout.x and its importance is 0.04275521703791475\n",
      "Feature freetime.x and its importance is 0.03868605791715744\n",
      "Feature Mjob and its importance is 0.03866056952164425\n",
      "Feature Fedu and its importance is 0.03738579757688607\n",
      "Feature age and its importance is 0.03635481149292108\n",
      "Feature Walc.x and its importance is 0.0361930718064125\n",
      "Feature Medu and its importance is 0.034563379232363835\n",
      "Feature health.x and its importance is 0.03379316408274699\n",
      "Feature reason and its importance is 0.029480444432979747\n",
      "Feature famrel.x and its importance is 0.02918521202065327\n",
      "Feature studytime.x and its importance is 0.02796312875112299\n",
      "Feature Fjob and its importance is 0.025223679196787294\n",
      "Feature Dalc.x and its importance is 0.02278670825024809\n",
      "Feature guardian.x and its importance is 0.02099595855113201\n",
      "Feature traveltime.x and its importance is 0.01878083217160862\n",
      "Feature sex and its importance is 0.016969365831197597\n",
      "Feature paid.x and its importance is 0.016431729106417457\n",
      "Feature romantic.x and its importance is 0.01469869922532623\n",
      "Feature activities.x and its importance is 0.0146565769664031\n",
      "Feature famsup.x and its importance is 0.0142771170772532\n",
      "Feature famsize and its importance is 0.012438997660693145\n",
      "Feature nursery and its importance is 0.011577273780459639\n",
      "Feature address and its importance is 0.01102038911376704\n",
      "Feature internet and its importance is 0.010712067548479965\n",
      "Feature school and its importance is 0.008690726445691037\n",
      "Feature Pstatus and its importance is 0.008463062536723291\n",
      "Feature higher.x and its importance is 0.0069081401814172685\n"
     ]
    },
    {
     "data": {
      "text/plain": [
       "([<matplotlib.axis.XTick at 0x7fd9cc12b6d0>,\n",
       "  <matplotlib.axis.XTick at 0x7fd9cb6781d0>,\n",
       "  <matplotlib.axis.XTick at 0x7fd9cc11f150>,\n",
       "  <matplotlib.axis.XTick at 0x7fd9cc1d4850>,\n",
       "  <matplotlib.axis.XTick at 0x7fd9cc1e0690>,\n",
       "  <matplotlib.axis.XTick at 0x7fd9cc1e0cd0>,\n",
       "  <matplotlib.axis.XTick at 0x7fd9cc1e73d0>,\n",
       "  <matplotlib.axis.XTick at 0x7fd9cb6c58d0>,\n",
       "  <matplotlib.axis.XTick at 0x7fd9cc1e71d0>,\n",
       "  <matplotlib.axis.XTick at 0x7fd9cc1e75d0>,\n",
       "  <matplotlib.axis.XTick at 0x7fd9cc1ed5d0>,\n",
       "  <matplotlib.axis.XTick at 0x7fd9cc1edc10>,\n",
       "  <matplotlib.axis.XTick at 0x7fd9cc1f4290>,\n",
       "  <matplotlib.axis.XTick at 0x7fd9cc1f48d0>,\n",
       "  <matplotlib.axis.XTick at 0x7fd9cc1f4f10>,\n",
       "  <matplotlib.axis.XTick at 0x7fd9cc1fb590>,\n",
       "  <matplotlib.axis.XTick at 0x7fd9cc1fbbd0>,\n",
       "  <matplotlib.axis.XTick at 0x7fd9cc1f4f90>,\n",
       "  <matplotlib.axis.XTick at 0x7fd9cc1ed150>,\n",
       "  <matplotlib.axis.XTick at 0x7fd9cc2022d0>,\n",
       "  <matplotlib.axis.XTick at 0x7fd9cc202910>,\n",
       "  <matplotlib.axis.XTick at 0x7fd9cc2027d0>,\n",
       "  <matplotlib.axis.XTick at 0x7fd9cc2065d0>,\n",
       "  <matplotlib.axis.XTick at 0x7fd9cc206c10>,\n",
       "  <matplotlib.axis.XTick at 0x7fd9cc20f290>,\n",
       "  <matplotlib.axis.XTick at 0x7fd9cc20f8d0>,\n",
       "  <matplotlib.axis.XTick at 0x7fd9cc206550>,\n",
       "  <matplotlib.axis.XTick at 0x7fd9cc1fb210>,\n",
       "  <matplotlib.axis.XTick at 0x7fd9cc20fe10>,\n",
       "  <matplotlib.axis.XTick at 0x7fd9cc216490>],\n",
       " <a list of 30 Text xticklabel objects>)"
      ]
     },
     "execution_count": 49,
     "metadata": {},
     "output_type": "execute_result"
    },
    {
     "data": {
      "image/png": "[encoded data removed]",
      "text/plain": [
       "<Figure size 432x288 with 1 Axes>"
      ]
     },
     "metadata": {
      "needs_background": "light"
     },
     "output_type": "display_data"
    }
   ],
   "source": [
    "imp_dict={}\n",
    "rf.fit(X_train_x_G3,y_train_x_G3)\n",
    "y_pred_x_G3= rf.predict(X_test_x_G3)\n",
    "print(classification_report(y_pred_x_G3,y_test_x_G3))\n",
    "print(\"Kappa Score: \" +str(cohen_kappa_score(y_pred_x_G3,y_test_x_G3)))\n",
    "print(\"\\t\")\n",
    "for importance, name in sorted(zip(rf.feature_importances_, X_train_x_G3.columns),reverse=True):\n",
    "    imp_dict[name] = importance\n",
    "    print('Feature '+name+ ' and its importance is '+str(importance))\n",
    "plt.bar(range(len(imp_dict)), list(imp_dict.values()), align='center')\n",
    "plt.xticks(range(len(imp_dict)), list(imp_dict.keys()),rotation=90)"
   ]
  },
  {
   "cell_type": "code",
   "execution_count": 50,
   "metadata": {},
   "outputs": [
    {
     "name": "stdout",
     "output_type": "stream",
     "text": [
      "              precision    recall  f1-score   support\n",
      "\n",
      "           0       1.00      1.00      1.00       205\n",
      "           1       1.00      1.00      1.00       202\n",
      "\n",
      "    accuracy                           1.00       407\n",
      "   macro avg       1.00      1.00      1.00       407\n",
      "weighted avg       1.00      1.00      1.00       407\n",
      "\n",
      "Kappa Score: 1.0\n",
      "\t\n",
      "Feature studytime.y and its importance is 0.0801834632173126\n",
      "Feature higher.y and its importance is 0.06485908305879964\n",
      "Feature failures.y and its importance is 0.060328729809999385\n",
      "Feature absences.y and its importance is 0.05969162497826289\n",
      "Feature Medu and its importance is 0.054631074186467427\n",
      "Feature schoolsup.y and its importance is 0.045963188762952974\n",
      "Feature Dalc.y and its importance is 0.043720523658786106\n",
      "Feature Mjob and its importance is 0.04180410288030466\n",
      "Feature age and its importance is 0.037197467155941175\n",
      "Feature health.y and its importance is 0.03675778093056127\n",
      "Feature Walc.y and its importance is 0.03661531130517649\n",
      "Feature Fedu and its importance is 0.03619497008449951\n",
      "Feature goout.y and its importance is 0.03522857647230246\n",
      "Feature freetime.y and its importance is 0.035015850892605435\n",
      "Feature school and its importance is 0.03458752211991475\n",
      "Feature sex and its importance is 0.03283258875372109\n",
      "Feature reason and its importance is 0.02867395669971144\n",
      "Feature address and its importance is 0.027262350400235297\n",
      "Feature famsize and its importance is 0.027008001829590834\n",
      "Feature famrel.y and its importance is 0.025197868439300632\n",
      "Feature Fjob and its importance is 0.023106992855424058\n",
      "Feature traveltime.y and its importance is 0.022589923700005676\n",
      "Feature romantic.y and its importance is 0.01985401540672167\n",
      "Feature guardian.y and its importance is 0.018926108969354618\n",
      "Feature activities.y and its importance is 0.01766425605568454\n",
      "Feature famsup.y and its importance is 0.012743121878010114\n",
      "Feature internet and its importance is 0.01132527491333209\n",
      "Feature nursery and its importance is 0.011271313481657386\n",
      "Feature Pstatus and its importance is 0.010122595888935179\n",
      "Feature paid.y and its importance is 0.008642361214428745\n"
     ]
    },
    {
     "data": {
      "text/plain": [
       "([<matplotlib.axis.XTick at 0x7fd9cc2e60d0>,\n",
       "  <matplotlib.axis.XTick at 0x7fd9cb5305d0>,\n",
       "  <matplotlib.axis.XTick at 0x7fd9cc1148d0>,\n",
       "  <matplotlib.axis.XTick at 0x7fd9cc39bc50>,\n",
       "  <matplotlib.axis.XTick at 0x7fd9cc3a6210>,\n",
       "  <matplotlib.axis.XTick at 0x7fd9cc3a6810>,\n",
       "  <matplotlib.axis.XTick at 0x7fd9cc3a6e90>,\n",
       "  <matplotlib.axis.XTick at 0x7fd9cc241a90>,\n",
       "  <matplotlib.axis.XTick at 0x7fd9cc3ab310>,\n",
       "  <matplotlib.axis.XTick at 0x7fd9cc3abb90>,\n",
       "  <matplotlib.axis.XTick at 0x7fd9cc3b2110>,\n",
       "  <matplotlib.axis.XTick at 0x7fd9cc3b2810>,\n",
       "  <matplotlib.axis.XTick at 0x7fd9cc3b2e50>,\n",
       "  <matplotlib.axis.XTick at 0x7fd9cc3b94d0>,\n",
       "  <matplotlib.axis.XTick at 0x7fd9cc3b9b10>,\n",
       "  <matplotlib.axis.XTick at 0x7fd9cc3b9fd0>,\n",
       "  <matplotlib.axis.XTick at 0x7fd9cc3b2890>,\n",
       "  <matplotlib.axis.XTick at 0x7fd9cc3ab7d0>,\n",
       "  <matplotlib.axis.XTick at 0x7fd9cc3c2490>,\n",
       "  <matplotlib.axis.XTick at 0x7fd9cc3c2e50>,\n",
       "  <matplotlib.axis.XTick at 0x7fd9cc3c7450>,\n",
       "  <matplotlib.axis.XTick at 0x7fd9cc3c7a90>,\n",
       "  <matplotlib.axis.XTick at 0x7fd9cc3cf050>,\n",
       "  <matplotlib.axis.XTick at 0x7fd9cc3cf750>,\n",
       "  <matplotlib.axis.XTick at 0x7fd9cc3cfd90>,\n",
       "  <matplotlib.axis.XTick at 0x7fd9cc3d6410>,\n",
       "  <matplotlib.axis.XTick at 0x7fd9cc3cf6d0>,\n",
       "  <matplotlib.axis.XTick at 0x7fd9cc3c2690>,\n",
       "  <matplotlib.axis.XTick at 0x7fd9cc3d6950>,\n",
       "  <matplotlib.axis.XTick at 0x7fd9cc3d64d0>],\n",
       " <a list of 30 Text xticklabel objects>)"
      ]
     },
     "execution_count": 50,
     "metadata": {},
     "output_type": "execute_result"
    },
    {
     "data": {
      "image/png": "[encoded data removed]",
      "text/plain": [
       "<Figure size 432x288 with 1 Axes>"
      ]
     },
     "metadata": {
      "needs_background": "light"
     },
     "output_type": "display_data"
    }
   ],
   "source": [
    "imp_dict={}\n",
    "rf.fit(X_train_y_G1,y_train_y_G1)\n",
    "y_pred_y_G1 = rf.predict(X_test_y_G1)\n",
    "print(classification_report(y_pred_y_G1,y_test_y_G1))\n",
    "print(\"Kappa Score: \" +str(cohen_kappa_score(y_pred_y_G1,y_test_y_G1)))\n",
    "print(\"\\t\")\n",
    "for importance, name in sorted(zip(rf.feature_importances_, X_train_y_G1.columns),reverse=True):\n",
    "    imp_dict[name] = importance\n",
    "    print ('Feature '+name+ ' and its importance is '+str(importance))\n",
    "plt.bar(range(len(imp_dict)), list(imp_dict.values()), align='center')\n",
    "plt.xticks(range(len(imp_dict)), list(imp_dict.keys()),rotation=90)"
   ]
  },
  {
   "cell_type": "code",
   "execution_count": 51,
   "metadata": {},
   "outputs": [
    {
     "name": "stdout",
     "output_type": "stream",
     "text": [
      "              precision    recall  f1-score   support\n",
      "\n",
      "           0       1.00      1.00      1.00       211\n",
      "           1       1.00      1.00      1.00       207\n",
      "\n",
      "    accuracy                           1.00       418\n",
      "   macro avg       1.00      1.00      1.00       418\n",
      "weighted avg       1.00      1.00      1.00       418\n",
      "\n",
      "Kappa Score: 1.0\n",
      "\t\n",
      "Feature school and its importance is 0.08294862788133187\n",
      "Feature Dalc.y and its importance is 0.06404151941834663\n",
      "Feature goout.y and its importance is 0.06156183760014206\n",
      "Feature higher.y and its importance is 0.05395449103601632\n",
      "Feature absences.y and its importance is 0.04977722144117094\n",
      "Feature studytime.y and its importance is 0.04950212705092043\n",
      "Feature failures.y and its importance is 0.04835401666871081\n",
      "Feature Medu and its importance is 0.046310571010963225\n",
      "Feature schoolsup.y and its importance is 0.04072566556905133\n",
      "Feature sex and its importance is 0.04051731650646728\n",
      "Feature Fedu and its importance is 0.03736251005996678\n",
      "Feature freetime.y and its importance is 0.03550177143028279\n",
      "Feature age and its importance is 0.03471835778499979\n",
      "Feature Mjob and its importance is 0.03415220992715367\n",
      "Feature health.y and its importance is 0.033948094864232566\n",
      "Feature address and its importance is 0.03304047367082805\n",
      "Feature Walc.y and its importance is 0.030071419912715346\n",
      "Feature Fjob and its importance is 0.027406378344588728\n",
      "Feature reason and its importance is 0.026933259689535142\n",
      "Feature famrel.y and its importance is 0.026382234946829862\n",
      "Feature famsup.y and its importance is 0.025098024017720388\n",
      "Feature traveltime.y and its importance is 0.018492126551201978\n",
      "Feature guardian.y and its importance is 0.01815473964170491\n",
      "Feature famsize and its importance is 0.016974016805143856\n",
      "Feature activities.y and its importance is 0.015906475872156732\n",
      "Feature paid.y and its importance is 0.013478106320082946\n",
      "Feature romantic.y and its importance is 0.010482883548062252\n",
      "Feature nursery and its importance is 0.009646614108879173\n",
      "Feature internet and its importance is 0.008421727753678174\n",
      "Feature Pstatus and its importance is 0.006135180567116182\n"
     ]
    },
    {
     "data": {
      "text/plain": [
       "([<matplotlib.axis.XTick at 0x7fd9cc4a5610>,\n",
       "  <matplotlib.axis.XTick at 0x7fd9cc3f6290>,\n",
       "  <matplotlib.axis.XTick at 0x7fd9cc3f6110>,\n",
       "  <matplotlib.axis.XTick at 0x7fd9cc561750>,\n",
       "  <matplotlib.axis.XTick at 0x7fd9cc561cd0>,\n",
       "  <matplotlib.axis.XTick at 0x7fd9cc5693d0>,\n",
       "  <matplotlib.axis.XTick at 0x7fd9cc569990>,\n",
       "  <matplotlib.axis.XTick at 0x7fd9cc569850>,\n",
       "  <matplotlib.axis.XTick at 0x7fd9cc561a10>,\n",
       "  <matplotlib.axis.XTick at 0x7fd9cc56f610>,\n",
       "  <matplotlib.axis.XTick at 0x7fd9cc56fc10>,\n",
       "  <matplotlib.axis.XTick at 0x7fd9cc575290>,\n",
       "  <matplotlib.axis.XTick at 0x7fd9cc5758d0>,\n",
       "  <matplotlib.axis.XTick at 0x7fd9cc575f10>,\n",
       "  <matplotlib.axis.XTick at 0x7fd9cc57b590>,\n",
       "  <matplotlib.axis.XTick at 0x7fd9cc57bbd0>,\n",
       "  <matplotlib.axis.XTick at 0x7fd9cc57b510>,\n",
       "  <matplotlib.axis.XTick at 0x7fd9cc575210>,\n",
       "  <matplotlib.axis.XTick at 0x7fd9cc584210>,\n",
       "  <matplotlib.axis.XTick at 0x7fd9cc584910>,\n",
       "  <matplotlib.axis.XTick at 0x7fd9cc5847d0>,\n",
       "  <matplotlib.axis.XTick at 0x7fd9cc58b5d0>,\n",
       "  <matplotlib.axis.XTick at 0x7fd9cc58bc10>,\n",
       "  <matplotlib.axis.XTick at 0x7fd9cc592290>,\n",
       "  <matplotlib.axis.XTick at 0x7fd9cc5928d0>,\n",
       "  <matplotlib.axis.XTick at 0x7fd9cc592f10>,\n",
       "  <matplotlib.axis.XTick at 0x7fd9cc592850>,\n",
       "  <matplotlib.axis.XTick at 0x7fd9cc584890>,\n",
       "  <matplotlib.axis.XTick at 0x7fd9cc598490>,\n",
       "  <matplotlib.axis.XTick at 0x7fd9cc598ad0>],\n",
       " <a list of 30 Text xticklabel objects>)"
      ]
     },
     "execution_count": 51,
     "metadata": {},
     "output_type": "execute_result"
    },
    {
     "data": {
      "image/png": "[encoded data removed]",
      "text/plain": [
       "<Figure size 432x288 with 1 Axes>"
      ]
     },
     "metadata": {
      "needs_background": "light"
     },
     "output_type": "display_data"
    }
   ],
   "source": [
    "imp_dict={}\n",
    "rf.fit(X_train_y_G3,y_train_y_G3)\n",
    "y_pred_y_G3 = rf.predict(X_test_y_G3)\n",
    "print(classification_report(y_pred_y_G3,y_test_y_G3))\n",
    "print(\"Kappa Score: \" +str(cohen_kappa_score(y_pred_y_G3,y_test_y_G3)))\n",
    "print(\"\\t\")\n",
    "for importance, name in sorted(zip(rf.feature_importances_, X_train_y_G3.columns),reverse=True):\n",
    "    imp_dict[name] = importance\n",
    "    print ('Feature '+name+ ' and its importance is '+str(importance))\n",
    "plt.bar(range(len(imp_dict)), list(imp_dict.values()), align='center')\n",
    "plt.xticks(range(len(imp_dict)), list(imp_dict.keys()),rotation=90)"
   ]
  },
  {
   "cell_type": "markdown",
   "metadata": {},
   "source": [
    "### Linear SVM"
   ]
  },
  {
   "cell_type": "code",
   "execution_count": 52,
   "metadata": {},
   "outputs": [],
   "source": [
    "lsvm = LinearSVC(max_iter=1000000)"
   ]
  },
  {
   "cell_type": "code",
   "execution_count": 53,
   "metadata": {},
   "outputs": [
    {
     "name": "stdout",
     "output_type": "stream",
     "text": [
      "              precision    recall  f1-score   support\n",
      "\n",
      "           0       0.92      0.73      0.81       194\n",
      "           1       0.70      0.91      0.79       139\n",
      "\n",
      "    accuracy                           0.80       333\n",
      "   macro avg       0.81      0.82      0.80       333\n",
      "weighted avg       0.83      0.80      0.80       333\n",
      "\n",
      "Kappa Score: 0.6084586332216917\n"
     ]
    }
   ],
   "source": [
    "lsvm.fit(X_train_x_G1,y_train_x_G1)\n",
    "y_pred_x_G1= lsvm.predict(X_test_x_G1)\n",
    "print(classification_report(y_pred_x_G1,y_test_x_G1))\n",
    "print(\"Kappa Score: \" +str(cohen_kappa_score(y_pred_x_G1,y_test_x_G1)))"
   ]
  },
  {
   "cell_type": "code",
   "execution_count": 54,
   "metadata": {},
   "outputs": [
    {
     "name": "stdout",
     "output_type": "stream",
     "text": [
      "              precision    recall  f1-score   support\n",
      "\n",
      "           0       0.94      0.77      0.85       177\n",
      "           1       0.74      0.94      0.83       126\n",
      "\n",
      "    accuracy                           0.84       303\n",
      "   macro avg       0.84      0.85      0.84       303\n",
      "weighted avg       0.86      0.84      0.84       303\n",
      "\n",
      "Kappa Score: 0.6792403914706073\n"
     ]
    }
   ],
   "source": [
    "lsvm.fit(X_train_x_G3,y_train_x_G3)\n",
    "y_pred_x_G3= lsvm.predict(X_test_x_G3)\n",
    "print(classification_report(y_pred_x_G3,y_test_x_G3))\n",
    "print(\"Kappa Score: \" +str(cohen_kappa_score(y_pred_x_G3,y_test_x_G3)))"
   ]
  },
  {
   "cell_type": "code",
   "execution_count": 55,
   "metadata": {},
   "outputs": [
    {
     "name": "stdout",
     "output_type": "stream",
     "text": [
      "              precision    recall  f1-score   support\n",
      "\n",
      "           0       0.86      0.85      0.86       209\n",
      "           1       0.84      0.86      0.85       198\n",
      "\n",
      "    accuracy                           0.85       407\n",
      "   macro avg       0.85      0.85      0.85       407\n",
      "weighted avg       0.85      0.85      0.85       407\n",
      "\n",
      "Kappa Score: 0.7051009564293305\n"
     ]
    }
   ],
   "source": [
    "lsvm.fit(X_train_y_G1,y_train_y_G1)\n",
    "y_pred_y_G1 = lsvm.predict(X_test_y_G1)\n",
    "print(classification_report(y_pred_y_G1,y_test_y_G1))\n",
    "print(\"Kappa Score: \" +str(cohen_kappa_score(y_pred_y_G1,y_test_y_G1)))"
   ]
  },
  {
   "cell_type": "code",
   "execution_count": 56,
   "metadata": {},
   "outputs": [
    {
     "name": "stdout",
     "output_type": "stream",
     "text": [
      "              precision    recall  f1-score   support\n",
      "\n",
      "           0       0.91      0.94      0.93       205\n",
      "           1       0.94      0.92      0.93       213\n",
      "\n",
      "    accuracy                           0.93       418\n",
      "   macro avg       0.93      0.93      0.93       418\n",
      "weighted avg       0.93      0.93      0.93       418\n",
      "\n",
      "Kappa Score: 0.8564856142278376\n"
     ]
    }
   ],
   "source": [
    "lsvm.fit(X_train_y_G3,y_train_y_G3)\n",
    "y_pred_y_G3 = lsvm.predict(X_test_y_G3)\n",
    "print(classification_report(y_pred_y_G3,y_test_y_G3))\n",
    "print(\"Kappa Score: \" +str(cohen_kappa_score(y_pred_y_G3,y_test_y_G3)))"
   ]
  },
  {
   "cell_type": "markdown",
   "metadata": {},
   "source": [
    "### Logistic Regression"
   ]
  },
  {
   "cell_type": "code",
   "execution_count": 57,
   "metadata": {},
   "outputs": [],
   "source": [
    "lg = LogisticRegression(random_state=0,max_iter=1000000)"
   ]
  },
  {
   "cell_type": "code",
   "execution_count": 58,
   "metadata": {},
   "outputs": [
    {
     "name": "stdout",
     "output_type": "stream",
     "text": [
      "              precision    recall  f1-score   support\n",
      "\n",
      "           0       0.91      0.73      0.81       192\n",
      "           1       0.71      0.90      0.79       141\n",
      "\n",
      "    accuracy                           0.80       333\n",
      "   macro avg       0.81      0.81      0.80       333\n",
      "weighted avg       0.82      0.80      0.80       333\n",
      "\n",
      "Kappa Score: 0.6081095538675511\n"
     ]
    }
   ],
   "source": [
    "lg.fit(X_train_x_G1,y_train_x_G1)\n",
    "y_pred_x_G1= lg.predict(X_test_x_G1)\n",
    "print(classification_report(y_pred_x_G1,y_test_x_G1))\n",
    "print(\"Kappa Score: \" +str(cohen_kappa_score(y_pred_x_G1,y_test_x_G1)))"
   ]
  },
  {
   "cell_type": "code",
   "execution_count": 59,
   "metadata": {},
   "outputs": [
    {
     "name": "stdout",
     "output_type": "stream",
     "text": [
      "              precision    recall  f1-score   support\n",
      "\n",
      "           0       0.94      0.77      0.85       175\n",
      "           1       0.75      0.93      0.83       128\n",
      "\n",
      "    accuracy                           0.84       303\n",
      "   macro avg       0.84      0.85      0.84       303\n",
      "weighted avg       0.86      0.84      0.84       303\n",
      "\n",
      "Kappa Score: 0.6790323626694338\n"
     ]
    }
   ],
   "source": [
    "lg.fit(X_train_x_G3,y_train_x_G3)\n",
    "y_pred_x_G3= lg.predict(X_test_x_G3)\n",
    "print(classification_report(y_pred_x_G3,y_test_x_G3))\n",
    "print(\"Kappa Score: \" +str(cohen_kappa_score(y_pred_x_G3,y_test_x_G3)))"
   ]
  },
  {
   "cell_type": "code",
   "execution_count": 60,
   "metadata": {},
   "outputs": [
    {
     "name": "stdout",
     "output_type": "stream",
     "text": [
      "              precision    recall  f1-score   support\n",
      "\n",
      "           0       0.85      0.84      0.85       206\n",
      "           1       0.84      0.85      0.84       201\n",
      "\n",
      "    accuracy                           0.85       407\n",
      "   macro avg       0.85      0.85      0.85       407\n",
      "weighted avg       0.85      0.85      0.85       407\n",
      "\n",
      "Kappa Score: 0.6903896542980306\n"
     ]
    }
   ],
   "source": [
    "lg.fit(X_train_y_G1,y_train_y_G1)\n",
    "y_pred_y_G1 = lg.predict(X_test_y_G1)\n",
    "print(classification_report(y_pred_y_G1,y_test_y_G1))\n",
    "print(\"Kappa Score: \" +str(cohen_kappa_score(y_pred_y_G1,y_test_y_G1)))"
   ]
  },
  {
   "cell_type": "code",
   "execution_count": 61,
   "metadata": {},
   "outputs": [
    {
     "name": "stdout",
     "output_type": "stream",
     "text": [
      "              precision    recall  f1-score   support\n",
      "\n",
      "           0       0.93      0.94      0.94       208\n",
      "           1       0.94      0.93      0.94       210\n",
      "\n",
      "    accuracy                           0.94       418\n",
      "   macro avg       0.94      0.94      0.94       418\n",
      "weighted avg       0.94      0.94      0.94       418\n",
      "\n",
      "Kappa Score: 0.8708193118604491\n"
     ]
    }
   ],
   "source": [
    "lg.fit(X_train_y_G3,y_train_y_G3)\n",
    "y_pred_y_G3 = lg.predict(X_test_y_G3)\n",
    "print(classification_report(y_pred_y_G3,y_test_y_G3))\n",
    "print(\"Kappa Score: \" +str(cohen_kappa_score(y_pred_y_G3,y_test_y_G3)))"
   ]
  },
  {
   "cell_type": "markdown",
   "metadata": {},
   "source": [
    "### Gradient Boosting"
   ]
  },
  {
   "cell_type": "code",
   "execution_count": 62,
   "metadata": {},
   "outputs": [],
   "source": [
    "gb = GradientBoostingClassifier(random_state=0)"
   ]
  },
  {
   "cell_type": "code",
   "execution_count": 63,
   "metadata": {},
   "outputs": [
    {
     "name": "stdout",
     "output_type": "stream",
     "text": [
      "              precision    recall  f1-score   support\n",
      "\n",
      "           0       0.90      0.83      0.86       167\n",
      "           1       0.84      0.90      0.87       166\n",
      "\n",
      "    accuracy                           0.86       333\n",
      "   macro avg       0.87      0.86      0.86       333\n",
      "weighted avg       0.87      0.86      0.86       333\n",
      "\n",
      "Kappa Score: 0.7297906486106353\n"
     ]
    }
   ],
   "source": [
    "gb.fit(X_train_x_G1,y_train_x_G1)\n",
    "y_pred_x_G1= gb.predict(X_test_x_G1)\n",
    "print(classification_report(y_pred_x_G1,y_test_x_G1))\n",
    "print(\"Kappa Score: \" +str(cohen_kappa_score(y_pred_x_G1,y_test_x_G1)))"
   ]
  },
  {
   "cell_type": "code",
   "execution_count": 64,
   "metadata": {},
   "outputs": [
    {
     "name": "stdout",
     "output_type": "stream",
     "text": [
      "              precision    recall  f1-score   support\n",
      "\n",
      "           0       0.92      0.84      0.88       158\n",
      "           1       0.84      0.92      0.88       145\n",
      "\n",
      "    accuracy                           0.88       303\n",
      "   macro avg       0.88      0.88      0.88       303\n",
      "weighted avg       0.88      0.88      0.88       303\n",
      "\n",
      "Kappa Score: 0.7628798747880527\n"
     ]
    }
   ],
   "source": [
    "gb.fit(X_train_x_G3,y_train_x_G3)\n",
    "y_pred_x_G3= gb.predict(X_test_x_G3)\n",
    "print(classification_report(y_pred_x_G3,y_test_x_G3))\n",
    "print(\"Kappa Score: \" +str(cohen_kappa_score(y_pred_x_G3,y_test_x_G3)))"
   ]
  },
  {
   "cell_type": "code",
   "execution_count": 65,
   "metadata": {},
   "outputs": [
    {
     "name": "stdout",
     "output_type": "stream",
     "text": [
      "              precision    recall  f1-score   support\n",
      "\n",
      "           0       0.94      0.99      0.97       195\n",
      "           1       0.99      0.94      0.97       212\n",
      "\n",
      "    accuracy                           0.97       407\n",
      "   macro avg       0.97      0.97      0.97       407\n",
      "weighted avg       0.97      0.97      0.97       407\n",
      "\n",
      "Kappa Score: 0.9312251056125528\n"
     ]
    }
   ],
   "source": [
    "gb.fit(X_train_y_G1,y_train_y_G1)\n",
    "y_pred_y_G1 = gb.predict(X_test_y_G1)\n",
    "print(classification_report(y_pred_y_G1,y_test_y_G1))\n",
    "print(\"Kappa Score: \" +str(cohen_kappa_score(y_pred_y_G1,y_test_y_G1)))"
   ]
  },
  {
   "cell_type": "code",
   "execution_count": 66,
   "metadata": {},
   "outputs": [
    {
     "name": "stdout",
     "output_type": "stream",
     "text": [
      "              precision    recall  f1-score   support\n",
      "\n",
      "           0       0.98      1.00      0.99       206\n",
      "           1       1.00      0.98      0.99       212\n",
      "\n",
      "    accuracy                           0.99       418\n",
      "   macro avg       0.99      0.99      0.99       418\n",
      "weighted avg       0.99      0.99      0.99       418\n",
      "\n",
      "Kappa Score: 0.976079840684872\n"
     ]
    }
   ],
   "source": [
    "gb.fit(X_train_y_G3,y_train_y_G3)\n",
    "y_pred_y_G3 = gb.predict(X_test_y_G3)\n",
    "print(classification_report(y_pred_y_G3,y_test_y_G3))\n",
    "print(\"Kappa Score: \" +str(cohen_kappa_score(y_pred_y_G3,y_test_y_G3)))"
   ]
  }
 ],
 "metadata": {
  "kernelspec": {
   "display_name": "Python 3",
   "language": "python",
   "name": "python3"
  },
  "language_info": {
   "codemirror_mode": {
    "name": "ipython",
    "version": 3
   },
   "file_extension": ".py",
   "mimetype": "text/x-python",
   "name": "python",
   "nbconvert_exporter": "python",
   "pygments_lexer": "ipython3",
   "version": "3.7.4"
  }
 },
 "nbformat": 4,
 "nbformat_minor": 4
}
