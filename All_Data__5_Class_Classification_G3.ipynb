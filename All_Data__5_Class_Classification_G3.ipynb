{
 "cells": [
  {
   "cell_type": "code",
   "execution_count": 1,
   "metadata": {},
   "outputs": [],
   "source": [
    "import pandas as pd\n",
    "import numpy as np\n",
    "import seaborn as sn\n",
    "import matplotlib.pyplot as plt\n",
    "from sklearn.svm import LinearSVC\n",
    "from sklearn.linear_model import LogisticRegression\n",
    "from sklearn.model_selection import train_test_split\n",
    "from sklearn import preprocessing\n",
    "from sklearn.tree import DecisionTreeClassifier\n",
    "from sklearn.metrics import accuracy_score\n",
    "from sklearn.naive_bayes import GaussianNB\n",
    "from sklearn.ensemble import RandomForestClassifier\n",
    "from sklearn.ensemble import GradientBoostingClassifier\n",
    "from sklearn.metrics import classification_report\n",
    "from sklearn.metrics import cohen_kappa_score\n",
    "import matplotlib.pyplot as plt"
   ]
  },
  {
   "cell_type": "code",
   "execution_count": 2,
   "metadata": {},
   "outputs": [],
   "source": [
    "df = pd.read_csv('final_combined_dataset.csv')"
   ]
  },
  {
   "cell_type": "code",
   "execution_count": 3,
   "metadata": {},
   "outputs": [],
   "source": [
    "xfeatures=['school', 'sex', 'age', 'address', 'famsize', 'Pstatus', 'Medu', 'Fedu',\n",
    "       'Mjob', 'Fjob', 'reason', 'nursery', 'internet', 'guardian.x',\n",
    "       'traveltime.x', 'studytime.x', 'failures.x', 'schoolsup.x', 'famsup.x',\n",
    "       'paid.x', 'activities.x', 'higher.x', 'romantic.x', 'famrel.x',\n",
    "       'freetime.x', 'goout.x', 'Dalc.x', 'Walc.x', 'health.x', 'absences.x','G1.x','G3.x']"
   ]
  },
  {
   "cell_type": "code",
   "execution_count": 4,
   "metadata": {},
   "outputs": [],
   "source": [
    "yfeatures = ['school', 'sex', 'age', 'address', 'famsize', 'Pstatus', 'Medu', 'Fedu',\n",
    "       'Mjob', 'Fjob', 'reason', 'nursery', 'internet','guardian.y', 'traveltime.y', 'studytime.y',\n",
    "       'failures.y', 'schoolsup.y', 'famsup.y', 'paid.y', 'activities.y',\n",
    "       'higher.y', 'romantic.y', 'famrel.y', 'freetime.y', 'goout.y', 'Dalc.y',\n",
    "       'Walc.y', 'health.y', 'absences.y','G1.y','G3.y']"
   ]
  },
  {
   "cell_type": "code",
   "execution_count": 5,
   "metadata": {},
   "outputs": [],
   "source": [
    "keepcol = ['school', 'sex', 'age', 'address', 'famsize', 'Pstatus', 'Medu',\n",
    "       'Fedu', 'Mjob', 'Fjob', 'reason', 'nursery', 'internet', 'guardian.x',\n",
    "       'traveltime.x', 'studytime.x', 'failures.x', 'schoolsup.x', 'famsup.x',\n",
    "       'paid.x', 'activities.x', 'higher.x', 'romantic.x', 'famrel.x',\n",
    "       'freetime.x', 'goout.x', 'Dalc.x', 'Walc.x', 'health.x', 'absences.x',\n",
    "       'G1.x', 'G2.x', 'G3.x', 'guardian.y', 'traveltime.y', 'studytime.y',\n",
    "       'failures.y', 'schoolsup.y', 'famsup.y', 'paid.y', 'activities.y',\n",
    "       'higher.y', 'romantic.y', 'famrel.y', 'freetime.y', 'goout.y', 'Dalc.y',\n",
    "       'Walc.y', 'health.y', 'absences.y', 'G1.y', 'G2.y', 'G3.y']"
   ]
  },
  {
   "cell_type": "code",
   "execution_count": 6,
   "metadata": {},
   "outputs": [],
   "source": [
    "fildf = df.loc[:,keepcol]"
   ]
  },
  {
   "cell_type": "code",
   "execution_count": 7,
   "metadata": {},
   "outputs": [],
   "source": [
    "fildf_x = fildf.loc[:,xfeatures]"
   ]
  },
  {
   "cell_type": "code",
   "execution_count": 8,
   "metadata": {},
   "outputs": [],
   "source": [
    "fildf_y = fildf.loc[:,yfeatures]"
   ]
  },
  {
   "cell_type": "code",
   "execution_count": 9,
   "metadata": {},
   "outputs": [],
   "source": [
    "def convertmarks(mark):\n",
    "    if mark<10:\n",
    "        return 'F'\n",
    "    elif mark==10 or mark==11:\n",
    "        return 'D'\n",
    "    elif mark==12 or mark==13:\n",
    "        return 'C'\n",
    "    elif mark==14 or mark==15:\n",
    "        return'B'\n",
    "    else:\n",
    "        return 'A'"
   ]
  },
  {
   "cell_type": "code",
   "execution_count": 10,
   "metadata": {},
   "outputs": [],
   "source": [
    "newlist=[]\n",
    "for i in fildf_x['G1.x']:\n",
    "    x = convertmarks(i)\n",
    "    newlist.append(x)\n",
    "fildf_x['New G1'] = newlist"
   ]
  },
  {
   "cell_type": "code",
   "execution_count": 11,
   "metadata": {},
   "outputs": [
    {
     "data": {
      "text/plain": [
       "0      F\n",
       "1      F\n",
       "2      B\n",
       "3      D\n",
       "4      D\n",
       "      ..\n",
       "877    F\n",
       "878    C\n",
       "879    D\n",
       "880    C\n",
       "881    F\n",
       "Name: New G1, Length: 882, dtype: object"
      ]
     },
     "execution_count": 11,
     "metadata": {},
     "output_type": "execute_result"
    }
   ],
   "source": [
    "fildf_x['New G1']"
   ]
  },
  {
   "cell_type": "code",
   "execution_count": 12,
   "metadata": {},
   "outputs": [],
   "source": [
    "newlist=[]\n",
    "for i in fildf_y['G1.y']:\n",
    "    x = convertmarks(i)\n",
    "    newlist.append(x)\n",
    "fildf_y['New G1'] = newlist"
   ]
  },
  {
   "cell_type": "code",
   "execution_count": 13,
   "metadata": {},
   "outputs": [],
   "source": [
    "newlist=[]\n",
    "for i in fildf_x['G3.x']:\n",
    "    x = convertmarks(i)\n",
    "    newlist.append(x)\n",
    "fildf_x['New G3'] = newlist"
   ]
  },
  {
   "cell_type": "code",
   "execution_count": 14,
   "metadata": {},
   "outputs": [],
   "source": [
    "newlist=[]\n",
    "for i in fildf_y['G3.y']:\n",
    "    x = convertmarks(i)\n",
    "    newlist.append(x)\n",
    "fildf_y['New G3'] = newlist"
   ]
  },
  {
   "cell_type": "code",
   "execution_count": 15,
   "metadata": {},
   "outputs": [],
   "source": [
    "label_encoder = preprocessing.LabelEncoder()"
   ]
  },
  {
   "cell_type": "code",
   "execution_count": 16,
   "metadata": {},
   "outputs": [],
   "source": [
    "fildf_x['New G1']= label_encoder.fit_transform(fildf_x['New G1'])\n",
    "fildf_y['New G1']= label_encoder.fit_transform(fildf_y['New G1'])\n",
    "fildf_x['New G3']= label_encoder.fit_transform(fildf_x['New G3'])\n",
    "fildf_y['New G3']= label_encoder.fit_transform(fildf_y['New G3'])"
   ]
  },
  {
   "cell_type": "code",
   "execution_count": 17,
   "metadata": {},
   "outputs": [
    {
     "data": {
      "text/plain": [
       "0      4\n",
       "1      4\n",
       "2      1\n",
       "3      3\n",
       "4      3\n",
       "      ..\n",
       "877    4\n",
       "878    2\n",
       "879    3\n",
       "880    2\n",
       "881    4\n",
       "Name: New G1, Length: 882, dtype: int64"
      ]
     },
     "execution_count": 17,
     "metadata": {},
     "output_type": "execute_result"
    }
   ],
   "source": [
    "fildf_x['New G1']"
   ]
  },
  {
   "cell_type": "code",
   "execution_count": 18,
   "metadata": {},
   "outputs": [],
   "source": [
    "fildf_x = fildf_x.sample(frac=1,random_state=123)\n",
    "fildf_y = fildf_y.sample(frac=1,random_state=123)"
   ]
  },
  {
   "cell_type": "code",
   "execution_count": 19,
   "metadata": {},
   "outputs": [],
   "source": [
    "fildf_x = fildf_x.drop(['G1.x','G3.x'],axis=1)\n",
    "fildf_y = fildf_y.drop(['G1.y','G3.y'],axis=1)"
   ]
  },
  {
   "cell_type": "code",
   "execution_count": 20,
   "metadata": {},
   "outputs": [],
   "source": [
    "features_x_G3 = fildf_x.drop(['New G1','New G3'],axis=1)\n",
    "features_x_G1 = fildf_x.drop(['New G1','New G3'],axis=1)\n",
    "features_y_G3 = fildf_y.drop(['New G1','New G3'],axis=1)\n",
    "features_y_G1 = fildf_y.drop(['New G1','New G3'],axis=1)"
   ]
  },
  {
   "cell_type": "code",
   "execution_count": 21,
   "metadata": {},
   "outputs": [],
   "source": [
    "target_x_G3 = fildf_x['New G3']\n",
    "target_x_G1 = fildf_x['New G1']\n",
    "target_y_G3 = fildf_y['New G3']\n",
    "target_y_G1 = fildf_y['New G1']"
   ]
  },
  {
   "cell_type": "code",
   "execution_count": 22,
   "metadata": {},
   "outputs": [],
   "source": [
    "X_train_x_G1, X_test_x_G1, y_train_x_G1, y_test_x_G1 = train_test_split(features_x_G1, target_x_G1, test_size=0.25, random_state=0)\n",
    "X_train_y_G1, X_test_y_G1, y_train_y_G1, y_test_y_G1 = train_test_split(features_y_G1, target_y_G1, test_size=0.25, random_state=0)"
   ]
  },
  {
   "cell_type": "code",
   "execution_count": 23,
   "metadata": {},
   "outputs": [],
   "source": [
    "X_train_x_G3, X_test_x_G3, y_train_x_G3, y_test_x_G3 = train_test_split(features_x_G3, target_x_G3, test_size=0.25, random_state=0)\n",
    "X_train_y_G3, X_test_y_G3, y_train_y_G3, y_test_y_G3 = train_test_split(features_y_G3, target_y_G3, test_size=0.25, random_state=0)"
   ]
  },
  {
   "cell_type": "markdown",
   "metadata": {},
   "source": [
    "### Naive Bayes"
   ]
  },
  {
   "cell_type": "code",
   "execution_count": 24,
   "metadata": {},
   "outputs": [],
   "source": [
    "clf = GaussianNB()"
   ]
  },
  {
   "cell_type": "code",
   "execution_count": 25,
   "metadata": {},
   "outputs": [
    {
     "name": "stdout",
     "output_type": "stream",
     "text": [
      "              precision    recall  f1-score   support\n",
      "\n",
      "           0       0.90      0.07      0.13       126\n",
      "           1       0.00      0.00      0.00         0\n",
      "           2       0.19      0.61      0.29        33\n",
      "           3       0.31      0.58      0.40        19\n",
      "           4       0.52      0.70      0.59        43\n",
      "\n",
      "    accuracy                           0.32       221\n",
      "   macro avg       0.38      0.39      0.28       221\n",
      "weighted avg       0.67      0.32      0.27       221\n",
      "\n",
      "Kappa Score: 0.1861525704809287\n"
     ]
    },
    {
     "name": "stderr",
     "output_type": "stream",
     "text": [
      "/opt/anaconda3/lib/python3.7/site-packages/sklearn/metrics/_classification.py:1272: UndefinedMetricWarning: Recall and F-score are ill-defined and being set to 0.0 in labels with no true samples. Use `zero_division` parameter to control this behavior.\n",
      "  _warn_prf(average, modifier, msg_start, len(result))\n"
     ]
    }
   ],
   "source": [
    "clf.fit(X_train_x_G1,y_train_x_G1)\n",
    "y_pred_x_G1= clf.predict(X_test_x_G1)\n",
    "y_pred_x_G1_Prob = clf.predict_proba(X_test_x_G1)\n",
    "print(classification_report(y_pred_x_G1,y_test_x_G1))\n",
    "print(\"Kappa Score: \" +str(cohen_kappa_score(y_pred_x_G1,y_test_x_G1)))"
   ]
  },
  {
   "cell_type": "code",
   "execution_count": 26,
   "metadata": {},
   "outputs": [
    {
     "name": "stdout",
     "output_type": "stream",
     "text": [
      "              precision    recall  f1-score   support\n",
      "\n",
      "           0       0.08      0.04      0.05        27\n",
      "           1       0.80      0.12      0.21       102\n",
      "           2       0.19      0.61      0.29        31\n",
      "           3       0.10      0.33      0.15         6\n",
      "           4       0.61      0.78      0.68        55\n",
      "\n",
      "    accuracy                           0.35       221\n",
      "   macro avg       0.35      0.38      0.27       221\n",
      "weighted avg       0.56      0.35      0.31       221\n",
      "\n",
      "Kappa Score: 0.20028144946474324\n"
     ]
    }
   ],
   "source": [
    "clf.fit(X_train_x_G3,y_train_x_G3)\n",
    "y_pred_x_G3= clf.predict(X_test_x_G3)\n",
    "y_pred_x_G3_Prob = clf.predict_proba(X_test_x_G3)\n",
    "print(classification_report(y_pred_x_G3,y_test_x_G3))\n",
    "print(\"Kappa Score: \" +str(cohen_kappa_score(y_pred_x_G3,y_test_x_G3)))"
   ]
  },
  {
   "cell_type": "code",
   "execution_count": 27,
   "metadata": {},
   "outputs": [
    {
     "name": "stdout",
     "output_type": "stream",
     "text": [
      "              precision    recall  f1-score   support\n",
      "\n",
      "           0       0.70      0.05      0.09       150\n",
      "           1       0.10      0.12      0.11        24\n",
      "           2       0.04      0.44      0.07         9\n",
      "           3       0.24      0.68      0.35        19\n",
      "           4       0.62      0.42      0.50        19\n",
      "\n",
      "    accuracy                           0.16       221\n",
      "   macro avg       0.34      0.34      0.22       221\n",
      "weighted avg       0.56      0.16      0.15       221\n",
      "\n",
      "Kappa Score: 0.07235060480231092\n"
     ]
    }
   ],
   "source": [
    "clf.fit(X_train_y_G1,y_train_y_G1)\n",
    "y_pred_y_G1 = clf.predict(X_test_y_G1)\n",
    "print(classification_report(y_pred_y_G1,y_test_y_G1))\n",
    "print(\"Kappa Score: \" +str(cohen_kappa_score(y_pred_y_G1,y_test_y_G1)))"
   ]
  },
  {
   "cell_type": "code",
   "execution_count": 28,
   "metadata": {},
   "outputs": [
    {
     "name": "stdout",
     "output_type": "stream",
     "text": [
      "              precision    recall  f1-score   support\n",
      "\n",
      "           0       0.29      0.11      0.16        47\n",
      "           1       0.75      0.30      0.43       120\n",
      "           2       0.14      0.57      0.22        23\n",
      "           3       0.25      0.68      0.37        19\n",
      "           4       0.70      0.58      0.64        12\n",
      "\n",
      "    accuracy                           0.33       221\n",
      "   macro avg       0.43      0.45      0.36       221\n",
      "weighted avg       0.54      0.33      0.36       221\n",
      "\n",
      "Kappa Score: 0.16717083675143563\n"
     ]
    }
   ],
   "source": [
    "clf.fit(X_train_y_G3,y_train_y_G3)\n",
    "y_pred_y_G3 = clf.predict(X_test_y_G3)\n",
    "print(classification_report(y_pred_y_G3,y_test_y_G3))\n",
    "print(\"Kappa Score: \" +str(cohen_kappa_score(y_pred_y_G3,y_test_y_G3)))"
   ]
  },
  {
   "cell_type": "markdown",
   "metadata": {},
   "source": [
    "### Decision Tree Classfier"
   ]
  },
  {
   "cell_type": "code",
   "execution_count": 29,
   "metadata": {},
   "outputs": [],
   "source": [
    "dtc = DecisionTreeClassifier()"
   ]
  },
  {
   "cell_type": "code",
   "execution_count": 30,
   "metadata": {},
   "outputs": [
    {
     "name": "stdout",
     "output_type": "stream",
     "text": [
      "              precision    recall  f1-score   support\n",
      "\n",
      "           0       0.30      0.25      0.27        12\n",
      "           1       0.14      0.13      0.14        15\n",
      "           2       0.70      0.69      0.69       105\n",
      "           3       0.33      0.31      0.32        39\n",
      "           4       0.52      0.60      0.56        50\n",
      "\n",
      "    accuracy                           0.54       221\n",
      "   macro avg       0.40      0.40      0.40       221\n",
      "weighted avg       0.53      0.54      0.54       221\n",
      "\n",
      "Kappa Score: 0.3249281264973647\n",
      "\t\n",
      "Feature failures.x and its importance is 0.17053300445903585\n",
      "Feature schoolsup.x and its importance is 0.1106624185026394\n",
      "Feature age and its importance is 0.055682718347419266\n",
      "Feature freetime.x and its importance is 0.05160557344145224\n",
      "Feature absences.x and its importance is 0.051052082953817274\n",
      "Feature Fedu and its importance is 0.046074675572390526\n",
      "Feature Fjob and its importance is 0.04407650752756983\n",
      "Feature health.x and its importance is 0.039168951783089795\n",
      "Feature Medu and its importance is 0.035863938579506954\n",
      "Feature Mjob and its importance is 0.03582097060468191\n",
      "Feature goout.x and its importance is 0.035611194434842425\n",
      "Feature studytime.x and its importance is 0.030427967564489705\n",
      "Feature reason and its importance is 0.028641939508229235\n",
      "Feature Walc.x and its importance is 0.0259398170600857\n",
      "Feature sex and its importance is 0.024750665516826257\n",
      "Feature romantic.x and its importance is 0.02341301254495909\n",
      "Feature Dalc.x and its importance is 0.02291769185596886\n",
      "Feature guardian.x and its importance is 0.02220215351139359\n",
      "Feature nursery and its importance is 0.021623649851399387\n",
      "Feature famsup.x and its importance is 0.02026420784705353\n",
      "Feature activities.x and its importance is 0.017838250941372168\n",
      "Feature famrel.x and its importance is 0.016798252124120946\n",
      "Feature traveltime.x and its importance is 0.01653825492490305\n",
      "Feature school and its importance is 0.014610472897949464\n",
      "Feature famsize and its importance is 0.009217563683307168\n",
      "Feature address and its importance is 0.00887896067691427\n",
      "Feature paid.x and its importance is 0.0065507985460213775\n",
      "Feature internet and its importance is 0.005318936739743551\n",
      "Feature higher.x and its importance is 0.004721919797205519\n",
      "Feature Pstatus and its importance is 0.00319344820161171\n"
     ]
    },
    {
     "data": {
      "text/plain": [
       "([<matplotlib.axis.XTick at 0x7fbfe6b69cd0>,\n",
       "  <matplotlib.axis.XTick at 0x7fbfe29576d0>,\n",
       "  <matplotlib.axis.XTick at 0x7fbfe6b5da90>,\n",
       "  <matplotlib.axis.XTick at 0x7fbfe6c30350>,\n",
       "  <matplotlib.axis.XTick at 0x7fbfe6c30850>,\n",
       "  <matplotlib.axis.XTick at 0x7fbfe6c30dd0>,\n",
       "  <matplotlib.axis.XTick at 0x7fbfe6c3c3d0>,\n",
       "  <matplotlib.axis.XTick at 0x7fbfe6c3c950>,\n",
       "  <matplotlib.axis.XTick at 0x7fbfe6c3ced0>,\n",
       "  <matplotlib.axis.XTick at 0x7fbfe6c45490>,\n",
       "  <matplotlib.axis.XTick at 0x7fbfe6c459d0>,\n",
       "  <matplotlib.axis.XTick at 0x7fbfe6c45890>,\n",
       "  <matplotlib.axis.XTick at 0x7fbfe6c4b510>,\n",
       "  <matplotlib.axis.XTick at 0x7fbfe6c45950>,\n",
       "  <matplotlib.axis.XTick at 0x7fbfe6c45310>,\n",
       "  <matplotlib.axis.XTick at 0x7fbfe6c4b050>,\n",
       "  <matplotlib.axis.XTick at 0x7fbfe6c4bbd0>,\n",
       "  <matplotlib.axis.XTick at 0x7fbfe6c540d0>,\n",
       "  <matplotlib.axis.XTick at 0x7fbfe6c54710>,\n",
       "  <matplotlib.axis.XTick at 0x7fbfe6c54c90>,\n",
       "  <matplotlib.axis.XTick at 0x7fbfe6c5c2d0>,\n",
       "  <matplotlib.axis.XTick at 0x7fbfe6c5c7d0>,\n",
       "  <matplotlib.axis.XTick at 0x7fbfe6c5cd50>,\n",
       "  <matplotlib.axis.XTick at 0x7fbfe6c5c690>,\n",
       "  <matplotlib.axis.XTick at 0x7fbfe6c54690>,\n",
       "  <matplotlib.axis.XTick at 0x7fbfe6c45650>,\n",
       "  <matplotlib.axis.XTick at 0x7fbfe6c63510>,\n",
       "  <matplotlib.axis.XTick at 0x7fbfe6c63a90>,\n",
       "  <matplotlib.axis.XTick at 0x7fbfe6c63290>,\n",
       "  <matplotlib.axis.XTick at 0x7fbfe6c6b5d0>],\n",
       " <a list of 30 Text xticklabel objects>)"
      ]
     },
     "execution_count": 30,
     "metadata": {},
     "output_type": "execute_result"
    },
    {
     "data": {
      "image/png": "[encoded data removed]",
      "text/plain": [
       "<Figure size 432x288 with 1 Axes>"
      ]
     },
     "metadata": {
      "needs_background": "light"
     },
     "output_type": "display_data"
    }
   ],
   "source": [
    "imp_dict={}\n",
    "dtc.fit(X_train_x_G1,y_train_x_G1)\n",
    "y_pred_x_G1= dtc.predict(X_test_x_G1)\n",
    "print(classification_report(y_pred_x_G1,y_test_x_G1))\n",
    "print(\"Kappa Score: \" +str(cohen_kappa_score(y_pred_x_G1,y_test_x_G1)))\n",
    "print(\"\\t\")\n",
    "for importance, name in sorted(zip(dtc.feature_importances_, X_train_x_G1.columns),reverse=True):\n",
    "    imp_dict[name] = importance\n",
    "    print('Feature '+name+ ' and its importance is '+str(importance))\n",
    "plt.bar(range(len(imp_dict)), list(imp_dict.values()), align='center')\n",
    "plt.xticks(range(len(imp_dict)), list(imp_dict.keys()),rotation=90)"
   ]
  },
  {
   "cell_type": "code",
   "execution_count": 31,
   "metadata": {},
   "outputs": [
    {
     "name": "stdout",
     "output_type": "stream",
     "text": [
      "              precision    recall  f1-score   support\n",
      "\n",
      "           0       0.33      0.27      0.30        15\n",
      "           1       0.07      0.07      0.07        15\n",
      "           2       0.65      0.60      0.62       110\n",
      "           3       0.24      0.18      0.20        28\n",
      "           4       0.52      0.70      0.60        53\n",
      "\n",
      "    accuracy                           0.51       221\n",
      "   macro avg       0.36      0.36      0.36       221\n",
      "weighted avg       0.50      0.51      0.50       221\n",
      "\n",
      "Kappa Score: 0.2737562756732086\n",
      "\t\n",
      "Feature failures.x and its importance is 0.1473574000206285\n",
      "Feature schoolsup.x and its importance is 0.1144845708009303\n",
      "Feature absences.x and its importance is 0.06431754925253583\n",
      "Feature Medu and its importance is 0.056179451454736844\n",
      "Feature age and its importance is 0.046944795971897955\n",
      "Feature Fjob and its importance is 0.04609583971159165\n",
      "Feature Dalc.x and its importance is 0.04550924857791388\n",
      "Feature health.x and its importance is 0.04499837815253197\n",
      "Feature freetime.x and its importance is 0.040675517871737316\n",
      "Feature Mjob and its importance is 0.04006530238906115\n",
      "Feature Fedu and its importance is 0.04000317615731502\n",
      "Feature Walc.x and its importance is 0.034704362613476224\n",
      "Feature studytime.x and its importance is 0.03133507119275153\n",
      "Feature goout.x and its importance is 0.029396266273235\n",
      "Feature reason and its importance is 0.027175203120787826\n",
      "Feature famsup.x and its importance is 0.025880890040607493\n",
      "Feature address and its importance is 0.02294642750424226\n",
      "Feature sex and its importance is 0.021124588251070057\n",
      "Feature famrel.x and its importance is 0.02046311017035702\n",
      "Feature paid.x and its importance is 0.01851316260255294\n",
      "Feature romantic.x and its importance is 0.015455275693557473\n",
      "Feature activities.x and its importance is 0.01396034882136531\n",
      "Feature guardian.x and its importance is 0.011006410812242667\n",
      "Feature nursery and its importance is 0.009907344324839897\n",
      "Feature traveltime.x and its importance is 0.008874233821873719\n",
      "Feature famsize and its importance is 0.006043327042531006\n",
      "Feature higher.x and its importance is 0.005549568446420878\n",
      "Feature school and its importance is 0.005404005995367214\n",
      "Feature Pstatus and its importance is 0.00337750374710451\n",
      "Feature internet and its importance is 0.00225166916473634\n"
     ]
    },
    {
     "data": {
      "text/plain": [
       "([<matplotlib.axis.XTick at 0x7fbfe6c6bcd0>,\n",
       "  <matplotlib.axis.XTick at 0x7fbfe6e8e310>,\n",
       "  <matplotlib.axis.XTick at 0x7fbfe6b5d310>,\n",
       "  <matplotlib.axis.XTick at 0x7fbfe6f3da10>,\n",
       "  <matplotlib.axis.XTick at 0x7fbfe6f3df10>,\n",
       "  <matplotlib.axis.XTick at 0x7fbfe6f465d0>,\n",
       "  <matplotlib.axis.XTick at 0x7fbfe6f3d9d0>,\n",
       "  <matplotlib.axis.XTick at 0x7fbfe6f46dd0>,\n",
       "  <matplotlib.axis.XTick at 0x7fbfe6f4e450>,\n",
       "  <matplotlib.axis.XTick at 0x7fbfe6f4e9d0>,\n",
       "  <matplotlib.axis.XTick at 0x7fbfe6f4ead0>,\n",
       "  <matplotlib.axis.XTick at 0x7fbfe6f56650>,\n",
       "  <matplotlib.axis.XTick at 0x7fbfe6f56c90>,\n",
       "  <matplotlib.axis.XTick at 0x7fbfe6f5c310>,\n",
       "  <matplotlib.axis.XTick at 0x7fbfe6f5c950>,\n",
       "  <matplotlib.axis.XTick at 0x7fbfe6f5c810>,\n",
       "  <matplotlib.axis.XTick at 0x7fbfe6f565d0>,\n",
       "  <matplotlib.axis.XTick at 0x7fbfe6f46350>,\n",
       "  <matplotlib.axis.XTick at 0x7fbfe6f64610>,\n",
       "  <matplotlib.axis.XTick at 0x7fbfe6f64c50>,\n",
       "  <matplotlib.axis.XTick at 0x7fbfe6f6b2d0>,\n",
       "  <matplotlib.axis.XTick at 0x7fbfe6f6b910>,\n",
       "  <matplotlib.axis.XTick at 0x7fbfe6f6b7d0>,\n",
       "  <matplotlib.axis.XTick at 0x7fbfe6f725d0>,\n",
       "  <matplotlib.axis.XTick at 0x7fbfe6f72c10>,\n",
       "  <matplotlib.axis.XTick at 0x7fbfe6f72ad0>,\n",
       "  <matplotlib.axis.XTick at 0x7fbfe6f64dd0>,\n",
       "  <matplotlib.axis.XTick at 0x7fbfe6f791d0>,\n",
       "  <matplotlib.axis.XTick at 0x7fbfe6f797d0>,\n",
       "  <matplotlib.axis.XTick at 0x7fbfe6f79e10>],\n",
       " <a list of 30 Text xticklabel objects>)"
      ]
     },
     "execution_count": 31,
     "metadata": {},
     "output_type": "execute_result"
    },
    {
     "data": {
      "image/png": "[encoded data removed]",
      "text/plain": [
       "<Figure size 432x288 with 1 Axes>"
      ]
     },
     "metadata": {
      "needs_background": "light"
     },
     "output_type": "display_data"
    }
   ],
   "source": [
    "imp_dict={}\n",
    "dtc.fit(X_train_x_G3,y_train_x_G3)\n",
    "y_pred_x_G3= dtc.predict(X_test_x_G3)\n",
    "print(classification_report(y_pred_x_G3,y_test_x_G3))\n",
    "print(\"Kappa Score: \" +str(cohen_kappa_score(y_pred_x_G3,y_test_x_G3)))\n",
    "print(\"\\t\")\n",
    "for importance, name in sorted(zip(dtc.feature_importances_, X_train_x_G3.columns),reverse=True):\n",
    "    imp_dict[name] = importance\n",
    "    print('Feature '+name+ ' and its importance is '+str(importance))\n",
    "plt.bar(range(len(imp_dict)), list(imp_dict.values()), align='center')\n",
    "plt.xticks(range(len(imp_dict)), list(imp_dict.keys()),rotation=90)"
   ]
  },
  {
   "cell_type": "code",
   "execution_count": 32,
   "metadata": {},
   "outputs": [
    {
     "name": "stdout",
     "output_type": "stream",
     "text": [
      "              precision    recall  f1-score   support\n",
      "\n",
      "           0       0.20      0.15      0.17        13\n",
      "           1       0.20      0.17      0.18        36\n",
      "           2       0.48      0.52      0.50       104\n",
      "           3       0.31      0.35      0.33        49\n",
      "           4       0.23      0.16      0.19        19\n",
      "\n",
      "    accuracy                           0.37       221\n",
      "   macro avg       0.28      0.27      0.27       221\n",
      "weighted avg       0.36      0.37      0.36       221\n",
      "\n",
      "Kappa Score: 0.06734068069344501\n",
      "\t\n",
      "Feature absences.y and its importance is 0.08533795041198686\n",
      "Feature health.y and its importance is 0.07232846273532469\n",
      "Feature studytime.y and its importance is 0.054419746666260496\n",
      "Feature Mjob and its importance is 0.0544070794792021\n",
      "Feature Medu and its importance is 0.053827806776871\n",
      "Feature Fedu and its importance is 0.05008961407592275\n",
      "Feature freetime.y and its importance is 0.048766319440107446\n",
      "Feature famrel.y and its importance is 0.048312462930346224\n",
      "Feature goout.y and its importance is 0.042808770262382216\n",
      "Feature Fjob and its importance is 0.03769058346106305\n",
      "Feature Walc.y and its importance is 0.03484286356022836\n",
      "Feature reason and its importance is 0.033169349566204896\n",
      "Feature sex and its importance is 0.03298661324685372\n",
      "Feature traveltime.y and its importance is 0.03235935231248117\n",
      "Feature failures.y and its importance is 0.030243046564293316\n",
      "Feature guardian.y and its importance is 0.027520959580487496\n",
      "Feature Dalc.y and its importance is 0.025703083842125003\n",
      "Feature famsize and its importance is 0.02337730048956633\n",
      "Feature famsup.y and its importance is 0.02292726931857963\n",
      "Feature schoolsup.y and its importance is 0.0227184655379052\n",
      "Feature nursery and its importance is 0.022553717645989728\n",
      "Feature higher.y and its importance is 0.022543079021123964\n",
      "Feature age and its importance is 0.021887330113179858\n",
      "Feature activities.y and its importance is 0.01852293803921959\n",
      "Feature romantic.y and its importance is 0.01820249390350533\n",
      "Feature paid.y and its importance is 0.01647035661224621\n",
      "Feature address and its importance is 0.01522777079474719\n",
      "Feature internet and its importance is 0.014851292299692924\n",
      "Feature school and its importance is 0.012686810005607778\n",
      "Feature Pstatus and its importance is 0.003217111306495401\n"
     ]
    },
    {
     "data": {
      "text/plain": [
       "([<matplotlib.axis.XTick at 0x7fbfe70419d0>,\n",
       "  <matplotlib.axis.XTick at 0x7fbfe7047a10>,\n",
       "  <matplotlib.axis.XTick at 0x7fbfe7047710>,\n",
       "  <matplotlib.axis.XTick at 0x7fbfe70e8e50>,\n",
       "  <matplotlib.axis.XTick at 0x7fbfe70f5450>,\n",
       "  <matplotlib.axis.XTick at 0x7fbfe70f5a90>,\n",
       "  <matplotlib.axis.XTick at 0x7fbfe70f5cd0>,\n",
       "  <matplotlib.axis.XTick at 0x7fbfe70f5290>,\n",
       "  <matplotlib.axis.XTick at 0x7fbfe70fd3d0>,\n",
       "  <matplotlib.axis.XTick at 0x7fbfe70fdd50>,\n",
       "  <matplotlib.axis.XTick at 0x7fbfe7101390>,\n",
       "  <matplotlib.axis.XTick at 0x7fbfe71019d0>,\n",
       "  <matplotlib.axis.XTick at 0x7fbfe7101050>,\n",
       "  <matplotlib.axis.XTick at 0x7fbfe7108690>,\n",
       "  <matplotlib.axis.XTick at 0x7fbfe7108cd0>,\n",
       "  <matplotlib.axis.XTick at 0x7fbfe710f350>,\n",
       "  <matplotlib.axis.XTick at 0x7fbfe7101890>,\n",
       "  <matplotlib.axis.XTick at 0x7fbfe7101510>,\n",
       "  <matplotlib.axis.XTick at 0x7fbfe710f190>,\n",
       "  <matplotlib.axis.XTick at 0x7fbfe710f410>,\n",
       "  <matplotlib.axis.XTick at 0x7fbfe71186d0>,\n",
       "  <matplotlib.axis.XTick at 0x7fbfe7118d10>,\n",
       "  <matplotlib.axis.XTick at 0x7fbfe711e390>,\n",
       "  <matplotlib.axis.XTick at 0x7fbfe711e9d0>,\n",
       "  <matplotlib.axis.XTick at 0x7fbfe711e610>,\n",
       "  <matplotlib.axis.XTick at 0x7fbfe7125690>,\n",
       "  <matplotlib.axis.XTick at 0x7fbfe711e790>,\n",
       "  <matplotlib.axis.XTick at 0x7fbfe711eb50>,\n",
       "  <matplotlib.axis.XTick at 0x7fbfe7125bd0>,\n",
       "  <matplotlib.axis.XTick at 0x7fbfe712c250>],\n",
       " <a list of 30 Text xticklabel objects>)"
      ]
     },
     "execution_count": 32,
     "metadata": {},
     "output_type": "execute_result"
    },
    {
     "data": {
      "image/png": "[encoded data removed]",
      "text/plain": [
       "<Figure size 432x288 with 1 Axes>"
      ]
     },
     "metadata": {
      "needs_background": "light"
     },
     "output_type": "display_data"
    }
   ],
   "source": [
    "imp_dict={}\n",
    "dtc.fit(X_train_y_G1,y_train_y_G1)\n",
    "y_pred_y_G1 = dtc.predict(X_test_y_G1)\n",
    "print(classification_report(y_pred_y_G1,y_test_y_G1))\n",
    "print(\"Kappa Score: \" +str(cohen_kappa_score(y_pred_y_G1,y_test_y_G1)))\n",
    "print(\"\\t\")\n",
    "for importance, name in sorted(zip(dtc.feature_importances_, X_train_y_G1.columns),reverse=True):\n",
    "    imp_dict[name] = importance\n",
    "    print ('Feature '+name+ ' and its importance is '+str(importance))\n",
    "plt.bar(range(len(imp_dict)), list(imp_dict.values()), align='center')\n",
    "plt.xticks(range(len(imp_dict)), list(imp_dict.keys()),rotation=90)"
   ]
  },
  {
   "cell_type": "code",
   "execution_count": 33,
   "metadata": {},
   "outputs": [
    {
     "name": "stdout",
     "output_type": "stream",
     "text": [
      "              precision    recall  f1-score   support\n",
      "\n",
      "           0       0.18      0.14      0.16        21\n",
      "           1       0.33      0.35      0.34        46\n",
      "           2       0.46      0.45      0.46        98\n",
      "           3       0.27      0.30      0.29        47\n",
      "           4       0.20      0.22      0.21         9\n",
      "\n",
      "    accuracy                           0.36       221\n",
      "   macro avg       0.29      0.29      0.29       221\n",
      "weighted avg       0.36      0.36      0.36       221\n",
      "\n",
      "Kappa Score: 0.08982279068418453\n",
      "\t\n",
      "Feature Medu and its importance is 0.08324589363020862\n",
      "Feature famrel.y and its importance is 0.06993354375453975\n",
      "Feature Fedu and its importance is 0.06229757587326595\n",
      "Feature studytime.y and its importance is 0.05715971433307668\n",
      "Feature reason and its importance is 0.05427369339469472\n",
      "Feature age and its importance is 0.05275275461686156\n",
      "Feature absences.y and its importance is 0.05205958618347668\n",
      "Feature freetime.y and its importance is 0.04808613523865344\n",
      "Feature health.y and its importance is 0.04684223438446168\n",
      "Feature Mjob and its importance is 0.04529298171917835\n",
      "Feature goout.y and its importance is 0.036695459972425806\n",
      "Feature Dalc.y and its importance is 0.03511076887186931\n",
      "Feature schoolsup.y and its importance is 0.033505244237561294\n",
      "Feature Fjob and its importance is 0.032890573477892496\n",
      "Feature school and its importance is 0.026228385323833252\n",
      "Feature traveltime.y and its importance is 0.026062361126108522\n",
      "Feature Walc.y and its importance is 0.024682823289741012\n",
      "Feature failures.y and its importance is 0.024207351431125516\n",
      "Feature activities.y and its importance is 0.021097656590134226\n",
      "Feature guardian.y and its importance is 0.02022388889353402\n",
      "Feature higher.y and its importance is 0.018929593402174788\n",
      "Feature nursery and its importance is 0.017788433736778096\n",
      "Feature paid.y and its importance is 0.01777947963336915\n",
      "Feature famsup.y and its importance is 0.017330353759830167\n",
      "Feature address and its importance is 0.015194997459170273\n",
      "Feature romantic.y and its importance is 0.01460438449435075\n",
      "Feature Pstatus and its importance is 0.014508691612449675\n",
      "Feature sex and its importance is 0.011895621272445743\n",
      "Feature internet and its importance is 0.011152478541322992\n",
      "Feature famsize and its importance is 0.008167339745465662\n"
     ]
    },
    {
     "data": {
      "text/plain": [
       "([<matplotlib.axis.XTick at 0x7fbfe71eea10>,\n",
       "  <matplotlib.axis.XTick at 0x7fbfe71eea90>,\n",
       "  <matplotlib.axis.XTick at 0x7fbfe71eeb10>,\n",
       "  <matplotlib.axis.XTick at 0x7fbfe72ada50>,\n",
       "  <matplotlib.axis.XTick at 0x7fbfe72adf50>,\n",
       "  <matplotlib.axis.XTick at 0x7fbfe72b7610>,\n",
       "  <matplotlib.axis.XTick at 0x7fbfe72b7c90>,\n",
       "  <matplotlib.axis.XTick at 0x7fbfe72b73d0>,\n",
       "  <matplotlib.axis.XTick at 0x7fbfe72bd350>,\n",
       "  <matplotlib.axis.XTick at 0x7fbfe72bd950>,\n",
       "  <matplotlib.axis.XTick at 0x7fbfe72bd850>,\n",
       "  <matplotlib.axis.XTick at 0x7fbfe72c45d0>,\n",
       "  <matplotlib.axis.XTick at 0x7fbfe72c4c50>,\n",
       "  <matplotlib.axis.XTick at 0x7fbfe72cb310>,\n",
       "  <matplotlib.axis.XTick at 0x7fbfe72cb810>,\n",
       "  <matplotlib.axis.XTick at 0x7fbfe72cbe50>,\n",
       "  <matplotlib.axis.XTick at 0x7fbfe72d24d0>,\n",
       "  <matplotlib.axis.XTick at 0x7fbfe72cb510>,\n",
       "  <matplotlib.axis.XTick at 0x7fbfe72bd110>,\n",
       "  <matplotlib.axis.XTick at 0x7fbfe72d2a10>,\n",
       "  <matplotlib.axis.XTick at 0x7fbfe72d2d50>,\n",
       "  <matplotlib.axis.XTick at 0x7fbfe72da6d0>,\n",
       "  <matplotlib.axis.XTick at 0x7fbfe72dad10>,\n",
       "  <matplotlib.axis.XTick at 0x7fbfe72df390>,\n",
       "  <matplotlib.axis.XTick at 0x7fbfe72df9d0>,\n",
       "  <matplotlib.axis.XTick at 0x7fbfe72df610>,\n",
       "  <matplotlib.axis.XTick at 0x7fbfe72df150>,\n",
       "  <matplotlib.axis.XTick at 0x7fbfe72d2e10>,\n",
       "  <matplotlib.axis.XTick at 0x7fbfe72e8550>,\n",
       "  <matplotlib.axis.XTick at 0x7fbfe72e8c50>],\n",
       " <a list of 30 Text xticklabel objects>)"
      ]
     },
     "execution_count": 33,
     "metadata": {},
     "output_type": "execute_result"
    },
    {
     "data": {
      "image/png": "[encoded data removed]",
      "text/plain": [
       "<Figure size 432x288 with 1 Axes>"
      ]
     },
     "metadata": {
      "needs_background": "light"
     },
     "output_type": "display_data"
    }
   ],
   "source": [
    "imp_dict={}\n",
    "dtc.fit(X_train_y_G3,y_train_y_G3)\n",
    "y_pred_y_G3 = dtc.predict(X_test_y_G3)\n",
    "print(classification_report(y_pred_y_G3,y_test_y_G3))\n",
    "print(\"Kappa Score: \" +str(cohen_kappa_score(y_pred_y_G3,y_test_y_G3)))\n",
    "print(\"\\t\")\n",
    "for importance, name in sorted(zip(dtc.feature_importances_, X_train_y_G3.columns),reverse=True):\n",
    "    imp_dict[name] = importance\n",
    "    print ('Feature '+name+ ' and its importance is '+str(importance))\n",
    "plt.bar(range(len(imp_dict)), list(imp_dict.values()), align='center')\n",
    "plt.xticks(range(len(imp_dict)), list(imp_dict.keys()),rotation=90)"
   ]
  },
  {
   "cell_type": "markdown",
   "metadata": {},
   "source": [
    "### Random Forest"
   ]
  },
  {
   "cell_type": "code",
   "execution_count": 34,
   "metadata": {},
   "outputs": [],
   "source": [
    "rf = RandomForestClassifier()"
   ]
  },
  {
   "cell_type": "code",
   "execution_count": 35,
   "metadata": {},
   "outputs": [
    {
     "name": "stdout",
     "output_type": "stream",
     "text": [
      "              precision    recall  f1-score   support\n",
      "\n",
      "           0       0.10      1.00      0.18         1\n",
      "           1       0.07      1.00      0.13         1\n",
      "           2       0.99      0.61      0.76       166\n",
      "           3       0.39      0.74      0.51        19\n",
      "           4       0.57      0.97      0.72        34\n",
      "\n",
      "    accuracy                           0.68       221\n",
      "   macro avg       0.42      0.86      0.46       221\n",
      "weighted avg       0.87      0.68      0.73       221\n",
      "\n",
      "Kappa Score: 0.46770808244159234\n",
      "\t\n",
      "Feature failures.x and its importance is 0.1373135433649004\n",
      "Feature schoolsup.x and its importance is 0.07981576753973836\n",
      "Feature absences.x and its importance is 0.0588046021526085\n",
      "Feature Mjob and its importance is 0.04427319292835295\n",
      "Feature Walc.x and its importance is 0.04267737516656373\n",
      "Feature goout.x and its importance is 0.04222564746864776\n",
      "Feature Fedu and its importance is 0.041259528540029435\n",
      "Feature health.x and its importance is 0.041176743959713456\n",
      "Feature age and its importance is 0.04034892397836521\n",
      "Feature Medu and its importance is 0.03988868428616868\n",
      "Feature freetime.x and its importance is 0.03926652873245975\n",
      "Feature reason and its importance is 0.03766676930583508\n",
      "Feature Fjob and its importance is 0.037471300015315914\n",
      "Feature studytime.x and its importance is 0.034384786307838026\n",
      "Feature famrel.x and its importance is 0.03348550577742964\n",
      "Feature Dalc.x and its importance is 0.025511408491561326\n",
      "Feature traveltime.x and its importance is 0.022385813687441553\n",
      "Feature sex and its importance is 0.0209388577947783\n",
      "Feature romantic.x and its importance is 0.020688863320689515\n",
      "Feature paid.x and its importance is 0.019045860902828282\n",
      "Feature guardian.x and its importance is 0.018578437953765094\n",
      "Feature famsup.x and its importance is 0.0185105605461656\n",
      "Feature activities.x and its importance is 0.018325809639996735\n",
      "Feature famsize and its importance is 0.016110408121289447\n",
      "Feature address and its importance is 0.01478519270284242\n",
      "Feature nursery and its importance is 0.014614629371036891\n",
      "Feature internet and its importance is 0.013835985479937682\n",
      "Feature Pstatus and its importance is 0.010984521952667407\n",
      "Feature school and its importance is 0.009613043590001763\n",
      "Feature higher.x and its importance is 0.0060117069210311016\n"
     ]
    },
    {
     "data": {
      "text/plain": [
       "([<matplotlib.axis.XTick at 0x7fbfe73a3b10>,\n",
       "  <matplotlib.axis.XTick at 0x7fbfe7314f50>,\n",
       "  <matplotlib.axis.XTick at 0x7fbfe7314c50>,\n",
       "  <matplotlib.axis.XTick at 0x7fbfe749b210>,\n",
       "  <matplotlib.axis.XTick at 0x7fbfe749b810>,\n",
       "  <matplotlib.axis.XTick at 0x7fbfe749bdd0>,\n",
       "  <matplotlib.axis.XTick at 0x7fbfe74a1490>,\n",
       "  <matplotlib.axis.XTick at 0x7fbfe74a1ad0>,\n",
       "  <matplotlib.axis.XTick at 0x7fbfe74a8190>,\n",
       "  <matplotlib.axis.XTick at 0x7fbfe74a8790>,\n",
       "  <matplotlib.axis.XTick at 0x7fbfe74a8d90>,\n",
       "  <matplotlib.axis.XTick at 0x7fbfe74ae410>,\n",
       "  <matplotlib.axis.XTick at 0x7fbfe74a8710>,\n",
       "  <matplotlib.axis.XTick at 0x7fbfe749b790>,\n",
       "  <matplotlib.axis.XTick at 0x7fbfe74ae950>,\n",
       "  <matplotlib.axis.XTick at 0x7fbfe74ae050>,\n",
       "  <matplotlib.axis.XTick at 0x7fbfe74b6610>,\n",
       "  <matplotlib.axis.XTick at 0x7fbfe74b6c50>,\n",
       "  <matplotlib.axis.XTick at 0x7fbfe74bd2d0>,\n",
       "  <matplotlib.axis.XTick at 0x7fbfe74bd910>,\n",
       "  <matplotlib.axis.XTick at 0x7fbfe74bd7d0>,\n",
       "  <matplotlib.axis.XTick at 0x7fbfe74bd250>,\n",
       "  <matplotlib.axis.XTick at 0x7fbfe749b8d0>,\n",
       "  <matplotlib.axis.XTick at 0x7fbfe74c3490>,\n",
       "  <matplotlib.axis.XTick at 0x7fbfe74c3b90>,\n",
       "  <matplotlib.axis.XTick at 0x7fbfe74cb290>,\n",
       "  <matplotlib.axis.XTick at 0x7fbfe74cb850>,\n",
       "  <matplotlib.axis.XTick at 0x7fbfe74cbe90>,\n",
       "  <matplotlib.axis.XTick at 0x7fbfe74d2510>,\n",
       "  <matplotlib.axis.XTick at 0x7fbfe74d2b50>],\n",
       " <a list of 30 Text xticklabel objects>)"
      ]
     },
     "execution_count": 35,
     "metadata": {},
     "output_type": "execute_result"
    },
    {
     "data": {
      "image/png": "[encoded data removed]",
      "text/plain": [
       "<Figure size 432x288 with 1 Axes>"
      ]
     },
     "metadata": {
      "needs_background": "light"
     },
     "output_type": "display_data"
    }
   ],
   "source": [
    "imp_dict={}\n",
    "rf.fit(X_train_x_G1,y_train_x_G1)\n",
    "y_pred_x_G1= rf.predict(X_test_x_G1)\n",
    "print(classification_report(y_pred_x_G1,y_test_x_G1))\n",
    "print(\"Kappa Score: \" +str(cohen_kappa_score(y_pred_x_G1,y_test_x_G1)))\n",
    "print(\"\\t\")\n",
    "for importance, name in sorted(zip(rf.feature_importances_, X_train_x_G1.columns),reverse=True):\n",
    "    imp_dict[name] = importance\n",
    "    print('Feature '+name+ ' and its importance is '+str(importance))\n",
    "plt.bar(range(len(imp_dict)), list(imp_dict.values()), align='center')\n",
    "plt.xticks(range(len(imp_dict)), list(imp_dict.keys()),rotation=90)"
   ]
  },
  {
   "cell_type": "code",
   "execution_count": 36,
   "metadata": {
    "scrolled": true
   },
   "outputs": [
    {
     "name": "stdout",
     "output_type": "stream",
     "text": [
      "              precision    recall  f1-score   support\n",
      "\n",
      "           0       0.17      1.00      0.29         2\n",
      "           1       0.00      0.00      0.00         2\n",
      "           2       0.98      0.61      0.75       163\n",
      "           3       0.00      0.00      0.00         0\n",
      "           4       0.68      0.89      0.77        54\n",
      "\n",
      "    accuracy                           0.68       221\n",
      "   macro avg       0.36      0.50      0.36       221\n",
      "weighted avg       0.89      0.68      0.75       221\n",
      "\n",
      "Kappa Score: 0.44607618173474073\n",
      "\t\n",
      "Feature failures.x and its importance is 0.12198082060799752\n",
      "Feature schoolsup.x and its importance is 0.07505521133543615\n",
      "Feature absences.x and its importance is 0.06497236049293606\n",
      "Feature Mjob and its importance is 0.04661082263912399\n",
      "Feature age and its importance is 0.04516227753945204\n",
      "Feature goout.x and its importance is 0.04441170360264663\n",
      "Feature Medu and its importance is 0.042541955096120444\n",
      "Feature Walc.x and its importance is 0.04236566405687972\n",
      "Feature health.x and its importance is 0.04126268533835813\n",
      "Feature freetime.x and its importance is 0.03974979643804943\n",
      "Feature Fedu and its importance is 0.03915979213302104\n",
      "Feature reason and its importance is 0.038025049415839514\n",
      "Feature studytime.x and its importance is 0.03548885605213995\n",
      "Feature Fjob and its importance is 0.034045761110112135\n",
      "Feature famrel.x and its importance is 0.033683243881025476\n",
      "Feature traveltime.x and its importance is 0.0266026559870485\n",
      "Feature Dalc.x and its importance is 0.025861533577400134\n",
      "Feature paid.x and its importance is 0.021120687637294827\n",
      "Feature guardian.x and its importance is 0.021094752427120365\n",
      "Feature sex and its importance is 0.020863455039800898\n",
      "Feature famsup.x and its importance is 0.01883611487499897\n",
      "Feature romantic.x and its importance is 0.018650770966455493\n",
      "Feature activities.x and its importance is 0.018613829902079694\n",
      "Feature famsize and its importance is 0.01735549771055399\n",
      "Feature internet and its importance is 0.014197857295919674\n",
      "Feature nursery and its importance is 0.0134867568459699\n",
      "Feature address and its importance is 0.013432032038059349\n",
      "Feature Pstatus and its importance is 0.011558483947994795\n",
      "Feature school and its importance is 0.00875653922835195\n",
      "Feature higher.x and its importance is 0.005053032781813228\n"
     ]
    },
    {
     "name": "stderr",
     "output_type": "stream",
     "text": [
      "/opt/anaconda3/lib/python3.7/site-packages/sklearn/metrics/_classification.py:1272: UndefinedMetricWarning: Recall and F-score are ill-defined and being set to 0.0 in labels with no true samples. Use `zero_division` parameter to control this behavior.\n",
      "  _warn_prf(average, modifier, msg_start, len(result))\n"
     ]
    },
    {
     "data": {
      "text/plain": [
       "([<matplotlib.axis.XTick at 0x7fbfe76c8550>,\n",
       "  <matplotlib.axis.XTick at 0x7fbfe76d1290>,\n",
       "  <matplotlib.axis.XTick at 0x7fbfe76d1110>,\n",
       "  <matplotlib.axis.XTick at 0x7fbfe776f810>,\n",
       "  <matplotlib.axis.XTick at 0x7fbfe776fd10>,\n",
       "  <matplotlib.axis.XTick at 0x7fbfe7778410>,\n",
       "  <matplotlib.axis.XTick at 0x7fbfe7778a10>,\n",
       "  <matplotlib.axis.XTick at 0x7fbfe7778d90>,\n",
       "  <matplotlib.axis.XTick at 0x7fbfe776fe10>,\n",
       "  <matplotlib.axis.XTick at 0x7fbfe777e750>,\n",
       "  <matplotlib.axis.XTick at 0x7fbfe777ed50>,\n",
       "  <matplotlib.axis.XTick at 0x7fbfe7785450>,\n",
       "  <matplotlib.axis.XTick at 0x7fbfe7785a10>,\n",
       "  <matplotlib.axis.XTick at 0x7fbfe7785210>,\n",
       "  <matplotlib.axis.XTick at 0x7fbfe778c690>,\n",
       "  <matplotlib.axis.XTick at 0x7fbfe778cc10>,\n",
       "  <matplotlib.axis.XTick at 0x7fbfe778c610>,\n",
       "  <matplotlib.axis.XTick at 0x7fbfe7785350>,\n",
       "  <matplotlib.axis.XTick at 0x7fbfe7795250>,\n",
       "  <matplotlib.axis.XTick at 0x7fbfe7795950>,\n",
       "  <matplotlib.axis.XTick at 0x7fbfe7795810>,\n",
       "  <matplotlib.axis.XTick at 0x7fbfe779b610>,\n",
       "  <matplotlib.axis.XTick at 0x7fbfe779bc50>,\n",
       "  <matplotlib.axis.XTick at 0x7fbfe77a12d0>,\n",
       "  <matplotlib.axis.XTick at 0x7fbfe77a1910>,\n",
       "  <matplotlib.axis.XTick at 0x7fbfe77a17d0>,\n",
       "  <matplotlib.axis.XTick at 0x7fbfe77a1890>,\n",
       "  <matplotlib.axis.XTick at 0x7fbfe7795590>,\n",
       "  <matplotlib.axis.XTick at 0x7fbfe77a94d0>,\n",
       "  <matplotlib.axis.XTick at 0x7fbfe77a9b10>],\n",
       " <a list of 30 Text xticklabel objects>)"
      ]
     },
     "execution_count": 36,
     "metadata": {},
     "output_type": "execute_result"
    },
    {
     "data": {
      "image/png": "[encoded data removed]",
      "text/plain": [
       "<Figure size 432x288 with 1 Axes>"
      ]
     },
     "metadata": {
      "needs_background": "light"
     },
     "output_type": "display_data"
    }
   ],
   "source": [
    "imp_dict={}\n",
    "rf.fit(X_train_x_G3,y_train_x_G3)\n",
    "y_pred_x_G3= rf.predict(X_test_x_G3)\n",
    "print(classification_report(y_pred_x_G3,y_test_x_G3))\n",
    "print(\"Kappa Score: \" +str(cohen_kappa_score(y_pred_x_G3,y_test_x_G3)))\n",
    "print(\"\\t\")\n",
    "for importance, name in sorted(zip(rf.feature_importances_, X_train_x_G3.columns),reverse=True):\n",
    "    imp_dict[name] = importance\n",
    "    print('Feature '+name+ ' and its importance is '+str(importance))\n",
    "plt.bar(range(len(imp_dict)), list(imp_dict.values()), align='center')\n",
    "plt.xticks(range(len(imp_dict)), list(imp_dict.keys()),rotation=90)"
   ]
  },
  {
   "cell_type": "code",
   "execution_count": 37,
   "metadata": {},
   "outputs": [
    {
     "name": "stdout",
     "output_type": "stream",
     "text": [
      "              precision    recall  f1-score   support\n",
      "\n",
      "           0       0.10      1.00      0.18         1\n",
      "           1       0.07      0.50      0.12         4\n",
      "           2       0.96      0.59      0.73       184\n",
      "           3       0.36      0.65      0.47        31\n",
      "           4       0.08      1.00      0.14         1\n",
      "\n",
      "    accuracy                           0.60       221\n",
      "   macro avg       0.31      0.75      0.33       221\n",
      "weighted avg       0.85      0.60      0.67       221\n",
      "\n",
      "Kappa Score: 0.2493034616999351\n",
      "\t\n",
      "Feature absences.y and its importance is 0.06386707523065238\n",
      "Feature health.y and its importance is 0.0521037313669768\n",
      "Feature age and its importance is 0.05038237273322025\n",
      "Feature Fedu and its importance is 0.048703518192923616\n",
      "Feature goout.y and its importance is 0.04852200678234553\n",
      "Feature Medu and its importance is 0.048366983063337775\n",
      "Feature studytime.y and its importance is 0.04785194623616481\n",
      "Feature freetime.y and its importance is 0.047385789619970635\n",
      "Feature Mjob and its importance is 0.04721461731949977\n",
      "Feature Walc.y and its importance is 0.04680010222593316\n",
      "Feature famrel.y and its importance is 0.04612274270769474\n",
      "Feature reason and its importance is 0.04413243485871173\n",
      "Feature Fjob and its importance is 0.04047767334804364\n",
      "Feature Dalc.y and its importance is 0.03224133268228653\n",
      "Feature traveltime.y and its importance is 0.03134966648878902\n",
      "Feature sex and its importance is 0.029349095491854577\n",
      "Feature schoolsup.y and its importance is 0.028878585293584415\n",
      "Feature guardian.y and its importance is 0.02807259527514955\n",
      "Feature activities.y and its importance is 0.022809993079851563\n",
      "Feature famsize and its importance is 0.02243665243850999\n",
      "Feature romantic.y and its importance is 0.02190209875573471\n",
      "Feature famsup.y and its importance is 0.020565677987303962\n",
      "Feature address and its importance is 0.02047604521905103\n",
      "Feature higher.y and its importance is 0.01847790675686147\n",
      "Feature failures.y and its importance is 0.017326685015849618\n",
      "Feature school and its importance is 0.016883228737085445\n",
      "Feature nursery and its importance is 0.016608824097238885\n",
      "Feature paid.y and its importance is 0.01477873977372693\n",
      "Feature internet and its importance is 0.013526005252620004\n",
      "Feature Pstatus and its importance is 0.012385873969027543\n"
     ]
    },
    {
     "data": {
      "text/plain": [
       "([<matplotlib.axis.XTick at 0x7fbfe787a590>,\n",
       "  <matplotlib.axis.XTick at 0x7fbfe7023e50>,\n",
       "  <matplotlib.axis.XTick at 0x7fbfe7638550>,\n",
       "  <matplotlib.axis.XTick at 0x7fbfe781c510>,\n",
       "  <matplotlib.axis.XTick at 0x7fbfe781ca90>,\n",
       "  <matplotlib.axis.XTick at 0x7fbfe781ce50>,\n",
       "  <matplotlib.axis.XTick at 0x7fbfe7825790>,\n",
       "  <matplotlib.axis.XTick at 0x7fbfe7825dd0>,\n",
       "  <matplotlib.axis.XTick at 0x7fbfe7914450>,\n",
       "  <matplotlib.axis.XTick at 0x7fbfe7914a90>,\n",
       "  <matplotlib.axis.XTick at 0x7fbfe7914e50>,\n",
       "  <matplotlib.axis.XTick at 0x7fbfe7825510>,\n",
       "  <matplotlib.axis.XTick at 0x7fbfe791a350>,\n",
       "  <matplotlib.axis.XTick at 0x7fbfe791a910>,\n",
       "  <matplotlib.axis.XTick at 0x7fbfe791a7d0>,\n",
       "  <matplotlib.axis.XTick at 0x7fbfe79225d0>,\n",
       "  <matplotlib.axis.XTick at 0x7fbfe7922c10>,\n",
       "  <matplotlib.axis.XTick at 0x7fbfe7929310>,\n",
       "  <matplotlib.axis.XTick at 0x7fbfe79298d0>,\n",
       "  <matplotlib.axis.XTick at 0x7fbfe7929f10>,\n",
       "  <matplotlib.axis.XTick at 0x7fbfe7922690>,\n",
       "  <matplotlib.axis.XTick at 0x7fbfe7825850>,\n",
       "  <matplotlib.axis.XTick at 0x7fbfe792f610>,\n",
       "  <matplotlib.axis.XTick at 0x7fbfe792fc50>,\n",
       "  <matplotlib.axis.XTick at 0x7fbfe7938350>,\n",
       "  <matplotlib.axis.XTick at 0x7fbfe7938910>,\n",
       "  <matplotlib.axis.XTick at 0x7fbfe79387d0>,\n",
       "  <matplotlib.axis.XTick at 0x7fbfe793f610>,\n",
       "  <matplotlib.axis.XTick at 0x7fbfe793fc10>,\n",
       "  <matplotlib.axis.XTick at 0x7fbfe793f6d0>],\n",
       " <a list of 30 Text xticklabel objects>)"
      ]
     },
     "execution_count": 37,
     "metadata": {},
     "output_type": "execute_result"
    },
    {
     "data": {
      "image/png": "[encoded data removed]",
      "text/plain": [
       "<Figure size 432x288 with 1 Axes>"
      ]
     },
     "metadata": {
      "needs_background": "light"
     },
     "output_type": "display_data"
    }
   ],
   "source": [
    "imp_dict={}\n",
    "rf.fit(X_train_y_G1,y_train_y_G1)\n",
    "y_pred_y_G1 = rf.predict(X_test_y_G1)\n",
    "print(classification_report(y_pred_y_G1,y_test_y_G1))\n",
    "print(\"Kappa Score: \" +str(cohen_kappa_score(y_pred_y_G1,y_test_y_G1)))\n",
    "print(\"\\t\")\n",
    "for importance, name in sorted(zip(rf.feature_importances_, X_train_y_G1.columns),reverse=True):\n",
    "    imp_dict[name] = importance\n",
    "    print ('Feature '+name+ ' and its importance is '+str(importance))\n",
    "plt.bar(range(len(imp_dict)), list(imp_dict.values()), align='center')\n",
    "plt.xticks(range(len(imp_dict)), list(imp_dict.keys()),rotation=90)"
   ]
  },
  {
   "cell_type": "code",
   "execution_count": 38,
   "metadata": {},
   "outputs": [
    {
     "name": "stdout",
     "output_type": "stream",
     "text": [
      "              precision    recall  f1-score   support\n",
      "\n",
      "           0       0.00      0.00      0.00         0\n",
      "           1       0.23      0.42      0.30        26\n",
      "           2       0.87      0.48      0.62       173\n",
      "           3       0.24      0.57      0.33        21\n",
      "           4       0.10      1.00      0.18         1\n",
      "\n",
      "    accuracy                           0.48       221\n",
      "   macro avg       0.29      0.49      0.29       221\n",
      "weighted avg       0.73      0.48      0.55       221\n",
      "\n",
      "Kappa Score: 0.16234996841440308\n",
      "\t\n",
      "Feature absences.y and its importance is 0.05897288010722783\n",
      "Feature health.y and its importance is 0.05357600782691612\n",
      "Feature Fedu and its importance is 0.05125855107354987\n",
      "Feature goout.y and its importance is 0.05018581276226195\n",
      "Feature Medu and its importance is 0.04969461291329824\n",
      "Feature age and its importance is 0.049359647714978534\n",
      "Feature Mjob and its importance is 0.04891573251746854\n",
      "Feature freetime.y and its importance is 0.04757038315357601\n",
      "Feature Walc.y and its importance is 0.04596355250110578\n",
      "Feature famrel.y and its importance is 0.045653175805950866\n",
      "Feature reason and its importance is 0.04490714793545896\n",
      "Feature studytime.y and its importance is 0.041986386652005075\n",
      "Feature Fjob and its importance is 0.04112394498870782\n",
      "Feature Dalc.y and its importance is 0.0361274191161627\n",
      "Feature traveltime.y and its importance is 0.03333339848397031\n",
      "Feature sex and its importance is 0.02730818868216328\n",
      "Feature activities.y and its importance is 0.025714874917524985\n",
      "Feature guardian.y and its importance is 0.023831382350953296\n",
      "Feature failures.y and its importance is 0.022730465723609174\n",
      "Feature romantic.y and its importance is 0.022448172344571245\n",
      "Feature famsup.y and its importance is 0.02149275059557511\n",
      "Feature school and its importance is 0.020926481543419556\n",
      "Feature address and its importance is 0.020644443633521303\n",
      "Feature schoolsup.y and its importance is 0.020003601341498763\n",
      "Feature famsize and its importance is 0.019292549610932432\n",
      "Feature nursery and its importance is 0.01873749961884215\n",
      "Feature higher.y and its importance is 0.01741950390072066\n",
      "Feature Pstatus and its importance is 0.015663653609159334\n",
      "Feature internet and its importance is 0.013423632890424355\n",
      "Feature paid.y and its importance is 0.011734145684445902\n"
     ]
    },
    {
     "name": "stderr",
     "output_type": "stream",
     "text": [
      "/opt/anaconda3/lib/python3.7/site-packages/sklearn/metrics/_classification.py:1272: UndefinedMetricWarning: Recall and F-score are ill-defined and being set to 0.0 in labels with no true samples. Use `zero_division` parameter to control this behavior.\n",
      "  _warn_prf(average, modifier, msg_start, len(result))\n"
     ]
    },
    {
     "data": {
      "text/plain": [
       "([<matplotlib.axis.XTick at 0x7fbfe798d0d0>,\n",
       "  <matplotlib.axis.XTick at 0x7fbfe7989e90>,\n",
       "  <matplotlib.axis.XTick at 0x7fbfe7989b90>,\n",
       "  <matplotlib.axis.XTick at 0x7fbfe7ab1390>,\n",
       "  <matplotlib.axis.XTick at 0x7fbfe7ab19d0>,\n",
       "  <matplotlib.axis.XTick at 0x7fbfe7ab1290>,\n",
       "  <matplotlib.axis.XTick at 0x7fbfe7aba710>,\n",
       "  <matplotlib.axis.XTick at 0x7fbfe7abac90>,\n",
       "  <matplotlib.axis.XTick at 0x7fbfe7abaf10>,\n",
       "  <matplotlib.axis.XTick at 0x7fbfe7abf410>,\n",
       "  <matplotlib.axis.XTick at 0x7fbfe7abfa10>,\n",
       "  <matplotlib.axis.XTick at 0x7fbfe7abfb10>,\n",
       "  <matplotlib.axis.XTick at 0x7fbfe7ac65d0>,\n",
       "  <matplotlib.axis.XTick at 0x7fbfe7ac6c10>,\n",
       "  <matplotlib.axis.XTick at 0x7fbfe7ace290>,\n",
       "  <matplotlib.axis.XTick at 0x7fbfe7ace8d0>,\n",
       "  <matplotlib.axis.XTick at 0x7fbfe7acef10>,\n",
       "  <matplotlib.axis.XTick at 0x7fbfe7ac6690>,\n",
       "  <matplotlib.axis.XTick at 0x7fbfe7aba250>,\n",
       "  <matplotlib.axis.XTick at 0x7fbfe7ad4610>,\n",
       "  <matplotlib.axis.XTick at 0x7fbfe7ad4c50>,\n",
       "  <matplotlib.axis.XTick at 0x7fbfe7add2d0>,\n",
       "  <matplotlib.axis.XTick at 0x7fbfe7add910>,\n",
       "  <matplotlib.axis.XTick at 0x7fbfe7add7d0>,\n",
       "  <matplotlib.axis.XTick at 0x7fbfe7ae35d0>,\n",
       "  <matplotlib.axis.XTick at 0x7fbfe7ae3c10>,\n",
       "  <matplotlib.axis.XTick at 0x7fbfe7ae3ad0>,\n",
       "  <matplotlib.axis.XTick at 0x7fbfe7aba050>,\n",
       "  <matplotlib.axis.XTick at 0x7fbfe7aec1d0>,\n",
       "  <matplotlib.axis.XTick at 0x7fbfe7aec7d0>],\n",
       " <a list of 30 Text xticklabel objects>)"
      ]
     },
     "execution_count": 38,
     "metadata": {},
     "output_type": "execute_result"
    },
    {
     "data": {
      "image/png": "[encoded data removed]",
      "text/plain": [
       "<Figure size 432x288 with 1 Axes>"
      ]
     },
     "metadata": {
      "needs_background": "light"
     },
     "output_type": "display_data"
    }
   ],
   "source": [
    "imp_dict={}\n",
    "rf.fit(X_train_y_G3,y_train_y_G3)\n",
    "y_pred_y_G3 = rf.predict(X_test_y_G3)\n",
    "print(classification_report(y_pred_y_G3,y_test_y_G3))\n",
    "print(\"Kappa Score: \" +str(cohen_kappa_score(y_pred_y_G3,y_test_y_G3)))\n",
    "print(\"\\t\")\n",
    "for importance, name in sorted(zip(rf.feature_importances_, X_train_y_G3.columns),reverse=True):\n",
    "    imp_dict[name] = importance\n",
    "    print ('Feature '+name+ ' and its importance is '+str(importance))\n",
    "plt.bar(range(len(imp_dict)), list(imp_dict.values()), align='center')\n",
    "plt.xticks(range(len(imp_dict)), list(imp_dict.keys()),rotation=90)"
   ]
  },
  {
   "cell_type": "markdown",
   "metadata": {},
   "source": [
    "### Linear SVM"
   ]
  },
  {
   "cell_type": "code",
   "execution_count": 39,
   "metadata": {},
   "outputs": [],
   "source": [
    "lsvm = LinearSVC(max_iter=1000000)"
   ]
  },
  {
   "cell_type": "code",
   "execution_count": 40,
   "metadata": {},
   "outputs": [
    {
     "name": "stdout",
     "output_type": "stream",
     "text": [
      "              precision    recall  f1-score   support\n",
      "\n",
      "           0       0.00      0.00      0.00         0\n",
      "           1       0.00      0.00      0.00         0\n",
      "           2       0.99      0.60      0.75       170\n",
      "           3       0.31      0.69      0.42        16\n",
      "           4       0.55      0.91      0.69        35\n",
      "\n",
      "    accuracy                           0.66       221\n",
      "   macro avg       0.37      0.44      0.37       221\n",
      "weighted avg       0.87      0.66      0.71       221\n",
      "\n",
      "Kappa Score: 0.41528285465622294\n"
     ]
    },
    {
     "name": "stderr",
     "output_type": "stream",
     "text": [
      "/opt/anaconda3/lib/python3.7/site-packages/sklearn/metrics/_classification.py:1272: UndefinedMetricWarning: Recall and F-score are ill-defined and being set to 0.0 in labels with no true samples. Use `zero_division` parameter to control this behavior.\n",
      "  _warn_prf(average, modifier, msg_start, len(result))\n"
     ]
    }
   ],
   "source": [
    "lsvm.fit(X_train_x_G1,y_train_x_G1)\n",
    "y_pred_x_G1= lsvm.predict(X_test_x_G1)\n",
    "print(classification_report(y_pred_x_G1,y_test_x_G1))\n",
    "print(\"Kappa Score: \" +str(cohen_kappa_score(y_pred_x_G1,y_test_x_G1)))"
   ]
  },
  {
   "cell_type": "code",
   "execution_count": 41,
   "metadata": {},
   "outputs": [
    {
     "name": "stdout",
     "output_type": "stream",
     "text": [
      "              precision    recall  f1-score   support\n",
      "\n",
      "           0       0.00      0.00      0.00         0\n",
      "           1       0.00      0.00      0.00         0\n",
      "           2       0.99      0.59      0.74       170\n",
      "           3       0.00      0.00      0.00         0\n",
      "           4       0.65      0.90      0.75        51\n",
      "\n",
      "    accuracy                           0.67       221\n",
      "   macro avg       0.33      0.30      0.30       221\n",
      "weighted avg       0.91      0.67      0.75       221\n",
      "\n",
      "Kappa Score: 0.4134146341463415\n"
     ]
    },
    {
     "name": "stderr",
     "output_type": "stream",
     "text": [
      "/opt/anaconda3/lib/python3.7/site-packages/sklearn/metrics/_classification.py:1272: UndefinedMetricWarning: Recall and F-score are ill-defined and being set to 0.0 in labels with no true samples. Use `zero_division` parameter to control this behavior.\n",
      "  _warn_prf(average, modifier, msg_start, len(result))\n"
     ]
    }
   ],
   "source": [
    "lsvm.fit(X_train_x_G3,y_train_x_G3)\n",
    "y_pred_x_G3= lsvm.predict(X_test_x_G3)\n",
    "print(classification_report(y_pred_x_G3,y_test_x_G3))\n",
    "print(\"Kappa Score: \" +str(cohen_kappa_score(y_pred_x_G3,y_test_x_G3)))"
   ]
  },
  {
   "cell_type": "code",
   "execution_count": 42,
   "metadata": {},
   "outputs": [
    {
     "name": "stdout",
     "output_type": "stream",
     "text": [
      "              precision    recall  f1-score   support\n",
      "\n",
      "           0       0.00      0.00      0.00         0\n",
      "           1       0.03      1.00      0.06         1\n",
      "           2       0.91      0.61      0.73       169\n",
      "           3       0.45      0.62      0.53        40\n",
      "           4       0.54      0.64      0.58        11\n",
      "\n",
      "    accuracy                           0.62       221\n",
      "   macro avg       0.39      0.57      0.38       221\n",
      "weighted avg       0.81      0.62      0.68       221\n",
      "\n",
      "Kappa Score: 0.3136896715501808\n"
     ]
    },
    {
     "name": "stderr",
     "output_type": "stream",
     "text": [
      "/opt/anaconda3/lib/python3.7/site-packages/sklearn/metrics/_classification.py:1272: UndefinedMetricWarning: Recall and F-score are ill-defined and being set to 0.0 in labels with no true samples. Use `zero_division` parameter to control this behavior.\n",
      "  _warn_prf(average, modifier, msg_start, len(result))\n"
     ]
    }
   ],
   "source": [
    "lsvm.fit(X_train_y_G1,y_train_y_G1)\n",
    "y_pred_y_G1 = lsvm.predict(X_test_y_G1)\n",
    "print(classification_report(y_pred_y_G1,y_test_y_G1))\n",
    "print(\"Kappa Score: \" +str(cohen_kappa_score(y_pred_y_G1,y_test_y_G1)))"
   ]
  },
  {
   "cell_type": "code",
   "execution_count": 43,
   "metadata": {},
   "outputs": [
    {
     "name": "stdout",
     "output_type": "stream",
     "text": [
      "              precision    recall  f1-score   support\n",
      "\n",
      "           0       0.00      0.00      0.00         0\n",
      "           1       0.48      0.48      0.48        48\n",
      "           2       0.80      0.55      0.66       137\n",
      "           3       0.41      0.66      0.51        32\n",
      "           4       0.20      0.50      0.29         4\n",
      "\n",
      "    accuracy                           0.55       221\n",
      "   macro avg       0.38      0.44      0.39       221\n",
      "weighted avg       0.66      0.55      0.59       221\n",
      "\n",
      "Kappa Score: 0.3130612244897959\n"
     ]
    },
    {
     "name": "stderr",
     "output_type": "stream",
     "text": [
      "/opt/anaconda3/lib/python3.7/site-packages/sklearn/metrics/_classification.py:1272: UndefinedMetricWarning: Recall and F-score are ill-defined and being set to 0.0 in labels with no true samples. Use `zero_division` parameter to control this behavior.\n",
      "  _warn_prf(average, modifier, msg_start, len(result))\n"
     ]
    }
   ],
   "source": [
    "lsvm.fit(X_train_y_G3,y_train_y_G3)\n",
    "y_pred_y_G3 = lsvm.predict(X_test_y_G3)\n",
    "print(classification_report(y_pred_y_G3,y_test_y_G3))\n",
    "print(\"Kappa Score: \" +str(cohen_kappa_score(y_pred_y_G3,y_test_y_G3)))"
   ]
  },
  {
   "cell_type": "markdown",
   "metadata": {},
   "source": [
    "### Logistic Regression"
   ]
  },
  {
   "cell_type": "code",
   "execution_count": 44,
   "metadata": {},
   "outputs": [],
   "source": [
    "lg = LogisticRegression(random_state=0,max_iter=1000000)"
   ]
  },
  {
   "cell_type": "code",
   "execution_count": 45,
   "metadata": {},
   "outputs": [
    {
     "name": "stdout",
     "output_type": "stream",
     "text": [
      "              precision    recall  f1-score   support\n",
      "\n",
      "           0       0.00      0.00      0.00         0\n",
      "           1       0.00      0.00      0.00         2\n",
      "           2       0.97      0.60      0.74       168\n",
      "           3       0.19      0.54      0.29        13\n",
      "           4       0.53      0.82      0.65        38\n",
      "\n",
      "    accuracy                           0.62       221\n",
      "   macro avg       0.34      0.39      0.33       221\n",
      "weighted avg       0.84      0.62      0.69       221\n",
      "\n",
      "Kappa Score: 0.3639074799736449\n"
     ]
    },
    {
     "name": "stderr",
     "output_type": "stream",
     "text": [
      "/opt/anaconda3/lib/python3.7/site-packages/sklearn/metrics/_classification.py:1272: UndefinedMetricWarning: Recall and F-score are ill-defined and being set to 0.0 in labels with no true samples. Use `zero_division` parameter to control this behavior.\n",
      "  _warn_prf(average, modifier, msg_start, len(result))\n"
     ]
    }
   ],
   "source": [
    "lg.fit(X_train_x_G1,y_train_x_G1)\n",
    "y_pred_x_G1= lg.predict(X_test_x_G1)\n",
    "print(classification_report(y_pred_x_G1,y_test_x_G1))\n",
    "print(\"Kappa Score: \" +str(cohen_kappa_score(y_pred_x_G1,y_test_x_G1)))"
   ]
  },
  {
   "cell_type": "code",
   "execution_count": 46,
   "metadata": {},
   "outputs": [
    {
     "name": "stdout",
     "output_type": "stream",
     "text": [
      "              precision    recall  f1-score   support\n",
      "\n",
      "           0       0.00      0.00      0.00         0\n",
      "           1       0.00      0.00      0.00         1\n",
      "           2       0.99      0.60      0.75       169\n",
      "           3       0.00      0.00      0.00         0\n",
      "           4       0.65      0.90      0.75        51\n",
      "\n",
      "    accuracy                           0.67       221\n",
      "   macro avg       0.33      0.30      0.30       221\n",
      "weighted avg       0.91      0.67      0.74       221\n",
      "\n",
      "Kappa Score: 0.4152393892802231\n"
     ]
    },
    {
     "name": "stderr",
     "output_type": "stream",
     "text": [
      "/opt/anaconda3/lib/python3.7/site-packages/sklearn/metrics/_classification.py:1272: UndefinedMetricWarning: Recall and F-score are ill-defined and being set to 0.0 in labels with no true samples. Use `zero_division` parameter to control this behavior.\n",
      "  _warn_prf(average, modifier, msg_start, len(result))\n"
     ]
    }
   ],
   "source": [
    "lg.fit(X_train_x_G3,y_train_x_G3)\n",
    "y_pred_x_G3= lg.predict(X_test_x_G3)\n",
    "print(classification_report(y_pred_x_G3,y_test_x_G3))\n",
    "print(\"Kappa Score: \" +str(cohen_kappa_score(y_pred_x_G3,y_test_x_G3)))"
   ]
  },
  {
   "cell_type": "code",
   "execution_count": 47,
   "metadata": {},
   "outputs": [
    {
     "name": "stdout",
     "output_type": "stream",
     "text": [
      "              precision    recall  f1-score   support\n",
      "\n",
      "           0       0.00      0.00      0.00         0\n",
      "           1       0.30      0.56      0.39        16\n",
      "           2       0.87      0.63      0.73       155\n",
      "           3       0.44      0.65      0.52        37\n",
      "           4       0.62      0.62      0.62        13\n",
      "\n",
      "    accuracy                           0.63       221\n",
      "   macro avg       0.44      0.49      0.45       221\n",
      "weighted avg       0.74      0.63      0.66       221\n",
      "\n",
      "Kappa Score: 0.3672927868165631\n"
     ]
    },
    {
     "name": "stderr",
     "output_type": "stream",
     "text": [
      "/opt/anaconda3/lib/python3.7/site-packages/sklearn/metrics/_classification.py:1272: UndefinedMetricWarning: Recall and F-score are ill-defined and being set to 0.0 in labels with no true samples. Use `zero_division` parameter to control this behavior.\n",
      "  _warn_prf(average, modifier, msg_start, len(result))\n"
     ]
    }
   ],
   "source": [
    "lg.fit(X_train_y_G1,y_train_y_G1)\n",
    "y_pred_y_G1 = lg.predict(X_test_y_G1)\n",
    "print(classification_report(y_pred_y_G1,y_test_y_G1))\n",
    "print(\"Kappa Score: \" +str(cohen_kappa_score(y_pred_y_G1,y_test_y_G1)))"
   ]
  },
  {
   "cell_type": "code",
   "execution_count": 48,
   "metadata": {},
   "outputs": [
    {
     "name": "stdout",
     "output_type": "stream",
     "text": [
      "              precision    recall  f1-score   support\n",
      "\n",
      "           0       0.00      0.00      0.00         0\n",
      "           1       0.50      0.46      0.48        52\n",
      "           2       0.77      0.60      0.67       122\n",
      "           3       0.51      0.70      0.59        37\n",
      "           4       0.40      0.40      0.40        10\n",
      "\n",
      "    accuracy                           0.57       221\n",
      "   macro avg       0.44      0.43      0.43       221\n",
      "weighted avg       0.65      0.57      0.60       221\n",
      "\n",
      "Kappa Score: 0.3660278320312499\n"
     ]
    },
    {
     "name": "stderr",
     "output_type": "stream",
     "text": [
      "/opt/anaconda3/lib/python3.7/site-packages/sklearn/metrics/_classification.py:1272: UndefinedMetricWarning: Recall and F-score are ill-defined and being set to 0.0 in labels with no true samples. Use `zero_division` parameter to control this behavior.\n",
      "  _warn_prf(average, modifier, msg_start, len(result))\n"
     ]
    }
   ],
   "source": [
    "lg.fit(X_train_y_G3,y_train_y_G3)\n",
    "y_pred_y_G3 = lg.predict(X_test_y_G3)\n",
    "print(classification_report(y_pred_y_G3,y_test_y_G3))\n",
    "print(\"Kappa Score: \" +str(cohen_kappa_score(y_pred_y_G3,y_test_y_G3)))"
   ]
  },
  {
   "cell_type": "markdown",
   "metadata": {},
   "source": [
    "### Gradient Boosting"
   ]
  },
  {
   "cell_type": "code",
   "execution_count": 49,
   "metadata": {},
   "outputs": [],
   "source": [
    "gb = GradientBoostingClassifier(random_state=0)"
   ]
  },
  {
   "cell_type": "code",
   "execution_count": 50,
   "metadata": {},
   "outputs": [
    {
     "name": "stdout",
     "output_type": "stream",
     "text": [
      "              precision    recall  f1-score   support\n",
      "\n",
      "           0       0.00      0.00      0.00         3\n",
      "           1       0.29      0.50      0.36         8\n",
      "           2       0.91      0.63      0.74       150\n",
      "           3       0.31      0.55      0.39        20\n",
      "           4       0.57      0.82      0.67        40\n",
      "\n",
      "    accuracy                           0.64       221\n",
      "   macro avg       0.41      0.50      0.43       221\n",
      "weighted avg       0.76      0.64      0.67       221\n",
      "\n",
      "Kappa Score: 0.422059651097355\n"
     ]
    }
   ],
   "source": [
    "gb.fit(X_train_x_G1,y_train_x_G1)\n",
    "y_pred_x_G1= gb.predict(X_test_x_G1)\n",
    "print(classification_report(y_pred_x_G1,y_test_x_G1))\n",
    "print(\"Kappa Score: \" +str(cohen_kappa_score(y_pred_x_G1,y_test_x_G1)))"
   ]
  },
  {
   "cell_type": "code",
   "execution_count": 51,
   "metadata": {},
   "outputs": [
    {
     "name": "stdout",
     "output_type": "stream",
     "text": [
      "              precision    recall  f1-score   support\n",
      "\n",
      "           0       0.17      0.50      0.25         4\n",
      "           1       0.00      0.00      0.00         7\n",
      "           2       0.92      0.59      0.72       158\n",
      "           3       0.14      0.60      0.23         5\n",
      "           4       0.59      0.89      0.71        47\n",
      "\n",
      "    accuracy                           0.64       221\n",
      "   macro avg       0.36      0.52      0.38       221\n",
      "weighted avg       0.79      0.64      0.68       221\n",
      "\n",
      "Kappa Score: 0.393065568142808\n"
     ]
    }
   ],
   "source": [
    "gb.fit(X_train_x_G3,y_train_x_G3)\n",
    "y_pred_x_G3= gb.predict(X_test_x_G3)\n",
    "print(classification_report(y_pred_x_G3,y_test_x_G3))\n",
    "print(\"Kappa Score: \" +str(cohen_kappa_score(y_pred_x_G3,y_test_x_G3)))"
   ]
  },
  {
   "cell_type": "code",
   "execution_count": 52,
   "metadata": {},
   "outputs": [
    {
     "name": "stdout",
     "output_type": "stream",
     "text": [
      "              precision    recall  f1-score   support\n",
      "\n",
      "           0       0.10      0.33      0.15         3\n",
      "           1       0.30      0.45      0.36        20\n",
      "           2       0.84      0.62      0.71       154\n",
      "           3       0.38      0.60      0.47        35\n",
      "           4       0.23      0.33      0.27         9\n",
      "\n",
      "    accuracy                           0.58       221\n",
      "   macro avg       0.37      0.47      0.39       221\n",
      "weighted avg       0.68      0.58      0.62       221\n",
      "\n",
      "Kappa Score: 0.2932179233149095\n"
     ]
    }
   ],
   "source": [
    "gb.fit(X_train_y_G1,y_train_y_G1)\n",
    "y_pred_y_G1 = gb.predict(X_test_y_G1)\n",
    "print(classification_report(y_pred_y_G1,y_test_y_G1))\n",
    "print(\"Kappa Score: \" +str(cohen_kappa_score(y_pred_y_G1,y_test_y_G1)))"
   ]
  },
  {
   "cell_type": "code",
   "execution_count": 53,
   "metadata": {},
   "outputs": [
    {
     "name": "stdout",
     "output_type": "stream",
     "text": [
      "              precision    recall  f1-score   support\n",
      "\n",
      "           0       0.12      0.22      0.15         9\n",
      "           1       0.38      0.44      0.40        41\n",
      "           2       0.77      0.52      0.62       140\n",
      "           3       0.31      0.73      0.44        22\n",
      "           4       0.40      0.44      0.42         9\n",
      "\n",
      "    accuracy                           0.51       221\n",
      "   macro avg       0.39      0.47      0.41       221\n",
      "weighted avg       0.61      0.51      0.54       221\n",
      "\n",
      "Kappa Score: 0.25894187779433675\n"
     ]
    }
   ],
   "source": [
    "gb.fit(X_train_y_G3,y_train_y_G3)\n",
    "y_pred_y_G3 = gb.predict(X_test_y_G3)\n",
    "print(classification_report(y_pred_y_G3,y_test_y_G3))\n",
    "print(\"Kappa Score: \" +str(cohen_kappa_score(y_pred_y_G3,y_test_y_G3)))"
   ]
  },
  {
   "cell_type": "code",
   "execution_count": null,
   "metadata": {},
   "outputs": [],
   "source": []
  },
  {
   "cell_type": "code",
   "execution_count": null,
   "metadata": {},
   "outputs": [],
   "source": []
  },
  {
   "cell_type": "code",
   "execution_count": null,
   "metadata": {},
   "outputs": [],
   "source": []
  }
 ],
 "metadata": {
  "kernelspec": {
   "display_name": "Python 3",
   "language": "python",
   "name": "python3"
  },
  "language_info": {
   "codemirror_mode": {
    "name": "ipython",
    "version": 3
   },
   "file_extension": ".py",
   "mimetype": "text/x-python",
   "name": "python",
   "nbconvert_exporter": "python",
   "pygments_lexer": "ipython3",
   "version": "3.7.4"
  }
 },
 "nbformat": 4,
 "nbformat_minor": 4
}
