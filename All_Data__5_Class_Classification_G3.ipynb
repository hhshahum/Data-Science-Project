{
 "cells": [
  {
   "cell_type": "code",
   "execution_count": 1,
   "metadata": {},
   "outputs": [],
   "source": [
    "import pandas as pd\n",
    "import numpy as np\n",
    "import seaborn as sn\n",
    "import matplotlib.pyplot as plt\n",
    "from sklearn.svm import LinearSVC\n",
    "from sklearn.linear_model import LogisticRegression\n",
    "from sklearn.model_selection import train_test_split\n",
    "from sklearn import preprocessing\n",
    "from sklearn.tree import DecisionTreeClassifier\n",
    "from sklearn.metrics import accuracy_score\n",
    "from sklearn.naive_bayes import GaussianNB\n",
    "from sklearn.ensemble import RandomForestClassifier\n",
    "from sklearn.ensemble import GradientBoostingClassifier\n",
    "from sklearn.metrics import classification_report\n",
    "from sklearn.metrics import cohen_kappa_score\n",
    "import matplotlib.pyplot as plt"
   ]
  },
  {
   "cell_type": "code",
   "execution_count": 2,
   "metadata": {},
   "outputs": [],
   "source": [
    "df = pd.read_csv('final_combined_dataset.csv')"
   ]
  },
  {
   "cell_type": "code",
   "execution_count": 3,
   "metadata": {},
   "outputs": [],
   "source": [
    "xfeatures=['school', 'sex', 'age', 'address', 'famsize', 'Pstatus', 'Medu', 'Fedu',\n",
    "       'Mjob', 'Fjob', 'reason', 'nursery', 'internet', 'guardian.x',\n",
    "       'traveltime.x', 'studytime.x', 'failures.x', 'schoolsup.x', 'famsup.x',\n",
    "       'paid.x', 'activities.x', 'higher.x', 'romantic.x', 'famrel.x',\n",
    "       'freetime.x', 'goout.x', 'Dalc.x', 'Walc.x', 'health.x', 'absences.x','G1.x','G3.x']"
   ]
  },
  {
   "cell_type": "code",
   "execution_count": 4,
   "metadata": {},
   "outputs": [],
   "source": [
    "yfeatures = ['school', 'sex', 'age', 'address', 'famsize', 'Pstatus', 'Medu', 'Fedu',\n",
    "       'Mjob', 'Fjob', 'reason', 'nursery', 'internet','guardian.y', 'traveltime.y', 'studytime.y',\n",
    "       'failures.y', 'schoolsup.y', 'famsup.y', 'paid.y', 'activities.y',\n",
    "       'higher.y', 'romantic.y', 'famrel.y', 'freetime.y', 'goout.y', 'Dalc.y',\n",
    "       'Walc.y', 'health.y', 'absences.y','G1.y','G3.y']"
   ]
  },
  {
   "cell_type": "code",
   "execution_count": 5,
   "metadata": {},
   "outputs": [],
   "source": [
    "keepcol = ['school', 'sex', 'age', 'address', 'famsize', 'Pstatus', 'Medu',\n",
    "       'Fedu', 'Mjob', 'Fjob', 'reason', 'nursery', 'internet', 'guardian.x',\n",
    "       'traveltime.x', 'studytime.x', 'failures.x', 'schoolsup.x', 'famsup.x',\n",
    "       'paid.x', 'activities.x', 'higher.x', 'romantic.x', 'famrel.x',\n",
    "       'freetime.x', 'goout.x', 'Dalc.x', 'Walc.x', 'health.x', 'absences.x',\n",
    "       'G1.x', 'G2.x', 'G3.x', 'guardian.y', 'traveltime.y', 'studytime.y',\n",
    "       'failures.y', 'schoolsup.y', 'famsup.y', 'paid.y', 'activities.y',\n",
    "       'higher.y', 'romantic.y', 'famrel.y', 'freetime.y', 'goout.y', 'Dalc.y',\n",
    "       'Walc.y', 'health.y', 'absences.y', 'G1.y', 'G2.y', 'G3.y']"
   ]
  },
  {
   "cell_type": "code",
   "execution_count": 6,
   "metadata": {},
   "outputs": [],
   "source": [
    "fildf = df.loc[:,keepcol]"
   ]
  },
  {
   "cell_type": "code",
   "execution_count": 7,
   "metadata": {},
   "outputs": [],
   "source": [
    "fildf_x = fildf.loc[:,xfeatures]"
   ]
  },
  {
   "cell_type": "code",
   "execution_count": 8,
   "metadata": {},
   "outputs": [],
   "source": [
    "fildf_y = fildf.loc[:,yfeatures]"
   ]
  },
  {
   "cell_type": "code",
   "execution_count": 9,
   "metadata": {},
   "outputs": [],
   "source": [
    "def convertmarks(mark):\n",
    "    if mark<10:\n",
    "        return 'F'\n",
    "    elif mark==10 or mark==11:\n",
    "        return 'D'\n",
    "    elif mark==12 or mark==13:\n",
    "        return 'C'\n",
    "    elif mark==14 or mark==15:\n",
    "        return'B'\n",
    "    else:\n",
    "        return 'A'"
   ]
  },
  {
   "cell_type": "code",
   "execution_count": 10,
   "metadata": {},
   "outputs": [],
   "source": [
    "newlist=[]\n",
    "for i in fildf_x['G1.x']:\n",
    "    x = convertmarks(i)\n",
    "    newlist.append(x)\n",
    "fildf_x['New G1'] = newlist"
   ]
  },
  {
   "cell_type": "code",
   "execution_count": 11,
   "metadata": {},
   "outputs": [],
   "source": [
    "newlist=[]\n",
    "for i in fildf_y['G1.y']:\n",
    "    x = convertmarks(i)\n",
    "    newlist.append(x)\n",
    "fildf_y['New G1'] = newlist"
   ]
  },
  {
   "cell_type": "code",
   "execution_count": 12,
   "metadata": {},
   "outputs": [],
   "source": [
    "newlist=[]\n",
    "for i in fildf_x['G3.x']:\n",
    "    x = convertmarks(i)\n",
    "    newlist.append(x)\n",
    "fildf_x['New G3'] = newlist"
   ]
  },
  {
   "cell_type": "code",
   "execution_count": 13,
   "metadata": {},
   "outputs": [],
   "source": [
    "newlist=[]\n",
    "for i in fildf_y['G3.y']:\n",
    "    x = convertmarks(i)\n",
    "    newlist.append(x)\n",
    "fildf_y['New G3'] = newlist"
   ]
  },
  {
   "cell_type": "code",
   "execution_count": 14,
   "metadata": {},
   "outputs": [],
   "source": [
    "label_encoder = preprocessing.LabelEncoder()"
   ]
  },
  {
   "cell_type": "code",
   "execution_count": 15,
   "metadata": {},
   "outputs": [],
   "source": [
    "fildf_x['New G1']= label_encoder.fit_transform(fildf_x['New G1'])\n",
    "fildf_y['New G1']= label_encoder.fit_transform(fildf_y['New G1'])\n",
    "fildf_x['New G3']= label_encoder.fit_transform(fildf_x['New G3'])\n",
    "fildf_y['New G3']= label_encoder.fit_transform(fildf_y['New G3'])"
   ]
  },
  {
   "cell_type": "code",
   "execution_count": 16,
   "metadata": {},
   "outputs": [],
   "source": [
    "fildf_x = fildf_x.sample(frac=1,random_state=123)\n",
    "fildf_y = fildf_y.sample(frac=1,random_state=123)"
   ]
  },
  {
   "cell_type": "code",
   "execution_count": 17,
   "metadata": {},
   "outputs": [],
   "source": [
    "fildf_x = fildf_x.drop(['G1.x','G3.x'],axis=1)\n",
    "fildf_y = fildf_y.drop(['G1.y','G3.y'],axis=1)"
   ]
  },
  {
   "cell_type": "code",
   "execution_count": 18,
   "metadata": {},
   "outputs": [],
   "source": [
    "features_x_G3 = fildf_x.drop(['New G1','New G3'],axis=1)\n",
    "features_x_G1 = fildf_x.drop(['New G1','New G3'],axis=1)\n",
    "features_y_G3 = fildf_y.drop(['New G1','New G3'],axis=1)\n",
    "features_y_G1 = fildf_y.drop(['New G1','New G3'],axis=1)"
   ]
  },
  {
   "cell_type": "code",
   "execution_count": 19,
   "metadata": {},
   "outputs": [],
   "source": [
    "target_x_G3 = fildf_x['New G3']\n",
    "target_x_G1 = fildf_x['New G1']\n",
    "target_y_G3 = fildf_x['New G3']\n",
    "target_y_G1 = fildf_x['New G1']"
   ]
  },
  {
   "cell_type": "code",
   "execution_count": 20,
   "metadata": {},
   "outputs": [],
   "source": [
    "X_train_x_G1, X_test_x_G1, y_train_x_G1, y_test_x_G1 = train_test_split(features_x_G1, target_x_G1, test_size=0.25, random_state=0)\n",
    "X_train_y_G1, X_test_y_G1, y_train_y_G1, y_test_y_G1 = train_test_split(features_y_G1, target_y_G1, test_size=0.25, random_state=0)"
   ]
  },
  {
   "cell_type": "code",
   "execution_count": 21,
   "metadata": {},
   "outputs": [],
   "source": [
    "X_train_x_G3, X_test_x_G3, y_train_x_G3, y_test_x_G3 = train_test_split(features_x_G3, target_x_G3, test_size=0.25, random_state=0)\n",
    "X_train_y_G3, X_test_y_G3, y_train_y_G3, y_test_y_G3 = train_test_split(features_y_G3, target_y_G3, test_size=0.25, random_state=0)"
   ]
  },
  {
   "cell_type": "markdown",
   "metadata": {},
   "source": [
    "### Naive Bayes"
   ]
  },
  {
   "cell_type": "code",
   "execution_count": 22,
   "metadata": {},
   "outputs": [],
   "source": [
    "clf = GaussianNB()"
   ]
  },
  {
   "cell_type": "code",
   "execution_count": 23,
   "metadata": {},
   "outputs": [
    {
     "name": "stdout",
     "output_type": "stream",
     "text": [
      "              precision    recall  f1-score   support\n",
      "\n",
      "           0       0.90      0.07      0.13       126\n",
      "           1       0.00      0.00      0.00         0\n",
      "           2       0.19      0.61      0.29        33\n",
      "           3       0.31      0.58      0.40        19\n",
      "           4       0.52      0.70      0.59        43\n",
      "\n",
      "    accuracy                           0.32       221\n",
      "   macro avg       0.38      0.39      0.28       221\n",
      "weighted avg       0.67      0.32      0.27       221\n",
      "\n",
      "Kappa Score: 0.1861525704809287\n"
     ]
    },
    {
     "name": "stderr",
     "output_type": "stream",
     "text": [
      "/opt/anaconda3/lib/python3.7/site-packages/sklearn/metrics/_classification.py:1272: UndefinedMetricWarning: Recall and F-score are ill-defined and being set to 0.0 in labels with no true samples. Use `zero_division` parameter to control this behavior.\n",
      "  _warn_prf(average, modifier, msg_start, len(result))\n"
     ]
    }
   ],
   "source": [
    "clf.fit(X_train_x_G1,y_train_x_G1)\n",
    "y_pred_x_G1= clf.predict(X_test_x_G1)\n",
    "y_pred_x_G1_Prob = clf.predict_proba(X_test_x_G1)\n",
    "print(classification_report(y_pred_x_G1,y_test_x_G1))\n",
    "print(\"Kappa Score: \" +str(cohen_kappa_score(y_pred_x_G1,y_test_x_G1)))"
   ]
  },
  {
   "cell_type": "code",
   "execution_count": 24,
   "metadata": {},
   "outputs": [
    {
     "name": "stdout",
     "output_type": "stream",
     "text": [
      "              precision    recall  f1-score   support\n",
      "\n",
      "           0       0.08      0.04      0.05        27\n",
      "           1       0.80      0.12      0.21       102\n",
      "           2       0.19      0.61      0.29        31\n",
      "           3       0.10      0.33      0.15         6\n",
      "           4       0.61      0.78      0.68        55\n",
      "\n",
      "    accuracy                           0.35       221\n",
      "   macro avg       0.35      0.38      0.27       221\n",
      "weighted avg       0.56      0.35      0.31       221\n",
      "\n",
      "Kappa Score: 0.20028144946474324\n"
     ]
    }
   ],
   "source": [
    "clf.fit(X_train_x_G3,y_train_x_G3)\n",
    "y_pred_x_G3= clf.predict(X_test_x_G3)\n",
    "y_pred_x_G3_Prob = clf.predict_proba(X_test_x_G3)\n",
    "print(classification_report(y_pred_x_G3,y_test_x_G3))\n",
    "print(\"Kappa Score: \" +str(cohen_kappa_score(y_pred_x_G3,y_test_x_G3)))"
   ]
  },
  {
   "cell_type": "code",
   "execution_count": 25,
   "metadata": {},
   "outputs": [
    {
     "name": "stdout",
     "output_type": "stream",
     "text": [
      "              precision    recall  f1-score   support\n",
      "\n",
      "           0       1.00      0.05      0.10       182\n",
      "           1       0.00      0.00      0.00         1\n",
      "           2       0.02      0.67      0.04         3\n",
      "           3       0.17      0.33      0.22        18\n",
      "           4       0.10      0.35      0.16        17\n",
      "\n",
      "    accuracy                           0.11       221\n",
      "   macro avg       0.26      0.28      0.10       221\n",
      "weighted avg       0.85      0.11      0.12       221\n",
      "\n",
      "Kappa Score: 0.03388514113261132\n"
     ]
    }
   ],
   "source": [
    "clf.fit(X_train_y_G1,y_train_y_G1)\n",
    "y_pred_y_G1 = clf.predict(X_test_y_G1)\n",
    "print(classification_report(y_pred_y_G1,y_test_y_G1))\n",
    "print(\"Kappa Score: \" +str(cohen_kappa_score(y_pred_y_G1,y_test_y_G1)))"
   ]
  },
  {
   "cell_type": "code",
   "execution_count": 26,
   "metadata": {},
   "outputs": [
    {
     "name": "stdout",
     "output_type": "stream",
     "text": [
      "              precision    recall  f1-score   support\n",
      "\n",
      "           0       0.00      0.00      0.00         3\n",
      "           1       0.67      0.08      0.14       132\n",
      "           2       0.24      0.55      0.33        44\n",
      "           3       0.14      0.15      0.15        20\n",
      "           4       0.13      0.41      0.19        22\n",
      "\n",
      "    accuracy                           0.21       221\n",
      "   macro avg       0.23      0.24      0.16       221\n",
      "weighted avg       0.47      0.21      0.18       221\n",
      "\n",
      "Kappa Score: 0.04163052905464004\n"
     ]
    }
   ],
   "source": [
    "clf.fit(X_train_y_G3,y_train_y_G3)\n",
    "y_pred_y_G3 = clf.predict(X_test_y_G3)\n",
    "print(classification_report(y_pred_y_G3,y_test_y_G3))\n",
    "print(\"Kappa Score: \" +str(cohen_kappa_score(y_pred_y_G3,y_test_y_G3)))"
   ]
  },
  {
   "cell_type": "markdown",
   "metadata": {},
   "source": [
    "### Decision Tree Classfier"
   ]
  },
  {
   "cell_type": "code",
   "execution_count": 27,
   "metadata": {},
   "outputs": [],
   "source": [
    "dtc = DecisionTreeClassifier()"
   ]
  },
  {
   "cell_type": "code",
   "execution_count": 28,
   "metadata": {},
   "outputs": [
    {
     "name": "stdout",
     "output_type": "stream",
     "text": [
      "              precision    recall  f1-score   support\n",
      "\n",
      "           0       0.30      0.23      0.26        13\n",
      "           1       0.07      0.06      0.06        18\n",
      "           2       0.66      0.67      0.67       101\n",
      "           3       0.28      0.30      0.29        33\n",
      "           4       0.59      0.61      0.60        56\n",
      "\n",
      "    accuracy                           0.52       221\n",
      "   macro avg       0.38      0.37      0.38       221\n",
      "weighted avg       0.52      0.52      0.52       221\n",
      "\n",
      "Kappa Score: 0.30978584176085655\n",
      "\t\n",
      "Feature failures.x and its importance is 0.16757219155687927\n",
      "Feature schoolsup.x and its importance is 0.10844180882602196\n",
      "Feature age and its importance is 0.05691639038998449\n",
      "Feature absences.x and its importance is 0.0560114445649295\n",
      "Feature freetime.x and its importance is 0.05064330924825134\n",
      "Feature Fedu and its importance is 0.04852263338256638\n",
      "Feature Fjob and its importance is 0.04407650752756982\n",
      "Feature Medu and its importance is 0.044006174060437483\n",
      "Feature reason and its importance is 0.035004162470601355\n",
      "Feature Mjob and its importance is 0.03399893189566249\n",
      "Feature health.x and its importance is 0.0339875292043158\n",
      "Feature goout.x and its importance is 0.030464280164951393\n",
      "Feature famrel.x and its importance is 0.02920140104437292\n",
      "Feature Walc.x and its importance is 0.028863619800965298\n",
      "Feature Dalc.x and its importance is 0.027951073789634996\n",
      "Feature studytime.x and its importance is 0.027489585063107058\n",
      "Feature activities.x and its importance is 0.020481833889726235\n",
      "Feature romantic.x and its importance is 0.020082098030032955\n",
      "Feature nursery and its importance is 0.01862053962206917\n",
      "Feature traveltime.x and its importance is 0.018610823956412635\n",
      "Feature sex and its importance is 0.01734863326143486\n",
      "Feature guardian.x and its importance is 0.01617478438914631\n",
      "Feature famsize and its importance is 0.012766743251917905\n",
      "Feature paid.x and its importance is 0.011732221124795349\n",
      "Feature address and its importance is 0.011099570353531684\n",
      "Feature famsup.x and its importance is 0.010123423657167323\n",
      "Feature school and its importance is 0.00942905031917549\n",
      "Feature higher.x and its importance is 0.004721919797205518\n",
      "Feature Pstatus and its importance is 0.0031934482016117097\n",
      "Feature internet and its importance is 0.0024638671555211582\n"
     ]
    },
    {
     "data": {
      "text/plain": [
       "([<matplotlib.axis.XTick at 0x7fed033831d0>,\n",
       "  <matplotlib.axis.XTick at 0x7fed0088f310>,\n",
       "  <matplotlib.axis.XTick at 0x7fed026b4b50>,\n",
       "  <matplotlib.axis.XTick at 0x7fed0340bbd0>,\n",
       "  <matplotlib.axis.XTick at 0x7fed0340b850>,\n",
       "  <matplotlib.axis.XTick at 0x7fed0341a690>,\n",
       "  <matplotlib.axis.XTick at 0x7fed0341ac90>,\n",
       "  <matplotlib.axis.XTick at 0x7fed0341ad50>,\n",
       "  <matplotlib.axis.XTick at 0x7fed03422310>,\n",
       "  <matplotlib.axis.XTick at 0x7fed03422890>,\n",
       "  <matplotlib.axis.XTick at 0x7fed03422dd0>,\n",
       "  <matplotlib.axis.XTick at 0x7fed0342a390>,\n",
       "  <matplotlib.axis.XTick at 0x7fed0342a910>,\n",
       "  <matplotlib.axis.XTick at 0x7fed0342ae90>,\n",
       "  <matplotlib.axis.XTick at 0x7fed03432450>,\n",
       "  <matplotlib.axis.XTick at 0x7fed034329d0>,\n",
       "  <matplotlib.axis.XTick at 0x7fed0342a0d0>,\n",
       "  <matplotlib.axis.XTick at 0x7fed0341afd0>,\n",
       "  <matplotlib.axis.XTick at 0x7fed03432950>,\n",
       "  <matplotlib.axis.XTick at 0x7fed03432a50>,\n",
       "  <matplotlib.axis.XTick at 0x7fed03428690>,\n",
       "  <matplotlib.axis.XTick at 0x7fed03428c10>,\n",
       "  <matplotlib.axis.XTick at 0x7fed03442210>,\n",
       "  <matplotlib.axis.XTick at 0x7fed03442750>,\n",
       "  <matplotlib.axis.XTick at 0x7fed03442cd0>,\n",
       "  <matplotlib.axis.XTick at 0x7fed03448310>,\n",
       "  <matplotlib.axis.XTick at 0x7fed03442810>,\n",
       "  <matplotlib.axis.XTick at 0x7fed03428cd0>,\n",
       "  <matplotlib.axis.XTick at 0x7fed03448450>,\n",
       "  <matplotlib.axis.XTick at 0x7fed03448a10>],\n",
       " <a list of 30 Text xticklabel objects>)"
      ]
     },
     "execution_count": 28,
     "metadata": {},
     "output_type": "execute_result"
    },
    {
     "data": {
      "image/png": "[encoded data removed]",
      "text/plain": [
       "<Figure size 432x288 with 1 Axes>"
      ]
     },
     "metadata": {
      "needs_background": "light"
     },
     "output_type": "display_data"
    }
   ],
   "source": [
    "imp_dict={}\n",
    "dtc.fit(X_train_x_G1,y_train_x_G1)\n",
    "y_pred_x_G1= dtc.predict(X_test_x_G1)\n",
    "print(classification_report(y_pred_x_G1,y_test_x_G1))\n",
    "print(\"Kappa Score: \" +str(cohen_kappa_score(y_pred_x_G1,y_test_x_G1)))\n",
    "print(\"\\t\")\n",
    "for importance, name in sorted(zip(dtc.feature_importances_, X_train_x_G1.columns),reverse=True):\n",
    "    imp_dict[name] = importance\n",
    "    print('Feature '+name+ ' and its importance is '+str(importance))\n",
    "plt.bar(range(len(imp_dict)), list(imp_dict.values()), align='center')\n",
    "plt.xticks(range(len(imp_dict)), list(imp_dict.keys()),rotation=90)"
   ]
  },
  {
   "cell_type": "code",
   "execution_count": 29,
   "metadata": {},
   "outputs": [
    {
     "name": "stdout",
     "output_type": "stream",
     "text": [
      "              precision    recall  f1-score   support\n",
      "\n",
      "           0       0.33      0.27      0.30        15\n",
      "           1       0.07      0.06      0.06        17\n",
      "           2       0.65      0.62      0.63       106\n",
      "           3       0.29      0.22      0.25        27\n",
      "           4       0.55      0.70      0.61        56\n",
      "\n",
      "    accuracy                           0.52       221\n",
      "   macro avg       0.38      0.37      0.37       221\n",
      "weighted avg       0.51      0.52      0.52       221\n",
      "\n",
      "Kappa Score: 0.29790324044658256\n",
      "\t\n",
      "Feature failures.x and its importance is 0.14735740002062853\n",
      "Feature schoolsup.x and its importance is 0.11448457080093033\n",
      "Feature absences.x and its importance is 0.06563268864358668\n",
      "Feature age and its importance is 0.06362859225918249\n",
      "Feature Medu and its importance is 0.04679807156204901\n",
      "Feature Fedu and its importance is 0.044613736827965635\n",
      "Feature Dalc.x and its importance is 0.041381188442563936\n",
      "Feature studytime.x and its importance is 0.0408778595575865\n",
      "Feature Fjob and its importance is 0.039968082913273494\n",
      "Feature health.x and its importance is 0.03892753167376209\n",
      "Feature goout.x and its importance is 0.037574031756151066\n",
      "Feature freetime.x and its importance is 0.03660886689542563\n",
      "Feature Mjob and its importance is 0.03622040979671538\n",
      "Feature Walc.x and its importance is 0.025858519466297757\n",
      "Feature famrel.x and its importance is 0.02557761584454386\n",
      "Feature reason and its importance is 0.02484847831722694\n",
      "Feature paid.x and its importance is 0.024631448094067084\n",
      "Feature romantic.x and its importance is 0.02093433732774924\n",
      "Feature address and its importance is 0.019719035034786846\n",
      "Feature famsup.x and its importance is 0.01947229318712715\n",
      "Feature sex and its importance is 0.01752191758749192\n",
      "Feature traveltime.x and its importance is 0.013262781174320629\n",
      "Feature activities.x and its importance is 0.012834514238997143\n",
      "Feature guardian.x and its importance is 0.010071102082275274\n",
      "Feature school and its importance is 0.008468777914036127\n",
      "Feature famsize and its importance is 0.006793883430776454\n",
      "Feature Pstatus and its importance is 0.006379729300086298\n",
      "Feature higher.x and its importance is 0.00554956844642088\n",
      "Feature nursery and its importance is 0.004002967403975716\n",
      "Feature internet and its importance is 0.0\n"
     ]
    },
    {
     "data": {
      "text/plain": [
       "([<matplotlib.axis.XTick at 0x7fed033ef910>,\n",
       "  <matplotlib.axis.XTick at 0x7fed0367fb10>,\n",
       "  <matplotlib.axis.XTick at 0x7fed0367f150>,\n",
       "  <matplotlib.axis.XTick at 0x7fed03730950>,\n",
       "  <matplotlib.axis.XTick at 0x7fed03730f10>,\n",
       "  <matplotlib.axis.XTick at 0x7fed03738590>,\n",
       "  <matplotlib.axis.XTick at 0x7fed037309d0>,\n",
       "  <matplotlib.axis.XTick at 0x7fed03738dd0>,\n",
       "  <matplotlib.axis.XTick at 0x7fed03740450>,\n",
       "  <matplotlib.axis.XTick at 0x7fed03740a90>,\n",
       "  <matplotlib.axis.XTick at 0x7fed03740b90>,\n",
       "  <matplotlib.axis.XTick at 0x7fed03747710>,\n",
       "  <matplotlib.axis.XTick at 0x7fed03747d50>,\n",
       "  <matplotlib.axis.XTick at 0x7fed0374d390>,\n",
       "  <matplotlib.axis.XTick at 0x7fed0374d910>,\n",
       "  <matplotlib.axis.XTick at 0x7fed0374d790>,\n",
       "  <matplotlib.axis.XTick at 0x7fed037471d0>,\n",
       "  <matplotlib.axis.XTick at 0x7fed03738c90>,\n",
       "  <matplotlib.axis.XTick at 0x7fed037555d0>,\n",
       "  <matplotlib.axis.XTick at 0x7fed03755c10>,\n",
       "  <matplotlib.axis.XTick at 0x7fed0375c290>,\n",
       "  <matplotlib.axis.XTick at 0x7fed0375c8d0>,\n",
       "  <matplotlib.axis.XTick at 0x7fed0375cf10>,\n",
       "  <matplotlib.axis.XTick at 0x7fed03762590>,\n",
       "  <matplotlib.axis.XTick at 0x7fed03762bd0>,\n",
       "  <matplotlib.axis.XTick at 0x7fed0375c410>,\n",
       "  <matplotlib.axis.XTick at 0x7fed03740f50>,\n",
       "  <matplotlib.axis.XTick at 0x7fed0376c190>,\n",
       "  <matplotlib.axis.XTick at 0x7fed0376c790>,\n",
       "  <matplotlib.axis.XTick at 0x7fed0376cdd0>],\n",
       " <a list of 30 Text xticklabel objects>)"
      ]
     },
     "execution_count": 29,
     "metadata": {},
     "output_type": "execute_result"
    },
    {
     "data": {
      "image/png": "[encoded data removed]",
      "text/plain": [
       "<Figure size 432x288 with 1 Axes>"
      ]
     },
     "metadata": {
      "needs_background": "light"
     },
     "output_type": "display_data"
    }
   ],
   "source": [
    "imp_dict={}\n",
    "dtc.fit(X_train_x_G3,y_train_x_G3)\n",
    "y_pred_x_G3= dtc.predict(X_test_x_G3)\n",
    "print(classification_report(y_pred_x_G3,y_test_x_G3))\n",
    "print(\"Kappa Score: \" +str(cohen_kappa_score(y_pred_x_G3,y_test_x_G3)))\n",
    "print(\"\\t\")\n",
    "for importance, name in sorted(zip(dtc.feature_importances_, X_train_x_G3.columns),reverse=True):\n",
    "    imp_dict[name] = importance\n",
    "    print('Feature '+name+ ' and its importance is '+str(importance))\n",
    "plt.bar(range(len(imp_dict)), list(imp_dict.values()), align='center')\n",
    "plt.xticks(range(len(imp_dict)), list(imp_dict.keys()),rotation=90)"
   ]
  },
  {
   "cell_type": "code",
   "execution_count": 30,
   "metadata": {},
   "outputs": [
    {
     "name": "stdout",
     "output_type": "stream",
     "text": [
      "              precision    recall  f1-score   support\n",
      "\n",
      "           0       0.00      0.00      0.00        13\n",
      "           1       0.07      0.08      0.07        13\n",
      "           2       0.41      0.46      0.43        92\n",
      "           3       0.17      0.15      0.16        39\n",
      "           4       0.29      0.27      0.28        64\n",
      "\n",
      "    accuracy                           0.30       221\n",
      "   macro avg       0.19      0.19      0.19       221\n",
      "weighted avg       0.29      0.30      0.29       221\n",
      "\n",
      "Kappa Score: -0.009370303798214463\n",
      "\t\n",
      "Feature absences.y and its importance is 0.07708495786861588\n",
      "Feature freetime.y and its importance is 0.062100076589523184\n",
      "Feature goout.y and its importance is 0.05881455829714916\n",
      "Feature studytime.y and its importance is 0.05788796886004616\n",
      "Feature health.y and its importance is 0.05602041684531133\n",
      "Feature Fedu and its importance is 0.050900943653172055\n",
      "Feature Dalc.y and its importance is 0.04573577749661761\n",
      "Feature Mjob and its importance is 0.04425257291746531\n",
      "Feature romantic.y and its importance is 0.04292248284899911\n",
      "Feature age and its importance is 0.04251969843357209\n",
      "Feature reason and its importance is 0.03798372871401772\n",
      "Feature famsup.y and its importance is 0.03746595251703764\n",
      "Feature famrel.y and its importance is 0.03701480228339634\n",
      "Feature Fjob and its importance is 0.03287428264308863\n",
      "Feature Walc.y and its importance is 0.03218370503192242\n",
      "Feature guardian.y and its importance is 0.03008645749528995\n",
      "Feature Medu and its importance is 0.029991487811870932\n",
      "Feature famsize and its importance is 0.025404394878914313\n",
      "Feature sex and its importance is 0.02539034799552767\n",
      "Feature internet and its importance is 0.024586429985117092\n",
      "Feature failures.y and its importance is 0.02458012040485052\n",
      "Feature traveltime.y and its importance is 0.02257465682864061\n",
      "Feature paid.y and its importance is 0.017735425332914324\n",
      "Feature address and its importance is 0.0149459290620602\n",
      "Feature schoolsup.y and its importance is 0.014759893380299854\n",
      "Feature school and its importance is 0.014498499626943068\n",
      "Feature Pstatus and its importance is 0.011375676448068174\n",
      "Feature nursery and its importance is 0.011028477570010223\n",
      "Feature activities.y and its importance is 0.009428687771034134\n",
      "Feature higher.y and its importance is 0.007851590408524267\n"
     ]
    },
    {
     "data": {
      "text/plain": [
       "([<matplotlib.axis.XTick at 0x7fed03844190>,\n",
       "  <matplotlib.axis.XTick at 0x7fed03841b50>,\n",
       "  <matplotlib.axis.XTick at 0x7fed03841850>,\n",
       "  <matplotlib.axis.XTick at 0x7fed038d9e10>,\n",
       "  <matplotlib.axis.XTick at 0x7fed038e7450>,\n",
       "  <matplotlib.axis.XTick at 0x7fed038e7a90>,\n",
       "  <matplotlib.axis.XTick at 0x7fed038ed050>,\n",
       "  <matplotlib.axis.XTick at 0x7fed038d9c50>,\n",
       "  <matplotlib.axis.XTick at 0x7fed038ed110>,\n",
       "  <matplotlib.axis.XTick at 0x7fed038ede10>,\n",
       "  <matplotlib.axis.XTick at 0x7fed038f3450>,\n",
       "  <matplotlib.axis.XTick at 0x7fed038f3a90>,\n",
       "  <matplotlib.axis.XTick at 0x7fed038f3e50>,\n",
       "  <matplotlib.axis.XTick at 0x7fed038fa750>,\n",
       "  <matplotlib.axis.XTick at 0x7fed038fad90>,\n",
       "  <matplotlib.axis.XTick at 0x7fed03900410>,\n",
       "  <matplotlib.axis.XTick at 0x7fed038f3f90>,\n",
       "  <matplotlib.axis.XTick at 0x7fed038edd90>,\n",
       "  <matplotlib.axis.XTick at 0x7fed03900290>,\n",
       "  <matplotlib.axis.XTick at 0x7fed03900c90>,\n",
       "  <matplotlib.axis.XTick at 0x7fed03909690>,\n",
       "  <matplotlib.axis.XTick at 0x7fed03909cd0>,\n",
       "  <matplotlib.axis.XTick at 0x7fed03910350>,\n",
       "  <matplotlib.axis.XTick at 0x7fed03910990>,\n",
       "  <matplotlib.axis.XTick at 0x7fed03910f10>,\n",
       "  <matplotlib.axis.XTick at 0x7fed03917650>,\n",
       "  <matplotlib.axis.XTick at 0x7fed03910690>,\n",
       "  <matplotlib.axis.XTick at 0x7fed038edb10>,\n",
       "  <matplotlib.axis.XTick at 0x7fed03917b90>,\n",
       "  <matplotlib.axis.XTick at 0x7fed0391f290>],\n",
       " <a list of 30 Text xticklabel objects>)"
      ]
     },
     "execution_count": 30,
     "metadata": {},
     "output_type": "execute_result"
    },
    {
     "data": {
      "image/png": "[encoded data removed]",
      "text/plain": [
       "<Figure size 432x288 with 1 Axes>"
      ]
     },
     "metadata": {
      "needs_background": "light"
     },
     "output_type": "display_data"
    }
   ],
   "source": [
    "imp_dict={}\n",
    "dtc.fit(X_train_y_G1,y_train_y_G1)\n",
    "y_pred_y_G1 = dtc.predict(X_test_y_G1)\n",
    "print(classification_report(y_pred_y_G1,y_test_y_G1))\n",
    "print(\"Kappa Score: \" +str(cohen_kappa_score(y_pred_y_G1,y_test_y_G1)))\n",
    "print(\"\\t\")\n",
    "for importance, name in sorted(zip(dtc.feature_importances_, X_train_y_G1.columns),reverse=True):\n",
    "    imp_dict[name] = importance\n",
    "    print ('Feature '+name+ ' and its importance is '+str(importance))\n",
    "plt.bar(range(len(imp_dict)), list(imp_dict.values()), align='center')\n",
    "plt.xticks(range(len(imp_dict)), list(imp_dict.keys()),rotation=90)"
   ]
  },
  {
   "cell_type": "code",
   "execution_count": 31,
   "metadata": {},
   "outputs": [
    {
     "name": "stdout",
     "output_type": "stream",
     "text": [
      "              precision    recall  f1-score   support\n",
      "\n",
      "           0       0.00      0.00      0.00        15\n",
      "           1       0.00      0.00      0.00        14\n",
      "           2       0.40      0.42      0.41        98\n",
      "           3       0.14      0.08      0.11        36\n",
      "           4       0.20      0.24      0.22        58\n",
      "\n",
      "    accuracy                           0.26       221\n",
      "   macro avg       0.15      0.15      0.15       221\n",
      "weighted avg       0.25      0.26      0.26       221\n",
      "\n",
      "Kappa Score: -0.07271969268336265\n",
      "\t\n",
      "Feature Medu and its importance is 0.07725194125906501\n",
      "Feature goout.y and its importance is 0.06453752124488148\n",
      "Feature freetime.y and its importance is 0.06268583070272185\n",
      "Feature absences.y and its importance is 0.060309963735711486\n",
      "Feature health.y and its importance is 0.06009317794575396\n",
      "Feature reason and its importance is 0.056047930465339575\n",
      "Feature Walc.y and its importance is 0.05544579388714961\n",
      "Feature Mjob and its importance is 0.047970314044457056\n",
      "Feature Fjob and its importance is 0.04490538514081484\n",
      "Feature age and its importance is 0.04379681910441362\n",
      "Feature famrel.y and its importance is 0.03985938617687989\n",
      "Feature famsize and its importance is 0.03786966151205313\n",
      "Feature traveltime.y and its importance is 0.03785917271079161\n",
      "Feature Dalc.y and its importance is 0.035161192792324485\n",
      "Feature Fedu and its importance is 0.03009796982728037\n",
      "Feature sex and its importance is 0.029846089074003962\n",
      "Feature studytime.y and its importance is 0.025824869610138215\n",
      "Feature activities.y and its importance is 0.024850039897700245\n",
      "Feature famsup.y and its importance is 0.019431973626317163\n",
      "Feature nursery and its importance is 0.019003009080984703\n",
      "Feature Pstatus and its importance is 0.01890994273935014\n",
      "Feature internet and its importance is 0.0184203472389753\n",
      "Feature address and its importance is 0.01824198639568025\n",
      "Feature school and its importance is 0.017876946045778476\n",
      "Feature romantic.y and its importance is 0.01473099909710478\n",
      "Feature guardian.y and its importance is 0.01250935741665025\n",
      "Feature schoolsup.y and its importance is 0.012262307976534766\n",
      "Feature higher.y and its importance is 0.0063609845851792515\n",
      "Feature paid.y and its importance is 0.004996460725949655\n",
      "Feature failures.y and its importance is 0.002842625940014884\n"
     ]
    },
    {
     "data": {
      "text/plain": [
       "([<matplotlib.axis.XTick at 0x7fed039ebb50>,\n",
       "  <matplotlib.axis.XTick at 0x7fed039f4750>,\n",
       "  <matplotlib.axis.XTick at 0x7fed039f4490>,\n",
       "  <matplotlib.axis.XTick at 0x7fed03aa2a10>,\n",
       "  <matplotlib.axis.XTick at 0x7fed03aa2c90>,\n",
       "  <matplotlib.axis.XTick at 0x7fed03aab5d0>,\n",
       "  <matplotlib.axis.XTick at 0x7fed03aabc50>,\n",
       "  <matplotlib.axis.XTick at 0x7fed03aab2d0>,\n",
       "  <matplotlib.axis.XTick at 0x7fed03ab2310>,\n",
       "  <matplotlib.axis.XTick at 0x7fed03ab2850>,\n",
       "  <matplotlib.axis.XTick at 0x7fed03ab2e50>,\n",
       "  <matplotlib.axis.XTick at 0x7fed03ab94d0>,\n",
       "  <matplotlib.axis.XTick at 0x7fed03ab9b10>,\n",
       "  <matplotlib.axis.XTick at 0x7fed03ac01d0>,\n",
       "  <matplotlib.axis.XTick at 0x7fed03ac07d0>,\n",
       "  <matplotlib.axis.XTick at 0x7fed03ac0e10>,\n",
       "  <matplotlib.axis.XTick at 0x7fed03ac0050>,\n",
       "  <matplotlib.axis.XTick at 0x7fed03ab99d0>,\n",
       "  <matplotlib.axis.XTick at 0x7fed03ac62d0>,\n",
       "  <matplotlib.axis.XTick at 0x7fed03ac6b50>,\n",
       "  <matplotlib.axis.XTick at 0x7fed03ace250>,\n",
       "  <matplotlib.axis.XTick at 0x7fed03ace810>,\n",
       "  <matplotlib.axis.XTick at 0x7fed03acee50>,\n",
       "  <matplotlib.axis.XTick at 0x7fed03ad54d0>,\n",
       "  <matplotlib.axis.XTick at 0x7fed03ad5b10>,\n",
       "  <matplotlib.axis.XTick at 0x7fed03add1d0>,\n",
       "  <matplotlib.axis.XTick at 0x7fed03ad5590>,\n",
       "  <matplotlib.axis.XTick at 0x7fed03ac6490>,\n",
       "  <matplotlib.axis.XTick at 0x7fed03add6d0>,\n",
       "  <matplotlib.axis.XTick at 0x7fed03addd10>],\n",
       " <a list of 30 Text xticklabel objects>)"
      ]
     },
     "execution_count": 31,
     "metadata": {},
     "output_type": "execute_result"
    },
    {
     "data": {
      "image/png": "[encoded data removed]",
      "text/plain": [
       "<Figure size 432x288 with 1 Axes>"
      ]
     },
     "metadata": {
      "needs_background": "light"
     },
     "output_type": "display_data"
    }
   ],
   "source": [
    "imp_dict={}\n",
    "dtc.fit(X_train_y_G3,y_train_y_G3)\n",
    "y_pred_y_G3 = dtc.predict(X_test_y_G3)\n",
    "print(classification_report(y_pred_y_G3,y_test_y_G3))\n",
    "print(\"Kappa Score: \" +str(cohen_kappa_score(y_pred_y_G3,y_test_y_G3)))\n",
    "print(\"\\t\")\n",
    "for importance, name in sorted(zip(dtc.feature_importances_, X_train_y_G3.columns),reverse=True):\n",
    "    imp_dict[name] = importance\n",
    "    print ('Feature '+name+ ' and its importance is '+str(importance))\n",
    "plt.bar(range(len(imp_dict)), list(imp_dict.values()), align='center')\n",
    "plt.xticks(range(len(imp_dict)), list(imp_dict.keys()),rotation=90)"
   ]
  },
  {
   "cell_type": "markdown",
   "metadata": {},
   "source": [
    "### Random Forest"
   ]
  },
  {
   "cell_type": "code",
   "execution_count": 32,
   "metadata": {},
   "outputs": [],
   "source": [
    "rf = RandomForestClassifier()"
   ]
  },
  {
   "cell_type": "code",
   "execution_count": 33,
   "metadata": {},
   "outputs": [
    {
     "name": "stdout",
     "output_type": "stream",
     "text": [
      "              precision    recall  f1-score   support\n",
      "\n",
      "           0       0.10      1.00      0.18         1\n",
      "           1       0.07      1.00      0.13         1\n",
      "           2       0.99      0.61      0.76       166\n",
      "           3       0.36      0.72      0.48        18\n",
      "           4       0.57      0.94      0.71        35\n",
      "\n",
      "    accuracy                           0.68       221\n",
      "   macro avg       0.42      0.86      0.45       221\n",
      "weighted avg       0.86      0.68      0.72       221\n",
      "\n",
      "Kappa Score: 0.4596949140869805\n",
      "\t\n",
      "Feature failures.x and its importance is 0.1299472895104952\n",
      "Feature schoolsup.x and its importance is 0.07461821729372424\n",
      "Feature absences.x and its importance is 0.05953735229750807\n",
      "Feature goout.x and its importance is 0.04499931348529687\n",
      "Feature Walc.x and its importance is 0.04422685789510081\n",
      "Feature Mjob and its importance is 0.04412040886671454\n",
      "Feature Fedu and its importance is 0.04359584467539045\n",
      "Feature age and its importance is 0.043415389532873154\n",
      "Feature health.x and its importance is 0.04239463850305945\n",
      "Feature Fjob and its importance is 0.040581658173590295\n",
      "Feature freetime.x and its importance is 0.040325769506489105\n",
      "Feature Medu and its importance is 0.03861342391681247\n",
      "Feature reason and its importance is 0.03561592492773427\n",
      "Feature famrel.x and its importance is 0.034065682411858714\n",
      "Feature studytime.x and its importance is 0.03289171080298256\n",
      "Feature Dalc.x and its importance is 0.02715854109394026\n",
      "Feature traveltime.x and its importance is 0.02307592620505804\n",
      "Feature guardian.x and its importance is 0.02102914751323765\n",
      "Feature sex and its importance is 0.020691981152182598\n",
      "Feature famsup.x and its importance is 0.018992986014613838\n",
      "Feature activities.x and its importance is 0.018787204855050775\n",
      "Feature romantic.x and its importance is 0.018486060228617752\n",
      "Feature paid.x and its importance is 0.018466118037556548\n",
      "Feature address and its importance is 0.016071752226287202\n",
      "Feature famsize and its importance is 0.015195580787803753\n",
      "Feature nursery and its importance is 0.014722232385515217\n",
      "Feature internet and its importance is 0.013287895273267932\n",
      "Feature Pstatus and its importance is 0.012444814820531754\n",
      "Feature school and its importance is 0.0079435224876898\n",
      "Feature higher.x and its importance is 0.004696755119016737\n"
     ]
    },
    {
     "data": {
      "text/plain": [
       "([<matplotlib.axis.XTick at 0x7fed03bbb050>,\n",
       "  <matplotlib.axis.XTick at 0x7fed03bb9f90>,\n",
       "  <matplotlib.axis.XTick at 0x7fed03bb9c90>,\n",
       "  <matplotlib.axis.XTick at 0x7fed03c8b350>,\n",
       "  <matplotlib.axis.XTick at 0x7fed03c8b8d0>,\n",
       "  <matplotlib.axis.XTick at 0x7fed03c8bf10>,\n",
       "  <matplotlib.axis.XTick at 0x7fed03c925d0>,\n",
       "  <matplotlib.axis.XTick at 0x7fed03c92c10>,\n",
       "  <matplotlib.axis.XTick at 0x7fed03c99290>,\n",
       "  <matplotlib.axis.XTick at 0x7fed03c998d0>,\n",
       "  <matplotlib.axis.XTick at 0x7fed03c99ed0>,\n",
       "  <matplotlib.axis.XTick at 0x7fed03c9f510>,\n",
       "  <matplotlib.axis.XTick at 0x7fed03c99850>,\n",
       "  <matplotlib.axis.XTick at 0x7fed03c8b410>,\n",
       "  <matplotlib.axis.XTick at 0x7fed03c9fa90>,\n",
       "  <matplotlib.axis.XTick at 0x7fed03c9fcd0>,\n",
       "  <matplotlib.axis.XTick at 0x7fed03ca5750>,\n",
       "  <matplotlib.axis.XTick at 0x7fed03ca5d90>,\n",
       "  <matplotlib.axis.XTick at 0x7fed03cac410>,\n",
       "  <matplotlib.axis.XTick at 0x7fed03caca10>,\n",
       "  <matplotlib.axis.XTick at 0x7fed03cac850>,\n",
       "  <matplotlib.axis.XTick at 0x7fed03cac050>,\n",
       "  <matplotlib.axis.XTick at 0x7fed03c8b290>,\n",
       "  <matplotlib.axis.XTick at 0x7fed03cb3490>,\n",
       "  <matplotlib.axis.XTick at 0x7fed03cb3bd0>,\n",
       "  <matplotlib.axis.XTick at 0x7fed03cbc250>,\n",
       "  <matplotlib.axis.XTick at 0x7fed03cbc890>,\n",
       "  <matplotlib.axis.XTick at 0x7fed03cbced0>,\n",
       "  <matplotlib.axis.XTick at 0x7fed03cc4550>,\n",
       "  <matplotlib.axis.XTick at 0x7fed03cc4b90>],\n",
       " <a list of 30 Text xticklabel objects>)"
      ]
     },
     "execution_count": 33,
     "metadata": {},
     "output_type": "execute_result"
    },
    {
     "data": {
      "image/png": "[encoded data removed]",
      "text/plain": [
       "<Figure size 432x288 with 1 Axes>"
      ]
     },
     "metadata": {
      "needs_background": "light"
     },
     "output_type": "display_data"
    }
   ],
   "source": [
    "imp_dict={}\n",
    "rf.fit(X_train_x_G1,y_train_x_G1)\n",
    "y_pred_x_G1= rf.predict(X_test_x_G1)\n",
    "print(classification_report(y_pred_x_G1,y_test_x_G1))\n",
    "print(\"Kappa Score: \" +str(cohen_kappa_score(y_pred_x_G1,y_test_x_G1)))\n",
    "print(\"\\t\")\n",
    "for importance, name in sorted(zip(rf.feature_importances_, X_train_x_G1.columns),reverse=True):\n",
    "    imp_dict[name] = importance\n",
    "    print('Feature '+name+ ' and its importance is '+str(importance))\n",
    "plt.bar(range(len(imp_dict)), list(imp_dict.values()), align='center')\n",
    "plt.xticks(range(len(imp_dict)), list(imp_dict.keys()),rotation=90)"
   ]
  },
  {
   "cell_type": "code",
   "execution_count": 34,
   "metadata": {},
   "outputs": [
    {
     "name": "stdout",
     "output_type": "stream",
     "text": [
      "              precision    recall  f1-score   support\n",
      "\n",
      "           0       0.17      1.00      0.29         2\n",
      "           1       0.00      0.00      0.00         0\n",
      "           2       0.99      0.60      0.75       167\n",
      "           3       0.00      0.00      0.00         0\n",
      "           4       0.66      0.90      0.76        52\n",
      "\n",
      "    accuracy                           0.68       221\n",
      "   macro avg       0.36      0.50      0.36       221\n",
      "weighted avg       0.91      0.68      0.75       221\n",
      "\n",
      "Kappa Score: 0.4414225196682211\n",
      "\t\n",
      "Feature failures.x and its importance is 0.12660261221483263\n",
      "Feature schoolsup.x and its importance is 0.07866542497984734\n",
      "Feature absences.x and its importance is 0.06410212253179957\n",
      "Feature Walc.x and its importance is 0.0433283849724418\n",
      "Feature Mjob and its importance is 0.04309850005130002\n",
      "Feature goout.x and its importance is 0.04298552057006636\n",
      "Feature age and its importance is 0.04226515798268701\n",
      "Feature Medu and its importance is 0.04203414315620207\n",
      "Feature Fedu and its importance is 0.04172332277581522\n",
      "Feature freetime.x and its importance is 0.040985672767488594\n",
      "Feature health.x and its importance is 0.04078938351071577\n",
      "Feature reason and its importance is 0.03851638270974487\n",
      "Feature Fjob and its importance is 0.035628499839638485\n",
      "Feature famrel.x and its importance is 0.03454741847804402\n",
      "Feature studytime.x and its importance is 0.03445838176230285\n",
      "Feature Dalc.x and its importance is 0.02753830621321852\n",
      "Feature traveltime.x and its importance is 0.024561856275787074\n",
      "Feature sex and its importance is 0.02039957724520711\n",
      "Feature paid.x and its importance is 0.019717384126517867\n",
      "Feature guardian.x and its importance is 0.018708626085623514\n",
      "Feature activities.x and its importance is 0.018613101662845664\n",
      "Feature romantic.x and its importance is 0.018598542860944745\n",
      "Feature famsup.x and its importance is 0.016994669738867763\n",
      "Feature famsize and its importance is 0.01684963171675774\n",
      "Feature address and its importance is 0.01397400857057384\n",
      "Feature nursery and its importance is 0.013745462489326805\n",
      "Feature internet and its importance is 0.013743366400421194\n",
      "Feature Pstatus and its importance is 0.011881772386026147\n",
      "Feature school and its importance is 0.00961772399677111\n",
      "Feature higher.x and its importance is 0.005325041928184214\n"
     ]
    },
    {
     "name": "stderr",
     "output_type": "stream",
     "text": [
      "/opt/anaconda3/lib/python3.7/site-packages/sklearn/metrics/_classification.py:1272: UndefinedMetricWarning: Recall and F-score are ill-defined and being set to 0.0 in labels with no true samples. Use `zero_division` parameter to control this behavior.\n",
      "  _warn_prf(average, modifier, msg_start, len(result))\n"
     ]
    },
    {
     "data": {
      "text/plain": [
       "([<matplotlib.axis.XTick at 0x7fed03d15210>,\n",
       "  <matplotlib.axis.XTick at 0x7fed03d17c90>,\n",
       "  <matplotlib.axis.XTick at 0x7fed03d17990>,\n",
       "  <matplotlib.axis.XTick at 0x7fed03d38350>,\n",
       "  <matplotlib.axis.XTick at 0x7fed03e487d0>,\n",
       "  <matplotlib.axis.XTick at 0x7fed03e48e10>,\n",
       "  <matplotlib.axis.XTick at 0x7fed03e4e4d0>,\n",
       "  <matplotlib.axis.XTick at 0x7fed03d382d0>,\n",
       "  <matplotlib.axis.XTick at 0x7fed03e4ecd0>,\n",
       "  <matplotlib.axis.XTick at 0x7fed03e55210>,\n",
       "  <matplotlib.axis.XTick at 0x7fed03e557d0>,\n",
       "  <matplotlib.axis.XTick at 0x7fed03e55e10>,\n",
       "  <matplotlib.axis.XTick at 0x7fed03e5b490>,\n",
       "  <matplotlib.axis.XTick at 0x7fed03e5bad0>,\n",
       "  <matplotlib.axis.XTick at 0x7fed03e63190>,\n",
       "  <matplotlib.axis.XTick at 0x7fed03e63790>,\n",
       "  <matplotlib.axis.XTick at 0x7fed03e63dd0>,\n",
       "  <matplotlib.axis.XTick at 0x7fed03e5ba50>,\n",
       "  <matplotlib.axis.XTick at 0x7fed03e4ec10>,\n",
       "  <matplotlib.axis.XTick at 0x7fed03e6a4d0>,\n",
       "  <matplotlib.axis.XTick at 0x7fed03e6ab10>,\n",
       "  <matplotlib.axis.XTick at 0x7fed03e72090>,\n",
       "  <matplotlib.axis.XTick at 0x7fed03e72790>,\n",
       "  <matplotlib.axis.XTick at 0x7fed03e72d10>,\n",
       "  <matplotlib.axis.XTick at 0x7fed03e78390>,\n",
       "  <matplotlib.axis.XTick at 0x7fed03e789d0>,\n",
       "  <matplotlib.axis.XTick at 0x7fed03e72550>,\n",
       "  <matplotlib.axis.XTick at 0x7fed03e55ed0>,\n",
       "  <matplotlib.axis.XTick at 0x7fed03e78f10>,\n",
       "  <matplotlib.axis.XTick at 0x7fed03e81590>],\n",
       " <a list of 30 Text xticklabel objects>)"
      ]
     },
     "execution_count": 34,
     "metadata": {},
     "output_type": "execute_result"
    },
    {
     "data": {
      "image/png": "[encoded data removed]",
      "text/plain": [
       "<Figure size 432x288 with 1 Axes>"
      ]
     },
     "metadata": {
      "needs_background": "light"
     },
     "output_type": "display_data"
    }
   ],
   "source": [
    "imp_dict={}\n",
    "rf.fit(X_train_x_G3,y_train_x_G3)\n",
    "y_pred_x_G3= rf.predict(X_test_x_G3)\n",
    "print(classification_report(y_pred_x_G3,y_test_x_G3))\n",
    "print(\"Kappa Score: \" +str(cohen_kappa_score(y_pred_x_G3,y_test_x_G3)))\n",
    "print(\"\\t\")\n",
    "for importance, name in sorted(zip(rf.feature_importances_, X_train_x_G3.columns),reverse=True):\n",
    "    imp_dict[name] = importance\n",
    "    print('Feature '+name+ ' and its importance is '+str(importance))\n",
    "plt.bar(range(len(imp_dict)), list(imp_dict.values()), align='center')\n",
    "plt.xticks(range(len(imp_dict)), list(imp_dict.keys()),rotation=90)"
   ]
  },
  {
   "cell_type": "code",
   "execution_count": 35,
   "metadata": {},
   "outputs": [
    {
     "name": "stdout",
     "output_type": "stream",
     "text": [
      "              precision    recall  f1-score   support\n",
      "\n",
      "           0       0.00      0.00      0.00         0\n",
      "           1       0.00      0.00      0.00         0\n",
      "           2       0.94      0.49      0.65       196\n",
      "           3       0.00      0.00      0.00         4\n",
      "           4       0.14      0.38      0.20        21\n",
      "\n",
      "    accuracy                           0.48       221\n",
      "   macro avg       0.22      0.18      0.17       221\n",
      "weighted avg       0.85      0.48      0.59       221\n",
      "\n",
      "Kappa Score: 0.06064270272250927\n",
      "\t\n",
      "Feature absences.y and its importance is 0.06593293142509621\n",
      "Feature age and its importance is 0.05417795056183836\n",
      "Feature health.y and its importance is 0.053202316678112774\n",
      "Feature goout.y and its importance is 0.05319792597407449\n",
      "Feature Mjob and its importance is 0.05287829774328916\n",
      "Feature Walc.y and its importance is 0.05237232882671661\n",
      "Feature freetime.y and its importance is 0.05202220791546972\n",
      "Feature Medu and its importance is 0.05074214189685246\n",
      "Feature Fedu and its importance is 0.04982635149151759\n",
      "Feature Fjob and its importance is 0.047188636437391185\n",
      "Feature famrel.y and its importance is 0.04473621179874098\n",
      "Feature reason and its importance is 0.04340839249659818\n",
      "Feature studytime.y and its importance is 0.0419876583160638\n",
      "Feature Dalc.y and its importance is 0.03281811872043286\n",
      "Feature traveltime.y and its importance is 0.030798312725399398\n",
      "Feature guardian.y and its importance is 0.029158392529217033\n",
      "Feature sex and its importance is 0.025420440882547406\n",
      "Feature famsup.y and its importance is 0.024144202767689294\n",
      "Feature romantic.y and its importance is 0.02307801378941461\n",
      "Feature activities.y and its importance is 0.023043783467389084\n",
      "Feature famsize and its importance is 0.02031267692727101\n",
      "Feature address and its importance is 0.018436176636877043\n",
      "Feature schoolsup.y and its importance is 0.01694247705883243\n",
      "Feature nursery and its importance is 0.016716921091027168\n",
      "Feature internet and its importance is 0.01671559853509725\n",
      "Feature school and its importance is 0.014180549796023663\n",
      "Feature Pstatus and its importance is 0.01391022120801988\n",
      "Feature failures.y and its importance is 0.013021915577247972\n",
      "Feature paid.y and its importance is 0.011845328331334656\n",
      "Feature higher.y and its importance is 0.007783518394417638\n"
     ]
    },
    {
     "name": "stderr",
     "output_type": "stream",
     "text": [
      "/opt/anaconda3/lib/python3.7/site-packages/sklearn/metrics/_classification.py:1272: UndefinedMetricWarning: Recall and F-score are ill-defined and being set to 0.0 in labels with no true samples. Use `zero_division` parameter to control this behavior.\n",
      "  _warn_prf(average, modifier, msg_start, len(result))\n"
     ]
    },
    {
     "data": {
      "text/plain": [
       "([<matplotlib.axis.XTick at 0x7fed01e9fc10>,\n",
       "  <matplotlib.axis.XTick at 0x7fed03eb90d0>,\n",
       "  <matplotlib.axis.XTick at 0x7fed03eb9c10>,\n",
       "  <matplotlib.axis.XTick at 0x7fed0491ce90>,\n",
       "  <matplotlib.axis.XTick at 0x7fed04926550>,\n",
       "  <matplotlib.axis.XTick at 0x7fed04926b90>,\n",
       "  <matplotlib.axis.XTick at 0x7fed0492e2d0>,\n",
       "  <matplotlib.axis.XTick at 0x7fed0492e890>,\n",
       "  <matplotlib.axis.XTick at 0x7fed0492eed0>,\n",
       "  <matplotlib.axis.XTick at 0x7fed0492e810>,\n",
       "  <matplotlib.axis.XTick at 0x7fed04926090>,\n",
       "  <matplotlib.axis.XTick at 0x7fed04934890>,\n",
       "  <matplotlib.axis.XTick at 0x7fed04934ed0>,\n",
       "  <matplotlib.axis.XTick at 0x7fed0493b550>,\n",
       "  <matplotlib.axis.XTick at 0x7fed0493bb90>,\n",
       "  <matplotlib.axis.XTick at 0x7fed04941250>,\n",
       "  <matplotlib.axis.XTick at 0x7fed04941810>,\n",
       "  <matplotlib.axis.XTick at 0x7fed04941e90>,\n",
       "  <matplotlib.axis.XTick at 0x7fed0493bed0>,\n",
       "  <matplotlib.axis.XTick at 0x7fed04934f90>,\n",
       "  <matplotlib.axis.XTick at 0x7fed049492d0>,\n",
       "  <matplotlib.axis.XTick at 0x7fed04949a90>,\n",
       "  <matplotlib.axis.XTick at 0x7fed04951190>,\n",
       "  <matplotlib.axis.XTick at 0x7fed049517d0>,\n",
       "  <matplotlib.axis.XTick at 0x7fed04951dd0>,\n",
       "  <matplotlib.axis.XTick at 0x7fed04957410>,\n",
       "  <matplotlib.axis.XTick at 0x7fed04957a90>,\n",
       "  <matplotlib.axis.XTick at 0x7fed04957b90>,\n",
       "  <matplotlib.axis.XTick at 0x7fed049512d0>,\n",
       "  <matplotlib.axis.XTick at 0x7fed04949290>],\n",
       " <a list of 30 Text xticklabel objects>)"
      ]
     },
     "execution_count": 35,
     "metadata": {},
     "output_type": "execute_result"
    },
    {
     "data": {
      "image/png": "[encoded data removed]",
      "text/plain": [
       "<Figure size 432x288 with 1 Axes>"
      ]
     },
     "metadata": {
      "needs_background": "light"
     },
     "output_type": "display_data"
    }
   ],
   "source": [
    "imp_dict={}\n",
    "rf.fit(X_train_y_G1,y_train_y_G1)\n",
    "y_pred_y_G1 = rf.predict(X_test_y_G1)\n",
    "print(classification_report(y_pred_y_G1,y_test_y_G1))\n",
    "print(\"Kappa Score: \" +str(cohen_kappa_score(y_pred_y_G1,y_test_y_G1)))\n",
    "print(\"\\t\")\n",
    "for importance, name in sorted(zip(rf.feature_importances_, X_train_y_G1.columns),reverse=True):\n",
    "    imp_dict[name] = importance\n",
    "    print ('Feature '+name+ ' and its importance is '+str(importance))\n",
    "plt.bar(range(len(imp_dict)), list(imp_dict.values()), align='center')\n",
    "plt.xticks(range(len(imp_dict)), list(imp_dict.keys()),rotation=90)"
   ]
  },
  {
   "cell_type": "code",
   "execution_count": 36,
   "metadata": {},
   "outputs": [
    {
     "name": "stdout",
     "output_type": "stream",
     "text": [
      "              precision    recall  f1-score   support\n",
      "\n",
      "           0       0.00      0.00      0.00         0\n",
      "           1       0.00      0.00      0.00         1\n",
      "           2       0.88      0.49      0.63       185\n",
      "           3       0.00      0.00      0.00         0\n",
      "           4       0.24      0.49      0.32        35\n",
      "\n",
      "    accuracy                           0.48       221\n",
      "   macro avg       0.22      0.19      0.19       221\n",
      "weighted avg       0.78      0.48      0.58       221\n",
      "\n",
      "Kappa Score: 0.08288740853991483\n",
      "\t\n",
      "Feature absences.y and its importance is 0.062825111141852\n",
      "Feature age and its importance is 0.05618697965879943\n",
      "Feature goout.y and its importance is 0.05535406043075989\n",
      "Feature health.y and its importance is 0.05482291468295855\n",
      "Feature Mjob and its importance is 0.05388798470094896\n",
      "Feature Fedu and its importance is 0.05192382560329723\n",
      "Feature freetime.y and its importance is 0.051390545127451275\n",
      "Feature Walc.y and its importance is 0.051051574287739966\n",
      "Feature Medu and its importance is 0.0493018948110208\n",
      "Feature reason and its importance is 0.046973680679873585\n",
      "Feature studytime.y and its importance is 0.04536655704779715\n",
      "Feature famrel.y and its importance is 0.0448152769267363\n",
      "Feature Fjob and its importance is 0.04451635020600979\n",
      "Feature Dalc.y and its importance is 0.03143994221181099\n",
      "Feature traveltime.y and its importance is 0.030087960092082894\n",
      "Feature sex and its importance is 0.025136118290435733\n",
      "Feature guardian.y and its importance is 0.024329378510289816\n",
      "Feature activities.y and its importance is 0.023949354670848105\n",
      "Feature famsup.y and its importance is 0.02223986584368048\n",
      "Feature famsize and its importance is 0.020981114626255442\n",
      "Feature address and its importance is 0.020512069659226525\n",
      "Feature romantic.y and its importance is 0.01977168319531823\n",
      "Feature nursery and its importance is 0.017815267786120876\n",
      "Feature schoolsup.y and its importance is 0.01632942058485785\n",
      "Feature internet and its importance is 0.015057109613990682\n",
      "Feature Pstatus and its importance is 0.014596028649893646\n",
      "Feature failures.y and its importance is 0.014347140100707626\n",
      "Feature school and its importance is 0.013704993447277165\n",
      "Feature paid.y and its importance is 0.013085574534384192\n",
      "Feature higher.y and its importance is 0.008200222877574928\n"
     ]
    },
    {
     "name": "stderr",
     "output_type": "stream",
     "text": [
      "/opt/anaconda3/lib/python3.7/site-packages/sklearn/metrics/_classification.py:1272: UndefinedMetricWarning: Recall and F-score are ill-defined and being set to 0.0 in labels with no true samples. Use `zero_division` parameter to control this behavior.\n",
      "  _warn_prf(average, modifier, msg_start, len(result))\n"
     ]
    },
    {
     "data": {
      "text/plain": [
       "([<matplotlib.axis.XTick at 0x7fed04a25350>,\n",
       "  <matplotlib.axis.XTick at 0x7fed03d21f90>,\n",
       "  <matplotlib.axis.XTick at 0x7fed03eb1a50>,\n",
       "  <matplotlib.axis.XTick at 0x7fed04ab5e10>,\n",
       "  <matplotlib.axis.XTick at 0x7fed04ac2450>,\n",
       "  <matplotlib.axis.XTick at 0x7fed04ac2a90>,\n",
       "  <matplotlib.axis.XTick at 0x7fed04ac8050>,\n",
       "  <matplotlib.axis.XTick at 0x7fed04ab5f10>,\n",
       "  <matplotlib.axis.XTick at 0x7fed04ac8090>,\n",
       "  <matplotlib.axis.XTick at 0x7fed04ac8e10>,\n",
       "  <matplotlib.axis.XTick at 0x7fed04ace450>,\n",
       "  <matplotlib.axis.XTick at 0x7fed04acea90>,\n",
       "  <matplotlib.axis.XTick at 0x7fed04acecd0>,\n",
       "  <matplotlib.axis.XTick at 0x7fed04ad5750>,\n",
       "  <matplotlib.axis.XTick at 0x7fed04ad5d90>,\n",
       "  <matplotlib.axis.XTick at 0x7fed04adc410>,\n",
       "  <matplotlib.axis.XTick at 0x7fed04acef90>,\n",
       "  <matplotlib.axis.XTick at 0x7fed04ac8d90>,\n",
       "  <matplotlib.axis.XTick at 0x7fed04adcd50>,\n",
       "  <matplotlib.axis.XTick at 0x7fed04ae4050>,\n",
       "  <matplotlib.axis.XTick at 0x7fed04ae4790>,\n",
       "  <matplotlib.axis.XTick at 0x7fed04ae4dd0>,\n",
       "  <matplotlib.axis.XTick at 0x7fed04c01450>,\n",
       "  <matplotlib.axis.XTick at 0x7fed04c01a90>,\n",
       "  <matplotlib.axis.XTick at 0x7fed04c01cd0>,\n",
       "  <matplotlib.axis.XTick at 0x7fed04c08750>,\n",
       "  <matplotlib.axis.XTick at 0x7fed04c01510>,\n",
       "  <matplotlib.axis.XTick at 0x7fed04a2dc50>,\n",
       "  <matplotlib.axis.XTick at 0x7fed04c08090>,\n",
       "  <matplotlib.axis.XTick at 0x7fed04c10290>],\n",
       " <a list of 30 Text xticklabel objects>)"
      ]
     },
     "execution_count": 36,
     "metadata": {},
     "output_type": "execute_result"
    },
    {
     "data": {
      "image/png": "[encoded data removed]",
      "text/plain": [
       "<Figure size 432x288 with 1 Axes>"
      ]
     },
     "metadata": {
      "needs_background": "light"
     },
     "output_type": "display_data"
    }
   ],
   "source": [
    "imp_dict={}\n",
    "rf.fit(X_train_y_G3,y_train_y_G3)\n",
    "y_pred_y_G3 = rf.predict(X_test_y_G3)\n",
    "print(classification_report(y_pred_y_G3,y_test_y_G3))\n",
    "print(\"Kappa Score: \" +str(cohen_kappa_score(y_pred_y_G3,y_test_y_G3)))\n",
    "print(\"\\t\")\n",
    "for importance, name in sorted(zip(rf.feature_importances_, X_train_y_G3.columns),reverse=True):\n",
    "    imp_dict[name] = importance\n",
    "    print ('Feature '+name+ ' and its importance is '+str(importance))\n",
    "plt.bar(range(len(imp_dict)), list(imp_dict.values()), align='center')\n",
    "plt.xticks(range(len(imp_dict)), list(imp_dict.keys()),rotation=90)"
   ]
  },
  {
   "cell_type": "markdown",
   "metadata": {},
   "source": [
    "### Linear SVM"
   ]
  },
  {
   "cell_type": "code",
   "execution_count": 37,
   "metadata": {},
   "outputs": [],
   "source": [
    "lsvm = LinearSVC(max_iter=1000000)"
   ]
  },
  {
   "cell_type": "code",
   "execution_count": 38,
   "metadata": {},
   "outputs": [
    {
     "name": "stdout",
     "output_type": "stream",
     "text": [
      "              precision    recall  f1-score   support\n",
      "\n",
      "           0       0.00      0.00      0.00         0\n",
      "           1       0.00      0.00      0.00         0\n",
      "           2       0.99      0.60      0.75       170\n",
      "           3       0.31      0.69      0.42        16\n",
      "           4       0.55      0.91      0.69        35\n",
      "\n",
      "    accuracy                           0.66       221\n",
      "   macro avg       0.37      0.44      0.37       221\n",
      "weighted avg       0.87      0.66      0.71       221\n",
      "\n",
      "Kappa Score: 0.41528285465622294\n"
     ]
    },
    {
     "name": "stderr",
     "output_type": "stream",
     "text": [
      "/opt/anaconda3/lib/python3.7/site-packages/sklearn/metrics/_classification.py:1272: UndefinedMetricWarning: Recall and F-score are ill-defined and being set to 0.0 in labels with no true samples. Use `zero_division` parameter to control this behavior.\n",
      "  _warn_prf(average, modifier, msg_start, len(result))\n"
     ]
    }
   ],
   "source": [
    "lsvm.fit(X_train_x_G1,y_train_x_G1)\n",
    "y_pred_x_G1= lsvm.predict(X_test_x_G1)\n",
    "print(classification_report(y_pred_x_G1,y_test_x_G1))\n",
    "print(\"Kappa Score: \" +str(cohen_kappa_score(y_pred_x_G1,y_test_x_G1)))"
   ]
  },
  {
   "cell_type": "code",
   "execution_count": 39,
   "metadata": {},
   "outputs": [
    {
     "name": "stdout",
     "output_type": "stream",
     "text": [
      "              precision    recall  f1-score   support\n",
      "\n",
      "           0       0.00      0.00      0.00         0\n",
      "           1       0.00      0.00      0.00         0\n",
      "           2       0.99      0.59      0.74       170\n",
      "           3       0.00      0.00      0.00         0\n",
      "           4       0.65      0.90      0.75        51\n",
      "\n",
      "    accuracy                           0.67       221\n",
      "   macro avg       0.33      0.30      0.30       221\n",
      "weighted avg       0.91      0.67      0.75       221\n",
      "\n",
      "Kappa Score: 0.4134146341463415\n"
     ]
    },
    {
     "name": "stderr",
     "output_type": "stream",
     "text": [
      "/opt/anaconda3/lib/python3.7/site-packages/sklearn/metrics/_classification.py:1272: UndefinedMetricWarning: Recall and F-score are ill-defined and being set to 0.0 in labels with no true samples. Use `zero_division` parameter to control this behavior.\n",
      "  _warn_prf(average, modifier, msg_start, len(result))\n"
     ]
    }
   ],
   "source": [
    "lsvm.fit(X_train_x_G3,y_train_x_G3)\n",
    "y_pred_x_G3= lsvm.predict(X_test_x_G3)\n",
    "print(classification_report(y_pred_x_G3,y_test_x_G3))\n",
    "print(\"Kappa Score: \" +str(cohen_kappa_score(y_pred_x_G3,y_test_x_G3)))"
   ]
  },
  {
   "cell_type": "code",
   "execution_count": 40,
   "metadata": {},
   "outputs": [
    {
     "name": "stdout",
     "output_type": "stream",
     "text": [
      "              precision    recall  f1-score   support\n",
      "\n",
      "           0       0.00      0.00      0.00         0\n",
      "           1       0.00      0.00      0.00         0\n",
      "           2       0.92      0.47      0.63       200\n",
      "           3       0.00      0.00      0.00         3\n",
      "           4       0.10      0.33      0.16        18\n",
      "\n",
      "    accuracy                           0.46       221\n",
      "   macro avg       0.21      0.16      0.16       221\n",
      "weighted avg       0.84      0.46      0.58       221\n",
      "\n",
      "Kappa Score: 0.02100483591125535\n"
     ]
    },
    {
     "name": "stderr",
     "output_type": "stream",
     "text": [
      "/opt/anaconda3/lib/python3.7/site-packages/sklearn/metrics/_classification.py:1272: UndefinedMetricWarning: Recall and F-score are ill-defined and being set to 0.0 in labels with no true samples. Use `zero_division` parameter to control this behavior.\n",
      "  _warn_prf(average, modifier, msg_start, len(result))\n"
     ]
    }
   ],
   "source": [
    "lsvm.fit(X_train_y_G1,y_train_y_G1)\n",
    "y_pred_y_G1 = lsvm.predict(X_test_y_G1)\n",
    "print(classification_report(y_pred_y_G1,y_test_y_G1))\n",
    "print(\"Kappa Score: \" +str(cohen_kappa_score(y_pred_y_G1,y_test_y_G1)))"
   ]
  },
  {
   "cell_type": "code",
   "execution_count": 41,
   "metadata": {},
   "outputs": [
    {
     "name": "stdout",
     "output_type": "stream",
     "text": [
      "              precision    recall  f1-score   support\n",
      "\n",
      "           0       0.00      0.00      0.00         0\n",
      "           1       0.00      0.00      0.00         0\n",
      "           2       0.90      0.49      0.63       189\n",
      "           3       0.00      0.00      0.00         0\n",
      "           4       0.27      0.59      0.37        32\n",
      "\n",
      "    accuracy                           0.50       221\n",
      "   macro avg       0.23      0.22      0.20       221\n",
      "weighted avg       0.81      0.50      0.59       221\n",
      "\n",
      "Kappa Score: 0.10923014913341378\n"
     ]
    },
    {
     "name": "stderr",
     "output_type": "stream",
     "text": [
      "/opt/anaconda3/lib/python3.7/site-packages/sklearn/metrics/_classification.py:1272: UndefinedMetricWarning: Recall and F-score are ill-defined and being set to 0.0 in labels with no true samples. Use `zero_division` parameter to control this behavior.\n",
      "  _warn_prf(average, modifier, msg_start, len(result))\n"
     ]
    }
   ],
   "source": [
    "lsvm.fit(X_train_y_G3,y_train_y_G3)\n",
    "y_pred_y_G3 = lsvm.predict(X_test_y_G3)\n",
    "print(classification_report(y_pred_y_G3,y_test_y_G3))\n",
    "print(\"Kappa Score: \" +str(cohen_kappa_score(y_pred_y_G3,y_test_y_G3)))"
   ]
  },
  {
   "cell_type": "markdown",
   "metadata": {},
   "source": [
    "### Logistic Regression"
   ]
  },
  {
   "cell_type": "code",
   "execution_count": 42,
   "metadata": {},
   "outputs": [],
   "source": [
    "lg = LogisticRegression(random_state=0,max_iter=1000000)"
   ]
  },
  {
   "cell_type": "code",
   "execution_count": 43,
   "metadata": {},
   "outputs": [
    {
     "name": "stdout",
     "output_type": "stream",
     "text": [
      "              precision    recall  f1-score   support\n",
      "\n",
      "           0       0.00      0.00      0.00         0\n",
      "           1       0.00      0.00      0.00         2\n",
      "           2       0.97      0.60      0.74       168\n",
      "           3       0.19      0.54      0.29        13\n",
      "           4       0.53      0.82      0.65        38\n",
      "\n",
      "    accuracy                           0.62       221\n",
      "   macro avg       0.34      0.39      0.33       221\n",
      "weighted avg       0.84      0.62      0.69       221\n",
      "\n",
      "Kappa Score: 0.3639074799736449\n"
     ]
    },
    {
     "name": "stderr",
     "output_type": "stream",
     "text": [
      "/opt/anaconda3/lib/python3.7/site-packages/sklearn/metrics/_classification.py:1272: UndefinedMetricWarning: Recall and F-score are ill-defined and being set to 0.0 in labels with no true samples. Use `zero_division` parameter to control this behavior.\n",
      "  _warn_prf(average, modifier, msg_start, len(result))\n"
     ]
    }
   ],
   "source": [
    "lg.fit(X_train_x_G1,y_train_x_G1)\n",
    "y_pred_x_G1= lg.predict(X_test_x_G1)\n",
    "print(classification_report(y_pred_x_G1,y_test_x_G1))\n",
    "print(\"Kappa Score: \" +str(cohen_kappa_score(y_pred_x_G1,y_test_x_G1)))"
   ]
  },
  {
   "cell_type": "code",
   "execution_count": 44,
   "metadata": {},
   "outputs": [
    {
     "name": "stdout",
     "output_type": "stream",
     "text": [
      "              precision    recall  f1-score   support\n",
      "\n",
      "           0       0.00      0.00      0.00         0\n",
      "           1       0.00      0.00      0.00         1\n",
      "           2       0.99      0.60      0.75       169\n",
      "           3       0.00      0.00      0.00         0\n",
      "           4       0.65      0.90      0.75        51\n",
      "\n",
      "    accuracy                           0.67       221\n",
      "   macro avg       0.33      0.30      0.30       221\n",
      "weighted avg       0.91      0.67      0.74       221\n",
      "\n",
      "Kappa Score: 0.4152393892802231\n"
     ]
    },
    {
     "name": "stderr",
     "output_type": "stream",
     "text": [
      "/opt/anaconda3/lib/python3.7/site-packages/sklearn/metrics/_classification.py:1272: UndefinedMetricWarning: Recall and F-score are ill-defined and being set to 0.0 in labels with no true samples. Use `zero_division` parameter to control this behavior.\n",
      "  _warn_prf(average, modifier, msg_start, len(result))\n"
     ]
    }
   ],
   "source": [
    "lg.fit(X_train_x_G3,y_train_x_G3)\n",
    "y_pred_x_G3= lg.predict(X_test_x_G3)\n",
    "print(classification_report(y_pred_x_G3,y_test_x_G3))\n",
    "print(\"Kappa Score: \" +str(cohen_kappa_score(y_pred_x_G3,y_test_x_G3)))"
   ]
  },
  {
   "cell_type": "code",
   "execution_count": 45,
   "metadata": {},
   "outputs": [
    {
     "name": "stdout",
     "output_type": "stream",
     "text": [
      "              precision    recall  f1-score   support\n",
      "\n",
      "           0       0.00      0.00      0.00         1\n",
      "           1       0.00      0.00      0.00         1\n",
      "           2       0.89      0.47      0.62       194\n",
      "           3       0.00      0.00      0.00         3\n",
      "           4       0.09      0.23      0.13        22\n",
      "\n",
      "    accuracy                           0.44       221\n",
      "   macro avg       0.20      0.14      0.15       221\n",
      "weighted avg       0.79      0.44      0.56       221\n",
      "\n",
      "Kappa Score: 0.0017121416341845386\n"
     ]
    }
   ],
   "source": [
    "lg.fit(X_train_y_G1,y_train_y_G1)\n",
    "y_pred_y_G1 = lg.predict(X_test_y_G1)\n",
    "print(classification_report(y_pred_y_G1,y_test_y_G1))\n",
    "print(\"Kappa Score: \" +str(cohen_kappa_score(y_pred_y_G1,y_test_y_G1)))"
   ]
  },
  {
   "cell_type": "code",
   "execution_count": 46,
   "metadata": {},
   "outputs": [
    {
     "name": "stdout",
     "output_type": "stream",
     "text": [
      "              precision    recall  f1-score   support\n",
      "\n",
      "           0       0.00      0.00      0.00         0\n",
      "           1       0.00      0.00      0.00         5\n",
      "           2       0.84      0.48      0.61       181\n",
      "           3       0.00      0.00      0.00         0\n",
      "           4       0.25      0.51      0.34        35\n",
      "\n",
      "    accuracy                           0.47       221\n",
      "   macro avg       0.22      0.20      0.19       221\n",
      "weighted avg       0.73      0.47      0.55       221\n",
      "\n",
      "Kappa Score: 0.07052733743125195\n"
     ]
    },
    {
     "name": "stderr",
     "output_type": "stream",
     "text": [
      "/opt/anaconda3/lib/python3.7/site-packages/sklearn/metrics/_classification.py:1272: UndefinedMetricWarning: Recall and F-score are ill-defined and being set to 0.0 in labels with no true samples. Use `zero_division` parameter to control this behavior.\n",
      "  _warn_prf(average, modifier, msg_start, len(result))\n"
     ]
    }
   ],
   "source": [
    "lg.fit(X_train_y_G3,y_train_y_G3)\n",
    "y_pred_y_G3 = lg.predict(X_test_y_G3)\n",
    "print(classification_report(y_pred_y_G3,y_test_y_G3))\n",
    "print(\"Kappa Score: \" +str(cohen_kappa_score(y_pred_y_G3,y_test_y_G3)))"
   ]
  },
  {
   "cell_type": "markdown",
   "metadata": {},
   "source": [
    "### Gradient Boosting"
   ]
  },
  {
   "cell_type": "code",
   "execution_count": 47,
   "metadata": {},
   "outputs": [],
   "source": [
    "gb = GradientBoostingClassifier(random_state=0)"
   ]
  },
  {
   "cell_type": "code",
   "execution_count": 48,
   "metadata": {},
   "outputs": [
    {
     "name": "stdout",
     "output_type": "stream",
     "text": [
      "              precision    recall  f1-score   support\n",
      "\n",
      "           0       0.00      0.00      0.00         3\n",
      "           1       0.29      0.50      0.36         8\n",
      "           2       0.91      0.63      0.74       150\n",
      "           3       0.31      0.55      0.39        20\n",
      "           4       0.57      0.82      0.67        40\n",
      "\n",
      "    accuracy                           0.64       221\n",
      "   macro avg       0.41      0.50      0.43       221\n",
      "weighted avg       0.76      0.64      0.67       221\n",
      "\n",
      "Kappa Score: 0.422059651097355\n"
     ]
    }
   ],
   "source": [
    "gb.fit(X_train_x_G1,y_train_x_G1)\n",
    "y_pred_x_G1= gb.predict(X_test_x_G1)\n",
    "print(classification_report(y_pred_x_G1,y_test_x_G1))\n",
    "print(\"Kappa Score: \" +str(cohen_kappa_score(y_pred_x_G1,y_test_x_G1)))"
   ]
  },
  {
   "cell_type": "code",
   "execution_count": 49,
   "metadata": {},
   "outputs": [
    {
     "name": "stdout",
     "output_type": "stream",
     "text": [
      "              precision    recall  f1-score   support\n",
      "\n",
      "           0       0.17      0.50      0.25         4\n",
      "           1       0.00      0.00      0.00         7\n",
      "           2       0.92      0.59      0.72       158\n",
      "           3       0.14      0.60      0.23         5\n",
      "           4       0.59      0.89      0.71        47\n",
      "\n",
      "    accuracy                           0.64       221\n",
      "   macro avg       0.36      0.52      0.38       221\n",
      "weighted avg       0.79      0.64      0.68       221\n",
      "\n",
      "Kappa Score: 0.393065568142808\n"
     ]
    }
   ],
   "source": [
    "gb.fit(X_train_x_G3,y_train_x_G3)\n",
    "y_pred_x_G3= gb.predict(X_test_x_G3)\n",
    "print(classification_report(y_pred_x_G3,y_test_x_G3))\n",
    "print(\"Kappa Score: \" +str(cohen_kappa_score(y_pred_x_G3,y_test_x_G3)))"
   ]
  },
  {
   "cell_type": "code",
   "execution_count": 50,
   "metadata": {},
   "outputs": [
    {
     "name": "stdout",
     "output_type": "stream",
     "text": [
      "              precision    recall  f1-score   support\n",
      "\n",
      "           0       0.00      0.00      0.00         1\n",
      "           1       0.00      0.00      0.00         5\n",
      "           2       0.77      0.47      0.58       168\n",
      "           3       0.03      0.08      0.04        13\n",
      "           4       0.17      0.29      0.22        34\n",
      "\n",
      "    accuracy                           0.41       221\n",
      "   macro avg       0.19      0.17      0.17       221\n",
      "weighted avg       0.61      0.41      0.48       221\n",
      "\n",
      "Kappa Score: 0.002274528724540814\n"
     ]
    }
   ],
   "source": [
    "gb.fit(X_train_y_G1,y_train_y_G1)\n",
    "y_pred_y_G1 = gb.predict(X_test_y_G1)\n",
    "print(classification_report(y_pred_y_G1,y_test_y_G1))\n",
    "print(\"Kappa Score: \" +str(cohen_kappa_score(y_pred_y_G1,y_test_y_G1)))"
   ]
  },
  {
   "cell_type": "code",
   "execution_count": 51,
   "metadata": {},
   "outputs": [
    {
     "name": "stdout",
     "output_type": "stream",
     "text": [
      "              precision    recall  f1-score   support\n",
      "\n",
      "           0       0.00      0.00      0.00         5\n",
      "           1       0.00      0.00      0.00         7\n",
      "           2       0.80      0.52      0.63       159\n",
      "           3       0.05      0.25      0.08         4\n",
      "           4       0.32      0.50      0.39        46\n",
      "\n",
      "    accuracy                           0.48       221\n",
      "   macro avg       0.24      0.25      0.22       221\n",
      "weighted avg       0.65      0.48      0.54       221\n",
      "\n",
      "Kappa Score: 0.12687233750171778\n"
     ]
    }
   ],
   "source": [
    "gb.fit(X_train_y_G3,y_train_y_G3)\n",
    "y_pred_y_G3 = gb.predict(X_test_y_G3)\n",
    "print(classification_report(y_pred_y_G3,y_test_y_G3))\n",
    "print(\"Kappa Score: \" +str(cohen_kappa_score(y_pred_y_G3,y_test_y_G3)))"
   ]
  },
  {
   "cell_type": "code",
   "execution_count": null,
   "metadata": {},
   "outputs": [],
   "source": []
  },
  {
   "cell_type": "code",
   "execution_count": null,
   "metadata": {},
   "outputs": [],
   "source": []
  },
  {
   "cell_type": "code",
   "execution_count": null,
   "metadata": {},
   "outputs": [],
   "source": []
  }
 ],
 "metadata": {
  "kernelspec": {
   "display_name": "Python 3",
   "language": "python",
   "name": "python3"
  },
  "language_info": {
   "codemirror_mode": {
    "name": "ipython",
    "version": 3
   },
   "file_extension": ".py",
   "mimetype": "text/x-python",
   "name": "python",
   "nbconvert_exporter": "python",
   "pygments_lexer": "ipython3",
   "version": "3.7.4"
  }
 },
 "nbformat": 4,
 "nbformat_minor": 4
}
