{
 "cells": [
  {
   "cell_type": "code",
   "execution_count": 1,
   "metadata": {},
   "outputs": [],
   "source": [
    "import pandas as pd\n",
    "import numpy as np\n",
    "import seaborn as sn\n",
    "import matplotlib.pyplot as plt\n",
    "from sklearn.svm import LinearSVC\n",
    "from sklearn.linear_model import LogisticRegression\n",
    "from sklearn.model_selection import train_test_split\n",
    "from sklearn import preprocessing\n",
    "from sklearn.tree import DecisionTreeClassifier\n",
    "from sklearn.metrics import accuracy_score\n",
    "from sklearn.naive_bayes import GaussianNB\n",
    "from sklearn.ensemble import RandomForestClassifier\n",
    "from sklearn.ensemble import GradientBoostingClassifier\n",
    "from sklearn.metrics import classification_report\n",
    "from sklearn.metrics import cohen_kappa_score\n",
    "import matplotlib.pyplot as plt\n",
    "from scipy.stats import rankdata"
   ]
  },
  {
   "cell_type": "code",
   "execution_count": 2,
   "metadata": {},
   "outputs": [],
   "source": [
    "df = pd.read_csv('final_combined_dataset.csv')"
   ]
  },
  {
   "cell_type": "code",
   "execution_count": 3,
   "metadata": {},
   "outputs": [
    {
     "data": {
      "text/html": [
       "<div>\n",
       "<style scoped>\n",
       "    .dataframe tbody tr th:only-of-type {\n",
       "        vertical-align: middle;\n",
       "    }\n",
       "\n",
       "    .dataframe tbody tr th {\n",
       "        vertical-align: top;\n",
       "    }\n",
       "\n",
       "    .dataframe thead th {\n",
       "        text-align: right;\n",
       "    }\n",
       "</style>\n",
       "<table border=\"1\" class=\"dataframe\">\n",
       "  <thead>\n",
       "    <tr style=\"text-align: right;\">\n",
       "      <th></th>\n",
       "      <th>school</th>\n",
       "      <th>sex</th>\n",
       "      <th>age</th>\n",
       "      <th>address</th>\n",
       "      <th>famsize</th>\n",
       "      <th>Pstatus</th>\n",
       "      <th>Medu</th>\n",
       "      <th>Fedu</th>\n",
       "      <th>Mjob</th>\n",
       "      <th>Fjob</th>\n",
       "      <th>...</th>\n",
       "      <th>famrel.y</th>\n",
       "      <th>freetime.y</th>\n",
       "      <th>goout.y</th>\n",
       "      <th>Dalc.y</th>\n",
       "      <th>Walc.y</th>\n",
       "      <th>health.y</th>\n",
       "      <th>absences.y</th>\n",
       "      <th>G1.y</th>\n",
       "      <th>G2.y</th>\n",
       "      <th>G3.y</th>\n",
       "    </tr>\n",
       "  </thead>\n",
       "  <tbody>\n",
       "    <tr>\n",
       "      <td>0</td>\n",
       "      <td>0</td>\n",
       "      <td>0</td>\n",
       "      <td>15</td>\n",
       "      <td>0</td>\n",
       "      <td>0</td>\n",
       "      <td>1</td>\n",
       "      <td>1</td>\n",
       "      <td>1</td>\n",
       "      <td>0</td>\n",
       "      <td>2</td>\n",
       "      <td>...</td>\n",
       "      <td>3</td>\n",
       "      <td>1</td>\n",
       "      <td>2</td>\n",
       "      <td>1</td>\n",
       "      <td>1</td>\n",
       "      <td>1</td>\n",
       "      <td>4</td>\n",
       "      <td>13</td>\n",
       "      <td>13</td>\n",
       "      <td>13</td>\n",
       "    </tr>\n",
       "    <tr>\n",
       "      <td>1</td>\n",
       "      <td>0</td>\n",
       "      <td>0</td>\n",
       "      <td>15</td>\n",
       "      <td>0</td>\n",
       "      <td>0</td>\n",
       "      <td>1</td>\n",
       "      <td>1</td>\n",
       "      <td>1</td>\n",
       "      <td>2</td>\n",
       "      <td>2</td>\n",
       "      <td>...</td>\n",
       "      <td>3</td>\n",
       "      <td>3</td>\n",
       "      <td>4</td>\n",
       "      <td>2</td>\n",
       "      <td>4</td>\n",
       "      <td>5</td>\n",
       "      <td>2</td>\n",
       "      <td>13</td>\n",
       "      <td>11</td>\n",
       "      <td>11</td>\n",
       "    </tr>\n",
       "    <tr>\n",
       "      <td>2</td>\n",
       "      <td>0</td>\n",
       "      <td>0</td>\n",
       "      <td>15</td>\n",
       "      <td>0</td>\n",
       "      <td>0</td>\n",
       "      <td>1</td>\n",
       "      <td>2</td>\n",
       "      <td>2</td>\n",
       "      <td>0</td>\n",
       "      <td>2</td>\n",
       "      <td>...</td>\n",
       "      <td>4</td>\n",
       "      <td>3</td>\n",
       "      <td>1</td>\n",
       "      <td>1</td>\n",
       "      <td>1</td>\n",
       "      <td>2</td>\n",
       "      <td>8</td>\n",
       "      <td>14</td>\n",
       "      <td>13</td>\n",
       "      <td>12</td>\n",
       "    </tr>\n",
       "    <tr>\n",
       "      <td>3</td>\n",
       "      <td>0</td>\n",
       "      <td>0</td>\n",
       "      <td>15</td>\n",
       "      <td>0</td>\n",
       "      <td>0</td>\n",
       "      <td>1</td>\n",
       "      <td>2</td>\n",
       "      <td>4</td>\n",
       "      <td>3</td>\n",
       "      <td>1</td>\n",
       "      <td>...</td>\n",
       "      <td>4</td>\n",
       "      <td>3</td>\n",
       "      <td>2</td>\n",
       "      <td>1</td>\n",
       "      <td>1</td>\n",
       "      <td>5</td>\n",
       "      <td>2</td>\n",
       "      <td>10</td>\n",
       "      <td>11</td>\n",
       "      <td>10</td>\n",
       "    </tr>\n",
       "    <tr>\n",
       "      <td>4</td>\n",
       "      <td>0</td>\n",
       "      <td>0</td>\n",
       "      <td>15</td>\n",
       "      <td>0</td>\n",
       "      <td>0</td>\n",
       "      <td>1</td>\n",
       "      <td>3</td>\n",
       "      <td>3</td>\n",
       "      <td>3</td>\n",
       "      <td>3</td>\n",
       "      <td>...</td>\n",
       "      <td>4</td>\n",
       "      <td>2</td>\n",
       "      <td>1</td>\n",
       "      <td>2</td>\n",
       "      <td>3</td>\n",
       "      <td>3</td>\n",
       "      <td>2</td>\n",
       "      <td>13</td>\n",
       "      <td>13</td>\n",
       "      <td>13</td>\n",
       "    </tr>\n",
       "  </tbody>\n",
       "</table>\n",
       "<p>5 rows × 53 columns</p>\n",
       "</div>"
      ],
      "text/plain": [
       "   school  sex  age  address  famsize  Pstatus  Medu  Fedu  Mjob  Fjob  ...  \\\n",
       "0       0    0   15        0        0        1     1     1     0     2  ...   \n",
       "1       0    0   15        0        0        1     1     1     2     2  ...   \n",
       "2       0    0   15        0        0        1     2     2     0     2  ...   \n",
       "3       0    0   15        0        0        1     2     4     3     1  ...   \n",
       "4       0    0   15        0        0        1     3     3     3     3  ...   \n",
       "\n",
       "   famrel.y  freetime.y  goout.y  Dalc.y  Walc.y  health.y  absences.y  G1.y  \\\n",
       "0         3           1        2       1       1         1           4    13   \n",
       "1         3           3        4       2       4         5           2    13   \n",
       "2         4           3        1       1       1         2           8    14   \n",
       "3         4           3        2       1       1         5           2    10   \n",
       "4         4           2        1       2       3         3           2    13   \n",
       "\n",
       "   G2.y  G3.y  \n",
       "0    13    13  \n",
       "1    11    11  \n",
       "2    13    12  \n",
       "3    11    10  \n",
       "4    13    13  \n",
       "\n",
       "[5 rows x 53 columns]"
      ]
     },
     "execution_count": 3,
     "metadata": {},
     "output_type": "execute_result"
    }
   ],
   "source": [
    "df.head()"
   ]
  },
  {
   "cell_type": "code",
   "execution_count": 4,
   "metadata": {},
   "outputs": [],
   "source": [
    "df = df.rename(columns = {'Unnamed: 0':'ID'})"
   ]
  },
  {
   "cell_type": "code",
   "execution_count": 5,
   "metadata": {},
   "outputs": [
    {
     "data": {
      "text/plain": [
       "Index(['school', 'sex', 'age', 'address', 'famsize', 'Pstatus', 'Medu', 'Fedu',\n",
       "       'Mjob', 'Fjob', 'reason', 'nursery', 'internet', 'guardian.x',\n",
       "       'traveltime.x', 'studytime.x', 'failures.x', 'schoolsup.x', 'famsup.x',\n",
       "       'paid.x', 'activities.x', 'higher.x', 'romantic.x', 'famrel.x',\n",
       "       'freetime.x', 'goout.x', 'Dalc.x', 'Walc.x', 'health.x', 'absences.x',\n",
       "       'G1.x', 'G2.x', 'G3.x', 'guardian.y', 'traveltime.y', 'studytime.y',\n",
       "       'failures.y', 'schoolsup.y', 'famsup.y', 'paid.y', 'activities.y',\n",
       "       'higher.y', 'romantic.y', 'famrel.y', 'freetime.y', 'goout.y', 'Dalc.y',\n",
       "       'Walc.y', 'health.y', 'absences.y', 'G1.y', 'G2.y', 'G3.y'],\n",
       "      dtype='object')"
      ]
     },
     "execution_count": 5,
     "metadata": {},
     "output_type": "execute_result"
    }
   ],
   "source": [
    "df.columns"
   ]
  },
  {
   "cell_type": "code",
   "execution_count": 6,
   "metadata": {},
   "outputs": [],
   "source": [
    "xfeatures=['school', 'sex', 'age', 'address', 'famsize', 'Pstatus', 'Medu', 'Fedu',\n",
    "       'Mjob', 'Fjob', 'reason', 'nursery', 'internet', 'guardian.x',\n",
    "       'traveltime.x', 'studytime.x', 'failures.x', 'schoolsup.x', 'famsup.x',\n",
    "       'paid.x', 'activities.x', 'higher.x', 'romantic.x', 'famrel.x',\n",
    "       'freetime.x', 'goout.x', 'Dalc.x', 'Walc.x', 'health.x', 'absences.x','G1.x','G3.x']"
   ]
  },
  {
   "cell_type": "code",
   "execution_count": 7,
   "metadata": {},
   "outputs": [],
   "source": [
    "yfeatures = ['school', 'sex', 'age', 'address', 'famsize', 'Pstatus', 'Medu', 'Fedu',\n",
    "       'Mjob', 'Fjob', 'reason', 'nursery', 'internet','guardian.y', 'traveltime.y', 'studytime.y',\n",
    "       'failures.y', 'schoolsup.y', 'famsup.y', 'paid.y', 'activities.y',\n",
    "       'higher.y', 'romantic.y', 'famrel.y', 'freetime.y', 'goout.y', 'Dalc.y',\n",
    "       'Walc.y', 'health.y', 'absences.y','G1.y','G3.y']"
   ]
  },
  {
   "cell_type": "code",
   "execution_count": 8,
   "metadata": {},
   "outputs": [],
   "source": [
    "keepcol = ['school', 'sex', 'age', 'address', 'famsize', 'Pstatus', 'Medu',\n",
    "       'Fedu', 'Mjob', 'Fjob', 'reason', 'nursery', 'internet', 'guardian.x',\n",
    "       'traveltime.x', 'studytime.x', 'failures.x', 'schoolsup.x', 'famsup.x',\n",
    "       'paid.x', 'activities.x', 'higher.x', 'romantic.x', 'famrel.x',\n",
    "       'freetime.x', 'goout.x', 'Dalc.x', 'Walc.x', 'health.x', 'absences.x',\n",
    "       'G1.x', 'G2.x', 'G3.x', 'guardian.y', 'traveltime.y', 'studytime.y',\n",
    "       'failures.y', 'schoolsup.y', 'famsup.y', 'paid.y', 'activities.y',\n",
    "       'higher.y', 'romantic.y', 'famrel.y', 'freetime.y', 'goout.y', 'Dalc.y',\n",
    "       'Walc.y', 'health.y', 'absences.y', 'G1.y', 'G2.y', 'G3.y']"
   ]
  },
  {
   "cell_type": "code",
   "execution_count": 9,
   "metadata": {},
   "outputs": [],
   "source": [
    "fildf = df.loc[:,keepcol]"
   ]
  },
  {
   "cell_type": "code",
   "execution_count": 10,
   "metadata": {},
   "outputs": [],
   "source": [
    "fildf_x = fildf.loc[:,xfeatures]"
   ]
  },
  {
   "cell_type": "code",
   "execution_count": 11,
   "metadata": {},
   "outputs": [],
   "source": [
    "fildf_y = fildf.loc[:,yfeatures]"
   ]
  },
  {
   "cell_type": "code",
   "execution_count": 12,
   "metadata": {},
   "outputs": [
    {
     "data": {
      "text/plain": [
       "(882, 32)"
      ]
     },
     "execution_count": 12,
     "metadata": {},
     "output_type": "execute_result"
    }
   ],
   "source": [
    "fildf_x.shape"
   ]
  },
  {
   "cell_type": "code",
   "execution_count": 13,
   "metadata": {},
   "outputs": [
    {
     "data": {
      "text/plain": [
       "(882, 32)"
      ]
     },
     "execution_count": 13,
     "metadata": {},
     "output_type": "execute_result"
    }
   ],
   "source": [
    "fildf_y.shape"
   ]
  },
  {
   "cell_type": "code",
   "execution_count": 14,
   "metadata": {},
   "outputs": [],
   "source": [
    "def convertmarks(mark):\n",
    "    if mark<10:\n",
    "        return 'B'\n",
    "    else:\n",
    "        return 'A'"
   ]
  },
  {
   "cell_type": "code",
   "execution_count": 15,
   "metadata": {},
   "outputs": [],
   "source": [
    "newlist=[]\n",
    "for i in fildf_x['G1.x']:\n",
    "    x = convertmarks(i)\n",
    "    newlist.append(x)\n",
    "fildf_x['New G1'] = newlist"
   ]
  },
  {
   "cell_type": "code",
   "execution_count": 16,
   "metadata": {},
   "outputs": [],
   "source": [
    "newlist=[]\n",
    "for i in fildf_y['G1.y']:\n",
    "    x = convertmarks(i)\n",
    "    newlist.append(x)\n",
    "fildf_y['New G1'] = newlist"
   ]
  },
  {
   "cell_type": "code",
   "execution_count": 17,
   "metadata": {},
   "outputs": [],
   "source": [
    "newlist=[]\n",
    "for i in fildf_x['G3.x']:\n",
    "    x = convertmarks(i)\n",
    "    newlist.append(x)\n",
    "fildf_x['New G3'] = newlist"
   ]
  },
  {
   "cell_type": "code",
   "execution_count": 18,
   "metadata": {},
   "outputs": [],
   "source": [
    "newlist=[]\n",
    "for i in fildf_y['G3.y']:\n",
    "    x = convertmarks(i)\n",
    "    newlist.append(x)\n",
    "fildf_y['New G3'] = newlist"
   ]
  },
  {
   "cell_type": "code",
   "execution_count": 19,
   "metadata": {},
   "outputs": [
    {
     "data": {
      "text/plain": [
       "0      A\n",
       "1      A\n",
       "2      A\n",
       "3      A\n",
       "4      A\n",
       "      ..\n",
       "877    A\n",
       "878    A\n",
       "879    A\n",
       "880    A\n",
       "881    A\n",
       "Name: New G3, Length: 882, dtype: object"
      ]
     },
     "execution_count": 19,
     "metadata": {},
     "output_type": "execute_result"
    }
   ],
   "source": [
    "fildf_y['New G3']"
   ]
  },
  {
   "cell_type": "code",
   "execution_count": 20,
   "metadata": {},
   "outputs": [],
   "source": [
    "label_encoder = preprocessing.LabelEncoder()"
   ]
  },
  {
   "cell_type": "code",
   "execution_count": 21,
   "metadata": {},
   "outputs": [],
   "source": [
    "fildf_x['New G1']= label_encoder.fit_transform(fildf_x['New G1'])\n",
    "fildf_y['New G1']= label_encoder.fit_transform(fildf_y['New G1'])\n",
    "fildf_x['New G3']= label_encoder.fit_transform(fildf_x['New G3'])\n",
    "fildf_y['New G3']= label_encoder.fit_transform(fildf_y['New G3'])"
   ]
  },
  {
   "cell_type": "code",
   "execution_count": 22,
   "metadata": {},
   "outputs": [
    {
     "data": {
      "text/plain": [
       "0      0\n",
       "1      0\n",
       "2      0\n",
       "3      0\n",
       "4      0\n",
       "      ..\n",
       "877    0\n",
       "878    0\n",
       "879    0\n",
       "880    0\n",
       "881    0\n",
       "Name: New G3, Length: 882, dtype: int64"
      ]
     },
     "execution_count": 22,
     "metadata": {},
     "output_type": "execute_result"
    }
   ],
   "source": [
    "fildf_y['New G3']"
   ]
  },
  {
   "cell_type": "code",
   "execution_count": 23,
   "metadata": {},
   "outputs": [],
   "source": [
    "fildf_x = fildf_x.sample(frac=1,random_state=123)\n",
    "fildf_y = fildf_y.sample(frac=1,random_state=123)"
   ]
  },
  {
   "cell_type": "code",
   "execution_count": 24,
   "metadata": {},
   "outputs": [],
   "source": [
    "fildf_x = fildf_x.drop(['G1.x','G3.x'],axis=1)\n",
    "fildf_y = fildf_y.drop(['G1.y','G3.y'],axis=1)"
   ]
  },
  {
   "cell_type": "code",
   "execution_count": 25,
   "metadata": {},
   "outputs": [],
   "source": [
    "features_x_G3 = fildf_x.drop(['New G1','New G3'],axis=1)\n",
    "features_x_G1 = fildf_x.drop(['New G1','New G3'],axis=1)\n",
    "features_y_G3 = fildf_y.drop(['New G1','New G3'],axis=1)\n",
    "features_y_G1 = fildf_y.drop(['New G1','New G3'],axis=1)"
   ]
  },
  {
   "cell_type": "code",
   "execution_count": 26,
   "metadata": {},
   "outputs": [],
   "source": [
    "target_x_G3 = fildf_x['New G3']\n",
    "target_x_G1 = fildf_x['New G1']\n",
    "target_y_G3 = fildf_x['New G3']\n",
    "target_y_G1 = fildf_x['New G1']"
   ]
  },
  {
   "cell_type": "code",
   "execution_count": 27,
   "metadata": {},
   "outputs": [],
   "source": [
    "X_train_x_G1, X_test_x_G1, y_train_x_G1, y_test_x_G1 = train_test_split(features_x_G1, target_x_G1, test_size=0.25, random_state=0)\n",
    "X_train_y_G1, X_test_y_G1, y_train_y_G1, y_test_y_G1 = train_test_split(features_y_G1, target_y_G1, test_size=0.25, random_state=0)"
   ]
  },
  {
   "cell_type": "code",
   "execution_count": 28,
   "metadata": {},
   "outputs": [],
   "source": [
    "X_train_x_G3, X_test_x_G3, y_train_x_G3, y_test_x_G3 = train_test_split(features_x_G3, target_x_G3, test_size=0.25, random_state=0)\n",
    "X_train_y_G3, X_test_y_G3, y_train_y_G3, y_test_y_G3 = train_test_split(features_y_G3, target_y_G3, test_size=0.25, random_state=0)"
   ]
  },
  {
   "cell_type": "markdown",
   "metadata": {},
   "source": [
    "### Naive Bayes"
   ]
  },
  {
   "cell_type": "code",
   "execution_count": 29,
   "metadata": {},
   "outputs": [],
   "source": [
    "clf = GaussianNB()"
   ]
  },
  {
   "cell_type": "code",
   "execution_count": 30,
   "metadata": {},
   "outputs": [
    {
     "name": "stdout",
     "output_type": "stream",
     "text": [
      "              precision    recall  f1-score   support\n",
      "\n",
      "           0       0.93      0.85      0.89       178\n",
      "           1       0.55      0.74      0.63        43\n",
      "\n",
      "    accuracy                           0.83       221\n",
      "   macro avg       0.74      0.80      0.76       221\n",
      "weighted avg       0.86      0.83      0.84       221\n",
      "\n",
      "Kappa Score: 0.5282409277101483\n"
     ]
    }
   ],
   "source": [
    "clf.fit(X_train_x_G1,y_train_x_G1)\n",
    "y_pred_x_G1= clf.predict(X_test_x_G1)\n",
    "y_pred_x_G1_Prob = clf.predict_proba(X_test_x_G1)\n",
    "print(classification_report(y_pred_x_G1,y_test_x_G1))\n",
    "print(\"Kappa Score: \" +str(cohen_kappa_score(y_pred_x_G1,y_test_x_G1)))"
   ]
  },
  {
   "cell_type": "code",
   "execution_count": 31,
   "metadata": {},
   "outputs": [
    {
     "name": "stdout",
     "output_type": "stream",
     "text": [
      "              precision    recall  f1-score   support\n",
      "\n",
      "           0       0.91      0.83      0.87       164\n",
      "           1       0.61      0.75      0.67        57\n",
      "\n",
      "    accuracy                           0.81       221\n",
      "   macro avg       0.76      0.79      0.77       221\n",
      "weighted avg       0.83      0.81      0.82       221\n",
      "\n",
      "Kappa Score: 0.5403585223333663\n"
     ]
    }
   ],
   "source": [
    "clf.fit(X_train_x_G3,y_train_x_G3)\n",
    "y_pred_x_G3= clf.predict(X_test_x_G3)\n",
    "y_pred_x_G3_Prob = clf.predict_proba(X_test_x_G3)\n",
    "print(classification_report(y_pred_x_G3,y_test_x_G3))\n",
    "print(\"Kappa Score: \" +str(cohen_kappa_score(y_pred_x_G3,y_test_x_G3)))"
   ]
  },
  {
   "cell_type": "code",
   "execution_count": 32,
   "metadata": {},
   "outputs": [],
   "source": [
    "listnew=[]\n",
    "for i in range(len(y_pred_x_G3_Prob)):\n",
    "    listnew.append(y_pred_x_G3_Prob[i][1])\n",
    "listnew.sort(reverse=True)\n",
    "listnew1 = rankdata(listnew, method='dense')"
   ]
  },
  {
   "cell_type": "code",
   "execution_count": 33,
   "metadata": {},
   "outputs": [
    {
     "name": "stdout",
     "output_type": "stream",
     "text": [
      "              precision    recall  f1-score   support\n",
      "\n",
      "           0       0.85      0.74      0.79       187\n",
      "           1       0.17      0.29      0.22        34\n",
      "\n",
      "    accuracy                           0.67       221\n",
      "   macro avg       0.51      0.52      0.51       221\n",
      "weighted avg       0.75      0.67      0.71       221\n",
      "\n",
      "Kappa Score: 0.02904564315352709\n"
     ]
    }
   ],
   "source": [
    "clf.fit(X_train_y_G1,y_train_y_G1)\n",
    "y_pred_y_G1 = clf.predict(X_test_y_G1)\n",
    "\n",
    "print(classification_report(y_pred_y_G1,y_test_y_G1))\n",
    "print(\"Kappa Score: \" +str(cohen_kappa_score(y_pred_y_G1,y_test_y_G1)))"
   ]
  },
  {
   "cell_type": "code",
   "execution_count": 34,
   "metadata": {},
   "outputs": [
    {
     "name": "stdout",
     "output_type": "stream",
     "text": [
      "              precision    recall  f1-score   support\n",
      "\n",
      "           0       0.87      0.70      0.78       188\n",
      "           1       0.20      0.42      0.27        33\n",
      "\n",
      "    accuracy                           0.66       221\n",
      "   macro avg       0.54      0.56      0.52       221\n",
      "weighted avg       0.77      0.66      0.70       221\n",
      "\n",
      "Kappa Score: 0.0820854738222756\n"
     ]
    }
   ],
   "source": [
    "clf.fit(X_train_y_G3,y_train_y_G3)\n",
    "y_pred_y_G3 = clf.predict(X_test_y_G3)\n",
    "print(classification_report(y_pred_y_G3,y_test_y_G3))\n",
    "print(\"Kappa Score: \" +str(cohen_kappa_score(y_pred_y_G3,y_test_y_G3)))"
   ]
  },
  {
   "cell_type": "markdown",
   "metadata": {},
   "source": [
    "### Decision Tree"
   ]
  },
  {
   "cell_type": "code",
   "execution_count": 35,
   "metadata": {},
   "outputs": [],
   "source": [
    "dtc = DecisionTreeClassifier()"
   ]
  },
  {
   "cell_type": "code",
   "execution_count": 36,
   "metadata": {},
   "outputs": [
    {
     "name": "stdout",
     "output_type": "stream",
     "text": [
      "              precision    recall  f1-score   support\n",
      "\n",
      "           0       0.92      0.85      0.88       176\n",
      "           1       0.55      0.71      0.62        45\n",
      "\n",
      "    accuracy                           0.82       221\n",
      "   macro avg       0.74      0.78      0.75       221\n",
      "weighted avg       0.85      0.82      0.83       221\n",
      "\n",
      "Kappa Score: 0.5086929259533717\n",
      "\t\n",
      "Feature failures.x and its importance is 0.38364369260979675\n",
      "Feature Mjob and its importance is 0.07125726940134158\n",
      "Feature Fjob and its importance is 0.06282759504580998\n",
      "Feature absences.x and its importance is 0.05802986273514641\n",
      "Feature goout.x and its importance is 0.04025431319245738\n",
      "Feature health.x and its importance is 0.03811935877666667\n",
      "Feature Fedu and its importance is 0.03738966473000151\n",
      "Feature romantic.x and its importance is 0.031286257404426254\n",
      "Feature Walc.x and its importance is 0.030965136687364322\n",
      "Feature freetime.x and its importance is 0.025742018960626733\n",
      "Feature studytime.x and its importance is 0.024128920748730822\n",
      "Feature age and its importance is 0.024035139713785087\n",
      "Feature nursery and its importance is 0.0209537688192263\n",
      "Feature paid.x and its importance is 0.01780488110451278\n",
      "Feature famrel.x and its importance is 0.0175115836444578\n",
      "Feature sex and its importance is 0.01735137914946981\n",
      "Feature schoolsup.x and its importance is 0.0172228543785403\n",
      "Feature guardian.x and its importance is 0.016189690280267472\n",
      "Feature Medu and its importance is 0.014879024788678615\n",
      "Feature traveltime.x and its importance is 0.010964778731619784\n",
      "Feature activities.x and its importance is 0.008281340048610591\n",
      "Feature famsup.x and its importance is 0.00780232135952429\n",
      "Feature Dalc.x and its importance is 0.006870713612904848\n",
      "Feature Pstatus and its importance is 0.006086784935728787\n",
      "Feature address and its importance is 0.003913690756963818\n",
      "Feature higher.x and its importance is 0.00343994125096131\n",
      "Feature internet and its importance is 0.001548451171196647\n",
      "Feature school and its importance is 0.0014995659611832576\n",
      "Feature reason and its importance is 0.0\n",
      "Feature famsize and its importance is 0.0\n"
     ]
    },
    {
     "data": {
      "text/plain": [
       "([<matplotlib.axis.XTick at 0x7fd791c69d90>,\n",
       "  <matplotlib.axis.XTick at 0x7fd7912edd50>,\n",
       "  <matplotlib.axis.XTick at 0x7fd791c69310>,\n",
       "  <matplotlib.axis.XTick at 0x7fd791da4390>,\n",
       "  <matplotlib.axis.XTick at 0x7fd791da48d0>,\n",
       "  <matplotlib.axis.XTick at 0x7fd791da4e50>,\n",
       "  <matplotlib.axis.XTick at 0x7fd791db2450>,\n",
       "  <matplotlib.axis.XTick at 0x7fd791db29d0>,\n",
       "  <matplotlib.axis.XTick at 0x7fd791db28d0>,\n",
       "  <matplotlib.axis.XTick at 0x7fd791db8510>,\n",
       "  <matplotlib.axis.XTick at 0x7fd791db8a50>,\n",
       "  <matplotlib.axis.XTick at 0x7fd791db8fd0>,\n",
       "  <matplotlib.axis.XTick at 0x7fd791db2950>,\n",
       "  <matplotlib.axis.XTick at 0x7fd791da44d0>,\n",
       "  <matplotlib.axis.XTick at 0x7fd791dbe590>,\n",
       "  <matplotlib.axis.XTick at 0x7fd791dbebd0>,\n",
       "  <matplotlib.axis.XTick at 0x7fd791dc6250>,\n",
       "  <matplotlib.axis.XTick at 0x7fd791dc6890>,\n",
       "  <matplotlib.axis.XTick at 0x7fd791dc6ed0>,\n",
       "  <matplotlib.axis.XTick at 0x7fd791dcb550>,\n",
       "  <matplotlib.axis.XTick at 0x7fd791dc60d0>,\n",
       "  <matplotlib.axis.XTick at 0x7fd791da4850>,\n",
       "  <matplotlib.axis.XTick at 0x7fd791dcb1d0>,\n",
       "  <matplotlib.axis.XTick at 0x7fd791dd6290>,\n",
       "  <matplotlib.axis.XTick at 0x7fd791dd6850>,\n",
       "  <matplotlib.axis.XTick at 0x7fd791dd6e90>,\n",
       "  <matplotlib.axis.XTick at 0x7fd791ddc510>,\n",
       "  <matplotlib.axis.XTick at 0x7fd791ddcb50>,\n",
       "  <matplotlib.axis.XTick at 0x7fd791de2250>,\n",
       "  <matplotlib.axis.XTick at 0x7fd791de2810>],\n",
       " <a list of 30 Text xticklabel objects>)"
      ]
     },
     "execution_count": 36,
     "metadata": {},
     "output_type": "execute_result"
    },
    {
     "data": {
      "image/png": "[encoded data removed]",
      "text/plain": [
       "<Figure size 432x288 with 1 Axes>"
      ]
     },
     "metadata": {
      "needs_background": "light"
     },
     "output_type": "display_data"
    }
   ],
   "source": [
    "imp_dict={}\n",
    "dtc.fit(X_train_x_G1,y_train_x_G1)\n",
    "y_pred_x_G1= dtc.predict(X_test_x_G1)\n",
    "print(classification_report(y_pred_x_G1,y_test_x_G1))\n",
    "print(\"Kappa Score: \" +str(cohen_kappa_score(y_pred_x_G1,y_test_x_G1)))\n",
    "print(\"\\t\")\n",
    "for importance, name in sorted(zip(dtc.feature_importances_, X_train_x_G1.columns),reverse=True):\n",
    "    imp_dict[name] = importance\n",
    "    print('Feature '+name+ ' and its importance is '+str(importance))\n",
    "plt.bar(range(len(imp_dict)), list(imp_dict.values()), align='center')\n",
    "plt.xticks(range(len(imp_dict)), list(imp_dict.keys()),rotation=90)"
   ]
  },
  {
   "cell_type": "code",
   "execution_count": 37,
   "metadata": {},
   "outputs": [
    {
     "name": "stdout",
     "output_type": "stream",
     "text": [
      "              precision    recall  f1-score   support\n",
      "\n",
      "           0       0.91      0.83      0.87       166\n",
      "           1       0.59      0.76      0.67        55\n",
      "\n",
      "    accuracy                           0.81       221\n",
      "   macro avg       0.75      0.79      0.77       221\n",
      "weighted avg       0.83      0.81      0.82       221\n",
      "\n",
      "Kappa Score: 0.536733879017768\n",
      "\t\n",
      "Feature failures.x and its importance is 0.2800278021916689\n",
      "Feature schoolsup.x and its importance is 0.19555760469676134\n",
      "Feature absences.x and its importance is 0.052830003319613385\n",
      "Feature goout.x and its importance is 0.043841411704300684\n",
      "Feature Medu and its importance is 0.03964460314147414\n",
      "Feature age and its importance is 0.03489904336681317\n",
      "Feature reason and its importance is 0.033214712824395726\n",
      "Feature romantic.x and its importance is 0.027417022287573624\n",
      "Feature famrel.x and its importance is 0.027308282809261106\n",
      "Feature Dalc.x and its importance is 0.025612921773329096\n",
      "Feature studytime.x and its importance is 0.023457405690654846\n",
      "Feature paid.x and its importance is 0.022878816436261887\n",
      "Feature Walc.x and its importance is 0.021609561367787394\n",
      "Feature health.x and its importance is 0.02152776315791767\n",
      "Feature freetime.x and its importance is 0.018776966334725503\n",
      "Feature Mjob and its importance is 0.018038700666248103\n",
      "Feature internet and its importance is 0.01803012689482967\n",
      "Feature guardian.x and its importance is 0.01750206691816159\n",
      "Feature famsize and its importance is 0.014714479287650024\n",
      "Feature famsup.x and its importance is 0.014067826717965795\n",
      "Feature traveltime.x and its importance is 0.012911390712998589\n",
      "Feature nursery and its importance is 0.011417817901743779\n",
      "Feature school and its importance is 0.005656824989302525\n",
      "Feature Fedu and its importance is 0.005584827083688235\n",
      "Feature activities.x and its importance is 0.005303273427471118\n",
      "Feature sex and its importance is 0.003791439246156339\n",
      "Feature Fjob and its importance is 0.003535515618314079\n",
      "Feature Pstatus and its importance is 0.0008417894329319252\n",
      "Feature higher.x and its importance is 0.0\n",
      "Feature address and its importance is 0.0\n"
     ]
    },
    {
     "data": {
      "text/plain": [
       "([<matplotlib.axis.XTick at 0x7fd791f63790>,\n",
       "  <matplotlib.axis.XTick at 0x7fd791f65690>,\n",
       "  <matplotlib.axis.XTick at 0x7fd791f65410>,\n",
       "  <matplotlib.axis.XTick at 0x7fd791fae850>,\n",
       "  <matplotlib.axis.XTick at 0x7fd791faed50>,\n",
       "  <matplotlib.axis.XTick at 0x7fd791fb7350>,\n",
       "  <matplotlib.axis.XTick at 0x7fd791fb7a10>,\n",
       "  <matplotlib.axis.XTick at 0x7fd791fb7c50>,\n",
       "  <matplotlib.axis.XTick at 0x7fd791fba290>,\n",
       "  <matplotlib.axis.XTick at 0x7fd791fba850>,\n",
       "  <matplotlib.axis.XTick at 0x7fd791fbae50>,\n",
       "  <matplotlib.axis.XTick at 0x7fd791fc34d0>,\n",
       "  <matplotlib.axis.XTick at 0x7fd791fc3b10>,\n",
       "  <matplotlib.axis.XTick at 0x7fd791fca1d0>,\n",
       "  <matplotlib.axis.XTick at 0x7fd791fca7d0>,\n",
       "  <matplotlib.axis.XTick at 0x7fd791fcae10>,\n",
       "  <matplotlib.axis.XTick at 0x7fd791fc3a10>,\n",
       "  <matplotlib.axis.XTick at 0x7fd791fcaf10>,\n",
       "  <matplotlib.axis.XTick at 0x7fd791fcf510>,\n",
       "  <matplotlib.axis.XTick at 0x7fd791fcfb50>,\n",
       "  <matplotlib.axis.XTick at 0x7fd791fd6250>,\n",
       "  <matplotlib.axis.XTick at 0x7fd791fd6810>,\n",
       "  <matplotlib.axis.XTick at 0x7fd791fd6e50>,\n",
       "  <matplotlib.axis.XTick at 0x7fd791fde4d0>,\n",
       "  <matplotlib.axis.XTick at 0x7fd791fdeb10>,\n",
       "  <matplotlib.axis.XTick at 0x7fd791fd6350>,\n",
       "  <matplotlib.axis.XTick at 0x7fd791fcf910>,\n",
       "  <matplotlib.axis.XTick at 0x7fd791fdea90>,\n",
       "  <matplotlib.axis.XTick at 0x7fd791fe76d0>,\n",
       "  <matplotlib.axis.XTick at 0x7fd791fe7d10>],\n",
       " <a list of 30 Text xticklabel objects>)"
      ]
     },
     "execution_count": 37,
     "metadata": {},
     "output_type": "execute_result"
    },
    {
     "data": {
      "image/png": "[encoded data removed]",
      "text/plain": [
       "<Figure size 432x288 with 1 Axes>"
      ]
     },
     "metadata": {
      "needs_background": "light"
     },
     "output_type": "display_data"
    }
   ],
   "source": [
    "imp_dict={}\n",
    "dtc.fit(X_train_x_G3,y_train_x_G3)\n",
    "y_pred_x_G3= dtc.predict(X_test_x_G3)\n",
    "print(classification_report(y_pred_x_G3,y_test_x_G3))\n",
    "print(\"Kappa Score: \" +str(cohen_kappa_score(y_pred_x_G3,y_test_x_G3)))\n",
    "print(\"\\t\")\n",
    "for importance, name in sorted(zip(dtc.feature_importances_, X_train_x_G3.columns),reverse=True):\n",
    "    imp_dict[name] = importance\n",
    "    print('Feature '+name+ ' and its importance is '+str(importance))\n",
    "plt.bar(range(len(imp_dict)), list(imp_dict.values()), align='center')\n",
    "plt.xticks(range(len(imp_dict)), list(imp_dict.keys()),rotation=90)"
   ]
  },
  {
   "cell_type": "code",
   "execution_count": 38,
   "metadata": {},
   "outputs": [
    {
     "name": "stdout",
     "output_type": "stream",
     "text": [
      "              precision    recall  f1-score   support\n",
      "\n",
      "           0       0.72      0.75      0.74       157\n",
      "           1       0.33      0.30      0.31        64\n",
      "\n",
      "    accuracy                           0.62       221\n",
      "   macro avg       0.53      0.52      0.52       221\n",
      "weighted avg       0.61      0.62      0.61       221\n",
      "\n",
      "Kappa Score: 0.04985157129695983\n",
      "\t\n",
      "Feature age and its importance is 0.09779797930401218\n",
      "Feature absences.y and its importance is 0.07364300581821628\n",
      "Feature famrel.y and its importance is 0.07010948274066729\n",
      "Feature health.y and its importance is 0.05870898476558121\n",
      "Feature Fedu and its importance is 0.0583797684200303\n",
      "Feature Medu and its importance is 0.058005166707284575\n",
      "Feature reason and its importance is 0.05247233841955614\n",
      "Feature studytime.y and its importance is 0.049766715938753925\n",
      "Feature failures.y and its importance is 0.04920026733347319\n",
      "Feature Mjob and its importance is 0.04245574702569704\n",
      "Feature goout.y and its importance is 0.03692210209990586\n",
      "Feature schoolsup.y and its importance is 0.03687590020890603\n",
      "Feature Fjob and its importance is 0.03411460827951991\n",
      "Feature guardian.y and its importance is 0.032102864002797056\n",
      "Feature Dalc.y and its importance is 0.03184505763612772\n",
      "Feature Walc.y and its importance is 0.03088633841353589\n",
      "Feature traveltime.y and its importance is 0.028258918988187057\n",
      "Feature freetime.y and its importance is 0.024481790420732785\n",
      "Feature romantic.y and its importance is 0.022277846196693395\n",
      "Feature school and its importance is 0.01998424879439825\n",
      "Feature nursery and its importance is 0.018937659335195933\n",
      "Feature address and its importance is 0.014653811772612315\n",
      "Feature paid.y and its importance is 0.014103055390623134\n",
      "Feature internet and its importance is 0.012222410099414029\n",
      "Feature famsize and its importance is 0.008814409619139459\n",
      "Feature higher.y and its importance is 0.007068291057258619\n",
      "Feature famsup.y and its importance is 0.005706170437653441\n",
      "Feature Pstatus and its importance is 0.0052458227287995865\n",
      "Feature sex and its importance is 0.004959238045227224\n",
      "Feature activities.y and its importance is 0.0\n"
     ]
    },
    {
     "data": {
      "text/plain": [
       "([<matplotlib.axis.XTick at 0x7fd7920af750>,\n",
       "  <matplotlib.axis.XTick at 0x7fd7920afe10>,\n",
       "  <matplotlib.axis.XTick at 0x7fd7920aff10>,\n",
       "  <matplotlib.axis.XTick at 0x7fd7920d6390>,\n",
       "  <matplotlib.axis.XTick at 0x7fd79216b690>,\n",
       "  <matplotlib.axis.XTick at 0x7fd79216bc50>,\n",
       "  <matplotlib.axis.XTick at 0x7fd792171310>,\n",
       "  <matplotlib.axis.XTick at 0x7fd79216b290>,\n",
       "  <matplotlib.axis.XTick at 0x7fd7921710d0>,\n",
       "  <matplotlib.axis.XTick at 0x7fd792171ad0>,\n",
       "  <matplotlib.axis.XTick at 0x7fd792177610>,\n",
       "  <matplotlib.axis.XTick at 0x7fd792177c50>,\n",
       "  <matplotlib.axis.XTick at 0x7fd79217d2d0>,\n",
       "  <matplotlib.axis.XTick at 0x7fd79217d910>,\n",
       "  <matplotlib.axis.XTick at 0x7fd79217d7d0>,\n",
       "  <matplotlib.axis.XTick at 0x7fd7921845d0>,\n",
       "  <matplotlib.axis.XTick at 0x7fd79217d150>,\n",
       "  <matplotlib.axis.XTick at 0x7fd792171fd0>,\n",
       "  <matplotlib.axis.XTick at 0x7fd792184410>,\n",
       "  <matplotlib.axis.XTick at 0x7fd79218d310>,\n",
       "  <matplotlib.axis.XTick at 0x7fd79218d950>,\n",
       "  <matplotlib.axis.XTick at 0x7fd79218d810>,\n",
       "  <matplotlib.axis.XTick at 0x7fd792193610>,\n",
       "  <matplotlib.axis.XTick at 0x7fd792193c50>,\n",
       "  <matplotlib.axis.XTick at 0x7fd79219a2d0>,\n",
       "  <matplotlib.axis.XTick at 0x7fd79219a910>,\n",
       "  <matplotlib.axis.XTick at 0x7fd7921936d0>,\n",
       "  <matplotlib.axis.XTick at 0x7fd79218d9d0>,\n",
       "  <matplotlib.axis.XTick at 0x7fd79219ae50>,\n",
       "  <matplotlib.axis.XTick at 0x7fd7921a14d0>],\n",
       " <a list of 30 Text xticklabel objects>)"
      ]
     },
     "execution_count": 38,
     "metadata": {},
     "output_type": "execute_result"
    },
    {
     "data": {
      "image/png": "[encoded data removed]",
      "text/plain": [
       "<Figure size 432x288 with 1 Axes>"
      ]
     },
     "metadata": {
      "needs_background": "light"
     },
     "output_type": "display_data"
    }
   ],
   "source": [
    "imp_dict={}\n",
    "dtc.fit(X_train_y_G1,y_train_y_G1)\n",
    "y_pred_y_G1 = dtc.predict(X_test_y_G1)\n",
    "print(classification_report(y_pred_y_G1,y_test_y_G1))\n",
    "print(\"Kappa Score: \" +str(cohen_kappa_score(y_pred_y_G1,y_test_y_G1)))\n",
    "print(\"\\t\")\n",
    "for importance, name in sorted(zip(dtc.feature_importances_, X_train_y_G1.columns),reverse=True):\n",
    "    imp_dict[name] = importance\n",
    "    print ('Feature '+name+ ' and its importance is '+str(importance))\n",
    "plt.bar(range(len(imp_dict)), list(imp_dict.values()), align='center')\n",
    "plt.xticks(range(len(imp_dict)), list(imp_dict.keys()),rotation=90)"
   ]
  },
  {
   "cell_type": "code",
   "execution_count": 39,
   "metadata": {},
   "outputs": [
    {
     "name": "stdout",
     "output_type": "stream",
     "text": [
      "              precision    recall  f1-score   support\n",
      "\n",
      "           0       0.68      0.71      0.70       143\n",
      "           1       0.42      0.38      0.40        78\n",
      "\n",
      "    accuracy                           0.60       221\n",
      "   macro avg       0.55      0.55      0.55       221\n",
      "weighted avg       0.59      0.60      0.59       221\n",
      "\n",
      "Kappa Score: 0.09994051160023787\n",
      "\t\n",
      "Feature freetime.y and its importance is 0.0883405914062042\n",
      "Feature goout.y and its importance is 0.08669292709070524\n",
      "Feature famrel.y and its importance is 0.07528592695842166\n",
      "Feature age and its importance is 0.06655999231624324\n",
      "Feature romantic.y and its importance is 0.04988831643287165\n",
      "Feature absences.y and its importance is 0.04628198039396578\n",
      "Feature Fjob and its importance is 0.04597429814086422\n",
      "Feature Medu and its importance is 0.04333320013748832\n",
      "Feature Walc.y and its importance is 0.041267451976306074\n",
      "Feature address and its importance is 0.037705087734622514\n",
      "Feature Mjob and its importance is 0.037631285207123055\n",
      "Feature health.y and its importance is 0.033357786583271244\n",
      "Feature Dalc.y and its importance is 0.03163477245230587\n",
      "Feature activities.y and its importance is 0.03131941803540002\n",
      "Feature traveltime.y and its importance is 0.028704539001211823\n",
      "Feature sex and its importance is 0.028317635430163652\n",
      "Feature school and its importance is 0.027917400899236073\n",
      "Feature failures.y and its importance is 0.02582974183973227\n",
      "Feature reason and its importance is 0.02541461647098255\n",
      "Feature nursery and its importance is 0.023492219371306453\n",
      "Feature guardian.y and its importance is 0.022662581169855044\n",
      "Feature Fedu and its importance is 0.021041291549405407\n",
      "Feature famsup.y and its importance is 0.0176505154367267\n",
      "Feature studytime.y and its importance is 0.016854617961512334\n",
      "Feature schoolsup.y and its importance is 0.014307651879634387\n",
      "Feature paid.y and its importance is 0.013365695362134798\n",
      "Feature famsize and its importance is 0.013095523163611122\n",
      "Feature higher.y and its importance is 0.003132523701925787\n",
      "Feature internet and its importance is 0.0029404118967686324\n",
      "Feature Pstatus and its importance is 0.0\n"
     ]
    },
    {
     "data": {
      "text/plain": [
       "([<matplotlib.axis.XTick at 0x7fd79226e0d0>,\n",
       "  <matplotlib.axis.XTick at 0x7fd792269a50>,\n",
       "  <matplotlib.axis.XTick at 0x7fd7922697d0>,\n",
       "  <matplotlib.axis.XTick at 0x7fd79231da50>,\n",
       "  <matplotlib.axis.XTick at 0x7fd79231df10>,\n",
       "  <matplotlib.axis.XTick at 0x7fd792327590>,\n",
       "  <matplotlib.axis.XTick at 0x7fd792327c10>,\n",
       "  <matplotlib.axis.XTick at 0x7fd792327110>,\n",
       "  <matplotlib.axis.XTick at 0x7fd79232c250>,\n",
       "  <matplotlib.axis.XTick at 0x7fd79232c910>,\n",
       "  <matplotlib.axis.XTick at 0x7fd79232cf10>,\n",
       "  <matplotlib.axis.XTick at 0x7fd792334590>,\n",
       "  <matplotlib.axis.XTick at 0x7fd792334bd0>,\n",
       "  <matplotlib.axis.XTick at 0x7fd79233b250>,\n",
       "  <matplotlib.axis.XTick at 0x7fd79233b890>,\n",
       "  <matplotlib.axis.XTick at 0x7fd79233bed0>,\n",
       "  <matplotlib.axis.XTick at 0x7fd79233b650>,\n",
       "  <matplotlib.axis.XTick at 0x7fd7923340d0>,\n",
       "  <matplotlib.axis.XTick at 0x7fd792341410>,\n",
       "  <matplotlib.axis.XTick at 0x7fd792341c10>,\n",
       "  <matplotlib.axis.XTick at 0x7fd792349290>,\n",
       "  <matplotlib.axis.XTick at 0x7fd7923498d0>,\n",
       "  <matplotlib.axis.XTick at 0x7fd792349f10>,\n",
       "  <matplotlib.axis.XTick at 0x7fd792351590>,\n",
       "  <matplotlib.axis.XTick at 0x7fd792351bd0>,\n",
       "  <matplotlib.axis.XTick at 0x7fd792358250>,\n",
       "  <matplotlib.axis.XTick at 0x7fd792351650>,\n",
       "  <matplotlib.axis.XTick at 0x7fd7923419d0>,\n",
       "  <matplotlib.axis.XTick at 0x7fd792358790>,\n",
       "  <matplotlib.axis.XTick at 0x7fd792358dd0>],\n",
       " <a list of 30 Text xticklabel objects>)"
      ]
     },
     "execution_count": 39,
     "metadata": {},
     "output_type": "execute_result"
    },
    {
     "data": {
      "image/png": "[encoded data removed]",
      "text/plain": [
       "<Figure size 432x288 with 1 Axes>"
      ]
     },
     "metadata": {
      "needs_background": "light"
     },
     "output_type": "display_data"
    }
   ],
   "source": [
    "imp_dict={}\n",
    "dtc.fit(X_train_y_G3,y_train_y_G3)\n",
    "y_pred_y_G3 = dtc.predict(X_test_y_G3)\n",
    "print(classification_report(y_pred_y_G3,y_test_y_G3))\n",
    "print(\"Kappa Score: \" +str(cohen_kappa_score(y_pred_y_G3,y_test_y_G3)))\n",
    "print(\"\\t\")\n",
    "for importance, name in sorted(zip(dtc.feature_importances_, X_train_y_G3.columns),reverse=True):\n",
    "    imp_dict[name] = importance\n",
    "    print ('Feature '+name+ ' and its importance is '+str(importance))\n",
    "plt.bar(range(len(imp_dict)), list(imp_dict.values()), align='center')\n",
    "plt.xticks(range(len(imp_dict)), list(imp_dict.keys()),rotation=90)"
   ]
  },
  {
   "cell_type": "markdown",
   "metadata": {},
   "source": [
    "### Random Forest Classifier"
   ]
  },
  {
   "cell_type": "code",
   "execution_count": 40,
   "metadata": {},
   "outputs": [],
   "source": [
    "rf = RandomForestClassifier()"
   ]
  },
  {
   "cell_type": "code",
   "execution_count": 41,
   "metadata": {},
   "outputs": [
    {
     "name": "stdout",
     "output_type": "stream",
     "text": [
      "              precision    recall  f1-score   support\n",
      "\n",
      "           0       0.99      0.87      0.93       187\n",
      "           1       0.57      0.97      0.72        34\n",
      "\n",
      "    accuracy                           0.88       221\n",
      "   macro avg       0.78      0.92      0.82       221\n",
      "weighted avg       0.93      0.88      0.89       221\n",
      "\n",
      "Kappa Score: 0.6493775933609959\n",
      "\t\n",
      "Feature failures.x and its importance is 0.27925443516203696\n",
      "Feature absences.x and its importance is 0.05661004697896576\n",
      "Feature Fedu and its importance is 0.03976325545827741\n",
      "Feature Fjob and its importance is 0.038691186285450416\n",
      "Feature Walc.x and its importance is 0.03778877388334139\n",
      "Feature age and its importance is 0.03723277713875338\n",
      "Feature Mjob and its importance is 0.036376219831759024\n",
      "Feature Medu and its importance is 0.035128872954397275\n",
      "Feature goout.x and its importance is 0.03396386824434403\n",
      "Feature health.x and its importance is 0.03341290166831001\n",
      "Feature freetime.x and its importance is 0.033139868188554716\n",
      "Feature studytime.x and its importance is 0.032177771943690384\n",
      "Feature reason and its importance is 0.032002702431248906\n",
      "Feature famrel.x and its importance is 0.02786531460517886\n",
      "Feature Dalc.x and its importance is 0.02506295787780429\n",
      "Feature traveltime.x and its importance is 0.022155935251763608\n",
      "Feature schoolsup.x and its importance is 0.021259254165313404\n",
      "Feature guardian.x and its importance is 0.021070710891524656\n",
      "Feature sex and its importance is 0.018645843354495206\n",
      "Feature activities.x and its importance is 0.016191400892657113\n",
      "Feature romantic.x and its importance is 0.01608710172930863\n",
      "Feature famsup.x and its importance is 0.01545885614058867\n",
      "Feature paid.x and its importance is 0.0154255735030365\n",
      "Feature famsize and its importance is 0.01438393915315111\n",
      "Feature nursery and its importance is 0.013094093708617261\n",
      "Feature address and its importance is 0.012481566984806796\n",
      "Feature internet and its importance is 0.011950909114184814\n",
      "Feature higher.x and its importance is 0.008041827704194255\n",
      "Feature school and its importance is 0.007834292606434612\n",
      "Feature Pstatus and its importance is 0.007447742147810357\n"
     ]
    },
    {
     "data": {
      "text/plain": [
       "([<matplotlib.axis.XTick at 0x7fd79242d350>,\n",
       "  <matplotlib.axis.XTick at 0x7fd792430590>,\n",
       "  <matplotlib.axis.XTick at 0x7fd792430810>,\n",
       "  <matplotlib.axis.XTick at 0x7fd792611c10>,\n",
       "  <matplotlib.axis.XTick at 0x7fd792611f90>,\n",
       "  <matplotlib.axis.XTick at 0x7fd79261e7d0>,\n",
       "  <matplotlib.axis.XTick at 0x7fd79261ee50>,\n",
       "  <matplotlib.axis.XTick at 0x7fd792623510>,\n",
       "  <matplotlib.axis.XTick at 0x7fd792623a10>,\n",
       "  <matplotlib.axis.XTick at 0x7fd792623d50>,\n",
       "  <matplotlib.axis.XTick at 0x7fd792629690>,\n",
       "  <matplotlib.axis.XTick at 0x7fd792629cd0>,\n",
       "  <matplotlib.axis.XTick at 0x7fd792629610>,\n",
       "  <matplotlib.axis.XTick at 0x7fd79261ec50>,\n",
       "  <matplotlib.axis.XTick at 0x7fd792630290>,\n",
       "  <matplotlib.axis.XTick at 0x7fd792630890>,\n",
       "  <matplotlib.axis.XTick at 0x7fd792630ed0>,\n",
       "  <matplotlib.axis.XTick at 0x7fd792638550>,\n",
       "  <matplotlib.axis.XTick at 0x7fd792638b90>,\n",
       "  <matplotlib.axis.XTick at 0x7fd79263f290>,\n",
       "  <matplotlib.axis.XTick at 0x7fd79263f850>,\n",
       "  <matplotlib.axis.XTick at 0x7fd79263fe90>,\n",
       "  <matplotlib.axis.XTick at 0x7fd792638950>,\n",
       "  <matplotlib.axis.XTick at 0x7fd79261ed50>,\n",
       "  <matplotlib.axis.XTick at 0x7fd792646490>,\n",
       "  <matplotlib.axis.XTick at 0x7fd792646ad0>,\n",
       "  <matplotlib.axis.XTick at 0x7fd79264d190>,\n",
       "  <matplotlib.axis.XTick at 0x7fd79264d790>,\n",
       "  <matplotlib.axis.XTick at 0x7fd79264ddd0>,\n",
       "  <matplotlib.axis.XTick at 0x7fd792653450>],\n",
       " <a list of 30 Text xticklabel objects>)"
      ]
     },
     "execution_count": 41,
     "metadata": {},
     "output_type": "execute_result"
    },
    {
     "data": {
      "image/png": "[encoded data removed]",
      "text/plain": [
       "<Figure size 432x288 with 1 Axes>"
      ]
     },
     "metadata": {
      "needs_background": "light"
     },
     "output_type": "display_data"
    }
   ],
   "source": [
    "imp_dict={}\n",
    "rf.fit(X_train_x_G1,y_train_x_G1)\n",
    "y_pred_x_G1= rf.predict(X_test_x_G1)\n",
    "print(classification_report(y_pred_x_G1,y_test_x_G1))\n",
    "print(\"Kappa Score: \" +str(cohen_kappa_score(y_pred_x_G1,y_test_x_G1)))\n",
    "print(\"\\t\")\n",
    "for importance, name in sorted(zip(rf.feature_importances_, X_train_x_G1.columns),reverse=True):\n",
    "    imp_dict[name] = importance\n",
    "    print('Feature '+name+ ' and its importance is '+str(importance))\n",
    "plt.bar(range(len(imp_dict)), list(imp_dict.values()), align='center')\n",
    "plt.xticks(range(len(imp_dict)), list(imp_dict.keys()),rotation=90)"
   ]
  },
  {
   "cell_type": "code",
   "execution_count": 42,
   "metadata": {},
   "outputs": [
    {
     "name": "stdout",
     "output_type": "stream",
     "text": [
      "              precision    recall  f1-score   support\n",
      "\n",
      "           0       0.97      0.85      0.91       170\n",
      "           1       0.65      0.90      0.75        51\n",
      "\n",
      "    accuracy                           0.86       221\n",
      "   macro avg       0.81      0.88      0.83       221\n",
      "weighted avg       0.89      0.86      0.87       221\n",
      "\n",
      "Kappa Score: 0.6637931034482758\n",
      "\t\n",
      "Feature failures.x and its importance is 0.22880396588711946\n",
      "Feature schoolsup.x and its importance is 0.12002910259218931\n",
      "Feature absences.x and its importance is 0.0645287332331319\n",
      "Feature Mjob and its importance is 0.037573493086455155\n",
      "Feature goout.x and its importance is 0.03652025115788442\n",
      "Feature age and its importance is 0.03598443827069213\n",
      "Feature Walc.x and its importance is 0.03457291964351695\n",
      "Feature freetime.x and its importance is 0.034316886694587864\n",
      "Feature Fedu and its importance is 0.031896908244142895\n",
      "Feature health.x and its importance is 0.03138030935219049\n",
      "Feature Medu and its importance is 0.0303562582378594\n",
      "Feature famrel.x and its importance is 0.02686667814656883\n",
      "Feature reason and its importance is 0.026646115198060035\n",
      "Feature studytime.x and its importance is 0.026000417607399823\n",
      "Feature Fjob and its importance is 0.024513937870345816\n",
      "Feature traveltime.x and its importance is 0.02202277631394981\n",
      "Feature Dalc.x and its importance is 0.020610009501132204\n",
      "Feature guardian.x and its importance is 0.019173685225983658\n",
      "Feature sex and its importance is 0.016681914289383495\n",
      "Feature romantic.x and its importance is 0.016336992632637985\n",
      "Feature paid.x and its importance is 0.01426959181456473\n",
      "Feature activities.x and its importance is 0.01361803307351936\n",
      "Feature famsup.x and its importance is 0.012794729417315227\n",
      "Feature famsize and its importance is 0.011915294969005768\n",
      "Feature internet and its importance is 0.011287735201740267\n",
      "Feature higher.x and its importance is 0.011262594171078168\n",
      "Feature nursery and its importance is 0.010568738309799734\n",
      "Feature address and its importance is 0.010553346510592344\n",
      "Feature Pstatus and its importance is 0.00973019905435775\n",
      "Feature school and its importance is 0.009183944292795006\n"
     ]
    },
    {
     "data": {
      "text/plain": [
       "([<matplotlib.axis.XTick at 0x7fd79271c050>,\n",
       "  <matplotlib.axis.XTick at 0x7fd7921efb50>,\n",
       "  <matplotlib.axis.XTick at 0x7fd79270b890>,\n",
       "  <matplotlib.axis.XTick at 0x7fd7927be490>,\n",
       "  <matplotlib.axis.XTick at 0x7fd7927bea10>,\n",
       "  <matplotlib.axis.XTick at 0x7fd7927bed50>,\n",
       "  <matplotlib.axis.XTick at 0x7fd7927c6710>,\n",
       "  <matplotlib.axis.XTick at 0x7fd7927c6c90>,\n",
       "  <matplotlib.axis.XTick at 0x7fd7927c6f10>,\n",
       "  <matplotlib.axis.XTick at 0x7fd7927cb410>,\n",
       "  <matplotlib.axis.XTick at 0x7fd7927cba10>,\n",
       "  <matplotlib.axis.XTick at 0x7fd7927cbd50>,\n",
       "  <matplotlib.axis.XTick at 0x7fd7927d2690>,\n",
       "  <matplotlib.axis.XTick at 0x7fd7927d2c10>,\n",
       "  <matplotlib.axis.XTick at 0x7fd7927d9290>,\n",
       "  <matplotlib.axis.XTick at 0x7fd7927d98d0>,\n",
       "  <matplotlib.axis.XTick at 0x7fd7927d9f10>,\n",
       "  <matplotlib.axis.XTick at 0x7fd7927d2750>,\n",
       "  <matplotlib.axis.XTick at 0x7fd7927c6250>,\n",
       "  <matplotlib.axis.XTick at 0x7fd7927e0610>,\n",
       "  <matplotlib.axis.XTick at 0x7fd7927e0c50>,\n",
       "  <matplotlib.axis.XTick at 0x7fd7927e72d0>,\n",
       "  <matplotlib.axis.XTick at 0x7fd7927e7910>,\n",
       "  <matplotlib.axis.XTick at 0x7fd7927e77d0>,\n",
       "  <matplotlib.axis.XTick at 0x7fd7927ed5d0>,\n",
       "  <matplotlib.axis.XTick at 0x7fd7927edc10>,\n",
       "  <matplotlib.axis.XTick at 0x7fd7927edad0>,\n",
       "  <matplotlib.axis.XTick at 0x7fd7927c6050>,\n",
       "  <matplotlib.axis.XTick at 0x7fd7927f61d0>,\n",
       "  <matplotlib.axis.XTick at 0x7fd7927f67d0>],\n",
       " <a list of 30 Text xticklabel objects>)"
      ]
     },
     "execution_count": 42,
     "metadata": {},
     "output_type": "execute_result"
    },
    {
     "data": {
      "image/png": "[encoded data removed]",
      "text/plain": [
       "<Figure size 432x288 with 1 Axes>"
      ]
     },
     "metadata": {
      "needs_background": "light"
     },
     "output_type": "display_data"
    }
   ],
   "source": [
    "imp_dict={}\n",
    "rf.fit(X_train_x_G3,y_train_x_G3)\n",
    "y_pred_x_G3= rf.predict(X_test_x_G3)\n",
    "print(classification_report(y_pred_x_G3,y_test_x_G3))\n",
    "print(\"Kappa Score: \" +str(cohen_kappa_score(y_pred_x_G3,y_test_x_G3)))\n",
    "print(\"\\t\")\n",
    "for importance, name in sorted(zip(rf.feature_importances_, X_train_x_G3.columns),reverse=True):\n",
    "    imp_dict[name] = importance\n",
    "    print('Feature '+name+ ' and its importance is '+str(importance))\n",
    "plt.bar(range(len(imp_dict)), list(imp_dict.values()), align='center')\n",
    "plt.xticks(range(len(imp_dict)), list(imp_dict.keys()),rotation=90)"
   ]
  },
  {
   "cell_type": "code",
   "execution_count": 43,
   "metadata": {},
   "outputs": [
    {
     "name": "stdout",
     "output_type": "stream",
     "text": [
      "              precision    recall  f1-score   support\n",
      "\n",
      "           0       0.96      0.74      0.84       213\n",
      "           1       0.03      0.25      0.06         8\n",
      "\n",
      "    accuracy                           0.72       221\n",
      "   macro avg       0.50      0.49      0.45       221\n",
      "weighted avg       0.93      0.72      0.81       221\n",
      "\n",
      "Kappa Score: -0.0032215551325229796\n",
      "\t\n",
      "Feature absences.y and its importance is 0.07304463456478044\n",
      "Feature Fedu and its importance is 0.060990389223427574\n",
      "Feature Mjob and its importance is 0.054925883185616954\n",
      "Feature age and its importance is 0.054867121319989116\n",
      "Feature freetime.y and its importance is 0.05120252272686219\n",
      "Feature Medu and its importance is 0.04949200486852388\n",
      "Feature Walc.y and its importance is 0.04887302335014057\n",
      "Feature goout.y and its importance is 0.04847730273551648\n",
      "Feature health.y and its importance is 0.04631734362593659\n",
      "Feature reason and its importance is 0.04322317126397779\n",
      "Feature studytime.y and its importance is 0.03911918849150991\n",
      "Feature famrel.y and its importance is 0.038801473305538375\n",
      "Feature Fjob and its importance is 0.03811250045624512\n",
      "Feature guardian.y and its importance is 0.03535489959489496\n",
      "Feature traveltime.y and its importance is 0.03238641668928931\n",
      "Feature Dalc.y and its importance is 0.03176877172364863\n",
      "Feature sex and its importance is 0.024637057851002498\n",
      "Feature famsup.y and its importance is 0.023620051869131412\n",
      "Feature activities.y and its importance is 0.022831294735729958\n",
      "Feature nursery and its importance is 0.02257636450385396\n",
      "Feature romantic.y and its importance is 0.022390915793040686\n",
      "Feature failures.y and its importance is 0.021123556517066377\n",
      "Feature address and its importance is 0.019841468688017356\n",
      "Feature famsize and its importance is 0.019495495263272704\n",
      "Feature schoolsup.y and its importance is 0.01887841307641953\n",
      "Feature internet and its importance is 0.013679112019801057\n",
      "Feature school and its importance is 0.012558756320379462\n",
      "Feature higher.y and its importance is 0.010801712508586086\n",
      "Feature Pstatus and its importance is 0.010767972921159255\n",
      "Feature paid.y and its importance is 0.009841180806641599\n"
     ]
    },
    {
     "data": {
      "text/plain": [
       "([<matplotlib.axis.XTick at 0x7fd7928ad7d0>,\n",
       "  <matplotlib.axis.XTick at 0x7fd7927fd410>,\n",
       "  <matplotlib.axis.XTick at 0x7fd7924298d0>,\n",
       "  <matplotlib.axis.XTick at 0x7fd792863650>,\n",
       "  <matplotlib.axis.XTick at 0x7fd792863bd0>,\n",
       "  <matplotlib.axis.XTick at 0x7fd7929562d0>,\n",
       "  <matplotlib.axis.XTick at 0x7fd7929568d0>,\n",
       "  <matplotlib.axis.XTick at 0x7fd792956ed0>,\n",
       "  <matplotlib.axis.XTick at 0x7fd79295d590>,\n",
       "  <matplotlib.axis.XTick at 0x7fd792956590>,\n",
       "  <matplotlib.axis.XTick at 0x7fd79295d690>,\n",
       "  <matplotlib.axis.XTick at 0x7fd79295df10>,\n",
       "  <matplotlib.axis.XTick at 0x7fd792963590>,\n",
       "  <matplotlib.axis.XTick at 0x7fd792963bd0>,\n",
       "  <matplotlib.axis.XTick at 0x7fd79296b2d0>,\n",
       "  <matplotlib.axis.XTick at 0x7fd79296b890>,\n",
       "  <matplotlib.axis.XTick at 0x7fd79296bed0>,\n",
       "  <matplotlib.axis.XTick at 0x7fd792971550>,\n",
       "  <matplotlib.axis.XTick at 0x7fd792963610>,\n",
       "  <matplotlib.axis.XTick at 0x7fd79295da10>,\n",
       "  <matplotlib.axis.XTick at 0x7fd792971350>,\n",
       "  <matplotlib.axis.XTick at 0x7fd7929790d0>,\n",
       "  <matplotlib.axis.XTick at 0x7fd7929797d0>,\n",
       "  <matplotlib.axis.XTick at 0x7fd792979e10>,\n",
       "  <matplotlib.axis.XTick at 0x7fd79297f490>,\n",
       "  <matplotlib.axis.XTick at 0x7fd79297fad0>,\n",
       "  <matplotlib.axis.XTick at 0x7fd792986090>,\n",
       "  <matplotlib.axis.XTick at 0x7fd792979e90>,\n",
       "  <matplotlib.axis.XTick at 0x7fd792971d50>,\n",
       "  <matplotlib.axis.XTick at 0x7fd7929865d0>],\n",
       " <a list of 30 Text xticklabel objects>)"
      ]
     },
     "execution_count": 43,
     "metadata": {},
     "output_type": "execute_result"
    },
    {
     "data": {
      "image/png": "[encoded data removed]",
      "text/plain": [
       "<Figure size 432x288 with 1 Axes>"
      ]
     },
     "metadata": {
      "needs_background": "light"
     },
     "output_type": "display_data"
    }
   ],
   "source": [
    "imp_dict={}\n",
    "rf.fit(X_train_y_G1,y_train_y_G1)\n",
    "y_pred_y_G1 = rf.predict(X_test_y_G1)\n",
    "print(classification_report(y_pred_y_G1,y_test_y_G1))\n",
    "print(\"Kappa Score: \" +str(cohen_kappa_score(y_pred_y_G1,y_test_y_G1)))\n",
    "print(\"\\t\")\n",
    "for importance, name in sorted(zip(rf.feature_importances_, X_train_y_G1.columns),reverse=True):\n",
    "    imp_dict[name] = importance\n",
    "    print ('Feature '+name+ ' and its importance is '+str(importance))\n",
    "plt.bar(range(len(imp_dict)), list(imp_dict.values()), align='center')\n",
    "plt.xticks(range(len(imp_dict)), list(imp_dict.keys()),rotation=90)"
   ]
  },
  {
   "cell_type": "code",
   "execution_count": 44,
   "metadata": {},
   "outputs": [
    {
     "name": "stdout",
     "output_type": "stream",
     "text": [
      "              precision    recall  f1-score   support\n",
      "\n",
      "           0       0.95      0.69      0.80       208\n",
      "           1       0.08      0.46      0.14        13\n",
      "\n",
      "    accuracy                           0.67       221\n",
      "   macro avg       0.52      0.57      0.47       221\n",
      "weighted avg       0.90      0.67      0.76       221\n",
      "\n",
      "Kappa Score: 0.04821150855365486\n",
      "\t\n",
      "Feature absences.y and its importance is 0.07450580091258872\n",
      "Feature age and its importance is 0.05667417680339664\n",
      "Feature Mjob and its importance is 0.05474755511229221\n",
      "Feature health.y and its importance is 0.0529079284314695\n",
      "Feature Fedu and its importance is 0.051679800447405784\n",
      "Feature freetime.y and its importance is 0.05091867028662165\n",
      "Feature Walc.y and its importance is 0.05037439545069488\n",
      "Feature goout.y and its importance is 0.04930191622532977\n",
      "Feature Medu and its importance is 0.04899900472968653\n",
      "Feature studytime.y and its importance is 0.04472724709245437\n",
      "Feature famrel.y and its importance is 0.044457339890421325\n",
      "Feature reason and its importance is 0.04372137280735188\n",
      "Feature Fjob and its importance is 0.03900035904771858\n",
      "Feature traveltime.y and its importance is 0.0326698337337156\n",
      "Feature guardian.y and its importance is 0.030049801371083356\n",
      "Feature Dalc.y and its importance is 0.029957804950083263\n",
      "Feature romantic.y and its importance is 0.022503928114019217\n",
      "Feature famsize and its importance is 0.021874428904321706\n",
      "Feature activities.y and its importance is 0.021690225860629936\n",
      "Feature sex and its importance is 0.021080052377666286\n",
      "Feature famsup.y and its importance is 0.01945463871005586\n",
      "Feature address and its importance is 0.01845063484710234\n",
      "Feature nursery and its importance is 0.018273886138078906\n",
      "Feature schoolsup.y and its importance is 0.017744159552259615\n",
      "Feature failures.y and its importance is 0.016160725069532946\n",
      "Feature internet and its importance is 0.015336023770879316\n",
      "Feature school and its importance is 0.013741770465956062\n",
      "Feature higher.y and its importance is 0.01372586271963421\n",
      "Feature paid.y and its importance is 0.013029866350806489\n",
      "Feature Pstatus and its importance is 0.012240789826743075\n"
     ]
    },
    {
     "data": {
      "text/plain": [
       "([<matplotlib.axis.XTick at 0x7fd7929c0550>,\n",
       "  <matplotlib.axis.XTick at 0x7fd792ac4650>,\n",
       "  <matplotlib.axis.XTick at 0x7fd792ac43d0>,\n",
       "  <matplotlib.axis.XTick at 0x7fd7929ffb90>,\n",
       "  <matplotlib.axis.XTick at 0x7fd7929ffe10>,\n",
       "  <matplotlib.axis.XTick at 0x7fd792a0a750>,\n",
       "  <matplotlib.axis.XTick at 0x7fd792a0add0>,\n",
       "  <matplotlib.axis.XTick at 0x7fd7929ffe50>,\n",
       "  <matplotlib.axis.XTick at 0x7fd792a10090>,\n",
       "  <matplotlib.axis.XTick at 0x7fd792a10a90>,\n",
       "  <matplotlib.axis.XTick at 0x7fd792a10d10>,\n",
       "  <matplotlib.axis.XTick at 0x7fd792b0e750>,\n",
       "  <matplotlib.axis.XTick at 0x7fd792b0ed90>,\n",
       "  <matplotlib.axis.XTick at 0x7fd792b16410>,\n",
       "  <matplotlib.axis.XTick at 0x7fd792b16a50>,\n",
       "  <matplotlib.axis.XTick at 0x7fd792b16d90>,\n",
       "  <matplotlib.axis.XTick at 0x7fd792b0ee50>,\n",
       "  <matplotlib.axis.XTick at 0x7fd792a10b50>,\n",
       "  <matplotlib.axis.XTick at 0x7fd792b1d350>,\n",
       "  <matplotlib.axis.XTick at 0x7fd792b1dd90>,\n",
       "  <matplotlib.axis.XTick at 0x7fd792b25350>,\n",
       "  <matplotlib.axis.XTick at 0x7fd792b25990>,\n",
       "  <matplotlib.axis.XTick at 0x7fd792b25a90>,\n",
       "  <matplotlib.axis.XTick at 0x7fd792b2c650>,\n",
       "  <matplotlib.axis.XTick at 0x7fd792b2cc90>,\n",
       "  <matplotlib.axis.XTick at 0x7fd792b34310>,\n",
       "  <matplotlib.axis.XTick at 0x7fd792b2c550>,\n",
       "  <matplotlib.axis.XTick at 0x7fd792b1d710>,\n",
       "  <matplotlib.axis.XTick at 0x7fd792b34850>,\n",
       "  <matplotlib.axis.XTick at 0x7fd792b34e90>],\n",
       " <a list of 30 Text xticklabel objects>)"
      ]
     },
     "execution_count": 44,
     "metadata": {},
     "output_type": "execute_result"
    },
    {
     "data": {
      "image/png": "[encoded data removed]",
      "text/plain": [
       "<Figure size 432x288 with 1 Axes>"
      ]
     },
     "metadata": {
      "needs_background": "light"
     },
     "output_type": "display_data"
    }
   ],
   "source": [
    "imp_dict={}\n",
    "rf.fit(X_train_y_G3,y_train_y_G3)\n",
    "y_pred_y_G3 = rf.predict(X_test_y_G3)\n",
    "print(classification_report(y_pred_y_G3,y_test_y_G3))\n",
    "print(\"Kappa Score: \" +str(cohen_kappa_score(y_pred_y_G3,y_test_y_G3)))\n",
    "print(\"\\t\")\n",
    "for importance, name in sorted(zip(rf.feature_importances_, X_train_y_G3.columns),reverse=True):\n",
    "    imp_dict[name] = importance\n",
    "    print ('Feature '+name+ ' and its importance is '+str(importance))\n",
    "plt.bar(range(len(imp_dict)), list(imp_dict.values()), align='center')\n",
    "plt.xticks(range(len(imp_dict)), list(imp_dict.keys()),rotation=90)"
   ]
  },
  {
   "cell_type": "markdown",
   "metadata": {},
   "source": [
    "### Linear SVM"
   ]
  },
  {
   "cell_type": "code",
   "execution_count": 45,
   "metadata": {},
   "outputs": [],
   "source": [
    "lsvm = LinearSVC(max_iter=1000000)"
   ]
  },
  {
   "cell_type": "code",
   "execution_count": 46,
   "metadata": {},
   "outputs": [
    {
     "name": "stdout",
     "output_type": "stream",
     "text": [
      "              precision    recall  f1-score   support\n",
      "\n",
      "           0       0.99      0.85      0.92       191\n",
      "           1       0.50      0.97      0.66        30\n",
      "\n",
      "    accuracy                           0.86       221\n",
      "   macro avg       0.75      0.91      0.79       221\n",
      "weighted avg       0.93      0.86      0.88       221\n",
      "\n",
      "Kappa Score: 0.5847945891783567\n"
     ]
    }
   ],
   "source": [
    "lsvm.fit(X_train_x_G1,y_train_x_G1)\n",
    "y_pred_x_G1= lsvm.predict(X_test_x_G1)\n",
    "print(classification_report(y_pred_x_G1,y_test_x_G1))\n",
    "print(\"Kappa Score: \" +str(cohen_kappa_score(y_pred_x_G1,y_test_x_G1)))"
   ]
  },
  {
   "cell_type": "code",
   "execution_count": 47,
   "metadata": {},
   "outputs": [
    {
     "name": "stdout",
     "output_type": "stream",
     "text": [
      "              precision    recall  f1-score   support\n",
      "\n",
      "           0       0.97      0.82      0.89       178\n",
      "           1       0.55      0.91      0.68        43\n",
      "\n",
      "    accuracy                           0.84       221\n",
      "   macro avg       0.76      0.86      0.79       221\n",
      "weighted avg       0.89      0.84      0.85       221\n",
      "\n",
      "Kappa Score: 0.5831936295054485\n"
     ]
    }
   ],
   "source": [
    "lsvm.fit(X_train_x_G3,y_train_x_G3)\n",
    "y_pred_x_G3= lsvm.predict(X_test_x_G3)\n",
    "print(classification_report(y_pred_x_G3,y_test_x_G3))\n",
    "print(\"Kappa Score: \" +str(cohen_kappa_score(y_pred_x_G3,y_test_x_G3)))"
   ]
  },
  {
   "cell_type": "code",
   "execution_count": 48,
   "metadata": {},
   "outputs": [
    {
     "name": "stdout",
     "output_type": "stream",
     "text": [
      "              precision    recall  f1-score   support\n",
      "\n",
      "           0       0.99      0.74      0.85       218\n",
      "           1       0.03      0.67      0.07         3\n",
      "\n",
      "    accuracy                           0.74       221\n",
      "   macro avg       0.51      0.70      0.46       221\n",
      "weighted avg       0.98      0.74      0.84       221\n",
      "\n",
      "Kappa Score: 0.040813218609609514\n"
     ]
    }
   ],
   "source": [
    "lsvm.fit(X_train_y_G1,y_train_y_G1)\n",
    "y_pred_y_G1 = lsvm.predict(X_test_y_G1)\n",
    "print(classification_report(y_pred_y_G1,y_test_y_G1))\n",
    "print(\"Kappa Score: \" +str(cohen_kappa_score(y_pred_y_G1,y_test_y_G1)))"
   ]
  },
  {
   "cell_type": "code",
   "execution_count": 49,
   "metadata": {},
   "outputs": [
    {
     "name": "stdout",
     "output_type": "stream",
     "text": [
      "              precision    recall  f1-score   support\n",
      "\n",
      "           0       0.95      0.69      0.80       207\n",
      "           1       0.10      0.50      0.16        14\n",
      "\n",
      "    accuracy                           0.68       221\n",
      "   macro avg       0.53      0.60      0.48       221\n",
      "weighted avg       0.90      0.68      0.76       221\n",
      "\n",
      "Kappa Score: 0.06584509138536632\n"
     ]
    }
   ],
   "source": [
    "lsvm.fit(X_train_y_G3,y_train_y_G3)\n",
    "y_pred_y_G3 = lsvm.predict(X_test_y_G3)\n",
    "print(classification_report(y_pred_y_G3,y_test_y_G3))\n",
    "print(\"Kappa Score: \" +str(cohen_kappa_score(y_pred_y_G3,y_test_y_G3)))"
   ]
  },
  {
   "cell_type": "markdown",
   "metadata": {},
   "source": [
    "### Logistic Regression"
   ]
  },
  {
   "cell_type": "code",
   "execution_count": 50,
   "metadata": {},
   "outputs": [],
   "source": [
    "lg = LogisticRegression(random_state=0,max_iter=1000000)"
   ]
  },
  {
   "cell_type": "code",
   "execution_count": 51,
   "metadata": {},
   "outputs": [
    {
     "name": "stdout",
     "output_type": "stream",
     "text": [
      "              precision    recall  f1-score   support\n",
      "\n",
      "           0       0.99      0.84      0.91       191\n",
      "           1       0.48      0.93      0.64        30\n",
      "\n",
      "    accuracy                           0.86       221\n",
      "   macro avg       0.74      0.89      0.77       221\n",
      "weighted avg       0.92      0.86      0.87       221\n",
      "\n",
      "Kappa Score: 0.5571142284569138\n"
     ]
    }
   ],
   "source": [
    "lg.fit(X_train_x_G1,y_train_x_G1)\n",
    "y_pred_x_G1= lg.predict(X_test_x_G1)\n",
    "print(classification_report(y_pred_x_G1,y_test_x_G1))\n",
    "print(\"Kappa Score: \" +str(cohen_kappa_score(y_pred_x_G1,y_test_x_G1)))"
   ]
  },
  {
   "cell_type": "code",
   "execution_count": 52,
   "metadata": {},
   "outputs": [
    {
     "name": "stdout",
     "output_type": "stream",
     "text": [
      "              precision    recall  f1-score   support\n",
      "\n",
      "           0       0.97      0.82      0.89       179\n",
      "           1       0.54      0.90      0.67        42\n",
      "\n",
      "    accuracy                           0.83       221\n",
      "   macro avg       0.75      0.86      0.78       221\n",
      "weighted avg       0.89      0.83      0.85       221\n",
      "\n",
      "Kappa Score: 0.5698353411541901\n"
     ]
    }
   ],
   "source": [
    "lg.fit(X_train_x_G3,y_train_x_G3)\n",
    "y_pred_x_G3= lg.predict(X_test_x_G3)\n",
    "print(classification_report(y_pred_x_G3,y_test_x_G3))\n",
    "print(\"Kappa Score: \" +str(cohen_kappa_score(y_pred_x_G3,y_test_x_G3)))"
   ]
  },
  {
   "cell_type": "code",
   "execution_count": 53,
   "metadata": {},
   "outputs": [
    {
     "name": "stdout",
     "output_type": "stream",
     "text": [
      "              precision    recall  f1-score   support\n",
      "\n",
      "           0       0.98      0.74      0.85       215\n",
      "           1       0.05      0.50      0.09         6\n",
      "\n",
      "    accuracy                           0.74       221\n",
      "   macro avg       0.52      0.62      0.47       221\n",
      "weighted avg       0.96      0.74      0.83       221\n",
      "\n",
      "Kappa Score: 0.0468471148126115\n"
     ]
    }
   ],
   "source": [
    "lg.fit(X_train_y_G1,y_train_y_G1)\n",
    "y_pred_y_G1 = lg.predict(X_test_y_G1)\n",
    "print(classification_report(y_pred_y_G1,y_test_y_G1))\n",
    "print(\"Kappa Score: \" +str(cohen_kappa_score(y_pred_y_G1,y_test_y_G1)))"
   ]
  },
  {
   "cell_type": "code",
   "execution_count": 54,
   "metadata": {},
   "outputs": [
    {
     "name": "stdout",
     "output_type": "stream",
     "text": [
      "              precision    recall  f1-score   support\n",
      "\n",
      "           0       0.96      0.69      0.80       209\n",
      "           1       0.08      0.50      0.14        12\n",
      "\n",
      "    accuracy                           0.68       221\n",
      "   macro avg       0.52      0.59      0.47       221\n",
      "weighted avg       0.91      0.68      0.77       221\n",
      "\n",
      "Kappa Score: 0.05697457779914661\n"
     ]
    }
   ],
   "source": [
    "lg.fit(X_train_y_G3,y_train_y_G3)\n",
    "y_pred_y_G3 = lg.predict(X_test_y_G3)\n",
    "print(classification_report(y_pred_y_G3,y_test_y_G3))\n",
    "print(\"Kappa Score: \" +str(cohen_kappa_score(y_pred_y_G3,y_test_y_G3)))"
   ]
  },
  {
   "cell_type": "markdown",
   "metadata": {},
   "source": [
    "### Gradient Boosting"
   ]
  },
  {
   "cell_type": "code",
   "execution_count": 55,
   "metadata": {},
   "outputs": [],
   "source": [
    "gb = GradientBoostingClassifier(random_state=0)"
   ]
  },
  {
   "cell_type": "code",
   "execution_count": 56,
   "metadata": {},
   "outputs": [
    {
     "name": "stdout",
     "output_type": "stream",
     "text": [
      "              precision    recall  f1-score   support\n",
      "\n",
      "           0       0.98      0.86      0.92       185\n",
      "           1       0.57      0.92      0.70        36\n",
      "\n",
      "    accuracy                           0.87       221\n",
      "   macro avg       0.78      0.89      0.81       221\n",
      "weighted avg       0.91      0.87      0.88       221\n",
      "\n",
      "Kappa Score: 0.6271839980720568\n"
     ]
    }
   ],
   "source": [
    "gb.fit(X_train_x_G1,y_train_x_G1)\n",
    "y_pred_x_G1= gb.predict(X_test_x_G1)\n",
    "print(classification_report(y_pred_x_G1,y_test_x_G1))\n",
    "print(\"Kappa Score: \" +str(cohen_kappa_score(y_pred_x_G1,y_test_x_G1)))"
   ]
  },
  {
   "cell_type": "code",
   "execution_count": 57,
   "metadata": {},
   "outputs": [
    {
     "name": "stdout",
     "output_type": "stream",
     "text": [
      "              precision    recall  f1-score   support\n",
      "\n",
      "           0       0.97      0.83      0.90       174\n",
      "           1       0.59      0.89      0.71        47\n",
      "\n",
      "    accuracy                           0.85       221\n",
      "   macro avg       0.78      0.86      0.80       221\n",
      "weighted avg       0.89      0.85      0.86       221\n",
      "\n",
      "Kappa Score: 0.6127602556173986\n"
     ]
    }
   ],
   "source": [
    "gb.fit(X_train_x_G3,y_train_x_G3)\n",
    "y_pred_x_G3= gb.predict(X_test_x_G3)\n",
    "print(classification_report(y_pred_x_G3,y_test_x_G3))\n",
    "print(\"Kappa Score: \" +str(cohen_kappa_score(y_pred_x_G3,y_test_x_G3)))"
   ]
  },
  {
   "cell_type": "code",
   "execution_count": 58,
   "metadata": {},
   "outputs": [
    {
     "name": "stdout",
     "output_type": "stream",
     "text": [
      "              precision    recall  f1-score   support\n",
      "\n",
      "           0       0.94      0.75      0.83       204\n",
      "           1       0.12      0.41      0.19        17\n",
      "\n",
      "    accuracy                           0.72       221\n",
      "   macro avg       0.53      0.58      0.51       221\n",
      "weighted avg       0.88      0.72      0.78       221\n",
      "\n",
      "Kappa Score: 0.07683352735739235\n"
     ]
    }
   ],
   "source": [
    "gb.fit(X_train_y_G1,y_train_y_G1)\n",
    "y_pred_y_G1 = gb.predict(X_test_y_G1)\n",
    "print(classification_report(y_pred_y_G1,y_test_y_G1))\n",
    "print(\"Kappa Score: \" +str(cohen_kappa_score(y_pred_y_G1,y_test_y_G1)))"
   ]
  },
  {
   "cell_type": "code",
   "execution_count": 59,
   "metadata": {},
   "outputs": [
    {
     "name": "stdout",
     "output_type": "stream",
     "text": [
      "              precision    recall  f1-score   support\n",
      "\n",
      "           0       0.92      0.70      0.80       197\n",
      "           1       0.17      0.50      0.25        24\n",
      "\n",
      "    accuracy                           0.68       221\n",
      "   macro avg       0.54      0.60      0.52       221\n",
      "weighted avg       0.84      0.68      0.74       221\n",
      "\n",
      "Kappa Score: 0.10780690282595096\n"
     ]
    }
   ],
   "source": [
    "gb.fit(X_train_y_G3,y_train_y_G3)\n",
    "y_pred_y_G3 = gb.predict(X_test_y_G3)\n",
    "print(classification_report(y_pred_y_G3,y_test_y_G3))\n",
    "print(\"Kappa Score: \" +str(cohen_kappa_score(y_pred_y_G3,y_test_y_G3)))"
   ]
  }
 ],
 "metadata": {
  "kernelspec": {
   "display_name": "Python 3",
   "language": "python",
   "name": "python3"
  },
  "language_info": {
   "codemirror_mode": {
    "name": "ipython",
    "version": 3
   },
   "file_extension": ".py",
   "mimetype": "text/x-python",
   "name": "python",
   "nbconvert_exporter": "python",
   "pygments_lexer": "ipython3",
   "version": "3.7.4"
  }
 },
 "nbformat": 4,
 "nbformat_minor": 4
}
